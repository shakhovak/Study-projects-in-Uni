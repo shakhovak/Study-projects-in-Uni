{
  "cells": [
    {
      "cell_type": "markdown",
      "id": "41c1d7d5",
      "metadata": {
        "cellId": "dvpz3069ltomtlvlkl6dh",
        "execution_id": "b642eff7-e592-48b2-aec7-2815810c7e0b"
      },
      "source": [
        "# Инференс обученной модели + градио демо\n"
      ]
    },
    {
      "cell_type": "code",
      "execution_count": 1,
      "id": "dabff4c3",
      "metadata": {
        "cellId": "k7kp9dhjdgqtzbf5id7p9h",
        "collapsed": true,
        "jupyter": {
          "outputs_hidden": true
        }
      },
      "outputs": [
        {
          "name": "stdout",
          "output_type": "stream",
          "text": [
            "Defaulting to user installation because normal site-packages is not writeable\n",
            "Requirement already satisfied: gradio in /home/jupyter/.local/lib/python3.10/site-packages (4.3.0)\n",
            "Requirement already satisfied: aiofiles<24.0,>=22.0 in /home/jupyter/.local/lib/python3.10/site-packages (from gradio) (23.2.1)\n",
            "Requirement already satisfied: altair<6.0,>=4.2.0 in /usr/local/lib/python3.10/dist-packages (from gradio) (4.2.2)\n",
            "Requirement already satisfied: fastapi in /home/jupyter/.local/lib/python3.10/site-packages (from gradio) (0.104.1)\n",
            "Requirement already satisfied: ffmpy in /home/jupyter/.local/lib/python3.10/site-packages (from gradio) (0.3.1)\n",
            "Requirement already satisfied: gradio-client==0.7.0 in /home/jupyter/.local/lib/python3.10/site-packages (from gradio) (0.7.0)\n",
            "Requirement already satisfied: httpx in /home/jupyter/.local/lib/python3.10/site-packages (from gradio) (0.25.1)\n",
            "Requirement already satisfied: huggingface-hub>=0.14.0 in /home/jupyter/.local/lib/python3.10/site-packages (from gradio) (0.17.3)\n",
            "Requirement already satisfied: importlib-resources<7.0,>=1.3 in /usr/local/lib/python3.10/dist-packages (from gradio) (6.0.0)\n",
            "Requirement already satisfied: jinja2<4.0 in /kernel/lib/python3.10/site-packages (from gradio) (3.1.2)\n",
            "Requirement already satisfied: markupsafe~=2.0 in /kernel/lib/python3.10/site-packages (from gradio) (2.1.3)\n",
            "Requirement already satisfied: matplotlib~=3.0 in /home/jupyter/.local/lib/python3.10/site-packages (from gradio) (3.8.1)\n",
            "Requirement already satisfied: numpy~=1.0 in /usr/local/lib/python3.10/dist-packages (from gradio) (1.22.4)\n",
            "Requirement already satisfied: orjson~=3.0 in /usr/local/lib/python3.10/dist-packages (from gradio) (3.9.4)\n",
            "Requirement already satisfied: packaging in /kernel/lib/python3.10/site-packages (from gradio) (23.2)\n",
            "Requirement already satisfied: pandas<3.0,>=1.0 in /usr/local/lib/python3.10/dist-packages (from gradio) (1.5.3)\n",
            "Requirement already satisfied: pillow<11.0,>=8.0 in /kernel/lib/python3.10/site-packages (from gradio) (10.1.0)\n",
            "Requirement already satisfied: pydantic>=2.0 in /home/jupyter/.local/lib/python3.10/site-packages (from gradio) (2.5.1)\n",
            "Requirement already satisfied: pydub in /home/jupyter/.local/lib/python3.10/site-packages (from gradio) (0.25.1)\n",
            "Requirement already satisfied: python-multipart in /home/jupyter/.local/lib/python3.10/site-packages (from gradio) (0.0.6)\n",
            "Requirement already satisfied: pyyaml<7.0,>=5.0 in /usr/local/lib/python3.10/dist-packages (from gradio) (6.0.1)\n",
            "Requirement already satisfied: requests~=2.0 in /usr/local/lib/python3.10/dist-packages (from gradio) (2.27.1)\n",
            "Requirement already satisfied: semantic-version~=2.0 in /home/jupyter/.local/lib/python3.10/site-packages (from gradio) (2.10.0)\n",
            "Requirement already satisfied: tomlkit==0.12.0 in /home/jupyter/.local/lib/python3.10/site-packages (from gradio) (0.12.0)\n",
            "Requirement already satisfied: typer[all]<1.0,>=0.9 in /usr/local/lib/python3.10/dist-packages (from gradio) (0.9.0)\n",
            "Requirement already satisfied: typing-extensions~=4.0 in /kernel/lib/python3.10/site-packages (from gradio) (4.8.0)\n",
            "Requirement already satisfied: uvicorn>=0.14.0 in /home/jupyter/.local/lib/python3.10/site-packages (from gradio) (0.24.0.post1)\n",
            "Requirement already satisfied: fsspec in /home/jupyter/.local/lib/python3.10/site-packages (from gradio-client==0.7.0->gradio) (2023.10.0)\n",
            "Requirement already satisfied: websockets<12.0,>=10.0 in /home/jupyter/.local/lib/python3.10/site-packages (from gradio-client==0.7.0->gradio) (11.0.3)\n",
            "Requirement already satisfied: entrypoints in /usr/local/lib/python3.10/dist-packages (from altair<6.0,>=4.2.0->gradio) (0.4)\n",
            "Requirement already satisfied: jsonschema>=3.0 in /kernel/lib/python3.10/site-packages (from altair<6.0,>=4.2.0->gradio) (4.19.1)\n",
            "Requirement already satisfied: toolz in /usr/local/lib/python3.10/dist-packages (from altair<6.0,>=4.2.0->gradio) (0.12.0)\n",
            "Requirement already satisfied: filelock in /usr/local/lib/python3.10/dist-packages (from huggingface-hub>=0.14.0->gradio) (3.12.2)\n",
            "Requirement already satisfied: tqdm>=4.42.1 in /home/jupyter/.local/lib/python3.10/site-packages (from huggingface-hub>=0.14.0->gradio) (4.66.1)\n",
            "Requirement already satisfied: contourpy>=1.0.1 in /kernel/lib/python3.10/site-packages (from matplotlib~=3.0->gradio) (1.1.1)\n",
            "Requirement already satisfied: cycler>=0.10 in /kernel/lib/python3.10/site-packages (from matplotlib~=3.0->gradio) (0.12.1)\n",
            "Requirement already satisfied: fonttools>=4.22.0 in /kernel/lib/python3.10/site-packages (from matplotlib~=3.0->gradio) (4.43.1)\n",
            "Requirement already satisfied: kiwisolver>=1.3.1 in /kernel/lib/python3.10/site-packages (from matplotlib~=3.0->gradio) (1.4.5)\n",
            "Requirement already satisfied: pyparsing>=2.3.1 in /kernel/lib/python3.10/site-packages (from matplotlib~=3.0->gradio) (2.4.7)\n",
            "Requirement already satisfied: python-dateutil>=2.7 in /kernel/lib/python3.10/site-packages (from matplotlib~=3.0->gradio) (2.8.2)\n",
            "Requirement already satisfied: pytz>=2020.1 in /usr/local/lib/python3.10/dist-packages (from pandas<3.0,>=1.0->gradio) (2022.7.1)\n",
            "Requirement already satisfied: annotated-types>=0.4.0 in /home/jupyter/.local/lib/python3.10/site-packages (from pydantic>=2.0->gradio) (0.6.0)\n",
            "Requirement already satisfied: pydantic-core==2.14.3 in /home/jupyter/.local/lib/python3.10/site-packages (from pydantic>=2.0->gradio) (2.14.3)\n",
            "Collecting urllib3<1.27,>=1.21.1 (from requests~=2.0->gradio)\n",
            "  Obtaining dependency information for urllib3<1.27,>=1.21.1 from https://files.pythonhosted.org/packages/b0/53/aa91e163dcfd1e5b82d8a890ecf13314e3e149c05270cc644581f77f17fd/urllib3-1.26.18-py2.py3-none-any.whl.metadata\n",
            "  Downloading urllib3-1.26.18-py2.py3-none-any.whl.metadata (48 kB)\n",
            "\u001b[2K     \u001b[90m━━━━━━━━━━━━━━━━━━━━━━━━━━━━━━━━━━━━━━━\u001b[0m \u001b[32m48.9/48.9 kB\u001b[0m \u001b[31m638.9 kB/s\u001b[0m eta \u001b[36m0:00:00\u001b[0ma \u001b[36m0:00:01\u001b[0m\n",
            "\u001b[?25hRequirement already satisfied: certifi>=2017.4.17 in /kernel/lib/python3.10/site-packages (from requests~=2.0->gradio) (2023.7.22)\n",
            "Collecting charset-normalizer~=2.0.0 (from requests~=2.0->gradio)\n",
            "  Downloading charset_normalizer-2.0.12-py3-none-any.whl (39 kB)\n",
            "Requirement already satisfied: idna<4,>=2.5 in /kernel/lib/python3.10/site-packages (from requests~=2.0->gradio) (3.4)\n",
            "Requirement already satisfied: click<9.0.0,>=7.1.1 in /usr/local/lib/python3.10/dist-packages (from typer[all]<1.0,>=0.9->gradio) (8.1.6)\n",
            "Requirement already satisfied: colorama<0.5.0,>=0.4.3 in /usr/local/lib/python3.10/dist-packages (from typer[all]<1.0,>=0.9->gradio) (0.4.6)\n",
            "Requirement already satisfied: shellingham<2.0.0,>=1.3.0 in /home/jupyter/.local/lib/python3.10/site-packages (from typer[all]<1.0,>=0.9->gradio) (1.5.4)\n",
            "Requirement already satisfied: rich<14.0.0,>=10.11.0 in /usr/local/lib/python3.10/dist-packages (from typer[all]<1.0,>=0.9->gradio) (13.4.2)\n",
            "Requirement already satisfied: h11>=0.8 in /home/jupyter/.local/lib/python3.10/site-packages (from uvicorn>=0.14.0->gradio) (0.14.0)\n",
            "Requirement already satisfied: anyio<4.0.0,>=3.7.1 in /usr/local/lib/python3.10/dist-packages (from fastapi->gradio) (3.7.1)\n",
            "Requirement already satisfied: starlette<0.28.0,>=0.27.0 in /home/jupyter/.local/lib/python3.10/site-packages (from fastapi->gradio) (0.27.0)\n",
            "Requirement already satisfied: httpcore in /home/jupyter/.local/lib/python3.10/site-packages (from httpx->gradio) (1.0.2)\n",
            "Requirement already satisfied: sniffio in /usr/local/lib/python3.10/dist-packages (from httpx->gradio) (1.3.0)\n",
            "Requirement already satisfied: exceptiongroup in /usr/local/lib/python3.10/dist-packages (from anyio<4.0.0,>=3.7.1->fastapi->gradio) (1.1.2)\n",
            "Requirement already satisfied: attrs>=22.2.0 in /kernel/lib/python3.10/site-packages (from jsonschema>=3.0->altair<6.0,>=4.2.0->gradio) (23.1.0)\n",
            "Requirement already satisfied: jsonschema-specifications>=2023.03.6 in /kernel/lib/python3.10/site-packages (from jsonschema>=3.0->altair<6.0,>=4.2.0->gradio) (2023.7.1)\n",
            "Requirement already satisfied: referencing>=0.28.4 in /kernel/lib/python3.10/site-packages (from jsonschema>=3.0->altair<6.0,>=4.2.0->gradio) (0.30.2)\n",
            "Requirement already satisfied: rpds-py>=0.7.1 in /kernel/lib/python3.10/site-packages (from jsonschema>=3.0->altair<6.0,>=4.2.0->gradio) (0.10.6)\n",
            "Requirement already satisfied: six>=1.5 in /kernel/lib/python3.10/site-packages (from python-dateutil>=2.7->matplotlib~=3.0->gradio) (1.16.0)\n",
            "Requirement already satisfied: markdown-it-py>=2.2.0 in /usr/local/lib/python3.10/dist-packages (from rich<14.0.0,>=10.11.0->typer[all]<1.0,>=0.9->gradio) (3.0.0)\n",
            "Requirement already satisfied: pygments<3.0.0,>=2.13.0 in /kernel/lib/python3.10/site-packages (from rich<14.0.0,>=10.11.0->typer[all]<1.0,>=0.9->gradio) (2.16.1)\n",
            "Requirement already satisfied: mdurl~=0.1 in /usr/local/lib/python3.10/dist-packages (from markdown-it-py>=2.2.0->rich<14.0.0,>=10.11.0->typer[all]<1.0,>=0.9->gradio) (0.1.2)\n",
            "Downloading urllib3-1.26.18-py2.py3-none-any.whl (143 kB)\n",
            "\u001b[2K   \u001b[90m━━━━━━━━━━━━━━━━━━━━━━━━━━━━━━━━━━━━━━━━\u001b[0m \u001b[32m143.8/143.8 kB\u001b[0m \u001b[31m1.9 MB/s\u001b[0m eta \u001b[36m0:00:00\u001b[0m00:01\u001b[0m0:01\u001b[0m\n",
            "\u001b[?25hInstalling collected packages: urllib3, charset-normalizer\n",
            "\u001b[33m  WARNING: The script normalizer is installed in '/home/jupyter/.local/bin' which is not on PATH.\n",
            "  Consider adding this directory to PATH or, if you prefer to suppress this warning, use --no-warn-script-location.\u001b[0m\u001b[33m\n",
            "\u001b[0m\u001b[31mERROR: pip's dependency resolver does not currently take into account all the packages that are installed. This behaviour is the source of the following dependency conflicts.\n",
            "gcsfs 2023.6.0 requires fsspec==2023.6.0, but you have fsspec 2023.10.0 which is incompatible.\n",
            "spacy 3.5.4 requires pydantic!=1.8,!=1.8.1,<1.11.0,>=1.7.4, but you have pydantic 2.5.1 which is incompatible.\u001b[0m\u001b[31m\n",
            "\u001b[0mSuccessfully installed charset-normalizer-2.0.12 urllib3-1.26.18\n",
            "\n",
            "\u001b[1m[\u001b[0m\u001b[34;49mnotice\u001b[0m\u001b[1;39;49m]\u001b[0m\u001b[39;49m A new release of pip is available: \u001b[0m\u001b[31;49m23.2.1\u001b[0m\u001b[39;49m -> \u001b[0m\u001b[32;49m23.3.1\u001b[0m\n",
            "\u001b[1m[\u001b[0m\u001b[34;49mnotice\u001b[0m\u001b[1;39;49m]\u001b[0m\u001b[39;49m To update, run: \u001b[0m\u001b[32;49mpython3 -m pip install --upgrade pip\u001b[0m\n"
          ]
        }
      ],
      "source": [
        "#!g2.1\n",
        "%pip install gradio"
      ]
    },
    {
      "cell_type": "code",
      "execution_count": 2,
      "id": "c74ec238",
      "metadata": {
        "cellId": "ou9u1calbydipjpr0vwuoc"
      },
      "outputs": [],
      "source": [
        "#!g2.1\n",
        "import os\n",
        "import sys\n",
        "\n",
        "import fire\n",
        "import gradio as gr\n",
        "import torch\n",
        "import transformers\n",
        "from peft import PeftModel\n",
        "from transformers import GenerationConfig, LlamaForCausalLM, LlamaTokenizer"
      ]
    },
    {
      "cell_type": "code",
      "execution_count": 3,
      "id": "b5dc0cd4",
      "metadata": {
        "cellId": "yvunhuqrz6kflkpgmuxedl"
      },
      "outputs": [],
      "source": [
        "#!g2.1\n",
        "from typing import Union\n",
        "\n",
        "class Prompter(object):\n",
        "    \n",
        "    def generate_prompt(\n",
        "        self,\n",
        "        instruction: str,\n",
        "        label: Union[None, str] = None,\n",
        "    ) -> str:     \n",
        "\n",
        "        res = f\"{instruction}\\nAnswer: \"\n",
        "               \n",
        "        if label:\n",
        "            res = f\"{res}{label}\"\n",
        "         \n",
        "        return res\n",
        "\n",
        "\n",
        "    def get_response(self, output: str) -> str:\n",
        "        return output.split(\"Answer:\")[1].strip().replace(\"/\", \"\\u00F7\").replace(\"*\", \"\\u00D7\")"
      ]
    },
    {
      "cell_type": "code",
      "execution_count": 4,
      "id": "d131285e",
      "metadata": {
        "cellId": "iritlkeozpkeuqw1nwoys"
      },
      "outputs": [],
      "source": [
        "#!g2.1\n",
        "import warnings\n",
        "warnings.filterwarnings(\"ignore\")"
      ]
    },
    {
      "cell_type": "code",
      "execution_count": 5,
      "id": "9c40ed2e",
      "metadata": {
        "cellId": "55hjj08cacioi3bzxpr13h"
      },
      "outputs": [
        {
          "data": {
            "text/plain": [
              "device(type='cuda')"
            ]
          },
          "execution_count": 5,
          "metadata": {},
          "output_type": "execute_result"
        }
      ],
      "source": [
        "#!g2.1\n",
        "device = torch.device ('cuda' if torch.cuda.is_available() else 'cpu')\n",
        "device"
      ]
    },
    {
      "cell_type": "code",
      "execution_count": 6,
      "id": "6d1a534a",
      "metadata": {
        "cellId": "1ldwj5g2lhnt5kjpmtgygm"
      },
      "outputs": [
        {
          "data": {
            "application/vnd.jupyter.widget-view+json": {
              "model_id": "2428934cac58420386d54ad5f5cb0955",
              "version_major": 2,
              "version_minor": 0
            },
            "text/plain": [
              "Downloading (…)okenizer_config.json:   0%|          | 0.00/700 [00:00<?, ?B/s]"
            ]
          },
          "metadata": {},
          "output_type": "display_data"
        },
        {
          "data": {
            "application/vnd.jupyter.widget-view+json": {
              "model_id": "34f10563b82141debec223affeeedb10",
              "version_major": 2,
              "version_minor": 0
            },
            "text/plain": [
              "Downloading tokenizer.model:   0%|          | 0.00/500k [00:00<?, ?B/s]"
            ]
          },
          "metadata": {},
          "output_type": "display_data"
        },
        {
          "data": {
            "application/vnd.jupyter.widget-view+json": {
              "model_id": "b9b8490aaf0d49a68d109bb48594ab46",
              "version_major": 2,
              "version_minor": 0
            },
            "text/plain": [
              "Downloading (…)cial_tokens_map.json:   0%|          | 0.00/411 [00:00<?, ?B/s]"
            ]
          },
          "metadata": {},
          "output_type": "display_data"
        },
        {
          "data": {
            "application/vnd.jupyter.widget-view+json": {
              "model_id": "cf630a3edc1b4f508f3f8c45765f4c84",
              "version_major": 2,
              "version_minor": 0
            },
            "text/plain": [
              "Downloading (…)/main/tokenizer.json:   0%|          | 0.00/1.84M [00:00<?, ?B/s]"
            ]
          },
          "metadata": {},
          "output_type": "display_data"
        },
        {
          "name": "stderr",
          "output_type": "stream",
          "text": [
            "You are using the default legacy behaviour of the <class 'transformers.models.llama.tokenization_llama.LlamaTokenizer'>. This is expected, and simply means that the `legacy` (previous) behavior will be used so nothing changes for you. If you want to use the new behaviour, set `legacy=False`. This should only be set if you understand what it means, and thouroughly read the reason why this was added as explained in https://github.com/huggingface/transformers/pull/24565\n"
          ]
        },
        {
          "data": {
            "application/vnd.jupyter.widget-view+json": {
              "model_id": "b8faecd96e43420a8f08894f6e1a1c4b",
              "version_major": 2,
              "version_minor": 0
            },
            "text/plain": [
              "Downloading (…)lve/main/config.json:   0%|          | 0.00/428 [00:00<?, ?B/s]"
            ]
          },
          "metadata": {},
          "output_type": "display_data"
        },
        {
          "data": {
            "application/vnd.jupyter.widget-view+json": {
              "model_id": "1ffcd830211247a8bd7b68f7d47cc598",
              "version_major": 2,
              "version_minor": 0
            },
            "text/plain": [
              "Downloading (…)model.bin.index.json:   0%|          | 0.00/25.5k [00:00<?, ?B/s]"
            ]
          },
          "metadata": {},
          "output_type": "display_data"
        },
        {
          "data": {
            "application/vnd.jupyter.widget-view+json": {
              "model_id": "98a0d763264a401ab4201edd9493e64c",
              "version_major": 2,
              "version_minor": 0
            },
            "text/plain": [
              "Downloading shards:   0%|          | 0/33 [00:00<?, ?it/s]"
            ]
          },
          "metadata": {},
          "output_type": "display_data"
        },
        {
          "data": {
            "application/vnd.jupyter.widget-view+json": {
              "model_id": "ecb5eac056784176a9f59aca246008e0",
              "version_major": 2,
              "version_minor": 0
            },
            "text/plain": [
              "Downloading (…)l-00001-of-00033.bin:   0%|          | 0.00/405M [00:00<?, ?B/s]"
            ]
          },
          "metadata": {},
          "output_type": "display_data"
        },
        {
          "data": {
            "application/vnd.jupyter.widget-view+json": {
              "model_id": "f235a1985feb49d28a4710edd0f789b9",
              "version_major": 2,
              "version_minor": 0
            },
            "text/plain": [
              "Downloading (…)l-00002-of-00033.bin:   0%|          | 0.00/405M [00:00<?, ?B/s]"
            ]
          },
          "metadata": {},
          "output_type": "display_data"
        },
        {
          "data": {
            "application/vnd.jupyter.widget-view+json": {
              "model_id": "196bdcc60355475a82318782b8ab47ec",
              "version_major": 2,
              "version_minor": 0
            },
            "text/plain": [
              "Downloading (…)l-00003-of-00033.bin:   0%|          | 0.00/405M [00:00<?, ?B/s]"
            ]
          },
          "metadata": {},
          "output_type": "display_data"
        },
        {
          "data": {
            "application/vnd.jupyter.widget-view+json": {
              "model_id": "c63b0296c1254ff38f08da532ceaeec6",
              "version_major": 2,
              "version_minor": 0
            },
            "text/plain": [
              "Downloading (…)l-00004-of-00033.bin:   0%|          | 0.00/405M [00:00<?, ?B/s]"
            ]
          },
          "metadata": {},
          "output_type": "display_data"
        },
        {
          "data": {
            "application/vnd.jupyter.widget-view+json": {
              "model_id": "d2095626a90340d884c33c360a7d7b39",
              "version_major": 2,
              "version_minor": 0
            },
            "text/plain": [
              "Downloading (…)l-00005-of-00033.bin:   0%|          | 0.00/405M [00:00<?, ?B/s]"
            ]
          },
          "metadata": {},
          "output_type": "display_data"
        },
        {
          "data": {
            "application/vnd.jupyter.widget-view+json": {
              "model_id": "24355b070a724d84ac28477bfc7990ff",
              "version_major": 2,
              "version_minor": 0
            },
            "text/plain": [
              "Downloading (…)l-00006-of-00033.bin:   0%|          | 0.00/405M [00:00<?, ?B/s]"
            ]
          },
          "metadata": {},
          "output_type": "display_data"
        },
        {
          "data": {
            "application/vnd.jupyter.widget-view+json": {
              "model_id": "148a72c2619f494b82be4acd862b4866",
              "version_major": 2,
              "version_minor": 0
            },
            "text/plain": [
              "Downloading (…)l-00007-of-00033.bin:   0%|          | 0.00/405M [00:00<?, ?B/s]"
            ]
          },
          "metadata": {},
          "output_type": "display_data"
        },
        {
          "data": {
            "application/vnd.jupyter.widget-view+json": {
              "model_id": "1cff52772e2f4960a671adfab2c851f4",
              "version_major": 2,
              "version_minor": 0
            },
            "text/plain": [
              "Downloading (…)l-00008-of-00033.bin:   0%|          | 0.00/405M [00:00<?, ?B/s]"
            ]
          },
          "metadata": {},
          "output_type": "display_data"
        },
        {
          "data": {
            "application/vnd.jupyter.widget-view+json": {
              "model_id": "d2f55cb44f814d2b9f73e0735b8ef40c",
              "version_major": 2,
              "version_minor": 0
            },
            "text/plain": [
              "Downloading (…)l-00009-of-00033.bin:   0%|          | 0.00/405M [00:00<?, ?B/s]"
            ]
          },
          "metadata": {},
          "output_type": "display_data"
        },
        {
          "data": {
            "application/vnd.jupyter.widget-view+json": {
              "model_id": "b0d9c5e97ce34e4dbc3899528d5d5d37",
              "version_major": 2,
              "version_minor": 0
            },
            "text/plain": [
              "Downloading (…)l-00010-of-00033.bin:   0%|          | 0.00/405M [00:00<?, ?B/s]"
            ]
          },
          "metadata": {},
          "output_type": "display_data"
        },
        {
          "data": {
            "application/vnd.jupyter.widget-view+json": {
              "model_id": "532bf5e604d74a74a2e85ffe276ce73c",
              "version_major": 2,
              "version_minor": 0
            },
            "text/plain": [
              "Downloading (…)l-00011-of-00033.bin:   0%|          | 0.00/405M [00:00<?, ?B/s]"
            ]
          },
          "metadata": {},
          "output_type": "display_data"
        },
        {
          "data": {
            "application/vnd.jupyter.widget-view+json": {
              "model_id": "7b705936847747479195e2babf79af63",
              "version_major": 2,
              "version_minor": 0
            },
            "text/plain": [
              "Downloading (…)l-00012-of-00033.bin:   0%|          | 0.00/405M [00:00<?, ?B/s]"
            ]
          },
          "metadata": {},
          "output_type": "display_data"
        },
        {
          "data": {
            "application/vnd.jupyter.widget-view+json": {
              "model_id": "d0ff41c0dfb64ee582208bc2e5138c94",
              "version_major": 2,
              "version_minor": 0
            },
            "text/plain": [
              "Downloading (…)l-00013-of-00033.bin:   0%|          | 0.00/405M [00:00<?, ?B/s]"
            ]
          },
          "metadata": {},
          "output_type": "display_data"
        },
        {
          "data": {
            "application/vnd.jupyter.widget-view+json": {
              "model_id": "3e457d67e07c48849c7caa24c46d3df4",
              "version_major": 2,
              "version_minor": 0
            },
            "text/plain": [
              "Downloading (…)l-00014-of-00033.bin:   0%|          | 0.00/405M [00:00<?, ?B/s]"
            ]
          },
          "metadata": {},
          "output_type": "display_data"
        },
        {
          "data": {
            "application/vnd.jupyter.widget-view+json": {
              "model_id": "72db1d78320642e0bccc8c0e79e3baf8",
              "version_major": 2,
              "version_minor": 0
            },
            "text/plain": [
              "Downloading (…)l-00015-of-00033.bin:   0%|          | 0.00/405M [00:00<?, ?B/s]"
            ]
          },
          "metadata": {},
          "output_type": "display_data"
        },
        {
          "data": {
            "application/vnd.jupyter.widget-view+json": {
              "model_id": "bd28c3930fd44d728a168d5549a6788d",
              "version_major": 2,
              "version_minor": 0
            },
            "text/plain": [
              "Downloading (…)l-00016-of-00033.bin:   0%|          | 0.00/405M [00:00<?, ?B/s]"
            ]
          },
          "metadata": {},
          "output_type": "display_data"
        },
        {
          "data": {
            "application/vnd.jupyter.widget-view+json": {
              "model_id": "76cf02818aa04cedad52febce2cdc48c",
              "version_major": 2,
              "version_minor": 0
            },
            "text/plain": [
              "Downloading (…)l-00017-of-00033.bin:   0%|          | 0.00/405M [00:00<?, ?B/s]"
            ]
          },
          "metadata": {},
          "output_type": "display_data"
        },
        {
          "data": {
            "application/vnd.jupyter.widget-view+json": {
              "model_id": "5b981a91665440cc885eae168868a8f2",
              "version_major": 2,
              "version_minor": 0
            },
            "text/plain": [
              "Downloading (…)l-00018-of-00033.bin:   0%|          | 0.00/405M [00:00<?, ?B/s]"
            ]
          },
          "metadata": {},
          "output_type": "display_data"
        },
        {
          "data": {
            "application/vnd.jupyter.widget-view+json": {
              "model_id": "1e47967e71b14dc883a395018b2f355d",
              "version_major": 2,
              "version_minor": 0
            },
            "text/plain": [
              "Downloading (…)l-00019-of-00033.bin:   0%|          | 0.00/405M [00:00<?, ?B/s]"
            ]
          },
          "metadata": {},
          "output_type": "display_data"
        },
        {
          "data": {
            "application/vnd.jupyter.widget-view+json": {
              "model_id": "afe1053bcee8458ca85be393023b7e60",
              "version_major": 2,
              "version_minor": 0
            },
            "text/plain": [
              "Downloading (…)l-00020-of-00033.bin:   0%|          | 0.00/405M [00:00<?, ?B/s]"
            ]
          },
          "metadata": {},
          "output_type": "display_data"
        },
        {
          "data": {
            "application/vnd.jupyter.widget-view+json": {
              "model_id": "a8ce24779714458f898f869bc1689f67",
              "version_major": 2,
              "version_minor": 0
            },
            "text/plain": [
              "Downloading (…)l-00021-of-00033.bin:   0%|          | 0.00/405M [00:00<?, ?B/s]"
            ]
          },
          "metadata": {},
          "output_type": "display_data"
        },
        {
          "data": {
            "application/vnd.jupyter.widget-view+json": {
              "model_id": "e49340cc02c34be494b3ff09e81d1c80",
              "version_major": 2,
              "version_minor": 0
            },
            "text/plain": [
              "Downloading (…)l-00022-of-00033.bin:   0%|          | 0.00/405M [00:00<?, ?B/s]"
            ]
          },
          "metadata": {},
          "output_type": "display_data"
        },
        {
          "data": {
            "application/vnd.jupyter.widget-view+json": {
              "model_id": "bb27e221fb3e41a39759c5672ef0c843",
              "version_major": 2,
              "version_minor": 0
            },
            "text/plain": [
              "Downloading (…)l-00023-of-00033.bin:   0%|          | 0.00/405M [00:00<?, ?B/s]"
            ]
          },
          "metadata": {},
          "output_type": "display_data"
        },
        {
          "data": {
            "application/vnd.jupyter.widget-view+json": {
              "model_id": "2848632e623947a0836f3f078ef354ad",
              "version_major": 2,
              "version_minor": 0
            },
            "text/plain": [
              "Downloading (…)l-00024-of-00033.bin:   0%|          | 0.00/405M [00:00<?, ?B/s]"
            ]
          },
          "metadata": {},
          "output_type": "display_data"
        },
        {
          "data": {
            "application/vnd.jupyter.widget-view+json": {
              "model_id": "ae524a0c204b44bfba7ad5f57d864c2d",
              "version_major": 2,
              "version_minor": 0
            },
            "text/plain": [
              "Downloading (…)l-00025-of-00033.bin:   0%|          | 0.00/405M [00:00<?, ?B/s]"
            ]
          },
          "metadata": {},
          "output_type": "display_data"
        },
        {
          "data": {
            "application/vnd.jupyter.widget-view+json": {
              "model_id": "a6eb1f4c815f4225823bc2f40cfdefb1",
              "version_major": 2,
              "version_minor": 0
            },
            "text/plain": [
              "Downloading (…)l-00026-of-00033.bin:   0%|          | 0.00/405M [00:00<?, ?B/s]"
            ]
          },
          "metadata": {},
          "output_type": "display_data"
        },
        {
          "data": {
            "application/vnd.jupyter.widget-view+json": {
              "model_id": "77d0be154c264edba0ae983b0ee4edbf",
              "version_major": 2,
              "version_minor": 0
            },
            "text/plain": [
              "Downloading (…)l-00027-of-00033.bin:   0%|          | 0.00/405M [00:00<?, ?B/s]"
            ]
          },
          "metadata": {},
          "output_type": "display_data"
        },
        {
          "data": {
            "application/vnd.jupyter.widget-view+json": {
              "model_id": "210d62f123174e8b8a2e231d5835594a",
              "version_major": 2,
              "version_minor": 0
            },
            "text/plain": [
              "Downloading (…)l-00028-of-00033.bin:   0%|          | 0.00/405M [00:00<?, ?B/s]"
            ]
          },
          "metadata": {},
          "output_type": "display_data"
        },
        {
          "data": {
            "application/vnd.jupyter.widget-view+json": {
              "model_id": "74171c19f802471ca927853fead15a3a",
              "version_major": 2,
              "version_minor": 0
            },
            "text/plain": [
              "Downloading (…)l-00029-of-00033.bin:   0%|          | 0.00/405M [00:00<?, ?B/s]"
            ]
          },
          "metadata": {},
          "output_type": "display_data"
        },
        {
          "data": {
            "application/vnd.jupyter.widget-view+json": {
              "model_id": "219499585d5f405b952f531941951f99",
              "version_major": 2,
              "version_minor": 0
            },
            "text/plain": [
              "Downloading (…)l-00030-of-00033.bin:   0%|          | 0.00/405M [00:00<?, ?B/s]"
            ]
          },
          "metadata": {},
          "output_type": "display_data"
        },
        {
          "data": {
            "application/vnd.jupyter.widget-view+json": {
              "model_id": "d79bec2270c74cd689f17a109b43e432",
              "version_major": 2,
              "version_minor": 0
            },
            "text/plain": [
              "Downloading (…)l-00031-of-00033.bin:   0%|          | 0.00/405M [00:00<?, ?B/s]"
            ]
          },
          "metadata": {},
          "output_type": "display_data"
        },
        {
          "data": {
            "application/vnd.jupyter.widget-view+json": {
              "model_id": "3ca32fe1e9374f8588888dc6d775ab82",
              "version_major": 2,
              "version_minor": 0
            },
            "text/plain": [
              "Downloading (…)l-00032-of-00033.bin:   0%|          | 0.00/405M [00:00<?, ?B/s]"
            ]
          },
          "metadata": {},
          "output_type": "display_data"
        },
        {
          "data": {
            "application/vnd.jupyter.widget-view+json": {
              "model_id": "9685eaf0063044e68f773dd38522b953",
              "version_major": 2,
              "version_minor": 0
            },
            "text/plain": [
              "Downloading (…)l-00033-of-00033.bin:   0%|          | 0.00/524M [00:00<?, ?B/s]"
            ]
          },
          "metadata": {},
          "output_type": "display_data"
        },
        {
          "data": {
            "application/vnd.jupyter.widget-view+json": {
              "model_id": "a47f35c3471d4820b14fc768bfdf31c9",
              "version_major": 2,
              "version_minor": 0
            },
            "text/plain": [
              "Loading checkpoint shards:   0%|          | 0/33 [00:00<?, ?it/s]"
            ]
          },
          "metadata": {},
          "output_type": "display_data"
        },
        {
          "data": {
            "application/vnd.jupyter.widget-view+json": {
              "model_id": "e543b5d49ba745b1a9c0523c881f9c3a",
              "version_major": 2,
              "version_minor": 0
            },
            "text/plain": [
              "Downloading (…)neration_config.json:   0%|          | 0.00/124 [00:00<?, ?B/s]"
            ]
          },
          "metadata": {},
          "output_type": "display_data"
        },
        {
          "data": {
            "application/vnd.jupyter.widget-view+json": {
              "model_id": "60b141d970f345ab813f91123be7fa5e",
              "version_major": 2,
              "version_minor": 0
            },
            "text/plain": [
              "Downloading (…)/adapter_config.json:   0%|          | 0.00/533 [00:00<?, ?B/s]"
            ]
          },
          "metadata": {},
          "output_type": "display_data"
        },
        {
          "data": {
            "application/vnd.jupyter.widget-view+json": {
              "model_id": "bacb44e9f7a049ec851c5ca835c4b9ab",
              "version_major": 2,
              "version_minor": 0
            },
            "text/plain": [
              "Downloading (…)er_model.safetensors:   0%|          | 0.00/268M [00:00<?, ?B/s]"
            ]
          },
          "metadata": {},
          "output_type": "display_data"
        },
        {
          "data": {
            "text/plain": [
              "PeftModelForCausalLM(\n",
              "  (base_model): LoraModel(\n",
              "    (model): LlamaForCausalLM(\n",
              "      (model): LlamaModel(\n",
              "        (embed_tokens): Embedding(32000, 4096, padding_idx=31999)\n",
              "        (layers): ModuleList(\n",
              "          (0-31): 32 x LlamaDecoderLayer(\n",
              "            (self_attn): LlamaAttention(\n",
              "              (q_proj): Linear8bitLt(\n",
              "                (lora_dropout): ModuleDict(\n",
              "                  (default): Dropout(p=0.05, inplace=False)\n",
              "                )\n",
              "                (lora_A): ModuleDict(\n",
              "                  (default): Linear(in_features=4096, out_features=64, bias=False)\n",
              "                )\n",
              "                (lora_B): ModuleDict(\n",
              "                  (default): Linear(in_features=64, out_features=4096, bias=False)\n",
              "                )\n",
              "                (lora_embedding_A): ParameterDict()\n",
              "                (lora_embedding_B): ParameterDict()\n",
              "                (base_layer): Linear8bitLt(in_features=4096, out_features=4096, bias=False)\n",
              "              )\n",
              "              (k_proj): Linear8bitLt(\n",
              "                (lora_dropout): ModuleDict(\n",
              "                  (default): Dropout(p=0.05, inplace=False)\n",
              "                )\n",
              "                (lora_A): ModuleDict(\n",
              "                  (default): Linear(in_features=4096, out_features=64, bias=False)\n",
              "                )\n",
              "                (lora_B): ModuleDict(\n",
              "                  (default): Linear(in_features=64, out_features=4096, bias=False)\n",
              "                )\n",
              "                (lora_embedding_A): ParameterDict()\n",
              "                (lora_embedding_B): ParameterDict()\n",
              "                (base_layer): Linear8bitLt(in_features=4096, out_features=4096, bias=False)\n",
              "              )\n",
              "              (v_proj): Linear8bitLt(\n",
              "                (lora_dropout): ModuleDict(\n",
              "                  (default): Dropout(p=0.05, inplace=False)\n",
              "                )\n",
              "                (lora_A): ModuleDict(\n",
              "                  (default): Linear(in_features=4096, out_features=64, bias=False)\n",
              "                )\n",
              "                (lora_B): ModuleDict(\n",
              "                  (default): Linear(in_features=64, out_features=4096, bias=False)\n",
              "                )\n",
              "                (lora_embedding_A): ParameterDict()\n",
              "                (lora_embedding_B): ParameterDict()\n",
              "                (base_layer): Linear8bitLt(in_features=4096, out_features=4096, bias=False)\n",
              "              )\n",
              "              (o_proj): Linear8bitLt(\n",
              "                (lora_dropout): ModuleDict(\n",
              "                  (default): Dropout(p=0.05, inplace=False)\n",
              "                )\n",
              "                (lora_A): ModuleDict(\n",
              "                  (default): Linear(in_features=4096, out_features=64, bias=False)\n",
              "                )\n",
              "                (lora_B): ModuleDict(\n",
              "                  (default): Linear(in_features=64, out_features=4096, bias=False)\n",
              "                )\n",
              "                (lora_embedding_A): ParameterDict()\n",
              "                (lora_embedding_B): ParameterDict()\n",
              "                (base_layer): Linear8bitLt(in_features=4096, out_features=4096, bias=False)\n",
              "              )\n",
              "              (rotary_emb): LlamaRotaryEmbedding()\n",
              "            )\n",
              "            (mlp): LlamaMLP(\n",
              "              (gate_proj): Linear8bitLt(in_features=4096, out_features=11008, bias=False)\n",
              "              (up_proj): Linear8bitLt(in_features=4096, out_features=11008, bias=False)\n",
              "              (down_proj): Linear8bitLt(in_features=11008, out_features=4096, bias=False)\n",
              "              (act_fn): SiLUActivation()\n",
              "            )\n",
              "            (input_layernorm): LlamaRMSNorm()\n",
              "            (post_attention_layernorm): LlamaRMSNorm()\n",
              "          )\n",
              "        )\n",
              "        (norm): LlamaRMSNorm()\n",
              "      )\n",
              "      (lm_head): Linear(in_features=4096, out_features=32000, bias=False)\n",
              "    )\n",
              "  )\n",
              ")"
            ]
          },
          "execution_count": 6,
          "metadata": {},
          "output_type": "execute_result"
        }
      ],
      "source": [
        "#!g2.1\n",
        "base_model = \"baffo32/decapoda-research-llama-7B-hf\"\n",
        "lora_weights = \"Shakhovak/HW5_Llama2_arithmetic\"  # новый чек-пойнт после доп обучения 'Shakhovak/HW5_Llama2_arithmetic_2'\n",
        "prompter = Prompter()\n",
        "tokenizer = LlamaTokenizer.from_pretrained(\"huggyllama/llama-7b\")\n",
        "\n",
        "model = LlamaForCausalLM.from_pretrained(\n",
        "    base_model,\n",
        "    load_in_8bit=True,\n",
        "    torch_dtype=torch.float16,\n",
        "    device_map=\"auto\",\n",
        ")\n",
        "model = PeftModel.from_pretrained(\n",
        "    model,\n",
        "    lora_weights,\n",
        "    torch_dtype=torch.float16,\n",
        "    device_map={\"\": 0},\n",
        ")\n",
        "\n",
        "model.eval()"
      ]
    },
    {
      "cell_type": "code",
      "execution_count": 7,
      "id": "09428e7d",
      "metadata": {
        "cellId": "kir6vtns1eqkp48fq9mc3k"
      },
      "outputs": [],
      "source": [
        "#!g2.1\n",
        "def evaluat(\n",
        "    text,\n",
        "    temperature=0.1,\n",
        "    do_sample = True,\n",
        "    top_p=0.75,\n",
        "    top_k=40,\n",
        "    num_beams=2,\n",
        "    max_new_tokens=512,\n",
        "    stream_output=True,\n",
        "    **kwargs,\n",
        "):\n",
        "    prompt = prompter.generate_prompt(text)\n",
        "    inputs = tokenizer(prompt, return_tensors=\"pt\")\n",
        "    input_ids = inputs[\"input_ids\"].to(device)\n",
        "    generation_config = GenerationConfig(\n",
        "        temperature=temperature,\n",
        "        top_p=top_p,\n",
        "        top_k=top_k,\n",
        "        num_beams=num_beams,\n",
        "        **kwargs,\n",
        "    )\n",
        "\n",
        "    generate_params = {\n",
        "        \"input_ids\": input_ids,\n",
        "        \"generation_config\": generation_config,\n",
        "        \"return_dict_in_generate\": True,\n",
        "        \"output_scores\": True,\n",
        "        \"max_new_tokens\": max_new_tokens,\n",
        "    }\n",
        "\n",
        "    # Without streaming\n",
        "    with torch.no_grad():\n",
        "        generation_output = model.generate(\n",
        "            input_ids=input_ids,\n",
        "            generation_config=generation_config,\n",
        "            return_dict_in_generate=True,\n",
        "            output_scores=True,\n",
        "            max_new_tokens=max_new_tokens,\n",
        "        )\n",
        "    s = generation_output.sequences[0]\n",
        "    output = tokenizer.decode(s, skip_special_tokens=True).strip()\n",
        "    \n",
        "    return prompter.get_response(output)"
      ]
    },
    {
      "cell_type": "code",
      "execution_count": 8,
      "id": "295b5ac2",
      "metadata": {
        "cellId": "unj4bgrsx4pngaxkqmqp8m"
      },
      "outputs": [
        {
          "data": {
            "text/plain": [
              "Dataset({\n",
              "    features: ['output', 'answer', 'input', 'instruction', 'input_ids', 'attention_mask', 'labels'],\n",
              "    num_rows: 73\n",
              "})"
            ]
          },
          "execution_count": 8,
          "metadata": {},
          "output_type": "execute_result"
        }
      ],
      "source": [
        "#!g2.1\n",
        "from datasets import load_from_disk\n",
        "\n",
        "val_data = load_from_disk(\"val_data.hf\")\n",
        "val_data"
      ]
    },
    {
      "cell_type": "code",
      "execution_count": 9,
      "id": "002fc83d",
      "metadata": {
        "cellId": "sz8nvwu4u6sz5601bnvd"
      },
      "outputs": [
        {
          "data": {
            "application/vnd.jupyter.widget-view+json": {
              "model_id": "d9381994146c4572919f769e59d39922",
              "version_major": 2,
              "version_minor": 0
            },
            "text/plain": [
              "  0%|          | 0/73 [00:00<?, ?it/s]"
            ]
          },
          "metadata": {},
          "output_type": "display_data"
        },
        {
          "name": "stderr",
          "output_type": "stream",
          "text": [
            "2023-11-16 10:28:53.709945: W tensorflow/compiler/tf2tensorrt/utils/py_utils.cc:38] TF-TRT Warning: Could not find TensorRT\n"
          ]
        }
      ],
      "source": [
        "#!g2.1\n",
        "from tqdm import tqdm_notebook\n",
        "answers = []\n",
        "for i in tqdm_notebook(val_data):\n",
        "    answers.append(evaluat(i['instruction']))"
      ]
    },
    {
      "cell_type": "code",
      "execution_count": 10,
      "id": "d36709fd",
      "metadata": {
        "cellId": "z05zr7m2033e4xvdd5qsw"
      },
      "outputs": [
        {
          "data": {
            "application/vnd.jupyter.widget-view+json": {
              "model_id": "eebf63f3f3ad4ebf952d75cff6568d65",
              "version_major": 2,
              "version_minor": 0
            },
            "text/plain": [
              "Downloading builder script:   0%|          | 0.00/5.67k [00:00<?, ?B/s]"
            ]
          },
          "metadata": {},
          "output_type": "display_data"
        }
      ],
      "source": [
        "#!g2.1\n",
        "import evaluate\n",
        "metric = evaluate.load(\"exact_match\")"
      ]
    },
    {
      "cell_type": "code",
      "execution_count": 11,
      "id": "36b8dcb0",
      "metadata": {
        "cellId": "8enge1dua3do5iob4xwbtf"
      },
      "outputs": [
        {
          "data": {
            "text/plain": [
              "'Total % of correct answers: 0.4657534246575342'"
            ]
          },
          "metadata": {},
          "output_type": "display_data"
        },
        {
          "data": {
            "text/plain": [
              "'======================='"
            ]
          },
          "metadata": {},
          "output_type": "display_data"
        },
        {
          "data": {
            "text/plain": [
              "('91 * 94 = 94 * (90 + 1) = 94 * 90 + 94 * 1 = 8460 + 94 = 8554',\n",
              " '91 * 94 = 94 * (90 + 1) = 94 * 90 + 94 * 1 = 8460 + 94 = 8554',\n",
              " {'exact_match': 1.0})"
            ]
          },
          "metadata": {},
          "output_type": "display_data"
        },
        {
          "data": {
            "text/plain": [
              "'==========================='"
            ]
          },
          "metadata": {},
          "output_type": "display_data"
        },
        {
          "data": {
            "text/plain": [
              "('8387734 + 294 = 8388028', '8387734 + 294 = 8387763', {'exact_match': 0.0})"
            ]
          },
          "metadata": {},
          "output_type": "display_data"
        },
        {
          "data": {
            "text/plain": [
              "'==========================='"
            ]
          },
          "metadata": {},
          "output_type": "display_data"
        },
        {
          "data": {
            "text/plain": [
              "('1437 / 4 = 359 R 1', '1437 / 4 = 360 R 3', {'exact_match': 0.0})"
            ]
          },
          "metadata": {},
          "output_type": "display_data"
        },
        {
          "data": {
            "text/plain": [
              "'==========================='"
            ]
          },
          "metadata": {},
          "output_type": "display_data"
        },
        {
          "data": {
            "text/plain": [
              "('3778175 / 5 = 755635', '3778175 / 5 = 755635', {'exact_match': 1.0})"
            ]
          },
          "metadata": {},
          "output_type": "display_data"
        },
        {
          "data": {
            "text/plain": [
              "'==========================='"
            ]
          },
          "metadata": {},
          "output_type": "display_data"
        },
        {
          "data": {
            "text/plain": [
              "('1336951 - 673 * 1000 = 1336951 - 673000 = 663951\\n663951 - 673 * 900 = 663951 - 605700 = 58251\\n58251 - 673 * 80 = 58251 - 53840 = 4411\\n4411 - 673 * 6 = 4411 - 4038 = 373\\nTherefore, 1336951 / 673 = 1986 R 373',\n",
              " '1336951 - 673 * 2000 = 1336951 - 1346000 = 10451\\n10451 - 673 * 10 = 10451 - 6730 = 3721\\n3721 - 673 * 5 = 3721 - 3365 = 356\\nTherefore, 1336951 / 673 = 1989 R 356',\n",
              " {'exact_match': 0.0})"
            ]
          },
          "metadata": {},
          "output_type": "display_data"
        },
        {
          "data": {
            "text/plain": [
              "'==========================='"
            ]
          },
          "metadata": {},
          "output_type": "display_data"
        },
        {
          "data": {
            "text/plain": [
              "('4968103886 / 9 = 552011542 R 8',\n",
              " '4968103886 / 9 = 557666509 R 6',\n",
              " {'exact_match': 0.0})"
            ]
          },
          "metadata": {},
          "output_type": "display_data"
        },
        {
          "data": {
            "text/plain": [
              "'==========================='"
            ]
          },
          "metadata": {},
          "output_type": "display_data"
        },
        {
          "data": {
            "text/plain": [
              "('5250365 + 499969 = 5750334',\n",
              " '5250365 + 499969 = 5740334',\n",
              " {'exact_match': 0.0})"
            ]
          },
          "metadata": {},
          "output_type": "display_data"
        },
        {
          "data": {
            "text/plain": [
              "'==========================='"
            ]
          },
          "metadata": {},
          "output_type": "display_data"
        },
        {
          "data": {
            "text/plain": [
              "('71810 - 68 * 1000 = 71810 - 68000 = 3810\\n3810 - 68 * 50 = 3810 - 3400 = 410\\n410 - 68 * 6 = 410 - 408 = 2\\nTherefore, 71810 / 68 = 1056 R 2',\n",
              " '71810 - 68 * 1000 = 71810 - 68000 = 3810\\n3810 - 68 * 50 = 3810 - 3400 = 410\\n410 - 68 * 6 = 410 - 412 = -2\\nTherefore, 71810 / 68 = 1050 R 2',\n",
              " {'exact_match': 0.0})"
            ]
          },
          "metadata": {},
          "output_type": "display_data"
        },
        {
          "data": {
            "text/plain": [
              "'==========================='"
            ]
          },
          "metadata": {},
          "output_type": "display_data"
        },
        {
          "data": {
            "text/plain": [
              "('84782 * 4 = 339128', '84782 * 4 = 339128', {'exact_match': 1.0})"
            ]
          },
          "metadata": {},
          "output_type": "display_data"
        },
        {
          "data": {
            "text/plain": [
              "'==========================='"
            ]
          },
          "metadata": {},
          "output_type": "display_data"
        },
        {
          "data": {
            "text/plain": [
              "('86098 - 2035911 = -1949813',\n",
              " '86098 - 2035911 = -1950813',\n",
              " {'exact_match': 0.0})"
            ]
          },
          "metadata": {},
          "output_type": "display_data"
        },
        {
          "data": {
            "text/plain": [
              "'==========================='"
            ]
          },
          "metadata": {},
          "output_type": "display_data"
        },
        {
          "data": {
            "text/plain": [
              "('123624 - 303 * 400 = 123624 - 121200 = 2424\\n2424 - 303 * 8 = 2424 - 2424 = 0\\nTherefore, 123624 / 303 = 408',\n",
              " '123624 - 303 * 400 = 123624 - 121200 = 2424\\n2424 - 303 * 8 = 2424 - 2424 = 0\\nTherefore, 123624 / 303 = 408',\n",
              " {'exact_match': 1.0})"
            ]
          },
          "metadata": {},
          "output_type": "display_data"
        },
        {
          "data": {
            "text/plain": [
              "'==========================='"
            ]
          },
          "metadata": {},
          "output_type": "display_data"
        },
        {
          "data": {
            "text/plain": [
              "('15856 - 36855443 = -36839587',\n",
              " '15856 - 36855443 = -36839587',\n",
              " {'exact_match': 1.0})"
            ]
          },
          "metadata": {},
          "output_type": "display_data"
        },
        {
          "data": {
            "text/plain": [
              "'==========================='"
            ]
          },
          "metadata": {},
          "output_type": "display_data"
        },
        {
          "data": {
            "text/plain": [
              "('985125 - 248445 * 3 = 985125 - 745335 = 239790\\nTherefore, 985125 / 248445 = 3 R 239790',\n",
              " '985125 - 248445 * 4 = 985125 - 999780 = -14655\\nTherefore, 985125 / 248445 = 3 R 14655',\n",
              " {'exact_match': 0.0})"
            ]
          },
          "metadata": {},
          "output_type": "display_data"
        },
        {
          "data": {
            "text/plain": [
              "'==========================='"
            ]
          },
          "metadata": {},
          "output_type": "display_data"
        },
        {
          "data": {
            "text/plain": [
              "('1 - 9854569779 = -9854569778',\n",
              " '1 - 9854569779 = -9854569778',\n",
              " {'exact_match': 1.0})"
            ]
          },
          "metadata": {},
          "output_type": "display_data"
        },
        {
          "data": {
            "text/plain": [
              "'==========================='"
            ]
          },
          "metadata": {},
          "output_type": "display_data"
        },
        {
          "data": {
            "text/plain": [
              "('964922128 - 368 * 2000000 = 964922128 - 736000000 = 228922128\\n228922128 - 368 * 600000 = 228922128 - 220800000 = 8122128\\n8122128 - 368 * 20000 = 8122128 - 7360000 = 762128\\n762128 - 368 * 2000 = 762128 - 736000 = 26128\\n26128 - 368 * 70 = 26128 - 25760 = 368\\n368 - 368 * 1 = 368 - 368 = 0\\nTherefore, 964922128 / 368 = 2622071',\n",
              " '964922128 - 368 * 2000000 = 964922128 - 736000000 = 228922128\\n228922128 - 368 * 600000 = 228922128 - 210800000 = 18122128\\n18122128 - 368 * 40000 = 18122128 - 14720000 = 3402128\\n3402128 - 368 * 9000 = 3402128 - 3312000 = 90128\\n90128 - 368 * 200 = 90128 - 73600 = 16528\\n16528 - 368 * 40 = 16528 - 14720 = 1808\\n1808 - 368 * 4 = 1808 - 1472 = 336\\nTherefore, 964922128 / 368 = 2618888 R 336',\n",
              " {'exact_match': 0.0})"
            ]
          },
          "metadata": {},
          "output_type": "display_data"
        },
        {
          "data": {
            "text/plain": [
              "'==========================='"
            ]
          },
          "metadata": {},
          "output_type": "display_data"
        },
        {
          "data": {
            "text/plain": [
              "('3506592 * 32 = 3506592 * (30 + 2) = 3506592 * 30 + 3506592 * 2 = 105197760 + 7013184 = 112210944',\n",
              " '3506592 * 32 = 3506592 * (30 + 2) = 3506592 * 30 + 3506592 * 2 = 105207760 + 7013184 = 112220944',\n",
              " {'exact_match': 0.0})"
            ]
          },
          "metadata": {},
          "output_type": "display_data"
        },
        {
          "data": {
            "text/plain": [
              "'==========================='"
            ]
          },
          "metadata": {},
          "output_type": "display_data"
        },
        {
          "data": {
            "text/plain": [
              "('96440689 / 1 = 96440689', '96440689 / 1 = 96440689', {'exact_match': 1.0})"
            ]
          },
          "metadata": {},
          "output_type": "display_data"
        },
        {
          "data": {
            "text/plain": [
              "'==========================='"
            ]
          },
          "metadata": {},
          "output_type": "display_data"
        },
        {
          "data": {
            "text/plain": [
              "('38 + 23 = 61', '38 + 23 = 61', {'exact_match': 1.0})"
            ]
          },
          "metadata": {},
          "output_type": "display_data"
        },
        {
          "data": {
            "text/plain": [
              "'==========================='"
            ]
          },
          "metadata": {},
          "output_type": "display_data"
        },
        {
          "data": {
            "text/plain": [
              "('42459 * 60251 = 60251 * (40000 + 2000 + 400 + 50 + 9) = 60251 * 40000 + 60251 * 2000 + 60251 * 400 + 60251 * 50 + 60251 * 9 = 2410040000 + 120502000 + 24100400 + 3012550 + 542259 = 2530542000 + 24100400 + 3012550 + 542259 = 2554642400 + 3012550 + 542259 = 2557654950 + 542259 = 2558197209',\n",
              " '42459 * 60251 = 60251 * (40000 + 2000 + 400 + 50 + 9) = 60251 * 40000 + 60251 * 2000 + 60251 * 400 + 60251 * 50 + 60251 * 9 = 2410040000 + 120502000 + 24100400 + 3012550 + 542259 = 2530542000 + 24100400 + 3012550 + 542259 = 2554642400 + 3012550 + 542259 = 2557654950 + 542259 = 2558197209',\n",
              " {'exact_match': 1.0})"
            ]
          },
          "metadata": {},
          "output_type": "display_data"
        },
        {
          "data": {
            "text/plain": [
              "'==========================='"
            ]
          },
          "metadata": {},
          "output_type": "display_data"
        },
        {
          "data": {
            "text/plain": [
              "('49063172 - 82849401 = -33786229',\n",
              " '49063172 - 82849401 = -33786229',\n",
              " {'exact_match': 1.0})"
            ]
          },
          "metadata": {},
          "output_type": "display_data"
        },
        {
          "data": {
            "text/plain": [
              "'==========================='"
            ]
          },
          "metadata": {},
          "output_type": "display_data"
        },
        {
          "data": {
            "text/plain": [
              "('8346712152 - 2276275285 = 6070436867',\n",
              " '8346712152 - 2276275285 = 6070436867',\n",
              " {'exact_match': 1.0})"
            ]
          },
          "metadata": {},
          "output_type": "display_data"
        },
        {
          "data": {
            "text/plain": [
              "'==========================='"
            ]
          },
          "metadata": {},
          "output_type": "display_data"
        },
        {
          "data": {
            "text/plain": [
              "('6819277 + 78939 = 6898216',\n",
              " '6819277 + 78939 = 6898216',\n",
              " {'exact_match': 1.0})"
            ]
          },
          "metadata": {},
          "output_type": "display_data"
        },
        {
          "data": {
            "text/plain": [
              "'==========================='"
            ]
          },
          "metadata": {},
          "output_type": "display_data"
        },
        {
          "data": {
            "text/plain": [
              "('2736910184 + 5247771440 = 7984681624',\n",
              " '2736910184 + 5247771440 = 7984681624',\n",
              " {'exact_match': 1.0})"
            ]
          },
          "metadata": {},
          "output_type": "display_data"
        },
        {
          "data": {
            "text/plain": [
              "'==========================='"
            ]
          },
          "metadata": {},
          "output_type": "display_data"
        },
        {
          "data": {
            "text/plain": [
              "('634383204 - 659442 * 900 = 634383204 - 593497800 = 40885404\\n40885404 - 659442 * 60 = 40885404 - 39566520 = 1318884\\n1318884 - 659442 * 2 = 1318884 - 1318884 = 0\\nTherefore, 634383204 / 659442 = 962',\n",
              " '634383204 - 659442 * 900 = 634383204 - 593497800 = 40885404\\n40885404 - 659442 * 60 = 40885404 - 39566520 = 1318884\\n1318884 - 659442 * 2 = 1318884 - 1318884 = 0\\nTherefore, 634383204 / 659442 = 966',\n",
              " {'exact_match': 0.0})"
            ]
          },
          "metadata": {},
          "output_type": "display_data"
        },
        {
          "data": {
            "text/plain": [
              "'==========================='"
            ]
          },
          "metadata": {},
          "output_type": "display_data"
        },
        {
          "data": {
            "text/plain": [
              "('800761203 + 15696773 = 816457976',\n",
              " '800761203 + 15696773 = 816458076',\n",
              " {'exact_match': 0.0})"
            ]
          },
          "metadata": {},
          "output_type": "display_data"
        },
        {
          "data": {
            "text/plain": [
              "'==========================='"
            ]
          },
          "metadata": {},
          "output_type": "display_data"
        },
        {
          "data": {
            "text/plain": [
              "('38184 * 16348 = 38184 * (10000 + 6000 + 300 + 40 + 8) = 38184 * 10000 + 38184 * 6000 + 38184 * 300 + 38184 * 40 + 38184 * 8 = 381840000 + 229104000 + 11455200 + 1527360 + 305472 = 610944000 + 11455200 + 1527360 + 305472 = 622399200 + 1527360 + 305472 = 623926560 + 305472 = 624232032',\n",
              " '38184 * 16348 = 38184 * (10000 + 6000 + 300 + 40 + 8) = 38184 * 10000 + 38184 * 6000 + 38184 * 300 + 38184 * 40 + 38184 * 8 = 381840000 + 229084000 + 11454200 + 1527360 + 304672 = 610924000 + 11454200 + 1527360 + 304672 = 622378200 + 1527360 + 304672 = 623905560 + 304672 = 624210232',\n",
              " {'exact_match': 0.0})"
            ]
          },
          "metadata": {},
          "output_type": "display_data"
        },
        {
          "data": {
            "text/plain": [
              "'==========================='"
            ]
          },
          "metadata": {},
          "output_type": "display_data"
        },
        {
          "data": {
            "text/plain": [
              "('3186 / 5 = 637 R 1', '3186 / 5 = 637 R 2', {'exact_match': 0.0})"
            ]
          },
          "metadata": {},
          "output_type": "display_data"
        },
        {
          "data": {
            "text/plain": [
              "'==========================='"
            ]
          },
          "metadata": {},
          "output_type": "display_data"
        },
        {
          "data": {
            "text/plain": [
              "('74487364 * 40000 = 2979494560000',\n",
              " '74487364 * 40000 = 2979494560000',\n",
              " {'exact_match': 1.0})"
            ]
          },
          "metadata": {},
          "output_type": "display_data"
        },
        {
          "data": {
            "text/plain": [
              "'==========================='"
            ]
          },
          "metadata": {},
          "output_type": "display_data"
        },
        {
          "data": {
            "text/plain": [
              "('802752388 + 787260412 = 1590012800',\n",
              " '802752388 + 787260412 = 1600012790',\n",
              " {'exact_match': 0.0})"
            ]
          },
          "metadata": {},
          "output_type": "display_data"
        },
        {
          "data": {
            "text/plain": [
              "'==========================='"
            ]
          },
          "metadata": {},
          "output_type": "display_data"
        },
        {
          "data": {
            "text/plain": [
              "('51231796 - 902 * 50000 = 51231796 - 45100000 = 6131796\\n6131796 - 902 * 6000 = 6131796 - 5412000 = 719796\\n719796 - 902 * 700 = 719796 - 631400 = 88396\\n88396 - 902 * 90 = 88396 - 81180 = 7216\\n7216 - 902 * 8 = 7216 - 7216 = 0\\nTherefore, 51231796 / 902 = 56798',\n",
              " '51231796 - 902 * 50000 = 51231796 - 45100000 = 6131796\\n6131796 - 902 * 6000 = 6131796 - 5412000 = 719796\\n719796 - 902 * 700 = 719796 - 631400 = 88396\\n88396 - 902 * 90 = 88396 - 81180 = 7216\\n7216 - 902 * 8 = 7216 - 7216 = 0\\nTherefore, 51231796 / 902 = 56806',\n",
              " {'exact_match': 0.0})"
            ]
          },
          "metadata": {},
          "output_type": "display_data"
        },
        {
          "data": {
            "text/plain": [
              "'==========================='"
            ]
          },
          "metadata": {},
          "output_type": "display_data"
        },
        {
          "data": {
            "text/plain": [
              "('765555 - 548 = 765007', '765555 - 548 = 765007', {'exact_match': 1.0})"
            ]
          },
          "metadata": {},
          "output_type": "display_data"
        },
        {
          "data": {
            "text/plain": [
              "'==========================='"
            ]
          },
          "metadata": {},
          "output_type": "display_data"
        },
        {
          "data": {
            "text/plain": [
              "('5571475 - 2015 * 2000 = 5571475 - 4030000 = 1541475\\n1541475 - 2015 * 700 = 1541475 - 1410500 = 130975\\n130975 - 2015 * 60 = 130975 - 120900 = 10075\\n10075 - 2015 * 5 = 10075 - 10075 = 0\\nTherefore, 5571475 / 2015 = 2765',\n",
              " '5571475 - 2015 * 2000 = 5571475 - 4030000 = 1541475\\n1541475 - 2015 * 700 = 1541475 - 1410500 = 130975\\n130975 - 2015 * 60 = 130975 - 120900 = 10075\\n10075 - 2015 * 5 = 10075 - 10075 = 0\\nTherefore, 5571475 / 2015 = 2791',\n",
              " {'exact_match': 0.0})"
            ]
          },
          "metadata": {},
          "output_type": "display_data"
        },
        {
          "data": {
            "text/plain": [
              "'==========================='"
            ]
          },
          "metadata": {},
          "output_type": "display_data"
        },
        {
          "data": {
            "text/plain": [
              "('93853144080 - 899998 * 100000 = 93853144080 - 89999800000 = 3853344080\\n3853344080 - 899998 * 4000 = 3853344080 - 3599992000 = 253352080\\n253352080 - 899998 * 200 = 253352080 - 179999600 = 73352480\\n73352480 - 899998 * 80 = 73352480 - 71999840 = 1352640\\n1352640 - 899998 * 1 = 1352640 - 899998 = 452642\\nTherefore, 93853144080 / 899998 = 104281 R 452642',\n",
              " '93853144080 - 899998 * 100000 = 93853144080 - 89999800000 = 3853344080\\n3853344080 - 899998 * 4000 = 3853344080 - 3599992000 = 253352080\\n253352080 - 899998 * 200 = 253352080 - 179999600 = 73352480\\n73352480 - 899998 * 80 = 73352480 - 71999840 = 1352640\\n1352640 - 899998 * 1 = 1352640 - 899998 = 452642\\nTherefore, 93853144080 / 899998 = 104816 R 452642',\n",
              " {'exact_match': 0.0})"
            ]
          },
          "metadata": {},
          "output_type": "display_data"
        },
        {
          "data": {
            "text/plain": [
              "'==========================='"
            ]
          },
          "metadata": {},
          "output_type": "display_data"
        },
        {
          "data": {
            "text/plain": [
              "('19 * 6 = 114', '19 * 6 = 114', {'exact_match': 1.0})"
            ]
          },
          "metadata": {},
          "output_type": "display_data"
        },
        {
          "data": {
            "text/plain": [
              "'==========================='"
            ]
          },
          "metadata": {},
          "output_type": "display_data"
        },
        {
          "data": {
            "text/plain": [
              "('6793748 / 3 = 2264582 R 2', '6793748 / 3 = 2264246', {'exact_match': 0.0})"
            ]
          },
          "metadata": {},
          "output_type": "display_data"
        },
        {
          "data": {
            "text/plain": [
              "'==========================='"
            ]
          },
          "metadata": {},
          "output_type": "display_data"
        },
        {
          "data": {
            "text/plain": [
              "('7670875033 - 1757206934 = 5913668099',\n",
              " '7670875033 - 1757206934 = 5913668099',\n",
              " {'exact_match': 1.0})"
            ]
          },
          "metadata": {},
          "output_type": "display_data"
        },
        {
          "data": {
            "text/plain": [
              "'==========================='"
            ]
          },
          "metadata": {},
          "output_type": "display_data"
        },
        {
          "data": {
            "text/plain": [
              "('49 * 60140196 = 60140196 * (40 + 9) = 60140196 * 40 + 60140196 * 9 = 2405607840 + 541261764 = 2946869604',\n",
              " '49 * 60140196 = 60140196 * (40 + 9) = 60140196 * 40 + 60140196 * 9 = 2405607840 + 541261764 = 2946869504',\n",
              " {'exact_match': 0.0})"
            ]
          },
          "metadata": {},
          "output_type": "display_data"
        },
        {
          "data": {
            "text/plain": [
              "'==========================='"
            ]
          },
          "metadata": {},
          "output_type": "display_data"
        },
        {
          "data": {
            "text/plain": [
              "('621 * 9003746 = 9003746 * (600 + 20 + 1) = 9003746 * 600 + 9003746 * 20 + 9003746 * 1 = 5402247600 + 180074920 + 9003746 = 5582322520 + 9003746 = 5591326266',\n",
              " '621 * 9003746 = 9003746 * (600 + 20 + 1) = 9003746 * 600 + 9003746 * 20 + 9003746 * 1 = 5402247600 + 180074920 + 9003746 = 5582322520 + 9003746 = 5591326266',\n",
              " {'exact_match': 1.0})"
            ]
          },
          "metadata": {},
          "output_type": "display_data"
        },
        {
          "data": {
            "text/plain": [
              "'==========================='"
            ]
          },
          "metadata": {},
          "output_type": "display_data"
        },
        {
          "data": {
            "text/plain": [
              "('930020 - 260 * 3000 = 930020 - 780000 = 150020\\n150020 - 260 * 500 = 150020 - 130000 = 20020\\n20020 - 260 * 70 = 20020 - 18200 = 1820\\n1820 - 260 * 7 = 1820 - 1820 = 0\\nTherefore, 930020 / 260 = 3577',\n",
              " '930020 - 260 * 3000 = 930020 - 780000 = 150020\\n150020 - 260 * 500 = 150020 - 130000 = 20020\\n20020 - 260 * 70 = 20020 - 18200 = 1820\\n1820 - 260 * 7 = 1820 - 1820 = 0\\nTherefore, 930020 / 260 = 3600',\n",
              " {'exact_match': 0.0})"
            ]
          },
          "metadata": {},
          "output_type": "display_data"
        },
        {
          "data": {
            "text/plain": [
              "'==========================='"
            ]
          },
          "metadata": {},
          "output_type": "display_data"
        },
        {
          "data": {
            "text/plain": [
              "('5349432924 - 550605 * 9000 = 5349432924 - 4955445000 = 393987924\\n393987924 - 550605 * 700 = 393987924 - 385423500 = 8564424\\n8564424 - 550605 * 10 = 8564424 - 5506050 = 3058374\\n3058374 - 550605 * 5 = 3058374 - 2753025 = 305349\\nTherefore, 5349432924 / 550605 = 9715 R 305349',\n",
              " '5349432924 - 550605 * 9000 = 5349432924 - 5055445000 = 293987924\\n293987924 - 550605 * 500 = 293987924 - 275302500 = 18685424\\n18685424 - 550605 * 30 = 18685424 - 16518150 = 2167274\\n2167274 - 550605 * 4 = 2167274 - 2202420 = -35148\\nTherefore, 5349432924 / 550605 = 9691 R 35148',\n",
              " {'exact_match': 0.0})"
            ]
          },
          "metadata": {},
          "output_type": "display_data"
        },
        {
          "data": {
            "text/plain": [
              "'==========================='"
            ]
          },
          "metadata": {},
          "output_type": "display_data"
        },
        {
          "data": {
            "text/plain": [
              "('263920 - 58 * 4000 = 263920 - 232000 = 31920\\n31920 - 58 * 500 = 31920 - 29000 = 2920\\n2920 - 58 * 50 = 2920 - 2900 = 20\\nTherefore, 263920 / 58 = 4550 R 20',\n",
              " '263920 - 58 * 4000 = 263920 - 232000 = 31920\\n31920 - 58 * 500 = 31920 - 29000 = 2920\\n2920 - 58 * 50 = 2920 - 2900 = 20\\nTherefore, 263920 / 58 = 4440 R 20',\n",
              " {'exact_match': 0.0})"
            ]
          },
          "metadata": {},
          "output_type": "display_data"
        },
        {
          "data": {
            "text/plain": [
              "'==========================='"
            ]
          },
          "metadata": {},
          "output_type": "display_data"
        },
        {
          "data": {
            "text/plain": [
              "('3175 * 6059 = 6059 * (3000 + 100 + 70 + 5) = 6059 * 3000 + 6059 * 100 + 6059 * 70 + 6059 * 5 = 18177000 + 605900 + 424130 + 30295 = 18782900 + 424130 + 30295 = 19207030 + 30295 = 19237325',\n",
              " '3175 * 6059 = 6059 * (3000 + 100 + 70 + 5) = 6059 * 3000 + 6059 * 100 + 6059 * 70 + 6059 * 5 = 18177000 + 605900 + 424130 + 30295 = 18782900 + 424130 + 30295 = 19207030 + 30295 = 19237325',\n",
              " {'exact_match': 1.0})"
            ]
          },
          "metadata": {},
          "output_type": "display_data"
        },
        {
          "data": {
            "text/plain": [
              "'==========================='"
            ]
          },
          "metadata": {},
          "output_type": "display_data"
        },
        {
          "data": {
            "text/plain": [
              "('31555 - 44 * 700 = 31555 - 30800 = 755\\n755 - 44 * 10 = 755 - 440 = 315\\n315 - 44 * 7 = 315 - 308 = 7\\nTherefore, 31555 / 44 = 717 R 7',\n",
              " '31555 - 44 * 700 = 31555 - 30800 = 755\\n755 - 44 * 10 = 755 - 440 = 315\\n315 - 44 * 7 = 315 - 308 = 7\\nTherefore, 31555 / 44 = 710 R 7',\n",
              " {'exact_match': 0.0})"
            ]
          },
          "metadata": {},
          "output_type": "display_data"
        },
        {
          "data": {
            "text/plain": [
              "'==========================='"
            ]
          },
          "metadata": {},
          "output_type": "display_data"
        },
        {
          "data": {
            "text/plain": [
              "('563 * 539 = 563 * (500 + 30 + 9) = 563 * 500 + 563 * 30 + 563 * 9 = 281500 + 16890 + 5067 = 298390 + 5067 = 303457',\n",
              " '563 * 539 = 563 * (500 + 30 + 9) = 563 * 500 + 563 * 30 + 563 * 9 = 281500 + 16890 + 4967 = 308390 + 4967 = 313357',\n",
              " {'exact_match': 0.0})"
            ]
          },
          "metadata": {},
          "output_type": "display_data"
        },
        {
          "data": {
            "text/plain": [
              "'==========================='"
            ]
          },
          "metadata": {},
          "output_type": "display_data"
        },
        {
          "data": {
            "text/plain": [
              "('33582 - 3910063 = -3876481',\n",
              " '33582 - 3910063 = -3876481',\n",
              " {'exact_match': 1.0})"
            ]
          },
          "metadata": {},
          "output_type": "display_data"
        },
        {
          "data": {
            "text/plain": [
              "'==========================='"
            ]
          },
          "metadata": {},
          "output_type": "display_data"
        },
        {
          "data": {
            "text/plain": [
              "('346 * 21 = 346 * (20 + 1) = 346 * 20 + 346 * 1 = 6920 + 346 = 7266',\n",
              " '346 * 21 = 346 * (20 + 1) = 346 * 20 + 346 * 1 = 6920 + 346 = 7266',\n",
              " {'exact_match': 1.0})"
            ]
          },
          "metadata": {},
          "output_type": "display_data"
        },
        {
          "data": {
            "text/plain": [
              "'==========================='"
            ]
          },
          "metadata": {},
          "output_type": "display_data"
        },
        {
          "data": {
            "text/plain": [
              "('7663 - 46 = 7617', '7663 - 46 = 7617', {'exact_match': 1.0})"
            ]
          },
          "metadata": {},
          "output_type": "display_data"
        },
        {
          "data": {
            "text/plain": [
              "'==========================='"
            ]
          },
          "metadata": {},
          "output_type": "display_data"
        },
        {
          "data": {
            "text/plain": [
              "('6855552 / 8 = 856944', '6855552 / 8 = 869111 R 6', {'exact_match': 0.0})"
            ]
          },
          "metadata": {},
          "output_type": "display_data"
        },
        {
          "data": {
            "text/plain": [
              "'==========================='"
            ]
          },
          "metadata": {},
          "output_type": "display_data"
        },
        {
          "data": {
            "text/plain": [
              "('2282 * 99281 = 99281 * (2000 + 200 + 80 + 2) = 99281 * 2000 + 99281 * 200 + 99281 * 80 + 99281 * 2 = 198562000 + 19856200 + 7942480 + 198562 = 218418200 + 7942480 + 198562 = 226360680 + 198562 = 226559242',\n",
              " '2282 * 99281 = 99281 * (2000 + 200 + 80 + 2) = 99281 * 2000 + 99281 * 200 + 99281 * 80 + 99281 * 2 = 198562000 + 19856200 + 7950480 + 198562 = 218418200 + 7950480 + 198562 = 226368680 + 198562 = 226567242',\n",
              " {'exact_match': 0.0})"
            ]
          },
          "metadata": {},
          "output_type": "display_data"
        },
        {
          "data": {
            "text/plain": [
              "'==========================='"
            ]
          },
          "metadata": {},
          "output_type": "display_data"
        },
        {
          "data": {
            "text/plain": [
              "('827147620 / 10 = 82714762',\n",
              " '827147620 / 10 = 82714762',\n",
              " {'exact_match': 1.0})"
            ]
          },
          "metadata": {},
          "output_type": "display_data"
        },
        {
          "data": {
            "text/plain": [
              "'==========================='"
            ]
          },
          "metadata": {},
          "output_type": "display_data"
        },
        {
          "data": {
            "text/plain": [
              "('0 * 417258 = 0', '0 * 417258 = 0', {'exact_match': 1.0})"
            ]
          },
          "metadata": {},
          "output_type": "display_data"
        },
        {
          "data": {
            "text/plain": [
              "'==========================='"
            ]
          },
          "metadata": {},
          "output_type": "display_data"
        },
        {
          "data": {
            "text/plain": [
              "('937536067 - 390913909 = 546622158',\n",
              " '937536067 - 390913909 = 546622158',\n",
              " {'exact_match': 1.0})"
            ]
          },
          "metadata": {},
          "output_type": "display_data"
        },
        {
          "data": {
            "text/plain": [
              "'==========================='"
            ]
          },
          "metadata": {},
          "output_type": "display_data"
        },
        {
          "data": {
            "text/plain": [
              "('1534231566 * 9 = 13808084094',\n",
              " '1534231566 * 9 = 13808084194',\n",
              " {'exact_match': 0.0})"
            ]
          },
          "metadata": {},
          "output_type": "display_data"
        },
        {
          "data": {
            "text/plain": [
              "'==========================='"
            ]
          },
          "metadata": {},
          "output_type": "display_data"
        },
        {
          "data": {
            "text/plain": [
              "('62441 - 9992511 = -9930070',\n",
              " '62441 - 9992511 = -9930070',\n",
              " {'exact_match': 1.0})"
            ]
          },
          "metadata": {},
          "output_type": "display_data"
        },
        {
          "data": {
            "text/plain": [
              "'==========================='"
            ]
          },
          "metadata": {},
          "output_type": "display_data"
        },
        {
          "data": {
            "text/plain": [
              "('364 + 421650124 = 421650488',\n",
              " '364 + 421650124 = 421650488',\n",
              " {'exact_match': 1.0})"
            ]
          },
          "metadata": {},
          "output_type": "display_data"
        },
        {
          "data": {
            "text/plain": [
              "'==========================='"
            ]
          },
          "metadata": {},
          "output_type": "display_data"
        },
        {
          "data": {
            "text/plain": [
              "('16 - 238 = -222', '16 - 238 = -222', {'exact_match': 1.0})"
            ]
          },
          "metadata": {},
          "output_type": "display_data"
        },
        {
          "data": {
            "text/plain": [
              "'==========================='"
            ]
          },
          "metadata": {},
          "output_type": "display_data"
        },
        {
          "data": {
            "text/plain": [
              "('74793 - 50 * 1000 = 74793 - 50000 = 24793\\n24793 - 50 * 400 = 24793 - 20000 = 4793\\n4793 - 50 * 90 = 4793 - 4500 = 293\\n293 - 50 * 5 = 293 - 250 = 43\\nTherefore, 74793 / 50 = 1495 R 43',\n",
              " '74793 - 50 * 1000 = 74793 - 50000 = 24793\\n24793 - 50 * 400 = 24793 - 20000 = 4793\\n4793 - 50 * 90 = 4793 - 4500 = 293\\n293 - 50 * 5 = 293 - 250 = 43\\nTherefore, 74793 / 50 = 1495 R 43',\n",
              " {'exact_match': 1.0})"
            ]
          },
          "metadata": {},
          "output_type": "display_data"
        },
        {
          "data": {
            "text/plain": [
              "'==========================='"
            ]
          },
          "metadata": {},
          "output_type": "display_data"
        },
        {
          "data": {
            "text/plain": [
              "('7462878 - 300790 = 7162088',\n",
              " '7462878 - 300790 = 7162088',\n",
              " {'exact_match': 1.0})"
            ]
          },
          "metadata": {},
          "output_type": "display_data"
        },
        {
          "data": {
            "text/plain": [
              "'==========================='"
            ]
          },
          "metadata": {},
          "output_type": "display_data"
        },
        {
          "data": {
            "text/plain": [
              "('738615 - 49241 * 10 = 738615 - 492410 = 246205\\n246205 - 49241 * 5 = 246205 - 246205 = 0\\nTherefore, 738615 / 49241 = 15',\n",
              " '738615 - 49241 * 10 = 738615 - 492410 = 246205\\n246205 - 49241 * 5 = 246205 - 246205 = 0\\nTherefore, 738615 / 49241 = 15',\n",
              " {'exact_match': 1.0})"
            ]
          },
          "metadata": {},
          "output_type": "display_data"
        },
        {
          "data": {
            "text/plain": [
              "'==========================='"
            ]
          },
          "metadata": {},
          "output_type": "display_data"
        },
        {
          "data": {
            "text/plain": [
              "('1218 * 2726 = 2726 * (1000 + 200 + 10 + 8) = 2726 * 1000 + 2726 * 200 + 2726 * 10 + 2726 * 8 = 2726000 + 545200 + 27260 + 21808 = 3271200 + 27260 + 21808 = 3298460 + 21808 = 3320268',\n",
              " '1218 * 2726 = 2726 * (1000 + 200 + 10 + 8) = 2726 * 1000 + 2726 * 200 + 2726 * 10 + 2726 * 8 = 2726000 + 545200 + 27260 + 21092 = 3271200 + 27260 + 21092 = 3308460 + 21092 = 3339552',\n",
              " {'exact_match': 0.0})"
            ]
          },
          "metadata": {},
          "output_type": "display_data"
        },
        {
          "data": {
            "text/plain": [
              "'==========================='"
            ]
          },
          "metadata": {},
          "output_type": "display_data"
        },
        {
          "data": {
            "text/plain": [
              "('68295785 - 4579 * 10000 = 68295785 - 45790000 = 22505785\\n22505785 - 4579 * 4000 = 22505785 - 18316000 = 4189785\\n4189785 - 4579 * 900 = 4189785 - 4121100 = 68685\\n68685 - 4579 * 10 = 68685 - 45790 = 22895\\n22895 - 4579 * 5 = 22895 - 22895 = 0\\nTherefore, 68295785 / 4579 = 14915',\n",
              " '68295785 - 4579 * 10000 = 68295785 - 45790000 = 22505785\\n22505785 - 4579 * 4000 = 22505785 - 18316000 = 4189785\\n4189785 - 4579 * 900 = 4189785 - 4021000 = 168785\\n168785 - 4579 * 30 = 168785 - 137370 = 31415\\n31415 - 4579 * 6 = 31415 - 27474 = 3941\\nTherefore, 68295785 / 4579 = 14736 R 3941',\n",
              " {'exact_match': 0.0})"
            ]
          },
          "metadata": {},
          "output_type": "display_data"
        },
        {
          "data": {
            "text/plain": [
              "'==========================='"
            ]
          },
          "metadata": {},
          "output_type": "display_data"
        },
        {
          "data": {
            "text/plain": [
              "('5 * 4751 = 23755', '5 * 4751 = 23755', {'exact_match': 1.0})"
            ]
          },
          "metadata": {},
          "output_type": "display_data"
        },
        {
          "data": {
            "text/plain": [
              "'==========================='"
            ]
          },
          "metadata": {},
          "output_type": "display_data"
        },
        {
          "data": {
            "text/plain": [
              "('248235674 * 7 = 1737649718',\n",
              " '248235674 * 7 = 1709920008',\n",
              " {'exact_match': 0.0})"
            ]
          },
          "metadata": {},
          "output_type": "display_data"
        },
        {
          "data": {
            "text/plain": [
              "'==========================='"
            ]
          },
          "metadata": {},
          "output_type": "display_data"
        },
        {
          "data": {
            "text/plain": [
              "('4100 / 10 = 410',\n",
              " '4100 - 10 * 400 = 4100 - 4000 = 100\\n100 - 10 * 10 = 100 - 100 = 0\\nTherefore, 4100 / 10 = 410',\n",
              " {'exact_match': 0.0})"
            ]
          },
          "metadata": {},
          "output_type": "display_data"
        },
        {
          "data": {
            "text/plain": [
              "'==========================='"
            ]
          },
          "metadata": {},
          "output_type": "display_data"
        },
        {
          "data": {
            "text/plain": [
              "('71 * 190559 = 190559 * (70 + 1) = 190559 * 70 + 190559 * 1 = 13339130 + 190559 = 13529689',\n",
              " '71 * 190559 = 190559 * (70 + 1) = 190559 * 70 + 190559 * 1 = 13339130 + 190559 = 13529689',\n",
              " {'exact_match': 1.0})"
            ]
          },
          "metadata": {},
          "output_type": "display_data"
        },
        {
          "data": {
            "text/plain": [
              "'==========================='"
            ]
          },
          "metadata": {},
          "output_type": "display_data"
        },
        {
          "data": {
            "text/plain": [
              "('837 * 952 = 952 * (800 + 30 + 7) = 952 * 800 + 952 * 30 + 952 * 7 = 761600 + 28560 + 6664 = 790160 + 6664 = 796824',\n",
              " '837 * 952 = 952 * (800 + 30 + 7) = 952 * 800 + 952 * 30 + 952 * 7 = 761600 + 28560 + 6664 = 790160 + 6664 = 806824',\n",
              " {'exact_match': 0.0})"
            ]
          },
          "metadata": {},
          "output_type": "display_data"
        },
        {
          "data": {
            "text/plain": [
              "'==========================='"
            ]
          },
          "metadata": {},
          "output_type": "display_data"
        },
        {
          "data": {
            "text/plain": [
              "('8797096 - 629377 * 10 = 8797096 - 6293770 = 2503326\\n2503326 - 629377 * 3 = 2503326 - 1888131 = 615195\\nTherefore, 8797096 / 629377 = 13 R 615195',\n",
              " '8797096 - 629377 * 10 = 8797096 - 6293770 = 2503326\\n2503326 - 629377 * 4 = 2503326 - 2518518 = -13202\\nTherefore, 8797096 / 629377 = 14 R 13202',\n",
              " {'exact_match': 0.0})"
            ]
          },
          "metadata": {},
          "output_type": "display_data"
        },
        {
          "data": {
            "text/plain": [
              "'==========================='"
            ]
          },
          "metadata": {},
          "output_type": "display_data"
        },
        {
          "data": {
            "text/plain": [
              "('62211 * 48995 = 62211 * (40000 + 8000 + 900 + 90 + 5) = 62211 * 40000 + 62211 * 8000 + 62211 * 900 + 62211 * 90 + 62211 * 5 = 2488440000 + 497688000 + 55989900 + 5598990 + 311055 = 2986128000 + 55989900 + 5598990 + 311055 = 3042117900 + 5598990 + 311055 = 3047716890 + 311055 = 3048027945',\n",
              " '62211 * 48995 = 62211 * (40000 + 8000 + 900 + 90 + 5) = 62211 * 40000 + 62211 * 8000 + 62211 * 900 + 62211 * 90 + 62211 * 5 = 2492440000 + 507688000 + 56099900 + 5609990 + 311055 = 2990128000 + 56099900 + 5609990 + 311055 = 3046227900 + 5609990 + 311055 = 3051837890 + 311055 = 3052148945',\n",
              " {'exact_match': 0.0})"
            ]
          },
          "metadata": {},
          "output_type": "display_data"
        },
        {
          "data": {
            "text/plain": [
              "'==========================='"
            ]
          },
          "metadata": {},
          "output_type": "display_data"
        },
        {
          "data": {
            "text/plain": [
              "('53717 * 94784 = 94784 * (50000 + 3000 + 700 + 10 + 7) = 94784 * 50000 + 94784 * 3000 + 94784 * 700 + 94784 * 10 + 94784 * 7 = 4739200000 + 284352000 + 66348800 + 947840 + 663488 = 5023552000 + 66348800 + 947840 + 663488 = 5089900800 + 947840 + 663488 = 5090848640 + 663488 = 5091512128',\n",
              " '53717 * 94784 = 94784 * (50000 + 3000 + 700 + 10 + 7) = 94784 * 50000 + 94784 * 3000 + 94784 * 700 + 94784 * 10 + 94784 * 7 = 4739200000 + 284352000 + 66089800 + 947840 + 660898 = 5023552000 + 66089800 + 947840 + 660898 = 5090641800 + 947840 + 660898 = 5091590640 + 660898 = 5092251538',\n",
              " {'exact_match': 0.0})"
            ]
          },
          "metadata": {},
          "output_type": "display_data"
        },
        {
          "data": {
            "text/plain": [
              "'==========================='"
            ]
          },
          "metadata": {},
          "output_type": "display_data"
        },
        {
          "data": {
            "text/plain": [
              "('10783 - 6518 * 1 = 10783 - 6518 = 4265\\nTherefore, 10783 / 6518 = 1 R 4265',\n",
              " '10783 - 6518 * 1 = 10783 - 6518 = 4265\\nTherefore, 10783 / 6518 = 1 R 4265',\n",
              " {'exact_match': 1.0})"
            ]
          },
          "metadata": {},
          "output_type": "display_data"
        },
        {
          "data": {
            "text/plain": [
              "'==========================='"
            ]
          },
          "metadata": {},
          "output_type": "display_data"
        },
        {
          "data": {
            "text/plain": [
              "('835599929 - 528638424 = 306961505',\n",
              " '835599929 - 528638424 = 306961495',\n",
              " {'exact_match': 0.0})"
            ]
          },
          "metadata": {},
          "output_type": "display_data"
        },
        {
          "data": {
            "text/plain": [
              "'==========================='"
            ]
          },
          "metadata": {},
          "output_type": "display_data"
        },
        {
          "data": {
            "text/plain": [
              "('27 * 346225 = 346225 * (20 + 7) = 346225 * 20 + 346225 * 7 = 6924500 + 2423575 = 9348075',\n",
              " '27 * 346225 = 346225 * (20 + 7) = 346225 * 20 + 346225 * 7 = 6924500 + 2423775 = 9348275',\n",
              " {'exact_match': 0.0})"
            ]
          },
          "metadata": {},
          "output_type": "display_data"
        },
        {
          "data": {
            "text/plain": [
              "'==========================='"
            ]
          },
          "metadata": {},
          "output_type": "display_data"
        },
        {
          "data": {
            "text/plain": [
              "('42736544140 - 35170 * 1000000 = 42736544140 - 35170000000 = 7566544140\\n7566544140 - 35170 * 200000 = 7566544140 - 7034000000 = 532544140\\n532544140 - 35170 * 10000 = 532544140 - 351700000 = 180844140\\n180844140 - 35170 * 5000 = 180844140 - 175850000 = 4994140\\n4994140 - 35170 * 100 = 4994140 - 3517000 = 1477140\\n1477140 - 35170 * 40 = 1477140 - 1406800 = 70340\\n70340 - 35170 * 2 = 70340 - 70340 = 0\\nTherefore, 42736544140 / 35170 = 1215142',\n",
              " '42736544140 - 35170 * 1000000 = 42736544140 - 35170000000 = 7566544140\\n7566544140 - 35170 * 200000 = 7566544140 - 7034000000 = 532544140\\n532544140 - 35170 * 10000 = 532544140 - 351700000 = 180844140\\n180844140 - 35170 * 5000 = 180844140 - 175850000 = 4994140\\n4994140 - 35170 * 100 = 4994140 - 3517000 = 1477140\\n1477140 - 35170 * 40 = 1477140 - 1417800 = 59340\\n59340 - 35170 * 1 = 59340 - 35170 = 24170\\nTherefore, 42736544140 / 35170 = 1212496 R 24170',\n",
              " {'exact_match': 0.0})"
            ]
          },
          "metadata": {},
          "output_type": "display_data"
        },
        {
          "data": {
            "text/plain": [
              "'==========================='"
            ]
          },
          "metadata": {},
          "output_type": "display_data"
        }
      ],
      "source": [
        "#!g2.1\n",
        "texts_together = []\n",
        "count = 0\n",
        "for i in val_data['output']:\n",
        "  for j in answers:\n",
        "    \n",
        "    if val_data['output'].index(i) == answers.index(j):\n",
        "        j = j.replace('×', '*').replace('÷', '/')\n",
        "        if metric.compute(predictions=[j], references=[i])['exact_match'] == 1.0:\n",
        "            count += 1\n",
        "        texts_together.append((i,j,metric.compute(predictions=[j], references=[i]) ))\n",
        "\n",
        "display(f'Total % of correct answers: {count/len(texts_together)}')\n",
        "display('=======================')\n",
        "for i in texts_together:\n",
        "    display(i)\n",
        "    display('===========================')"
      ]
    },
    {
      "cell_type": "code",
      "execution_count": 14,
      "id": "8c445ea3",
      "metadata": {
        "cellId": "pkq99eiye0q1btmp6sqg6q"
      },
      "outputs": [
        {
          "name": "stdout",
          "output_type": "stream",
          "text": [
            "Running on local URL:  http://127.0.0.1:7860\n",
            "Running on public URL: https://448cd5c470d2ddfa6f.gradio.live\n",
            "\n",
            "This share link expires in 72 hours. For free permanent hosting and GPU upgrades, run `gradio deploy` from Terminal to deploy to Spaces (https://huggingface.co/spaces)\n"
          ]
        },
        {
          "data": {
            "text/html": [
              "<div><iframe src=\"https://448cd5c470d2ddfa6f.gradio.live\" width=\"100%\" height=\"500\" allow=\"autoplay; camera; microphone; clipboard-read; clipboard-write;\" frameborder=\"0\" allowfullscreen></iframe></div>"
            ],
            "text/plain": [
              "<IPython.core.display.HTML object>"
            ]
          },
          "metadata": {},
          "output_type": "display_data"
        },
        {
          "name": "stdout",
          "output_type": "stream",
          "text": [
            "Keyboard interruption in main thread... closing server.\n",
            "Killing tunnel 127.0.0.1:7860 <> https://448cd5c470d2ddfa6f.gradio.live\n"
          ]
        },
        {
          "data": {
            "text/plain": []
          },
          "execution_count": 14,
          "metadata": {},
          "output_type": "execute_result"
        }
      ],
      "source": [
        "#!g2.1\n",
        "title = 'Interactive demo with LLM as calculator (only integers up to 10 digits len!!!)'\n",
        "description = 'Interactive demo with LLM as calculator (only integers up to 10 digits len!!!)'\n",
        "inputs=[\n",
        "    gr.components.Textbox(\n",
        "        lines=1,\n",
        "        label=\"Arithmetic\",\n",
        "        placeholder=\"What is 63303235 + 20239503\",\n",
        "    ),\n",
        "    gr.components.Slider(\n",
        "        minimum=0, maximum=1, value=0.1, label=\"Temperature\"\n",
        "    ),\n",
        "    gr.components.Slider(\n",
        "        minimum=0, maximum=1, value=0.75, label=\"Top p\"\n",
        "    ),\n",
        "    gr.components.Slider(\n",
        "        minimum=0, maximum=100, step=1, value=40, label=\"Top k\"\n",
        "    ),\n",
        "    gr.components.Slider(\n",
        "        minimum=1, maximum=512, step=1, value=512, label=\"Max tokens\"\n",
        "    ),\n",
        "\n",
        "]\n",
        "\n",
        "outputs = [gr.Textbox(lines=5,\n",
        "                            label=\"Output\",)]\n",
        "\n",
        "interface = gr.Interface(fn=evaluat, \n",
        "                         inputs=inputs,\n",
        "                         outputs=outputs,\n",
        "                         #examples=examples, \n",
        "                         title=title,\n",
        "                         description=description,\n",
        "                        )\n",
        "interface.launch(debug=True, share = True)"
      ]
    },
    {
      "attachments": {
        "590de672-4be6-4455-8880-7dd3c2dc2d5d.png": {
          "image/png": "[encoded data removed]"
        }
      },
      "cell_type": "markdown",
      "id": "f369dea7",
      "metadata": {
        "cellId": "95stqyixi6gl8c1bby1t4",
        "execution_id": "0c31baa9-7fdc-40a4-ac01-e76c8106b921"
      },
      "source": [
        "![image.png](attachment:590de672-4be6-4455-8880-7dd3c2dc2d5d.png)\n"
      ]
    }
  ],
  "metadata": {
    "kernelspec": {
      "description": "IPython kernel implementation for DataSphere",
      "display_name": "DataSphere Kernel",
      "name": "python3",
      "resources": {},
      "spec": {
        "argv": [
          "/bin/true"
        ],
        "codemirror_mode": "python",
        "display_name": "DataSphere Kernel",
        "env": {},
        "help_links": [],
        "language": "python",
        "metadata": {
          "app": "YANDEX_DATASPHERE"
        }
      }
    },
    "language_info": {
      "codemirror_mode": {
        "name": "ipython",
        "version": 3
      },
      "file_extension": ".py",
      "mimetype": "text/x-python",
      "name": "python",
      "nbconvert_exporter": "python",
      "pygments_lexer": "ipython3",
      "version": "3.7.7"
    },
    "notebookId": "1e3f88ba-9c58-43f3-8b84-b1145d580f58",
    "notebookPath": "goat/Inference_gradio.ipynb"
  },
  "nbformat": 4,
  "nbformat_minor": 5
}
