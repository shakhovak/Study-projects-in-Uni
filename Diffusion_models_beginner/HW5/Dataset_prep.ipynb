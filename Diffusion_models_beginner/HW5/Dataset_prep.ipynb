{
 "cells": [
  {
   "cell_type": "markdown",
   "id": "fe243615",
   "metadata": {
    "cellId": "ynug59kgozikc0jet5ktyn",
    "execution_id": "f572f74f-cbd4-41d2-b3e0-91dfb25b0be1"
   },
   "source": [
    "# Сбор датасета для задания\n"
   ]
  },
  {
   "cell_type": "markdown",
   "id": "f8c31f42",
   "metadata": {
    "cellId": "1x48ijjger4gyc4ixucbi",
    "execution_id": "752b33fa-eed4-48cf-a6f4-7c9b21c1c67f"
   },
   "source": [
    "Для сборки датасета воспользуюсь методикой, предложенной авторами в статье статьте \"Goat: Fine-tuned LLaMA Outperforms GPT-4 on Arithmetic Tasks\" (https://arxiv.org/abs/2305.14201). Единтсвенное, буду собирать данные, не превышающие длину 10 цифр."
   ]
  },
  {
   "cell_type": "code",
   "execution_count": 1,
   "id": "76bd72d3",
   "metadata": {
    "cellId": "te1mi5fjq0d67ic0h5gk69"
   },
   "outputs": [],
   "source": [
    "import json\n",
    "import os.path as osp\n",
    "import random\n",
    "from typing import Union"
   ]
  },
  {
   "cell_type": "code",
   "execution_count": 3,
   "id": "b98e02a1",
   "metadata": {
    "cellId": "ifvs46riipk0vushuy4tee"
   },
   "outputs": [
    {
     "name": "stdout",
     "output_type": "stream",
     "text": [
      "Addition: 198000\n"
     ]
    }
   ],
   "source": [
    "# Генерация датасета на сложения целых чисел до 10 разрядов\n",
    "\n",
    "pairs = \\\n",
    "[(random.randint(10**(i-1), 10**i), random.randint(10**(j-1), 10**j)) for i in range(1,11) for j in range(i,11) for k in range(1000)] +\\\n",
    "[(random.randint(10**(i-1), 10**i), random.randint(10**(j-1), 10**j)) for i in range(2,11) for j in range(i,11) for k in range(1000)] +\\\n",
    "[(random.randint(10**(i-1), 10**i), random.randint(10**(j-1), 10**j)) for i in range(3,11) for j in range(i,11) for k in range(1000)] +\\\n",
    "[(random.randint(10**(i-1), 10**i), random.randint(10**(j-1), 10**j)) for i in range(4,11) for j in range(i,11) for k in range(1000)] +\\\n",
    "[(random.randint(10**(i-1), 10**i), random.randint(10**(j-1), 10**j)) for i in range(6,11) for j in range(i,11) for k in range(1000)] +\\\n",
    "[(random.randint(10**(i-1), 10**i), random.randint(10**(j-1), 10**j)) for i in range(7,11) for j in range(i,11) for k in range(1000)] +\\\n",
    "[(random.randint(10**(i-1), 10**i), random.randint(10**(j-1), 10**j)) for i in range(8,11) for j in range(i,11) for k in range(1000)] +\\\n",
    "[(random.randint(10**(i-1), 10**i), random.randint(10**(j-1), 10**j)) for i in range(9,11) for j in range(i,11) for k in range(1000)]\n",
    "\n",
    "random.shuffle(pairs)\n",
    "\n",
    "print(\"Addition:\", len(pairs))\n",
    "\n",
    "data_add = []\n",
    "\n",
    "for num1, num2 in pairs:\n",
    "    \n",
    "    if random.random()<0.5:\n",
    "        num1, num2 = num2, num1 \n",
    "\n",
    "    answer = num1 + num2\n",
    "    \n",
    "    question = f\"{num1} + {num2}\" \n",
    "    output = f\"{num1} + {num2} = {answer}\"\n",
    "    \n",
    "    assert(output.split()[-1] == str(answer))\n",
    "    data_add.append({\"input\": question, \"output\": output, \"answer\": str(answer)})"
   ]
  },
  {
   "cell_type": "code",
   "execution_count": 4,
   "id": "42e2d18b",
   "metadata": {
    "cellId": "ri7so6ajvhwut8z5o37r"
   },
   "outputs": [
    {
     "data": {
      "text/plain": [
       "[{'input': '53 + 328', 'output': '53 + 328 = 381', 'answer': '381'},\n",
       " {'input': '8634 + 23155',\n",
       "  'output': '8634 + 23155 = 31789',\n",
       "  'answer': '31789'},\n",
       " {'input': '784103 + 92723932',\n",
       "  'output': '784103 + 92723932 = 93508035',\n",
       "  'answer': '93508035'},\n",
       " {'input': '420 + 544', 'output': '420 + 544 = 964', 'answer': '964'},\n",
       " {'input': '32890262 + 90376',\n",
       "  'output': '32890262 + 90376 = 32980638',\n",
       "  'answer': '32980638'}]"
      ]
     },
     "execution_count": 4,
     "metadata": {},
     "output_type": "execute_result"
    }
   ],
   "source": [
    "data_add[0:5]"
   ]
  },
  {
   "cell_type": "code",
   "execution_count": 5,
   "id": "bf5cba2d",
   "metadata": {
    "cellId": "c3r144jvfcpbo5q5s1cvlr"
   },
   "outputs": [
    {
     "name": "stdout",
     "output_type": "stream",
     "text": [
      "Subtraction: 198000\n"
     ]
    }
   ],
   "source": [
    "# Генерация датасета на вычитания целых чисел до 10 разрядов\n",
    "\n",
    "pairs = \\\n",
    "[(random.randint(10**(i-1), 10**i), random.randint(10**(j-1), 10**j)) for i in range(1,11) for j in range(i,11) for k in range(1000)] +\\\n",
    "[(random.randint(10**(i-1), 10**i), random.randint(10**(j-1), 10**j)) for i in range(2,11) for j in range(i,11) for k in range(1000)] +\\\n",
    "[(random.randint(10**(i-1), 10**i), random.randint(10**(j-1), 10**j)) for i in range(3,11) for j in range(i,11) for k in range(1000)] +\\\n",
    "[(random.randint(10**(i-1), 10**i), random.randint(10**(j-1), 10**j)) for i in range(4,11) for j in range(i,11) for k in range(1000)] +\\\n",
    "[(random.randint(10**(i-1), 10**i), random.randint(10**(j-1), 10**j)) for i in range(6,11) for j in range(i,11) for k in range(1000)] +\\\n",
    "[(random.randint(10**(i-1), 10**i), random.randint(10**(j-1), 10**j)) for i in range(7,11) for j in range(i,11) for k in range(1000)] +\\\n",
    "[(random.randint(10**(i-1), 10**i), random.randint(10**(j-1), 10**j)) for i in range(8,11) for j in range(i,11) for k in range(1000)] +\\\n",
    "[(random.randint(10**(i-1), 10**i), random.randint(10**(j-1), 10**j)) for i in range(9,11) for j in range(i,11) for k in range(1000)]\n",
    "\n",
    "random.shuffle(pairs)\n",
    "\n",
    "print(\"Subtraction:\", len(pairs))\n",
    "\n",
    "data_sub = []\n",
    "\n",
    "for num1, num2 in pairs:\n",
    "    \n",
    "    if random.random()<0.5:\n",
    "        num1, num2 = num2, num1 \n",
    "\n",
    "    answer = num1 - num2\n",
    "    \n",
    "    question = f\"{num1} - {num2}\" \n",
    "    output = f\"{num1} - {num2} = {answer}\"\n",
    "\n",
    "    assert(output.split()[-1] == str(answer))\n",
    "    data_sub.append({\"input\": question, \"output\": output, \"answer\": str(answer)})\n",
    "\n",
    "\n",
    "# with open(\"dataset.json\", \"w\") as f:\n",
    "#     json.dump(data_sub, f, indent=4)"
   ]
  },
  {
   "cell_type": "code",
   "execution_count": 6,
   "id": "afdf3e59",
   "metadata": {
    "cellId": "23501kjh51r5sbsywizt8c"
   },
   "outputs": [
    {
     "data": {
      "text/plain": [
       "[{'input': '3 - 31661632',\n",
       "  'output': '3 - 31661632 = -31661629',\n",
       "  'answer': '-31661629'},\n",
       " {'input': '7828 - 630', 'output': '7828 - 630 = 7198', 'answer': '7198'},\n",
       " {'input': '95339 - 841', 'output': '95339 - 841 = 94498', 'answer': '94498'},\n",
       " {'input': '91044237 - 4',\n",
       "  'output': '91044237 - 4 = 91044233',\n",
       "  'answer': '91044233'},\n",
       " {'input': '22074 - 668', 'output': '22074 - 668 = 21406', 'answer': '21406'}]"
      ]
     },
     "execution_count": 6,
     "metadata": {},
     "output_type": "execute_result"
    }
   ],
   "source": [
    "data_sub[0:5]"
   ]
  },
  {
   "cell_type": "code",
   "execution_count": 7,
   "id": "4df2cbf3",
   "metadata": {
    "cellId": "wfn2cm24owpblkpl8f9c"
   },
   "outputs": [
    {
     "name": "stdout",
     "output_type": "stream",
     "text": [
      "Multiplication nx1: 158500\n"
     ]
    }
   ],
   "source": [
    "# Генерация датасет на умножение числа до 10 разрядов на число от 1 до 9 (с рандомным добавлением нулей).\n",
    "\n",
    "pairs = \\\n",
    "[(random.randint(2, 9), random.randint(10**(j-1)+1, 10**j)) for j in range(2,4) for k in range(8000)] + \\\n",
    "[(random.randint(2, 9), random.randint(10**(j-1)+1, 10**j)) for j in range(4,7) for k in range(10000)] + \\\n",
    "[(random.randint(2, 9), random.randint(10**(j-1)+1, 10**j)) for j in range(7,9) for k in range(20000)] + \\\n",
    "[(random.randint(2, 9), random.randint(10**(j-1)+1, 10**j)) for j in range(9,11) for k in range(30000)] + \\\n",
    "[(0, random.randint(10**(j-1)+1, 10**j-1)) for j in range(2,10) for k in range(500)] + \\\n",
    "[(1, random.randint(10**(j-1)+1, 10**j-1)) for j in range(2,10) for k in range(500)] + \\\n",
    "[(10, random.randint(10**(j-1)+1, 10**j-1)) for j in range(2,10) for k in range(500)] + \\\n",
    "[(random.randint(1, 9), random.randint(1, 9)) for k in range(500)]\n",
    "\n",
    "\n",
    "random.shuffle(pairs)\n",
    "\n",
    "print(\"Multiplication nx1:\", len(pairs))\n",
    "\n",
    "data_mul_n_1 = []\n",
    "\n",
    "for num1, num2 in pairs:\n",
    "    \n",
    "    if random.random() < 0.1:\n",
    "        num1 = num1 * (10**random.randint(1,6))\n",
    "        \n",
    "    if random.random()<0.5:\n",
    "        num1, num2 = num2, num1 \n",
    "\n",
    "    answer = num1 * num2 \n",
    "\n",
    "    question = f\"{num1} * {num2}\" \n",
    "    output = f\"{num1} * {num2} = {answer}\"\n",
    "\n",
    "    assert(output.split()[-1] == str(answer))\n",
    "    data_mul_n_1.append({\"input\": question, \"output\": output, \"answer\": str(answer)})\n",
    "\n",
    "\n",
    "# with open(\"dataset.json\", \"w\") as f:\n",
    "#     json.dump(data_mul_n_1, f, indent=4)"
   ]
  },
  {
   "cell_type": "code",
   "execution_count": 8,
   "id": "c5d843c4",
   "metadata": {
    "cellId": "tx4v8m3ui41h8vyx1l449"
   },
   "outputs": [
    {
     "data": {
      "text/plain": [
       "[{'input': '1932506 * 4',\n",
       "  'output': '1932506 * 4 = 7730024',\n",
       "  'answer': '7730024'},\n",
       " {'input': '473 * 1', 'output': '473 * 1 = 473', 'answer': '473'},\n",
       " {'input': '33583280 * 2',\n",
       "  'output': '33583280 * 2 = 67166560',\n",
       "  'answer': '67166560'},\n",
       " {'input': '6316303349 * 3',\n",
       "  'output': '6316303349 * 3 = 18948910047',\n",
       "  'answer': '18948910047'},\n",
       " {'input': '4 * 302', 'output': '4 * 302 = 1208', 'answer': '1208'}]"
      ]
     },
     "execution_count": 8,
     "metadata": {},
     "output_type": "execute_result"
    }
   ],
   "source": [
    "data_mul_n_1[200:205]"
   ]
  },
  {
   "cell_type": "code",
   "execution_count": 9,
   "id": "1cd5bc1b",
   "metadata": {
    "cellId": "5rrr791tq9mr6ruz1xlgwi"
   },
   "outputs": [
    {
     "name": "stdout",
     "output_type": "stream",
     "text": [
      "Multiplication nxm: 300000\n"
     ]
    }
   ],
   "source": [
    "# Генерация датасет на умножение числа до 10 разрядов на число до 10 разрядов с предложенным авторами репозитория Сhain of Thought\n",
    "\n",
    "\n",
    "pairs = \\\n",
    "[(random.randint(10**(i-1)+1, 10**i-1), random.randint(10**(j-1)+1, 10**j-1)) for i in range(2,7) for j in range(i,11-i) for k in range(12000)] +\\\n",
    "[(random.randint(10**(i-1)+1, 10**i-1), random.randint(10**(j-1)+1, 10**j-1)) for i in range(4,7) for j in range(i,11-i) for k in range(12000)] +\\\n",
    "[(random.randint(10**(i-1)+1, 10**i-1), random.randint(10**(j-1)+1, 10**j-1)) for i in range(5,7) for j in range(i,11-i) for k in range(12000)] +\\\n",
    "[(random.randint(10**(i-1)+1, 10**i-1), random.randint(10**(i-1)+1, 10**i-1)) for i in range(3,7) for k in range(12000)] \n",
    "\n",
    "random.shuffle(pairs)\n",
    "\n",
    "print(\"Multiplication nxm:\", len(pairs))\n",
    "\n",
    "data_mul_n_m = []\n",
    "\n",
    "for num1, num2 in pairs:\n",
    "    \n",
    "    answer = num1 * num2\n",
    "    \n",
    "    if random.random() < 0.5:\n",
    "        num1, num2 = num2, num1\n",
    "\n",
    "    question = f\"{num1} * {num2}\"\n",
    "\n",
    "    if num2 > num1:\n",
    "        num1, num2 = num2, num1\n",
    "\n",
    "    num_digits_1 = len(str(num1))\n",
    "    num_digits_2 = len(str(num2))\n",
    "\n",
    "    if num1 % (10 ** (num_digits_1-1)) == 0 or num2 % (10 ** (num_digits_2-1)) == 0:\n",
    "        cot = question + \" = \" + str(answer)\n",
    "\n",
    "    else: \n",
    "        num2_digits = [int(d) for d in str(num2)]\n",
    "\n",
    "        split_terms = [d* 10**(len(num2_digits)-i-1) for i, d in enumerate(num2_digits) if d != 0]\n",
    "        split = f\"\"\"{num1} * ({\" + \".join(str(x) for x in split_terms)})\"\"\"\n",
    "\n",
    "        expansion = \" + \".join([f\"{num1} * {x}\" for x in split_terms])\n",
    "        \n",
    "        summation_terms = [num1 * x for x in split_terms]\n",
    "        summation = \" + \".join(str(x) for x in summation_terms)\n",
    "\n",
    "        step = \"\"\n",
    "        \n",
    "        while summation_terms:\n",
    "            first = summation_terms.pop(0)\n",
    "            if not summation_terms:\n",
    "                output = first\n",
    "                break\n",
    "            summation_terms[0] = first + summation_terms[0]\n",
    "            step = step + \" + \".join([f\"{x}\" for x in summation_terms]) \n",
    "            if len(summation_terms)>=2:\n",
    "                step = step + \" = \"\n",
    "\n",
    "        cot = question + \" = \" + f\"{split} = {expansion} = {summation} = \" + step\n",
    "\n",
    "    assert(cot.split()[-1] == str(answer))\n",
    "    data_mul_n_m.append({\"input\": question, \"output\": cot, \"answer\": str(answer)})\n",
    "\n",
    "\n",
    "# with open(\"dataset.json\", \"w\") as f:\n",
    "#     json.dump(data_mul_n_m, f, indent=4)"
   ]
  },
  {
   "cell_type": "code",
   "execution_count": 10,
   "id": "f17fab20",
   "metadata": {
    "cellId": "njg7r2i2zeeyofwqkrwvtq"
   },
   "outputs": [
    {
     "data": {
      "text/plain": [
       "[{'input': '97 * 18',\n",
       "  'output': '97 * 18 = 97 * (10 + 8) = 97 * 10 + 97 * 8 = 970 + 776 = 1746',\n",
       "  'answer': '1746'},\n",
       " {'input': '93571 * 8463',\n",
       "  'output': '93571 * 8463 = 93571 * (8000 + 400 + 60 + 3) = 93571 * 8000 + 93571 * 400 + 93571 * 60 + 93571 * 3 = 748568000 + 37428400 + 5614260 + 280713 = 785996400 + 5614260 + 280713 = 791610660 + 280713 = 791891373',\n",
       "  'answer': '791891373'},\n",
       " {'input': '77 * 92',\n",
       "  'output': '77 * 92 = 92 * (70 + 7) = 92 * 70 + 92 * 7 = 6440 + 644 = 7084',\n",
       "  'answer': '7084'},\n",
       " {'input': '28 * 986929',\n",
       "  'output': '28 * 986929 = 986929 * (20 + 8) = 986929 * 20 + 986929 * 8 = 19738580 + 7895432 = 27634012',\n",
       "  'answer': '27634012'},\n",
       " {'input': '46 * 6271957',\n",
       "  'output': '46 * 6271957 = 6271957 * (40 + 6) = 6271957 * 40 + 6271957 * 6 = 250878280 + 37631742 = 288510022',\n",
       "  'answer': '288510022'}]"
      ]
     },
     "execution_count": 10,
     "metadata": {},
     "output_type": "execute_result"
    }
   ],
   "source": [
    "data_mul_n_m[200:205]"
   ]
  },
  {
   "cell_type": "code",
   "execution_count": 11,
   "id": "bda0bb5b",
   "metadata": {
    "cellId": "3z5d8hm42ociwzphvrq53"
   },
   "outputs": [
    {
     "name": "stdout",
     "output_type": "stream",
     "text": [
      "Division n/1: 181500\n"
     ]
    }
   ],
   "source": [
    "# Генерация датасет на деление числа до 10 разрядов на число от 1 до 9.\n",
    "\n",
    "pairs = \\\n",
    "[(random.randint(2, 9), random.randint(10**(j-1)+1, 10**j)) for j in range(1,4) for k in range(8000)] + \\\n",
    "[(random.randint(2, 9), random.randint(10**(j-1)+1, 10**j)) for j in range(4,6) for k in range(10000)] + \\\n",
    "[(random.randint(2, 9), random.randint(10**(j-1)+1, 10**j)) for j in range(6,8) for k in range(16000)] + \\\n",
    "[(random.randint(2, 9), random.randint(10**(j-1)+1, 10**j)) for j in range(8,11) for k in range(20000)] + \\\n",
    "[(1, random.randint(10**(j-1)+1, 10**j)) for j in range(1,11) for k in range(1500)] + \\\n",
    "[(10, random.randint(10**(j-1)+1, 10**j)) for j in range(1,11) for k in range(1500)] + \\\n",
    "[(random.randint(10**(j-1)+1, 10**j), 0) for j in range(1,11) for k in range(1100)] + \\\n",
    "[(random.randint(1, 10), random.randint(1, 10)) for k in range(1500)] +\\\n",
    "[(0, random.randint(10**(j-1)+1, 10**j)) for j in range(1,11) for k in range(300)]\n",
    "\n",
    "\n",
    "random.shuffle(pairs)\n",
    "\n",
    "print(\"Division n/1:\", len(pairs))\n",
    "\n",
    "data_div_n_1 = []\n",
    "\n",
    "for num1, num2 in pairs:\n",
    "\n",
    "    # make it divisible with 0.5 probability\n",
    "    if num1>1 and random.random() < 0.5: \n",
    "        remainder = random.randint(1, num1-1)\n",
    "    else:\n",
    "        remainder = 0\n",
    "    \n",
    "    # divided by 0\n",
    "    if num1 == 0:\n",
    "        question = f\"{num2} / {num1}\" \n",
    "        cot = question + \" is \" + \"undefined\"\n",
    "        answer = \"undefined\"\n",
    "        data_div_n_1.append({\"input\": question, \"output\": cot, \"answer\": answer})\n",
    "        continue\n",
    "        \n",
    "\n",
    "    dividend = num1 * num2 + remainder\n",
    "    \n",
    "    question = f\"{dividend} / {num1}\" \n",
    "    cot = question + \" = \" + str(num2) + \" R \" + str(remainder) if remainder!=0 else question + \" = \" + str(num2)\n",
    "    answer = str(num2) + \" R \" + str(remainder) if remainder!=0 else str(num2)\n",
    "\n",
    "    assert(cot.split()[-1] == answer.split()[-1])\n",
    "    data_div_n_1.append({\"input\": question, \"output\": cot, \"answer\": answer})\n",
    "\n",
    "\n",
    "# with open(\"dataset.json\", \"w\") as f:\n",
    "#     json.dump(data_div_n_1, f, indent=4)"
   ]
  },
  {
   "cell_type": "code",
   "execution_count": 12,
   "id": "9b4e4801",
   "metadata": {
    "cellId": "ysd8xbwkivoxwkz0m7xtod"
   },
   "outputs": [
    {
     "data": {
      "text/plain": [
       "[{'input': '135 / 7', 'output': '135 / 7 = 19 R 2', 'answer': '19 R 2'},\n",
       " {'input': '35474104 / 4',\n",
       "  'output': '35474104 / 4 = 8868526',\n",
       "  'answer': '8868526'},\n",
       " {'input': '81152 / 1', 'output': '81152 / 1 = 81152', 'answer': '81152'},\n",
       " {'input': '0 / 75', 'output': '0 / 75 = 0', 'answer': '0'},\n",
       " {'input': '574602 / 7', 'output': '574602 / 7 = 82086', 'answer': '82086'}]"
      ]
     },
     "execution_count": 12,
     "metadata": {},
     "output_type": "execute_result"
    }
   ],
   "source": [
    "data_div_n_1[200:205]"
   ]
  },
  {
   "cell_type": "code",
   "execution_count": 13,
   "id": "e822d9ac",
   "metadata": {
    "cellId": "akri4yajjmsc3xvqyyz8vi"
   },
   "outputs": [
    {
     "name": "stdout",
     "output_type": "stream",
     "text": [
      "Division n/m: 414000\n"
     ]
    }
   ],
   "source": [
    "# Генерация датасет на деление числа до 10 разрядов на число до 7 разрядов с предложенным авторами Chain of Thought\n",
    "\n",
    "pairs = \\\n",
    "[(random.randint(10**(j-1)+1, 10**j), random.randint(10**(i-1)+1, 10**i)) for i in range(2, 7) for j in range(i+1, i+7) for k in range(12000)] +\\\n",
    "[(random.randint(10**(j-1)+1, 10**j), random.randint(10**(i-1)+1, 10**i)) for i in range(2, 7) for j in range(2, i+7) for k in range(1200)]\n",
    "\n",
    "random.shuffle(pairs)\n",
    "\n",
    "print(\"Division n/m:\", len(pairs))\n",
    "\n",
    "data_div_n_m = []\n",
    "\n",
    "for num1, num2 in pairs:\n",
    "\n",
    "    quotient = num1 // num2\n",
    "    remainder = num1 % num2\n",
    "\n",
    "    # make it divisible with 0.5 probability\n",
    "    if num1 > num2 and random.random()<0.5: \n",
    "        num1 = num1 - remainder\n",
    "        quotient = num1 // num2\n",
    "        remainder = num1 % num2\n",
    "\n",
    "    question = f\"{num1} / {num2}\" \n",
    "\n",
    "    if quotient == 0:\n",
    "        cot = f\"{num1} / {num2} = {quotient} R {remainder}\"\n",
    "        answer = f\"{quotient} R {remainder}\"\n",
    "    elif num1 == num2:\n",
    "        cot = f\"{num1} / {num2} = {quotient}\"\n",
    "        answer = f\"{quotient}\"        \n",
    "\n",
    "    else:\n",
    "        step = \"\"\n",
    "        cot = \"\"\n",
    "        left = num1\n",
    "\n",
    "        i = 0\n",
    "        computed_q = 0\n",
    "\n",
    "        while left>=num2:\n",
    "            \n",
    "            if int(str(quotient)[i])!=0:\n",
    "\n",
    "                intermediate = int(str(quotient)[i] + \"0\" * (len(str(quotient))-1-i))\n",
    "\n",
    "                answer = num2 * intermediate\n",
    "\n",
    "                new_left = left - answer\n",
    "\n",
    "                step = f\"{left} - {num2} * {intermediate} = {left} - {answer} = {new_left}\\n\"\n",
    "\n",
    "                cot = cot + step\n",
    "                \n",
    "                left = new_left\n",
    "\n",
    "                computed_q = computed_q + intermediate\n",
    "\n",
    "            i = i+1\n",
    "\n",
    "        assert(left == remainder)\n",
    "        assert(computed_q == quotient)\n",
    "\n",
    "        if remainder!=0:\n",
    "            cot = cot + f\"Therefore, {num1} / {num2} = {quotient} R {remainder}\"\n",
    "            answer = f\"{quotient} R {remainder}\"\n",
    "        else:\n",
    "            cot = cot + f\"Therefore, {num1} / {num2} = {quotient}\"\n",
    "            answer = f\"{quotient}\"\n",
    "\n",
    "    assert(cot.split()[-1] == answer.split()[-1])\n",
    "    data_div_n_m.append({\"input\": question, \"output\": cot, \"answer\": answer})\n",
    "\n",
    "\n",
    "# with open(\"dataset.json\", \"w\") as f:\n",
    "#     json.dump(data_div_n_m, f, indent=4)"
   ]
  },
  {
   "cell_type": "code",
   "execution_count": 14,
   "id": "24b6c2dc",
   "metadata": {
    "cellId": "d38n9i8bmhdv1wz2ve90d"
   },
   "outputs": [
    {
     "data": {
      "text/plain": [
       "[{'input': '435202061 / 375750',\n",
       "  'output': '435202061 - 375750 * 1000 = 435202061 - 375750000 = 59452061\\n59452061 - 375750 * 100 = 59452061 - 37575000 = 21877061\\n21877061 - 375750 * 50 = 21877061 - 18787500 = 3089561\\n3089561 - 375750 * 8 = 3089561 - 3006000 = 83561\\nTherefore, 435202061 / 375750 = 1158 R 83561',\n",
       "  'answer': '1158 R 83561'},\n",
       " {'input': '9252091212 / 41737',\n",
       "  'output': '9252091212 - 41737 * 200000 = 9252091212 - 8347400000 = 904691212\\n904691212 - 41737 * 20000 = 904691212 - 834740000 = 69951212\\n69951212 - 41737 * 1000 = 69951212 - 41737000 = 28214212\\n28214212 - 41737 * 600 = 28214212 - 25042200 = 3172012\\n3172012 - 41737 * 70 = 3172012 - 2921590 = 250422\\n250422 - 41737 * 6 = 250422 - 250422 = 0\\nTherefore, 9252091212 / 41737 = 221676',\n",
       "  'answer': '221676'},\n",
       " {'input': '49180497 / 388374',\n",
       "  'output': '49180497 - 388374 * 100 = 49180497 - 38837400 = 10343097\\n10343097 - 388374 * 20 = 10343097 - 7767480 = 2575617\\n2575617 - 388374 * 6 = 2575617 - 2330244 = 245373\\nTherefore, 49180497 / 388374 = 126 R 245373',\n",
       "  'answer': '126 R 245373'},\n",
       " {'input': '379174320 / 601864',\n",
       "  'output': '379174320 - 601864 * 600 = 379174320 - 361118400 = 18055920\\n18055920 - 601864 * 30 = 18055920 - 18055920 = 0\\nTherefore, 379174320 / 601864 = 630',\n",
       "  'answer': '630'},\n",
       " {'input': '274304683 / 472',\n",
       "  'output': '274304683 - 472 * 500000 = 274304683 - 236000000 = 38304683\\n38304683 - 472 * 80000 = 38304683 - 37760000 = 544683\\n544683 - 472 * 1000 = 544683 - 472000 = 72683\\n72683 - 472 * 100 = 72683 - 47200 = 25483\\n25483 - 472 * 50 = 25483 - 23600 = 1883\\n1883 - 472 * 3 = 1883 - 1416 = 467\\nTherefore, 274304683 / 472 = 581153 R 467',\n",
       "  'answer': '581153 R 467'}]"
      ]
     },
     "execution_count": 14,
     "metadata": {},
     "output_type": "execute_result"
    }
   ],
   "source": [
    "data_div_n_m[200:205]"
   ]
  },
  {
   "cell_type": "code",
   "execution_count": 15,
   "id": "c5f445dc",
   "metadata": {
    "cellId": "52y0nrvera55qr4adihc5n"
   },
   "outputs": [
    {
     "name": "stdout",
     "output_type": "stream",
     "text": [
      "Total: 1450000\n",
      "Arithmetic dataset generated!\n"
     ]
    }
   ],
   "source": [
    "# Generate arithmetic data\n",
    "\n",
    "with open(\"dataset.json\", \"w\") as f:\n",
    "    json.dump(data_add + data_sub + data_mul_n_1 + data_mul_n_m + data_div_n_1 + data_div_n_m, f, indent=4)\n",
    "\n",
    "print(\"Total:\", len(data_add + data_sub + data_mul_n_1 + data_mul_n_m + data_div_n_1 + data_div_n_m))\n",
    "print(\"Arithmetic dataset generated!\")\n"
   ]
  },
  {
   "cell_type": "code",
   "execution_count": 16,
   "id": "8a852a6f",
   "metadata": {
    "cellId": "mrehh8t5xdjrogleza34qo"
   },
   "outputs": [
    {
     "name": "stdout",
     "output_type": "stream",
     "text": [
      "Total: 1450000\n",
      "Instructions added!\n"
     ]
    }
   ],
   "source": [
    "### Add natural language instruction to the generated arithmetic data using template\n",
    "\n",
    "template_name = \"./templates/goat.json\"\n",
    "dataset_name = \"dataset.json\"\n",
    "\n",
    "with open(template_name) as fp:\n",
    "    template = json.load(fp)\n",
    "\n",
    "with open(dataset_name,\"rb\") as test_file:\n",
    "    data_original = json.load(test_file)\n",
    "\n",
    "data_converted = []\n",
    "\n",
    "for instance in data_original:\n",
    "    \n",
    "    arithmetic = instance[\"input\"]\n",
    "    \n",
    "    output_dict = {}\n",
    "        \n",
    "    \n",
    "    # add noise to instruction so that the model is robust to diverse question formats \n",
    "    if random.random() < 0.05:\n",
    "        if \" + \" in arithmetic:\n",
    "            arithmetic = \"the sum of \" + arithmetic.replace(\"+\", \"and\")\n",
    "\n",
    "        if \" - \" in arithmetic:\n",
    "            arithmetic = \"the difference of \" + arithmetic.replace(\"-\", \"and\")\n",
    "\n",
    "        if \" * \" in arithmetic:\n",
    "            arithmetic = \"the product of \" + arithmetic.replace(\"*\", \"and\")\n",
    "\n",
    "        if \" / \" in arithmetic:\n",
    "            arithmetic = \"the quotient and remainder of \" + arithmetic.replace(\"/\", \"and\")\n",
    "\n",
    "    if random.random() < 0.5:\n",
    "        arithmetic = arithmetic.replace(\"*\", \"x\")    \n",
    "\n",
    "    if random.random() < 0.1:\n",
    "        arithmetic = arithmetic.replace(\"+\", \"plus\").replace(\"-\", \"minus\")\n",
    "        arithmetic = arithmetic.replace(\" x \", \" times \").replace(\"*\", \"multiplied by\").replace(\"/\", \"divided by\")    \n",
    "\n",
    "    if random.random() < 0.5:\n",
    "        if \"+\" in arithmetic or \"-\" in arithmetic or \"*\" in arithmetic or \"/\" in arithmetic or \"x\" in arithmetic:\n",
    "            arithmetic = arithmetic.replace(\" \", \"\")        \n",
    "\n",
    "    num = random.randint(1,500)\n",
    "\n",
    "    instruction = template[str(num)].format(\n",
    "        input = arithmetic\n",
    "    )\n",
    "    \n",
    "    output_dict[\"instruction\"] = instruction\n",
    "    output_dict[\"input\"] = instance[\"input\"]\n",
    "    output_dict[\"output\"] = instance[\"output\"]\n",
    "    output_dict[\"answer\"] = instance[\"answer\"]\n",
    "    \n",
    "    data_converted.append(output_dict)\n",
    "\n",
    "print(\"Total:\", len(data_converted))\n",
    "\n",
    "with open(\"dataset.json\", \"w\") as f:\n",
    "    json.dump(data_converted, f, indent=4)\n",
    "\n",
    "print(\"Instructions added!\")"
   ]
  },
  {
   "cell_type": "markdown",
   "id": "b03b1dd1",
   "metadata": {
    "cellId": "dunyhvi1ltszfi8dv7zp",
    "execution_id": "7b53ccf2-0dc3-4eec-a2d3-4127cfef8123"
   },
   "source": [
    "Итак, данные подготовлены. В следующем ноутбуке буду использовать их уже из файла для обучения выбранной LLM модели."
   ]
  }
 ],
 "metadata": {
  "language_info": {
   "codemirror_mode": {
    "name": "ipython",
    "version": 3
   },
   "file_extension": ".py",
   "mimetype": "text/x-python",
   "name": "python",
   "nbconvert_exporter": "python",
   "pygments_lexer": "ipython3",
   "version": "3.7.7"
  },
  "notebookId": "c518350e-7d71-4e6e-8cb3-db7fd45a8ad8",
  "notebookPath": "goat/dataset.ipynb"
 },
 "nbformat": 4,
 "nbformat_minor": 5
}
