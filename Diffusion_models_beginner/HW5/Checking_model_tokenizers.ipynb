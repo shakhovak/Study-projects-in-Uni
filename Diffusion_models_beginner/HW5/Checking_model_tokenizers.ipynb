{
 "cells": [
  {
   "cell_type": "markdown",
   "id": "92a85403",
   "metadata": {},
   "source": [
    "# Обоснование выбора модели для математических вычислений\n",
    "\n",
    "В статье \"Goat: Fine-tuned LLaMA Outperforms GPT-4 on Arithmetic Tasks\" (https://arxiv.org/abs/2305.14201) авторы отметили, что лучше всего с арифметическими задачами справляются языковые модели, которые при токенизации чисел разбивают каждую цифру в числе на отдельный токен. \n",
    "\n",
    "Я хотела посмотреть, у каких моделей так настроена токенизация и выбрать ту модель, которая потенциально лучше будет работать с цифрами. \n",
    "\n",
    "Посмотрю модели обученные для русского языка, как и для английского."
   ]
  },
  {
   "cell_type": "code",
   "execution_count": 1,
   "id": "0bf31c2d",
   "metadata": {},
   "outputs": [],
   "source": [
    "number_list = [74815, 7481, 748,74,7]"
   ]
  },
  {
   "cell_type": "code",
   "execution_count": 2,
   "id": "bad9ef4d",
   "metadata": {},
   "outputs": [
    {
     "name": "stderr",
     "output_type": "stream",
     "text": [
      "Special tokens have been added in the vocabulary, make sure the associated word embeddings are fine-tuned or trained.\n"
     ]
    }
   ],
   "source": [
    "from transformers import AutoTokenizer\n",
    "\n",
    "tokenizer_1 = AutoTokenizer.from_pretrained(\"ai-forever/FRED-T5-large\")"
   ]
  },
  {
   "cell_type": "code",
   "execution_count": 3,
   "id": "d31923de",
   "metadata": {},
   "outputs": [
    {
     "name": "stdout",
     "output_type": "stream",
     "text": [
      "74815: token [27, 8725, 3114]\n",
      "7481: token [27, 8725, 21]\n",
      "748: token [27, 8725]\n",
      "74: token [12281]\n",
      "7: token [27]\n"
     ]
    }
   ],
   "source": [
    "for num in number_list:\n",
    "    print(f\"{num}: token {tokenizer_1(str(num))['input_ids']}\")"
   ]
  },
  {
   "cell_type": "code",
   "execution_count": 4,
   "id": "fd5bc316",
   "metadata": {},
   "outputs": [
    {
     "name": "stdout",
     "output_type": "stream",
     "text": [
      "74815: token [539, 3472, 1695, 2]\n",
      "7481: token [8, 3514, 3775, 2]\n",
      "748: token [539, 3472, 2]\n",
      "74: token [8, 3514, 2]\n",
      "7: token [539, 2]\n"
     ]
    }
   ],
   "source": [
    "tokenizer_2 = AutoTokenizer.from_pretrained(\"ai-forever/ruT5-base\")\n",
    "for num in number_list:\n",
    "    print(f\"{num}: token {tokenizer_2(str(num))['input_ids']}\")"
   ]
  },
  {
   "cell_type": "code",
   "execution_count": 5,
   "id": "a6927e9e",
   "metadata": {},
   "outputs": [
    {
     "name": "stderr",
     "output_type": "stream",
     "text": [
      "Special tokens have been added in the vocabulary, make sure the associated word embeddings are fine-tuned or trained.\n"
     ]
    },
    {
     "name": "stdout",
     "output_type": "stream",
     "text": [
      "74815: token [27, 8725, 3114]\n",
      "7481: token [27, 8725, 21]\n",
      "748: token [27, 8725]\n",
      "74: token [12281]\n",
      "7: token [27]\n"
     ]
    }
   ],
   "source": [
    "tokenizer_3 = AutoTokenizer.from_pretrained(\"ai-forever/rugpt3large_based_on_gpt2\")\n",
    "for num in number_list:\n",
    "    print(f\"{num}: token {tokenizer_3(str(num))['input_ids']}\")"
   ]
  },
  {
   "cell_type": "code",
   "execution_count": 6,
   "id": "3470d281",
   "metadata": {},
   "outputs": [
    {
     "data": {
      "application/vnd.jupyter.widget-view+json": {
       "model_id": "fee3d4acb3a14ba5bf9ad3dc1f9fa9f0",
       "version_major": 2,
       "version_minor": 0
      },
      "text/plain": [
       "VBox(children=(HTML(value='<center> <img\\nsrc=https://huggingface.co/front/assets/huggingface_logo-noborder.sv…"
      ]
     },
     "metadata": {},
     "output_type": "display_data"
    }
   ],
   "source": [
    "from huggingface_hub import notebook_login\n",
    "notebook_login()"
   ]
  },
  {
   "cell_type": "code",
   "execution_count": 7,
   "id": "d5f5261a",
   "metadata": {},
   "outputs": [
    {
     "name": "stdout",
     "output_type": "stream",
     "text": [
      "74815: token [28, 6356, 2794]\n",
      "7481: token [28, 6356, 22]\n",
      "748: token [28, 6356]\n",
      "74: token [11707]\n",
      "7: token [28]\n"
     ]
    }
   ],
   "source": [
    "tokenizer_4 = AutoTokenizer.from_pretrained(\"ai-forever/ruGPT-3.5-13B\")\n",
    "for num in number_list:\n",
    "    print(f\"{num}: token {tokenizer_4(str(num))['input_ids']}\")"
   ]
  },
  {
   "cell_type": "code",
   "execution_count": 8,
   "id": "1a907862",
   "metadata": {},
   "outputs": [
    {
     "name": "stdout",
     "output_type": "stream",
     "text": [
      "74815: token [29, 6570, 1935]\n",
      "7481: token [29, 6570, 23]\n",
      "748: token [29, 6570]\n",
      "74: token [9506]\n",
      "7: token [29]\n"
     ]
    }
   ],
   "source": [
    "tokenizer_5 = AutoTokenizer.from_pretrained(\"ai-forever/mGPT-13B\")\n",
    "for num in number_list:\n",
    "    print(f\"{num}: token {tokenizer_5(str(num))['input_ids']}\")"
   ]
  },
  {
   "cell_type": "code",
   "execution_count": 9,
   "id": "382da98b",
   "metadata": {},
   "outputs": [
    {
     "name": "stdout",
     "output_type": "stream",
     "text": [
      "74815: token [64790, 64792, 30910, 30981, 30972, 30973, 30939, 30970]\n",
      "7481: token [64790, 64792, 30910, 30981, 30972, 30973, 30939]\n",
      "748: token [64790, 64792, 30910, 30981, 30972, 30973]\n",
      "74: token [64790, 64792, 30910, 30981, 30972]\n",
      "7: token [64790, 64792, 30910, 30981]\n"
     ]
    }
   ],
   "source": [
    "tokenizer_6 = AutoTokenizer.from_pretrained(\"THUDM/chatglm3-6b\", trust_remote_code=True)\n",
    "for num in number_list:\n",
    "    print(f\"{num}: token {tokenizer_6(str(num))['input_ids']}\")"
   ]
  },
  {
   "cell_type": "code",
   "execution_count": 2,
   "id": "638199d3",
   "metadata": {},
   "outputs": [
    {
     "data": {
      "application/vnd.jupyter.widget-view+json": {
       "model_id": "1f1290e4151d40b1b186529ec2d9a40f",
       "version_major": 2,
       "version_minor": 0
      },
      "text/plain": [
       "Downloading (…)okenizer_config.json:   0%|          | 0.00/142 [00:00<?, ?B/s]"
      ]
     },
     "metadata": {},
     "output_type": "display_data"
    },
    {
     "name": "stderr",
     "output_type": "stream",
     "text": [
      "C:\\Users\\Kate\\anaconda3\\lib\\site-packages\\huggingface_hub\\file_download.py:133: UserWarning: `huggingface_hub` cache-system uses symlinks by default to efficiently store duplicated files but your machine does not support them in C:\\Users\\Kate\\.cache\\huggingface\\hub. Caching files will still work but in a degraded version that might require more space on your disk. This warning can be disabled by setting the `HF_HUB_DISABLE_SYMLINKS_WARNING` environment variable. For more details, see https://huggingface.co/docs/huggingface_hub/how-to-cache#limitations.\n",
      "To support symlinks on Windows, you either need to activate Developer Mode or to run Python as an administrator. In order to see activate developer mode, see this article: https://docs.microsoft.com/en-us/windows/apps/get-started/enable-your-device-for-development\n",
      "  warnings.warn(message)\n"
     ]
    },
    {
     "data": {
      "application/vnd.jupyter.widget-view+json": {
       "model_id": "9d91456c60fa485db63f24906e7e5f4c",
       "version_major": 2,
       "version_minor": 0
      },
      "text/plain": [
       "Downloading tokenizer.model:   0%|          | 0.00/500k [00:00<?, ?B/s]"
      ]
     },
     "metadata": {},
     "output_type": "display_data"
    },
    {
     "data": {
      "application/vnd.jupyter.widget-view+json": {
       "model_id": "12782d6bb00d435eb3ecb5ba3509c4db",
       "version_major": 2,
       "version_minor": 0
      },
      "text/plain": [
       "Downloading (…)cial_tokens_map.json:   0%|          | 0.00/2.00 [00:00<?, ?B/s]"
      ]
     },
     "metadata": {},
     "output_type": "display_data"
    },
    {
     "name": "stdout",
     "output_type": "stream",
     "text": [
      "74815: token [0, 29871, 29955, 29946, 29947, 29896, 29945]\n",
      "7481: token [0, 29871, 29955, 29946, 29947, 29896]\n",
      "748: token [0, 29871, 29955, 29946, 29947]\n",
      "74: token [0, 29871, 29955, 29946]\n",
      "7: token [0, 29871, 29955]\n"
     ]
    }
   ],
   "source": [
    "from transformers import AutoTokenizer\n",
    "tokenizer_7 = AutoTokenizer.from_pretrained(\"baffo32/decapoda-research-llama-7B-hf\")\n",
    "for num in number_list:\n",
    "    print(f\"{num}: token {tokenizer_7(str(num))['input_ids']}\")"
   ]
  },
  {
   "cell_type": "markdown",
   "id": "32daa79d",
   "metadata": {},
   "source": [
    "# Вывод:\n",
    "\n",
    "В приниципе подтвердились выводы авторов статьи - такая токенизация настроена у Llama 2 и ChatGLM. К сожалению, у \"русскоговорящих\" моделей такого не нашлось, поэтому обучать в следующих ноутбуках я буду Llama 2 и на английском языке."
   ]
  }
 ],
 "metadata": {
  "kernelspec": {
   "display_name": "Python 3 (ipykernel)",
   "language": "python",
   "name": "python3"
  },
  "language_info": {
   "codemirror_mode": {
    "name": "ipython",
    "version": 3
   },
   "file_extension": ".py",
   "mimetype": "text/x-python",
   "name": "python",
   "nbconvert_exporter": "python",
   "pygments_lexer": "ipython3",
   "version": "3.9.13"
  }
 },
 "nbformat": 4,
 "nbformat_minor": 5
}
