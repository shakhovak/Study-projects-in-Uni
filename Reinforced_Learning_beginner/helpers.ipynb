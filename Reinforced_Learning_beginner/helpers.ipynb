{
 "cells": [
  {
   "cell_type": "code",
   "execution_count": null,
   "metadata": {},
   "outputs": [],
   "source": [
    "frames = []\n",
    "test_episodes = 1\n",
    "total_rewards = 0\n",
    "\n",
    "for _ in range(test_episodes):\n",
    "    state = env.reset()\n",
    "    if len(state) == 2:\n",
    "        state = state[0]\n",
    "    episode_reward = 0\n",
    "    done = False\n",
    "    while not done:\n",
    "        frames.append(env.render())\n",
    "        action = agent.select_action(state, evaluate=True)\n",
    "        next_state, rew, terminated, truncated, info = env.step(action)\n",
    "        done = terminated or truncated\n",
    "        episode_reward += rew\n",
    "        state = next_state\n",
    "    total_rewards += episode_reward\n",
    "env.close()\n",
    "\n",
    "print(\"Total rewards: \" + str(total_rewards))\n",
    "\n",
    "display.HTML(display_anim(frames))"
   ]
  }
 ],
 "metadata": {
  "language_info": {
   "name": "python"
  }
 },
 "nbformat": 4,
 "nbformat_minor": 2
}
