{
 "cells": [
  {
   "cell_type": "markdown",
   "id": "3ea3d3aa-bb5b-49c7-88e2-1ca6f02511b1",
   "metadata": {},
   "source": [
    "# Трансформеры принятия решений и заключение\n",
    "Задача: провести эксперименты с алгоритмами автономного обучения с подкреплением в среде Pogema.\n",
    "\n",
    "**Улучшение сходимости алгоритма:**\n",
    "\n",
    "Добавьте wrapper, который будет выдавать агенту плотную награду за выполнение действий. К примеру пропорциональную изменению расстоянию от агента до цели.\n",
    "## Исследование алгоритмов на данных с оптимальной стратегией:\n",
    "\n",
    "- Использовать датасет с оптимальной стратегией поведения, полученной путем обучения online RL алгоритма.\n",
    "- Обучить агентов, используя алгоритмы CQL и DT из фреймворка d3rlpy.\n",
    "- Сравнить результаты с алгоритмом BC.\n",
    "\n",
    "## Работа с субоптимальной стратегией:\n",
    "\n",
    "- Сгенерировать датасет с субоптимальной стратегией с использованием библиотеки d3rlpy: добавить в датасет с хорошей стратегией обучения данные со случайной стратегией обучения.\n",
    "- Обучить агентов, используя алгоритмы CQL и DT из фреймворка d3rlpy.\n",
    "- Сравнить результаты с алгоритмом BC.\n",
    "\n",
    "**Что нужно сдать:**\n",
    "- Код обучения в формате Jupyter.\n",
    "- Графики сходимости (среднее вознаграждение) для всех исследованных алгоритмов.\n",
    "- Выводы по используемым по обучению агента на оптимальных и неоптимальных данных."
   ]
  },
  {
   "cell_type": "code",
   "execution_count": 8,
   "id": "906f7de7-382c-4056-ae97-7016dd4afe64",
   "metadata": {
    "collapsed": true,
    "execution": {
     "iopub.execute_input": "2024-04-13T15:07:52.275500Z",
     "iopub.status.busy": "2024-04-13T15:07:52.275247Z",
     "iopub.status.idle": "2024-04-13T15:07:59.496396Z",
     "shell.execute_reply": "2024-04-13T15:07:59.495636Z",
     "shell.execute_reply.started": "2024-04-13T15:07:52.275481Z"
    },
    "id": "906f7de7-382c-4056-ae97-7016dd4afe64",
    "jupyter": {
     "outputs_hidden": true
    },
    "tags": []
   },
   "outputs": [
    {
     "name": "stdout",
     "output_type": "stream",
     "text": [
      "Defaulting to user installation because normal site-packages is not writeable\n",
      "Requirement already satisfied: pogema in /home/jupyter/.local/lib/python3.10/site-packages (1.2.2)\n",
      "Requirement already satisfied: gymnasium==0.28.1 in /home/jupyter/.local/lib/python3.10/site-packages (from pogema) (0.28.1)\n",
      "Requirement already satisfied: numpy<=1.23.1,>=1.19.2 in /usr/local/lib/python3.10/dist-packages (from pogema) (1.22.4)\n",
      "Requirement already satisfied: pydantic<=1.9.1,>=1.8.2 in /home/jupyter/.local/lib/python3.10/site-packages (from pogema) (1.9.1)\n",
      "Requirement already satisfied: jax-jumpy>=1.0.0 in /home/jupyter/.local/lib/python3.10/site-packages (from gymnasium==0.28.1->pogema) (1.0.0)\n",
      "Requirement already satisfied: cloudpickle>=1.2.0 in /kernel/lib/python3.10/site-packages (from gymnasium==0.28.1->pogema) (3.0.0)\n",
      "Requirement already satisfied: typing-extensions>=4.3.0 in /kernel/lib/python3.10/site-packages (from gymnasium==0.28.1->pogema) (4.10.0)\n",
      "Requirement already satisfied: farama-notifications>=0.0.1 in /home/jupyter/.local/lib/python3.10/site-packages (from gymnasium==0.28.1->pogema) (0.0.4)\n",
      "\n",
      "\u001b[1m[\u001b[0m\u001b[34;49mnotice\u001b[0m\u001b[1;39;49m]\u001b[0m\u001b[39;49m A new release of pip is available: \u001b[0m\u001b[31;49m23.0.1\u001b[0m\u001b[39;49m -> \u001b[0m\u001b[32;49m24.0\u001b[0m\n",
      "\u001b[1m[\u001b[0m\u001b[34;49mnotice\u001b[0m\u001b[1;39;49m]\u001b[0m\u001b[39;49m To update, run: \u001b[0m\u001b[32;49mpython3 -m pip install --upgrade pip\u001b[0m\n",
      "Defaulting to user installation because normal site-packages is not writeable\n",
      "Requirement already satisfied: d3rlpy in /home/jupyter/.local/lib/python3.10/site-packages (2.4.0)\n",
      "Requirement already satisfied: torch>=2.0.0 in /usr/local/lib/python3.10/dist-packages (from d3rlpy) (2.0.1+cu118)\n",
      "Requirement already satisfied: tqdm in /usr/local/lib/python3.10/dist-packages (from d3rlpy) (4.65.0)\n",
      "Requirement already satisfied: h5py in /usr/local/lib/python3.10/dist-packages (from d3rlpy) (3.8.0)\n",
      "Requirement already satisfied: gym>=0.26.0 in /home/jupyter/.local/lib/python3.10/site-packages (from d3rlpy) (0.26.2)\n",
      "Requirement already satisfied: click in /usr/local/lib/python3.10/dist-packages (from d3rlpy) (8.1.6)\n",
      "Requirement already satisfied: typing-extensions in /kernel/lib/python3.10/site-packages (from d3rlpy) (4.10.0)\n",
      "Requirement already satisfied: structlog in /home/jupyter/.local/lib/python3.10/site-packages (from d3rlpy) (24.1.0)\n",
      "Requirement already satisfied: colorama in /usr/local/lib/python3.10/dist-packages (from d3rlpy) (0.4.6)\n",
      "Requirement already satisfied: dataclasses-json in /home/jupyter/.local/lib/python3.10/site-packages (from d3rlpy) (0.6.4)\n",
      "Requirement already satisfied: gymnasium in /home/jupyter/.local/lib/python3.10/site-packages (from d3rlpy) (0.28.1)\n",
      "Requirement already satisfied: numpy>=1.18.0 in /usr/local/lib/python3.10/dist-packages (from gym>=0.26.0->d3rlpy) (1.22.4)\n",
      "Requirement already satisfied: cloudpickle>=1.2.0 in /kernel/lib/python3.10/site-packages (from gym>=0.26.0->d3rlpy) (3.0.0)\n",
      "Requirement already satisfied: gym-notices>=0.0.4 in /usr/local/lib/python3.10/dist-packages (from gym>=0.26.0->d3rlpy) (0.0.8)\n",
      "Requirement already satisfied: filelock in /usr/local/lib/python3.10/dist-packages (from torch>=2.0.0->d3rlpy) (3.12.2)\n",
      "Requirement already satisfied: sympy in /usr/local/lib/python3.10/dist-packages (from torch>=2.0.0->d3rlpy) (1.11.1)\n",
      "Requirement already satisfied: networkx in /usr/local/lib/python3.10/dist-packages (from torch>=2.0.0->d3rlpy) (3.1)\n",
      "Requirement already satisfied: jinja2 in /kernel/lib/python3.10/site-packages (from torch>=2.0.0->d3rlpy) (3.1.3)\n",
      "Requirement already satisfied: triton==2.0.0 in /usr/local/lib/python3.10/dist-packages (from torch>=2.0.0->d3rlpy) (2.0.0)\n",
      "Requirement already satisfied: cmake in /usr/local/lib/python3.10/dist-packages (from triton==2.0.0->torch>=2.0.0->d3rlpy) (3.25.2)\n",
      "Requirement already satisfied: lit in /usr/local/lib/python3.10/dist-packages (from triton==2.0.0->torch>=2.0.0->d3rlpy) (16.0.6)\n",
      "Requirement already satisfied: marshmallow<4.0.0,>=3.18.0 in /home/jupyter/.local/lib/python3.10/site-packages (from dataclasses-json->d3rlpy) (3.21.1)\n",
      "Requirement already satisfied: typing-inspect<1,>=0.4.0 in /home/jupyter/.local/lib/python3.10/site-packages (from dataclasses-json->d3rlpy) (0.9.0)\n",
      "Requirement already satisfied: jax-jumpy>=1.0.0 in /home/jupyter/.local/lib/python3.10/site-packages (from gymnasium->d3rlpy) (1.0.0)\n",
      "Requirement already satisfied: farama-notifications>=0.0.1 in /home/jupyter/.local/lib/python3.10/site-packages (from gymnasium->d3rlpy) (0.0.4)\n",
      "Requirement already satisfied: packaging>=17.0 in /kernel/lib/python3.10/site-packages (from marshmallow<4.0.0,>=3.18.0->dataclasses-json->d3rlpy) (24.0)\n",
      "Requirement already satisfied: mypy-extensions>=0.3.0 in /home/jupyter/.local/lib/python3.10/site-packages (from typing-inspect<1,>=0.4.0->dataclasses-json->d3rlpy) (1.0.0)\n",
      "Requirement already satisfied: MarkupSafe>=2.0 in /kernel/lib/python3.10/site-packages (from jinja2->torch>=2.0.0->d3rlpy) (2.1.5)\n",
      "Requirement already satisfied: mpmath>=0.19 in /usr/local/lib/python3.10/dist-packages (from sympy->torch>=2.0.0->d3rlpy) (1.3.0)\n",
      "\n",
      "\u001b[1m[\u001b[0m\u001b[34;49mnotice\u001b[0m\u001b[1;39;49m]\u001b[0m\u001b[39;49m A new release of pip is available: \u001b[0m\u001b[31;49m23.0.1\u001b[0m\u001b[39;49m -> \u001b[0m\u001b[32;49m24.0\u001b[0m\n",
      "\u001b[1m[\u001b[0m\u001b[34;49mnotice\u001b[0m\u001b[1;39;49m]\u001b[0m\u001b[39;49m To update, run: \u001b[0m\u001b[32;49mpython3 -m pip install --upgrade pip\u001b[0m\n"
     ]
    }
   ],
   "source": [
    "%pip install pogema\n",
    "%pip install d3rlpy"
   ]
  },
  {
   "cell_type": "markdown",
   "id": "272417da-5517-4116-b229-8bbb3fd59e5c",
   "metadata": {},
   "source": [
    "## Шаг 1. Загрузим среду\n",
    "\n",
    "Загрузим среду pogema (статья \"POGEMA: Partially Observable Grid Environment for Multiple Agents\" https://arxiv.org/abs/2206.10944, код https://github.com/AIRI-Institute/pogema , документация библиотеки https://pypi.org/project/pogema/)\n",
    "\n",
    "Для этой среды подгтовила обертку CustomReward, основная задача которой штрафовать агента, если он находится на в окрестности одной клетки от цели. В таком случае расстояние между агентом и целью будет больше 1,5. Если агент ниже или выше, правее или левее цели на одну клетку, то расстояние == 1. Если по диагонали, то 1,4.\n",
    "Вторая обертка из ноутбука, представленного на занятии, для преобразования наблюдения в одномерный вектор, чтобы можно было использовать в библиотеке d3rlpy.\n",
    "\n",
    "Инициирую среду в той конфигруации, что указано в задании. Единственное, выберу random_seed = 2. При таком seed немного интереснее интерфейс.\n",
    "\n",
    "В конце выведу 3 примера на экран, чтобы проверить как работают обертки."
   ]
  },
  {
   "cell_type": "code",
   "execution_count": 6,
   "id": "4561d250-6f17-4be3-90bb-3f892585e4fa",
   "metadata": {
    "colab": {
     "base_uri": "https://localhost:8080/"
    },
    "execution": {
     "iopub.execute_input": "2024-04-13T14:57:57.143827Z",
     "iopub.status.busy": "2024-04-13T14:57:57.143163Z",
     "iopub.status.idle": "2024-04-13T14:57:57.189857Z",
     "shell.execute_reply": "2024-04-13T14:57:57.189214Z",
     "shell.execute_reply.started": "2024-04-13T14:57:57.143806Z"
    },
    "id": "4561d250-6f17-4be3-90bb-3f892585e4fa",
    "outputId": "fd4d2572-807a-456d-f009-9564dca110ed",
    "tags": []
   },
   "outputs": [
    {
     "name": "stdout",
     "output_type": "stream",
     "text": [
      "Начальное наблюдение в виде вектора: 49\n",
      "\u001b[37m . \u001b[0m\u001b[37m . \u001b[0m\u001b[37m . \u001b[0m\u001b[37m . \u001b[0m\u001b[37m . \u001b[0m\u001b[37m . \u001b[0m\u001b[37m . \u001b[0m\u001b[37m . \u001b[0m\u001b[37m . \u001b[0m\u001b[37m . \u001b[0m\u001b[37m . \u001b[0m\u001b[37m . \u001b[0m\u001b[37m . \u001b[0m\u001b[37m . \u001b[0m\u001b[37m . \u001b[0m\u001b[37m . \u001b[0m\u001b[37m . \u001b[0m\u001b[37m . \u001b[0m\u001b[37m . \u001b[0m\u001b[37m . \u001b[0m\u001b[37m . \u001b[0m\n",
      "\u001b[37m . \u001b[0m\u001b[37m . \u001b[0m\u001b[37m . \u001b[0m\u001b[37m . \u001b[0m\u001b[37m . \u001b[0m\u001b[37m . \u001b[0m\u001b[37m . \u001b[0m\u001b[37m . \u001b[0m\u001b[37m . \u001b[0m\u001b[37m . \u001b[0m\u001b[37m . \u001b[0m\u001b[37m . \u001b[0m\u001b[37m . \u001b[0m\u001b[37m . \u001b[0m\u001b[37m . \u001b[0m\u001b[37m . \u001b[0m\u001b[37m . \u001b[0m\u001b[37m . \u001b[0m\u001b[37m . \u001b[0m\u001b[37m . \u001b[0m\u001b[37m . \u001b[0m\n",
      "\u001b[37m . \u001b[0m\u001b[37m . \u001b[0m\u001b[46m   \u001b[0m\u001b[46m   \u001b[0m\u001b[46m   \u001b[0m\u001b[46m   \u001b[0m\u001b[46m   \u001b[0m\u001b[46m   \u001b[0m\u001b[46m   \u001b[0m\u001b[46m   \u001b[0m\u001b[46m   \u001b[0m\u001b[46m   \u001b[0m\u001b[46m   \u001b[0m\u001b[46m   \u001b[0m\u001b[46m   \u001b[0m\u001b[46m   \u001b[0m\u001b[46m   \u001b[0m\u001b[46m   \u001b[0m\u001b[46m   \u001b[0m\u001b[37m . \u001b[0m\u001b[37m . \u001b[0m\n",
      "\u001b[37m . \u001b[0m\u001b[37m . \u001b[0m\u001b[46m   \u001b[0m\u001b[37m . \u001b[0m\u001b[37m . \u001b[0m\u001b[46m   \u001b[0m\u001b[37m . \u001b[0m\u001b[46m   \u001b[0m\u001b[46m   \u001b[0m\u001b[37m . \u001b[0m\u001b[37m . \u001b[0m\u001b[37m . \u001b[0m\u001b[46m   \u001b[0m\u001b[37m . \u001b[0m\u001b[37m . \u001b[0m\u001b[37m . \u001b[0m\u001b[46m   \u001b[0m\u001b[37m . \u001b[0m\u001b[46m   \u001b[0m\u001b[37m . \u001b[0m\u001b[37m . \u001b[0m\n",
      "\u001b[37m . \u001b[0m\u001b[37m . \u001b[0m\u001b[46m   \u001b[0m\u001b[46m   \u001b[0m\u001b[46m   \u001b[0m\u001b[46m   \u001b[0m\u001b[37m . \u001b[0m\u001b[37m . \u001b[0m\u001b[37m . \u001b[0m\u001b[37m . \u001b[0m\u001b[46m   \u001b[0m\u001b[46m   \u001b[0m\u001b[37m . \u001b[0m\u001b[46m   \u001b[0m\u001b[37m . \u001b[0m\u001b[46m   \u001b[0m\u001b[37m . \u001b[0m\u001b[37m . \u001b[0m\u001b[46m   \u001b[0m\u001b[37m . \u001b[0m\u001b[37m . \u001b[0m\n",
      "\u001b[37m . \u001b[0m\u001b[37m . \u001b[0m\u001b[46m   \u001b[0m\u001b[37m . \u001b[0m\u001b[46m   \u001b[0m\u001b[46m   \u001b[0m\u001b[46m   \u001b[0m\u001b[46m   \u001b[0m\u001b[37m . \u001b[0m\u001b[37m . \u001b[0m\u001b[37m . \u001b[0m\u001b[46m   \u001b[0m\u001b[37m . \u001b[0m\u001b[46m   \u001b[0m\u001b[46m   \u001b[0m\u001b[46m   \u001b[0m\u001b[37m . \u001b[0m\u001b[46m   \u001b[0m\u001b[46m   \u001b[0m\u001b[37m . \u001b[0m\u001b[37m . \u001b[0m\n",
      "\u001b[37m . \u001b[0m\u001b[37m . \u001b[0m\u001b[46m   \u001b[0m\u001b[37m . \u001b[0m\u001b[37m . \u001b[0m\u001b[37m . \u001b[0m\u001b[37m . \u001b[0m\u001b[37m . \u001b[0m\u001b[46m   \u001b[0m\u001b[37m . \u001b[0m\u001b[46m   \u001b[0m\u001b[46m   \u001b[0m\u001b[37m . \u001b[0m\u001b[46m   \u001b[0m\u001b[37m . \u001b[0m\u001b[46m   \u001b[0m\u001b[37m . \u001b[0m\u001b[37m . \u001b[0m\u001b[46m   \u001b[0m\u001b[37m . \u001b[0m\u001b[37m . \u001b[0m\n",
      "\u001b[37m . \u001b[0m\u001b[37m . \u001b[0m\u001b[46m   \u001b[0m\u001b[37m . \u001b[0m\u001b[37m . \u001b[0m\u001b[46m   \u001b[0m\u001b[37m . \u001b[0m\u001b[37m . \u001b[0m\u001b[46m   \u001b[0m\u001b[37m . \u001b[0m\u001b[37m . \u001b[0m\u001b[37m . \u001b[0m\u001b[46m   \u001b[0m\u001b[37m . \u001b[0m\u001b[46m   \u001b[0m\u001b[46m   \u001b[0m\u001b[37m . \u001b[0m\u001b[46m   \u001b[0m\u001b[46m   \u001b[0m\u001b[37m . \u001b[0m\u001b[37m . \u001b[0m\n",
      "\u001b[37m . \u001b[0m\u001b[37m . \u001b[0m\u001b[46m   \u001b[0m\u001b[37m . \u001b[0m\u001b[46m   \u001b[0m\u001b[37m . \u001b[0m\u001b[46m   \u001b[0m\u001b[37m . \u001b[0m\u001b[37m . \u001b[0m\u001b[37m . \u001b[0m\u001b[46m   \u001b[0m\u001b[46m   \u001b[0m\u001b[37m . \u001b[0m\u001b[37m . \u001b[0m\u001b[37m . \u001b[0m\u001b[46m   \u001b[0m\u001b[37m . \u001b[0m\u001b[37m . \u001b[0m\u001b[46m   \u001b[0m\u001b[37m . \u001b[0m\u001b[37m . \u001b[0m\n",
      "\u001b[37m . \u001b[0m\u001b[37m . \u001b[0m\u001b[46m   \u001b[0m\u001b[46m   \u001b[0m\u001b[37m . \u001b[0m\u001b[37m|0|\u001b[0m\u001b[37m . \u001b[0m\u001b[37m . \u001b[0m\u001b[37m . \u001b[0m\u001b[37m . \u001b[0m\u001b[37m . \u001b[0m\u001b[37m . \u001b[0m\u001b[37m . \u001b[0m\u001b[37m . \u001b[0m\u001b[37m . \u001b[0m\u001b[46m   \u001b[0m\u001b[37m . \u001b[0m\u001b[46m   \u001b[0m\u001b[46m   \u001b[0m\u001b[37m . \u001b[0m\u001b[37m . \u001b[0m\n",
      "\u001b[37m . \u001b[0m\u001b[37m . \u001b[0m\u001b[46m   \u001b[0m\u001b[46m   \u001b[0m\u001b[37m . \u001b[0m\u001b[37m . \u001b[0m\u001b[37m . \u001b[0m\u001b[46m   \u001b[0m\u001b[37m . \u001b[0m\u001b[37m . \u001b[0m\u001b[37m . \u001b[0m\u001b[46m   \u001b[0m\u001b[46m   \u001b[0m\u001b[46m   \u001b[0m\u001b[46m   \u001b[0m\u001b[37m . \u001b[0m\u001b[46m   \u001b[0m\u001b[46m   \u001b[0m\u001b[46m   \u001b[0m\u001b[37m . \u001b[0m\u001b[37m . \u001b[0m\n",
      "\u001b[37m . \u001b[0m\u001b[37m . \u001b[0m\u001b[46m   \u001b[0m\u001b[37m . \u001b[0m\u001b[37m . \u001b[0m\u001b[46m   \u001b[0m\u001b[37m . \u001b[0m\u001b[37m . \u001b[0m\u001b[46m   \u001b[0m\u001b[46m   \u001b[0m\u001b[37m . \u001b[0m\u001b[46m   \u001b[0m\u001b[37m . \u001b[0m\u001b[46m   \u001b[0m\u001b[46m   \u001b[0m\u001b[46m   \u001b[0m\u001b[37m . \u001b[0m\u001b[46m   \u001b[0m\u001b[46m   \u001b[0m\u001b[37m . \u001b[0m\u001b[37m . \u001b[0m\n",
      "\u001b[37m . \u001b[0m\u001b[37m . \u001b[0m\u001b[46m   \u001b[0m\u001b[37m . \u001b[0m\u001b[46m   \u001b[0m\u001b[37m . \u001b[0m\u001b[37m . \u001b[0m\u001b[37m . \u001b[0m\u001b[37m . \u001b[0m\u001b[37m . \u001b[0m\u001b[46m   \u001b[0m\u001b[46m   \u001b[0m\u001b[37m . \u001b[0m\u001b[37m . \u001b[0m\u001b[37m . \u001b[0m\u001b[46m   \u001b[0m\u001b[37m . \u001b[0m\u001b[46m   \u001b[0m\u001b[46m   \u001b[0m\u001b[37m . \u001b[0m\u001b[37m . \u001b[0m\n",
      "\u001b[37m . \u001b[0m\u001b[37m . \u001b[0m\u001b[46m   \u001b[0m\u001b[46m   \u001b[0m\u001b[37m . \u001b[0m\u001b[46m   \u001b[0m\u001b[37m . \u001b[0m\u001b[46m   \u001b[0m\u001b[37m . \u001b[0m\u001b[37m . \u001b[0m\u001b[37m . \u001b[0m\u001b[46m   \u001b[0m\u001b[46m   \u001b[0m\u001b[46m   \u001b[0m\u001b[37m . \u001b[0m\u001b[37m . \u001b[0m\u001b[37m . \u001b[0m\u001b[37m . \u001b[0m\u001b[46m   \u001b[0m\u001b[37m . \u001b[0m\u001b[37m . \u001b[0m\n",
      "\u001b[37m . \u001b[0m\u001b[37m . \u001b[0m\u001b[46m   \u001b[0m\u001b[46m   \u001b[0m\u001b[46m   \u001b[0m\u001b[46m   \u001b[0m\u001b[46m   \u001b[0m\u001b[37m . \u001b[0m\u001b[37m . \u001b[0m\u001b[37m . \u001b[0m\u001b[37m . \u001b[0m\u001b[46m   \u001b[0m\u001b[46m   \u001b[0m\u001b[37m . \u001b[0m\u001b[37m . \u001b[0m\u001b[46m   \u001b[0m\u001b[37m . \u001b[0m\u001b[46m   \u001b[0m\u001b[46m   \u001b[0m\u001b[37m . \u001b[0m\u001b[37m . \u001b[0m\n",
      "\u001b[37m . \u001b[0m\u001b[37m . \u001b[0m\u001b[46m   \u001b[0m\u001b[46m   \u001b[0m\u001b[46m   \u001b[0m\u001b[37m . \u001b[0m\u001b[37m . \u001b[0m\u001b[37m . \u001b[0m\u001b[46m   \u001b[0m\u001b[46m   \u001b[0m\u001b[37m . \u001b[0m\u001b[46m   \u001b[0m\u001b[46m   \u001b[0m\u001b[46m   \u001b[0m\u001b[37m . \u001b[0m\u001b[46m   \u001b[0m\u001b[37m . \u001b[0m\u001b[37m . \u001b[0m\u001b[46m   \u001b[0m\u001b[37m . \u001b[0m\u001b[37m . \u001b[0m\n",
      "\u001b[37m . \u001b[0m\u001b[37m . \u001b[0m\u001b[46m   \u001b[0m\u001b[46m   \u001b[0m\u001b[37m . \u001b[0m\u001b[46m   \u001b[0m\u001b[31;1m 0 \u001b[0m\u001b[37m . \u001b[0m\u001b[46m   \u001b[0m\u001b[37m . \u001b[0m\u001b[37m . \u001b[0m\u001b[37m . \u001b[0m\u001b[37m . \u001b[0m\u001b[37m . \u001b[0m\u001b[37m . \u001b[0m\u001b[46m   \u001b[0m\u001b[46m   \u001b[0m\u001b[37m . \u001b[0m\u001b[46m   \u001b[0m\u001b[37m . \u001b[0m\u001b[37m . \u001b[0m\n",
      "\u001b[37m . \u001b[0m\u001b[37m . \u001b[0m\u001b[46m   \u001b[0m\u001b[46m   \u001b[0m\u001b[37m . \u001b[0m\u001b[46m   \u001b[0m\u001b[46m   \u001b[0m\u001b[37m . \u001b[0m\u001b[37m . \u001b[0m\u001b[46m   \u001b[0m\u001b[46m   \u001b[0m\u001b[37m . \u001b[0m\u001b[37m . \u001b[0m\u001b[37m . \u001b[0m\u001b[37m . \u001b[0m\u001b[46m   \u001b[0m\u001b[46m   \u001b[0m\u001b[46m   \u001b[0m\u001b[46m   \u001b[0m\u001b[37m . \u001b[0m\u001b[37m . \u001b[0m\n",
      "\u001b[37m . \u001b[0m\u001b[37m . \u001b[0m\u001b[46m   \u001b[0m\u001b[46m   \u001b[0m\u001b[46m   \u001b[0m\u001b[46m   \u001b[0m\u001b[46m   \u001b[0m\u001b[46m   \u001b[0m\u001b[46m   \u001b[0m\u001b[46m   \u001b[0m\u001b[46m   \u001b[0m\u001b[46m   \u001b[0m\u001b[46m   \u001b[0m\u001b[46m   \u001b[0m\u001b[46m   \u001b[0m\u001b[46m   \u001b[0m\u001b[46m   \u001b[0m\u001b[46m   \u001b[0m\u001b[46m   \u001b[0m\u001b[37m . \u001b[0m\u001b[37m . \u001b[0m\n",
      "\u001b[37m . \u001b[0m\u001b[37m . \u001b[0m\u001b[37m . \u001b[0m\u001b[37m . \u001b[0m\u001b[37m . \u001b[0m\u001b[37m . \u001b[0m\u001b[37m . \u001b[0m\u001b[37m . \u001b[0m\u001b[37m . \u001b[0m\u001b[37m . \u001b[0m\u001b[37m . \u001b[0m\u001b[37m . \u001b[0m\u001b[37m . \u001b[0m\u001b[37m . \u001b[0m\u001b[37m . \u001b[0m\u001b[37m . \u001b[0m\u001b[37m . \u001b[0m\u001b[37m . \u001b[0m\u001b[37m . \u001b[0m\u001b[37m . \u001b[0m\u001b[37m . \u001b[0m\n",
      "\u001b[37m . \u001b[0m\u001b[37m . \u001b[0m\u001b[37m . \u001b[0m\u001b[37m . \u001b[0m\u001b[37m . \u001b[0m\u001b[37m . \u001b[0m\u001b[37m . \u001b[0m\u001b[37m . \u001b[0m\u001b[37m . \u001b[0m\u001b[37m . \u001b[0m\u001b[37m . \u001b[0m\u001b[37m . \u001b[0m\u001b[37m . \u001b[0m\u001b[37m . \u001b[0m\u001b[37m . \u001b[0m\u001b[37m . \u001b[0m\u001b[37m . \u001b[0m\u001b[37m . \u001b[0m\u001b[37m . \u001b[0m\u001b[37m . \u001b[0m\u001b[37m . \u001b[0m\n",
      "Наблюдение: [1. 0. 1. 0. 1. 0. 0. 1. 1. 1. 1. 0. 0. 0. 1. 1. 0. 0. 0. 1. 1. 1. 0. 1.\n",
      " 0. 0. 1. 0. 1. 0. 1. 1. 0. 0. 1. 1. 1. 1. 1. 1. 1. 1. 0. 0. 0. 0. 0. 0.\n",
      " 0.], Награда: -0.1, Завершено: False, Положение агента [(16, 6)], Положение цели [(9, 5)], action 2\n",
      "\u001b[37m . \u001b[0m\u001b[37m . \u001b[0m\u001b[37m . \u001b[0m\u001b[37m . \u001b[0m\u001b[37m . \u001b[0m\u001b[37m . \u001b[0m\u001b[37m . \u001b[0m\u001b[37m . \u001b[0m\u001b[37m . \u001b[0m\u001b[37m . \u001b[0m\u001b[37m . \u001b[0m\u001b[37m . \u001b[0m\u001b[37m . \u001b[0m\u001b[37m . \u001b[0m\u001b[37m . \u001b[0m\u001b[37m . \u001b[0m\u001b[37m . \u001b[0m\u001b[37m . \u001b[0m\u001b[37m . \u001b[0m\u001b[37m . \u001b[0m\u001b[37m . \u001b[0m\n",
      "\u001b[37m . \u001b[0m\u001b[37m . \u001b[0m\u001b[37m . \u001b[0m\u001b[37m . \u001b[0m\u001b[37m . \u001b[0m\u001b[37m . \u001b[0m\u001b[37m . \u001b[0m\u001b[37m . \u001b[0m\u001b[37m . \u001b[0m\u001b[37m . \u001b[0m\u001b[37m . \u001b[0m\u001b[37m . \u001b[0m\u001b[37m . \u001b[0m\u001b[37m . \u001b[0m\u001b[37m . \u001b[0m\u001b[37m . \u001b[0m\u001b[37m . \u001b[0m\u001b[37m . \u001b[0m\u001b[37m . \u001b[0m\u001b[37m . \u001b[0m\u001b[37m . \u001b[0m\n",
      "\u001b[37m . \u001b[0m\u001b[37m . \u001b[0m\u001b[46m   \u001b[0m\u001b[46m   \u001b[0m\u001b[46m   \u001b[0m\u001b[46m   \u001b[0m\u001b[46m   \u001b[0m\u001b[46m   \u001b[0m\u001b[46m   \u001b[0m\u001b[46m   \u001b[0m\u001b[46m   \u001b[0m\u001b[46m   \u001b[0m\u001b[46m   \u001b[0m\u001b[46m   \u001b[0m\u001b[46m   \u001b[0m\u001b[46m   \u001b[0m\u001b[46m   \u001b[0m\u001b[46m   \u001b[0m\u001b[46m   \u001b[0m\u001b[37m . \u001b[0m\u001b[37m . \u001b[0m\n",
      "\u001b[37m . \u001b[0m\u001b[37m . \u001b[0m\u001b[46m   \u001b[0m\u001b[37m . \u001b[0m\u001b[37m . \u001b[0m\u001b[46m   \u001b[0m\u001b[37m . \u001b[0m\u001b[46m   \u001b[0m\u001b[46m   \u001b[0m\u001b[37m . \u001b[0m\u001b[37m . \u001b[0m\u001b[37m . \u001b[0m\u001b[46m   \u001b[0m\u001b[37m . \u001b[0m\u001b[37m . \u001b[0m\u001b[37m . \u001b[0m\u001b[46m   \u001b[0m\u001b[37m . \u001b[0m\u001b[46m   \u001b[0m\u001b[37m . \u001b[0m\u001b[37m . \u001b[0m\n",
      "\u001b[37m . \u001b[0m\u001b[37m . \u001b[0m\u001b[46m   \u001b[0m\u001b[46m   \u001b[0m\u001b[46m   \u001b[0m\u001b[46m   \u001b[0m\u001b[37m . \u001b[0m\u001b[37m . \u001b[0m\u001b[37m . \u001b[0m\u001b[37m . \u001b[0m\u001b[46m   \u001b[0m\u001b[46m   \u001b[0m\u001b[37m . \u001b[0m\u001b[46m   \u001b[0m\u001b[37m . \u001b[0m\u001b[46m   \u001b[0m\u001b[37m . \u001b[0m\u001b[37m . \u001b[0m\u001b[46m   \u001b[0m\u001b[37m . \u001b[0m\u001b[37m . \u001b[0m\n",
      "\u001b[37m . \u001b[0m\u001b[37m . \u001b[0m\u001b[46m   \u001b[0m\u001b[37m . \u001b[0m\u001b[46m   \u001b[0m\u001b[46m   \u001b[0m\u001b[46m   \u001b[0m\u001b[46m   \u001b[0m\u001b[37m . \u001b[0m\u001b[37m . \u001b[0m\u001b[37m . \u001b[0m\u001b[46m   \u001b[0m\u001b[37m . \u001b[0m\u001b[46m   \u001b[0m\u001b[46m   \u001b[0m\u001b[46m   \u001b[0m\u001b[37m . \u001b[0m\u001b[46m   \u001b[0m\u001b[46m   \u001b[0m\u001b[37m . \u001b[0m\u001b[37m . \u001b[0m\n",
      "\u001b[37m . \u001b[0m\u001b[37m . \u001b[0m\u001b[46m   \u001b[0m\u001b[37m . \u001b[0m\u001b[37m . \u001b[0m\u001b[37m . \u001b[0m\u001b[37m . \u001b[0m\u001b[37m . \u001b[0m\u001b[46m   \u001b[0m\u001b[37m . \u001b[0m\u001b[46m   \u001b[0m\u001b[46m   \u001b[0m\u001b[37m . \u001b[0m\u001b[46m   \u001b[0m\u001b[37m . \u001b[0m\u001b[46m   \u001b[0m\u001b[37m . \u001b[0m\u001b[37m . \u001b[0m\u001b[46m   \u001b[0m\u001b[37m . \u001b[0m\u001b[37m . \u001b[0m\n",
      "\u001b[37m . \u001b[0m\u001b[37m . \u001b[0m\u001b[46m   \u001b[0m\u001b[37m . \u001b[0m\u001b[37m . \u001b[0m\u001b[46m   \u001b[0m\u001b[37m . \u001b[0m\u001b[37m . \u001b[0m\u001b[46m   \u001b[0m\u001b[37m . \u001b[0m\u001b[37m . \u001b[0m\u001b[37m . \u001b[0m\u001b[46m   \u001b[0m\u001b[37m . \u001b[0m\u001b[46m   \u001b[0m\u001b[46m   \u001b[0m\u001b[37m . \u001b[0m\u001b[46m   \u001b[0m\u001b[46m   \u001b[0m\u001b[37m . \u001b[0m\u001b[37m . \u001b[0m\n",
      "\u001b[37m . \u001b[0m\u001b[37m . \u001b[0m\u001b[46m   \u001b[0m\u001b[37m . \u001b[0m\u001b[46m   \u001b[0m\u001b[37m . \u001b[0m\u001b[46m   \u001b[0m\u001b[37m . \u001b[0m\u001b[37m . \u001b[0m\u001b[37m . \u001b[0m\u001b[46m   \u001b[0m\u001b[46m   \u001b[0m\u001b[37m . \u001b[0m\u001b[37m . \u001b[0m\u001b[37m . \u001b[0m\u001b[46m   \u001b[0m\u001b[37m . \u001b[0m\u001b[37m . \u001b[0m\u001b[46m   \u001b[0m\u001b[37m . \u001b[0m\u001b[37m . \u001b[0m\n",
      "\u001b[37m . \u001b[0m\u001b[37m . \u001b[0m\u001b[46m   \u001b[0m\u001b[46m   \u001b[0m\u001b[37m . \u001b[0m\u001b[37m|0|\u001b[0m\u001b[37m . \u001b[0m\u001b[37m . \u001b[0m\u001b[37m . \u001b[0m\u001b[37m . \u001b[0m\u001b[37m . \u001b[0m\u001b[37m . \u001b[0m\u001b[37m . \u001b[0m\u001b[37m . \u001b[0m\u001b[37m . \u001b[0m\u001b[46m   \u001b[0m\u001b[37m . \u001b[0m\u001b[46m   \u001b[0m\u001b[46m   \u001b[0m\u001b[37m . \u001b[0m\u001b[37m . \u001b[0m\n",
      "\u001b[37m . \u001b[0m\u001b[37m . \u001b[0m\u001b[46m   \u001b[0m\u001b[46m   \u001b[0m\u001b[37m . \u001b[0m\u001b[37m . \u001b[0m\u001b[37m . \u001b[0m\u001b[46m   \u001b[0m\u001b[37m . \u001b[0m\u001b[37m . \u001b[0m\u001b[37m . \u001b[0m\u001b[46m   \u001b[0m\u001b[46m   \u001b[0m\u001b[46m   \u001b[0m\u001b[46m   \u001b[0m\u001b[37m . \u001b[0m\u001b[46m   \u001b[0m\u001b[46m   \u001b[0m\u001b[46m   \u001b[0m\u001b[37m . \u001b[0m\u001b[37m . \u001b[0m\n",
      "\u001b[37m . \u001b[0m\u001b[37m . \u001b[0m\u001b[46m   \u001b[0m\u001b[37m . \u001b[0m\u001b[37m . \u001b[0m\u001b[46m   \u001b[0m\u001b[37m . \u001b[0m\u001b[37m . \u001b[0m\u001b[46m   \u001b[0m\u001b[46m   \u001b[0m\u001b[37m . \u001b[0m\u001b[46m   \u001b[0m\u001b[37m . \u001b[0m\u001b[46m   \u001b[0m\u001b[46m   \u001b[0m\u001b[46m   \u001b[0m\u001b[37m . \u001b[0m\u001b[46m   \u001b[0m\u001b[46m   \u001b[0m\u001b[37m . \u001b[0m\u001b[37m . \u001b[0m\n",
      "\u001b[37m . \u001b[0m\u001b[37m . \u001b[0m\u001b[46m   \u001b[0m\u001b[37m . \u001b[0m\u001b[46m   \u001b[0m\u001b[37m . \u001b[0m\u001b[37m . \u001b[0m\u001b[37m . \u001b[0m\u001b[37m . \u001b[0m\u001b[37m . \u001b[0m\u001b[46m   \u001b[0m\u001b[46m   \u001b[0m\u001b[37m . \u001b[0m\u001b[37m . \u001b[0m\u001b[37m . \u001b[0m\u001b[46m   \u001b[0m\u001b[37m . \u001b[0m\u001b[46m   \u001b[0m\u001b[46m   \u001b[0m\u001b[37m . \u001b[0m\u001b[37m . \u001b[0m\n",
      "\u001b[37m . \u001b[0m\u001b[37m . \u001b[0m\u001b[46m   \u001b[0m\u001b[46m   \u001b[0m\u001b[37m . \u001b[0m\u001b[46m   \u001b[0m\u001b[37m . \u001b[0m\u001b[46m   \u001b[0m\u001b[37m . \u001b[0m\u001b[37m . \u001b[0m\u001b[37m . \u001b[0m\u001b[46m   \u001b[0m\u001b[46m   \u001b[0m\u001b[46m   \u001b[0m\u001b[37m . \u001b[0m\u001b[37m . \u001b[0m\u001b[37m . \u001b[0m\u001b[37m . \u001b[0m\u001b[46m   \u001b[0m\u001b[37m . \u001b[0m\u001b[37m . \u001b[0m\n",
      "\u001b[37m . \u001b[0m\u001b[37m . \u001b[0m\u001b[46m   \u001b[0m\u001b[46m   \u001b[0m\u001b[46m   \u001b[0m\u001b[46m   \u001b[0m\u001b[46m   \u001b[0m\u001b[37m . \u001b[0m\u001b[37m . \u001b[0m\u001b[37m . \u001b[0m\u001b[37m . \u001b[0m\u001b[46m   \u001b[0m\u001b[46m   \u001b[0m\u001b[37m . \u001b[0m\u001b[37m . \u001b[0m\u001b[46m   \u001b[0m\u001b[37m . \u001b[0m\u001b[46m   \u001b[0m\u001b[46m   \u001b[0m\u001b[37m . \u001b[0m\u001b[37m . \u001b[0m\n",
      "\u001b[37m . \u001b[0m\u001b[37m . \u001b[0m\u001b[46m   \u001b[0m\u001b[46m   \u001b[0m\u001b[46m   \u001b[0m\u001b[37m . \u001b[0m\u001b[37m . \u001b[0m\u001b[37m . \u001b[0m\u001b[46m   \u001b[0m\u001b[46m   \u001b[0m\u001b[37m . \u001b[0m\u001b[46m   \u001b[0m\u001b[46m   \u001b[0m\u001b[46m   \u001b[0m\u001b[37m . \u001b[0m\u001b[46m   \u001b[0m\u001b[37m . \u001b[0m\u001b[37m . \u001b[0m\u001b[46m   \u001b[0m\u001b[37m . \u001b[0m\u001b[37m . \u001b[0m\n",
      "\u001b[37m . \u001b[0m\u001b[37m . \u001b[0m\u001b[46m   \u001b[0m\u001b[46m   \u001b[0m\u001b[37m . \u001b[0m\u001b[46m   \u001b[0m\u001b[37m . \u001b[0m\u001b[31;1m 0 \u001b[0m\u001b[46m   \u001b[0m\u001b[37m . \u001b[0m\u001b[37m . \u001b[0m\u001b[37m . \u001b[0m\u001b[37m . \u001b[0m\u001b[37m . \u001b[0m\u001b[37m . \u001b[0m\u001b[46m   \u001b[0m\u001b[46m   \u001b[0m\u001b[37m . \u001b[0m\u001b[46m   \u001b[0m\u001b[37m . \u001b[0m\u001b[37m . \u001b[0m\n",
      "\u001b[37m . \u001b[0m\u001b[37m . \u001b[0m\u001b[46m   \u001b[0m\u001b[46m   \u001b[0m\u001b[37m . \u001b[0m\u001b[46m   \u001b[0m\u001b[46m   \u001b[0m\u001b[37m . \u001b[0m\u001b[37m . \u001b[0m\u001b[46m   \u001b[0m\u001b[46m   \u001b[0m\u001b[37m . \u001b[0m\u001b[37m . \u001b[0m\u001b[37m . \u001b[0m\u001b[37m . \u001b[0m\u001b[46m   \u001b[0m\u001b[46m   \u001b[0m\u001b[46m   \u001b[0m\u001b[46m   \u001b[0m\u001b[37m . \u001b[0m\u001b[37m . \u001b[0m\n",
      "\u001b[37m . \u001b[0m\u001b[37m . \u001b[0m\u001b[46m   \u001b[0m\u001b[46m   \u001b[0m\u001b[46m   \u001b[0m\u001b[46m   \u001b[0m\u001b[46m   \u001b[0m\u001b[46m   \u001b[0m\u001b[46m   \u001b[0m\u001b[46m   \u001b[0m\u001b[46m   \u001b[0m\u001b[46m   \u001b[0m\u001b[46m   \u001b[0m\u001b[46m   \u001b[0m\u001b[46m   \u001b[0m\u001b[46m   \u001b[0m\u001b[46m   \u001b[0m\u001b[46m   \u001b[0m\u001b[46m   \u001b[0m\u001b[37m . \u001b[0m\u001b[37m . \u001b[0m\n",
      "\u001b[37m . \u001b[0m\u001b[37m . \u001b[0m\u001b[37m . \u001b[0m\u001b[37m . \u001b[0m\u001b[37m . \u001b[0m\u001b[37m . \u001b[0m\u001b[37m . \u001b[0m\u001b[37m . \u001b[0m\u001b[37m . \u001b[0m\u001b[37m . \u001b[0m\u001b[37m . \u001b[0m\u001b[37m . \u001b[0m\u001b[37m . \u001b[0m\u001b[37m . \u001b[0m\u001b[37m . \u001b[0m\u001b[37m . \u001b[0m\u001b[37m . \u001b[0m\u001b[37m . \u001b[0m\u001b[37m . \u001b[0m\u001b[37m . \u001b[0m\u001b[37m . \u001b[0m\n",
      "\u001b[37m . \u001b[0m\u001b[37m . \u001b[0m\u001b[37m . \u001b[0m\u001b[37m . \u001b[0m\u001b[37m . \u001b[0m\u001b[37m . \u001b[0m\u001b[37m . \u001b[0m\u001b[37m . \u001b[0m\u001b[37m . \u001b[0m\u001b[37m . \u001b[0m\u001b[37m . \u001b[0m\u001b[37m . \u001b[0m\u001b[37m . \u001b[0m\u001b[37m . \u001b[0m\u001b[37m . \u001b[0m\u001b[37m . \u001b[0m\u001b[37m . \u001b[0m\u001b[37m . \u001b[0m\u001b[37m . \u001b[0m\u001b[37m . \u001b[0m\u001b[37m . \u001b[0m\n",
      "Наблюдение: [0. 1. 0. 1. 0. 0. 0. 1. 1. 1. 0. 0. 0. 0. 1. 0. 0. 0. 1. 1. 0. 0. 1. 0.\n",
      " 0. 1. 0. 0. 0. 1. 1. 0. 0. 1. 1. 1. 1. 1. 1. 1. 1. 1. 0. 0. 0. 0. 0. 0.\n",
      " 0.], Награда: -0.1, Завершено: False, Положение агента [(16, 7)], Положение цели [(9, 5)], action 4\n",
      "\u001b[37m . \u001b[0m\u001b[37m . \u001b[0m\u001b[37m . \u001b[0m\u001b[37m . \u001b[0m\u001b[37m . \u001b[0m\u001b[37m . \u001b[0m\u001b[37m . \u001b[0m\u001b[37m . \u001b[0m\u001b[37m . \u001b[0m\u001b[37m . \u001b[0m\u001b[37m . \u001b[0m\u001b[37m . \u001b[0m\u001b[37m . \u001b[0m\u001b[37m . \u001b[0m\u001b[37m . \u001b[0m\u001b[37m . \u001b[0m\u001b[37m . \u001b[0m\u001b[37m . \u001b[0m\u001b[37m . \u001b[0m\u001b[37m . \u001b[0m\u001b[37m . \u001b[0m\n",
      "\u001b[37m . \u001b[0m\u001b[37m . \u001b[0m\u001b[37m . \u001b[0m\u001b[37m . \u001b[0m\u001b[37m . \u001b[0m\u001b[37m . \u001b[0m\u001b[37m . \u001b[0m\u001b[37m . \u001b[0m\u001b[37m . \u001b[0m\u001b[37m . \u001b[0m\u001b[37m . \u001b[0m\u001b[37m . \u001b[0m\u001b[37m . \u001b[0m\u001b[37m . \u001b[0m\u001b[37m . \u001b[0m\u001b[37m . \u001b[0m\u001b[37m . \u001b[0m\u001b[37m . \u001b[0m\u001b[37m . \u001b[0m\u001b[37m . \u001b[0m\u001b[37m . \u001b[0m\n",
      "\u001b[37m . \u001b[0m\u001b[37m . \u001b[0m\u001b[46m   \u001b[0m\u001b[46m   \u001b[0m\u001b[46m   \u001b[0m\u001b[46m   \u001b[0m\u001b[46m   \u001b[0m\u001b[46m   \u001b[0m\u001b[46m   \u001b[0m\u001b[46m   \u001b[0m\u001b[46m   \u001b[0m\u001b[46m   \u001b[0m\u001b[46m   \u001b[0m\u001b[46m   \u001b[0m\u001b[46m   \u001b[0m\u001b[46m   \u001b[0m\u001b[46m   \u001b[0m\u001b[46m   \u001b[0m\u001b[46m   \u001b[0m\u001b[37m . \u001b[0m\u001b[37m . \u001b[0m\n",
      "\u001b[37m . \u001b[0m\u001b[37m . \u001b[0m\u001b[46m   \u001b[0m\u001b[37m . \u001b[0m\u001b[37m . \u001b[0m\u001b[46m   \u001b[0m\u001b[37m . \u001b[0m\u001b[46m   \u001b[0m\u001b[46m   \u001b[0m\u001b[37m . \u001b[0m\u001b[37m . \u001b[0m\u001b[37m . \u001b[0m\u001b[46m   \u001b[0m\u001b[37m . \u001b[0m\u001b[37m . \u001b[0m\u001b[37m . \u001b[0m\u001b[46m   \u001b[0m\u001b[37m . \u001b[0m\u001b[46m   \u001b[0m\u001b[37m . \u001b[0m\u001b[37m . \u001b[0m\n",
      "\u001b[37m . \u001b[0m\u001b[37m . \u001b[0m\u001b[46m   \u001b[0m\u001b[46m   \u001b[0m\u001b[46m   \u001b[0m\u001b[46m   \u001b[0m\u001b[37m . \u001b[0m\u001b[37m . \u001b[0m\u001b[37m . \u001b[0m\u001b[37m . \u001b[0m\u001b[46m   \u001b[0m\u001b[46m   \u001b[0m\u001b[37m . \u001b[0m\u001b[46m   \u001b[0m\u001b[37m . \u001b[0m\u001b[46m   \u001b[0m\u001b[37m . \u001b[0m\u001b[37m . \u001b[0m\u001b[46m   \u001b[0m\u001b[37m . \u001b[0m\u001b[37m . \u001b[0m\n",
      "\u001b[37m . \u001b[0m\u001b[37m . \u001b[0m\u001b[46m   \u001b[0m\u001b[37m . \u001b[0m\u001b[46m   \u001b[0m\u001b[46m   \u001b[0m\u001b[46m   \u001b[0m\u001b[46m   \u001b[0m\u001b[37m . \u001b[0m\u001b[37m . \u001b[0m\u001b[37m . \u001b[0m\u001b[46m   \u001b[0m\u001b[37m . \u001b[0m\u001b[46m   \u001b[0m\u001b[46m   \u001b[0m\u001b[46m   \u001b[0m\u001b[37m . \u001b[0m\u001b[46m   \u001b[0m\u001b[46m   \u001b[0m\u001b[37m . \u001b[0m\u001b[37m . \u001b[0m\n",
      "\u001b[37m . \u001b[0m\u001b[37m . \u001b[0m\u001b[46m   \u001b[0m\u001b[37m . \u001b[0m\u001b[37m . \u001b[0m\u001b[37m . \u001b[0m\u001b[37m . \u001b[0m\u001b[37m . \u001b[0m\u001b[46m   \u001b[0m\u001b[37m . \u001b[0m\u001b[46m   \u001b[0m\u001b[46m   \u001b[0m\u001b[37m . \u001b[0m\u001b[46m   \u001b[0m\u001b[37m . \u001b[0m\u001b[46m   \u001b[0m\u001b[37m . \u001b[0m\u001b[37m . \u001b[0m\u001b[46m   \u001b[0m\u001b[37m . \u001b[0m\u001b[37m . \u001b[0m\n",
      "\u001b[37m . \u001b[0m\u001b[37m . \u001b[0m\u001b[46m   \u001b[0m\u001b[37m . \u001b[0m\u001b[37m . \u001b[0m\u001b[46m   \u001b[0m\u001b[37m . \u001b[0m\u001b[37m . \u001b[0m\u001b[46m   \u001b[0m\u001b[37m . \u001b[0m\u001b[37m . \u001b[0m\u001b[37m . \u001b[0m\u001b[46m   \u001b[0m\u001b[37m . \u001b[0m\u001b[46m   \u001b[0m\u001b[46m   \u001b[0m\u001b[37m . \u001b[0m\u001b[46m   \u001b[0m\u001b[46m   \u001b[0m\u001b[37m . \u001b[0m\u001b[37m . \u001b[0m\n",
      "\u001b[37m . \u001b[0m\u001b[37m . \u001b[0m\u001b[46m   \u001b[0m\u001b[37m . \u001b[0m\u001b[46m   \u001b[0m\u001b[37m . \u001b[0m\u001b[46m   \u001b[0m\u001b[37m . \u001b[0m\u001b[37m . \u001b[0m\u001b[37m . \u001b[0m\u001b[46m   \u001b[0m\u001b[46m   \u001b[0m\u001b[37m . \u001b[0m\u001b[37m . \u001b[0m\u001b[37m . \u001b[0m\u001b[46m   \u001b[0m\u001b[37m . \u001b[0m\u001b[37m . \u001b[0m\u001b[46m   \u001b[0m\u001b[37m . \u001b[0m\u001b[37m . \u001b[0m\n",
      "\u001b[37m . \u001b[0m\u001b[37m . \u001b[0m\u001b[46m   \u001b[0m\u001b[46m   \u001b[0m\u001b[37m . \u001b[0m\u001b[37m|0|\u001b[0m\u001b[37m . \u001b[0m\u001b[37m . \u001b[0m\u001b[37m . \u001b[0m\u001b[37m . \u001b[0m\u001b[37m . \u001b[0m\u001b[37m . \u001b[0m\u001b[37m . \u001b[0m\u001b[37m . \u001b[0m\u001b[37m . \u001b[0m\u001b[46m   \u001b[0m\u001b[37m . \u001b[0m\u001b[46m   \u001b[0m\u001b[46m   \u001b[0m\u001b[37m . \u001b[0m\u001b[37m . \u001b[0m\n",
      "\u001b[37m . \u001b[0m\u001b[37m . \u001b[0m\u001b[46m   \u001b[0m\u001b[46m   \u001b[0m\u001b[37m . \u001b[0m\u001b[37m . \u001b[0m\u001b[37m . \u001b[0m\u001b[46m   \u001b[0m\u001b[37m . \u001b[0m\u001b[37m . \u001b[0m\u001b[37m . \u001b[0m\u001b[46m   \u001b[0m\u001b[46m   \u001b[0m\u001b[46m   \u001b[0m\u001b[46m   \u001b[0m\u001b[37m . \u001b[0m\u001b[46m   \u001b[0m\u001b[46m   \u001b[0m\u001b[46m   \u001b[0m\u001b[37m . \u001b[0m\u001b[37m . \u001b[0m\n",
      "\u001b[37m . \u001b[0m\u001b[37m . \u001b[0m\u001b[46m   \u001b[0m\u001b[37m . \u001b[0m\u001b[37m . \u001b[0m\u001b[46m   \u001b[0m\u001b[37m . \u001b[0m\u001b[37m . \u001b[0m\u001b[46m   \u001b[0m\u001b[46m   \u001b[0m\u001b[37m . \u001b[0m\u001b[46m   \u001b[0m\u001b[37m . \u001b[0m\u001b[46m   \u001b[0m\u001b[46m   \u001b[0m\u001b[46m   \u001b[0m\u001b[37m . \u001b[0m\u001b[46m   \u001b[0m\u001b[46m   \u001b[0m\u001b[37m . \u001b[0m\u001b[37m . \u001b[0m\n",
      "\u001b[37m . \u001b[0m\u001b[37m . \u001b[0m\u001b[46m   \u001b[0m\u001b[37m . \u001b[0m\u001b[46m   \u001b[0m\u001b[37m . \u001b[0m\u001b[37m . \u001b[0m\u001b[37m . \u001b[0m\u001b[37m . \u001b[0m\u001b[37m . \u001b[0m\u001b[46m   \u001b[0m\u001b[46m   \u001b[0m\u001b[37m . \u001b[0m\u001b[37m . \u001b[0m\u001b[37m . \u001b[0m\u001b[46m   \u001b[0m\u001b[37m . \u001b[0m\u001b[46m   \u001b[0m\u001b[46m   \u001b[0m\u001b[37m . \u001b[0m\u001b[37m . \u001b[0m\n",
      "\u001b[37m . \u001b[0m\u001b[37m . \u001b[0m\u001b[46m   \u001b[0m\u001b[46m   \u001b[0m\u001b[37m . \u001b[0m\u001b[46m   \u001b[0m\u001b[37m . \u001b[0m\u001b[46m   \u001b[0m\u001b[37m . \u001b[0m\u001b[37m . \u001b[0m\u001b[37m . \u001b[0m\u001b[46m   \u001b[0m\u001b[46m   \u001b[0m\u001b[46m   \u001b[0m\u001b[37m . \u001b[0m\u001b[37m . \u001b[0m\u001b[37m . \u001b[0m\u001b[37m . \u001b[0m\u001b[46m   \u001b[0m\u001b[37m . \u001b[0m\u001b[37m . \u001b[0m\n",
      "\u001b[37m . \u001b[0m\u001b[37m . \u001b[0m\u001b[46m   \u001b[0m\u001b[46m   \u001b[0m\u001b[46m   \u001b[0m\u001b[46m   \u001b[0m\u001b[46m   \u001b[0m\u001b[37m . \u001b[0m\u001b[37m . \u001b[0m\u001b[37m . \u001b[0m\u001b[37m . \u001b[0m\u001b[46m   \u001b[0m\u001b[46m   \u001b[0m\u001b[37m . \u001b[0m\u001b[37m . \u001b[0m\u001b[46m   \u001b[0m\u001b[37m . \u001b[0m\u001b[46m   \u001b[0m\u001b[46m   \u001b[0m\u001b[37m . \u001b[0m\u001b[37m . \u001b[0m\n",
      "\u001b[37m . \u001b[0m\u001b[37m . \u001b[0m\u001b[46m   \u001b[0m\u001b[46m   \u001b[0m\u001b[46m   \u001b[0m\u001b[37m . \u001b[0m\u001b[37m . \u001b[0m\u001b[37m . \u001b[0m\u001b[46m   \u001b[0m\u001b[46m   \u001b[0m\u001b[37m . \u001b[0m\u001b[46m   \u001b[0m\u001b[46m   \u001b[0m\u001b[46m   \u001b[0m\u001b[37m . \u001b[0m\u001b[46m   \u001b[0m\u001b[37m . \u001b[0m\u001b[37m . \u001b[0m\u001b[46m   \u001b[0m\u001b[37m . \u001b[0m\u001b[37m . \u001b[0m\n",
      "\u001b[37m . \u001b[0m\u001b[37m . \u001b[0m\u001b[46m   \u001b[0m\u001b[46m   \u001b[0m\u001b[37m . \u001b[0m\u001b[46m   \u001b[0m\u001b[37m . \u001b[0m\u001b[37m . \u001b[0m\u001b[46m   \u001b[0m\u001b[37m . \u001b[0m\u001b[37m . \u001b[0m\u001b[37m . \u001b[0m\u001b[37m . \u001b[0m\u001b[37m . \u001b[0m\u001b[37m . \u001b[0m\u001b[46m   \u001b[0m\u001b[46m   \u001b[0m\u001b[37m . \u001b[0m\u001b[46m   \u001b[0m\u001b[37m . \u001b[0m\u001b[37m . \u001b[0m\n",
      "\u001b[37m . \u001b[0m\u001b[37m . \u001b[0m\u001b[46m   \u001b[0m\u001b[46m   \u001b[0m\u001b[37m . \u001b[0m\u001b[46m   \u001b[0m\u001b[46m   \u001b[0m\u001b[31;1m 0 \u001b[0m\u001b[37m . \u001b[0m\u001b[46m   \u001b[0m\u001b[46m   \u001b[0m\u001b[37m . \u001b[0m\u001b[37m . \u001b[0m\u001b[37m . \u001b[0m\u001b[37m . \u001b[0m\u001b[46m   \u001b[0m\u001b[46m   \u001b[0m\u001b[46m   \u001b[0m\u001b[46m   \u001b[0m\u001b[37m . \u001b[0m\u001b[37m . \u001b[0m\n",
      "\u001b[37m . \u001b[0m\u001b[37m . \u001b[0m\u001b[46m   \u001b[0m\u001b[46m   \u001b[0m\u001b[46m   \u001b[0m\u001b[46m   \u001b[0m\u001b[46m   \u001b[0m\u001b[46m   \u001b[0m\u001b[46m   \u001b[0m\u001b[46m   \u001b[0m\u001b[46m   \u001b[0m\u001b[46m   \u001b[0m\u001b[46m   \u001b[0m\u001b[46m   \u001b[0m\u001b[46m   \u001b[0m\u001b[46m   \u001b[0m\u001b[46m   \u001b[0m\u001b[46m   \u001b[0m\u001b[46m   \u001b[0m\u001b[37m . \u001b[0m\u001b[37m . \u001b[0m\n",
      "\u001b[37m . \u001b[0m\u001b[37m . \u001b[0m\u001b[37m . \u001b[0m\u001b[37m . \u001b[0m\u001b[37m . \u001b[0m\u001b[37m . \u001b[0m\u001b[37m . \u001b[0m\u001b[37m . \u001b[0m\u001b[37m . \u001b[0m\u001b[37m . \u001b[0m\u001b[37m . \u001b[0m\u001b[37m . \u001b[0m\u001b[37m . \u001b[0m\u001b[37m . \u001b[0m\u001b[37m . \u001b[0m\u001b[37m . \u001b[0m\u001b[37m . \u001b[0m\u001b[37m . \u001b[0m\u001b[37m . \u001b[0m\u001b[37m . \u001b[0m\u001b[37m . \u001b[0m\n",
      "\u001b[37m . \u001b[0m\u001b[37m . \u001b[0m\u001b[37m . \u001b[0m\u001b[37m . \u001b[0m\u001b[37m . \u001b[0m\u001b[37m . \u001b[0m\u001b[37m . \u001b[0m\u001b[37m . \u001b[0m\u001b[37m . \u001b[0m\u001b[37m . \u001b[0m\u001b[37m . \u001b[0m\u001b[37m . \u001b[0m\u001b[37m . \u001b[0m\u001b[37m . \u001b[0m\u001b[37m . \u001b[0m\u001b[37m . \u001b[0m\u001b[37m . \u001b[0m\u001b[37m . \u001b[0m\u001b[37m . \u001b[0m\u001b[37m . \u001b[0m\u001b[37m . \u001b[0m\n",
      "Наблюдение: [1. 1. 1. 0. 0. 0. 0. 1. 0. 0. 0. 1. 1. 0. 0. 1. 0. 0. 1. 0. 0. 0. 1. 1.\n",
      " 0. 0. 1. 1. 1. 1. 1. 1. 1. 1. 1. 0. 0. 0. 0. 0. 0. 0. 0. 0. 0. 0. 0. 0.\n",
      " 0.], Награда: -0.1, Завершено: False, Положение агента [(17, 7)], Положение цели [(9, 5)], action 2\n"
     ]
    }
   ],
   "source": [
    "import numpy as np\n",
    "import gym\n",
    "from pogema import pogema_v0, GridConfig\n",
    "import warnings\n",
    "warnings.filterwarnings(\"ignore\")\n",
    "\n",
    "\n",
    "class VectorObservationAndActionWrapper(gym.Wrapper):\n",
    "    def __init__(self, env):\n",
    "        super(VectorObservationAndActionWrapper, self).__init__(env)\n",
    "        self.action_space = env.action_space\n",
    "        obs_space = env.observation_space\n",
    "        size = obs_space.shape\n",
    "        new_size = 1*size[1]*size[2]\n",
    "        self.observation_space = gym.spaces.Box(low=np.zeros((new_size)),\n",
    "                                                high=np.ones((new_size)),\n",
    "                                                shape = (new_size,),\n",
    "                                                dtype=obs_space.dtype)\n",
    "\n",
    "\n",
    "    def reset(self):\n",
    "        observation, is_active = self.env.reset()\n",
    "        return observation[0][0].flatten(), is_active  # Возвращает наблюдение как одномерный вектор\n",
    "\n",
    "    def step(self, action):\n",
    "        # Упаковка действия в массив\n",
    "        obs, reward, trancated, terminated, info = self.env.step([action])\n",
    "\n",
    "        # Распаковка наблюдения, награды и флага завершения\n",
    "        return obs[0][0].flatten(), reward[0],  trancated[0], terminated[0], info[0]\n",
    "\n",
    "\n",
    "class CustomReward(gym.Wrapper):\n",
    "    def __init__(self, env):\n",
    "        super(CustomReward, self).__init__(env)\n",
    "\n",
    "    def step(self, action):\n",
    "        obs, reward, truncated, terminated, info = self.env.step(action)\n",
    "        target_coordinates = env.get_targets_xy()\n",
    "        agent_coordinates = env.get_agents_xy()\n",
    "        distance_to_target = ((agent_coordinates[0][0] - target_coordinates[0][0])**2 + (agent_coordinates[0][1] - target_coordinates[0][1])**2)**1/2\n",
    "        if distance_to_target > 1.5:\n",
    "          reward -=0.1\n",
    "\n",
    "        return  obs, reward, truncated, terminated, info\n",
    "\n",
    "    def reset(self):\n",
    "        \"\"\"Reset the environment and return the initial observation.\"\"\"\n",
    "        return self.env.reset()\n",
    "\n",
    "# Определение конфигурации среды\n",
    "grid_config = GridConfig(num_agents=1,  # количество агентов\n",
    "                         size=15,  # размер сетки\n",
    "                         density=0.4,  # плотность препятствий\n",
    "                         seed=2,  # зерно для генерации\n",
    "                         max_episode_steps=128,  # горизонт планирования\n",
    "                         obs_radius=3,  # радиус видимости\n",
    "                         )\n",
    "\n",
    "# Создание среды и обертывание ее\n",
    "env = pogema_v0(grid_config=grid_config)\n",
    "env = VectorObservationAndActionWrapper(env)\n",
    "env = CustomReward(env)\n",
    "\n",
    "# Тестирование среды\n",
    "obs = env.reset()\n",
    "print(\"Начальное наблюдение в виде вектора:\", len(obs[0]))\n",
    "\n",
    "for _ in range(3):\n",
    "    action = env.action_space.sample()  # Выбор случайного действия\n",
    "    obs, reward, trancated, terminated, info = env.step(action)\n",
    "    done =  trancated | terminated\n",
    "    env.render()\n",
    "    print(f\"Наблюдение: {obs}, Награда: {reward}, Завершено: {done}, Положение агента {env.get_agents_xy()}, Положение цели {env.get_targets_xy()}, action {action}\")\n",
    "    if done:\n",
    "        break\n"
   ]
  },
  {
   "cell_type": "markdown",
   "id": "640e832f-3efb-4eef-b3da-2abb9db27abe",
   "metadata": {},
   "source": [
    "Вроде бы все работает, можно приступать к основной части задания. Единственное, для отрисовки графиков обучения возьму функцию с семинара."
   ]
  },
  {
   "cell_type": "code",
   "execution_count": 4,
   "id": "kajIE_n56A9R",
   "metadata": {
    "execution": {
     "iopub.execute_input": "2024-04-13T14:51:26.676182Z",
     "iopub.status.busy": "2024-04-13T14:51:26.675782Z",
     "iopub.status.idle": "2024-04-13T14:51:26.721515Z",
     "shell.execute_reply": "2024-04-13T14:51:26.720878Z",
     "shell.execute_reply.started": "2024-04-13T14:51:26.676163Z"
    },
    "id": "kajIE_n56A9R",
    "tags": []
   },
   "outputs": [],
   "source": [
    "import matplotlib.pyplot as plt\n",
    "\n",
    "\n",
    "def plot_metrics(statistics, label):\n",
    "  epochs = []\n",
    "  returns = []\n",
    "  for stats in statistics:\n",
    "    epoch = stats[0]\n",
    "    metrics = stats[1]\n",
    "    env_return = metrics['environment']\n",
    "    epochs.append(epoch)\n",
    "    returns.append(env_return)\n",
    "  plt.plot(epochs, returns, label = label)\n",
    "\n",
    "\n",
    "def get_scores(data):\n",
    "  result = []\n",
    "  for i in range(len(data)):\n",
    "    result.append([scores[1]['environment'] for scores in data[i]])\n",
    "  return np.array(result)\n",
    "\n",
    "def visualize_with_std(data, proportions, label=\"default\"):\n",
    "  # Расчет средних значений и стандартных отклоненийt\n",
    "  means = {p: np.mean(get_scores(data[p]), axis=0) for p in proportions}\n",
    "  stds = {p: np.std(get_scores(data[p]), axis=0) for p in proportions}\n",
    "\n",
    "\n",
    "  for p in proportions:\n",
    "      x = np.arange(1, len(means[p]) + 1)\n",
    "      plt.plot(x, means[p], label=f'{label} - Mean of {p}')\n",
    "      plt.fill_between(x, means[p] - stds[p], means[p] + stds[p], alpha=0.2)\n",
    "\n",
    "  plt.title('Сравнение обучения на данных разного качества')"
   ]
  },
  {
   "cell_type": "markdown",
   "id": "d4abe271-1dbe-4a1c-9a06-5bfbeb7df477",
   "metadata": {},
   "source": [
    "# Обучение off-line на эталонных данных\n",
    "\n",
    "Как предлагали на занятии, в качестве эталонных данных будем использовать буфер состояний, собранный во время Q-обучения. Для этого воспользуюсь алгоритмом DQN из библиотеки d3rlpy. Все параметры возьму стандартные, установлю величину буфера == 100 000. В процессе обучения агента собираются данные по rollout-return, график по изменению этой величины после обучения.\n",
    "\n",
    "## Сбор эталонных данных"
   ]
  },
  {
   "cell_type": "code",
   "execution_count": 7,
   "id": "f0d5fbbf-c6b7-4f1a-8fbc-3181f2b5f770",
   "metadata": {
    "colab": {
     "base_uri": "https://localhost:8080/",
     "height": 1000,
     "referenced_widgets": [
      "76b1d6c1bc4f487faca5664e50806e81",
      "6098ccbfd9424546bd8ae0f47e4b4cfb",
      "bf0265b9ebab4f3ca4ef1920b500e2f2",
      "e946bb14a4524333989e7024717f2182",
      "29afa5d89d114ab4bcfd7206524b9a57",
      "a866e1567ae84984b6572fbe78123fbb",
      "58ae38d4f41147389b55997bfe0c8ad3",
      "4f204b08d4cd46329ec9d6b4fda58f2c",
      "28ef035f83e243859f66acd593366cfe",
      "53ae18c6cc404c37a02a0d4e63085d76",
      "b0a8567760c74b6a97ea0cfcb07e204d"
     ]
    },
    "execution": {
     "iopub.execute_input": "2024-04-13T14:58:12.865567Z",
     "iopub.status.busy": "2024-04-13T14:58:12.865170Z",
     "iopub.status.idle": "2024-04-13T15:07:52.274227Z",
     "shell.execute_reply": "2024-04-13T15:07:52.273472Z",
     "shell.execute_reply.started": "2024-04-13T14:58:12.865547Z"
    },
    "id": "f0d5fbbf-c6b7-4f1a-8fbc-3181f2b5f770",
    "outputId": "1ee32dc1-7619-4978-ff66-f9fe32bf9f6c",
    "tags": []
   },
   "outputs": [
    {
     "name": "stdout",
     "output_type": "stream",
     "text": [
      "\u001b[2m2024-04-13 14:58.12\u001b[0m [\u001b[32m\u001b[1minfo     \u001b[0m] \u001b[1mSignatures have been automatically determined.\u001b[0m \u001b[36maction_signature\u001b[0m=\u001b[35mSignature(dtype=[dtype('int64')], shape=[()])\u001b[0m \u001b[36mobservation_signature\u001b[0m=\u001b[35mSignature(dtype=[dtype('float32')], shape=[(49,)])\u001b[0m \u001b[36mreward_signature\u001b[0m=\u001b[35mSignature(dtype=[dtype('float32')], shape=[[1]])\u001b[0m\n",
      "\u001b[2m2024-04-13 14:58.12\u001b[0m [\u001b[32m\u001b[1minfo     \u001b[0m] \u001b[1mAction-space has been automatically determined.\u001b[0m \u001b[36maction_space\u001b[0m=\u001b[35m<ActionSpace.DISCRETE: 2>\u001b[0m\n",
      "\u001b[2m2024-04-13 14:58.12\u001b[0m [\u001b[32m\u001b[1minfo     \u001b[0m] \u001b[1mAction size has been automatically determined.\u001b[0m \u001b[36maction_size\u001b[0m=\u001b[35m5\u001b[0m\n",
      "\u001b[2m2024-04-13 14:58.12\u001b[0m [\u001b[32m\u001b[1minfo     \u001b[0m] \u001b[1mDirectory is created at d3rlpy_logs/DQN_online_20240413145812\u001b[0m\n",
      "\u001b[2m2024-04-13 14:58.12\u001b[0m [\u001b[32m\u001b[1mdebug    \u001b[0m] \u001b[1mBuilding model...             \u001b[0m\n",
      "\u001b[2m2024-04-13 14:58.12\u001b[0m [\u001b[32m\u001b[1mdebug    \u001b[0m] \u001b[1mModel has been built.         \u001b[0m\n",
      "\u001b[2m2024-04-13 14:58.12\u001b[0m [\u001b[32m\u001b[1minfo     \u001b[0m] \u001b[1mParameters                    \u001b[0m \u001b[36mparams\u001b[0m=\u001b[35m{'observation_shape': [49], 'action_size': 5, 'config': {'type': 'dqn', 'params': {'batch_size': 32, 'gamma': 0.99, 'observation_scaler': {'type': 'none', 'params': {}}, 'action_scaler': {'type': 'none', 'params': {}}, 'reward_scaler': {'type': 'none', 'params': {}}, 'learning_rate': 6.25e-05, 'optim_factory': {'type': 'adam', 'params': {'betas': [0.9, 0.999], 'eps': 1e-08, 'weight_decay': 0, 'amsgrad': False}}, 'encoder_factory': {'type': 'default', 'params': {'activation': 'relu', 'use_batch_norm': False, 'dropout_rate': None}}, 'q_func_factory': {'type': 'mean', 'params': {'share_encoder': False}}, 'n_critics': 1, 'target_update_interval': 8000}}}\u001b[0m\n"
     ]
    },
    {
     "name": "stderr",
     "output_type": "stream",
     "text": [
      "  3%|▎         | 4996/150000 [00:18<08:42, 277.53it/s]"
     ]
    },
    {
     "name": "stdout",
     "output_type": "stream",
     "text": [
      "\u001b[2m2024-04-13 14:58.30\u001b[0m [\u001b[32m\u001b[1minfo     \u001b[0m] \u001b[1mModel parameters are saved to d3rlpy_logs/DQN_online_20240413145812/model_5000.d3\u001b[0m\n",
      "\u001b[2m2024-04-13 14:58.30\u001b[0m [\u001b[32m\u001b[1minfo     \u001b[0m] \u001b[1mDQN_online_20240413145812: epoch=1 step=5000\u001b[0m \u001b[36mepoch\u001b[0m=\u001b[35m1\u001b[0m \u001b[36mmetrics\u001b[0m=\u001b[35m{'time_inference': 0.0003868335723876953, 'time_environment_step': 7.203855514526367e-05, 'time_step': 0.0035748799800872804, 'time_sample_batch': 0.0009505714188405438, 'time_algorithm_update': 0.002133031474144761, 'loss': 2.293011362416742e-05, 'rollout_return': -12.515384615384582}\u001b[0m \u001b[36mstep\u001b[0m=\u001b[35m5000\u001b[0m\n"
     ]
    },
    {
     "name": "stderr",
     "output_type": "stream",
     "text": [
      "  7%|▋         | 9983/150000 [00:36<08:36, 270.88it/s]"
     ]
    },
    {
     "name": "stdout",
     "output_type": "stream",
     "text": [
      "\u001b[2m2024-04-13 14:58.49\u001b[0m [\u001b[32m\u001b[1minfo     \u001b[0m] \u001b[1mModel parameters are saved to d3rlpy_logs/DQN_online_20240413145812/model_10000.d3\u001b[0m\n",
      "\u001b[2m2024-04-13 14:58.49\u001b[0m [\u001b[32m\u001b[1minfo     \u001b[0m] \u001b[1mDQN_online_20240413145812: epoch=2 step=10000\u001b[0m \u001b[36mepoch\u001b[0m=\u001b[35m2\u001b[0m \u001b[36mmetrics\u001b[0m=\u001b[35m{'time_inference': 0.00038848767280578615, 'time_environment_step': 7.161054611206055e-05, 'time_sample_batch': 0.0009701768398284913, 'time_algorithm_update': 0.0021466802597045896, 'loss': 2.6527594110871978e-05, 'time_step': 0.0036297518730163576, 'rollout_return': -12.799999999999967}\u001b[0m \u001b[36mstep\u001b[0m=\u001b[35m10000\u001b[0m\n"
     ]
    },
    {
     "name": "stderr",
     "output_type": "stream",
     "text": [
      " 10%|▉         | 14987/150000 [00:54<08:19, 270.15it/s]"
     ]
    },
    {
     "name": "stdout",
     "output_type": "stream",
     "text": [
      "\u001b[2m2024-04-13 14:59.07\u001b[0m [\u001b[32m\u001b[1minfo     \u001b[0m] \u001b[1mModel parameters are saved to d3rlpy_logs/DQN_online_20240413145812/model_15000.d3\u001b[0m\n",
      "\u001b[2m2024-04-13 14:59.07\u001b[0m [\u001b[32m\u001b[1minfo     \u001b[0m] \u001b[1mDQN_online_20240413145812: epoch=3 step=15000\u001b[0m \u001b[36mepoch\u001b[0m=\u001b[35m3\u001b[0m \u001b[36mmetrics\u001b[0m=\u001b[35m{'time_inference': 0.00038834686279296877, 'time_environment_step': 7.163281440734863e-05, 'time_sample_batch': 0.0009861636638641357, 'time_algorithm_update': 0.0021415894985198974, 'loss': 1.0103847739590189e-05, 'time_step': 0.0036407545566558837, 'rollout_return': -12.682499999999965}\u001b[0m \u001b[36mstep\u001b[0m=\u001b[35m15000\u001b[0m\n"
     ]
    },
    {
     "name": "stderr",
     "output_type": "stream",
     "text": [
      " 13%|█▎        | 19974/150000 [01:12<07:51, 275.92it/s]"
     ]
    },
    {
     "name": "stdout",
     "output_type": "stream",
     "text": [
      "\u001b[2m2024-04-13 14:59.25\u001b[0m [\u001b[32m\u001b[1minfo     \u001b[0m] \u001b[1mModel parameters are saved to d3rlpy_logs/DQN_online_20240413145812/model_20000.d3\u001b[0m\n",
      "\u001b[2m2024-04-13 14:59.25\u001b[0m [\u001b[32m\u001b[1minfo     \u001b[0m] \u001b[1mDQN_online_20240413145812: epoch=4 step=20000\u001b[0m \u001b[36mepoch\u001b[0m=\u001b[35m4\u001b[0m \u001b[36mmetrics\u001b[0m=\u001b[35m{'time_inference': 0.00038503484725952147, 'time_environment_step': 7.12893009185791e-05, 'time_sample_batch': 0.0009852318286895751, 'time_algorithm_update': 0.0021265015602111815, 'loss': 9.201531867528097e-05, 'time_step': 0.003620987272262573, 'rollout_return': -11.97499999999997}\u001b[0m \u001b[36mstep\u001b[0m=\u001b[35m20000\u001b[0m\n"
     ]
    },
    {
     "name": "stderr",
     "output_type": "stream",
     "text": [
      " 17%|█▋        | 24985/150000 [01:31<07:39, 272.32it/s]"
     ]
    },
    {
     "name": "stdout",
     "output_type": "stream",
     "text": [
      "\u001b[2m2024-04-13 14:59.44\u001b[0m [\u001b[32m\u001b[1minfo     \u001b[0m] \u001b[1mModel parameters are saved to d3rlpy_logs/DQN_online_20240413145812/model_25000.d3\u001b[0m\n",
      "\u001b[2m2024-04-13 14:59.44\u001b[0m [\u001b[32m\u001b[1minfo     \u001b[0m] \u001b[1mDQN_online_20240413145812: epoch=5 step=25000\u001b[0m \u001b[36mepoch\u001b[0m=\u001b[35m5\u001b[0m \u001b[36mmetrics\u001b[0m=\u001b[35m{'time_inference': 0.00038670468330383303, 'time_environment_step': 7.164692878723145e-05, 'time_sample_batch': 0.0009969273567199707, 'time_algorithm_update': 0.0021207821369171142, 'loss': 7.794330436148904e-05, 'time_step': 0.003630900859832764, 'rollout_return': -11.372093023255784}\u001b[0m \u001b[36mstep\u001b[0m=\u001b[35m25000\u001b[0m\n"
     ]
    },
    {
     "name": "stderr",
     "output_type": "stream",
     "text": [
      " 20%|█▉        | 29994/150000 [01:49<07:24, 269.73it/s]"
     ]
    },
    {
     "name": "stdout",
     "output_type": "stream",
     "text": [
      "\u001b[2m2024-04-13 15:00.02\u001b[0m [\u001b[32m\u001b[1minfo     \u001b[0m] \u001b[1mModel parameters are saved to d3rlpy_logs/DQN_online_20240413145812/model_30000.d3\u001b[0m\n",
      "\u001b[2m2024-04-13 15:00.02\u001b[0m [\u001b[32m\u001b[1minfo     \u001b[0m] \u001b[1mDQN_online_20240413145812: epoch=6 step=30000\u001b[0m \u001b[36mepoch\u001b[0m=\u001b[35m6\u001b[0m \u001b[36mmetrics\u001b[0m=\u001b[35m{'time_inference': 0.00038671507835388185, 'time_environment_step': 7.212738990783692e-05, 'time_sample_batch': 0.001008333969116211, 'time_algorithm_update': 0.002121877431869507, 'loss': 4.250077626753779e-05, 'time_step': 0.003643826484680176, 'rollout_return': -11.53720930232555}\u001b[0m \u001b[36mstep\u001b[0m=\u001b[35m30000\u001b[0m\n"
     ]
    },
    {
     "name": "stderr",
     "output_type": "stream",
     "text": [
      " 23%|██▎       | 34994/150000 [02:08<07:04, 270.73it/s]"
     ]
    },
    {
     "name": "stdout",
     "output_type": "stream",
     "text": [
      "\u001b[2m2024-04-13 15:00.21\u001b[0m [\u001b[32m\u001b[1minfo     \u001b[0m] \u001b[1mModel parameters are saved to d3rlpy_logs/DQN_online_20240413145812/model_35000.d3\u001b[0m\n",
      "\u001b[2m2024-04-13 15:00.21\u001b[0m [\u001b[32m\u001b[1minfo     \u001b[0m] \u001b[1mDQN_online_20240413145812: epoch=7 step=35000\u001b[0m \u001b[36mepoch\u001b[0m=\u001b[35m7\u001b[0m \u001b[36mmetrics\u001b[0m=\u001b[35m{'time_inference': 0.0003878791332244873, 'time_environment_step': 7.161407470703125e-05, 'time_sample_batch': 0.0010138744354248046, 'time_algorithm_update': 0.0021147113800048826, 'loss': 0.00015141980204382222, 'time_step': 0.0036464755058288572, 'rollout_return': -8.955999999999982}\u001b[0m \u001b[36mstep\u001b[0m=\u001b[35m35000\u001b[0m\n"
     ]
    },
    {
     "name": "stderr",
     "output_type": "stream",
     "text": [
      " 27%|██▋       | 39998/150000 [02:26<06:46, 270.90it/s]"
     ]
    },
    {
     "name": "stdout",
     "output_type": "stream",
     "text": [
      "\u001b[2m2024-04-13 15:00.39\u001b[0m [\u001b[32m\u001b[1minfo     \u001b[0m] \u001b[1mModel parameters are saved to d3rlpy_logs/DQN_online_20240413145812/model_40000.d3\u001b[0m\n",
      "\u001b[2m2024-04-13 15:00.39\u001b[0m [\u001b[32m\u001b[1minfo     \u001b[0m] \u001b[1mDQN_online_20240413145812: epoch=8 step=40000\u001b[0m \u001b[36mepoch\u001b[0m=\u001b[35m8\u001b[0m \u001b[36mmetrics\u001b[0m=\u001b[35m{'time_inference': 0.00038477587699890136, 'time_environment_step': 7.146258354187011e-05, 'time_sample_batch': 0.001018436050415039, 'time_algorithm_update': 0.002109010553359985, 'loss': 2.9976049969279473e-05, 'time_step': 0.003649980592727661, 'rollout_return': -6.544615384615373}\u001b[0m \u001b[36mstep\u001b[0m=\u001b[35m40000\u001b[0m\n"
     ]
    },
    {
     "name": "stderr",
     "output_type": "stream",
     "text": [
      " 30%|██▉       | 44991/150000 [02:45<06:25, 272.43it/s]"
     ]
    },
    {
     "name": "stdout",
     "output_type": "stream",
     "text": [
      "\u001b[2m2024-04-13 15:00.58\u001b[0m [\u001b[32m\u001b[1minfo     \u001b[0m] \u001b[1mModel parameters are saved to d3rlpy_logs/DQN_online_20240413145812/model_45000.d3\u001b[0m\n",
      "\u001b[2m2024-04-13 15:00.58\u001b[0m [\u001b[32m\u001b[1minfo     \u001b[0m] \u001b[1mDQN_online_20240413145812: epoch=9 step=45000\u001b[0m \u001b[36mepoch\u001b[0m=\u001b[35m9\u001b[0m \u001b[36mmetrics\u001b[0m=\u001b[35m{'time_inference': 0.0003897488594055176, 'time_environment_step': 7.196435928344726e-05, 'time_sample_batch': 0.0010340410709381103, 'time_algorithm_update': 0.002115999412536621, 'loss': 0.00019449697487617073, 'time_step': 0.003665871286392212, 'rollout_return': -12.357499999999968}\u001b[0m \u001b[36mstep\u001b[0m=\u001b[35m45000\u001b[0m\n"
     ]
    },
    {
     "name": "stderr",
     "output_type": "stream",
     "text": [
      " 33%|███▎      | 49978/150000 [03:03<06:09, 270.87it/s]"
     ]
    },
    {
     "name": "stdout",
     "output_type": "stream",
     "text": [
      "\u001b[2m2024-04-13 15:01.16\u001b[0m [\u001b[32m\u001b[1minfo     \u001b[0m] \u001b[1mModel parameters are saved to d3rlpy_logs/DQN_online_20240413145812/model_50000.d3\u001b[0m\n",
      "\u001b[2m2024-04-13 15:01.16\u001b[0m [\u001b[32m\u001b[1minfo     \u001b[0m] \u001b[1mDQN_online_20240413145812: epoch=10 step=50000\u001b[0m \u001b[36mepoch\u001b[0m=\u001b[35m10\u001b[0m \u001b[36mmetrics\u001b[0m=\u001b[35m{'time_inference': 0.00038692336082458495, 'time_environment_step': 7.147092819213867e-05, 'time_sample_batch': 0.0010374167919158935, 'time_algorithm_update': 0.0021214181423187257, 'loss': 0.00011707689232145242, 'time_step': 0.0036725656032562254, 'rollout_return': -10.990909090909064}\u001b[0m \u001b[36mstep\u001b[0m=\u001b[35m50000\u001b[0m\n"
     ]
    },
    {
     "name": "stderr",
     "output_type": "stream",
     "text": [
      " 37%|███▋      | 54982/150000 [03:22<06:08, 257.92it/s]"
     ]
    },
    {
     "name": "stdout",
     "output_type": "stream",
     "text": [
      "\u001b[2m2024-04-13 15:01.35\u001b[0m [\u001b[32m\u001b[1minfo     \u001b[0m] \u001b[1mModel parameters are saved to d3rlpy_logs/DQN_online_20240413145812/model_55000.d3\u001b[0m\n",
      "\u001b[2m2024-04-13 15:01.35\u001b[0m [\u001b[32m\u001b[1minfo     \u001b[0m] \u001b[1mDQN_online_20240413145812: epoch=11 step=55000\u001b[0m \u001b[36mepoch\u001b[0m=\u001b[35m11\u001b[0m \u001b[36mmetrics\u001b[0m=\u001b[35m{'time_inference': 0.000388311243057251, 'time_environment_step': 7.205896377563476e-05, 'time_sample_batch': 0.0010464236736297608, 'time_algorithm_update': 0.0021196670532226563, 'loss': 1.1253043580659039e-05, 'time_step': 0.003681575918197632, 'rollout_return': -11.03409090909088}\u001b[0m \u001b[36mstep\u001b[0m=\u001b[35m55000\u001b[0m\n"
     ]
    },
    {
     "name": "stderr",
     "output_type": "stream",
     "text": [
      " 40%|███▉      | 59981/150000 [03:41<05:38, 265.79it/s]"
     ]
    },
    {
     "name": "stdout",
     "output_type": "stream",
     "text": [
      "\u001b[2m2024-04-13 15:01.54\u001b[0m [\u001b[32m\u001b[1minfo     \u001b[0m] \u001b[1mModel parameters are saved to d3rlpy_logs/DQN_online_20240413145812/model_60000.d3\u001b[0m\n",
      "\u001b[2m2024-04-13 15:01.54\u001b[0m [\u001b[32m\u001b[1minfo     \u001b[0m] \u001b[1mDQN_online_20240413145812: epoch=12 step=60000\u001b[0m \u001b[36mepoch\u001b[0m=\u001b[35m12\u001b[0m \u001b[36mmetrics\u001b[0m=\u001b[35m{'time_inference': 0.0003872288703918457, 'time_environment_step': 7.187342643737793e-05, 'time_sample_batch': 0.0010559017181396484, 'time_algorithm_update': 0.0021227744579315187, 'loss': 0.00015503378057517522, 'time_step': 0.0037370726108551027, 'rollout_return': -2.1713178294573616}\u001b[0m \u001b[36mstep\u001b[0m=\u001b[35m60000\u001b[0m\n"
     ]
    },
    {
     "name": "stderr",
     "output_type": "stream",
     "text": [
      " 43%|████▎     | 64979/150000 [04:00<05:33, 255.05it/s]"
     ]
    },
    {
     "name": "stdout",
     "output_type": "stream",
     "text": [
      "\u001b[2m2024-04-13 15:02.13\u001b[0m [\u001b[32m\u001b[1minfo     \u001b[0m] \u001b[1mModel parameters are saved to d3rlpy_logs/DQN_online_20240413145812/model_65000.d3\u001b[0m\n",
      "\u001b[2m2024-04-13 15:02.13\u001b[0m [\u001b[32m\u001b[1minfo     \u001b[0m] \u001b[1mDQN_online_20240413145812: epoch=13 step=65000\u001b[0m \u001b[36mepoch\u001b[0m=\u001b[35m13\u001b[0m \u001b[36mmetrics\u001b[0m=\u001b[35m{'time_inference': 0.00038935403823852537, 'time_environment_step': 7.251734733581543e-05, 'time_sample_batch': 0.0010777344703674315, 'time_algorithm_update': 0.002180746650695801, 'loss': 0.00011362757023364054, 'time_step': 0.0038393639087677, 'rollout_return': -1.5614457831325297}\u001b[0m \u001b[36mstep\u001b[0m=\u001b[35m65000\u001b[0m\n"
     ]
    },
    {
     "name": "stderr",
     "output_type": "stream",
     "text": [
      " 47%|████▋     | 69974/150000 [04:20<05:17, 252.43it/s]"
     ]
    },
    {
     "name": "stdout",
     "output_type": "stream",
     "text": [
      "\u001b[2m2024-04-13 15:02.33\u001b[0m [\u001b[32m\u001b[1minfo     \u001b[0m] \u001b[1mModel parameters are saved to d3rlpy_logs/DQN_online_20240413145812/model_70000.d3\u001b[0m\n",
      "\u001b[2m2024-04-13 15:02.33\u001b[0m [\u001b[32m\u001b[1minfo     \u001b[0m] \u001b[1mDQN_online_20240413145812: epoch=14 step=70000\u001b[0m \u001b[36mepoch\u001b[0m=\u001b[35m14\u001b[0m \u001b[36mmetrics\u001b[0m=\u001b[35m{'time_inference': 0.00039119982719421385, 'time_environment_step': 7.253470420837402e-05, 'time_sample_batch': 0.0010897173881530761, 'time_algorithm_update': 0.0022181233882904053, 'loss': 2.1505646560119373e-05, 'time_step': 0.003919071960449219, 'rollout_return': -0.7563063063063067}\u001b[0m \u001b[36mstep\u001b[0m=\u001b[35m70000\u001b[0m\n"
     ]
    },
    {
     "name": "stderr",
     "output_type": "stream",
     "text": [
      " 50%|████▉     | 74989/150000 [04:40<04:49, 258.72it/s]"
     ]
    },
    {
     "name": "stdout",
     "output_type": "stream",
     "text": [
      "\u001b[2m2024-04-13 15:02.52\u001b[0m [\u001b[32m\u001b[1minfo     \u001b[0m] \u001b[1mModel parameters are saved to d3rlpy_logs/DQN_online_20240413145812/model_75000.d3\u001b[0m\n",
      "\u001b[2m2024-04-13 15:02.52\u001b[0m [\u001b[32m\u001b[1minfo     \u001b[0m] \u001b[1mDQN_online_20240413145812: epoch=15 step=75000\u001b[0m \u001b[36mepoch\u001b[0m=\u001b[35m15\u001b[0m \u001b[36mmetrics\u001b[0m=\u001b[35m{'time_inference': 0.0003913118362426758, 'time_environment_step': 7.241106033325195e-05, 'time_sample_batch': 0.0011054612636566161, 'time_algorithm_update': 0.002206409025192261, 'loss': 0.0001622520664291244, 'time_step': 0.003914369583129883, 'rollout_return': -0.8307317073170738}\u001b[0m \u001b[36mstep\u001b[0m=\u001b[35m75000\u001b[0m\n"
     ]
    },
    {
     "name": "stderr",
     "output_type": "stream",
     "text": [
      " 53%|█████▎    | 79978/150000 [04:59<04:35, 254.24it/s]"
     ]
    },
    {
     "name": "stdout",
     "output_type": "stream",
     "text": [
      "\u001b[2m2024-04-13 15:03.12\u001b[0m [\u001b[32m\u001b[1minfo     \u001b[0m] \u001b[1mModel parameters are saved to d3rlpy_logs/DQN_online_20240413145812/model_80000.d3\u001b[0m\n",
      "\u001b[2m2024-04-13 15:03.12\u001b[0m [\u001b[32m\u001b[1minfo     \u001b[0m] \u001b[1mDQN_online_20240413145812: epoch=16 step=80000\u001b[0m \u001b[36mepoch\u001b[0m=\u001b[35m16\u001b[0m \u001b[36mmetrics\u001b[0m=\u001b[35m{'time_inference': 0.00038778367042541505, 'time_environment_step': 7.25346565246582e-05, 'time_sample_batch': 0.0011022790908813476, 'time_algorithm_update': 0.002126005697250366, 'loss': 1.0955194819922553e-05, 'time_step': 0.003840214443206787, 'rollout_return': -0.7186956521739132}\u001b[0m \u001b[36mstep\u001b[0m=\u001b[35m80000\u001b[0m\n"
     ]
    },
    {
     "name": "stderr",
     "output_type": "stream",
     "text": [
      " 57%|█████▋    | 84977/150000 [05:18<04:15, 254.87it/s]"
     ]
    },
    {
     "name": "stdout",
     "output_type": "stream",
     "text": [
      "\u001b[2m2024-04-13 15:03.31\u001b[0m [\u001b[32m\u001b[1minfo     \u001b[0m] \u001b[1mModel parameters are saved to d3rlpy_logs/DQN_online_20240413145812/model_85000.d3\u001b[0m\n",
      "\u001b[2m2024-04-13 15:03.31\u001b[0m [\u001b[32m\u001b[1minfo     \u001b[0m] \u001b[1mDQN_online_20240413145812: epoch=17 step=85000\u001b[0m \u001b[36mepoch\u001b[0m=\u001b[35m17\u001b[0m \u001b[36mmetrics\u001b[0m=\u001b[35m{'time_inference': 0.00038646440505981446, 'time_environment_step': 7.203965187072754e-05, 'time_sample_batch': 0.0011372207164764404, 'time_algorithm_update': 0.0021202809810638426, 'loss': 0.0001455141901721504, 'time_step': 0.003862299966812134, 'rollout_return': -0.7633484162895925}\u001b[0m \u001b[36mstep\u001b[0m=\u001b[35m85000\u001b[0m\n"
     ]
    },
    {
     "name": "stderr",
     "output_type": "stream",
     "text": [
      " 60%|█████▉    | 89984/150000 [05:38<03:53, 257.32it/s]"
     ]
    },
    {
     "name": "stdout",
     "output_type": "stream",
     "text": [
      "\u001b[2m2024-04-13 15:03.51\u001b[0m [\u001b[32m\u001b[1minfo     \u001b[0m] \u001b[1mModel parameters are saved to d3rlpy_logs/DQN_online_20240413145812/model_90000.d3\u001b[0m\n",
      "\u001b[2m2024-04-13 15:03.51\u001b[0m [\u001b[32m\u001b[1minfo     \u001b[0m] \u001b[1mDQN_online_20240413145812: epoch=18 step=90000\u001b[0m \u001b[36mepoch\u001b[0m=\u001b[35m18\u001b[0m \u001b[36mmetrics\u001b[0m=\u001b[35m{'time_inference': 0.00038820457458496095, 'time_environment_step': 7.319993972778321e-05, 'time_sample_batch': 0.0011375689506530763, 'time_algorithm_update': 0.002128882646560669, 'loss': 0.00023552973991792497, 'time_step': 0.0038796091079711915, 'rollout_return': -0.7030434782608699}\u001b[0m \u001b[36mstep\u001b[0m=\u001b[35m90000\u001b[0m\n"
     ]
    },
    {
     "name": "stderr",
     "output_type": "stream",
     "text": [
      " 63%|██████▎   | 94976/150000 [05:58<03:34, 256.56it/s]"
     ]
    },
    {
     "name": "stdout",
     "output_type": "stream",
     "text": [
      "\u001b[2m2024-04-13 15:04.11\u001b[0m [\u001b[32m\u001b[1minfo     \u001b[0m] \u001b[1mModel parameters are saved to d3rlpy_logs/DQN_online_20240413145812/model_95000.d3\u001b[0m\n",
      "\u001b[2m2024-04-13 15:04.11\u001b[0m [\u001b[32m\u001b[1minfo     \u001b[0m] \u001b[1mDQN_online_20240413145812: epoch=19 step=95000\u001b[0m \u001b[36mepoch\u001b[0m=\u001b[35m19\u001b[0m \u001b[36mmetrics\u001b[0m=\u001b[35m{'time_inference': 0.000388743257522583, 'time_environment_step': 7.26719856262207e-05, 'time_sample_batch': 0.001147619342803955, 'time_algorithm_update': 0.0021289031505584716, 'loss': 1.1926094655426312e-05, 'time_step': 0.0038916773319244385, 'rollout_return': -0.7226495726495727}\u001b[0m \u001b[36mstep\u001b[0m=\u001b[35m95000\u001b[0m\n"
     ]
    },
    {
     "name": "stderr",
     "output_type": "stream",
     "text": [
      " 67%|██████▋   | 99976/150000 [06:17<03:17, 253.04it/s]"
     ]
    },
    {
     "name": "stdout",
     "output_type": "stream",
     "text": [
      "\u001b[2m2024-04-13 15:04.30\u001b[0m [\u001b[32m\u001b[1minfo     \u001b[0m] \u001b[1mModel parameters are saved to d3rlpy_logs/DQN_online_20240413145812/model_100000.d3\u001b[0m\n",
      "\u001b[2m2024-04-13 15:04.30\u001b[0m [\u001b[32m\u001b[1minfo     \u001b[0m] \u001b[1mDQN_online_20240413145812: epoch=20 step=100000\u001b[0m \u001b[36mepoch\u001b[0m=\u001b[35m20\u001b[0m \u001b[36mmetrics\u001b[0m=\u001b[35m{'time_inference': 0.00038930606842041014, 'time_environment_step': 7.315130233764649e-05, 'time_sample_batch': 0.0011659354209899902, 'time_algorithm_update': 0.002140138101577759, 'loss': 0.00014605795927533904, 'time_step': 0.003918172883987427, 'rollout_return': -0.7408888888888886}\u001b[0m \u001b[36mstep\u001b[0m=\u001b[35m100000\u001b[0m\n"
     ]
    },
    {
     "name": "stderr",
     "output_type": "stream",
     "text": [
      " 70%|██████▉   | 104981/150000 [06:38<03:06, 241.70it/s]"
     ]
    },
    {
     "name": "stdout",
     "output_type": "stream",
     "text": [
      "\u001b[2m2024-04-13 15:04.51\u001b[0m [\u001b[32m\u001b[1minfo     \u001b[0m] \u001b[1mModel parameters are saved to d3rlpy_logs/DQN_online_20240413145812/model_105000.d3\u001b[0m\n",
      "\u001b[2m2024-04-13 15:04.51\u001b[0m [\u001b[32m\u001b[1minfo     \u001b[0m] \u001b[1mDQN_online_20240413145812: epoch=21 step=105000\u001b[0m \u001b[36mepoch\u001b[0m=\u001b[35m21\u001b[0m \u001b[36mmetrics\u001b[0m=\u001b[35m{'time_inference': 0.0003943510055541992, 'time_environment_step': 7.378582954406739e-05, 'time_sample_batch': 0.0011847120761871337, 'time_algorithm_update': 0.0021747013092041014, 'loss': 5.057347644314092e-05, 'time_step': 0.003983865451812744, 'rollout_return': -0.7059829059829058}\u001b[0m \u001b[36mstep\u001b[0m=\u001b[35m105000\u001b[0m\n"
     ]
    },
    {
     "name": "stderr",
     "output_type": "stream",
     "text": [
      " 73%|███████▎  | 109987/150000 [06:58<02:39, 250.35it/s]"
     ]
    },
    {
     "name": "stdout",
     "output_type": "stream",
     "text": [
      "\u001b[2m2024-04-13 15:05.11\u001b[0m [\u001b[32m\u001b[1minfo     \u001b[0m] \u001b[1mModel parameters are saved to d3rlpy_logs/DQN_online_20240413145812/model_110000.d3\u001b[0m\n",
      "\u001b[2m2024-04-13 15:05.11\u001b[0m [\u001b[32m\u001b[1minfo     \u001b[0m] \u001b[1mDQN_online_20240413145812: epoch=22 step=110000\u001b[0m \u001b[36mepoch\u001b[0m=\u001b[35m22\u001b[0m \u001b[36mmetrics\u001b[0m=\u001b[35m{'time_inference': 0.00039571561813354493, 'time_environment_step': 7.398509979248046e-05, 'time_sample_batch': 0.0011915568351745605, 'time_algorithm_update': 0.0022366758346557616, 'loss': 6.807826112594739e-06, 'time_step': 0.004056316995620727, 'rollout_return': -0.6953781512605038}\u001b[0m \u001b[36mstep\u001b[0m=\u001b[35m110000\u001b[0m\n"
     ]
    },
    {
     "name": "stderr",
     "output_type": "stream",
     "text": [
      " 77%|███████▋  | 114978/150000 [07:18<02:16, 256.03it/s]"
     ]
    },
    {
     "name": "stdout",
     "output_type": "stream",
     "text": [
      "\u001b[2m2024-04-13 15:05.31\u001b[0m [\u001b[32m\u001b[1minfo     \u001b[0m] \u001b[1mModel parameters are saved to d3rlpy_logs/DQN_online_20240413145812/model_115000.d3\u001b[0m\n",
      "\u001b[2m2024-04-13 15:05.31\u001b[0m [\u001b[32m\u001b[1minfo     \u001b[0m] \u001b[1mDQN_online_20240413145812: epoch=23 step=115000\u001b[0m \u001b[36mepoch\u001b[0m=\u001b[35m23\u001b[0m \u001b[36mmetrics\u001b[0m=\u001b[35m{'time_inference': 0.00038922686576843264, 'time_environment_step': 7.278928756713868e-05, 'time_sample_batch': 0.0011761135578155517, 'time_algorithm_update': 0.00214176983833313, 'loss': 2.0698754549090382e-05, 'time_step': 0.003930432748794556, 'rollout_return': -0.7626666666666667}\u001b[0m \u001b[36mstep\u001b[0m=\u001b[35m115000\u001b[0m\n"
     ]
    },
    {
     "name": "stderr",
     "output_type": "stream",
     "text": [
      " 80%|███████▉  | 119977/150000 [07:38<01:58, 254.30it/s]"
     ]
    },
    {
     "name": "stdout",
     "output_type": "stream",
     "text": [
      "\u001b[2m2024-04-13 15:05.51\u001b[0m [\u001b[32m\u001b[1minfo     \u001b[0m] \u001b[1mModel parameters are saved to d3rlpy_logs/DQN_online_20240413145812/model_120000.d3\u001b[0m\n",
      "\u001b[2m2024-04-13 15:05.51\u001b[0m [\u001b[32m\u001b[1minfo     \u001b[0m] \u001b[1mDQN_online_20240413145812: epoch=24 step=120000\u001b[0m \u001b[36mepoch\u001b[0m=\u001b[35m24\u001b[0m \u001b[36mmetrics\u001b[0m=\u001b[35m{'time_inference': 0.00038706440925598143, 'time_environment_step': 7.233462333679199e-05, 'time_sample_batch': 0.0011649259567260743, 'time_algorithm_update': 0.0021344257354736326, 'loss': 4.223654081353345e-06, 'time_step': 0.003912884044647217, 'rollout_return': -0.7106837606837606}\u001b[0m \u001b[36mstep\u001b[0m=\u001b[35m120000\u001b[0m\n"
     ]
    },
    {
     "name": "stderr",
     "output_type": "stream",
     "text": [
      " 83%|████████▎ | 124993/150000 [07:58<01:42, 243.27it/s]"
     ]
    },
    {
     "name": "stdout",
     "output_type": "stream",
     "text": [
      "\u001b[2m2024-04-13 15:06.11\u001b[0m [\u001b[32m\u001b[1minfo     \u001b[0m] \u001b[1mModel parameters are saved to d3rlpy_logs/DQN_online_20240413145812/model_125000.d3\u001b[0m\n",
      "\u001b[2m2024-04-13 15:06.11\u001b[0m [\u001b[32m\u001b[1minfo     \u001b[0m] \u001b[1mDQN_online_20240413145812: epoch=25 step=125000\u001b[0m \u001b[36mepoch\u001b[0m=\u001b[35m25\u001b[0m \u001b[36mmetrics\u001b[0m=\u001b[35m{'time_inference': 0.0003900244235992432, 'time_environment_step': 7.304873466491699e-05, 'time_sample_batch': 0.0011740081787109376, 'time_algorithm_update': 0.002161057710647583, 'loss': 8.907961682288602e-06, 'time_step': 0.003952066612243652, 'rollout_return': -0.7202586206896555}\u001b[0m \u001b[36mstep\u001b[0m=\u001b[35m125000\u001b[0m\n"
     ]
    },
    {
     "name": "stderr",
     "output_type": "stream",
     "text": [
      " 87%|████████▋ | 129985/150000 [08:18<01:22, 243.41it/s]"
     ]
    },
    {
     "name": "stdout",
     "output_type": "stream",
     "text": [
      "\u001b[2m2024-04-13 15:06.31\u001b[0m [\u001b[32m\u001b[1minfo     \u001b[0m] \u001b[1mModel parameters are saved to d3rlpy_logs/DQN_online_20240413145812/model_130000.d3\u001b[0m\n",
      "\u001b[2m2024-04-13 15:06.31\u001b[0m [\u001b[32m\u001b[1minfo     \u001b[0m] \u001b[1mDQN_online_20240413145812: epoch=26 step=130000\u001b[0m \u001b[36mepoch\u001b[0m=\u001b[35m26\u001b[0m \u001b[36mmetrics\u001b[0m=\u001b[35m{'time_inference': 0.00039522972106933595, 'time_environment_step': 7.3809814453125e-05, 'time_sample_batch': 0.0011869505405426026, 'time_algorithm_update': 0.002248067569732666, 'loss': 3.3562017942244892e-06, 'time_step': 0.004059054803848267, 'rollout_return': -0.7047210300429188}\u001b[0m \u001b[36mstep\u001b[0m=\u001b[35m130000\u001b[0m\n"
     ]
    },
    {
     "name": "stderr",
     "output_type": "stream",
     "text": [
      " 90%|████████▉ | 134989/150000 [08:38<01:00, 248.18it/s]"
     ]
    },
    {
     "name": "stdout",
     "output_type": "stream",
     "text": [
      "\u001b[2m2024-04-13 15:06.51\u001b[0m [\u001b[32m\u001b[1minfo     \u001b[0m] \u001b[1mModel parameters are saved to d3rlpy_logs/DQN_online_20240413145812/model_135000.d3\u001b[0m\n",
      "\u001b[2m2024-04-13 15:06.51\u001b[0m [\u001b[32m\u001b[1minfo     \u001b[0m] \u001b[1mDQN_online_20240413145812: epoch=27 step=135000\u001b[0m \u001b[36mepoch\u001b[0m=\u001b[35m27\u001b[0m \u001b[36mmetrics\u001b[0m=\u001b[35m{'time_inference': 0.00039667315483093264, 'time_environment_step': 7.378101348876953e-05, 'time_sample_batch': 0.00118304181098938, 'time_algorithm_update': 0.0022252336978912353, 'loss': 2.4437250311763136e-06, 'time_step': 0.004036478090286255, 'rollout_return': -0.7025423728813561}\u001b[0m \u001b[36mstep\u001b[0m=\u001b[35m135000\u001b[0m\n"
     ]
    },
    {
     "name": "stderr",
     "output_type": "stream",
     "text": [
      " 93%|█████████▎| 139988/150000 [08:58<00:41, 241.13it/s]"
     ]
    },
    {
     "name": "stdout",
     "output_type": "stream",
     "text": [
      "\u001b[2m2024-04-13 15:07.11\u001b[0m [\u001b[32m\u001b[1minfo     \u001b[0m] \u001b[1mModel parameters are saved to d3rlpy_logs/DQN_online_20240413145812/model_140000.d3\u001b[0m\n",
      "\u001b[2m2024-04-13 15:07.11\u001b[0m [\u001b[32m\u001b[1minfo     \u001b[0m] \u001b[1mDQN_online_20240413145812: epoch=28 step=140000\u001b[0m \u001b[36mepoch\u001b[0m=\u001b[35m28\u001b[0m \u001b[36mmetrics\u001b[0m=\u001b[35m{'time_inference': 0.0003946128845214844, 'time_environment_step': 7.310309410095215e-05, 'time_sample_batch': 0.00117365345954895, 'time_algorithm_update': 0.00214217848777771, 'loss': 2.6239449616845436e-06, 'time_step': 0.003942612791061401, 'rollout_return': -0.6431535269709543}\u001b[0m \u001b[36mstep\u001b[0m=\u001b[35m140000\u001b[0m\n"
     ]
    },
    {
     "name": "stderr",
     "output_type": "stream",
     "text": [
      " 97%|█████████▋| 144977/150000 [09:18<00:19, 253.53it/s]"
     ]
    },
    {
     "name": "stdout",
     "output_type": "stream",
     "text": [
      "\u001b[2m2024-04-13 15:07.31\u001b[0m [\u001b[32m\u001b[1minfo     \u001b[0m] \u001b[1mModel parameters are saved to d3rlpy_logs/DQN_online_20240413145812/model_145000.d3\u001b[0m\n",
      "\u001b[2m2024-04-13 15:07.31\u001b[0m [\u001b[32m\u001b[1minfo     \u001b[0m] \u001b[1mDQN_online_20240413145812: epoch=29 step=145000\u001b[0m \u001b[36mepoch\u001b[0m=\u001b[35m29\u001b[0m \u001b[36mmetrics\u001b[0m=\u001b[35m{'time_inference': 0.0003899775505065918, 'time_environment_step': 7.31104850769043e-05, 'time_sample_batch': 0.0011717262268066406, 'time_algorithm_update': 0.0021411027431488035, 'loss': 1.990899467492113e-06, 'time_step': 0.003928791522979736, 'rollout_return': -0.7426086956521737}\u001b[0m \u001b[36mstep\u001b[0m=\u001b[35m145000\u001b[0m\n"
     ]
    },
    {
     "name": "stderr",
     "output_type": "stream",
     "text": [
      "100%|█████████▉| 149989/150000 [09:39<00:00, 243.15it/s]"
     ]
    },
    {
     "name": "stdout",
     "output_type": "stream",
     "text": [
      "\u001b[2m2024-04-13 15:07.52\u001b[0m [\u001b[32m\u001b[1minfo     \u001b[0m] \u001b[1mModel parameters are saved to d3rlpy_logs/DQN_online_20240413145812/model_150000.d3\u001b[0m\n",
      "\u001b[2m2024-04-13 15:07.52\u001b[0m [\u001b[32m\u001b[1minfo     \u001b[0m] \u001b[1mDQN_online_20240413145812: epoch=30 step=150000\u001b[0m \u001b[36mepoch\u001b[0m=\u001b[35m30\u001b[0m \u001b[36mmetrics\u001b[0m=\u001b[35m{'time_inference': 0.00039496784210205077, 'time_environment_step': 7.429251670837402e-05, 'time_sample_batch': 0.0011952608108520507, 'time_algorithm_update': 0.0022609235286712645, 'loss': 2.042057223977167e-06, 'time_step': 0.00407928671836853, 'rollout_return': -0.6903508771929824}\u001b[0m \u001b[36mstep\u001b[0m=\u001b[35m150000\u001b[0m\n"
     ]
    },
    {
     "name": "stderr",
     "output_type": "stream",
     "text": [
      "100%|██████████| 150000/150000 [09:39<00:00, 258.90it/s]\n"
     ]
    }
   ],
   "source": [
    "import d3rlpy\n",
    "# setup algorithm\n",
    "dqn = d3rlpy.algos.DQNConfig().create(device=\"cuda:0\")\n",
    "\n",
    "# prepare experience replay buffer\n",
    "dqn_buffer = d3rlpy.dataset.create_fifo_replay_buffer(limit=100000, env=env)\n",
    "\n",
    "# prepare exploration strategy if necessary\n",
    "explorer = d3rlpy.algos.ConstantEpsilonGreedy(0.4)\n",
    "\n",
    "# start data collection\n",
    "dqn.fit_online(env, dqn_buffer, explorer, n_steps=150000, n_steps_per_epoch=5000)\n"
   ]
  },
  {
   "cell_type": "code",
   "execution_count": 39,
   "id": "0e43e06c-5d9a-4bc4-a144-9225e8e3a826",
   "metadata": {
    "execution": {
     "iopub.execute_input": "2024-04-13T18:34:19.307331Z",
     "iopub.status.busy": "2024-04-13T18:34:19.306994Z",
     "iopub.status.idle": "2024-04-13T18:34:19.459102Z",
     "shell.execute_reply": "2024-04-13T18:34:19.458412Z",
     "shell.execute_reply.started": "2024-04-13T18:34:19.307312Z"
    }
   },
   "outputs": [
    {
     "data": {
      "image/png": "[encoded data removed]",
      "text/plain": [
       "<Figure size 432x288 with 1 Axes>"
      ]
     },
     "metadata": {
      "needs_background": "light"
     },
     "output_type": "display_data"
    }
   ],
   "source": [
    "import pandas as pd\n",
    "dt_statistics = pd.read_csv('d3rlpy_logs/DQN_online_20240413145812/rollout_return.csv', header=None)\n",
    "\n",
    "plt.plot(dt_statistics[2], label=\"DQN-online-training\")\n",
    "plt.xlabel(\"Epochs\")\n",
    "plt.ylabel(\"Returns\")\n",
    "plt.legend()\n",
    "plt.grid()"
   ]
  },
  {
   "cell_type": "markdown",
   "id": "DXGOvORG7P0F",
   "metadata": {
    "id": "DXGOvORG7P0F"
   },
   "source": [
    "Вроде бы неплохо обучился, но пока не совсем идеально - при отсутсвии лишних шагов можно набрать 0 или чуть выше. Но думаю эти данные уже можно использовать в offline-обучении в качестве эталонных.\n",
    "\n",
    "# Offline Behavior Cloning (BC)\n",
    "\n",
    "Behavior Cloning (BC) is to imitate actions in the dataset via a supervised learning approach. Since BC is only imitating action distributions, the performance will be close to the mean of the dataset even though BC mostly works better than online RL algorithms.\n",
    "\n",
    "Здесь я немного меняю параметры - делаю меньше learning rate и gamma, так как при дефолтных значениях алгоритм не учился. Запускаем обучение."
   ]
  },
  {
   "cell_type": "code",
   "execution_count": 10,
   "id": "5k6reuIzcR6e",
   "metadata": {
    "colab": {
     "base_uri": "https://localhost:8080/",
     "height": 628,
     "referenced_widgets": [
      "45e1064ab4e846139c7c462fb0bf49f9",
      "4946686efd304aa481c687e63d207107",
      "852393ef98ea4c52a523f39ebaa1c52c",
      "573de85a256949a0a12f390ef9f4fe2f",
      "ed84f954187b4e668f0c3addb6496ccd",
      "9a727fa6601b4b01b2ba83bec1f79ff5",
      "9b58dd08efc44551ab8c9d4bc7320d36",
      "fd506ca6c9f34488904e78cc157c4803",
      "0933eb4bb9834adbbdcf82a4d8777e4c",
      "9783a01bad8f4f8abc36e834ff953289",
      "5c2d853f7d264b1c8a7dcd14feb769f1",
      "351974e68dbf43408780062b0a7e2e94",
      "27fcb65752c9478ca4888189bd028a09",
      "9d184cc68ed24738977f484b87426539",
      "ecdeaaf1317c4556a9c4d54240e796ae",
      "f18c9e95b13848139580ba4ac10a7382",
      "9a2b42f2f2fa40aabf7b781f4d572349",
      "b37a9b6f8c064509afcd832ab9f3d321",
      "fc7646753fa74e6e8a22b0ab972d986c",
      "87573a328dd044f3beb336e543ba360a",
      "a5b48e81db774d99ae15b6b47bb94ca4",
      "bb1a88f8d4a240158e9c031fcce5268e",
      "9d95a816d1a24ebca0f2f9cb4db7c98b",
      "66370dc8c57a401da4dbee92c9bbf0e8",
      "5dfe57f8bce84eb5967444b159c58671",
      "00295f1354a341d09bb46c32d5f16e3d",
      "08b54c1f7fd54127a0d4a5b68df66556",
      "590cbecd406e4774bd8f8d58241c484d",
      "7fab88193f554f3292b75608fff66b38",
      "70f4a6d02f054e1296d693c422adbafd",
      "2b61ca60250c4bfe93960e8ad09ad451",
      "755501a46f5d4a1a919210a90b33471f",
      "86128cff672b488abd87eebb51a54429"
     ]
    },
    "execution": {
     "iopub.execute_input": "2024-04-13T15:13:38.771883Z",
     "iopub.status.busy": "2024-04-13T15:13:38.771507Z",
     "iopub.status.idle": "2024-04-13T15:22:38.337699Z",
     "shell.execute_reply": "2024-04-13T15:22:38.337063Z",
     "shell.execute_reply.started": "2024-04-13T15:13:38.771862Z"
    },
    "id": "5k6reuIzcR6e",
    "outputId": "3b14f0e5-f60a-44d4-c7ca-78fbd5819aef",
    "tags": []
   },
   "outputs": [
    {
     "name": "stdout",
     "output_type": "stream",
     "text": [
      "\u001b[2m2024-04-13 15:13.38\u001b[0m [\u001b[32m\u001b[1minfo     \u001b[0m] \u001b[1mdataset info                  \u001b[0m \u001b[36mdataset_info\u001b[0m=\u001b[35mDatasetInfo(observation_signature=Signature(dtype=[dtype('float32')], shape=[(49,)]), action_signature=Signature(dtype=[dtype('int64')], shape=[()]), reward_signature=Signature(dtype=[dtype('float32')], shape=[[1]]), action_space=<ActionSpace.DISCRETE: 2>, action_size=5)\u001b[0m\n",
      "\u001b[2m2024-04-13 15:13.38\u001b[0m [\u001b[32m\u001b[1minfo     \u001b[0m] \u001b[1mDirectory is created at d3rlpy_logs/DiscreteBC_20240413151338\u001b[0m\n",
      "\u001b[2m2024-04-13 15:13.38\u001b[0m [\u001b[32m\u001b[1mdebug    \u001b[0m] \u001b[1mBuilding models...            \u001b[0m\n",
      "\u001b[2m2024-04-13 15:13.38\u001b[0m [\u001b[32m\u001b[1mdebug    \u001b[0m] \u001b[1mModels have been built.       \u001b[0m\n",
      "\u001b[2m2024-04-13 15:13.38\u001b[0m [\u001b[32m\u001b[1minfo     \u001b[0m] \u001b[1mParameters                    \u001b[0m \u001b[36mparams\u001b[0m=\u001b[35m{'observation_shape': [49], 'action_size': 5, 'config': {'type': 'discrete_bc', 'params': {'batch_size': 100, 'gamma': 0.9, 'observation_scaler': {'type': 'none', 'params': {}}, 'action_scaler': {'type': 'none', 'params': {}}, 'reward_scaler': {'type': 'none', 'params': {}}, 'learning_rate': 0.0001, 'optim_factory': {'type': 'adam', 'params': {'betas': [0.9, 0.999], 'eps': 1e-08, 'weight_decay': 0, 'amsgrad': False}}, 'encoder_factory': {'type': 'default', 'params': {'activation': 'relu', 'use_batch_norm': False, 'dropout_rate': None}}, 'beta': 0.5}}}\u001b[0m\n"
     ]
    },
    {
     "name": "stderr",
     "output_type": "stream",
     "text": [
      "Epoch 1/20: 100%|██████████| 5000/5000 [00:26<00:00, 187.35it/s, loss=2.78]\n"
     ]
    },
    {
     "name": "stdout",
     "output_type": "stream",
     "text": [
      "\u001b[2m2024-04-13 15:14.05\u001b[0m [\u001b[32m\u001b[1minfo     \u001b[0m] \u001b[1mDiscreteBC_20240413151338: epoch=1 step=5000\u001b[0m \u001b[36mepoch\u001b[0m=\u001b[35m1\u001b[0m \u001b[36mmetrics\u001b[0m=\u001b[35m{'time_sample_batch': 0.0036174072265625, 'time_algorithm_update': 0.0016079576492309571, 'loss': 2.776480276489258, 'time_step': 0.005307954120635987, 'environment': 0.10000000000000009}\u001b[0m \u001b[36mstep\u001b[0m=\u001b[35m5000\u001b[0m\n",
      "\u001b[2m2024-04-13 15:14.05\u001b[0m [\u001b[32m\u001b[1minfo     \u001b[0m] \u001b[1mModel parameters are saved to d3rlpy_logs/DiscreteBC_20240413151338/model_5000.d3\u001b[0m\n"
     ]
    },
    {
     "name": "stderr",
     "output_type": "stream",
     "text": [
      "Epoch 2/20: 100%|██████████| 5000/5000 [00:26<00:00, 188.06it/s, loss=2.77]\n"
     ]
    },
    {
     "name": "stdout",
     "output_type": "stream",
     "text": [
      "\u001b[2m2024-04-13 15:14.32\u001b[0m [\u001b[32m\u001b[1minfo     \u001b[0m] \u001b[1mDiscreteBC_20240413151338: epoch=2 step=10000\u001b[0m \u001b[36mepoch\u001b[0m=\u001b[35m2\u001b[0m \u001b[36mmetrics\u001b[0m=\u001b[35m{'time_sample_batch': 0.003613191604614258, 'time_algorithm_update': 0.0015913578033447265, 'loss': 2.7741408906936647, 'time_step': 0.005288004493713379, 'environment': 0.10000000000000009}\u001b[0m \u001b[36mstep\u001b[0m=\u001b[35m10000\u001b[0m\n",
      "\u001b[2m2024-04-13 15:14.32\u001b[0m [\u001b[32m\u001b[1minfo     \u001b[0m] \u001b[1mModel parameters are saved to d3rlpy_logs/DiscreteBC_20240413151338/model_10000.d3\u001b[0m\n"
     ]
    },
    {
     "name": "stderr",
     "output_type": "stream",
     "text": [
      "Epoch 3/20: 100%|██████████| 5000/5000 [00:27<00:00, 185.05it/s, loss=2.77]\n"
     ]
    },
    {
     "name": "stdout",
     "output_type": "stream",
     "text": [
      "\u001b[2m2024-04-13 15:14.59\u001b[0m [\u001b[32m\u001b[1minfo     \u001b[0m] \u001b[1mDiscreteBC_20240413151338: epoch=3 step=15000\u001b[0m \u001b[36mepoch\u001b[0m=\u001b[35m3\u001b[0m \u001b[36mmetrics\u001b[0m=\u001b[35m{'time_sample_batch': 0.0036233589172363283, 'time_algorithm_update': 0.0016632376194000245, 'loss': 2.7748623334407805, 'time_step': 0.005371978235244751, 'environment': 0.10000000000000009}\u001b[0m \u001b[36mstep\u001b[0m=\u001b[35m15000\u001b[0m\n",
      "\u001b[2m2024-04-13 15:14.59\u001b[0m [\u001b[32m\u001b[1minfo     \u001b[0m] \u001b[1mModel parameters are saved to d3rlpy_logs/DiscreteBC_20240413151338/model_15000.d3\u001b[0m\n"
     ]
    },
    {
     "name": "stderr",
     "output_type": "stream",
     "text": [
      "Epoch 4/20: 100%|██████████| 5000/5000 [00:26<00:00, 185.68it/s, loss=2.77]\n"
     ]
    },
    {
     "name": "stdout",
     "output_type": "stream",
     "text": [
      "\u001b[2m2024-04-13 15:15.26\u001b[0m [\u001b[32m\u001b[1minfo     \u001b[0m] \u001b[1mDiscreteBC_20240413151338: epoch=4 step=20000\u001b[0m \u001b[36mepoch\u001b[0m=\u001b[35m4\u001b[0m \u001b[36mmetrics\u001b[0m=\u001b[35m{'time_sample_batch': 0.0036119083881378175, 'time_algorithm_update': 0.0016606989860534667, 'loss': 2.7739523351192474, 'time_step': 0.0053557278156280514, 'environment': 0.10000000000000009}\u001b[0m \u001b[36mstep\u001b[0m=\u001b[35m20000\u001b[0m\n",
      "\u001b[2m2024-04-13 15:15.26\u001b[0m [\u001b[32m\u001b[1minfo     \u001b[0m] \u001b[1mModel parameters are saved to d3rlpy_logs/DiscreteBC_20240413151338/model_20000.d3\u001b[0m\n"
     ]
    },
    {
     "name": "stderr",
     "output_type": "stream",
     "text": [
      "Epoch 5/20: 100%|██████████| 5000/5000 [00:26<00:00, 186.87it/s, loss=2.77]\n"
     ]
    },
    {
     "name": "stdout",
     "output_type": "stream",
     "text": [
      "\u001b[2m2024-04-13 15:15.53\u001b[0m [\u001b[32m\u001b[1minfo     \u001b[0m] \u001b[1mDiscreteBC_20240413151338: epoch=5 step=25000\u001b[0m \u001b[36mepoch\u001b[0m=\u001b[35m5\u001b[0m \u001b[36mmetrics\u001b[0m=\u001b[35m{'time_sample_batch': 0.0036017123222351075, 'time_algorithm_update': 0.001636998987197876, 'loss': 2.7737502334117887, 'time_step': 0.005322188377380371, 'environment': 0.10000000000000009}\u001b[0m \u001b[36mstep\u001b[0m=\u001b[35m25000\u001b[0m\n",
      "\u001b[2m2024-04-13 15:15.53\u001b[0m [\u001b[32m\u001b[1minfo     \u001b[0m] \u001b[1mModel parameters are saved to d3rlpy_logs/DiscreteBC_20240413151338/model_25000.d3\u001b[0m\n"
     ]
    },
    {
     "name": "stderr",
     "output_type": "stream",
     "text": [
      "Epoch 6/20: 100%|██████████| 5000/5000 [00:26<00:00, 190.27it/s, loss=2.77]\n"
     ]
    },
    {
     "name": "stdout",
     "output_type": "stream",
     "text": [
      "\u001b[2m2024-04-13 15:16.19\u001b[0m [\u001b[32m\u001b[1minfo     \u001b[0m] \u001b[1mDiscreteBC_20240413151338: epoch=6 step=30000\u001b[0m \u001b[36mepoch\u001b[0m=\u001b[35m6\u001b[0m \u001b[36mmetrics\u001b[0m=\u001b[35m{'time_sample_batch': 0.0035838228702545164, 'time_algorithm_update': 0.0015624590396881104, 'loss': 2.77374481754303, 'time_step': 0.005226687335968018, 'environment': 0.10000000000000009}\u001b[0m \u001b[36mstep\u001b[0m=\u001b[35m30000\u001b[0m\n",
      "\u001b[2m2024-04-13 15:16.19\u001b[0m [\u001b[32m\u001b[1minfo     \u001b[0m] \u001b[1mModel parameters are saved to d3rlpy_logs/DiscreteBC_20240413151338/model_30000.d3\u001b[0m\n"
     ]
    },
    {
     "name": "stderr",
     "output_type": "stream",
     "text": [
      "Epoch 7/20: 100%|██████████| 5000/5000 [00:26<00:00, 190.16it/s, loss=2.77]\n"
     ]
    },
    {
     "name": "stdout",
     "output_type": "stream",
     "text": [
      "\u001b[2m2024-04-13 15:16.46\u001b[0m [\u001b[32m\u001b[1minfo     \u001b[0m] \u001b[1mDiscreteBC_20240413151338: epoch=7 step=35000\u001b[0m \u001b[36mepoch\u001b[0m=\u001b[35m7\u001b[0m \u001b[36mmetrics\u001b[0m=\u001b[35m{'time_sample_batch': 0.0035769807815551756, 'time_algorithm_update': 0.001570662260055542, 'loss': 2.774405163192749, 'time_step': 0.005230057430267334, 'environment': 0.10000000000000009}\u001b[0m \u001b[36mstep\u001b[0m=\u001b[35m35000\u001b[0m\n",
      "\u001b[2m2024-04-13 15:16.46\u001b[0m [\u001b[32m\u001b[1minfo     \u001b[0m] \u001b[1mModel parameters are saved to d3rlpy_logs/DiscreteBC_20240413151338/model_35000.d3\u001b[0m\n"
     ]
    },
    {
     "name": "stderr",
     "output_type": "stream",
     "text": [
      "Epoch 8/20: 100%|██████████| 5000/5000 [00:26<00:00, 189.02it/s, loss=2.77]\n"
     ]
    },
    {
     "name": "stdout",
     "output_type": "stream",
     "text": [
      "\u001b[2m2024-04-13 15:17.12\u001b[0m [\u001b[32m\u001b[1minfo     \u001b[0m] \u001b[1mDiscreteBC_20240413151338: epoch=8 step=40000\u001b[0m \u001b[36mepoch\u001b[0m=\u001b[35m8\u001b[0m \u001b[36mmetrics\u001b[0m=\u001b[35m{'time_sample_batch': 0.0035956388473510742, 'time_algorithm_update': 0.0015834116458892822, 'loss': 2.773943639945984, 'time_step': 0.005261702489852906, 'environment': 0.10000000000000009}\u001b[0m \u001b[36mstep\u001b[0m=\u001b[35m40000\u001b[0m\n",
      "\u001b[2m2024-04-13 15:17.12\u001b[0m [\u001b[32m\u001b[1minfo     \u001b[0m] \u001b[1mModel parameters are saved to d3rlpy_logs/DiscreteBC_20240413151338/model_40000.d3\u001b[0m\n"
     ]
    },
    {
     "name": "stderr",
     "output_type": "stream",
     "text": [
      "Epoch 9/20: 100%|██████████| 5000/5000 [00:26<00:00, 188.75it/s, loss=2.77]\n"
     ]
    },
    {
     "name": "stdout",
     "output_type": "stream",
     "text": [
      "\u001b[2m2024-04-13 15:17.39\u001b[0m [\u001b[32m\u001b[1minfo     \u001b[0m] \u001b[1mDiscreteBC_20240413151338: epoch=9 step=45000\u001b[0m \u001b[36mepoch\u001b[0m=\u001b[35m9\u001b[0m \u001b[36mmetrics\u001b[0m=\u001b[35m{'time_sample_batch': 0.003598611402511597, 'time_algorithm_update': 0.0015874906539916991, 'loss': 2.7741387177944183, 'time_step': 0.005268459796905518, 'environment': 0.10000000000000009}\u001b[0m \u001b[36mstep\u001b[0m=\u001b[35m45000\u001b[0m\n",
      "\u001b[2m2024-04-13 15:17.39\u001b[0m [\u001b[32m\u001b[1minfo     \u001b[0m] \u001b[1mModel parameters are saved to d3rlpy_logs/DiscreteBC_20240413151338/model_45000.d3\u001b[0m\n"
     ]
    },
    {
     "name": "stderr",
     "output_type": "stream",
     "text": [
      "Epoch 10/20: 100%|██████████| 5000/5000 [00:26<00:00, 189.26it/s, loss=2.77]\n"
     ]
    },
    {
     "name": "stdout",
     "output_type": "stream",
     "text": [
      "\u001b[2m2024-04-13 15:18.05\u001b[0m [\u001b[32m\u001b[1minfo     \u001b[0m] \u001b[1mDiscreteBC_20240413151338: epoch=10 step=50000\u001b[0m \u001b[36mepoch\u001b[0m=\u001b[35m10\u001b[0m \u001b[36mmetrics\u001b[0m=\u001b[35m{'time_sample_batch': 0.0035865203857421875, 'time_algorithm_update': 0.0015862576961517335, 'loss': 2.773502482461929, 'time_step': 0.0052555496215820315, 'environment': 0.10000000000000009}\u001b[0m \u001b[36mstep\u001b[0m=\u001b[35m50000\u001b[0m\n",
      "\u001b[2m2024-04-13 15:18.05\u001b[0m [\u001b[32m\u001b[1minfo     \u001b[0m] \u001b[1mModel parameters are saved to d3rlpy_logs/DiscreteBC_20240413151338/model_50000.d3\u001b[0m\n"
     ]
    },
    {
     "name": "stderr",
     "output_type": "stream",
     "text": [
      "Epoch 11/20: 100%|██████████| 5000/5000 [00:26<00:00, 190.59it/s, loss=2.77]\n"
     ]
    },
    {
     "name": "stdout",
     "output_type": "stream",
     "text": [
      "\u001b[2m2024-04-13 15:18.32\u001b[0m [\u001b[32m\u001b[1minfo     \u001b[0m] \u001b[1mDiscreteBC_20240413151338: epoch=11 step=55000\u001b[0m \u001b[36mepoch\u001b[0m=\u001b[35m11\u001b[0m \u001b[36mmetrics\u001b[0m=\u001b[35m{'time_sample_batch': 0.0035581128597259523, 'time_algorithm_update': 0.001575281858444214, 'loss': 2.774106460762024, 'time_step': 0.005218890857696533, 'environment': 0.10000000000000009}\u001b[0m \u001b[36mstep\u001b[0m=\u001b[35m55000\u001b[0m\n",
      "\u001b[2m2024-04-13 15:18.32\u001b[0m [\u001b[32m\u001b[1minfo     \u001b[0m] \u001b[1mModel parameters are saved to d3rlpy_logs/DiscreteBC_20240413151338/model_55000.d3\u001b[0m\n"
     ]
    },
    {
     "name": "stderr",
     "output_type": "stream",
     "text": [
      "Epoch 12/20: 100%|██████████| 5000/5000 [00:26<00:00, 187.67it/s, loss=2.77]\n"
     ]
    },
    {
     "name": "stdout",
     "output_type": "stream",
     "text": [
      "\u001b[2m2024-04-13 15:18.58\u001b[0m [\u001b[32m\u001b[1minfo     \u001b[0m] \u001b[1mDiscreteBC_20240413151338: epoch=12 step=60000\u001b[0m \u001b[36mepoch\u001b[0m=\u001b[35m12\u001b[0m \u001b[36mmetrics\u001b[0m=\u001b[35m{'time_sample_batch': 0.0036090086936950683, 'time_algorithm_update': 0.0015937036991119384, 'loss': 2.77404920129776, 'time_step': 0.005297838830947876, 'environment': 0.10000000000000009}\u001b[0m \u001b[36mstep\u001b[0m=\u001b[35m60000\u001b[0m\n",
      "\u001b[2m2024-04-13 15:18.58\u001b[0m [\u001b[32m\u001b[1minfo     \u001b[0m] \u001b[1mModel parameters are saved to d3rlpy_logs/DiscreteBC_20240413151338/model_60000.d3\u001b[0m\n"
     ]
    },
    {
     "name": "stderr",
     "output_type": "stream",
     "text": [
      "Epoch 13/20: 100%|██████████| 5000/5000 [00:27<00:00, 184.21it/s, loss=2.77]\n"
     ]
    },
    {
     "name": "stdout",
     "output_type": "stream",
     "text": [
      "\u001b[2m2024-04-13 15:19.26\u001b[0m [\u001b[32m\u001b[1minfo     \u001b[0m] \u001b[1mDiscreteBC_20240413151338: epoch=13 step=65000\u001b[0m \u001b[36mepoch\u001b[0m=\u001b[35m13\u001b[0m \u001b[36mmetrics\u001b[0m=\u001b[35m{'time_sample_batch': 0.0036467824935913088, 'time_algorithm_update': 0.0016499691486358643, 'loss': 2.7742896309375764, 'time_step': 0.005396117210388183, 'environment': 0.10000000000000009}\u001b[0m \u001b[36mstep\u001b[0m=\u001b[35m65000\u001b[0m\n",
      "\u001b[2m2024-04-13 15:19.26\u001b[0m [\u001b[32m\u001b[1minfo     \u001b[0m] \u001b[1mModel parameters are saved to d3rlpy_logs/DiscreteBC_20240413151338/model_65000.d3\u001b[0m\n"
     ]
    },
    {
     "name": "stderr",
     "output_type": "stream",
     "text": [
      "Epoch 14/20: 100%|██████████| 5000/5000 [00:27<00:00, 185.18it/s, loss=2.77]\n"
     ]
    },
    {
     "name": "stdout",
     "output_type": "stream",
     "text": [
      "\u001b[2m2024-04-13 15:19.53\u001b[0m [\u001b[32m\u001b[1minfo     \u001b[0m] \u001b[1mDiscreteBC_20240413151338: epoch=14 step=70000\u001b[0m \u001b[36mepoch\u001b[0m=\u001b[35m14\u001b[0m \u001b[36mmetrics\u001b[0m=\u001b[35m{'time_sample_batch': 0.0036381691932678224, 'time_algorithm_update': 0.0016297021865844727, 'loss': 2.7742342073917388, 'time_step': 0.005366966581344604, 'environment': 0.10000000000000009}\u001b[0m \u001b[36mstep\u001b[0m=\u001b[35m70000\u001b[0m\n",
      "\u001b[2m2024-04-13 15:19.53\u001b[0m [\u001b[32m\u001b[1minfo     \u001b[0m] \u001b[1mModel parameters are saved to d3rlpy_logs/DiscreteBC_20240413151338/model_70000.d3\u001b[0m\n"
     ]
    },
    {
     "name": "stderr",
     "output_type": "stream",
     "text": [
      "Epoch 15/20: 100%|██████████| 5000/5000 [00:26<00:00, 185.80it/s, loss=2.77]\n"
     ]
    },
    {
     "name": "stdout",
     "output_type": "stream",
     "text": [
      "\u001b[2m2024-04-13 15:20.20\u001b[0m [\u001b[32m\u001b[1minfo     \u001b[0m] \u001b[1mDiscreteBC_20240413151338: epoch=15 step=75000\u001b[0m \u001b[36mepoch\u001b[0m=\u001b[35m15\u001b[0m \u001b[36mmetrics\u001b[0m=\u001b[35m{'time_sample_batch': 0.003638271379470825, 'time_algorithm_update': 0.0016149096012115479, 'loss': 2.772952657699585, 'time_step': 0.005350379419326782, 'environment': 0.10000000000000009}\u001b[0m \u001b[36mstep\u001b[0m=\u001b[35m75000\u001b[0m\n",
      "\u001b[2m2024-04-13 15:20.20\u001b[0m [\u001b[32m\u001b[1minfo     \u001b[0m] \u001b[1mModel parameters are saved to d3rlpy_logs/DiscreteBC_20240413151338/model_75000.d3\u001b[0m\n"
     ]
    },
    {
     "name": "stderr",
     "output_type": "stream",
     "text": [
      "Epoch 16/20: 100%|██████████| 5000/5000 [00:26<00:00, 185.35it/s, loss=2.77]\n"
     ]
    },
    {
     "name": "stdout",
     "output_type": "stream",
     "text": [
      "\u001b[2m2024-04-13 15:20.47\u001b[0m [\u001b[32m\u001b[1minfo     \u001b[0m] \u001b[1mDiscreteBC_20240413151338: epoch=16 step=80000\u001b[0m \u001b[36mepoch\u001b[0m=\u001b[35m16\u001b[0m \u001b[36mmetrics\u001b[0m=\u001b[35m{'time_sample_batch': 0.0036558003902435305, 'time_algorithm_update': 0.001611439037322998, 'loss': 2.7734867696285246, 'time_step': 0.005364054536819458, 'environment': 0.10000000000000009}\u001b[0m \u001b[36mstep\u001b[0m=\u001b[35m80000\u001b[0m\n",
      "\u001b[2m2024-04-13 15:20.47\u001b[0m [\u001b[32m\u001b[1minfo     \u001b[0m] \u001b[1mModel parameters are saved to d3rlpy_logs/DiscreteBC_20240413151338/model_80000.d3\u001b[0m\n"
     ]
    },
    {
     "name": "stderr",
     "output_type": "stream",
     "text": [
      "Epoch 17/20: 100%|██████████| 5000/5000 [00:27<00:00, 181.26it/s, loss=2.77]\n"
     ]
    },
    {
     "name": "stdout",
     "output_type": "stream",
     "text": [
      "\u001b[2m2024-04-13 15:21.15\u001b[0m [\u001b[32m\u001b[1minfo     \u001b[0m] \u001b[1mDiscreteBC_20240413151338: epoch=17 step=85000\u001b[0m \u001b[36mepoch\u001b[0m=\u001b[35m17\u001b[0m \u001b[36mmetrics\u001b[0m=\u001b[35m{'time_sample_batch': 0.0037493647575378417, 'time_algorithm_update': 0.0016306805610656738, 'loss': 2.774012933444977, 'time_step': 0.005481673097610474, 'environment': 0.10000000000000009}\u001b[0m \u001b[36mstep\u001b[0m=\u001b[35m85000\u001b[0m\n",
      "\u001b[2m2024-04-13 15:21.15\u001b[0m [\u001b[32m\u001b[1minfo     \u001b[0m] \u001b[1mModel parameters are saved to d3rlpy_logs/DiscreteBC_20240413151338/model_85000.d3\u001b[0m\n"
     ]
    },
    {
     "name": "stderr",
     "output_type": "stream",
     "text": [
      "Epoch 18/20: 100%|██████████| 5000/5000 [00:28<00:00, 176.66it/s, loss=2.77]\n"
     ]
    },
    {
     "name": "stdout",
     "output_type": "stream",
     "text": [
      "\u001b[2m2024-04-13 15:21.43\u001b[0m [\u001b[32m\u001b[1minfo     \u001b[0m] \u001b[1mDiscreteBC_20240413151338: epoch=18 step=90000\u001b[0m \u001b[36mepoch\u001b[0m=\u001b[35m18\u001b[0m \u001b[36mmetrics\u001b[0m=\u001b[35m{'time_sample_batch': 0.0038741576194763184, 'time_algorithm_update': 0.0016424619197845458, 'loss': 2.773426079559326, 'time_step': 0.0056227565288543705, 'environment': 0.10000000000000009}\u001b[0m \u001b[36mstep\u001b[0m=\u001b[35m90000\u001b[0m\n",
      "\u001b[2m2024-04-13 15:21.43\u001b[0m [\u001b[32m\u001b[1minfo     \u001b[0m] \u001b[1mModel parameters are saved to d3rlpy_logs/DiscreteBC_20240413151338/model_90000.d3\u001b[0m\n"
     ]
    },
    {
     "name": "stderr",
     "output_type": "stream",
     "text": [
      "Epoch 19/20: 100%|██████████| 5000/5000 [00:27<00:00, 183.54it/s, loss=2.77]\n"
     ]
    },
    {
     "name": "stdout",
     "output_type": "stream",
     "text": [
      "\u001b[2m2024-04-13 15:22.10\u001b[0m [\u001b[32m\u001b[1minfo     \u001b[0m] \u001b[1mDiscreteBC_20240413151338: epoch=19 step=95000\u001b[0m \u001b[36mepoch\u001b[0m=\u001b[35m19\u001b[0m \u001b[36mmetrics\u001b[0m=\u001b[35m{'time_sample_batch': 0.0036643407821655275, 'time_algorithm_update': 0.001653248929977417, 'loss': 2.773181606864929, 'time_step': 0.005416619634628296, 'environment': 0.10000000000000009}\u001b[0m \u001b[36mstep\u001b[0m=\u001b[35m95000\u001b[0m\n",
      "\u001b[2m2024-04-13 15:22.10\u001b[0m [\u001b[32m\u001b[1minfo     \u001b[0m] \u001b[1mModel parameters are saved to d3rlpy_logs/DiscreteBC_20240413151338/model_95000.d3\u001b[0m\n"
     ]
    },
    {
     "name": "stderr",
     "output_type": "stream",
     "text": [
      "Epoch 20/20: 100%|██████████| 5000/5000 [00:27<00:00, 182.37it/s, loss=2.77]\n"
     ]
    },
    {
     "name": "stdout",
     "output_type": "stream",
     "text": [
      "\u001b[2m2024-04-13 15:22.38\u001b[0m [\u001b[32m\u001b[1minfo     \u001b[0m] \u001b[1mDiscreteBC_20240413151338: epoch=20 step=100000\u001b[0m \u001b[36mepoch\u001b[0m=\u001b[35m20\u001b[0m \u001b[36mmetrics\u001b[0m=\u001b[35m{'time_sample_batch': 0.0036931878089904785, 'time_algorithm_update': 0.0016570877075195313, 'loss': 2.774014704656601, 'time_step': 0.0054500922203063965, 'environment': 0.10000000000000009}\u001b[0m \u001b[36mstep\u001b[0m=\u001b[35m100000\u001b[0m\n",
      "\u001b[2m2024-04-13 15:22.38\u001b[0m [\u001b[32m\u001b[1minfo     \u001b[0m] \u001b[1mModel parameters are saved to d3rlpy_logs/DiscreteBC_20240413151338/model_100000.d3\u001b[0m\n"
     ]
    }
   ],
   "source": [
    "bc = d3rlpy.algos.DiscreteBCConfig(learning_rate=0.0001, gamma=0.9).create(device='cuda:0')\n",
    "\n",
    "# start training\n",
    "statistics_bc = bc.fit(\n",
    "    dqn_buffer,\n",
    "    n_steps=100000,\n",
    "    n_steps_per_epoch=5000,\n",
    "    evaluators={\n",
    "        'environment': d3rlpy.metrics.EnvironmentEvaluator(env),\n",
    "    },\n",
    ")"
   ]
  },
  {
   "cell_type": "markdown",
   "id": "7ff56497-dc71-4c86-a965-715130e6bf7d",
   "metadata": {},
   "source": [
    "В принципе такое кол-во шагов было излишним, алгоритм научился быстро проходить лабиринт уже в превой эпохе :)\n",
    "\n",
    "# Conservative Q-Learning algorithm (CQL).\n",
    "\n",
    "CQL is a SAC-based data-driven deep reinforcement learning algorithm, which achieves state-of-the-art performance in offline RL problems.\n",
    "\n",
    "CQL mitigates overestimation error by minimizing action-values under the current policy and maximizing values under data distribution for underestimation issue.\n",
    "\n",
    "Оставляю все параметры дефолтными."
   ]
  },
  {
   "cell_type": "code",
   "execution_count": 11,
   "id": "CnaG69OlwWj1",
   "metadata": {
    "colab": {
     "base_uri": "https://localhost:8080/",
     "height": 791,
     "referenced_widgets": [
      "79f0b227b63c498d84d4eb1a42d52d40",
      "31ae093b662b4d7db868856e37878db7",
      "5df49b59366041e6bcf117042c9e53c7",
      "7a804ef560db4ccf84142393802c601d",
      "96bd0164514b47109f73b76530e3260e",
      "5f07dd33be784534a67e75c6902e10d2",
      "c00270f61c5b4416a06cdebcb115c134",
      "6aef58fb455447eca63312b91b34fbb7",
      "7baf241d061b432594c82ef92acc7952",
      "aac1f8ab6a84476e81342740185ef9a0",
      "5a22cf360b3d4cb79165f06f36bc93ce",
      "7c62b9b8b7f64c518efcaf39c00ecae1",
      "dd374d5ee8a646cb9564b1c391584d0e",
      "1260f76e07d041ae8aec661e4a2e0d3a",
      "e551ad82f79743bf8305db7556318a29",
      "74a9c382f91041678e86e4ca4247343e",
      "5393552bcbb34ae08c83460e7953d3ea",
      "173a224593404531b17f3a96520793b4",
      "c8a50e820353457c86811140943226e0",
      "ca065a45f8d84913a334f96a6896ed00",
      "79898afa50b04eb1a42128f3240a19bf",
      "f231071e03ae48da877fe4d1189fa9ff",
      "020095d9eb2e462b813058f97b08fe90",
      "1e33ab2877994178affc3370ba679e75",
      "594429e2440944e2b059c15541ad6482",
      "b2cdc5e24f134ab29f235c38c2c13600",
      "c4a92f0a343345c498a6b3b80a6c2cb3",
      "f73b7b8c5ae1424b8cdcc4e7650204ee",
      "a5a85de1fb09438caecbd426aa2c912a",
      "386690e8a40e4e0793c290ce50b76af4",
      "5d3560a594874f2ca667b4e8b526b1cb",
      "4441f0fcec9746c5aad028905c1ab20f",
      "5ec678362445444c874554d5c4e0ae16",
      "ac7aaffa22854efe8818321e12795745",
      "3786e1cd94ec44d1be5d397548d988da",
      "c43520a65d6143649a138c67d3b464c3",
      "f336dbee48c944c1bc2351565f52d381",
      "24bc55b6761848e4b6865b66aa47530f",
      "767b594b30234b7c8d155bb05d3134c5",
      "8d87536733bf46979b8c57e87fd3ad4c",
      "4374071ec4964a90918c62de17b3b27e",
      "82c723652f1340a489c40217d40a69c0",
      "509160a12937449f8a4965f25963a4d1",
      "8ab1d21716fe4338b2da0a35173bf9dd",
      "fcd003f260254284a7bb20b23697dab5",
      "55d396d499974b9db2f69738dac850b0",
      "efd6fcb2c10549ffa712c4645cb363d8",
      "6925f571497047078c3b73ddcac51bd8",
      "dd32a96363804c13ab0038335a311338",
      "a5897c55b16742d8b8792ab41dc636e1",
      "09e3b23f8bac44de82cebf55fc60e54e",
      "1313ed8390f74ad592870217e52892d4",
      "6a067fdff87644deb35d43119c9c51a4",
      "8fbbe092e3c7415989b7d5929aa18f07",
      "2bace17209b94a5e9c9bdbecea5a57f8",
      "05c0bfd5377440d1b60a30e6ebdb1d47",
      "3bb468c359774ec1b5d77821499ee642",
      "d327cf2c016c4350a7bf1725a15b15a1",
      "f62307918f7c48c7a19b7234b4776408",
      "4cf4ab0ee147467686f013b1996b8a18",
      "6f0911fcf2d24029a7848606cf4535c6",
      "6614bd8648d34a55982a1913ca5f9ebd",
      "9727353fe2d74c24992093a75b29b368",
      "7d15ce137bf844e4a66f7864171ddb36",
      "1af92cd1580344e29814fe96c61e40c6",
      "fefa236c4a534f3fa34ee49a571e4129",
      "7a036b0e588c4ad3bd793e33ddea7043",
      "96697084a64d4af8b1e31c567bf54ac3",
      "bec1cb31333d4c05acc532c9f7bd9faf",
      "5cc62ac2681e4b7193b8697457c57b2e",
      "9569de476a73423797de5739a6f48ad7",
      "c58eb5bbee944c3e8ea7009b73a3e316",
      "0a695458d3df4d42b836b92a548d0952",
      "93c8edb1c5bc4a35b60aa62d08860257",
      "59e1416f56ad4324908dd1575e2144ce",
      "74000350720249a6a9a6ec3720795ef7",
      "eaf8642f7b4445d785dbb5c80cdbad81",
      "e5799c9159df44f9baa6fb943dbfc638",
      "902116b81bb3497985baa3549974ebc1",
      "e9b1f833e360415babe76e2ffa05efd3",
      "b75a94e91ce94a7ea202a8feafe933bf",
      "864e4017b0db4352923b85ed0af93bf4",
      "96155afff0804fcca91b40c1bf058ed9",
      "1d9ab3908a864796b8fe0af7996e7540",
      "55ac99bdd3364a6b86d3db9c9d56feec",
      "cf23379d6c184b2583b778653b334b9a",
      "2c4439ad5d284ecf9736d20d9c998a1d",
      "02a123de5c004cbe826601b49479e4e7",
      "8fdafb320c454599a35493644abf056d",
      "8953371760f84cafae764eb815f5ba35",
      "edbbed934d9246e4914b514483df271f",
      "d9b93870a4b146269508ff22ce3b5942",
      "89bc50f44dbb4fe58887888a94f54af3",
      "f8848d3f01dd4350b41ba539ddce6c9d",
      "0ff0de3d293d4a418e7ca6a6d1d492be",
      "2f94ce0496af4e1a9cd39753f8203c75",
      "0972b4d51d7b49d8a9ed8f8155be342b",
      "7cc6d9faeab749bf9d2fca7f6c40d792",
      "018f4fb319444e74b03a1cb0162f44cc",
      "7e58bccc967c456ebee739450725dee1",
      "6ed437ac5a37434b9c1ea7ab2210cf76",
      "7223360ac9d44f24b5e3db88e1d9a226",
      "d843c7412a34419d993107a6191c5e74",
      "5bcabf81525d4799975b5c9384910f13",
      "d196cead059c41de8090bdad483f7a35",
      "0495ba3df5384418b1217d43274ea395",
      "cb5f0c82052c48cfac884c779e50f2ce",
      "da3001b424fb45c78dae5bddb598ad58",
      "deab2bd61d304b0099f029e024ae2513",
      "06cd1b65c0a14d1bad1f0711a402a4e5"
     ]
    },
    "execution": {
     "iopub.execute_input": "2024-04-13T15:22:46.826787Z",
     "iopub.status.busy": "2024-04-13T15:22:46.826171Z",
     "iopub.status.idle": "2024-04-13T15:30:22.037687Z",
     "shell.execute_reply": "2024-04-13T15:30:22.037127Z",
     "shell.execute_reply.started": "2024-04-13T15:22:46.826765Z"
    },
    "id": "CnaG69OlwWj1",
    "outputId": "2523d656-9a2b-44f4-a07e-5beb7aec3628"
   },
   "outputs": [
    {
     "name": "stdout",
     "output_type": "stream",
     "text": [
      "\u001b[2m2024-04-13 15:22.46\u001b[0m [\u001b[32m\u001b[1minfo     \u001b[0m] \u001b[1mdataset info                  \u001b[0m \u001b[36mdataset_info\u001b[0m=\u001b[35mDatasetInfo(observation_signature=Signature(dtype=[dtype('float32')], shape=[(49,)]), action_signature=Signature(dtype=[dtype('int64')], shape=[()]), reward_signature=Signature(dtype=[dtype('float32')], shape=[[1]]), action_space=<ActionSpace.DISCRETE: 2>, action_size=5)\u001b[0m\n",
      "\u001b[2m2024-04-13 15:22.46\u001b[0m [\u001b[32m\u001b[1minfo     \u001b[0m] \u001b[1mDirectory is created at d3rlpy_logs/DiscreteCQL_20240413152246\u001b[0m\n",
      "\u001b[2m2024-04-13 15:22.46\u001b[0m [\u001b[32m\u001b[1mdebug    \u001b[0m] \u001b[1mBuilding models...            \u001b[0m\n",
      "\u001b[2m2024-04-13 15:22.46\u001b[0m [\u001b[32m\u001b[1mdebug    \u001b[0m] \u001b[1mModels have been built.       \u001b[0m\n",
      "\u001b[2m2024-04-13 15:22.46\u001b[0m [\u001b[32m\u001b[1minfo     \u001b[0m] \u001b[1mParameters                    \u001b[0m \u001b[36mparams\u001b[0m=\u001b[35m{'observation_shape': [49], 'action_size': 5, 'config': {'type': 'discrete_cql', 'params': {'batch_size': 32, 'gamma': 0.99, 'observation_scaler': {'type': 'none', 'params': {}}, 'action_scaler': {'type': 'none', 'params': {}}, 'reward_scaler': {'type': 'none', 'params': {}}, 'learning_rate': 6.25e-05, 'optim_factory': {'type': 'adam', 'params': {'betas': [0.9, 0.999], 'eps': 1e-08, 'weight_decay': 0, 'amsgrad': False}}, 'encoder_factory': {'type': 'default', 'params': {'activation': 'relu', 'use_batch_norm': False, 'dropout_rate': None}}, 'q_func_factory': {'type': 'mean', 'params': {'share_encoder': False}}, 'n_critics': 1, 'target_update_interval': 8000, 'alpha': 1.0}}}\u001b[0m\n"
     ]
    },
    {
     "name": "stderr",
     "output_type": "stream",
     "text": [
      "Epoch 1/20: 100%|██████████| 5000/5000 [00:22<00:00, 225.05it/s, loss=1.41, td_loss=0.0909, conservative_loss=1.32]\n"
     ]
    },
    {
     "name": "stdout",
     "output_type": "stream",
     "text": [
      "\u001b[2m2024-04-13 15:23.09\u001b[0m [\u001b[32m\u001b[1minfo     \u001b[0m] \u001b[1mDiscreteCQL_20240413152246: epoch=1 step=5000\u001b[0m \u001b[36mepoch\u001b[0m=\u001b[35m1\u001b[0m \u001b[36mmetrics\u001b[0m=\u001b[35m{'time_sample_batch': 0.001287923002243042, 'time_algorithm_update': 0.0029849580764770506, 'loss': 1.4067183235168457, 'td_loss': 0.09092485747016035, 'conservative_loss': 1.3157934662103652, 'time_step': 0.004410223722457886, 'environment': 0.10000000000000009}\u001b[0m \u001b[36mstep\u001b[0m=\u001b[35m5000\u001b[0m\n",
      "\u001b[2m2024-04-13 15:23.09\u001b[0m [\u001b[32m\u001b[1minfo     \u001b[0m] \u001b[1mModel parameters are saved to d3rlpy_logs/DiscreteCQL_20240413152246/model_5000.d3\u001b[0m\n"
     ]
    },
    {
     "name": "stderr",
     "output_type": "stream",
     "text": [
      "Epoch 2/20: 100%|██████████| 5000/5000 [00:22<00:00, 221.94it/s, loss=1.39, td_loss=0.0986, conservative_loss=1.3]\n"
     ]
    },
    {
     "name": "stdout",
     "output_type": "stream",
     "text": [
      "\u001b[2m2024-04-13 15:23.31\u001b[0m [\u001b[32m\u001b[1minfo     \u001b[0m] \u001b[1mDiscreteCQL_20240413152246: epoch=2 step=10000\u001b[0m \u001b[36mepoch\u001b[0m=\u001b[35m2\u001b[0m \u001b[36mmetrics\u001b[0m=\u001b[35m{'time_sample_batch': 0.0012639410495758057, 'time_algorithm_update': 0.003051754903793335, 'loss': 1.394083631515503, 'td_loss': 0.09859686334431171, 'conservative_loss': 1.2954867698669434, 'time_step': 0.004470475482940674, 'environment': 0.10000000000000009}\u001b[0m \u001b[36mstep\u001b[0m=\u001b[35m10000\u001b[0m\n",
      "\u001b[2m2024-04-13 15:23.31\u001b[0m [\u001b[32m\u001b[1minfo     \u001b[0m] \u001b[1mModel parameters are saved to d3rlpy_logs/DiscreteCQL_20240413152246/model_10000.d3\u001b[0m\n"
     ]
    },
    {
     "name": "stderr",
     "output_type": "stream",
     "text": [
      "Epoch 3/20: 100%|██████████| 5000/5000 [00:22<00:00, 218.49it/s, loss=1.39, td_loss=0.0959, conservative_loss=1.29]\n"
     ]
    },
    {
     "name": "stdout",
     "output_type": "stream",
     "text": [
      "\u001b[2m2024-04-13 15:23.54\u001b[0m [\u001b[32m\u001b[1minfo     \u001b[0m] \u001b[1mDiscreteCQL_20240413152246: epoch=3 step=15000\u001b[0m \u001b[36mepoch\u001b[0m=\u001b[35m3\u001b[0m \u001b[36mmetrics\u001b[0m=\u001b[35m{'time_sample_batch': 0.0012780495166778564, 'time_algorithm_update': 0.0031110344409942627, 'loss': 1.3882554588794709, 'td_loss': 0.09586297463700175, 'conservative_loss': 1.2923924844503403, 'time_step': 0.004542998886108399, 'environment': 0.10000000000000009}\u001b[0m \u001b[36mstep\u001b[0m=\u001b[35m15000\u001b[0m\n",
      "\u001b[2m2024-04-13 15:23.54\u001b[0m [\u001b[32m\u001b[1minfo     \u001b[0m] \u001b[1mModel parameters are saved to d3rlpy_logs/DiscreteCQL_20240413152246/model_15000.d3\u001b[0m\n"
     ]
    },
    {
     "name": "stderr",
     "output_type": "stream",
     "text": [
      "Epoch 4/20: 100%|██████████| 5000/5000 [00:23<00:00, 211.84it/s, loss=1.39, td_loss=0.0958, conservative_loss=1.29]\n"
     ]
    },
    {
     "name": "stdout",
     "output_type": "stream",
     "text": [
      "\u001b[2m2024-04-13 15:24.18\u001b[0m [\u001b[32m\u001b[1minfo     \u001b[0m] \u001b[1mDiscreteCQL_20240413152246: epoch=4 step=20000\u001b[0m \u001b[36mepoch\u001b[0m=\u001b[35m4\u001b[0m \u001b[36mmetrics\u001b[0m=\u001b[35m{'time_sample_batch': 0.001373718023300171, 'time_algorithm_update': 0.003168099880218506, 'loss': 1.3890800566911696, 'td_loss': 0.0958212928622961, 'conservative_loss': 1.2932587631106376, 'time_step': 0.004688185930252075, 'environment': 0.10000000000000009}\u001b[0m \u001b[36mstep\u001b[0m=\u001b[35m20000\u001b[0m\n",
      "\u001b[2m2024-04-13 15:24.18\u001b[0m [\u001b[32m\u001b[1minfo     \u001b[0m] \u001b[1mModel parameters are saved to d3rlpy_logs/DiscreteCQL_20240413152246/model_20000.d3\u001b[0m\n"
     ]
    },
    {
     "name": "stderr",
     "output_type": "stream",
     "text": [
      "Epoch 5/20: 100%|██████████| 5000/5000 [00:23<00:00, 212.81it/s, loss=1.39, td_loss=0.0957, conservative_loss=1.29]\n"
     ]
    },
    {
     "name": "stdout",
     "output_type": "stream",
     "text": [
      "\u001b[2m2024-04-13 15:24.42\u001b[0m [\u001b[32m\u001b[1minfo     \u001b[0m] \u001b[1mDiscreteCQL_20240413152246: epoch=5 step=25000\u001b[0m \u001b[36mepoch\u001b[0m=\u001b[35m5\u001b[0m \u001b[36mmetrics\u001b[0m=\u001b[35m{'time_sample_batch': 0.0013594173431396483, 'time_algorithm_update': 0.003161212682723999, 'loss': 1.3873169519662858, 'td_loss': 0.09571438642293215, 'conservative_loss': 1.291602565598488, 'time_step': 0.004666975498199463, 'environment': 0.10000000000000009}\u001b[0m \u001b[36mstep\u001b[0m=\u001b[35m25000\u001b[0m\n",
      "\u001b[2m2024-04-13 15:24.42\u001b[0m [\u001b[32m\u001b[1minfo     \u001b[0m] \u001b[1mModel parameters are saved to d3rlpy_logs/DiscreteCQL_20240413152246/model_25000.d3\u001b[0m\n"
     ]
    },
    {
     "name": "stderr",
     "output_type": "stream",
     "text": [
      "Epoch 6/20: 100%|██████████| 5000/5000 [00:23<00:00, 212.66it/s, loss=1.38, td_loss=0.0947, conservative_loss=1.29]\n"
     ]
    },
    {
     "name": "stdout",
     "output_type": "stream",
     "text": [
      "\u001b[2m2024-04-13 15:25.05\u001b[0m [\u001b[32m\u001b[1minfo     \u001b[0m] \u001b[1mDiscreteCQL_20240413152246: epoch=6 step=30000\u001b[0m \u001b[36mepoch\u001b[0m=\u001b[35m6\u001b[0m \u001b[36mmetrics\u001b[0m=\u001b[35m{'time_sample_batch': 0.0013519374370574951, 'time_algorithm_update': 0.0031737337589263915, 'loss': 1.3840624923229217, 'td_loss': 0.09465710356906057, 'conservative_loss': 1.2894053888082504, 'time_step': 0.004670980787277222, 'environment': 0.10000000000000009}\u001b[0m \u001b[36mstep\u001b[0m=\u001b[35m30000\u001b[0m\n",
      "\u001b[2m2024-04-13 15:25.05\u001b[0m [\u001b[32m\u001b[1minfo     \u001b[0m] \u001b[1mModel parameters are saved to d3rlpy_logs/DiscreteCQL_20240413152246/model_30000.d3\u001b[0m\n"
     ]
    },
    {
     "name": "stderr",
     "output_type": "stream",
     "text": [
      "Epoch 7/20: 100%|██████████| 5000/5000 [00:23<00:00, 215.35it/s, loss=1.39, td_loss=0.0976, conservative_loss=1.29]\n"
     ]
    },
    {
     "name": "stdout",
     "output_type": "stream",
     "text": [
      "\u001b[2m2024-04-13 15:25.29\u001b[0m [\u001b[32m\u001b[1minfo     \u001b[0m] \u001b[1mDiscreteCQL_20240413152246: epoch=7 step=35000\u001b[0m \u001b[36mepoch\u001b[0m=\u001b[35m7\u001b[0m \u001b[36mmetrics\u001b[0m=\u001b[35m{'time_sample_batch': 0.001291635274887085, 'time_algorithm_update': 0.003156767416000366, 'loss': 1.387289030122757, 'td_loss': 0.09759000415578485, 'conservative_loss': 1.2896990262031556, 'time_step': 0.0046067018985748295, 'environment': 0.10000000000000009}\u001b[0m \u001b[36mstep\u001b[0m=\u001b[35m35000\u001b[0m\n",
      "\u001b[2m2024-04-13 15:25.29\u001b[0m [\u001b[32m\u001b[1minfo     \u001b[0m] \u001b[1mModel parameters are saved to d3rlpy_logs/DiscreteCQL_20240413152246/model_35000.d3\u001b[0m\n"
     ]
    },
    {
     "name": "stderr",
     "output_type": "stream",
     "text": [
      "Epoch 8/20: 100%|██████████| 5000/5000 [00:22<00:00, 221.42it/s, loss=1.39, td_loss=0.0962, conservative_loss=1.3] \n"
     ]
    },
    {
     "name": "stdout",
     "output_type": "stream",
     "text": [
      "\u001b[2m2024-04-13 15:25.51\u001b[0m [\u001b[32m\u001b[1minfo     \u001b[0m] \u001b[1mDiscreteCQL_20240413152246: epoch=8 step=40000\u001b[0m \u001b[36mepoch\u001b[0m=\u001b[35m8\u001b[0m \u001b[36mmetrics\u001b[0m=\u001b[35m{'time_sample_batch': 0.0012673779010772706, 'time_algorithm_update': 0.0030548875808715822, 'loss': 1.3930989750862122, 'td_loss': 0.09622899962961674, 'conservative_loss': 1.2968699755430222, 'time_step': 0.0044807093620300295, 'environment': 0.10000000000000009}\u001b[0m \u001b[36mstep\u001b[0m=\u001b[35m40000\u001b[0m\n",
      "\u001b[2m2024-04-13 15:25.51\u001b[0m [\u001b[32m\u001b[1minfo     \u001b[0m] \u001b[1mModel parameters are saved to d3rlpy_logs/DiscreteCQL_20240413152246/model_40000.d3\u001b[0m\n"
     ]
    },
    {
     "name": "stderr",
     "output_type": "stream",
     "text": [
      "Epoch 9/20: 100%|██████████| 5000/5000 [00:22<00:00, 226.40it/s, loss=1.4, td_loss=0.101, conservative_loss=1.3] \n"
     ]
    },
    {
     "name": "stdout",
     "output_type": "stream",
     "text": [
      "\u001b[2m2024-04-13 15:26.13\u001b[0m [\u001b[32m\u001b[1minfo     \u001b[0m] \u001b[1mDiscreteCQL_20240413152246: epoch=9 step=45000\u001b[0m \u001b[36mepoch\u001b[0m=\u001b[35m9\u001b[0m \u001b[36mmetrics\u001b[0m=\u001b[35m{'time_sample_batch': 0.0012602018356323243, 'time_algorithm_update': 0.002964711046218872, 'loss': 1.4003781465768814, 'td_loss': 0.10133254338130356, 'conservative_loss': 1.299045603132248, 'time_step': 0.004381442022323608, 'environment': 0.10000000000000009}\u001b[0m \u001b[36mstep\u001b[0m=\u001b[35m45000\u001b[0m\n",
      "\u001b[2m2024-04-13 15:26.13\u001b[0m [\u001b[32m\u001b[1minfo     \u001b[0m] \u001b[1mModel parameters are saved to d3rlpy_logs/DiscreteCQL_20240413152246/model_45000.d3\u001b[0m\n"
     ]
    },
    {
     "name": "stderr",
     "output_type": "stream",
     "text": [
      "Epoch 10/20: 100%|██████████| 5000/5000 [00:22<00:00, 222.65it/s, loss=1.4, td_loss=0.104, conservative_loss=1.3]  \n"
     ]
    },
    {
     "name": "stdout",
     "output_type": "stream",
     "text": [
      "\u001b[2m2024-04-13 15:26.36\u001b[0m [\u001b[32m\u001b[1minfo     \u001b[0m] \u001b[1mDiscreteCQL_20240413152246: epoch=10 step=50000\u001b[0m \u001b[36mepoch\u001b[0m=\u001b[35m10\u001b[0m \u001b[36mmetrics\u001b[0m=\u001b[35m{'time_sample_batch': 0.001274587917327881, 'time_algorithm_update': 0.003020017147064209, 'loss': 1.4001038152217864, 'td_loss': 0.10415992689952254, 'conservative_loss': 1.2959438879728318, 'time_step': 0.0044563560962677, 'environment': 0.10000000000000009}\u001b[0m \u001b[36mstep\u001b[0m=\u001b[35m50000\u001b[0m\n",
      "\u001b[2m2024-04-13 15:26.36\u001b[0m [\u001b[32m\u001b[1minfo     \u001b[0m] \u001b[1mModel parameters are saved to d3rlpy_logs/DiscreteCQL_20240413152246/model_50000.d3\u001b[0m\n"
     ]
    },
    {
     "name": "stderr",
     "output_type": "stream",
     "text": [
      "Epoch 11/20: 100%|██████████| 5000/5000 [00:22<00:00, 224.32it/s, loss=1.41, td_loss=0.105, conservative_loss=1.3]\n"
     ]
    },
    {
     "name": "stdout",
     "output_type": "stream",
     "text": [
      "\u001b[2m2024-04-13 15:26.58\u001b[0m [\u001b[32m\u001b[1minfo     \u001b[0m] \u001b[1mDiscreteCQL_20240413152246: epoch=11 step=55000\u001b[0m \u001b[36mepoch\u001b[0m=\u001b[35m11\u001b[0m \u001b[36mmetrics\u001b[0m=\u001b[35m{'time_sample_batch': 0.0012712773323059082, 'time_algorithm_update': 0.0029902931690216064, 'loss': 1.4058091377258302, 'td_loss': 0.10532537981048226, 'conservative_loss': 1.3004837581157684, 'time_step': 0.004422548723220825, 'environment': 0.10000000000000009}\u001b[0m \u001b[36mstep\u001b[0m=\u001b[35m55000\u001b[0m\n",
      "\u001b[2m2024-04-13 15:26.58\u001b[0m [\u001b[32m\u001b[1minfo     \u001b[0m] \u001b[1mModel parameters are saved to d3rlpy_logs/DiscreteCQL_20240413152246/model_55000.d3\u001b[0m\n"
     ]
    },
    {
     "name": "stderr",
     "output_type": "stream",
     "text": [
      "Epoch 12/20: 100%|██████████| 5000/5000 [00:22<00:00, 225.22it/s, loss=1.42, td_loss=0.108, conservative_loss=1.31]\n"
     ]
    },
    {
     "name": "stdout",
     "output_type": "stream",
     "text": [
      "\u001b[2m2024-04-13 15:27.21\u001b[0m [\u001b[32m\u001b[1minfo     \u001b[0m] \u001b[1mDiscreteCQL_20240413152246: epoch=12 step=60000\u001b[0m \u001b[36mepoch\u001b[0m=\u001b[35m12\u001b[0m \u001b[36mmetrics\u001b[0m=\u001b[35m{'time_sample_batch': 0.0012696247577667237, 'time_algorithm_update': 0.002972373867034912, 'loss': 1.4153408010482789, 'td_loss': 0.10810199595987796, 'conservative_loss': 1.307238804626465, 'time_step': 0.004404209470748902, 'environment': 0.10000000000000009}\u001b[0m \u001b[36mstep\u001b[0m=\u001b[35m60000\u001b[0m\n",
      "\u001b[2m2024-04-13 15:27.21\u001b[0m [\u001b[32m\u001b[1minfo     \u001b[0m] \u001b[1mModel parameters are saved to d3rlpy_logs/DiscreteCQL_20240413152246/model_60000.d3\u001b[0m\n"
     ]
    },
    {
     "name": "stderr",
     "output_type": "stream",
     "text": [
      "Epoch 13/20: 100%|██████████| 5000/5000 [00:22<00:00, 224.99it/s, loss=1.41, td_loss=0.111, conservative_loss=1.3]\n"
     ]
    },
    {
     "name": "stdout",
     "output_type": "stream",
     "text": [
      "\u001b[2m2024-04-13 15:27.43\u001b[0m [\u001b[32m\u001b[1minfo     \u001b[0m] \u001b[1mDiscreteCQL_20240413152246: epoch=13 step=65000\u001b[0m \u001b[36mepoch\u001b[0m=\u001b[35m13\u001b[0m \u001b[36mmetrics\u001b[0m=\u001b[35m{'time_sample_batch': 0.001268405818939209, 'time_algorithm_update': 0.0029840705871582033, 'loss': 1.414416684436798, 'td_loss': 0.11100534735321999, 'conservative_loss': 1.303411337518692, 'time_step': 0.0044105058193206785, 'environment': 0.10000000000000009}\u001b[0m \u001b[36mstep\u001b[0m=\u001b[35m65000\u001b[0m\n",
      "\u001b[2m2024-04-13 15:27.43\u001b[0m [\u001b[32m\u001b[1minfo     \u001b[0m] \u001b[1mModel parameters are saved to d3rlpy_logs/DiscreteCQL_20240413152246/model_65000.d3\u001b[0m\n"
     ]
    },
    {
     "name": "stderr",
     "output_type": "stream",
     "text": [
      "Epoch 14/20: 100%|██████████| 5000/5000 [00:22<00:00, 223.93it/s, loss=1.42, td_loss=0.112, conservative_loss=1.31]\n"
     ]
    },
    {
     "name": "stdout",
     "output_type": "stream",
     "text": [
      "\u001b[2m2024-04-13 15:28.05\u001b[0m [\u001b[32m\u001b[1minfo     \u001b[0m] \u001b[1mDiscreteCQL_20240413152246: epoch=14 step=70000\u001b[0m \u001b[36mepoch\u001b[0m=\u001b[35m14\u001b[0m \u001b[36mmetrics\u001b[0m=\u001b[35m{'time_sample_batch': 0.001279210090637207, 'time_algorithm_update': 0.0029975711822509766, 'loss': 1.4175092106103897, 'td_loss': 0.11200760401561856, 'conservative_loss': 1.3055016061067581, 'time_step': 0.004432041645050049, 'environment': 0.10000000000000009}\u001b[0m \u001b[36mstep\u001b[0m=\u001b[35m70000\u001b[0m\n",
      "\u001b[2m2024-04-13 15:28.05\u001b[0m [\u001b[32m\u001b[1minfo     \u001b[0m] \u001b[1mModel parameters are saved to d3rlpy_logs/DiscreteCQL_20240413152246/model_70000.d3\u001b[0m\n"
     ]
    },
    {
     "name": "stderr",
     "output_type": "stream",
     "text": [
      "Epoch 15/20: 100%|██████████| 5000/5000 [00:22<00:00, 226.23it/s, loss=1.43, td_loss=0.115, conservative_loss=1.31]\n"
     ]
    },
    {
     "name": "stdout",
     "output_type": "stream",
     "text": [
      "\u001b[2m2024-04-13 15:28.28\u001b[0m [\u001b[32m\u001b[1minfo     \u001b[0m] \u001b[1mDiscreteCQL_20240413152246: epoch=15 step=75000\u001b[0m \u001b[36mepoch\u001b[0m=\u001b[35m15\u001b[0m \u001b[36mmetrics\u001b[0m=\u001b[35m{'time_sample_batch': 0.0012628987789154052, 'time_algorithm_update': 0.002978848361968994, 'loss': 1.425272755074501, 'td_loss': 0.11495583857446909, 'conservative_loss': 1.3103169167160988, 'time_step': 0.0043874860286712645, 'environment': 0.10000000000000009}\u001b[0m \u001b[36mstep\u001b[0m=\u001b[35m75000\u001b[0m\n",
      "\u001b[2m2024-04-13 15:28.28\u001b[0m [\u001b[32m\u001b[1minfo     \u001b[0m] \u001b[1mModel parameters are saved to d3rlpy_logs/DiscreteCQL_20240413152246/model_75000.d3\u001b[0m\n"
     ]
    },
    {
     "name": "stderr",
     "output_type": "stream",
     "text": [
      "Epoch 16/20: 100%|██████████| 5000/5000 [00:21<00:00, 229.08it/s, loss=1.43, td_loss=0.116, conservative_loss=1.31]\n"
     ]
    },
    {
     "name": "stdout",
     "output_type": "stream",
     "text": [
      "\u001b[2m2024-04-13 15:28.50\u001b[0m [\u001b[32m\u001b[1minfo     \u001b[0m] \u001b[1mDiscreteCQL_20240413152246: epoch=16 step=80000\u001b[0m \u001b[36mepoch\u001b[0m=\u001b[35m16\u001b[0m \u001b[36mmetrics\u001b[0m=\u001b[35m{'time_sample_batch': 0.0012453737258911132, 'time_algorithm_update': 0.002980674934387207, 'loss': 1.4284454363107681, 'td_loss': 0.11640751856938004, 'conservative_loss': 1.3120379173278809, 'time_step': 0.004341867733001709, 'environment': 0.10000000000000009}\u001b[0m \u001b[36mstep\u001b[0m=\u001b[35m80000\u001b[0m\n",
      "\u001b[2m2024-04-13 15:28.50\u001b[0m [\u001b[32m\u001b[1minfo     \u001b[0m] \u001b[1mModel parameters are saved to d3rlpy_logs/DiscreteCQL_20240413152246/model_80000.d3\u001b[0m\n"
     ]
    },
    {
     "name": "stderr",
     "output_type": "stream",
     "text": [
      "Epoch 17/20: 100%|██████████| 5000/5000 [00:22<00:00, 222.33it/s, loss=1.44, td_loss=0.122, conservative_loss=1.31]\n"
     ]
    },
    {
     "name": "stdout",
     "output_type": "stream",
     "text": [
      "\u001b[2m2024-04-13 15:29.12\u001b[0m [\u001b[32m\u001b[1minfo     \u001b[0m] \u001b[1mDiscreteCQL_20240413152246: epoch=17 step=85000\u001b[0m \u001b[36mepoch\u001b[0m=\u001b[35m17\u001b[0m \u001b[36mmetrics\u001b[0m=\u001b[35m{'time_sample_batch': 0.0012844813346862792, 'time_algorithm_update': 0.003043273305892944, 'loss': 1.4355736270189285, 'td_loss': 0.12236901696100831, 'conservative_loss': 1.313204609632492, 'time_step': 0.004466038465499878, 'environment': 0.10000000000000009}\u001b[0m \u001b[36mstep\u001b[0m=\u001b[35m85000\u001b[0m\n",
      "\u001b[2m2024-04-13 15:29.12\u001b[0m [\u001b[32m\u001b[1minfo     \u001b[0m] \u001b[1mModel parameters are saved to d3rlpy_logs/DiscreteCQL_20240413152246/model_85000.d3\u001b[0m\n"
     ]
    },
    {
     "name": "stderr",
     "output_type": "stream",
     "text": [
      "Epoch 18/20: 100%|██████████| 5000/5000 [00:23<00:00, 216.52it/s, loss=1.44, td_loss=0.124, conservative_loss=1.32]\n"
     ]
    },
    {
     "name": "stdout",
     "output_type": "stream",
     "text": [
      "\u001b[2m2024-04-13 15:29.35\u001b[0m [\u001b[32m\u001b[1minfo     \u001b[0m] \u001b[1mDiscreteCQL_20240413152246: epoch=18 step=90000\u001b[0m \u001b[36mepoch\u001b[0m=\u001b[35m18\u001b[0m \u001b[36mmetrics\u001b[0m=\u001b[35m{'time_sample_batch': 0.001271128225326538, 'time_algorithm_update': 0.003170299196243286, 'loss': 1.4387818069458007, 'td_loss': 0.12358686801791191, 'conservative_loss': 1.3151949385643005, 'time_step': 0.00458255090713501, 'environment': 0.10000000000000009}\u001b[0m \u001b[36mstep\u001b[0m=\u001b[35m90000\u001b[0m\n",
      "\u001b[2m2024-04-13 15:29.35\u001b[0m [\u001b[32m\u001b[1minfo     \u001b[0m] \u001b[1mModel parameters are saved to d3rlpy_logs/DiscreteCQL_20240413152246/model_90000.d3\u001b[0m\n"
     ]
    },
    {
     "name": "stderr",
     "output_type": "stream",
     "text": [
      "Epoch 19/20: 100%|██████████| 5000/5000 [00:23<00:00, 217.03it/s, loss=1.44, td_loss=0.125, conservative_loss=1.32]\n"
     ]
    },
    {
     "name": "stdout",
     "output_type": "stream",
     "text": [
      "\u001b[2m2024-04-13 15:29.58\u001b[0m [\u001b[32m\u001b[1minfo     \u001b[0m] \u001b[1mDiscreteCQL_20240413152246: epoch=19 step=95000\u001b[0m \u001b[36mepoch\u001b[0m=\u001b[35m19\u001b[0m \u001b[36mmetrics\u001b[0m=\u001b[35m{'time_sample_batch': 0.0012642446041107177, 'time_algorithm_update': 0.003168066310882568, 'loss': 1.4442410432100297, 'td_loss': 0.1249830648638308, 'conservative_loss': 1.3192579786539078, 'time_step': 0.004572111463546753, 'environment': 0.10000000000000009}\u001b[0m \u001b[36mstep\u001b[0m=\u001b[35m95000\u001b[0m\n",
      "\u001b[2m2024-04-13 15:29.58\u001b[0m [\u001b[32m\u001b[1minfo     \u001b[0m] \u001b[1mModel parameters are saved to d3rlpy_logs/DiscreteCQL_20240413152246/model_95000.d3\u001b[0m\n"
     ]
    },
    {
     "name": "stderr",
     "output_type": "stream",
     "text": [
      "Epoch 20/20: 100%|██████████| 5000/5000 [00:22<00:00, 217.77it/s, loss=1.45, td_loss=0.132, conservative_loss=1.32]\n"
     ]
    },
    {
     "name": "stdout",
     "output_type": "stream",
     "text": [
      "\u001b[2m2024-04-13 15:30.22\u001b[0m [\u001b[32m\u001b[1minfo     \u001b[0m] \u001b[1mDiscreteCQL_20240413152246: epoch=20 step=100000\u001b[0m \u001b[36mepoch\u001b[0m=\u001b[35m20\u001b[0m \u001b[36mmetrics\u001b[0m=\u001b[35m{'time_sample_batch': 0.0012566610813140868, 'time_algorithm_update': 0.0031591282844543457, 'loss': 1.4514029879570007, 'td_loss': 0.1323871470823884, 'conservative_loss': 1.3190158407688142, 'time_step': 0.004556981086730957, 'environment': 0.10000000000000009}\u001b[0m \u001b[36mstep\u001b[0m=\u001b[35m100000\u001b[0m\n",
      "\u001b[2m2024-04-13 15:30.22\u001b[0m [\u001b[32m\u001b[1minfo     \u001b[0m] \u001b[1mModel parameters are saved to d3rlpy_logs/DiscreteCQL_20240413152246/model_100000.d3\u001b[0m\n"
     ]
    }
   ],
   "source": [
    "# setup CQL algorithm\n",
    "cql = d3rlpy.algos.DiscreteCQLConfig().create(device='cuda:0')\n",
    "\n",
    "# start training\n",
    "statistics_cql = cql.fit(\n",
    "    dqn_buffer,\n",
    "    n_steps=100000,\n",
    "    n_steps_per_epoch=5000,\n",
    "    evaluators={\n",
    "        'environment': d3rlpy.metrics.EnvironmentEvaluator(env),\n",
    "    },\n",
    ")"
   ]
  },
  {
   "cell_type": "markdown",
   "id": "dc986d85-a842-4bce-a796-45c50cc99e77",
   "metadata": {},
   "source": [
    "Также быстро обучился агент в этом алгоритме после 5000 шагов. Как-то подозрительно показалось, поэтому решила проверить и отрисовать прохождение. Видео не получилось сделать, отрисовала кадры ниже."
   ]
  },
  {
   "cell_type": "code",
   "execution_count": 12,
   "id": "J51qxtFZ0TcV",
   "metadata": {
    "colab": {
     "base_uri": "https://localhost:8080/"
    },
    "execution": {
     "iopub.execute_input": "2024-04-13T15:30:37.168375Z",
     "iopub.status.busy": "2024-04-13T15:30:37.168014Z",
     "iopub.status.idle": "2024-04-13T15:30:37.270662Z",
     "shell.execute_reply": "2024-04-13T15:30:37.270173Z",
     "shell.execute_reply.started": "2024-04-13T15:30:37.168355Z"
    },
    "id": "J51qxtFZ0TcV",
    "outputId": "bed692d7-a356-4230-9eab-9d51db3cf8fd"
   },
   "outputs": [
    {
     "name": "stdout",
     "output_type": "stream",
     "text": [
      "\u001b[37m . \u001b[0m\u001b[37m . \u001b[0m\u001b[37m . \u001b[0m\u001b[37m . \u001b[0m\u001b[37m . \u001b[0m\u001b[37m . \u001b[0m\u001b[37m . \u001b[0m\u001b[37m . \u001b[0m\u001b[37m . \u001b[0m\u001b[37m . \u001b[0m\u001b[37m . \u001b[0m\u001b[37m . \u001b[0m\u001b[37m . \u001b[0m\u001b[37m . \u001b[0m\u001b[37m . \u001b[0m\u001b[37m . \u001b[0m\u001b[37m . \u001b[0m\u001b[37m . \u001b[0m\u001b[37m . \u001b[0m\u001b[37m . \u001b[0m\u001b[37m . \u001b[0m\n",
      "\u001b[37m . \u001b[0m\u001b[37m . \u001b[0m\u001b[37m . \u001b[0m\u001b[37m . \u001b[0m\u001b[37m . \u001b[0m\u001b[37m . \u001b[0m\u001b[37m . \u001b[0m\u001b[37m . \u001b[0m\u001b[37m . \u001b[0m\u001b[37m . \u001b[0m\u001b[37m . \u001b[0m\u001b[37m . \u001b[0m\u001b[37m . \u001b[0m\u001b[37m . \u001b[0m\u001b[37m . \u001b[0m\u001b[37m . \u001b[0m\u001b[37m . \u001b[0m\u001b[37m . \u001b[0m\u001b[37m . \u001b[0m\u001b[37m . \u001b[0m\u001b[37m . \u001b[0m\n",
      "\u001b[37m . \u001b[0m\u001b[37m . \u001b[0m\u001b[46m   \u001b[0m\u001b[46m   \u001b[0m\u001b[46m   \u001b[0m\u001b[46m   \u001b[0m\u001b[46m   \u001b[0m\u001b[46m   \u001b[0m\u001b[46m   \u001b[0m\u001b[46m   \u001b[0m\u001b[46m   \u001b[0m\u001b[46m   \u001b[0m\u001b[46m   \u001b[0m\u001b[46m   \u001b[0m\u001b[46m   \u001b[0m\u001b[46m   \u001b[0m\u001b[46m   \u001b[0m\u001b[46m   \u001b[0m\u001b[46m   \u001b[0m\u001b[37m . \u001b[0m\u001b[37m . \u001b[0m\n",
      "\u001b[37m . \u001b[0m\u001b[37m . \u001b[0m\u001b[46m   \u001b[0m\u001b[37m . \u001b[0m\u001b[37m . \u001b[0m\u001b[46m   \u001b[0m\u001b[37m . \u001b[0m\u001b[46m   \u001b[0m\u001b[46m   \u001b[0m\u001b[37m . \u001b[0m\u001b[37m . \u001b[0m\u001b[37m . \u001b[0m\u001b[46m   \u001b[0m\u001b[37m . \u001b[0m\u001b[37m . \u001b[0m\u001b[37m . \u001b[0m\u001b[46m   \u001b[0m\u001b[37m . \u001b[0m\u001b[46m   \u001b[0m\u001b[37m . \u001b[0m\u001b[37m . \u001b[0m\n",
      "\u001b[37m . \u001b[0m\u001b[37m . \u001b[0m\u001b[46m   \u001b[0m\u001b[46m   \u001b[0m\u001b[46m   \u001b[0m\u001b[46m   \u001b[0m\u001b[37m . \u001b[0m\u001b[37m . \u001b[0m\u001b[37m . \u001b[0m\u001b[37m . \u001b[0m\u001b[46m   \u001b[0m\u001b[46m   \u001b[0m\u001b[37m . \u001b[0m\u001b[46m   \u001b[0m\u001b[37m . \u001b[0m\u001b[46m   \u001b[0m\u001b[37m . \u001b[0m\u001b[37m . \u001b[0m\u001b[46m   \u001b[0m\u001b[37m . \u001b[0m\u001b[37m . \u001b[0m\n",
      "\u001b[37m . \u001b[0m\u001b[37m . \u001b[0m\u001b[46m   \u001b[0m\u001b[37m . \u001b[0m\u001b[46m   \u001b[0m\u001b[46m   \u001b[0m\u001b[46m   \u001b[0m\u001b[46m   \u001b[0m\u001b[37m . \u001b[0m\u001b[37m . \u001b[0m\u001b[37m . \u001b[0m\u001b[46m   \u001b[0m\u001b[37m . \u001b[0m\u001b[46m   \u001b[0m\u001b[46m   \u001b[0m\u001b[46m   \u001b[0m\u001b[37m . \u001b[0m\u001b[46m   \u001b[0m\u001b[46m   \u001b[0m\u001b[37m . \u001b[0m\u001b[37m . \u001b[0m\n",
      "\u001b[37m . \u001b[0m\u001b[37m . \u001b[0m\u001b[46m   \u001b[0m\u001b[37m . \u001b[0m\u001b[37m . \u001b[0m\u001b[37m . \u001b[0m\u001b[37m . \u001b[0m\u001b[37m . \u001b[0m\u001b[46m   \u001b[0m\u001b[37m . \u001b[0m\u001b[46m   \u001b[0m\u001b[46m   \u001b[0m\u001b[37m . \u001b[0m\u001b[46m   \u001b[0m\u001b[37m . \u001b[0m\u001b[46m   \u001b[0m\u001b[37m . \u001b[0m\u001b[37m . \u001b[0m\u001b[46m   \u001b[0m\u001b[37m . \u001b[0m\u001b[37m . \u001b[0m\n",
      "\u001b[37m . \u001b[0m\u001b[37m . \u001b[0m\u001b[46m   \u001b[0m\u001b[37m . \u001b[0m\u001b[37m . \u001b[0m\u001b[46m   \u001b[0m\u001b[37m . \u001b[0m\u001b[37m . \u001b[0m\u001b[46m   \u001b[0m\u001b[37m . \u001b[0m\u001b[37m . \u001b[0m\u001b[37m . \u001b[0m\u001b[46m   \u001b[0m\u001b[37m . \u001b[0m\u001b[46m   \u001b[0m\u001b[46m   \u001b[0m\u001b[37m . \u001b[0m\u001b[46m   \u001b[0m\u001b[46m   \u001b[0m\u001b[37m . \u001b[0m\u001b[37m . \u001b[0m\n",
      "\u001b[37m . \u001b[0m\u001b[37m . \u001b[0m\u001b[46m   \u001b[0m\u001b[37m . \u001b[0m\u001b[46m   \u001b[0m\u001b[37m . \u001b[0m\u001b[46m   \u001b[0m\u001b[37m . \u001b[0m\u001b[37m . \u001b[0m\u001b[37m . \u001b[0m\u001b[46m   \u001b[0m\u001b[46m   \u001b[0m\u001b[37m . \u001b[0m\u001b[37m . \u001b[0m\u001b[37m . \u001b[0m\u001b[46m   \u001b[0m\u001b[37m . \u001b[0m\u001b[37m . \u001b[0m\u001b[46m   \u001b[0m\u001b[37m . \u001b[0m\u001b[37m . \u001b[0m\n",
      "\u001b[37m . \u001b[0m\u001b[37m . \u001b[0m\u001b[46m   \u001b[0m\u001b[46m   \u001b[0m\u001b[37m . \u001b[0m\u001b[37m|0|\u001b[0m\u001b[37m . \u001b[0m\u001b[37m . \u001b[0m\u001b[37m . \u001b[0m\u001b[37m . \u001b[0m\u001b[37m . \u001b[0m\u001b[37m . \u001b[0m\u001b[37m . \u001b[0m\u001b[37m . \u001b[0m\u001b[37m . \u001b[0m\u001b[46m   \u001b[0m\u001b[37m . \u001b[0m\u001b[46m   \u001b[0m\u001b[46m   \u001b[0m\u001b[37m . \u001b[0m\u001b[37m . \u001b[0m\n",
      "\u001b[37m . \u001b[0m\u001b[37m . \u001b[0m\u001b[46m   \u001b[0m\u001b[46m   \u001b[0m\u001b[37m . \u001b[0m\u001b[37m . \u001b[0m\u001b[37m . \u001b[0m\u001b[46m   \u001b[0m\u001b[37m . \u001b[0m\u001b[37m . \u001b[0m\u001b[37m . \u001b[0m\u001b[46m   \u001b[0m\u001b[46m   \u001b[0m\u001b[46m   \u001b[0m\u001b[46m   \u001b[0m\u001b[37m . \u001b[0m\u001b[46m   \u001b[0m\u001b[46m   \u001b[0m\u001b[46m   \u001b[0m\u001b[37m . \u001b[0m\u001b[37m . \u001b[0m\n",
      "\u001b[37m . \u001b[0m\u001b[37m . \u001b[0m\u001b[46m   \u001b[0m\u001b[37m . \u001b[0m\u001b[37m . \u001b[0m\u001b[46m   \u001b[0m\u001b[37m . \u001b[0m\u001b[37m . \u001b[0m\u001b[46m   \u001b[0m\u001b[46m   \u001b[0m\u001b[37m . \u001b[0m\u001b[46m   \u001b[0m\u001b[37m . \u001b[0m\u001b[46m   \u001b[0m\u001b[46m   \u001b[0m\u001b[46m   \u001b[0m\u001b[37m . \u001b[0m\u001b[46m   \u001b[0m\u001b[46m   \u001b[0m\u001b[37m . \u001b[0m\u001b[37m . \u001b[0m\n",
      "\u001b[37m . \u001b[0m\u001b[37m . \u001b[0m\u001b[46m   \u001b[0m\u001b[37m . \u001b[0m\u001b[46m   \u001b[0m\u001b[37m . \u001b[0m\u001b[37m . \u001b[0m\u001b[37m . \u001b[0m\u001b[37m . \u001b[0m\u001b[37m . \u001b[0m\u001b[46m   \u001b[0m\u001b[46m   \u001b[0m\u001b[37m . \u001b[0m\u001b[37m . \u001b[0m\u001b[37m . \u001b[0m\u001b[46m   \u001b[0m\u001b[37m . \u001b[0m\u001b[46m   \u001b[0m\u001b[46m   \u001b[0m\u001b[37m . \u001b[0m\u001b[37m . \u001b[0m\n",
      "\u001b[37m . \u001b[0m\u001b[37m . \u001b[0m\u001b[46m   \u001b[0m\u001b[46m   \u001b[0m\u001b[37m . \u001b[0m\u001b[46m   \u001b[0m\u001b[37m . \u001b[0m\u001b[46m   \u001b[0m\u001b[37m . \u001b[0m\u001b[37m . \u001b[0m\u001b[37m . \u001b[0m\u001b[46m   \u001b[0m\u001b[46m   \u001b[0m\u001b[46m   \u001b[0m\u001b[37m . \u001b[0m\u001b[37m . \u001b[0m\u001b[37m . \u001b[0m\u001b[37m . \u001b[0m\u001b[46m   \u001b[0m\u001b[37m . \u001b[0m\u001b[37m . \u001b[0m\n",
      "\u001b[37m . \u001b[0m\u001b[37m . \u001b[0m\u001b[46m   \u001b[0m\u001b[46m   \u001b[0m\u001b[46m   \u001b[0m\u001b[46m   \u001b[0m\u001b[46m   \u001b[0m\u001b[37m . \u001b[0m\u001b[37m . \u001b[0m\u001b[37m . \u001b[0m\u001b[37m . \u001b[0m\u001b[46m   \u001b[0m\u001b[46m   \u001b[0m\u001b[37m . \u001b[0m\u001b[37m . \u001b[0m\u001b[46m   \u001b[0m\u001b[37m . \u001b[0m\u001b[46m   \u001b[0m\u001b[46m   \u001b[0m\u001b[37m . \u001b[0m\u001b[37m . \u001b[0m\n",
      "\u001b[37m . \u001b[0m\u001b[37m . \u001b[0m\u001b[46m   \u001b[0m\u001b[46m   \u001b[0m\u001b[46m   \u001b[0m\u001b[37m . \u001b[0m\u001b[31;1m 0 \u001b[0m\u001b[37m . \u001b[0m\u001b[46m   \u001b[0m\u001b[46m   \u001b[0m\u001b[37m . \u001b[0m\u001b[46m   \u001b[0m\u001b[46m   \u001b[0m\u001b[46m   \u001b[0m\u001b[37m . \u001b[0m\u001b[46m   \u001b[0m\u001b[37m . \u001b[0m\u001b[37m . \u001b[0m\u001b[46m   \u001b[0m\u001b[37m . \u001b[0m\u001b[37m . \u001b[0m\n",
      "\u001b[37m . \u001b[0m\u001b[37m . \u001b[0m\u001b[46m   \u001b[0m\u001b[46m   \u001b[0m\u001b[37m . \u001b[0m\u001b[46m   \u001b[0m\u001b[37m . \u001b[0m\u001b[37m . \u001b[0m\u001b[46m   \u001b[0m\u001b[37m . \u001b[0m\u001b[37m . \u001b[0m\u001b[37m . \u001b[0m\u001b[37m . \u001b[0m\u001b[37m . \u001b[0m\u001b[37m . \u001b[0m\u001b[46m   \u001b[0m\u001b[46m   \u001b[0m\u001b[37m . \u001b[0m\u001b[46m   \u001b[0m\u001b[37m . \u001b[0m\u001b[37m . \u001b[0m\n",
      "\u001b[37m . \u001b[0m\u001b[37m . \u001b[0m\u001b[46m   \u001b[0m\u001b[46m   \u001b[0m\u001b[37m . \u001b[0m\u001b[46m   \u001b[0m\u001b[46m   \u001b[0m\u001b[37m . \u001b[0m\u001b[37m . \u001b[0m\u001b[46m   \u001b[0m\u001b[46m   \u001b[0m\u001b[37m . \u001b[0m\u001b[37m . \u001b[0m\u001b[37m . \u001b[0m\u001b[37m . \u001b[0m\u001b[46m   \u001b[0m\u001b[46m   \u001b[0m\u001b[46m   \u001b[0m\u001b[46m   \u001b[0m\u001b[37m . \u001b[0m\u001b[37m . \u001b[0m\n",
      "\u001b[37m . \u001b[0m\u001b[37m . \u001b[0m\u001b[46m   \u001b[0m\u001b[46m   \u001b[0m\u001b[46m   \u001b[0m\u001b[46m   \u001b[0m\u001b[46m   \u001b[0m\u001b[46m   \u001b[0m\u001b[46m   \u001b[0m\u001b[46m   \u001b[0m\u001b[46m   \u001b[0m\u001b[46m   \u001b[0m\u001b[46m   \u001b[0m\u001b[46m   \u001b[0m\u001b[46m   \u001b[0m\u001b[46m   \u001b[0m\u001b[46m   \u001b[0m\u001b[46m   \u001b[0m\u001b[46m   \u001b[0m\u001b[37m . \u001b[0m\u001b[37m . \u001b[0m\n",
      "\u001b[37m . \u001b[0m\u001b[37m . \u001b[0m\u001b[37m . \u001b[0m\u001b[37m . \u001b[0m\u001b[37m . \u001b[0m\u001b[37m . \u001b[0m\u001b[37m . \u001b[0m\u001b[37m . \u001b[0m\u001b[37m . \u001b[0m\u001b[37m . \u001b[0m\u001b[37m . \u001b[0m\u001b[37m . \u001b[0m\u001b[37m . \u001b[0m\u001b[37m . \u001b[0m\u001b[37m . \u001b[0m\u001b[37m . \u001b[0m\u001b[37m . \u001b[0m\u001b[37m . \u001b[0m\u001b[37m . \u001b[0m\u001b[37m . \u001b[0m\u001b[37m . \u001b[0m\n",
      "\u001b[37m . \u001b[0m\u001b[37m . \u001b[0m\u001b[37m . \u001b[0m\u001b[37m . \u001b[0m\u001b[37m . \u001b[0m\u001b[37m . \u001b[0m\u001b[37m . \u001b[0m\u001b[37m . \u001b[0m\u001b[37m . \u001b[0m\u001b[37m . \u001b[0m\u001b[37m . \u001b[0m\u001b[37m . \u001b[0m\u001b[37m . \u001b[0m\u001b[37m . \u001b[0m\u001b[37m . \u001b[0m\u001b[37m . \u001b[0m\u001b[37m . \u001b[0m\u001b[37m . \u001b[0m\u001b[37m . \u001b[0m\u001b[37m . \u001b[0m\u001b[37m . \u001b[0m\n",
      "\u001b[37m . \u001b[0m\u001b[37m . \u001b[0m\u001b[37m . \u001b[0m\u001b[37m . \u001b[0m\u001b[37m . \u001b[0m\u001b[37m . \u001b[0m\u001b[37m . \u001b[0m\u001b[37m . \u001b[0m\u001b[37m . \u001b[0m\u001b[37m . \u001b[0m\u001b[37m . \u001b[0m\u001b[37m . \u001b[0m\u001b[37m . \u001b[0m\u001b[37m . \u001b[0m\u001b[37m . \u001b[0m\u001b[37m . \u001b[0m\u001b[37m . \u001b[0m\u001b[37m . \u001b[0m\u001b[37m . \u001b[0m\u001b[37m . \u001b[0m\u001b[37m . \u001b[0m\n",
      "\u001b[37m . \u001b[0m\u001b[37m . \u001b[0m\u001b[37m . \u001b[0m\u001b[37m . \u001b[0m\u001b[37m . \u001b[0m\u001b[37m . \u001b[0m\u001b[37m . \u001b[0m\u001b[37m . \u001b[0m\u001b[37m . \u001b[0m\u001b[37m . \u001b[0m\u001b[37m . \u001b[0m\u001b[37m . \u001b[0m\u001b[37m . \u001b[0m\u001b[37m . \u001b[0m\u001b[37m . \u001b[0m\u001b[37m . \u001b[0m\u001b[37m . \u001b[0m\u001b[37m . \u001b[0m\u001b[37m . \u001b[0m\u001b[37m . \u001b[0m\u001b[37m . \u001b[0m\n",
      "\u001b[37m . \u001b[0m\u001b[37m . \u001b[0m\u001b[46m   \u001b[0m\u001b[46m   \u001b[0m\u001b[46m   \u001b[0m\u001b[46m   \u001b[0m\u001b[46m   \u001b[0m\u001b[46m   \u001b[0m\u001b[46m   \u001b[0m\u001b[46m   \u001b[0m\u001b[46m   \u001b[0m\u001b[46m   \u001b[0m\u001b[46m   \u001b[0m\u001b[46m   \u001b[0m\u001b[46m   \u001b[0m\u001b[46m   \u001b[0m\u001b[46m   \u001b[0m\u001b[46m   \u001b[0m\u001b[46m   \u001b[0m\u001b[37m . \u001b[0m\u001b[37m . \u001b[0m\n",
      "\u001b[37m . \u001b[0m\u001b[37m . \u001b[0m\u001b[46m   \u001b[0m\u001b[37m . \u001b[0m\u001b[37m . \u001b[0m\u001b[46m   \u001b[0m\u001b[37m . \u001b[0m\u001b[46m   \u001b[0m\u001b[46m   \u001b[0m\u001b[37m . \u001b[0m\u001b[37m . \u001b[0m\u001b[37m . \u001b[0m\u001b[46m   \u001b[0m\u001b[37m . \u001b[0m\u001b[37m . \u001b[0m\u001b[37m . \u001b[0m\u001b[46m   \u001b[0m\u001b[37m . \u001b[0m\u001b[46m   \u001b[0m\u001b[37m . \u001b[0m\u001b[37m . \u001b[0m\n",
      "\u001b[37m . \u001b[0m\u001b[37m . \u001b[0m\u001b[46m   \u001b[0m\u001b[46m   \u001b[0m\u001b[46m   \u001b[0m\u001b[46m   \u001b[0m\u001b[37m . \u001b[0m\u001b[37m . \u001b[0m\u001b[37m . \u001b[0m\u001b[37m . \u001b[0m\u001b[46m   \u001b[0m\u001b[46m   \u001b[0m\u001b[37m . \u001b[0m\u001b[46m   \u001b[0m\u001b[37m . \u001b[0m\u001b[46m   \u001b[0m\u001b[37m . \u001b[0m\u001b[37m . \u001b[0m\u001b[46m   \u001b[0m\u001b[37m . \u001b[0m\u001b[37m . \u001b[0m\n",
      "\u001b[37m . \u001b[0m\u001b[37m . \u001b[0m\u001b[46m   \u001b[0m\u001b[37m . \u001b[0m\u001b[46m   \u001b[0m\u001b[46m   \u001b[0m\u001b[46m   \u001b[0m\u001b[46m   \u001b[0m\u001b[37m . \u001b[0m\u001b[37m . \u001b[0m\u001b[37m . \u001b[0m\u001b[46m   \u001b[0m\u001b[37m . \u001b[0m\u001b[46m   \u001b[0m\u001b[46m   \u001b[0m\u001b[46m   \u001b[0m\u001b[37m . \u001b[0m\u001b[46m   \u001b[0m\u001b[46m   \u001b[0m\u001b[37m . \u001b[0m\u001b[37m . \u001b[0m\n",
      "\u001b[37m . \u001b[0m\u001b[37m . \u001b[0m\u001b[46m   \u001b[0m\u001b[37m . \u001b[0m\u001b[37m . \u001b[0m\u001b[37m . \u001b[0m\u001b[37m . \u001b[0m\u001b[37m . \u001b[0m\u001b[46m   \u001b[0m\u001b[37m . \u001b[0m\u001b[46m   \u001b[0m\u001b[46m   \u001b[0m\u001b[37m . \u001b[0m\u001b[46m   \u001b[0m\u001b[37m . \u001b[0m\u001b[46m   \u001b[0m\u001b[37m . \u001b[0m\u001b[37m . \u001b[0m\u001b[46m   \u001b[0m\u001b[37m . \u001b[0m\u001b[37m . \u001b[0m\n",
      "\u001b[37m . \u001b[0m\u001b[37m . \u001b[0m\u001b[46m   \u001b[0m\u001b[37m . \u001b[0m\u001b[37m . \u001b[0m\u001b[46m   \u001b[0m\u001b[37m . \u001b[0m\u001b[37m . \u001b[0m\u001b[46m   \u001b[0m\u001b[37m . \u001b[0m\u001b[37m . \u001b[0m\u001b[37m . \u001b[0m\u001b[46m   \u001b[0m\u001b[37m . \u001b[0m\u001b[46m   \u001b[0m\u001b[46m   \u001b[0m\u001b[37m . \u001b[0m\u001b[46m   \u001b[0m\u001b[46m   \u001b[0m\u001b[37m . \u001b[0m\u001b[37m . \u001b[0m\n",
      "\u001b[37m . \u001b[0m\u001b[37m . \u001b[0m\u001b[46m   \u001b[0m\u001b[37m . \u001b[0m\u001b[46m   \u001b[0m\u001b[37m . \u001b[0m\u001b[46m   \u001b[0m\u001b[37m . \u001b[0m\u001b[37m . \u001b[0m\u001b[37m . \u001b[0m\u001b[46m   \u001b[0m\u001b[46m   \u001b[0m\u001b[37m . \u001b[0m\u001b[37m . \u001b[0m\u001b[37m . \u001b[0m\u001b[46m   \u001b[0m\u001b[37m . \u001b[0m\u001b[37m . \u001b[0m\u001b[46m   \u001b[0m\u001b[37m . \u001b[0m\u001b[37m . \u001b[0m\n",
      "\u001b[37m . \u001b[0m\u001b[37m . \u001b[0m\u001b[46m   \u001b[0m\u001b[46m   \u001b[0m\u001b[37m . \u001b[0m\u001b[37m|0|\u001b[0m\u001b[37m . \u001b[0m\u001b[37m . \u001b[0m\u001b[37m . \u001b[0m\u001b[37m . \u001b[0m\u001b[37m . \u001b[0m\u001b[37m . \u001b[0m\u001b[37m . \u001b[0m\u001b[37m . \u001b[0m\u001b[37m . \u001b[0m\u001b[46m   \u001b[0m\u001b[37m . \u001b[0m\u001b[46m   \u001b[0m\u001b[46m   \u001b[0m\u001b[37m . \u001b[0m\u001b[37m . \u001b[0m\n",
      "\u001b[37m . \u001b[0m\u001b[37m . \u001b[0m\u001b[46m   \u001b[0m\u001b[46m   \u001b[0m\u001b[37m . \u001b[0m\u001b[37m . \u001b[0m\u001b[37m . \u001b[0m\u001b[46m   \u001b[0m\u001b[37m . \u001b[0m\u001b[37m . \u001b[0m\u001b[37m . \u001b[0m\u001b[46m   \u001b[0m\u001b[46m   \u001b[0m\u001b[46m   \u001b[0m\u001b[46m   \u001b[0m\u001b[37m . \u001b[0m\u001b[46m   \u001b[0m\u001b[46m   \u001b[0m\u001b[46m   \u001b[0m\u001b[37m . \u001b[0m\u001b[37m . \u001b[0m\n",
      "\u001b[37m . \u001b[0m\u001b[37m . \u001b[0m\u001b[46m   \u001b[0m\u001b[37m . \u001b[0m\u001b[37m . \u001b[0m\u001b[46m   \u001b[0m\u001b[37m . \u001b[0m\u001b[37m . \u001b[0m\u001b[46m   \u001b[0m\u001b[46m   \u001b[0m\u001b[37m . \u001b[0m\u001b[46m   \u001b[0m\u001b[37m . \u001b[0m\u001b[46m   \u001b[0m\u001b[46m   \u001b[0m\u001b[46m   \u001b[0m\u001b[37m . \u001b[0m\u001b[46m   \u001b[0m\u001b[46m   \u001b[0m\u001b[37m . \u001b[0m\u001b[37m . \u001b[0m\n",
      "\u001b[37m . \u001b[0m\u001b[37m . \u001b[0m\u001b[46m   \u001b[0m\u001b[37m . \u001b[0m\u001b[46m   \u001b[0m\u001b[37m . \u001b[0m\u001b[37m . \u001b[0m\u001b[37m . \u001b[0m\u001b[37m . \u001b[0m\u001b[37m . \u001b[0m\u001b[46m   \u001b[0m\u001b[46m   \u001b[0m\u001b[37m . \u001b[0m\u001b[37m . \u001b[0m\u001b[37m . \u001b[0m\u001b[46m   \u001b[0m\u001b[37m . \u001b[0m\u001b[46m   \u001b[0m\u001b[46m   \u001b[0m\u001b[37m . \u001b[0m\u001b[37m . \u001b[0m\n",
      "\u001b[37m . \u001b[0m\u001b[37m . \u001b[0m\u001b[46m   \u001b[0m\u001b[46m   \u001b[0m\u001b[37m . \u001b[0m\u001b[46m   \u001b[0m\u001b[37m . \u001b[0m\u001b[46m   \u001b[0m\u001b[37m . \u001b[0m\u001b[37m . \u001b[0m\u001b[37m . \u001b[0m\u001b[46m   \u001b[0m\u001b[46m   \u001b[0m\u001b[46m   \u001b[0m\u001b[37m . \u001b[0m\u001b[37m . \u001b[0m\u001b[37m . \u001b[0m\u001b[37m . \u001b[0m\u001b[46m   \u001b[0m\u001b[37m . \u001b[0m\u001b[37m . \u001b[0m\n",
      "\u001b[37m . \u001b[0m\u001b[37m . \u001b[0m\u001b[46m   \u001b[0m\u001b[46m   \u001b[0m\u001b[46m   \u001b[0m\u001b[46m   \u001b[0m\u001b[46m   \u001b[0m\u001b[37m . \u001b[0m\u001b[37m . \u001b[0m\u001b[37m . \u001b[0m\u001b[37m . \u001b[0m\u001b[46m   \u001b[0m\u001b[46m   \u001b[0m\u001b[37m . \u001b[0m\u001b[37m . \u001b[0m\u001b[46m   \u001b[0m\u001b[37m . \u001b[0m\u001b[46m   \u001b[0m\u001b[46m   \u001b[0m\u001b[37m . \u001b[0m\u001b[37m . \u001b[0m\n",
      "\u001b[37m . \u001b[0m\u001b[37m . \u001b[0m\u001b[46m   \u001b[0m\u001b[46m   \u001b[0m\u001b[46m   \u001b[0m\u001b[37m . \u001b[0m\u001b[37m . \u001b[0m\u001b[31;1m 0 \u001b[0m\u001b[46m   \u001b[0m\u001b[46m   \u001b[0m\u001b[37m . \u001b[0m\u001b[46m   \u001b[0m\u001b[46m   \u001b[0m\u001b[46m   \u001b[0m\u001b[37m . \u001b[0m\u001b[46m   \u001b[0m\u001b[37m . \u001b[0m\u001b[37m . \u001b[0m\u001b[46m   \u001b[0m\u001b[37m . \u001b[0m\u001b[37m . \u001b[0m\n",
      "\u001b[37m . \u001b[0m\u001b[37m . \u001b[0m\u001b[46m   \u001b[0m\u001b[46m   \u001b[0m\u001b[37m . \u001b[0m\u001b[46m   \u001b[0m\u001b[37m . \u001b[0m\u001b[37m . \u001b[0m\u001b[46m   \u001b[0m\u001b[37m . \u001b[0m\u001b[37m . \u001b[0m\u001b[37m . \u001b[0m\u001b[37m . \u001b[0m\u001b[37m . \u001b[0m\u001b[37m . \u001b[0m\u001b[46m   \u001b[0m\u001b[46m   \u001b[0m\u001b[37m . \u001b[0m\u001b[46m   \u001b[0m\u001b[37m . \u001b[0m\u001b[37m . \u001b[0m\n",
      "\u001b[37m . \u001b[0m\u001b[37m . \u001b[0m\u001b[46m   \u001b[0m\u001b[46m   \u001b[0m\u001b[37m . \u001b[0m\u001b[46m   \u001b[0m\u001b[46m   \u001b[0m\u001b[37m . \u001b[0m\u001b[37m . \u001b[0m\u001b[46m   \u001b[0m\u001b[46m   \u001b[0m\u001b[37m . \u001b[0m\u001b[37m . \u001b[0m\u001b[37m . \u001b[0m\u001b[37m . \u001b[0m\u001b[46m   \u001b[0m\u001b[46m   \u001b[0m\u001b[46m   \u001b[0m\u001b[46m   \u001b[0m\u001b[37m . \u001b[0m\u001b[37m . \u001b[0m\n",
      "\u001b[37m . \u001b[0m\u001b[37m . \u001b[0m\u001b[46m   \u001b[0m\u001b[46m   \u001b[0m\u001b[46m   \u001b[0m\u001b[46m   \u001b[0m\u001b[46m   \u001b[0m\u001b[46m   \u001b[0m\u001b[46m   \u001b[0m\u001b[46m   \u001b[0m\u001b[46m   \u001b[0m\u001b[46m   \u001b[0m\u001b[46m   \u001b[0m\u001b[46m   \u001b[0m\u001b[46m   \u001b[0m\u001b[46m   \u001b[0m\u001b[46m   \u001b[0m\u001b[46m   \u001b[0m\u001b[46m   \u001b[0m\u001b[37m . \u001b[0m\u001b[37m . \u001b[0m\n",
      "\u001b[37m . \u001b[0m\u001b[37m . \u001b[0m\u001b[37m . \u001b[0m\u001b[37m . \u001b[0m\u001b[37m . \u001b[0m\u001b[37m . \u001b[0m\u001b[37m . \u001b[0m\u001b[37m . \u001b[0m\u001b[37m . \u001b[0m\u001b[37m . \u001b[0m\u001b[37m . \u001b[0m\u001b[37m . \u001b[0m\u001b[37m . \u001b[0m\u001b[37m . \u001b[0m\u001b[37m . \u001b[0m\u001b[37m . \u001b[0m\u001b[37m . \u001b[0m\u001b[37m . \u001b[0m\u001b[37m . \u001b[0m\u001b[37m . \u001b[0m\u001b[37m . \u001b[0m\n",
      "\u001b[37m . \u001b[0m\u001b[37m . \u001b[0m\u001b[37m . \u001b[0m\u001b[37m . \u001b[0m\u001b[37m . \u001b[0m\u001b[37m . \u001b[0m\u001b[37m . \u001b[0m\u001b[37m . \u001b[0m\u001b[37m . \u001b[0m\u001b[37m . \u001b[0m\u001b[37m . \u001b[0m\u001b[37m . \u001b[0m\u001b[37m . \u001b[0m\u001b[37m . \u001b[0m\u001b[37m . \u001b[0m\u001b[37m . \u001b[0m\u001b[37m . \u001b[0m\u001b[37m . \u001b[0m\u001b[37m . \u001b[0m\u001b[37m . \u001b[0m\u001b[37m . \u001b[0m\n",
      "\u001b[37m . \u001b[0m\u001b[37m . \u001b[0m\u001b[37m . \u001b[0m\u001b[37m . \u001b[0m\u001b[37m . \u001b[0m\u001b[37m . \u001b[0m\u001b[37m . \u001b[0m\u001b[37m . \u001b[0m\u001b[37m . \u001b[0m\u001b[37m . \u001b[0m\u001b[37m . \u001b[0m\u001b[37m . \u001b[0m\u001b[37m . \u001b[0m\u001b[37m . \u001b[0m\u001b[37m . \u001b[0m\u001b[37m . \u001b[0m\u001b[37m . \u001b[0m\u001b[37m . \u001b[0m\u001b[37m . \u001b[0m\u001b[37m . \u001b[0m\u001b[37m . \u001b[0m\n",
      "\u001b[37m . \u001b[0m\u001b[37m . \u001b[0m\u001b[37m . \u001b[0m\u001b[37m . \u001b[0m\u001b[37m . \u001b[0m\u001b[37m . \u001b[0m\u001b[37m . \u001b[0m\u001b[37m . \u001b[0m\u001b[37m . \u001b[0m\u001b[37m . \u001b[0m\u001b[37m . \u001b[0m\u001b[37m . \u001b[0m\u001b[37m . \u001b[0m\u001b[37m . \u001b[0m\u001b[37m . \u001b[0m\u001b[37m . \u001b[0m\u001b[37m . \u001b[0m\u001b[37m . \u001b[0m\u001b[37m . \u001b[0m\u001b[37m . \u001b[0m\u001b[37m . \u001b[0m\n",
      "\u001b[37m . \u001b[0m\u001b[37m . \u001b[0m\u001b[46m   \u001b[0m\u001b[46m   \u001b[0m\u001b[46m   \u001b[0m\u001b[46m   \u001b[0m\u001b[46m   \u001b[0m\u001b[46m   \u001b[0m\u001b[46m   \u001b[0m\u001b[46m   \u001b[0m\u001b[46m   \u001b[0m\u001b[46m   \u001b[0m\u001b[46m   \u001b[0m\u001b[46m   \u001b[0m\u001b[46m   \u001b[0m\u001b[46m   \u001b[0m\u001b[46m   \u001b[0m\u001b[46m   \u001b[0m\u001b[46m   \u001b[0m\u001b[37m . \u001b[0m\u001b[37m . \u001b[0m\n",
      "\u001b[37m . \u001b[0m\u001b[37m . \u001b[0m\u001b[46m   \u001b[0m\u001b[37m . \u001b[0m\u001b[37m . \u001b[0m\u001b[46m   \u001b[0m\u001b[37m . \u001b[0m\u001b[46m   \u001b[0m\u001b[46m   \u001b[0m\u001b[37m . \u001b[0m\u001b[37m . \u001b[0m\u001b[37m . \u001b[0m\u001b[46m   \u001b[0m\u001b[37m . \u001b[0m\u001b[37m . \u001b[0m\u001b[37m . \u001b[0m\u001b[46m   \u001b[0m\u001b[37m . \u001b[0m\u001b[46m   \u001b[0m\u001b[37m . \u001b[0m\u001b[37m . \u001b[0m\n",
      "\u001b[37m . \u001b[0m\u001b[37m . \u001b[0m\u001b[46m   \u001b[0m\u001b[46m   \u001b[0m\u001b[46m   \u001b[0m\u001b[46m   \u001b[0m\u001b[37m . \u001b[0m\u001b[37m . \u001b[0m\u001b[37m . \u001b[0m\u001b[37m . \u001b[0m\u001b[46m   \u001b[0m\u001b[46m   \u001b[0m\u001b[37m . \u001b[0m\u001b[46m   \u001b[0m\u001b[37m . \u001b[0m\u001b[46m   \u001b[0m\u001b[37m . \u001b[0m\u001b[37m . \u001b[0m\u001b[46m   \u001b[0m\u001b[37m . \u001b[0m\u001b[37m . \u001b[0m\n",
      "\u001b[37m . \u001b[0m\u001b[37m . \u001b[0m\u001b[46m   \u001b[0m\u001b[37m . \u001b[0m\u001b[46m   \u001b[0m\u001b[46m   \u001b[0m\u001b[46m   \u001b[0m\u001b[46m   \u001b[0m\u001b[37m . \u001b[0m\u001b[37m . \u001b[0m\u001b[37m . \u001b[0m\u001b[46m   \u001b[0m\u001b[37m . \u001b[0m\u001b[46m   \u001b[0m\u001b[46m   \u001b[0m\u001b[46m   \u001b[0m\u001b[37m . \u001b[0m\u001b[46m   \u001b[0m\u001b[46m   \u001b[0m\u001b[37m . \u001b[0m\u001b[37m . \u001b[0m\n",
      "\u001b[37m . \u001b[0m\u001b[37m . \u001b[0m\u001b[46m   \u001b[0m\u001b[37m . \u001b[0m\u001b[37m . \u001b[0m\u001b[37m . \u001b[0m\u001b[37m . \u001b[0m\u001b[37m . \u001b[0m\u001b[46m   \u001b[0m\u001b[37m . \u001b[0m\u001b[46m   \u001b[0m\u001b[46m   \u001b[0m\u001b[37m . \u001b[0m\u001b[46m   \u001b[0m\u001b[37m . \u001b[0m\u001b[46m   \u001b[0m\u001b[37m . \u001b[0m\u001b[37m . \u001b[0m\u001b[46m   \u001b[0m\u001b[37m . \u001b[0m\u001b[37m . \u001b[0m\n",
      "\u001b[37m . \u001b[0m\u001b[37m . \u001b[0m\u001b[46m   \u001b[0m\u001b[37m . \u001b[0m\u001b[37m . \u001b[0m\u001b[46m   \u001b[0m\u001b[37m . \u001b[0m\u001b[37m . \u001b[0m\u001b[46m   \u001b[0m\u001b[37m . \u001b[0m\u001b[37m . \u001b[0m\u001b[37m . \u001b[0m\u001b[46m   \u001b[0m\u001b[37m . \u001b[0m\u001b[46m   \u001b[0m\u001b[46m   \u001b[0m\u001b[37m . \u001b[0m\u001b[46m   \u001b[0m\u001b[46m   \u001b[0m\u001b[37m . \u001b[0m\u001b[37m . \u001b[0m\n",
      "\u001b[37m . \u001b[0m\u001b[37m . \u001b[0m\u001b[46m   \u001b[0m\u001b[37m . \u001b[0m\u001b[46m   \u001b[0m\u001b[37m . \u001b[0m\u001b[46m   \u001b[0m\u001b[37m . \u001b[0m\u001b[37m . \u001b[0m\u001b[37m . \u001b[0m\u001b[46m   \u001b[0m\u001b[46m   \u001b[0m\u001b[37m . \u001b[0m\u001b[37m . \u001b[0m\u001b[37m . \u001b[0m\u001b[46m   \u001b[0m\u001b[37m . \u001b[0m\u001b[37m . \u001b[0m\u001b[46m   \u001b[0m\u001b[37m . \u001b[0m\u001b[37m . \u001b[0m\n",
      "\u001b[37m . \u001b[0m\u001b[37m . \u001b[0m\u001b[46m   \u001b[0m\u001b[46m   \u001b[0m\u001b[37m . \u001b[0m\u001b[37m|0|\u001b[0m\u001b[37m . \u001b[0m\u001b[37m . \u001b[0m\u001b[37m . \u001b[0m\u001b[37m . \u001b[0m\u001b[37m . \u001b[0m\u001b[37m . \u001b[0m\u001b[37m . \u001b[0m\u001b[37m . \u001b[0m\u001b[37m . \u001b[0m\u001b[46m   \u001b[0m\u001b[37m . \u001b[0m\u001b[46m   \u001b[0m\u001b[46m   \u001b[0m\u001b[37m . \u001b[0m\u001b[37m . \u001b[0m\n",
      "\u001b[37m . \u001b[0m\u001b[37m . \u001b[0m\u001b[46m   \u001b[0m\u001b[46m   \u001b[0m\u001b[37m . \u001b[0m\u001b[37m . \u001b[0m\u001b[37m . \u001b[0m\u001b[46m   \u001b[0m\u001b[37m . \u001b[0m\u001b[37m . \u001b[0m\u001b[37m . \u001b[0m\u001b[46m   \u001b[0m\u001b[46m   \u001b[0m\u001b[46m   \u001b[0m\u001b[46m   \u001b[0m\u001b[37m . \u001b[0m\u001b[46m   \u001b[0m\u001b[46m   \u001b[0m\u001b[46m   \u001b[0m\u001b[37m . \u001b[0m\u001b[37m . \u001b[0m\n",
      "\u001b[37m . \u001b[0m\u001b[37m . \u001b[0m\u001b[46m   \u001b[0m\u001b[37m . \u001b[0m\u001b[37m . \u001b[0m\u001b[46m   \u001b[0m\u001b[37m . \u001b[0m\u001b[37m . \u001b[0m\u001b[46m   \u001b[0m\u001b[46m   \u001b[0m\u001b[37m . \u001b[0m\u001b[46m   \u001b[0m\u001b[37m . \u001b[0m\u001b[46m   \u001b[0m\u001b[46m   \u001b[0m\u001b[46m   \u001b[0m\u001b[37m . \u001b[0m\u001b[46m   \u001b[0m\u001b[46m   \u001b[0m\u001b[37m . \u001b[0m\u001b[37m . \u001b[0m\n",
      "\u001b[37m . \u001b[0m\u001b[37m . \u001b[0m\u001b[46m   \u001b[0m\u001b[37m . \u001b[0m\u001b[46m   \u001b[0m\u001b[37m . \u001b[0m\u001b[37m . \u001b[0m\u001b[37m . \u001b[0m\u001b[37m . \u001b[0m\u001b[37m . \u001b[0m\u001b[46m   \u001b[0m\u001b[46m   \u001b[0m\u001b[37m . \u001b[0m\u001b[37m . \u001b[0m\u001b[37m . \u001b[0m\u001b[46m   \u001b[0m\u001b[37m . \u001b[0m\u001b[46m   \u001b[0m\u001b[46m   \u001b[0m\u001b[37m . \u001b[0m\u001b[37m . \u001b[0m\n",
      "\u001b[37m . \u001b[0m\u001b[37m . \u001b[0m\u001b[46m   \u001b[0m\u001b[46m   \u001b[0m\u001b[37m . \u001b[0m\u001b[46m   \u001b[0m\u001b[37m . \u001b[0m\u001b[46m   \u001b[0m\u001b[37m . \u001b[0m\u001b[37m . \u001b[0m\u001b[37m . \u001b[0m\u001b[46m   \u001b[0m\u001b[46m   \u001b[0m\u001b[46m   \u001b[0m\u001b[37m . \u001b[0m\u001b[37m . \u001b[0m\u001b[37m . \u001b[0m\u001b[37m . \u001b[0m\u001b[46m   \u001b[0m\u001b[37m . \u001b[0m\u001b[37m . \u001b[0m\n",
      "\u001b[37m . \u001b[0m\u001b[37m . \u001b[0m\u001b[46m   \u001b[0m\u001b[46m   \u001b[0m\u001b[46m   \u001b[0m\u001b[46m   \u001b[0m\u001b[46m   \u001b[0m\u001b[31;1m 0 \u001b[0m\u001b[37m . \u001b[0m\u001b[37m . \u001b[0m\u001b[37m . \u001b[0m\u001b[46m   \u001b[0m\u001b[46m   \u001b[0m\u001b[37m . \u001b[0m\u001b[37m . \u001b[0m\u001b[46m   \u001b[0m\u001b[37m . \u001b[0m\u001b[46m   \u001b[0m\u001b[46m   \u001b[0m\u001b[37m . \u001b[0m\u001b[37m . \u001b[0m\n",
      "\u001b[37m . \u001b[0m\u001b[37m . \u001b[0m\u001b[46m   \u001b[0m\u001b[46m   \u001b[0m\u001b[46m   \u001b[0m\u001b[37m . \u001b[0m\u001b[37m . \u001b[0m\u001b[37m . \u001b[0m\u001b[46m   \u001b[0m\u001b[46m   \u001b[0m\u001b[37m . \u001b[0m\u001b[46m   \u001b[0m\u001b[46m   \u001b[0m\u001b[46m   \u001b[0m\u001b[37m . \u001b[0m\u001b[46m   \u001b[0m\u001b[37m . \u001b[0m\u001b[37m . \u001b[0m\u001b[46m   \u001b[0m\u001b[37m . \u001b[0m\u001b[37m . \u001b[0m\n",
      "\u001b[37m . \u001b[0m\u001b[37m . \u001b[0m\u001b[46m   \u001b[0m\u001b[46m   \u001b[0m\u001b[37m . \u001b[0m\u001b[46m   \u001b[0m\u001b[37m . \u001b[0m\u001b[37m . \u001b[0m\u001b[46m   \u001b[0m\u001b[37m . \u001b[0m\u001b[37m . \u001b[0m\u001b[37m . \u001b[0m\u001b[37m . \u001b[0m\u001b[37m . \u001b[0m\u001b[37m . \u001b[0m\u001b[46m   \u001b[0m\u001b[46m   \u001b[0m\u001b[37m . \u001b[0m\u001b[46m   \u001b[0m\u001b[37m . \u001b[0m\u001b[37m . \u001b[0m\n",
      "\u001b[37m . \u001b[0m\u001b[37m . \u001b[0m\u001b[46m   \u001b[0m\u001b[46m   \u001b[0m\u001b[37m . \u001b[0m\u001b[46m   \u001b[0m\u001b[46m   \u001b[0m\u001b[37m . \u001b[0m\u001b[37m . \u001b[0m\u001b[46m   \u001b[0m\u001b[46m   \u001b[0m\u001b[37m . \u001b[0m\u001b[37m . \u001b[0m\u001b[37m . \u001b[0m\u001b[37m . \u001b[0m\u001b[46m   \u001b[0m\u001b[46m   \u001b[0m\u001b[46m   \u001b[0m\u001b[46m   \u001b[0m\u001b[37m . \u001b[0m\u001b[37m . \u001b[0m\n",
      "\u001b[37m . \u001b[0m\u001b[37m . \u001b[0m\u001b[46m   \u001b[0m\u001b[46m   \u001b[0m\u001b[46m   \u001b[0m\u001b[46m   \u001b[0m\u001b[46m   \u001b[0m\u001b[46m   \u001b[0m\u001b[46m   \u001b[0m\u001b[46m   \u001b[0m\u001b[46m   \u001b[0m\u001b[46m   \u001b[0m\u001b[46m   \u001b[0m\u001b[46m   \u001b[0m\u001b[46m   \u001b[0m\u001b[46m   \u001b[0m\u001b[46m   \u001b[0m\u001b[46m   \u001b[0m\u001b[46m   \u001b[0m\u001b[37m . \u001b[0m\u001b[37m . \u001b[0m\n",
      "\u001b[37m . \u001b[0m\u001b[37m . \u001b[0m\u001b[37m . \u001b[0m\u001b[37m . \u001b[0m\u001b[37m . \u001b[0m\u001b[37m . \u001b[0m\u001b[37m . \u001b[0m\u001b[37m . \u001b[0m\u001b[37m . \u001b[0m\u001b[37m . \u001b[0m\u001b[37m . \u001b[0m\u001b[37m . \u001b[0m\u001b[37m . \u001b[0m\u001b[37m . \u001b[0m\u001b[37m . \u001b[0m\u001b[37m . \u001b[0m\u001b[37m . \u001b[0m\u001b[37m . \u001b[0m\u001b[37m . \u001b[0m\u001b[37m . \u001b[0m\u001b[37m . \u001b[0m\n",
      "\u001b[37m . \u001b[0m\u001b[37m . \u001b[0m\u001b[37m . \u001b[0m\u001b[37m . \u001b[0m\u001b[37m . \u001b[0m\u001b[37m . \u001b[0m\u001b[37m . \u001b[0m\u001b[37m . \u001b[0m\u001b[37m . \u001b[0m\u001b[37m . \u001b[0m\u001b[37m . \u001b[0m\u001b[37m . \u001b[0m\u001b[37m . \u001b[0m\u001b[37m . \u001b[0m\u001b[37m . \u001b[0m\u001b[37m . \u001b[0m\u001b[37m . \u001b[0m\u001b[37m . \u001b[0m\u001b[37m . \u001b[0m\u001b[37m . \u001b[0m\u001b[37m . \u001b[0m\n",
      "\u001b[37m . \u001b[0m\u001b[37m . \u001b[0m\u001b[37m . \u001b[0m\u001b[37m . \u001b[0m\u001b[37m . \u001b[0m\u001b[37m . \u001b[0m\u001b[37m . \u001b[0m\u001b[37m . \u001b[0m\u001b[37m . \u001b[0m\u001b[37m . \u001b[0m\u001b[37m . \u001b[0m\u001b[37m . \u001b[0m\u001b[37m . \u001b[0m\u001b[37m . \u001b[0m\u001b[37m . \u001b[0m\u001b[37m . \u001b[0m\u001b[37m . \u001b[0m\u001b[37m . \u001b[0m\u001b[37m . \u001b[0m\u001b[37m . \u001b[0m\u001b[37m . \u001b[0m\n",
      "\u001b[37m . \u001b[0m\u001b[37m . \u001b[0m\u001b[37m . \u001b[0m\u001b[37m . \u001b[0m\u001b[37m . \u001b[0m\u001b[37m . \u001b[0m\u001b[37m . \u001b[0m\u001b[37m . \u001b[0m\u001b[37m . \u001b[0m\u001b[37m . \u001b[0m\u001b[37m . \u001b[0m\u001b[37m . \u001b[0m\u001b[37m . \u001b[0m\u001b[37m . \u001b[0m\u001b[37m . \u001b[0m\u001b[37m . \u001b[0m\u001b[37m . \u001b[0m\u001b[37m . \u001b[0m\u001b[37m . \u001b[0m\u001b[37m . \u001b[0m\u001b[37m . \u001b[0m\n",
      "\u001b[37m . \u001b[0m\u001b[37m . \u001b[0m\u001b[46m   \u001b[0m\u001b[46m   \u001b[0m\u001b[46m   \u001b[0m\u001b[46m   \u001b[0m\u001b[46m   \u001b[0m\u001b[46m   \u001b[0m\u001b[46m   \u001b[0m\u001b[46m   \u001b[0m\u001b[46m   \u001b[0m\u001b[46m   \u001b[0m\u001b[46m   \u001b[0m\u001b[46m   \u001b[0m\u001b[46m   \u001b[0m\u001b[46m   \u001b[0m\u001b[46m   \u001b[0m\u001b[46m   \u001b[0m\u001b[46m   \u001b[0m\u001b[37m . \u001b[0m\u001b[37m . \u001b[0m\n",
      "\u001b[37m . \u001b[0m\u001b[37m . \u001b[0m\u001b[46m   \u001b[0m\u001b[37m . \u001b[0m\u001b[37m . \u001b[0m\u001b[46m   \u001b[0m\u001b[37m . \u001b[0m\u001b[46m   \u001b[0m\u001b[46m   \u001b[0m\u001b[37m . \u001b[0m\u001b[37m . \u001b[0m\u001b[37m . \u001b[0m\u001b[46m   \u001b[0m\u001b[37m . \u001b[0m\u001b[37m . \u001b[0m\u001b[37m . \u001b[0m\u001b[46m   \u001b[0m\u001b[37m . \u001b[0m\u001b[46m   \u001b[0m\u001b[37m . \u001b[0m\u001b[37m . \u001b[0m\n",
      "\u001b[37m . \u001b[0m\u001b[37m . \u001b[0m\u001b[46m   \u001b[0m\u001b[46m   \u001b[0m\u001b[46m   \u001b[0m\u001b[46m   \u001b[0m\u001b[37m . \u001b[0m\u001b[37m . \u001b[0m\u001b[37m . \u001b[0m\u001b[37m . \u001b[0m\u001b[46m   \u001b[0m\u001b[46m   \u001b[0m\u001b[37m . \u001b[0m\u001b[46m   \u001b[0m\u001b[37m . \u001b[0m\u001b[46m   \u001b[0m\u001b[37m . \u001b[0m\u001b[37m . \u001b[0m\u001b[46m   \u001b[0m\u001b[37m . \u001b[0m\u001b[37m . \u001b[0m\n",
      "\u001b[37m . \u001b[0m\u001b[37m . \u001b[0m\u001b[46m   \u001b[0m\u001b[37m . \u001b[0m\u001b[46m   \u001b[0m\u001b[46m   \u001b[0m\u001b[46m   \u001b[0m\u001b[46m   \u001b[0m\u001b[37m . \u001b[0m\u001b[37m . \u001b[0m\u001b[37m . \u001b[0m\u001b[46m   \u001b[0m\u001b[37m . \u001b[0m\u001b[46m   \u001b[0m\u001b[46m   \u001b[0m\u001b[46m   \u001b[0m\u001b[37m . \u001b[0m\u001b[46m   \u001b[0m\u001b[46m   \u001b[0m\u001b[37m . \u001b[0m\u001b[37m . \u001b[0m\n",
      "\u001b[37m . \u001b[0m\u001b[37m . \u001b[0m\u001b[46m   \u001b[0m\u001b[37m . \u001b[0m\u001b[37m . \u001b[0m\u001b[37m . \u001b[0m\u001b[37m . \u001b[0m\u001b[37m . \u001b[0m\u001b[46m   \u001b[0m\u001b[37m . \u001b[0m\u001b[46m   \u001b[0m\u001b[46m   \u001b[0m\u001b[37m . \u001b[0m\u001b[46m   \u001b[0m\u001b[37m . \u001b[0m\u001b[46m   \u001b[0m\u001b[37m . \u001b[0m\u001b[37m . \u001b[0m\u001b[46m   \u001b[0m\u001b[37m . \u001b[0m\u001b[37m . \u001b[0m\n",
      "\u001b[37m . \u001b[0m\u001b[37m . \u001b[0m\u001b[46m   \u001b[0m\u001b[37m . \u001b[0m\u001b[37m . \u001b[0m\u001b[46m   \u001b[0m\u001b[37m . \u001b[0m\u001b[37m . \u001b[0m\u001b[46m   \u001b[0m\u001b[37m . \u001b[0m\u001b[37m . \u001b[0m\u001b[37m . \u001b[0m\u001b[46m   \u001b[0m\u001b[37m . \u001b[0m\u001b[46m   \u001b[0m\u001b[46m   \u001b[0m\u001b[37m . \u001b[0m\u001b[46m   \u001b[0m\u001b[46m   \u001b[0m\u001b[37m . \u001b[0m\u001b[37m . \u001b[0m\n",
      "\u001b[37m . \u001b[0m\u001b[37m . \u001b[0m\u001b[46m   \u001b[0m\u001b[37m . \u001b[0m\u001b[46m   \u001b[0m\u001b[37m . \u001b[0m\u001b[46m   \u001b[0m\u001b[37m . \u001b[0m\u001b[37m . \u001b[0m\u001b[37m . \u001b[0m\u001b[46m   \u001b[0m\u001b[46m   \u001b[0m\u001b[37m . \u001b[0m\u001b[37m . \u001b[0m\u001b[37m . \u001b[0m\u001b[46m   \u001b[0m\u001b[37m . \u001b[0m\u001b[37m . \u001b[0m\u001b[46m   \u001b[0m\u001b[37m . \u001b[0m\u001b[37m . \u001b[0m\n",
      "\u001b[37m . \u001b[0m\u001b[37m . \u001b[0m\u001b[46m   \u001b[0m\u001b[46m   \u001b[0m\u001b[37m . \u001b[0m\u001b[37m|0|\u001b[0m\u001b[37m . \u001b[0m\u001b[37m . \u001b[0m\u001b[37m . \u001b[0m\u001b[37m . \u001b[0m\u001b[37m . \u001b[0m\u001b[37m . \u001b[0m\u001b[37m . \u001b[0m\u001b[37m . \u001b[0m\u001b[37m . \u001b[0m\u001b[46m   \u001b[0m\u001b[37m . \u001b[0m\u001b[46m   \u001b[0m\u001b[46m   \u001b[0m\u001b[37m . \u001b[0m\u001b[37m . \u001b[0m\n",
      "\u001b[37m . \u001b[0m\u001b[37m . \u001b[0m\u001b[46m   \u001b[0m\u001b[46m   \u001b[0m\u001b[37m . \u001b[0m\u001b[37m . \u001b[0m\u001b[37m . \u001b[0m\u001b[46m   \u001b[0m\u001b[37m . \u001b[0m\u001b[37m . \u001b[0m\u001b[37m . \u001b[0m\u001b[46m   \u001b[0m\u001b[46m   \u001b[0m\u001b[46m   \u001b[0m\u001b[46m   \u001b[0m\u001b[37m . \u001b[0m\u001b[46m   \u001b[0m\u001b[46m   \u001b[0m\u001b[46m   \u001b[0m\u001b[37m . \u001b[0m\u001b[37m . \u001b[0m\n",
      "\u001b[37m . \u001b[0m\u001b[37m . \u001b[0m\u001b[46m   \u001b[0m\u001b[37m . \u001b[0m\u001b[37m . \u001b[0m\u001b[46m   \u001b[0m\u001b[37m . \u001b[0m\u001b[37m . \u001b[0m\u001b[46m   \u001b[0m\u001b[46m   \u001b[0m\u001b[37m . \u001b[0m\u001b[46m   \u001b[0m\u001b[37m . \u001b[0m\u001b[46m   \u001b[0m\u001b[46m   \u001b[0m\u001b[46m   \u001b[0m\u001b[37m . \u001b[0m\u001b[46m   \u001b[0m\u001b[46m   \u001b[0m\u001b[37m . \u001b[0m\u001b[37m . \u001b[0m\n",
      "\u001b[37m . \u001b[0m\u001b[37m . \u001b[0m\u001b[46m   \u001b[0m\u001b[37m . \u001b[0m\u001b[46m   \u001b[0m\u001b[37m . \u001b[0m\u001b[37m . \u001b[0m\u001b[37m . \u001b[0m\u001b[37m . \u001b[0m\u001b[37m . \u001b[0m\u001b[46m   \u001b[0m\u001b[46m   \u001b[0m\u001b[37m . \u001b[0m\u001b[37m . \u001b[0m\u001b[37m . \u001b[0m\u001b[46m   \u001b[0m\u001b[37m . \u001b[0m\u001b[46m   \u001b[0m\u001b[46m   \u001b[0m\u001b[37m . \u001b[0m\u001b[37m . \u001b[0m\n",
      "\u001b[37m . \u001b[0m\u001b[37m . \u001b[0m\u001b[46m   \u001b[0m\u001b[46m   \u001b[0m\u001b[37m . \u001b[0m\u001b[46m   \u001b[0m\u001b[37m . \u001b[0m\u001b[46m   \u001b[0m\u001b[37m . \u001b[0m\u001b[37m . \u001b[0m\u001b[37m . \u001b[0m\u001b[46m   \u001b[0m\u001b[46m   \u001b[0m\u001b[46m   \u001b[0m\u001b[37m . \u001b[0m\u001b[37m . \u001b[0m\u001b[37m . \u001b[0m\u001b[37m . \u001b[0m\u001b[46m   \u001b[0m\u001b[37m . \u001b[0m\u001b[37m . \u001b[0m\n",
      "\u001b[37m . \u001b[0m\u001b[37m . \u001b[0m\u001b[46m   \u001b[0m\u001b[46m   \u001b[0m\u001b[46m   \u001b[0m\u001b[46m   \u001b[0m\u001b[46m   \u001b[0m\u001b[37m . \u001b[0m\u001b[31;1m 0 \u001b[0m\u001b[37m . \u001b[0m\u001b[37m . \u001b[0m\u001b[46m   \u001b[0m\u001b[46m   \u001b[0m\u001b[37m . \u001b[0m\u001b[37m . \u001b[0m\u001b[46m   \u001b[0m\u001b[37m . \u001b[0m\u001b[46m   \u001b[0m\u001b[46m   \u001b[0m\u001b[37m . \u001b[0m\u001b[37m . \u001b[0m\n",
      "\u001b[37m . \u001b[0m\u001b[37m . \u001b[0m\u001b[46m   \u001b[0m\u001b[46m   \u001b[0m\u001b[46m   \u001b[0m\u001b[37m . \u001b[0m\u001b[37m . \u001b[0m\u001b[37m . \u001b[0m\u001b[46m   \u001b[0m\u001b[46m   \u001b[0m\u001b[37m . \u001b[0m\u001b[46m   \u001b[0m\u001b[46m   \u001b[0m\u001b[46m   \u001b[0m\u001b[37m . \u001b[0m\u001b[46m   \u001b[0m\u001b[37m . \u001b[0m\u001b[37m . \u001b[0m\u001b[46m   \u001b[0m\u001b[37m . \u001b[0m\u001b[37m . \u001b[0m\n",
      "\u001b[37m . \u001b[0m\u001b[37m . \u001b[0m\u001b[46m   \u001b[0m\u001b[46m   \u001b[0m\u001b[37m . \u001b[0m\u001b[46m   \u001b[0m\u001b[37m . \u001b[0m\u001b[37m . \u001b[0m\u001b[46m   \u001b[0m\u001b[37m . \u001b[0m\u001b[37m . \u001b[0m\u001b[37m . \u001b[0m\u001b[37m . \u001b[0m\u001b[37m . \u001b[0m\u001b[37m . \u001b[0m\u001b[46m   \u001b[0m\u001b[46m   \u001b[0m\u001b[37m . \u001b[0m\u001b[46m   \u001b[0m\u001b[37m . \u001b[0m\u001b[37m . \u001b[0m\n",
      "\u001b[37m . \u001b[0m\u001b[37m . \u001b[0m\u001b[46m   \u001b[0m\u001b[46m   \u001b[0m\u001b[37m . \u001b[0m\u001b[46m   \u001b[0m\u001b[46m   \u001b[0m\u001b[37m . \u001b[0m\u001b[37m . \u001b[0m\u001b[46m   \u001b[0m\u001b[46m   \u001b[0m\u001b[37m . \u001b[0m\u001b[37m . \u001b[0m\u001b[37m . \u001b[0m\u001b[37m . \u001b[0m\u001b[46m   \u001b[0m\u001b[46m   \u001b[0m\u001b[46m   \u001b[0m\u001b[46m   \u001b[0m\u001b[37m . \u001b[0m\u001b[37m . \u001b[0m\n",
      "\u001b[37m . \u001b[0m\u001b[37m . \u001b[0m\u001b[46m   \u001b[0m\u001b[46m   \u001b[0m\u001b[46m   \u001b[0m\u001b[46m   \u001b[0m\u001b[46m   \u001b[0m\u001b[46m   \u001b[0m\u001b[46m   \u001b[0m\u001b[46m   \u001b[0m\u001b[46m   \u001b[0m\u001b[46m   \u001b[0m\u001b[46m   \u001b[0m\u001b[46m   \u001b[0m\u001b[46m   \u001b[0m\u001b[46m   \u001b[0m\u001b[46m   \u001b[0m\u001b[46m   \u001b[0m\u001b[46m   \u001b[0m\u001b[37m . \u001b[0m\u001b[37m . \u001b[0m\n",
      "\u001b[37m . \u001b[0m\u001b[37m . \u001b[0m\u001b[37m . \u001b[0m\u001b[37m . \u001b[0m\u001b[37m . \u001b[0m\u001b[37m . \u001b[0m\u001b[37m . \u001b[0m\u001b[37m . \u001b[0m\u001b[37m . \u001b[0m\u001b[37m . \u001b[0m\u001b[37m . \u001b[0m\u001b[37m . \u001b[0m\u001b[37m . \u001b[0m\u001b[37m . \u001b[0m\u001b[37m . \u001b[0m\u001b[37m . \u001b[0m\u001b[37m . \u001b[0m\u001b[37m . \u001b[0m\u001b[37m . \u001b[0m\u001b[37m . \u001b[0m\u001b[37m . \u001b[0m\n",
      "\u001b[37m . \u001b[0m\u001b[37m . \u001b[0m\u001b[37m . \u001b[0m\u001b[37m . \u001b[0m\u001b[37m . \u001b[0m\u001b[37m . \u001b[0m\u001b[37m . \u001b[0m\u001b[37m . \u001b[0m\u001b[37m . \u001b[0m\u001b[37m . \u001b[0m\u001b[37m . \u001b[0m\u001b[37m . \u001b[0m\u001b[37m . \u001b[0m\u001b[37m . \u001b[0m\u001b[37m . \u001b[0m\u001b[37m . \u001b[0m\u001b[37m . \u001b[0m\u001b[37m . \u001b[0m\u001b[37m . \u001b[0m\u001b[37m . \u001b[0m\u001b[37m . \u001b[0m\n",
      "\u001b[37m . \u001b[0m\u001b[37m . \u001b[0m\u001b[37m . \u001b[0m\u001b[37m . \u001b[0m\u001b[37m . \u001b[0m\u001b[37m . \u001b[0m\u001b[37m . \u001b[0m\u001b[37m . \u001b[0m\u001b[37m . \u001b[0m\u001b[37m . \u001b[0m\u001b[37m . \u001b[0m\u001b[37m . \u001b[0m\u001b[37m . \u001b[0m\u001b[37m . \u001b[0m\u001b[37m . \u001b[0m\u001b[37m . \u001b[0m\u001b[37m . \u001b[0m\u001b[37m . \u001b[0m\u001b[37m . \u001b[0m\u001b[37m . \u001b[0m\u001b[37m . \u001b[0m\n",
      "\u001b[37m . \u001b[0m\u001b[37m . \u001b[0m\u001b[37m . \u001b[0m\u001b[37m . \u001b[0m\u001b[37m . \u001b[0m\u001b[37m . \u001b[0m\u001b[37m . \u001b[0m\u001b[37m . \u001b[0m\u001b[37m . \u001b[0m\u001b[37m . \u001b[0m\u001b[37m . \u001b[0m\u001b[37m . \u001b[0m\u001b[37m . \u001b[0m\u001b[37m . \u001b[0m\u001b[37m . \u001b[0m\u001b[37m . \u001b[0m\u001b[37m . \u001b[0m\u001b[37m . \u001b[0m\u001b[37m . \u001b[0m\u001b[37m . \u001b[0m\u001b[37m . \u001b[0m\n",
      "\u001b[37m . \u001b[0m\u001b[37m . \u001b[0m\u001b[46m   \u001b[0m\u001b[46m   \u001b[0m\u001b[46m   \u001b[0m\u001b[46m   \u001b[0m\u001b[46m   \u001b[0m\u001b[46m   \u001b[0m\u001b[46m   \u001b[0m\u001b[46m   \u001b[0m\u001b[46m   \u001b[0m\u001b[46m   \u001b[0m\u001b[46m   \u001b[0m\u001b[46m   \u001b[0m\u001b[46m   \u001b[0m\u001b[46m   \u001b[0m\u001b[46m   \u001b[0m\u001b[46m   \u001b[0m\u001b[46m   \u001b[0m\u001b[37m . \u001b[0m\u001b[37m . \u001b[0m\n",
      "\u001b[37m . \u001b[0m\u001b[37m . \u001b[0m\u001b[46m   \u001b[0m\u001b[37m . \u001b[0m\u001b[37m . \u001b[0m\u001b[46m   \u001b[0m\u001b[37m . \u001b[0m\u001b[46m   \u001b[0m\u001b[46m   \u001b[0m\u001b[37m . \u001b[0m\u001b[37m . \u001b[0m\u001b[37m . \u001b[0m\u001b[46m   \u001b[0m\u001b[37m . \u001b[0m\u001b[37m . \u001b[0m\u001b[37m . \u001b[0m\u001b[46m   \u001b[0m\u001b[37m . \u001b[0m\u001b[46m   \u001b[0m\u001b[37m . \u001b[0m\u001b[37m . \u001b[0m\n",
      "\u001b[37m . \u001b[0m\u001b[37m . \u001b[0m\u001b[46m   \u001b[0m\u001b[46m   \u001b[0m\u001b[46m   \u001b[0m\u001b[46m   \u001b[0m\u001b[37m . \u001b[0m\u001b[37m . \u001b[0m\u001b[37m . \u001b[0m\u001b[37m . \u001b[0m\u001b[46m   \u001b[0m\u001b[46m   \u001b[0m\u001b[37m . \u001b[0m\u001b[46m   \u001b[0m\u001b[37m . \u001b[0m\u001b[46m   \u001b[0m\u001b[37m . \u001b[0m\u001b[37m . \u001b[0m\u001b[46m   \u001b[0m\u001b[37m . \u001b[0m\u001b[37m . \u001b[0m\n",
      "\u001b[37m . \u001b[0m\u001b[37m . \u001b[0m\u001b[46m   \u001b[0m\u001b[37m . \u001b[0m\u001b[46m   \u001b[0m\u001b[46m   \u001b[0m\u001b[46m   \u001b[0m\u001b[46m   \u001b[0m\u001b[37m . \u001b[0m\u001b[37m . \u001b[0m\u001b[37m . \u001b[0m\u001b[46m   \u001b[0m\u001b[37m . \u001b[0m\u001b[46m   \u001b[0m\u001b[46m   \u001b[0m\u001b[46m   \u001b[0m\u001b[37m . \u001b[0m\u001b[46m   \u001b[0m\u001b[46m   \u001b[0m\u001b[37m . \u001b[0m\u001b[37m . \u001b[0m\n",
      "\u001b[37m . \u001b[0m\u001b[37m . \u001b[0m\u001b[46m   \u001b[0m\u001b[37m . \u001b[0m\u001b[37m . \u001b[0m\u001b[37m . \u001b[0m\u001b[37m . \u001b[0m\u001b[37m . \u001b[0m\u001b[46m   \u001b[0m\u001b[37m . \u001b[0m\u001b[46m   \u001b[0m\u001b[46m   \u001b[0m\u001b[37m . \u001b[0m\u001b[46m   \u001b[0m\u001b[37m . \u001b[0m\u001b[46m   \u001b[0m\u001b[37m . \u001b[0m\u001b[37m . \u001b[0m\u001b[46m   \u001b[0m\u001b[37m . \u001b[0m\u001b[37m . \u001b[0m\n",
      "\u001b[37m . \u001b[0m\u001b[37m . \u001b[0m\u001b[46m   \u001b[0m\u001b[37m . \u001b[0m\u001b[37m . \u001b[0m\u001b[46m   \u001b[0m\u001b[37m . \u001b[0m\u001b[37m . \u001b[0m\u001b[46m   \u001b[0m\u001b[37m . \u001b[0m\u001b[37m . \u001b[0m\u001b[37m . \u001b[0m\u001b[46m   \u001b[0m\u001b[37m . \u001b[0m\u001b[46m   \u001b[0m\u001b[46m   \u001b[0m\u001b[37m . \u001b[0m\u001b[46m   \u001b[0m\u001b[46m   \u001b[0m\u001b[37m . \u001b[0m\u001b[37m . \u001b[0m\n",
      "\u001b[37m . \u001b[0m\u001b[37m . \u001b[0m\u001b[46m   \u001b[0m\u001b[37m . \u001b[0m\u001b[46m   \u001b[0m\u001b[37m . \u001b[0m\u001b[46m   \u001b[0m\u001b[37m . \u001b[0m\u001b[37m . \u001b[0m\u001b[37m . \u001b[0m\u001b[46m   \u001b[0m\u001b[46m   \u001b[0m\u001b[37m . \u001b[0m\u001b[37m . \u001b[0m\u001b[37m . \u001b[0m\u001b[46m   \u001b[0m\u001b[37m . \u001b[0m\u001b[37m . \u001b[0m\u001b[46m   \u001b[0m\u001b[37m . \u001b[0m\u001b[37m . \u001b[0m\n",
      "\u001b[37m . \u001b[0m\u001b[37m . \u001b[0m\u001b[46m   \u001b[0m\u001b[46m   \u001b[0m\u001b[37m . \u001b[0m\u001b[37m|0|\u001b[0m\u001b[37m . \u001b[0m\u001b[37m . \u001b[0m\u001b[37m . \u001b[0m\u001b[37m . \u001b[0m\u001b[37m . \u001b[0m\u001b[37m . \u001b[0m\u001b[37m . \u001b[0m\u001b[37m . \u001b[0m\u001b[37m . \u001b[0m\u001b[46m   \u001b[0m\u001b[37m . \u001b[0m\u001b[46m   \u001b[0m\u001b[46m   \u001b[0m\u001b[37m . \u001b[0m\u001b[37m . \u001b[0m\n",
      "\u001b[37m . \u001b[0m\u001b[37m . \u001b[0m\u001b[46m   \u001b[0m\u001b[46m   \u001b[0m\u001b[37m . \u001b[0m\u001b[37m . \u001b[0m\u001b[37m . \u001b[0m\u001b[46m   \u001b[0m\u001b[37m . \u001b[0m\u001b[37m . \u001b[0m\u001b[37m . \u001b[0m\u001b[46m   \u001b[0m\u001b[46m   \u001b[0m\u001b[46m   \u001b[0m\u001b[46m   \u001b[0m\u001b[37m . \u001b[0m\u001b[46m   \u001b[0m\u001b[46m   \u001b[0m\u001b[46m   \u001b[0m\u001b[37m . \u001b[0m\u001b[37m . \u001b[0m\n",
      "\u001b[37m . \u001b[0m\u001b[37m . \u001b[0m\u001b[46m   \u001b[0m\u001b[37m . \u001b[0m\u001b[37m . \u001b[0m\u001b[46m   \u001b[0m\u001b[37m . \u001b[0m\u001b[37m . \u001b[0m\u001b[46m   \u001b[0m\u001b[46m   \u001b[0m\u001b[37m . \u001b[0m\u001b[46m   \u001b[0m\u001b[37m . \u001b[0m\u001b[46m   \u001b[0m\u001b[46m   \u001b[0m\u001b[46m   \u001b[0m\u001b[37m . \u001b[0m\u001b[46m   \u001b[0m\u001b[46m   \u001b[0m\u001b[37m . \u001b[0m\u001b[37m . \u001b[0m\n",
      "\u001b[37m . \u001b[0m\u001b[37m . \u001b[0m\u001b[46m   \u001b[0m\u001b[37m . \u001b[0m\u001b[46m   \u001b[0m\u001b[37m . \u001b[0m\u001b[37m . \u001b[0m\u001b[37m . \u001b[0m\u001b[37m . \u001b[0m\u001b[37m . \u001b[0m\u001b[46m   \u001b[0m\u001b[46m   \u001b[0m\u001b[37m . \u001b[0m\u001b[37m . \u001b[0m\u001b[37m . \u001b[0m\u001b[46m   \u001b[0m\u001b[37m . \u001b[0m\u001b[46m   \u001b[0m\u001b[46m   \u001b[0m\u001b[37m . \u001b[0m\u001b[37m . \u001b[0m\n",
      "\u001b[37m . \u001b[0m\u001b[37m . \u001b[0m\u001b[46m   \u001b[0m\u001b[46m   \u001b[0m\u001b[37m . \u001b[0m\u001b[46m   \u001b[0m\u001b[37m . \u001b[0m\u001b[46m   \u001b[0m\u001b[31;1m 0 \u001b[0m\u001b[37m . \u001b[0m\u001b[37m . \u001b[0m\u001b[46m   \u001b[0m\u001b[46m   \u001b[0m\u001b[46m   \u001b[0m\u001b[37m . \u001b[0m\u001b[37m . \u001b[0m\u001b[37m . \u001b[0m\u001b[37m . \u001b[0m\u001b[46m   \u001b[0m\u001b[37m . \u001b[0m\u001b[37m . \u001b[0m\n",
      "\u001b[37m . \u001b[0m\u001b[37m . \u001b[0m\u001b[46m   \u001b[0m\u001b[46m   \u001b[0m\u001b[46m   \u001b[0m\u001b[46m   \u001b[0m\u001b[46m   \u001b[0m\u001b[37m . \u001b[0m\u001b[37m . \u001b[0m\u001b[37m . \u001b[0m\u001b[37m . \u001b[0m\u001b[46m   \u001b[0m\u001b[46m   \u001b[0m\u001b[37m . \u001b[0m\u001b[37m . \u001b[0m\u001b[46m   \u001b[0m\u001b[37m . \u001b[0m\u001b[46m   \u001b[0m\u001b[46m   \u001b[0m\u001b[37m . \u001b[0m\u001b[37m . \u001b[0m\n",
      "\u001b[37m . \u001b[0m\u001b[37m . \u001b[0m\u001b[46m   \u001b[0m\u001b[46m   \u001b[0m\u001b[46m   \u001b[0m\u001b[37m . \u001b[0m\u001b[37m . \u001b[0m\u001b[37m . \u001b[0m\u001b[46m   \u001b[0m\u001b[46m   \u001b[0m\u001b[37m . \u001b[0m\u001b[46m   \u001b[0m\u001b[46m   \u001b[0m\u001b[46m   \u001b[0m\u001b[37m . \u001b[0m\u001b[46m   \u001b[0m\u001b[37m . \u001b[0m\u001b[37m . \u001b[0m\u001b[46m   \u001b[0m\u001b[37m . \u001b[0m\u001b[37m . \u001b[0m\n",
      "\u001b[37m . \u001b[0m\u001b[37m . \u001b[0m\u001b[46m   \u001b[0m\u001b[46m   \u001b[0m\u001b[37m . \u001b[0m\u001b[46m   \u001b[0m\u001b[37m . \u001b[0m\u001b[37m . \u001b[0m\u001b[46m   \u001b[0m\u001b[37m . \u001b[0m\u001b[37m . \u001b[0m\u001b[37m . \u001b[0m\u001b[37m . \u001b[0m\u001b[37m . \u001b[0m\u001b[37m . \u001b[0m\u001b[46m   \u001b[0m\u001b[46m   \u001b[0m\u001b[37m . \u001b[0m\u001b[46m   \u001b[0m\u001b[37m . \u001b[0m\u001b[37m . \u001b[0m\n",
      "\u001b[37m . \u001b[0m\u001b[37m . \u001b[0m\u001b[46m   \u001b[0m\u001b[46m   \u001b[0m\u001b[37m . \u001b[0m\u001b[46m   \u001b[0m\u001b[46m   \u001b[0m\u001b[37m . \u001b[0m\u001b[37m . \u001b[0m\u001b[46m   \u001b[0m\u001b[46m   \u001b[0m\u001b[37m . \u001b[0m\u001b[37m . \u001b[0m\u001b[37m . \u001b[0m\u001b[37m . \u001b[0m\u001b[46m   \u001b[0m\u001b[46m   \u001b[0m\u001b[46m   \u001b[0m\u001b[46m   \u001b[0m\u001b[37m . \u001b[0m\u001b[37m . \u001b[0m\n",
      "\u001b[37m . \u001b[0m\u001b[37m . \u001b[0m\u001b[46m   \u001b[0m\u001b[46m   \u001b[0m\u001b[46m   \u001b[0m\u001b[46m   \u001b[0m\u001b[46m   \u001b[0m\u001b[46m   \u001b[0m\u001b[46m   \u001b[0m\u001b[46m   \u001b[0m\u001b[46m   \u001b[0m\u001b[46m   \u001b[0m\u001b[46m   \u001b[0m\u001b[46m   \u001b[0m\u001b[46m   \u001b[0m\u001b[46m   \u001b[0m\u001b[46m   \u001b[0m\u001b[46m   \u001b[0m\u001b[46m   \u001b[0m\u001b[37m . \u001b[0m\u001b[37m . \u001b[0m\n",
      "\u001b[37m . \u001b[0m\u001b[37m . \u001b[0m\u001b[37m . \u001b[0m\u001b[37m . \u001b[0m\u001b[37m . \u001b[0m\u001b[37m . \u001b[0m\u001b[37m . \u001b[0m\u001b[37m . \u001b[0m\u001b[37m . \u001b[0m\u001b[37m . \u001b[0m\u001b[37m . \u001b[0m\u001b[37m . \u001b[0m\u001b[37m . \u001b[0m\u001b[37m . \u001b[0m\u001b[37m . \u001b[0m\u001b[37m . \u001b[0m\u001b[37m . \u001b[0m\u001b[37m . \u001b[0m\u001b[37m . \u001b[0m\u001b[37m . \u001b[0m\u001b[37m . \u001b[0m\n",
      "\u001b[37m . \u001b[0m\u001b[37m . \u001b[0m\u001b[37m . \u001b[0m\u001b[37m . \u001b[0m\u001b[37m . \u001b[0m\u001b[37m . \u001b[0m\u001b[37m . \u001b[0m\u001b[37m . \u001b[0m\u001b[37m . \u001b[0m\u001b[37m . \u001b[0m\u001b[37m . \u001b[0m\u001b[37m . \u001b[0m\u001b[37m . \u001b[0m\u001b[37m . \u001b[0m\u001b[37m . \u001b[0m\u001b[37m . \u001b[0m\u001b[37m . \u001b[0m\u001b[37m . \u001b[0m\u001b[37m . \u001b[0m\u001b[37m . \u001b[0m\u001b[37m . \u001b[0m\n",
      "\u001b[37m . \u001b[0m\u001b[37m . \u001b[0m\u001b[37m . \u001b[0m\u001b[37m . \u001b[0m\u001b[37m . \u001b[0m\u001b[37m . \u001b[0m\u001b[37m . \u001b[0m\u001b[37m . \u001b[0m\u001b[37m . \u001b[0m\u001b[37m . \u001b[0m\u001b[37m . \u001b[0m\u001b[37m . \u001b[0m\u001b[37m . \u001b[0m\u001b[37m . \u001b[0m\u001b[37m . \u001b[0m\u001b[37m . \u001b[0m\u001b[37m . \u001b[0m\u001b[37m . \u001b[0m\u001b[37m . \u001b[0m\u001b[37m . \u001b[0m\u001b[37m . \u001b[0m\n",
      "\u001b[37m . \u001b[0m\u001b[37m . \u001b[0m\u001b[37m . \u001b[0m\u001b[37m . \u001b[0m\u001b[37m . \u001b[0m\u001b[37m . \u001b[0m\u001b[37m . \u001b[0m\u001b[37m . \u001b[0m\u001b[37m . \u001b[0m\u001b[37m . \u001b[0m\u001b[37m . \u001b[0m\u001b[37m . \u001b[0m\u001b[37m . \u001b[0m\u001b[37m . \u001b[0m\u001b[37m . \u001b[0m\u001b[37m . \u001b[0m\u001b[37m . \u001b[0m\u001b[37m . \u001b[0m\u001b[37m . \u001b[0m\u001b[37m . \u001b[0m\u001b[37m . \u001b[0m\n",
      "\u001b[37m . \u001b[0m\u001b[37m . \u001b[0m\u001b[46m   \u001b[0m\u001b[46m   \u001b[0m\u001b[46m   \u001b[0m\u001b[46m   \u001b[0m\u001b[46m   \u001b[0m\u001b[46m   \u001b[0m\u001b[46m   \u001b[0m\u001b[46m   \u001b[0m\u001b[46m   \u001b[0m\u001b[46m   \u001b[0m\u001b[46m   \u001b[0m\u001b[46m   \u001b[0m\u001b[46m   \u001b[0m\u001b[46m   \u001b[0m\u001b[46m   \u001b[0m\u001b[46m   \u001b[0m\u001b[46m   \u001b[0m\u001b[37m . \u001b[0m\u001b[37m . \u001b[0m\n",
      "\u001b[37m . \u001b[0m\u001b[37m . \u001b[0m\u001b[46m   \u001b[0m\u001b[37m . \u001b[0m\u001b[37m . \u001b[0m\u001b[46m   \u001b[0m\u001b[37m . \u001b[0m\u001b[46m   \u001b[0m\u001b[46m   \u001b[0m\u001b[37m . \u001b[0m\u001b[37m . \u001b[0m\u001b[37m . \u001b[0m\u001b[46m   \u001b[0m\u001b[37m . \u001b[0m\u001b[37m . \u001b[0m\u001b[37m . \u001b[0m\u001b[46m   \u001b[0m\u001b[37m . \u001b[0m\u001b[46m   \u001b[0m\u001b[37m . \u001b[0m\u001b[37m . \u001b[0m\n",
      "\u001b[37m . \u001b[0m\u001b[37m . \u001b[0m\u001b[46m   \u001b[0m\u001b[46m   \u001b[0m\u001b[46m   \u001b[0m\u001b[46m   \u001b[0m\u001b[37m . \u001b[0m\u001b[37m . \u001b[0m\u001b[37m . \u001b[0m\u001b[37m . \u001b[0m\u001b[46m   \u001b[0m\u001b[46m   \u001b[0m\u001b[37m . \u001b[0m\u001b[46m   \u001b[0m\u001b[37m . \u001b[0m\u001b[46m   \u001b[0m\u001b[37m . \u001b[0m\u001b[37m . \u001b[0m\u001b[46m   \u001b[0m\u001b[37m . \u001b[0m\u001b[37m . \u001b[0m\n",
      "\u001b[37m . \u001b[0m\u001b[37m . \u001b[0m\u001b[46m   \u001b[0m\u001b[37m . \u001b[0m\u001b[46m   \u001b[0m\u001b[46m   \u001b[0m\u001b[46m   \u001b[0m\u001b[46m   \u001b[0m\u001b[37m . \u001b[0m\u001b[37m . \u001b[0m\u001b[37m . \u001b[0m\u001b[46m   \u001b[0m\u001b[37m . \u001b[0m\u001b[46m   \u001b[0m\u001b[46m   \u001b[0m\u001b[46m   \u001b[0m\u001b[37m . \u001b[0m\u001b[46m   \u001b[0m\u001b[46m   \u001b[0m\u001b[37m . \u001b[0m\u001b[37m . \u001b[0m\n",
      "\u001b[37m . \u001b[0m\u001b[37m . \u001b[0m\u001b[46m   \u001b[0m\u001b[37m . \u001b[0m\u001b[37m . \u001b[0m\u001b[37m . \u001b[0m\u001b[37m . \u001b[0m\u001b[37m . \u001b[0m\u001b[46m   \u001b[0m\u001b[37m . \u001b[0m\u001b[46m   \u001b[0m\u001b[46m   \u001b[0m\u001b[37m . \u001b[0m\u001b[46m   \u001b[0m\u001b[37m . \u001b[0m\u001b[46m   \u001b[0m\u001b[37m . \u001b[0m\u001b[37m . \u001b[0m\u001b[46m   \u001b[0m\u001b[37m . \u001b[0m\u001b[37m . \u001b[0m\n",
      "\u001b[37m . \u001b[0m\u001b[37m . \u001b[0m\u001b[46m   \u001b[0m\u001b[37m . \u001b[0m\u001b[37m . \u001b[0m\u001b[46m   \u001b[0m\u001b[37m . \u001b[0m\u001b[37m . \u001b[0m\u001b[46m   \u001b[0m\u001b[37m . \u001b[0m\u001b[37m . \u001b[0m\u001b[37m . \u001b[0m\u001b[46m   \u001b[0m\u001b[37m . \u001b[0m\u001b[46m   \u001b[0m\u001b[46m   \u001b[0m\u001b[37m . \u001b[0m\u001b[46m   \u001b[0m\u001b[46m   \u001b[0m\u001b[37m . \u001b[0m\u001b[37m . \u001b[0m\n",
      "\u001b[37m . \u001b[0m\u001b[37m . \u001b[0m\u001b[46m   \u001b[0m\u001b[37m . \u001b[0m\u001b[46m   \u001b[0m\u001b[37m . \u001b[0m\u001b[46m   \u001b[0m\u001b[37m . \u001b[0m\u001b[37m . \u001b[0m\u001b[37m . \u001b[0m\u001b[46m   \u001b[0m\u001b[46m   \u001b[0m\u001b[37m . \u001b[0m\u001b[37m . \u001b[0m\u001b[37m . \u001b[0m\u001b[46m   \u001b[0m\u001b[37m . \u001b[0m\u001b[37m . \u001b[0m\u001b[46m   \u001b[0m\u001b[37m . \u001b[0m\u001b[37m . \u001b[0m\n",
      "\u001b[37m . \u001b[0m\u001b[37m . \u001b[0m\u001b[46m   \u001b[0m\u001b[46m   \u001b[0m\u001b[37m . \u001b[0m\u001b[37m|0|\u001b[0m\u001b[37m . \u001b[0m\u001b[37m . \u001b[0m\u001b[37m . \u001b[0m\u001b[37m . \u001b[0m\u001b[37m . \u001b[0m\u001b[37m . \u001b[0m\u001b[37m . \u001b[0m\u001b[37m . \u001b[0m\u001b[37m . \u001b[0m\u001b[46m   \u001b[0m\u001b[37m . \u001b[0m\u001b[46m   \u001b[0m\u001b[46m   \u001b[0m\u001b[37m . \u001b[0m\u001b[37m . \u001b[0m\n",
      "\u001b[37m . \u001b[0m\u001b[37m . \u001b[0m\u001b[46m   \u001b[0m\u001b[46m   \u001b[0m\u001b[37m . \u001b[0m\u001b[37m . \u001b[0m\u001b[37m . \u001b[0m\u001b[46m   \u001b[0m\u001b[37m . \u001b[0m\u001b[37m . \u001b[0m\u001b[37m . \u001b[0m\u001b[46m   \u001b[0m\u001b[46m   \u001b[0m\u001b[46m   \u001b[0m\u001b[46m   \u001b[0m\u001b[37m . \u001b[0m\u001b[46m   \u001b[0m\u001b[46m   \u001b[0m\u001b[46m   \u001b[0m\u001b[37m . \u001b[0m\u001b[37m . \u001b[0m\n",
      "\u001b[37m . \u001b[0m\u001b[37m . \u001b[0m\u001b[46m   \u001b[0m\u001b[37m . \u001b[0m\u001b[37m . \u001b[0m\u001b[46m   \u001b[0m\u001b[37m . \u001b[0m\u001b[37m . \u001b[0m\u001b[46m   \u001b[0m\u001b[46m   \u001b[0m\u001b[37m . \u001b[0m\u001b[46m   \u001b[0m\u001b[37m . \u001b[0m\u001b[46m   \u001b[0m\u001b[46m   \u001b[0m\u001b[46m   \u001b[0m\u001b[37m . \u001b[0m\u001b[46m   \u001b[0m\u001b[46m   \u001b[0m\u001b[37m . \u001b[0m\u001b[37m . \u001b[0m\n",
      "\u001b[37m . \u001b[0m\u001b[37m . \u001b[0m\u001b[46m   \u001b[0m\u001b[37m . \u001b[0m\u001b[46m   \u001b[0m\u001b[37m . \u001b[0m\u001b[37m . \u001b[0m\u001b[37m . \u001b[0m\u001b[31;1m 0 \u001b[0m\u001b[37m . \u001b[0m\u001b[46m   \u001b[0m\u001b[46m   \u001b[0m\u001b[37m . \u001b[0m\u001b[37m . \u001b[0m\u001b[37m . \u001b[0m\u001b[46m   \u001b[0m\u001b[37m . \u001b[0m\u001b[46m   \u001b[0m\u001b[46m   \u001b[0m\u001b[37m . \u001b[0m\u001b[37m . \u001b[0m\n",
      "\u001b[37m . \u001b[0m\u001b[37m . \u001b[0m\u001b[46m   \u001b[0m\u001b[46m   \u001b[0m\u001b[37m . \u001b[0m\u001b[46m   \u001b[0m\u001b[37m . \u001b[0m\u001b[46m   \u001b[0m\u001b[37m . \u001b[0m\u001b[37m . \u001b[0m\u001b[37m . \u001b[0m\u001b[46m   \u001b[0m\u001b[46m   \u001b[0m\u001b[46m   \u001b[0m\u001b[37m . \u001b[0m\u001b[37m . \u001b[0m\u001b[37m . \u001b[0m\u001b[37m . \u001b[0m\u001b[46m   \u001b[0m\u001b[37m . \u001b[0m\u001b[37m . \u001b[0m\n",
      "\u001b[37m . \u001b[0m\u001b[37m . \u001b[0m\u001b[46m   \u001b[0m\u001b[46m   \u001b[0m\u001b[46m   \u001b[0m\u001b[46m   \u001b[0m\u001b[46m   \u001b[0m\u001b[37m . \u001b[0m\u001b[37m . \u001b[0m\u001b[37m . \u001b[0m\u001b[37m . \u001b[0m\u001b[46m   \u001b[0m\u001b[46m   \u001b[0m\u001b[37m . \u001b[0m\u001b[37m . \u001b[0m\u001b[46m   \u001b[0m\u001b[37m . \u001b[0m\u001b[46m   \u001b[0m\u001b[46m   \u001b[0m\u001b[37m . \u001b[0m\u001b[37m . \u001b[0m\n",
      "\u001b[37m . \u001b[0m\u001b[37m . \u001b[0m\u001b[46m   \u001b[0m\u001b[46m   \u001b[0m\u001b[46m   \u001b[0m\u001b[37m . \u001b[0m\u001b[37m . \u001b[0m\u001b[37m . \u001b[0m\u001b[46m   \u001b[0m\u001b[46m   \u001b[0m\u001b[37m . \u001b[0m\u001b[46m   \u001b[0m\u001b[46m   \u001b[0m\u001b[46m   \u001b[0m\u001b[37m . \u001b[0m\u001b[46m   \u001b[0m\u001b[37m . \u001b[0m\u001b[37m . \u001b[0m\u001b[46m   \u001b[0m\u001b[37m . \u001b[0m\u001b[37m . \u001b[0m\n",
      "\u001b[37m . \u001b[0m\u001b[37m . \u001b[0m\u001b[46m   \u001b[0m\u001b[46m   \u001b[0m\u001b[37m . \u001b[0m\u001b[46m   \u001b[0m\u001b[37m . \u001b[0m\u001b[37m . \u001b[0m\u001b[46m   \u001b[0m\u001b[37m . \u001b[0m\u001b[37m . \u001b[0m\u001b[37m . \u001b[0m\u001b[37m . \u001b[0m\u001b[37m . \u001b[0m\u001b[37m . \u001b[0m\u001b[46m   \u001b[0m\u001b[46m   \u001b[0m\u001b[37m . \u001b[0m\u001b[46m   \u001b[0m\u001b[37m . \u001b[0m\u001b[37m . \u001b[0m\n",
      "\u001b[37m . \u001b[0m\u001b[37m . \u001b[0m\u001b[46m   \u001b[0m\u001b[46m   \u001b[0m\u001b[37m . \u001b[0m\u001b[46m   \u001b[0m\u001b[46m   \u001b[0m\u001b[37m . \u001b[0m\u001b[37m . \u001b[0m\u001b[46m   \u001b[0m\u001b[46m   \u001b[0m\u001b[37m . \u001b[0m\u001b[37m . \u001b[0m\u001b[37m . \u001b[0m\u001b[37m . \u001b[0m\u001b[46m   \u001b[0m\u001b[46m   \u001b[0m\u001b[46m   \u001b[0m\u001b[46m   \u001b[0m\u001b[37m . \u001b[0m\u001b[37m . \u001b[0m\n",
      "\u001b[37m . \u001b[0m\u001b[37m . \u001b[0m\u001b[46m   \u001b[0m\u001b[46m   \u001b[0m\u001b[46m   \u001b[0m\u001b[46m   \u001b[0m\u001b[46m   \u001b[0m\u001b[46m   \u001b[0m\u001b[46m   \u001b[0m\u001b[46m   \u001b[0m\u001b[46m   \u001b[0m\u001b[46m   \u001b[0m\u001b[46m   \u001b[0m\u001b[46m   \u001b[0m\u001b[46m   \u001b[0m\u001b[46m   \u001b[0m\u001b[46m   \u001b[0m\u001b[46m   \u001b[0m\u001b[46m   \u001b[0m\u001b[37m . \u001b[0m\u001b[37m . \u001b[0m\n",
      "\u001b[37m . \u001b[0m\u001b[37m . \u001b[0m\u001b[37m . \u001b[0m\u001b[37m . \u001b[0m\u001b[37m . \u001b[0m\u001b[37m . \u001b[0m\u001b[37m . \u001b[0m\u001b[37m . \u001b[0m\u001b[37m . \u001b[0m\u001b[37m . \u001b[0m\u001b[37m . \u001b[0m\u001b[37m . \u001b[0m\u001b[37m . \u001b[0m\u001b[37m . \u001b[0m\u001b[37m . \u001b[0m\u001b[37m . \u001b[0m\u001b[37m . \u001b[0m\u001b[37m . \u001b[0m\u001b[37m . \u001b[0m\u001b[37m . \u001b[0m\u001b[37m . \u001b[0m\n",
      "\u001b[37m . \u001b[0m\u001b[37m . \u001b[0m\u001b[37m . \u001b[0m\u001b[37m . \u001b[0m\u001b[37m . \u001b[0m\u001b[37m . \u001b[0m\u001b[37m . \u001b[0m\u001b[37m . \u001b[0m\u001b[37m . \u001b[0m\u001b[37m . \u001b[0m\u001b[37m . \u001b[0m\u001b[37m . \u001b[0m\u001b[37m . \u001b[0m\u001b[37m . \u001b[0m\u001b[37m . \u001b[0m\u001b[37m . \u001b[0m\u001b[37m . \u001b[0m\u001b[37m . \u001b[0m\u001b[37m . \u001b[0m\u001b[37m . \u001b[0m\u001b[37m . \u001b[0m\n",
      "\u001b[37m . \u001b[0m\u001b[37m . \u001b[0m\u001b[37m . \u001b[0m\u001b[37m . \u001b[0m\u001b[37m . \u001b[0m\u001b[37m . \u001b[0m\u001b[37m . \u001b[0m\u001b[37m . \u001b[0m\u001b[37m . \u001b[0m\u001b[37m . \u001b[0m\u001b[37m . \u001b[0m\u001b[37m . \u001b[0m\u001b[37m . \u001b[0m\u001b[37m . \u001b[0m\u001b[37m . \u001b[0m\u001b[37m . \u001b[0m\u001b[37m . \u001b[0m\u001b[37m . \u001b[0m\u001b[37m . \u001b[0m\u001b[37m . \u001b[0m\u001b[37m . \u001b[0m\n",
      "\u001b[37m . \u001b[0m\u001b[37m . \u001b[0m\u001b[37m . \u001b[0m\u001b[37m . \u001b[0m\u001b[37m . \u001b[0m\u001b[37m . \u001b[0m\u001b[37m . \u001b[0m\u001b[37m . \u001b[0m\u001b[37m . \u001b[0m\u001b[37m . \u001b[0m\u001b[37m . \u001b[0m\u001b[37m . \u001b[0m\u001b[37m . \u001b[0m\u001b[37m . \u001b[0m\u001b[37m . \u001b[0m\u001b[37m . \u001b[0m\u001b[37m . \u001b[0m\u001b[37m . \u001b[0m\u001b[37m . \u001b[0m\u001b[37m . \u001b[0m\u001b[37m . \u001b[0m\n",
      "\u001b[37m . \u001b[0m\u001b[37m . \u001b[0m\u001b[46m   \u001b[0m\u001b[46m   \u001b[0m\u001b[46m   \u001b[0m\u001b[46m   \u001b[0m\u001b[46m   \u001b[0m\u001b[46m   \u001b[0m\u001b[46m   \u001b[0m\u001b[46m   \u001b[0m\u001b[46m   \u001b[0m\u001b[46m   \u001b[0m\u001b[46m   \u001b[0m\u001b[46m   \u001b[0m\u001b[46m   \u001b[0m\u001b[46m   \u001b[0m\u001b[46m   \u001b[0m\u001b[46m   \u001b[0m\u001b[46m   \u001b[0m\u001b[37m . \u001b[0m\u001b[37m . \u001b[0m\n",
      "\u001b[37m . \u001b[0m\u001b[37m . \u001b[0m\u001b[46m   \u001b[0m\u001b[37m . \u001b[0m\u001b[37m . \u001b[0m\u001b[46m   \u001b[0m\u001b[37m . \u001b[0m\u001b[46m   \u001b[0m\u001b[46m   \u001b[0m\u001b[37m . \u001b[0m\u001b[37m . \u001b[0m\u001b[37m . \u001b[0m\u001b[46m   \u001b[0m\u001b[37m . \u001b[0m\u001b[37m . \u001b[0m\u001b[37m . \u001b[0m\u001b[46m   \u001b[0m\u001b[37m . \u001b[0m\u001b[46m   \u001b[0m\u001b[37m . \u001b[0m\u001b[37m . \u001b[0m\n",
      "\u001b[37m . \u001b[0m\u001b[37m . \u001b[0m\u001b[46m   \u001b[0m\u001b[46m   \u001b[0m\u001b[46m   \u001b[0m\u001b[46m   \u001b[0m\u001b[37m . \u001b[0m\u001b[37m . \u001b[0m\u001b[37m . \u001b[0m\u001b[37m . \u001b[0m\u001b[46m   \u001b[0m\u001b[46m   \u001b[0m\u001b[37m . \u001b[0m\u001b[46m   \u001b[0m\u001b[37m . \u001b[0m\u001b[46m   \u001b[0m\u001b[37m . \u001b[0m\u001b[37m . \u001b[0m\u001b[46m   \u001b[0m\u001b[37m . \u001b[0m\u001b[37m . \u001b[0m\n",
      "\u001b[37m . \u001b[0m\u001b[37m . \u001b[0m\u001b[46m   \u001b[0m\u001b[37m . \u001b[0m\u001b[46m   \u001b[0m\u001b[46m   \u001b[0m\u001b[46m   \u001b[0m\u001b[46m   \u001b[0m\u001b[37m . \u001b[0m\u001b[37m . \u001b[0m\u001b[37m . \u001b[0m\u001b[46m   \u001b[0m\u001b[37m . \u001b[0m\u001b[46m   \u001b[0m\u001b[46m   \u001b[0m\u001b[46m   \u001b[0m\u001b[37m . \u001b[0m\u001b[46m   \u001b[0m\u001b[46m   \u001b[0m\u001b[37m . \u001b[0m\u001b[37m . \u001b[0m\n",
      "\u001b[37m . \u001b[0m\u001b[37m . \u001b[0m\u001b[46m   \u001b[0m\u001b[37m . \u001b[0m\u001b[37m . \u001b[0m\u001b[37m . \u001b[0m\u001b[37m . \u001b[0m\u001b[37m . \u001b[0m\u001b[46m   \u001b[0m\u001b[37m . \u001b[0m\u001b[46m   \u001b[0m\u001b[46m   \u001b[0m\u001b[37m . \u001b[0m\u001b[46m   \u001b[0m\u001b[37m . \u001b[0m\u001b[46m   \u001b[0m\u001b[37m . \u001b[0m\u001b[37m . \u001b[0m\u001b[46m   \u001b[0m\u001b[37m . \u001b[0m\u001b[37m . \u001b[0m\n",
      "\u001b[37m . \u001b[0m\u001b[37m . \u001b[0m\u001b[46m   \u001b[0m\u001b[37m . \u001b[0m\u001b[37m . \u001b[0m\u001b[46m   \u001b[0m\u001b[37m . \u001b[0m\u001b[37m . \u001b[0m\u001b[46m   \u001b[0m\u001b[37m . \u001b[0m\u001b[37m . \u001b[0m\u001b[37m . \u001b[0m\u001b[46m   \u001b[0m\u001b[37m . \u001b[0m\u001b[46m   \u001b[0m\u001b[46m   \u001b[0m\u001b[37m . \u001b[0m\u001b[46m   \u001b[0m\u001b[46m   \u001b[0m\u001b[37m . \u001b[0m\u001b[37m . \u001b[0m\n",
      "\u001b[37m . \u001b[0m\u001b[37m . \u001b[0m\u001b[46m   \u001b[0m\u001b[37m . \u001b[0m\u001b[46m   \u001b[0m\u001b[37m . \u001b[0m\u001b[46m   \u001b[0m\u001b[37m . \u001b[0m\u001b[37m . \u001b[0m\u001b[37m . \u001b[0m\u001b[46m   \u001b[0m\u001b[46m   \u001b[0m\u001b[37m . \u001b[0m\u001b[37m . \u001b[0m\u001b[37m . \u001b[0m\u001b[46m   \u001b[0m\u001b[37m . \u001b[0m\u001b[37m . \u001b[0m\u001b[46m   \u001b[0m\u001b[37m . \u001b[0m\u001b[37m . \u001b[0m\n",
      "\u001b[37m . \u001b[0m\u001b[37m . \u001b[0m\u001b[46m   \u001b[0m\u001b[46m   \u001b[0m\u001b[37m . \u001b[0m\u001b[37m|0|\u001b[0m\u001b[37m . \u001b[0m\u001b[37m . \u001b[0m\u001b[37m . \u001b[0m\u001b[37m . \u001b[0m\u001b[37m . \u001b[0m\u001b[37m . \u001b[0m\u001b[37m . \u001b[0m\u001b[37m . \u001b[0m\u001b[37m . \u001b[0m\u001b[46m   \u001b[0m\u001b[37m . \u001b[0m\u001b[46m   \u001b[0m\u001b[46m   \u001b[0m\u001b[37m . \u001b[0m\u001b[37m . \u001b[0m\n",
      "\u001b[37m . \u001b[0m\u001b[37m . \u001b[0m\u001b[46m   \u001b[0m\u001b[46m   \u001b[0m\u001b[37m . \u001b[0m\u001b[37m . \u001b[0m\u001b[37m . \u001b[0m\u001b[46m   \u001b[0m\u001b[37m . \u001b[0m\u001b[37m . \u001b[0m\u001b[37m . \u001b[0m\u001b[46m   \u001b[0m\u001b[46m   \u001b[0m\u001b[46m   \u001b[0m\u001b[46m   \u001b[0m\u001b[37m . \u001b[0m\u001b[46m   \u001b[0m\u001b[46m   \u001b[0m\u001b[46m   \u001b[0m\u001b[37m . \u001b[0m\u001b[37m . \u001b[0m\n",
      "\u001b[37m . \u001b[0m\u001b[37m . \u001b[0m\u001b[46m   \u001b[0m\u001b[37m . \u001b[0m\u001b[37m . \u001b[0m\u001b[46m   \u001b[0m\u001b[37m . \u001b[0m\u001b[37m . \u001b[0m\u001b[46m   \u001b[0m\u001b[46m   \u001b[0m\u001b[37m . \u001b[0m\u001b[46m   \u001b[0m\u001b[37m . \u001b[0m\u001b[46m   \u001b[0m\u001b[46m   \u001b[0m\u001b[46m   \u001b[0m\u001b[37m . \u001b[0m\u001b[46m   \u001b[0m\u001b[46m   \u001b[0m\u001b[37m . \u001b[0m\u001b[37m . \u001b[0m\n",
      "\u001b[37m . \u001b[0m\u001b[37m . \u001b[0m\u001b[46m   \u001b[0m\u001b[37m . \u001b[0m\u001b[46m   \u001b[0m\u001b[37m . \u001b[0m\u001b[37m . \u001b[0m\u001b[31;1m 0 \u001b[0m\u001b[37m . \u001b[0m\u001b[37m . \u001b[0m\u001b[46m   \u001b[0m\u001b[46m   \u001b[0m\u001b[37m . \u001b[0m\u001b[37m . \u001b[0m\u001b[37m . \u001b[0m\u001b[46m   \u001b[0m\u001b[37m . \u001b[0m\u001b[46m   \u001b[0m\u001b[46m   \u001b[0m\u001b[37m . \u001b[0m\u001b[37m . \u001b[0m\n",
      "\u001b[37m . \u001b[0m\u001b[37m . \u001b[0m\u001b[46m   \u001b[0m\u001b[46m   \u001b[0m\u001b[37m . \u001b[0m\u001b[46m   \u001b[0m\u001b[37m . \u001b[0m\u001b[46m   \u001b[0m\u001b[37m . \u001b[0m\u001b[37m . \u001b[0m\u001b[37m . \u001b[0m\u001b[46m   \u001b[0m\u001b[46m   \u001b[0m\u001b[46m   \u001b[0m\u001b[37m . \u001b[0m\u001b[37m . \u001b[0m\u001b[37m . \u001b[0m\u001b[37m . \u001b[0m\u001b[46m   \u001b[0m\u001b[37m . \u001b[0m\u001b[37m . \u001b[0m\n",
      "\u001b[37m . \u001b[0m\u001b[37m . \u001b[0m\u001b[46m   \u001b[0m\u001b[46m   \u001b[0m\u001b[46m   \u001b[0m\u001b[46m   \u001b[0m\u001b[46m   \u001b[0m\u001b[37m . \u001b[0m\u001b[37m . \u001b[0m\u001b[37m . \u001b[0m\u001b[37m . \u001b[0m\u001b[46m   \u001b[0m\u001b[46m   \u001b[0m\u001b[37m . \u001b[0m\u001b[37m . \u001b[0m\u001b[46m   \u001b[0m\u001b[37m . \u001b[0m\u001b[46m   \u001b[0m\u001b[46m   \u001b[0m\u001b[37m . \u001b[0m\u001b[37m . \u001b[0m\n",
      "\u001b[37m . \u001b[0m\u001b[37m . \u001b[0m\u001b[46m   \u001b[0m\u001b[46m   \u001b[0m\u001b[46m   \u001b[0m\u001b[37m . \u001b[0m\u001b[37m . \u001b[0m\u001b[37m . \u001b[0m\u001b[46m   \u001b[0m\u001b[46m   \u001b[0m\u001b[37m . \u001b[0m\u001b[46m   \u001b[0m\u001b[46m   \u001b[0m\u001b[46m   \u001b[0m\u001b[37m . \u001b[0m\u001b[46m   \u001b[0m\u001b[37m . \u001b[0m\u001b[37m . \u001b[0m\u001b[46m   \u001b[0m\u001b[37m . \u001b[0m\u001b[37m . \u001b[0m\n",
      "\u001b[37m . \u001b[0m\u001b[37m . \u001b[0m\u001b[46m   \u001b[0m\u001b[46m   \u001b[0m\u001b[37m . \u001b[0m\u001b[46m   \u001b[0m\u001b[37m . \u001b[0m\u001b[37m . \u001b[0m\u001b[46m   \u001b[0m\u001b[37m . \u001b[0m\u001b[37m . \u001b[0m\u001b[37m . \u001b[0m\u001b[37m . \u001b[0m\u001b[37m . \u001b[0m\u001b[37m . \u001b[0m\u001b[46m   \u001b[0m\u001b[46m   \u001b[0m\u001b[37m . \u001b[0m\u001b[46m   \u001b[0m\u001b[37m . \u001b[0m\u001b[37m . \u001b[0m\n",
      "\u001b[37m . \u001b[0m\u001b[37m . \u001b[0m\u001b[46m   \u001b[0m\u001b[46m   \u001b[0m\u001b[37m . \u001b[0m\u001b[46m   \u001b[0m\u001b[46m   \u001b[0m\u001b[37m . \u001b[0m\u001b[37m . \u001b[0m\u001b[46m   \u001b[0m\u001b[46m   \u001b[0m\u001b[37m . \u001b[0m\u001b[37m . \u001b[0m\u001b[37m . \u001b[0m\u001b[37m . \u001b[0m\u001b[46m   \u001b[0m\u001b[46m   \u001b[0m\u001b[46m   \u001b[0m\u001b[46m   \u001b[0m\u001b[37m . \u001b[0m\u001b[37m . \u001b[0m\n",
      "\u001b[37m . \u001b[0m\u001b[37m . \u001b[0m\u001b[46m   \u001b[0m\u001b[46m   \u001b[0m\u001b[46m   \u001b[0m\u001b[46m   \u001b[0m\u001b[46m   \u001b[0m\u001b[46m   \u001b[0m\u001b[46m   \u001b[0m\u001b[46m   \u001b[0m\u001b[46m   \u001b[0m\u001b[46m   \u001b[0m\u001b[46m   \u001b[0m\u001b[46m   \u001b[0m\u001b[46m   \u001b[0m\u001b[46m   \u001b[0m\u001b[46m   \u001b[0m\u001b[46m   \u001b[0m\u001b[46m   \u001b[0m\u001b[37m . \u001b[0m\u001b[37m . \u001b[0m\n",
      "\u001b[37m . \u001b[0m\u001b[37m . \u001b[0m\u001b[37m . \u001b[0m\u001b[37m . \u001b[0m\u001b[37m . \u001b[0m\u001b[37m . \u001b[0m\u001b[37m . \u001b[0m\u001b[37m . \u001b[0m\u001b[37m . \u001b[0m\u001b[37m . \u001b[0m\u001b[37m . \u001b[0m\u001b[37m . \u001b[0m\u001b[37m . \u001b[0m\u001b[37m . \u001b[0m\u001b[37m . \u001b[0m\u001b[37m . \u001b[0m\u001b[37m . \u001b[0m\u001b[37m . \u001b[0m\u001b[37m . \u001b[0m\u001b[37m . \u001b[0m\u001b[37m . \u001b[0m\n",
      "\u001b[37m . \u001b[0m\u001b[37m . \u001b[0m\u001b[37m . \u001b[0m\u001b[37m . \u001b[0m\u001b[37m . \u001b[0m\u001b[37m . \u001b[0m\u001b[37m . \u001b[0m\u001b[37m . \u001b[0m\u001b[37m . \u001b[0m\u001b[37m . \u001b[0m\u001b[37m . \u001b[0m\u001b[37m . \u001b[0m\u001b[37m . \u001b[0m\u001b[37m . \u001b[0m\u001b[37m . \u001b[0m\u001b[37m . \u001b[0m\u001b[37m . \u001b[0m\u001b[37m . \u001b[0m\u001b[37m . \u001b[0m\u001b[37m . \u001b[0m\u001b[37m . \u001b[0m\n",
      "\u001b[37m . \u001b[0m\u001b[37m . \u001b[0m\u001b[37m . \u001b[0m\u001b[37m . \u001b[0m\u001b[37m . \u001b[0m\u001b[37m . \u001b[0m\u001b[37m . \u001b[0m\u001b[37m . \u001b[0m\u001b[37m . \u001b[0m\u001b[37m . \u001b[0m\u001b[37m . \u001b[0m\u001b[37m . \u001b[0m\u001b[37m . \u001b[0m\u001b[37m . \u001b[0m\u001b[37m . \u001b[0m\u001b[37m . \u001b[0m\u001b[37m . \u001b[0m\u001b[37m . \u001b[0m\u001b[37m . \u001b[0m\u001b[37m . \u001b[0m\u001b[37m . \u001b[0m\n",
      "\u001b[37m . \u001b[0m\u001b[37m . \u001b[0m\u001b[37m . \u001b[0m\u001b[37m . \u001b[0m\u001b[37m . \u001b[0m\u001b[37m . \u001b[0m\u001b[37m . \u001b[0m\u001b[37m . \u001b[0m\u001b[37m . \u001b[0m\u001b[37m . \u001b[0m\u001b[37m . \u001b[0m\u001b[37m . \u001b[0m\u001b[37m . \u001b[0m\u001b[37m . \u001b[0m\u001b[37m . \u001b[0m\u001b[37m . \u001b[0m\u001b[37m . \u001b[0m\u001b[37m . \u001b[0m\u001b[37m . \u001b[0m\u001b[37m . \u001b[0m\u001b[37m . \u001b[0m\n",
      "\u001b[37m . \u001b[0m\u001b[37m . \u001b[0m\u001b[46m   \u001b[0m\u001b[46m   \u001b[0m\u001b[46m   \u001b[0m\u001b[46m   \u001b[0m\u001b[46m   \u001b[0m\u001b[46m   \u001b[0m\u001b[46m   \u001b[0m\u001b[46m   \u001b[0m\u001b[46m   \u001b[0m\u001b[46m   \u001b[0m\u001b[46m   \u001b[0m\u001b[46m   \u001b[0m\u001b[46m   \u001b[0m\u001b[46m   \u001b[0m\u001b[46m   \u001b[0m\u001b[46m   \u001b[0m\u001b[46m   \u001b[0m\u001b[37m . \u001b[0m\u001b[37m . \u001b[0m\n",
      "\u001b[37m . \u001b[0m\u001b[37m . \u001b[0m\u001b[46m   \u001b[0m\u001b[37m . \u001b[0m\u001b[37m . \u001b[0m\u001b[46m   \u001b[0m\u001b[37m . \u001b[0m\u001b[46m   \u001b[0m\u001b[46m   \u001b[0m\u001b[37m . \u001b[0m\u001b[37m . \u001b[0m\u001b[37m . \u001b[0m\u001b[46m   \u001b[0m\u001b[37m . \u001b[0m\u001b[37m . \u001b[0m\u001b[37m . \u001b[0m\u001b[46m   \u001b[0m\u001b[37m . \u001b[0m\u001b[46m   \u001b[0m\u001b[37m . \u001b[0m\u001b[37m . \u001b[0m\n",
      "\u001b[37m . \u001b[0m\u001b[37m . \u001b[0m\u001b[46m   \u001b[0m\u001b[46m   \u001b[0m\u001b[46m   \u001b[0m\u001b[46m   \u001b[0m\u001b[37m . \u001b[0m\u001b[37m . \u001b[0m\u001b[37m . \u001b[0m\u001b[37m . \u001b[0m\u001b[46m   \u001b[0m\u001b[46m   \u001b[0m\u001b[37m . \u001b[0m\u001b[46m   \u001b[0m\u001b[37m . \u001b[0m\u001b[46m   \u001b[0m\u001b[37m . \u001b[0m\u001b[37m . \u001b[0m\u001b[46m   \u001b[0m\u001b[37m . \u001b[0m\u001b[37m . \u001b[0m\n",
      "\u001b[37m . \u001b[0m\u001b[37m . \u001b[0m\u001b[46m   \u001b[0m\u001b[37m . \u001b[0m\u001b[46m   \u001b[0m\u001b[46m   \u001b[0m\u001b[46m   \u001b[0m\u001b[46m   \u001b[0m\u001b[37m . \u001b[0m\u001b[37m . \u001b[0m\u001b[37m . \u001b[0m\u001b[46m   \u001b[0m\u001b[37m . \u001b[0m\u001b[46m   \u001b[0m\u001b[46m   \u001b[0m\u001b[46m   \u001b[0m\u001b[37m . \u001b[0m\u001b[46m   \u001b[0m\u001b[46m   \u001b[0m\u001b[37m . \u001b[0m\u001b[37m . \u001b[0m\n",
      "\u001b[37m . \u001b[0m\u001b[37m . \u001b[0m\u001b[46m   \u001b[0m\u001b[37m . \u001b[0m\u001b[37m . \u001b[0m\u001b[37m . \u001b[0m\u001b[37m . \u001b[0m\u001b[37m . \u001b[0m\u001b[46m   \u001b[0m\u001b[37m . \u001b[0m\u001b[46m   \u001b[0m\u001b[46m   \u001b[0m\u001b[37m . \u001b[0m\u001b[46m   \u001b[0m\u001b[37m . \u001b[0m\u001b[46m   \u001b[0m\u001b[37m . \u001b[0m\u001b[37m . \u001b[0m\u001b[46m   \u001b[0m\u001b[37m . \u001b[0m\u001b[37m . \u001b[0m\n",
      "\u001b[37m . \u001b[0m\u001b[37m . \u001b[0m\u001b[46m   \u001b[0m\u001b[37m . \u001b[0m\u001b[37m . \u001b[0m\u001b[46m   \u001b[0m\u001b[37m . \u001b[0m\u001b[37m . \u001b[0m\u001b[46m   \u001b[0m\u001b[37m . \u001b[0m\u001b[37m . \u001b[0m\u001b[37m . \u001b[0m\u001b[46m   \u001b[0m\u001b[37m . \u001b[0m\u001b[46m   \u001b[0m\u001b[46m   \u001b[0m\u001b[37m . \u001b[0m\u001b[46m   \u001b[0m\u001b[46m   \u001b[0m\u001b[37m . \u001b[0m\u001b[37m . \u001b[0m\n",
      "\u001b[37m . \u001b[0m\u001b[37m . \u001b[0m\u001b[46m   \u001b[0m\u001b[37m . \u001b[0m\u001b[46m   \u001b[0m\u001b[37m . \u001b[0m\u001b[46m   \u001b[0m\u001b[37m . \u001b[0m\u001b[37m . \u001b[0m\u001b[37m . \u001b[0m\u001b[46m   \u001b[0m\u001b[46m   \u001b[0m\u001b[37m . \u001b[0m\u001b[37m . \u001b[0m\u001b[37m . \u001b[0m\u001b[46m   \u001b[0m\u001b[37m . \u001b[0m\u001b[37m . \u001b[0m\u001b[46m   \u001b[0m\u001b[37m . \u001b[0m\u001b[37m . \u001b[0m\n",
      "\u001b[37m . \u001b[0m\u001b[37m . \u001b[0m\u001b[46m   \u001b[0m\u001b[46m   \u001b[0m\u001b[37m . \u001b[0m\u001b[37m|0|\u001b[0m\u001b[37m . \u001b[0m\u001b[37m . \u001b[0m\u001b[37m . \u001b[0m\u001b[37m . \u001b[0m\u001b[37m . \u001b[0m\u001b[37m . \u001b[0m\u001b[37m . \u001b[0m\u001b[37m . \u001b[0m\u001b[37m . \u001b[0m\u001b[46m   \u001b[0m\u001b[37m . \u001b[0m\u001b[46m   \u001b[0m\u001b[46m   \u001b[0m\u001b[37m . \u001b[0m\u001b[37m . \u001b[0m\n",
      "\u001b[37m . \u001b[0m\u001b[37m . \u001b[0m\u001b[46m   \u001b[0m\u001b[46m   \u001b[0m\u001b[37m . \u001b[0m\u001b[37m . \u001b[0m\u001b[37m . \u001b[0m\u001b[46m   \u001b[0m\u001b[37m . \u001b[0m\u001b[37m . \u001b[0m\u001b[37m . \u001b[0m\u001b[46m   \u001b[0m\u001b[46m   \u001b[0m\u001b[46m   \u001b[0m\u001b[46m   \u001b[0m\u001b[37m . \u001b[0m\u001b[46m   \u001b[0m\u001b[46m   \u001b[0m\u001b[46m   \u001b[0m\u001b[37m . \u001b[0m\u001b[37m . \u001b[0m\n",
      "\u001b[37m . \u001b[0m\u001b[37m . \u001b[0m\u001b[46m   \u001b[0m\u001b[37m . \u001b[0m\u001b[37m . \u001b[0m\u001b[46m   \u001b[0m\u001b[37m . \u001b[0m\u001b[37m . \u001b[0m\u001b[46m   \u001b[0m\u001b[46m   \u001b[0m\u001b[37m . \u001b[0m\u001b[46m   \u001b[0m\u001b[37m . \u001b[0m\u001b[46m   \u001b[0m\u001b[46m   \u001b[0m\u001b[46m   \u001b[0m\u001b[37m . \u001b[0m\u001b[46m   \u001b[0m\u001b[46m   \u001b[0m\u001b[37m . \u001b[0m\u001b[37m . \u001b[0m\n",
      "\u001b[37m . \u001b[0m\u001b[37m . \u001b[0m\u001b[46m   \u001b[0m\u001b[37m . \u001b[0m\u001b[46m   \u001b[0m\u001b[37m . \u001b[0m\u001b[31;1m 0 \u001b[0m\u001b[37m . \u001b[0m\u001b[37m . \u001b[0m\u001b[37m . \u001b[0m\u001b[46m   \u001b[0m\u001b[46m   \u001b[0m\u001b[37m . \u001b[0m\u001b[37m . \u001b[0m\u001b[37m . \u001b[0m\u001b[46m   \u001b[0m\u001b[37m . \u001b[0m\u001b[46m   \u001b[0m\u001b[46m   \u001b[0m\u001b[37m . \u001b[0m\u001b[37m . \u001b[0m\n",
      "\u001b[37m . \u001b[0m\u001b[37m . \u001b[0m\u001b[46m   \u001b[0m\u001b[46m   \u001b[0m\u001b[37m . \u001b[0m\u001b[46m   \u001b[0m\u001b[37m . \u001b[0m\u001b[46m   \u001b[0m\u001b[37m . \u001b[0m\u001b[37m . \u001b[0m\u001b[37m . \u001b[0m\u001b[46m   \u001b[0m\u001b[46m   \u001b[0m\u001b[46m   \u001b[0m\u001b[37m . \u001b[0m\u001b[37m . \u001b[0m\u001b[37m . \u001b[0m\u001b[37m . \u001b[0m\u001b[46m   \u001b[0m\u001b[37m . \u001b[0m\u001b[37m . \u001b[0m\n",
      "\u001b[37m . \u001b[0m\u001b[37m . \u001b[0m\u001b[46m   \u001b[0m\u001b[46m   \u001b[0m\u001b[46m   \u001b[0m\u001b[46m   \u001b[0m\u001b[46m   \u001b[0m\u001b[37m . \u001b[0m\u001b[37m . \u001b[0m\u001b[37m . \u001b[0m\u001b[37m . \u001b[0m\u001b[46m   \u001b[0m\u001b[46m   \u001b[0m\u001b[37m . \u001b[0m\u001b[37m . \u001b[0m\u001b[46m   \u001b[0m\u001b[37m . \u001b[0m\u001b[46m   \u001b[0m\u001b[46m   \u001b[0m\u001b[37m . \u001b[0m\u001b[37m . \u001b[0m\n",
      "\u001b[37m . \u001b[0m\u001b[37m . \u001b[0m\u001b[46m   \u001b[0m\u001b[46m   \u001b[0m\u001b[46m   \u001b[0m\u001b[37m . \u001b[0m\u001b[37m . \u001b[0m\u001b[37m . \u001b[0m\u001b[46m   \u001b[0m\u001b[46m   \u001b[0m\u001b[37m . \u001b[0m\u001b[46m   \u001b[0m\u001b[46m   \u001b[0m\u001b[46m   \u001b[0m\u001b[37m . \u001b[0m\u001b[46m   \u001b[0m\u001b[37m . \u001b[0m\u001b[37m . \u001b[0m\u001b[46m   \u001b[0m\u001b[37m . \u001b[0m\u001b[37m . \u001b[0m\n",
      "\u001b[37m . \u001b[0m\u001b[37m . \u001b[0m\u001b[46m   \u001b[0m\u001b[46m   \u001b[0m\u001b[37m . \u001b[0m\u001b[46m   \u001b[0m\u001b[37m . \u001b[0m\u001b[37m . \u001b[0m\u001b[46m   \u001b[0m\u001b[37m . \u001b[0m\u001b[37m . \u001b[0m\u001b[37m . \u001b[0m\u001b[37m . \u001b[0m\u001b[37m . \u001b[0m\u001b[37m . \u001b[0m\u001b[46m   \u001b[0m\u001b[46m   \u001b[0m\u001b[37m . \u001b[0m\u001b[46m   \u001b[0m\u001b[37m . \u001b[0m\u001b[37m . \u001b[0m\n",
      "\u001b[37m . \u001b[0m\u001b[37m . \u001b[0m\u001b[46m   \u001b[0m\u001b[46m   \u001b[0m\u001b[37m . \u001b[0m\u001b[46m   \u001b[0m\u001b[46m   \u001b[0m\u001b[37m . \u001b[0m\u001b[37m . \u001b[0m\u001b[46m   \u001b[0m\u001b[46m   \u001b[0m\u001b[37m . \u001b[0m\u001b[37m . \u001b[0m\u001b[37m . \u001b[0m\u001b[37m . \u001b[0m\u001b[46m   \u001b[0m\u001b[46m   \u001b[0m\u001b[46m   \u001b[0m\u001b[46m   \u001b[0m\u001b[37m . \u001b[0m\u001b[37m . \u001b[0m\n",
      "\u001b[37m . \u001b[0m\u001b[37m . \u001b[0m\u001b[46m   \u001b[0m\u001b[46m   \u001b[0m\u001b[46m   \u001b[0m\u001b[46m   \u001b[0m\u001b[46m   \u001b[0m\u001b[46m   \u001b[0m\u001b[46m   \u001b[0m\u001b[46m   \u001b[0m\u001b[46m   \u001b[0m\u001b[46m   \u001b[0m\u001b[46m   \u001b[0m\u001b[46m   \u001b[0m\u001b[46m   \u001b[0m\u001b[46m   \u001b[0m\u001b[46m   \u001b[0m\u001b[46m   \u001b[0m\u001b[46m   \u001b[0m\u001b[37m . \u001b[0m\u001b[37m . \u001b[0m\n",
      "\u001b[37m . \u001b[0m\u001b[37m . \u001b[0m\u001b[37m . \u001b[0m\u001b[37m . \u001b[0m\u001b[37m . \u001b[0m\u001b[37m . \u001b[0m\u001b[37m . \u001b[0m\u001b[37m . \u001b[0m\u001b[37m . \u001b[0m\u001b[37m . \u001b[0m\u001b[37m . \u001b[0m\u001b[37m . \u001b[0m\u001b[37m . \u001b[0m\u001b[37m . \u001b[0m\u001b[37m . \u001b[0m\u001b[37m . \u001b[0m\u001b[37m . \u001b[0m\u001b[37m . \u001b[0m\u001b[37m . \u001b[0m\u001b[37m . \u001b[0m\u001b[37m . \u001b[0m\n",
      "\u001b[37m . \u001b[0m\u001b[37m . \u001b[0m\u001b[37m . \u001b[0m\u001b[37m . \u001b[0m\u001b[37m . \u001b[0m\u001b[37m . \u001b[0m\u001b[37m . \u001b[0m\u001b[37m . \u001b[0m\u001b[37m . \u001b[0m\u001b[37m . \u001b[0m\u001b[37m . \u001b[0m\u001b[37m . \u001b[0m\u001b[37m . \u001b[0m\u001b[37m . \u001b[0m\u001b[37m . \u001b[0m\u001b[37m . \u001b[0m\u001b[37m . \u001b[0m\u001b[37m . \u001b[0m\u001b[37m . \u001b[0m\u001b[37m . \u001b[0m\u001b[37m . \u001b[0m\n",
      "\u001b[37m . \u001b[0m\u001b[37m . \u001b[0m\u001b[37m . \u001b[0m\u001b[37m . \u001b[0m\u001b[37m . \u001b[0m\u001b[37m . \u001b[0m\u001b[37m . \u001b[0m\u001b[37m . \u001b[0m\u001b[37m . \u001b[0m\u001b[37m . \u001b[0m\u001b[37m . \u001b[0m\u001b[37m . \u001b[0m\u001b[37m . \u001b[0m\u001b[37m . \u001b[0m\u001b[37m . \u001b[0m\u001b[37m . \u001b[0m\u001b[37m . \u001b[0m\u001b[37m . \u001b[0m\u001b[37m . \u001b[0m\u001b[37m . \u001b[0m\u001b[37m . \u001b[0m\n",
      "\u001b[37m . \u001b[0m\u001b[37m . \u001b[0m\u001b[37m . \u001b[0m\u001b[37m . \u001b[0m\u001b[37m . \u001b[0m\u001b[37m . \u001b[0m\u001b[37m . \u001b[0m\u001b[37m . \u001b[0m\u001b[37m . \u001b[0m\u001b[37m . \u001b[0m\u001b[37m . \u001b[0m\u001b[37m . \u001b[0m\u001b[37m . \u001b[0m\u001b[37m . \u001b[0m\u001b[37m . \u001b[0m\u001b[37m . \u001b[0m\u001b[37m . \u001b[0m\u001b[37m . \u001b[0m\u001b[37m . \u001b[0m\u001b[37m . \u001b[0m\u001b[37m . \u001b[0m\n",
      "\u001b[37m . \u001b[0m\u001b[37m . \u001b[0m\u001b[46m   \u001b[0m\u001b[46m   \u001b[0m\u001b[46m   \u001b[0m\u001b[46m   \u001b[0m\u001b[46m   \u001b[0m\u001b[46m   \u001b[0m\u001b[46m   \u001b[0m\u001b[46m   \u001b[0m\u001b[46m   \u001b[0m\u001b[46m   \u001b[0m\u001b[46m   \u001b[0m\u001b[46m   \u001b[0m\u001b[46m   \u001b[0m\u001b[46m   \u001b[0m\u001b[46m   \u001b[0m\u001b[46m   \u001b[0m\u001b[46m   \u001b[0m\u001b[37m . \u001b[0m\u001b[37m . \u001b[0m\n",
      "\u001b[37m . \u001b[0m\u001b[37m . \u001b[0m\u001b[46m   \u001b[0m\u001b[37m . \u001b[0m\u001b[37m . \u001b[0m\u001b[46m   \u001b[0m\u001b[37m . \u001b[0m\u001b[46m   \u001b[0m\u001b[46m   \u001b[0m\u001b[37m . \u001b[0m\u001b[37m . \u001b[0m\u001b[37m . \u001b[0m\u001b[46m   \u001b[0m\u001b[37m . \u001b[0m\u001b[37m . \u001b[0m\u001b[37m . \u001b[0m\u001b[46m   \u001b[0m\u001b[37m . \u001b[0m\u001b[46m   \u001b[0m\u001b[37m . \u001b[0m\u001b[37m . \u001b[0m\n",
      "\u001b[37m . \u001b[0m\u001b[37m . \u001b[0m\u001b[46m   \u001b[0m\u001b[46m   \u001b[0m\u001b[46m   \u001b[0m\u001b[46m   \u001b[0m\u001b[37m . \u001b[0m\u001b[37m . \u001b[0m\u001b[37m . \u001b[0m\u001b[37m . \u001b[0m\u001b[46m   \u001b[0m\u001b[46m   \u001b[0m\u001b[37m . \u001b[0m\u001b[46m   \u001b[0m\u001b[37m . \u001b[0m\u001b[46m   \u001b[0m\u001b[37m . \u001b[0m\u001b[37m . \u001b[0m\u001b[46m   \u001b[0m\u001b[37m . \u001b[0m\u001b[37m . \u001b[0m\n",
      "\u001b[37m . \u001b[0m\u001b[37m . \u001b[0m\u001b[46m   \u001b[0m\u001b[37m . \u001b[0m\u001b[46m   \u001b[0m\u001b[46m   \u001b[0m\u001b[46m   \u001b[0m\u001b[46m   \u001b[0m\u001b[37m . \u001b[0m\u001b[37m . \u001b[0m\u001b[37m . \u001b[0m\u001b[46m   \u001b[0m\u001b[37m . \u001b[0m\u001b[46m   \u001b[0m\u001b[46m   \u001b[0m\u001b[46m   \u001b[0m\u001b[37m . \u001b[0m\u001b[46m   \u001b[0m\u001b[46m   \u001b[0m\u001b[37m . \u001b[0m\u001b[37m . \u001b[0m\n",
      "\u001b[37m . \u001b[0m\u001b[37m . \u001b[0m\u001b[46m   \u001b[0m\u001b[37m . \u001b[0m\u001b[37m . \u001b[0m\u001b[37m . \u001b[0m\u001b[37m . \u001b[0m\u001b[37m . \u001b[0m\u001b[46m   \u001b[0m\u001b[37m . \u001b[0m\u001b[46m   \u001b[0m\u001b[46m   \u001b[0m\u001b[37m . \u001b[0m\u001b[46m   \u001b[0m\u001b[37m . \u001b[0m\u001b[46m   \u001b[0m\u001b[37m . \u001b[0m\u001b[37m . \u001b[0m\u001b[46m   \u001b[0m\u001b[37m . \u001b[0m\u001b[37m . \u001b[0m\n",
      "\u001b[37m . \u001b[0m\u001b[37m . \u001b[0m\u001b[46m   \u001b[0m\u001b[37m . \u001b[0m\u001b[37m . \u001b[0m\u001b[46m   \u001b[0m\u001b[37m . \u001b[0m\u001b[37m . \u001b[0m\u001b[46m   \u001b[0m\u001b[37m . \u001b[0m\u001b[37m . \u001b[0m\u001b[37m . \u001b[0m\u001b[46m   \u001b[0m\u001b[37m . \u001b[0m\u001b[46m   \u001b[0m\u001b[46m   \u001b[0m\u001b[37m . \u001b[0m\u001b[46m   \u001b[0m\u001b[46m   \u001b[0m\u001b[37m . \u001b[0m\u001b[37m . \u001b[0m\n",
      "\u001b[37m . \u001b[0m\u001b[37m . \u001b[0m\u001b[46m   \u001b[0m\u001b[37m . \u001b[0m\u001b[46m   \u001b[0m\u001b[37m . \u001b[0m\u001b[46m   \u001b[0m\u001b[37m . \u001b[0m\u001b[37m . \u001b[0m\u001b[37m . \u001b[0m\u001b[46m   \u001b[0m\u001b[46m   \u001b[0m\u001b[37m . \u001b[0m\u001b[37m . \u001b[0m\u001b[37m . \u001b[0m\u001b[46m   \u001b[0m\u001b[37m . \u001b[0m\u001b[37m . \u001b[0m\u001b[46m   \u001b[0m\u001b[37m . \u001b[0m\u001b[37m . \u001b[0m\n",
      "\u001b[37m . \u001b[0m\u001b[37m . \u001b[0m\u001b[46m   \u001b[0m\u001b[46m   \u001b[0m\u001b[37m . \u001b[0m\u001b[37m|0|\u001b[0m\u001b[37m . \u001b[0m\u001b[37m . \u001b[0m\u001b[37m . \u001b[0m\u001b[37m . \u001b[0m\u001b[37m . \u001b[0m\u001b[37m . \u001b[0m\u001b[37m . \u001b[0m\u001b[37m . \u001b[0m\u001b[37m . \u001b[0m\u001b[46m   \u001b[0m\u001b[37m . \u001b[0m\u001b[46m   \u001b[0m\u001b[46m   \u001b[0m\u001b[37m . \u001b[0m\u001b[37m . \u001b[0m\n",
      "\u001b[37m . \u001b[0m\u001b[37m . \u001b[0m\u001b[46m   \u001b[0m\u001b[46m   \u001b[0m\u001b[37m . \u001b[0m\u001b[37m . \u001b[0m\u001b[37m . \u001b[0m\u001b[46m   \u001b[0m\u001b[37m . \u001b[0m\u001b[37m . \u001b[0m\u001b[37m . \u001b[0m\u001b[46m   \u001b[0m\u001b[46m   \u001b[0m\u001b[46m   \u001b[0m\u001b[46m   \u001b[0m\u001b[37m . \u001b[0m\u001b[46m   \u001b[0m\u001b[46m   \u001b[0m\u001b[46m   \u001b[0m\u001b[37m . \u001b[0m\u001b[37m . \u001b[0m\n",
      "\u001b[37m . \u001b[0m\u001b[37m . \u001b[0m\u001b[46m   \u001b[0m\u001b[37m . \u001b[0m\u001b[37m . \u001b[0m\u001b[46m   \u001b[0m\u001b[31;1m 0 \u001b[0m\u001b[37m . \u001b[0m\u001b[46m   \u001b[0m\u001b[46m   \u001b[0m\u001b[37m . \u001b[0m\u001b[46m   \u001b[0m\u001b[37m . \u001b[0m\u001b[46m   \u001b[0m\u001b[46m   \u001b[0m\u001b[46m   \u001b[0m\u001b[37m . \u001b[0m\u001b[46m   \u001b[0m\u001b[46m   \u001b[0m\u001b[37m . \u001b[0m\u001b[37m . \u001b[0m\n",
      "\u001b[37m . \u001b[0m\u001b[37m . \u001b[0m\u001b[46m   \u001b[0m\u001b[37m . \u001b[0m\u001b[46m   \u001b[0m\u001b[37m . \u001b[0m\u001b[37m . \u001b[0m\u001b[37m . \u001b[0m\u001b[37m . \u001b[0m\u001b[37m . \u001b[0m\u001b[46m   \u001b[0m\u001b[46m   \u001b[0m\u001b[37m . \u001b[0m\u001b[37m . \u001b[0m\u001b[37m . \u001b[0m\u001b[46m   \u001b[0m\u001b[37m . \u001b[0m\u001b[46m   \u001b[0m\u001b[46m   \u001b[0m\u001b[37m . \u001b[0m\u001b[37m . \u001b[0m\n",
      "\u001b[37m . \u001b[0m\u001b[37m . \u001b[0m\u001b[46m   \u001b[0m\u001b[46m   \u001b[0m\u001b[37m . \u001b[0m\u001b[46m   \u001b[0m\u001b[37m . \u001b[0m\u001b[46m   \u001b[0m\u001b[37m . \u001b[0m\u001b[37m . \u001b[0m\u001b[37m . \u001b[0m\u001b[46m   \u001b[0m\u001b[46m   \u001b[0m\u001b[46m   \u001b[0m\u001b[37m . \u001b[0m\u001b[37m . \u001b[0m\u001b[37m . \u001b[0m\u001b[37m . \u001b[0m\u001b[46m   \u001b[0m\u001b[37m . \u001b[0m\u001b[37m . \u001b[0m\n",
      "\u001b[37m . \u001b[0m\u001b[37m . \u001b[0m\u001b[46m   \u001b[0m\u001b[46m   \u001b[0m\u001b[46m   \u001b[0m\u001b[46m   \u001b[0m\u001b[46m   \u001b[0m\u001b[37m . \u001b[0m\u001b[37m . \u001b[0m\u001b[37m . \u001b[0m\u001b[37m . \u001b[0m\u001b[46m   \u001b[0m\u001b[46m   \u001b[0m\u001b[37m . \u001b[0m\u001b[37m . \u001b[0m\u001b[46m   \u001b[0m\u001b[37m . \u001b[0m\u001b[46m   \u001b[0m\u001b[46m   \u001b[0m\u001b[37m . \u001b[0m\u001b[37m . \u001b[0m\n",
      "\u001b[37m . \u001b[0m\u001b[37m . \u001b[0m\u001b[46m   \u001b[0m\u001b[46m   \u001b[0m\u001b[46m   \u001b[0m\u001b[37m . \u001b[0m\u001b[37m . \u001b[0m\u001b[37m . \u001b[0m\u001b[46m   \u001b[0m\u001b[46m   \u001b[0m\u001b[37m . \u001b[0m\u001b[46m   \u001b[0m\u001b[46m   \u001b[0m\u001b[46m   \u001b[0m\u001b[37m . \u001b[0m\u001b[46m   \u001b[0m\u001b[37m . \u001b[0m\u001b[37m . \u001b[0m\u001b[46m   \u001b[0m\u001b[37m . \u001b[0m\u001b[37m . \u001b[0m\n",
      "\u001b[37m . \u001b[0m\u001b[37m . \u001b[0m\u001b[46m   \u001b[0m\u001b[46m   \u001b[0m\u001b[37m . \u001b[0m\u001b[46m   \u001b[0m\u001b[37m . \u001b[0m\u001b[37m . \u001b[0m\u001b[46m   \u001b[0m\u001b[37m . \u001b[0m\u001b[37m . \u001b[0m\u001b[37m . \u001b[0m\u001b[37m . \u001b[0m\u001b[37m . \u001b[0m\u001b[37m . \u001b[0m\u001b[46m   \u001b[0m\u001b[46m   \u001b[0m\u001b[37m . \u001b[0m\u001b[46m   \u001b[0m\u001b[37m . \u001b[0m\u001b[37m . \u001b[0m\n",
      "\u001b[37m . \u001b[0m\u001b[37m . \u001b[0m\u001b[46m   \u001b[0m\u001b[46m   \u001b[0m\u001b[37m . \u001b[0m\u001b[46m   \u001b[0m\u001b[46m   \u001b[0m\u001b[37m . \u001b[0m\u001b[37m . \u001b[0m\u001b[46m   \u001b[0m\u001b[46m   \u001b[0m\u001b[37m . \u001b[0m\u001b[37m . \u001b[0m\u001b[37m . \u001b[0m\u001b[37m . \u001b[0m\u001b[46m   \u001b[0m\u001b[46m   \u001b[0m\u001b[46m   \u001b[0m\u001b[46m   \u001b[0m\u001b[37m . \u001b[0m\u001b[37m . \u001b[0m\n",
      "\u001b[37m . \u001b[0m\u001b[37m . \u001b[0m\u001b[46m   \u001b[0m\u001b[46m   \u001b[0m\u001b[46m   \u001b[0m\u001b[46m   \u001b[0m\u001b[46m   \u001b[0m\u001b[46m   \u001b[0m\u001b[46m   \u001b[0m\u001b[46m   \u001b[0m\u001b[46m   \u001b[0m\u001b[46m   \u001b[0m\u001b[46m   \u001b[0m\u001b[46m   \u001b[0m\u001b[46m   \u001b[0m\u001b[46m   \u001b[0m\u001b[46m   \u001b[0m\u001b[46m   \u001b[0m\u001b[46m   \u001b[0m\u001b[37m . \u001b[0m\u001b[37m . \u001b[0m\n",
      "\u001b[37m . \u001b[0m\u001b[37m . \u001b[0m\u001b[37m . \u001b[0m\u001b[37m . \u001b[0m\u001b[37m . \u001b[0m\u001b[37m . \u001b[0m\u001b[37m . \u001b[0m\u001b[37m . \u001b[0m\u001b[37m . \u001b[0m\u001b[37m . \u001b[0m\u001b[37m . \u001b[0m\u001b[37m . \u001b[0m\u001b[37m . \u001b[0m\u001b[37m . \u001b[0m\u001b[37m . \u001b[0m\u001b[37m . \u001b[0m\u001b[37m . \u001b[0m\u001b[37m . \u001b[0m\u001b[37m . \u001b[0m\u001b[37m . \u001b[0m\u001b[37m . \u001b[0m\n",
      "\u001b[37m . \u001b[0m\u001b[37m . \u001b[0m\u001b[37m . \u001b[0m\u001b[37m . \u001b[0m\u001b[37m . \u001b[0m\u001b[37m . \u001b[0m\u001b[37m . \u001b[0m\u001b[37m . \u001b[0m\u001b[37m . \u001b[0m\u001b[37m . \u001b[0m\u001b[37m . \u001b[0m\u001b[37m . \u001b[0m\u001b[37m . \u001b[0m\u001b[37m . \u001b[0m\u001b[37m . \u001b[0m\u001b[37m . \u001b[0m\u001b[37m . \u001b[0m\u001b[37m . \u001b[0m\u001b[37m . \u001b[0m\u001b[37m . \u001b[0m\u001b[37m . \u001b[0m\n",
      "\u001b[37m . \u001b[0m\u001b[37m . \u001b[0m\u001b[37m . \u001b[0m\u001b[37m . \u001b[0m\u001b[37m . \u001b[0m\u001b[37m . \u001b[0m\u001b[37m . \u001b[0m\u001b[37m . \u001b[0m\u001b[37m . \u001b[0m\u001b[37m . \u001b[0m\u001b[37m . \u001b[0m\u001b[37m . \u001b[0m\u001b[37m . \u001b[0m\u001b[37m . \u001b[0m\u001b[37m . \u001b[0m\u001b[37m . \u001b[0m\u001b[37m . \u001b[0m\u001b[37m . \u001b[0m\u001b[37m . \u001b[0m\u001b[37m . \u001b[0m\u001b[37m . \u001b[0m\n",
      "\u001b[37m . \u001b[0m\u001b[37m . \u001b[0m\u001b[37m . \u001b[0m\u001b[37m . \u001b[0m\u001b[37m . \u001b[0m\u001b[37m . \u001b[0m\u001b[37m . \u001b[0m\u001b[37m . \u001b[0m\u001b[37m . \u001b[0m\u001b[37m . \u001b[0m\u001b[37m . \u001b[0m\u001b[37m . \u001b[0m\u001b[37m . \u001b[0m\u001b[37m . \u001b[0m\u001b[37m . \u001b[0m\u001b[37m . \u001b[0m\u001b[37m . \u001b[0m\u001b[37m . \u001b[0m\u001b[37m . \u001b[0m\u001b[37m . \u001b[0m\u001b[37m . \u001b[0m\n",
      "\u001b[37m . \u001b[0m\u001b[37m . \u001b[0m\u001b[46m   \u001b[0m\u001b[46m   \u001b[0m\u001b[46m   \u001b[0m\u001b[46m   \u001b[0m\u001b[46m   \u001b[0m\u001b[46m   \u001b[0m\u001b[46m   \u001b[0m\u001b[46m   \u001b[0m\u001b[46m   \u001b[0m\u001b[46m   \u001b[0m\u001b[46m   \u001b[0m\u001b[46m   \u001b[0m\u001b[46m   \u001b[0m\u001b[46m   \u001b[0m\u001b[46m   \u001b[0m\u001b[46m   \u001b[0m\u001b[46m   \u001b[0m\u001b[37m . \u001b[0m\u001b[37m . \u001b[0m\n",
      "\u001b[37m . \u001b[0m\u001b[37m . \u001b[0m\u001b[46m   \u001b[0m\u001b[37m . \u001b[0m\u001b[37m . \u001b[0m\u001b[46m   \u001b[0m\u001b[37m . \u001b[0m\u001b[46m   \u001b[0m\u001b[46m   \u001b[0m\u001b[37m . \u001b[0m\u001b[37m . \u001b[0m\u001b[37m . \u001b[0m\u001b[46m   \u001b[0m\u001b[37m . \u001b[0m\u001b[37m . \u001b[0m\u001b[37m . \u001b[0m\u001b[46m   \u001b[0m\u001b[37m . \u001b[0m\u001b[46m   \u001b[0m\u001b[37m . \u001b[0m\u001b[37m . \u001b[0m\n",
      "\u001b[37m . \u001b[0m\u001b[37m . \u001b[0m\u001b[46m   \u001b[0m\u001b[46m   \u001b[0m\u001b[46m   \u001b[0m\u001b[46m   \u001b[0m\u001b[37m . \u001b[0m\u001b[37m . \u001b[0m\u001b[37m . \u001b[0m\u001b[37m . \u001b[0m\u001b[46m   \u001b[0m\u001b[46m   \u001b[0m\u001b[37m . \u001b[0m\u001b[46m   \u001b[0m\u001b[37m . \u001b[0m\u001b[46m   \u001b[0m\u001b[37m . \u001b[0m\u001b[37m . \u001b[0m\u001b[46m   \u001b[0m\u001b[37m . \u001b[0m\u001b[37m . \u001b[0m\n",
      "\u001b[37m . \u001b[0m\u001b[37m . \u001b[0m\u001b[46m   \u001b[0m\u001b[37m . \u001b[0m\u001b[46m   \u001b[0m\u001b[46m   \u001b[0m\u001b[46m   \u001b[0m\u001b[46m   \u001b[0m\u001b[37m . \u001b[0m\u001b[37m . \u001b[0m\u001b[37m . \u001b[0m\u001b[46m   \u001b[0m\u001b[37m . \u001b[0m\u001b[46m   \u001b[0m\u001b[46m   \u001b[0m\u001b[46m   \u001b[0m\u001b[37m . \u001b[0m\u001b[46m   \u001b[0m\u001b[46m   \u001b[0m\u001b[37m . \u001b[0m\u001b[37m . \u001b[0m\n",
      "\u001b[37m . \u001b[0m\u001b[37m . \u001b[0m\u001b[46m   \u001b[0m\u001b[37m . \u001b[0m\u001b[37m . \u001b[0m\u001b[37m . \u001b[0m\u001b[37m . \u001b[0m\u001b[37m . \u001b[0m\u001b[46m   \u001b[0m\u001b[37m . \u001b[0m\u001b[46m   \u001b[0m\u001b[46m   \u001b[0m\u001b[37m . \u001b[0m\u001b[46m   \u001b[0m\u001b[37m . \u001b[0m\u001b[46m   \u001b[0m\u001b[37m . \u001b[0m\u001b[37m . \u001b[0m\u001b[46m   \u001b[0m\u001b[37m . \u001b[0m\u001b[37m . \u001b[0m\n",
      "\u001b[37m . \u001b[0m\u001b[37m . \u001b[0m\u001b[46m   \u001b[0m\u001b[37m . \u001b[0m\u001b[37m . \u001b[0m\u001b[46m   \u001b[0m\u001b[37m . \u001b[0m\u001b[37m . \u001b[0m\u001b[46m   \u001b[0m\u001b[37m . \u001b[0m\u001b[37m . \u001b[0m\u001b[37m . \u001b[0m\u001b[46m   \u001b[0m\u001b[37m . \u001b[0m\u001b[46m   \u001b[0m\u001b[46m   \u001b[0m\u001b[37m . \u001b[0m\u001b[46m   \u001b[0m\u001b[46m   \u001b[0m\u001b[37m . \u001b[0m\u001b[37m . \u001b[0m\n",
      "\u001b[37m . \u001b[0m\u001b[37m . \u001b[0m\u001b[46m   \u001b[0m\u001b[37m . \u001b[0m\u001b[46m   \u001b[0m\u001b[37m . \u001b[0m\u001b[46m   \u001b[0m\u001b[37m . \u001b[0m\u001b[37m . \u001b[0m\u001b[37m . \u001b[0m\u001b[46m   \u001b[0m\u001b[46m   \u001b[0m\u001b[37m . \u001b[0m\u001b[37m . \u001b[0m\u001b[37m . \u001b[0m\u001b[46m   \u001b[0m\u001b[37m . \u001b[0m\u001b[37m . \u001b[0m\u001b[46m   \u001b[0m\u001b[37m . \u001b[0m\u001b[37m . \u001b[0m\n",
      "\u001b[37m . \u001b[0m\u001b[37m . \u001b[0m\u001b[46m   \u001b[0m\u001b[46m   \u001b[0m\u001b[37m . \u001b[0m\u001b[37m|0|\u001b[0m\u001b[37m . \u001b[0m\u001b[37m . \u001b[0m\u001b[37m . \u001b[0m\u001b[37m . \u001b[0m\u001b[37m . \u001b[0m\u001b[37m . \u001b[0m\u001b[37m . \u001b[0m\u001b[37m . \u001b[0m\u001b[37m . \u001b[0m\u001b[46m   \u001b[0m\u001b[37m . \u001b[0m\u001b[46m   \u001b[0m\u001b[46m   \u001b[0m\u001b[37m . \u001b[0m\u001b[37m . \u001b[0m\n",
      "\u001b[37m . \u001b[0m\u001b[37m . \u001b[0m\u001b[46m   \u001b[0m\u001b[46m   \u001b[0m\u001b[37m . \u001b[0m\u001b[37m . \u001b[0m\u001b[31;1m 0 \u001b[0m\u001b[46m   \u001b[0m\u001b[37m . \u001b[0m\u001b[37m . \u001b[0m\u001b[37m . \u001b[0m\u001b[46m   \u001b[0m\u001b[46m   \u001b[0m\u001b[46m   \u001b[0m\u001b[46m   \u001b[0m\u001b[37m . \u001b[0m\u001b[46m   \u001b[0m\u001b[46m   \u001b[0m\u001b[46m   \u001b[0m\u001b[37m . \u001b[0m\u001b[37m . \u001b[0m\n",
      "\u001b[37m . \u001b[0m\u001b[37m . \u001b[0m\u001b[46m   \u001b[0m\u001b[37m . \u001b[0m\u001b[37m . \u001b[0m\u001b[46m   \u001b[0m\u001b[37m . \u001b[0m\u001b[37m . \u001b[0m\u001b[46m   \u001b[0m\u001b[46m   \u001b[0m\u001b[37m . \u001b[0m\u001b[46m   \u001b[0m\u001b[37m . \u001b[0m\u001b[46m   \u001b[0m\u001b[46m   \u001b[0m\u001b[46m   \u001b[0m\u001b[37m . \u001b[0m\u001b[46m   \u001b[0m\u001b[46m   \u001b[0m\u001b[37m . \u001b[0m\u001b[37m . \u001b[0m\n",
      "\u001b[37m . \u001b[0m\u001b[37m . \u001b[0m\u001b[46m   \u001b[0m\u001b[37m . \u001b[0m\u001b[46m   \u001b[0m\u001b[37m . \u001b[0m\u001b[37m . \u001b[0m\u001b[37m . \u001b[0m\u001b[37m . \u001b[0m\u001b[37m . \u001b[0m\u001b[46m   \u001b[0m\u001b[46m   \u001b[0m\u001b[37m . \u001b[0m\u001b[37m . \u001b[0m\u001b[37m . \u001b[0m\u001b[46m   \u001b[0m\u001b[37m . \u001b[0m\u001b[46m   \u001b[0m\u001b[46m   \u001b[0m\u001b[37m . \u001b[0m\u001b[37m . \u001b[0m\n",
      "\u001b[37m . \u001b[0m\u001b[37m . \u001b[0m\u001b[46m   \u001b[0m\u001b[46m   \u001b[0m\u001b[37m . \u001b[0m\u001b[46m   \u001b[0m\u001b[37m . \u001b[0m\u001b[46m   \u001b[0m\u001b[37m . \u001b[0m\u001b[37m . \u001b[0m\u001b[37m . \u001b[0m\u001b[46m   \u001b[0m\u001b[46m   \u001b[0m\u001b[46m   \u001b[0m\u001b[37m . \u001b[0m\u001b[37m . \u001b[0m\u001b[37m . \u001b[0m\u001b[37m . \u001b[0m\u001b[46m   \u001b[0m\u001b[37m . \u001b[0m\u001b[37m . \u001b[0m\n",
      "\u001b[37m . \u001b[0m\u001b[37m . \u001b[0m\u001b[46m   \u001b[0m\u001b[46m   \u001b[0m\u001b[46m   \u001b[0m\u001b[46m   \u001b[0m\u001b[46m   \u001b[0m\u001b[37m . \u001b[0m\u001b[37m . \u001b[0m\u001b[37m . \u001b[0m\u001b[37m . \u001b[0m\u001b[46m   \u001b[0m\u001b[46m   \u001b[0m\u001b[37m . \u001b[0m\u001b[37m . \u001b[0m\u001b[46m   \u001b[0m\u001b[37m . \u001b[0m\u001b[46m   \u001b[0m\u001b[46m   \u001b[0m\u001b[37m . \u001b[0m\u001b[37m . \u001b[0m\n",
      "\u001b[37m . \u001b[0m\u001b[37m . \u001b[0m\u001b[46m   \u001b[0m\u001b[46m   \u001b[0m\u001b[46m   \u001b[0m\u001b[37m . \u001b[0m\u001b[37m . \u001b[0m\u001b[37m . \u001b[0m\u001b[46m   \u001b[0m\u001b[46m   \u001b[0m\u001b[37m . \u001b[0m\u001b[46m   \u001b[0m\u001b[46m   \u001b[0m\u001b[46m   \u001b[0m\u001b[37m . \u001b[0m\u001b[46m   \u001b[0m\u001b[37m . \u001b[0m\u001b[37m . \u001b[0m\u001b[46m   \u001b[0m\u001b[37m . \u001b[0m\u001b[37m . \u001b[0m\n",
      "\u001b[37m . \u001b[0m\u001b[37m . \u001b[0m\u001b[46m   \u001b[0m\u001b[46m   \u001b[0m\u001b[37m . \u001b[0m\u001b[46m   \u001b[0m\u001b[37m . \u001b[0m\u001b[37m . \u001b[0m\u001b[46m   \u001b[0m\u001b[37m . \u001b[0m\u001b[37m . \u001b[0m\u001b[37m . \u001b[0m\u001b[37m . \u001b[0m\u001b[37m . \u001b[0m\u001b[37m . \u001b[0m\u001b[46m   \u001b[0m\u001b[46m   \u001b[0m\u001b[37m . \u001b[0m\u001b[46m   \u001b[0m\u001b[37m . \u001b[0m\u001b[37m . \u001b[0m\n",
      "\u001b[37m . \u001b[0m\u001b[37m . \u001b[0m\u001b[46m   \u001b[0m\u001b[46m   \u001b[0m\u001b[37m . \u001b[0m\u001b[46m   \u001b[0m\u001b[46m   \u001b[0m\u001b[37m . \u001b[0m\u001b[37m . \u001b[0m\u001b[46m   \u001b[0m\u001b[46m   \u001b[0m\u001b[37m . \u001b[0m\u001b[37m . \u001b[0m\u001b[37m . \u001b[0m\u001b[37m . \u001b[0m\u001b[46m   \u001b[0m\u001b[46m   \u001b[0m\u001b[46m   \u001b[0m\u001b[46m   \u001b[0m\u001b[37m . \u001b[0m\u001b[37m . \u001b[0m\n",
      "\u001b[37m . \u001b[0m\u001b[37m . \u001b[0m\u001b[46m   \u001b[0m\u001b[46m   \u001b[0m\u001b[46m   \u001b[0m\u001b[46m   \u001b[0m\u001b[46m   \u001b[0m\u001b[46m   \u001b[0m\u001b[46m   \u001b[0m\u001b[46m   \u001b[0m\u001b[46m   \u001b[0m\u001b[46m   \u001b[0m\u001b[46m   \u001b[0m\u001b[46m   \u001b[0m\u001b[46m   \u001b[0m\u001b[46m   \u001b[0m\u001b[46m   \u001b[0m\u001b[46m   \u001b[0m\u001b[46m   \u001b[0m\u001b[37m . \u001b[0m\u001b[37m . \u001b[0m\n",
      "\u001b[37m . \u001b[0m\u001b[37m . \u001b[0m\u001b[37m . \u001b[0m\u001b[37m . \u001b[0m\u001b[37m . \u001b[0m\u001b[37m . \u001b[0m\u001b[37m . \u001b[0m\u001b[37m . \u001b[0m\u001b[37m . \u001b[0m\u001b[37m . \u001b[0m\u001b[37m . \u001b[0m\u001b[37m . \u001b[0m\u001b[37m . \u001b[0m\u001b[37m . \u001b[0m\u001b[37m . \u001b[0m\u001b[37m . \u001b[0m\u001b[37m . \u001b[0m\u001b[37m . \u001b[0m\u001b[37m . \u001b[0m\u001b[37m . \u001b[0m\u001b[37m . \u001b[0m\n",
      "\u001b[37m . \u001b[0m\u001b[37m . \u001b[0m\u001b[37m . \u001b[0m\u001b[37m . \u001b[0m\u001b[37m . \u001b[0m\u001b[37m . \u001b[0m\u001b[37m . \u001b[0m\u001b[37m . \u001b[0m\u001b[37m . \u001b[0m\u001b[37m . \u001b[0m\u001b[37m . \u001b[0m\u001b[37m . \u001b[0m\u001b[37m . \u001b[0m\u001b[37m . \u001b[0m\u001b[37m . \u001b[0m\u001b[37m . \u001b[0m\u001b[37m . \u001b[0m\u001b[37m . \u001b[0m\u001b[37m . \u001b[0m\u001b[37m . \u001b[0m\u001b[37m . \u001b[0m\n",
      "\u001b[37m . \u001b[0m\u001b[37m . \u001b[0m\u001b[37m . \u001b[0m\u001b[37m . \u001b[0m\u001b[37m . \u001b[0m\u001b[37m . \u001b[0m\u001b[37m . \u001b[0m\u001b[37m . \u001b[0m\u001b[37m . \u001b[0m\u001b[37m . \u001b[0m\u001b[37m . \u001b[0m\u001b[37m . \u001b[0m\u001b[37m . \u001b[0m\u001b[37m . \u001b[0m\u001b[37m . \u001b[0m\u001b[37m . \u001b[0m\u001b[37m . \u001b[0m\u001b[37m . \u001b[0m\u001b[37m . \u001b[0m\u001b[37m . \u001b[0m\u001b[37m . \u001b[0m\n",
      "\u001b[37m . \u001b[0m\u001b[37m . \u001b[0m\u001b[37m . \u001b[0m\u001b[37m . \u001b[0m\u001b[37m . \u001b[0m\u001b[37m . \u001b[0m\u001b[37m . \u001b[0m\u001b[37m . \u001b[0m\u001b[37m . \u001b[0m\u001b[37m . \u001b[0m\u001b[37m . \u001b[0m\u001b[37m . \u001b[0m\u001b[37m . \u001b[0m\u001b[37m . \u001b[0m\u001b[37m . \u001b[0m\u001b[37m . \u001b[0m\u001b[37m . \u001b[0m\u001b[37m . \u001b[0m\u001b[37m . \u001b[0m\u001b[37m . \u001b[0m\u001b[37m . \u001b[0m\n",
      "\u001b[37m . \u001b[0m\u001b[37m . \u001b[0m\u001b[46m   \u001b[0m\u001b[46m   \u001b[0m\u001b[46m   \u001b[0m\u001b[46m   \u001b[0m\u001b[46m   \u001b[0m\u001b[46m   \u001b[0m\u001b[46m   \u001b[0m\u001b[46m   \u001b[0m\u001b[46m   \u001b[0m\u001b[46m   \u001b[0m\u001b[46m   \u001b[0m\u001b[46m   \u001b[0m\u001b[46m   \u001b[0m\u001b[46m   \u001b[0m\u001b[46m   \u001b[0m\u001b[46m   \u001b[0m\u001b[46m   \u001b[0m\u001b[37m . \u001b[0m\u001b[37m . \u001b[0m\n",
      "\u001b[37m . \u001b[0m\u001b[37m . \u001b[0m\u001b[46m   \u001b[0m\u001b[37m . \u001b[0m\u001b[37m . \u001b[0m\u001b[46m   \u001b[0m\u001b[37m . \u001b[0m\u001b[46m   \u001b[0m\u001b[46m   \u001b[0m\u001b[37m . \u001b[0m\u001b[37m . \u001b[0m\u001b[37m . \u001b[0m\u001b[46m   \u001b[0m\u001b[37m . \u001b[0m\u001b[37m . \u001b[0m\u001b[37m . \u001b[0m\u001b[46m   \u001b[0m\u001b[37m . \u001b[0m\u001b[46m   \u001b[0m\u001b[37m . \u001b[0m\u001b[37m . \u001b[0m\n",
      "\u001b[37m . \u001b[0m\u001b[37m . \u001b[0m\u001b[46m   \u001b[0m\u001b[46m   \u001b[0m\u001b[46m   \u001b[0m\u001b[46m   \u001b[0m\u001b[37m . \u001b[0m\u001b[37m . \u001b[0m\u001b[37m . \u001b[0m\u001b[37m . \u001b[0m\u001b[46m   \u001b[0m\u001b[46m   \u001b[0m\u001b[37m . \u001b[0m\u001b[46m   \u001b[0m\u001b[37m . \u001b[0m\u001b[46m   \u001b[0m\u001b[37m . \u001b[0m\u001b[37m . \u001b[0m\u001b[46m   \u001b[0m\u001b[37m . \u001b[0m\u001b[37m . \u001b[0m\n",
      "\u001b[37m . \u001b[0m\u001b[37m . \u001b[0m\u001b[46m   \u001b[0m\u001b[37m . \u001b[0m\u001b[46m   \u001b[0m\u001b[46m   \u001b[0m\u001b[46m   \u001b[0m\u001b[46m   \u001b[0m\u001b[37m . \u001b[0m\u001b[37m . \u001b[0m\u001b[37m . \u001b[0m\u001b[46m   \u001b[0m\u001b[37m . \u001b[0m\u001b[46m   \u001b[0m\u001b[46m   \u001b[0m\u001b[46m   \u001b[0m\u001b[37m . \u001b[0m\u001b[46m   \u001b[0m\u001b[46m   \u001b[0m\u001b[37m . \u001b[0m\u001b[37m . \u001b[0m\n",
      "\u001b[37m . \u001b[0m\u001b[37m . \u001b[0m\u001b[46m   \u001b[0m\u001b[37m . \u001b[0m\u001b[37m . \u001b[0m\u001b[37m . \u001b[0m\u001b[37m . \u001b[0m\u001b[37m . \u001b[0m\u001b[46m   \u001b[0m\u001b[37m . \u001b[0m\u001b[46m   \u001b[0m\u001b[46m   \u001b[0m\u001b[37m . \u001b[0m\u001b[46m   \u001b[0m\u001b[37m . \u001b[0m\u001b[46m   \u001b[0m\u001b[37m . \u001b[0m\u001b[37m . \u001b[0m\u001b[46m   \u001b[0m\u001b[37m . \u001b[0m\u001b[37m . \u001b[0m\n",
      "\u001b[37m . \u001b[0m\u001b[37m . \u001b[0m\u001b[46m   \u001b[0m\u001b[37m . \u001b[0m\u001b[37m . \u001b[0m\u001b[46m   \u001b[0m\u001b[37m . \u001b[0m\u001b[37m . \u001b[0m\u001b[46m   \u001b[0m\u001b[37m . \u001b[0m\u001b[37m . \u001b[0m\u001b[37m . \u001b[0m\u001b[46m   \u001b[0m\u001b[37m . \u001b[0m\u001b[46m   \u001b[0m\u001b[46m   \u001b[0m\u001b[37m . \u001b[0m\u001b[46m   \u001b[0m\u001b[46m   \u001b[0m\u001b[37m . \u001b[0m\u001b[37m . \u001b[0m\n",
      "\u001b[37m . \u001b[0m\u001b[37m . \u001b[0m\u001b[46m   \u001b[0m\u001b[37m . \u001b[0m\u001b[46m   \u001b[0m\u001b[37m . \u001b[0m\u001b[46m   \u001b[0m\u001b[37m . \u001b[0m\u001b[37m . \u001b[0m\u001b[37m . \u001b[0m\u001b[46m   \u001b[0m\u001b[46m   \u001b[0m\u001b[37m . \u001b[0m\u001b[37m . \u001b[0m\u001b[37m . \u001b[0m\u001b[46m   \u001b[0m\u001b[37m . \u001b[0m\u001b[37m . \u001b[0m\u001b[46m   \u001b[0m\u001b[37m . \u001b[0m\u001b[37m . \u001b[0m\n",
      "\u001b[37m . \u001b[0m\u001b[37m . \u001b[0m\u001b[46m   \u001b[0m\u001b[46m   \u001b[0m\u001b[37m . \u001b[0m\u001b[37m|0|\u001b[0m\u001b[37m . \u001b[0m\u001b[37m . \u001b[0m\u001b[37m . \u001b[0m\u001b[37m . \u001b[0m\u001b[37m . \u001b[0m\u001b[37m . \u001b[0m\u001b[37m . \u001b[0m\u001b[37m . \u001b[0m\u001b[37m . \u001b[0m\u001b[46m   \u001b[0m\u001b[37m . \u001b[0m\u001b[46m   \u001b[0m\u001b[46m   \u001b[0m\u001b[37m . \u001b[0m\u001b[37m . \u001b[0m\n",
      "\u001b[37m . \u001b[0m\u001b[37m . \u001b[0m\u001b[46m   \u001b[0m\u001b[46m   \u001b[0m\u001b[37m . \u001b[0m\u001b[31;1m 0 \u001b[0m\u001b[37m . \u001b[0m\u001b[46m   \u001b[0m\u001b[37m . \u001b[0m\u001b[37m . \u001b[0m\u001b[37m . \u001b[0m\u001b[46m   \u001b[0m\u001b[46m   \u001b[0m\u001b[46m   \u001b[0m\u001b[46m   \u001b[0m\u001b[37m . \u001b[0m\u001b[46m   \u001b[0m\u001b[46m   \u001b[0m\u001b[46m   \u001b[0m\u001b[37m . \u001b[0m\u001b[37m . \u001b[0m\n",
      "\u001b[37m . \u001b[0m\u001b[37m . \u001b[0m\u001b[46m   \u001b[0m\u001b[37m . \u001b[0m\u001b[37m . \u001b[0m\u001b[46m   \u001b[0m\u001b[37m . \u001b[0m\u001b[37m . \u001b[0m\u001b[46m   \u001b[0m\u001b[46m   \u001b[0m\u001b[37m . \u001b[0m\u001b[46m   \u001b[0m\u001b[37m . \u001b[0m\u001b[46m   \u001b[0m\u001b[46m   \u001b[0m\u001b[46m   \u001b[0m\u001b[37m . \u001b[0m\u001b[46m   \u001b[0m\u001b[46m   \u001b[0m\u001b[37m . \u001b[0m\u001b[37m . \u001b[0m\n",
      "\u001b[37m . \u001b[0m\u001b[37m . \u001b[0m\u001b[46m   \u001b[0m\u001b[37m . \u001b[0m\u001b[46m   \u001b[0m\u001b[37m . \u001b[0m\u001b[37m . \u001b[0m\u001b[37m . \u001b[0m\u001b[37m . \u001b[0m\u001b[37m . \u001b[0m\u001b[46m   \u001b[0m\u001b[46m   \u001b[0m\u001b[37m . \u001b[0m\u001b[37m . \u001b[0m\u001b[37m . \u001b[0m\u001b[46m   \u001b[0m\u001b[37m . \u001b[0m\u001b[46m   \u001b[0m\u001b[46m   \u001b[0m\u001b[37m . \u001b[0m\u001b[37m . \u001b[0m\n",
      "\u001b[37m . \u001b[0m\u001b[37m . \u001b[0m\u001b[46m   \u001b[0m\u001b[46m   \u001b[0m\u001b[37m . \u001b[0m\u001b[46m   \u001b[0m\u001b[37m . \u001b[0m\u001b[46m   \u001b[0m\u001b[37m . \u001b[0m\u001b[37m . \u001b[0m\u001b[37m . \u001b[0m\u001b[46m   \u001b[0m\u001b[46m   \u001b[0m\u001b[46m   \u001b[0m\u001b[37m . \u001b[0m\u001b[37m . \u001b[0m\u001b[37m . \u001b[0m\u001b[37m . \u001b[0m\u001b[46m   \u001b[0m\u001b[37m . \u001b[0m\u001b[37m . \u001b[0m\n",
      "\u001b[37m . \u001b[0m\u001b[37m . \u001b[0m\u001b[46m   \u001b[0m\u001b[46m   \u001b[0m\u001b[46m   \u001b[0m\u001b[46m   \u001b[0m\u001b[46m   \u001b[0m\u001b[37m . \u001b[0m\u001b[37m . \u001b[0m\u001b[37m . \u001b[0m\u001b[37m . \u001b[0m\u001b[46m   \u001b[0m\u001b[46m   \u001b[0m\u001b[37m . \u001b[0m\u001b[37m . \u001b[0m\u001b[46m   \u001b[0m\u001b[37m . \u001b[0m\u001b[46m   \u001b[0m\u001b[46m   \u001b[0m\u001b[37m . \u001b[0m\u001b[37m . \u001b[0m\n",
      "\u001b[37m . \u001b[0m\u001b[37m . \u001b[0m\u001b[46m   \u001b[0m\u001b[46m   \u001b[0m\u001b[46m   \u001b[0m\u001b[37m . \u001b[0m\u001b[37m . \u001b[0m\u001b[37m . \u001b[0m\u001b[46m   \u001b[0m\u001b[46m   \u001b[0m\u001b[37m . \u001b[0m\u001b[46m   \u001b[0m\u001b[46m   \u001b[0m\u001b[46m   \u001b[0m\u001b[37m . \u001b[0m\u001b[46m   \u001b[0m\u001b[37m . \u001b[0m\u001b[37m . \u001b[0m\u001b[46m   \u001b[0m\u001b[37m . \u001b[0m\u001b[37m . \u001b[0m\n",
      "\u001b[37m . \u001b[0m\u001b[37m . \u001b[0m\u001b[46m   \u001b[0m\u001b[46m   \u001b[0m\u001b[37m . \u001b[0m\u001b[46m   \u001b[0m\u001b[37m . \u001b[0m\u001b[37m . \u001b[0m\u001b[46m   \u001b[0m\u001b[37m . \u001b[0m\u001b[37m . \u001b[0m\u001b[37m . \u001b[0m\u001b[37m . \u001b[0m\u001b[37m . \u001b[0m\u001b[37m . \u001b[0m\u001b[46m   \u001b[0m\u001b[46m   \u001b[0m\u001b[37m . \u001b[0m\u001b[46m   \u001b[0m\u001b[37m . \u001b[0m\u001b[37m . \u001b[0m\n",
      "\u001b[37m . \u001b[0m\u001b[37m . \u001b[0m\u001b[46m   \u001b[0m\u001b[46m   \u001b[0m\u001b[37m . \u001b[0m\u001b[46m   \u001b[0m\u001b[46m   \u001b[0m\u001b[37m . \u001b[0m\u001b[37m . \u001b[0m\u001b[46m   \u001b[0m\u001b[46m   \u001b[0m\u001b[37m . \u001b[0m\u001b[37m . \u001b[0m\u001b[37m . \u001b[0m\u001b[37m . \u001b[0m\u001b[46m   \u001b[0m\u001b[46m   \u001b[0m\u001b[46m   \u001b[0m\u001b[46m   \u001b[0m\u001b[37m . \u001b[0m\u001b[37m . \u001b[0m\n",
      "\u001b[37m . \u001b[0m\u001b[37m . \u001b[0m\u001b[46m   \u001b[0m\u001b[46m   \u001b[0m\u001b[46m   \u001b[0m\u001b[46m   \u001b[0m\u001b[46m   \u001b[0m\u001b[46m   \u001b[0m\u001b[46m   \u001b[0m\u001b[46m   \u001b[0m\u001b[46m   \u001b[0m\u001b[46m   \u001b[0m\u001b[46m   \u001b[0m\u001b[46m   \u001b[0m\u001b[46m   \u001b[0m\u001b[46m   \u001b[0m\u001b[46m   \u001b[0m\u001b[46m   \u001b[0m\u001b[46m   \u001b[0m\u001b[37m . \u001b[0m\u001b[37m . \u001b[0m\n",
      "\u001b[37m . \u001b[0m\u001b[37m . \u001b[0m\u001b[37m . \u001b[0m\u001b[37m . \u001b[0m\u001b[37m . \u001b[0m\u001b[37m . \u001b[0m\u001b[37m . \u001b[0m\u001b[37m . \u001b[0m\u001b[37m . \u001b[0m\u001b[37m . \u001b[0m\u001b[37m . \u001b[0m\u001b[37m . \u001b[0m\u001b[37m . \u001b[0m\u001b[37m . \u001b[0m\u001b[37m . \u001b[0m\u001b[37m . \u001b[0m\u001b[37m . \u001b[0m\u001b[37m . \u001b[0m\u001b[37m . \u001b[0m\u001b[37m . \u001b[0m\u001b[37m . \u001b[0m\n",
      "\u001b[37m . \u001b[0m\u001b[37m . \u001b[0m\u001b[37m . \u001b[0m\u001b[37m . \u001b[0m\u001b[37m . \u001b[0m\u001b[37m . \u001b[0m\u001b[37m . \u001b[0m\u001b[37m . \u001b[0m\u001b[37m . \u001b[0m\u001b[37m . \u001b[0m\u001b[37m . \u001b[0m\u001b[37m . \u001b[0m\u001b[37m . \u001b[0m\u001b[37m . \u001b[0m\u001b[37m . \u001b[0m\u001b[37m . \u001b[0m\u001b[37m . \u001b[0m\u001b[37m . \u001b[0m\u001b[37m . \u001b[0m\u001b[37m . \u001b[0m\u001b[37m . \u001b[0m\n",
      "\u001b[37m . \u001b[0m\u001b[37m . \u001b[0m\u001b[37m . \u001b[0m\u001b[37m . \u001b[0m\u001b[37m . \u001b[0m\u001b[37m . \u001b[0m\u001b[37m . \u001b[0m\u001b[37m . \u001b[0m\u001b[37m . \u001b[0m\u001b[37m . \u001b[0m\u001b[37m . \u001b[0m\u001b[37m . \u001b[0m\u001b[37m . \u001b[0m\u001b[37m . \u001b[0m\u001b[37m . \u001b[0m\u001b[37m . \u001b[0m\u001b[37m . \u001b[0m\u001b[37m . \u001b[0m\u001b[37m . \u001b[0m\u001b[37m . \u001b[0m\u001b[37m . \u001b[0m\n",
      "\u001b[37m . \u001b[0m\u001b[37m . \u001b[0m\u001b[37m . \u001b[0m\u001b[37m . \u001b[0m\u001b[37m . \u001b[0m\u001b[37m . \u001b[0m\u001b[37m . \u001b[0m\u001b[37m . \u001b[0m\u001b[37m . \u001b[0m\u001b[37m . \u001b[0m\u001b[37m . \u001b[0m\u001b[37m . \u001b[0m\u001b[37m . \u001b[0m\u001b[37m . \u001b[0m\u001b[37m . \u001b[0m\u001b[37m . \u001b[0m\u001b[37m . \u001b[0m\u001b[37m . \u001b[0m\u001b[37m . \u001b[0m\u001b[37m . \u001b[0m\u001b[37m . \u001b[0m\n",
      "\u001b[37m . \u001b[0m\u001b[37m . \u001b[0m\u001b[46m   \u001b[0m\u001b[46m   \u001b[0m\u001b[46m   \u001b[0m\u001b[46m   \u001b[0m\u001b[46m   \u001b[0m\u001b[46m   \u001b[0m\u001b[46m   \u001b[0m\u001b[46m   \u001b[0m\u001b[46m   \u001b[0m\u001b[46m   \u001b[0m\u001b[46m   \u001b[0m\u001b[46m   \u001b[0m\u001b[46m   \u001b[0m\u001b[46m   \u001b[0m\u001b[46m   \u001b[0m\u001b[46m   \u001b[0m\u001b[46m   \u001b[0m\u001b[37m . \u001b[0m\u001b[37m . \u001b[0m\n",
      "\u001b[37m . \u001b[0m\u001b[37m . \u001b[0m\u001b[46m   \u001b[0m\u001b[37m . \u001b[0m\u001b[37m . \u001b[0m\u001b[46m   \u001b[0m\u001b[37m . \u001b[0m\u001b[46m   \u001b[0m\u001b[46m   \u001b[0m\u001b[37m . \u001b[0m\u001b[37m . \u001b[0m\u001b[37m . \u001b[0m\u001b[46m   \u001b[0m\u001b[37m . \u001b[0m\u001b[37m . \u001b[0m\u001b[37m . \u001b[0m\u001b[46m   \u001b[0m\u001b[37m . \u001b[0m\u001b[46m   \u001b[0m\u001b[37m . \u001b[0m\u001b[37m . \u001b[0m\n",
      "\u001b[37m . \u001b[0m\u001b[37m . \u001b[0m\u001b[46m   \u001b[0m\u001b[46m   \u001b[0m\u001b[46m   \u001b[0m\u001b[46m   \u001b[0m\u001b[37m . \u001b[0m\u001b[37m . \u001b[0m\u001b[37m . \u001b[0m\u001b[37m . \u001b[0m\u001b[46m   \u001b[0m\u001b[46m   \u001b[0m\u001b[37m . \u001b[0m\u001b[46m   \u001b[0m\u001b[37m . \u001b[0m\u001b[46m   \u001b[0m\u001b[37m . \u001b[0m\u001b[37m . \u001b[0m\u001b[46m   \u001b[0m\u001b[37m . \u001b[0m\u001b[37m . \u001b[0m\n",
      "\u001b[37m . \u001b[0m\u001b[37m . \u001b[0m\u001b[46m   \u001b[0m\u001b[37m . \u001b[0m\u001b[46m   \u001b[0m\u001b[46m   \u001b[0m\u001b[46m   \u001b[0m\u001b[46m   \u001b[0m\u001b[37m . \u001b[0m\u001b[37m . \u001b[0m\u001b[37m . \u001b[0m\u001b[46m   \u001b[0m\u001b[37m . \u001b[0m\u001b[46m   \u001b[0m\u001b[46m   \u001b[0m\u001b[46m   \u001b[0m\u001b[37m . \u001b[0m\u001b[46m   \u001b[0m\u001b[46m   \u001b[0m\u001b[37m . \u001b[0m\u001b[37m . \u001b[0m\n",
      "\u001b[37m . \u001b[0m\u001b[37m . \u001b[0m\u001b[46m   \u001b[0m\u001b[37m . \u001b[0m\u001b[37m . \u001b[0m\u001b[37m . \u001b[0m\u001b[37m . \u001b[0m\u001b[37m . \u001b[0m\u001b[46m   \u001b[0m\u001b[37m . \u001b[0m\u001b[46m   \u001b[0m\u001b[46m   \u001b[0m\u001b[37m . \u001b[0m\u001b[46m   \u001b[0m\u001b[37m . \u001b[0m\u001b[46m   \u001b[0m\u001b[37m . \u001b[0m\u001b[37m . \u001b[0m\u001b[46m   \u001b[0m\u001b[37m . \u001b[0m\u001b[37m . \u001b[0m\n",
      "\u001b[37m . \u001b[0m\u001b[37m . \u001b[0m\u001b[46m   \u001b[0m\u001b[37m . \u001b[0m\u001b[37m . \u001b[0m\u001b[46m   \u001b[0m\u001b[37m . \u001b[0m\u001b[37m . \u001b[0m\u001b[46m   \u001b[0m\u001b[37m . \u001b[0m\u001b[37m . \u001b[0m\u001b[37m . \u001b[0m\u001b[46m   \u001b[0m\u001b[37m . \u001b[0m\u001b[46m   \u001b[0m\u001b[46m   \u001b[0m\u001b[37m . \u001b[0m\u001b[46m   \u001b[0m\u001b[46m   \u001b[0m\u001b[37m . \u001b[0m\u001b[37m . \u001b[0m\n",
      "\u001b[37m . \u001b[0m\u001b[37m . \u001b[0m\u001b[46m   \u001b[0m\u001b[37m . \u001b[0m\u001b[46m   \u001b[0m\u001b[37m . \u001b[0m\u001b[46m   \u001b[0m\u001b[37m . \u001b[0m\u001b[37m . \u001b[0m\u001b[37m . \u001b[0m\u001b[46m   \u001b[0m\u001b[46m   \u001b[0m\u001b[37m . \u001b[0m\u001b[37m . \u001b[0m\u001b[37m . \u001b[0m\u001b[46m   \u001b[0m\u001b[37m . \u001b[0m\u001b[37m . \u001b[0m\u001b[46m   \u001b[0m\u001b[37m . \u001b[0m\u001b[37m . \u001b[0m\n",
      "\u001b[37m . \u001b[0m\u001b[37m . \u001b[0m\u001b[46m   \u001b[0m\u001b[46m   \u001b[0m\u001b[37m . \u001b[0m\u001b[37m . \u001b[0m\u001b[37m . \u001b[0m\u001b[37m . \u001b[0m\u001b[37m . \u001b[0m\u001b[37m . \u001b[0m\u001b[37m . \u001b[0m\u001b[37m . \u001b[0m\u001b[37m . \u001b[0m\u001b[37m . \u001b[0m\u001b[37m . \u001b[0m\u001b[46m   \u001b[0m\u001b[37m . \u001b[0m\u001b[46m   \u001b[0m\u001b[46m   \u001b[0m\u001b[37m . \u001b[0m\u001b[37m . \u001b[0m\n",
      "\u001b[37m . \u001b[0m\u001b[37m . \u001b[0m\u001b[46m   \u001b[0m\u001b[46m   \u001b[0m\u001b[37m . \u001b[0m\u001b[37m . \u001b[0m\u001b[37m . \u001b[0m\u001b[46m   \u001b[0m\u001b[37m . \u001b[0m\u001b[37m . \u001b[0m\u001b[37m . \u001b[0m\u001b[46m   \u001b[0m\u001b[46m   \u001b[0m\u001b[46m   \u001b[0m\u001b[46m   \u001b[0m\u001b[37m . \u001b[0m\u001b[46m   \u001b[0m\u001b[46m   \u001b[0m\u001b[46m   \u001b[0m\u001b[37m . \u001b[0m\u001b[37m . \u001b[0m\n",
      "\u001b[37m . \u001b[0m\u001b[37m . \u001b[0m\u001b[46m   \u001b[0m\u001b[37m . \u001b[0m\u001b[37m . \u001b[0m\u001b[46m   \u001b[0m\u001b[37m . \u001b[0m\u001b[37m . \u001b[0m\u001b[46m   \u001b[0m\u001b[46m   \u001b[0m\u001b[37m . \u001b[0m\u001b[46m   \u001b[0m\u001b[37m . \u001b[0m\u001b[46m   \u001b[0m\u001b[46m   \u001b[0m\u001b[46m   \u001b[0m\u001b[37m . \u001b[0m\u001b[46m   \u001b[0m\u001b[46m   \u001b[0m\u001b[37m . \u001b[0m\u001b[37m . \u001b[0m\n",
      "\u001b[37m . \u001b[0m\u001b[37m . \u001b[0m\u001b[46m   \u001b[0m\u001b[37m . \u001b[0m\u001b[46m   \u001b[0m\u001b[37m . \u001b[0m\u001b[37m . \u001b[0m\u001b[37m . \u001b[0m\u001b[37m . \u001b[0m\u001b[37m . \u001b[0m\u001b[46m   \u001b[0m\u001b[46m   \u001b[0m\u001b[37m . \u001b[0m\u001b[37m . \u001b[0m\u001b[37m . \u001b[0m\u001b[46m   \u001b[0m\u001b[37m . \u001b[0m\u001b[46m   \u001b[0m\u001b[46m   \u001b[0m\u001b[37m . \u001b[0m\u001b[37m . \u001b[0m\n",
      "\u001b[37m . \u001b[0m\u001b[37m . \u001b[0m\u001b[46m   \u001b[0m\u001b[46m   \u001b[0m\u001b[37m . \u001b[0m\u001b[46m   \u001b[0m\u001b[37m . \u001b[0m\u001b[46m   \u001b[0m\u001b[37m . \u001b[0m\u001b[37m . \u001b[0m\u001b[37m . \u001b[0m\u001b[46m   \u001b[0m\u001b[46m   \u001b[0m\u001b[46m   \u001b[0m\u001b[37m . \u001b[0m\u001b[37m . \u001b[0m\u001b[37m . \u001b[0m\u001b[37m . \u001b[0m\u001b[46m   \u001b[0m\u001b[37m . \u001b[0m\u001b[37m . \u001b[0m\n",
      "\u001b[37m . \u001b[0m\u001b[37m . \u001b[0m\u001b[46m   \u001b[0m\u001b[46m   \u001b[0m\u001b[46m   \u001b[0m\u001b[46m   \u001b[0m\u001b[46m   \u001b[0m\u001b[37m . \u001b[0m\u001b[37m . \u001b[0m\u001b[37m . \u001b[0m\u001b[37m . \u001b[0m\u001b[46m   \u001b[0m\u001b[46m   \u001b[0m\u001b[37m . \u001b[0m\u001b[37m . \u001b[0m\u001b[46m   \u001b[0m\u001b[37m . \u001b[0m\u001b[46m   \u001b[0m\u001b[46m   \u001b[0m\u001b[37m . \u001b[0m\u001b[37m . \u001b[0m\n",
      "\u001b[37m . \u001b[0m\u001b[37m . \u001b[0m\u001b[46m   \u001b[0m\u001b[46m   \u001b[0m\u001b[46m   \u001b[0m\u001b[37m . \u001b[0m\u001b[37m . \u001b[0m\u001b[37m . \u001b[0m\u001b[46m   \u001b[0m\u001b[46m   \u001b[0m\u001b[37m . \u001b[0m\u001b[46m   \u001b[0m\u001b[46m   \u001b[0m\u001b[46m   \u001b[0m\u001b[37m . \u001b[0m\u001b[46m   \u001b[0m\u001b[37m . \u001b[0m\u001b[37m . \u001b[0m\u001b[46m   \u001b[0m\u001b[37m . \u001b[0m\u001b[37m . \u001b[0m\n",
      "\u001b[37m . \u001b[0m\u001b[37m . \u001b[0m\u001b[46m   \u001b[0m\u001b[46m   \u001b[0m\u001b[37m . \u001b[0m\u001b[46m   \u001b[0m\u001b[37m . \u001b[0m\u001b[37m . \u001b[0m\u001b[46m   \u001b[0m\u001b[37m . \u001b[0m\u001b[37m . \u001b[0m\u001b[37m . \u001b[0m\u001b[37m . \u001b[0m\u001b[37m . \u001b[0m\u001b[37m . \u001b[0m\u001b[46m   \u001b[0m\u001b[46m   \u001b[0m\u001b[37m . \u001b[0m\u001b[46m   \u001b[0m\u001b[37m . \u001b[0m\u001b[37m . \u001b[0m\n",
      "\u001b[37m . \u001b[0m\u001b[37m . \u001b[0m\u001b[46m   \u001b[0m\u001b[46m   \u001b[0m\u001b[37m . \u001b[0m\u001b[46m   \u001b[0m\u001b[46m   \u001b[0m\u001b[37m . \u001b[0m\u001b[37m . \u001b[0m\u001b[46m   \u001b[0m\u001b[46m   \u001b[0m\u001b[37m . \u001b[0m\u001b[37m . \u001b[0m\u001b[37m . \u001b[0m\u001b[37m . \u001b[0m\u001b[46m   \u001b[0m\u001b[46m   \u001b[0m\u001b[46m   \u001b[0m\u001b[46m   \u001b[0m\u001b[37m . \u001b[0m\u001b[37m . \u001b[0m\n",
      "\u001b[37m . \u001b[0m\u001b[37m . \u001b[0m\u001b[46m   \u001b[0m\u001b[46m   \u001b[0m\u001b[46m   \u001b[0m\u001b[46m   \u001b[0m\u001b[46m   \u001b[0m\u001b[46m   \u001b[0m\u001b[46m   \u001b[0m\u001b[46m   \u001b[0m\u001b[46m   \u001b[0m\u001b[46m   \u001b[0m\u001b[46m   \u001b[0m\u001b[46m   \u001b[0m\u001b[46m   \u001b[0m\u001b[46m   \u001b[0m\u001b[46m   \u001b[0m\u001b[46m   \u001b[0m\u001b[46m   \u001b[0m\u001b[37m . \u001b[0m\u001b[37m . \u001b[0m\n",
      "\u001b[37m . \u001b[0m\u001b[37m . \u001b[0m\u001b[37m . \u001b[0m\u001b[37m . \u001b[0m\u001b[37m . \u001b[0m\u001b[37m . \u001b[0m\u001b[37m . \u001b[0m\u001b[37m . \u001b[0m\u001b[37m . \u001b[0m\u001b[37m . \u001b[0m\u001b[37m . \u001b[0m\u001b[37m . \u001b[0m\u001b[37m . \u001b[0m\u001b[37m . \u001b[0m\u001b[37m . \u001b[0m\u001b[37m . \u001b[0m\u001b[37m . \u001b[0m\u001b[37m . \u001b[0m\u001b[37m . \u001b[0m\u001b[37m . \u001b[0m\u001b[37m . \u001b[0m\n",
      "\u001b[37m . \u001b[0m\u001b[37m . \u001b[0m\u001b[37m . \u001b[0m\u001b[37m . \u001b[0m\u001b[37m . \u001b[0m\u001b[37m . \u001b[0m\u001b[37m . \u001b[0m\u001b[37m . \u001b[0m\u001b[37m . \u001b[0m\u001b[37m . \u001b[0m\u001b[37m . \u001b[0m\u001b[37m . \u001b[0m\u001b[37m . \u001b[0m\u001b[37m . \u001b[0m\u001b[37m . \u001b[0m\u001b[37m . \u001b[0m\u001b[37m . \u001b[0m\u001b[37m . \u001b[0m\u001b[37m . \u001b[0m\u001b[37m . \u001b[0m\u001b[37m . \u001b[0m\n",
      "Total rewards: 0.10000000000000009\n"
     ]
    }
   ],
   "source": [
    "test_episodes = 1\n",
    "total_rewards = 0\n",
    "\n",
    "for _ in range(test_episodes):\n",
    "  observation = env.reset()\n",
    "  observation = observation[0].reshape(1, -1)\n",
    "  episode_reward = 0\n",
    "  while True:\n",
    "    action = cql.predict(observation)[0]\n",
    "    new_observation, reward, truncated, terminated, _ = env.step(action)\n",
    "    done = truncated | terminated\n",
    "    episode_reward += reward\n",
    "    observation = new_observation.reshape(1, -1)\n",
    "    env.render()\n",
    "    if done:\n",
    "        break\n",
    "  \n",
    "  total_rewards += episode_reward\n",
    "\n",
    "print(\"Total rewards: \" + str(total_rewards))"
   ]
  },
  {
   "cell_type": "markdown",
   "id": "46fcfa92-b0c4-494d-babc-da81c72d0587",
   "metadata": {},
   "source": [
    "Действительно, агент упорно идет к цели без лишних блужданий.\n",
    "\n",
    "# DiscreteDecisionTransformer (DT)\n",
    "Decision Transformer solves decision-making problems as a sequence modeling problem.\n",
    "\n",
    "Использую дефолтные параметры, добавляю только SoftmaxTransformerActionSampler для оценки алгоритма в процессе обучения. Нужно именно с softmax, так как action из DT выводится в виде вектора вероятностей длиной равной количеству действий. Чтобы вывести число действия и нужен softmax."
   ]
  },
  {
   "cell_type": "code",
   "execution_count": 14,
   "id": "0WNm3xiclOBF",
   "metadata": {
    "colab": {
     "base_uri": "https://localhost:8080/",
     "height": 530,
     "referenced_widgets": [
      "cee06d1869f44a3180f9f7fb5911ef96",
      "ea418f5f955241149bfe5221701b389d",
      "94f166bde7f04f8bb76a81bec57092d1",
      "a84858235d6e493a855e2de4c41228c0",
      "43305fb9bae7416f9d265066f7493409",
      "e8efaf1d8b284db28cc490aaaa0ebbd7",
      "a19f5ac074ff4775afbd7c89379d9e85",
      "3e74debb89e34d2a9dd8273436e1093e",
      "8f83ca0a7fd6410bab186f9eb8de76b7",
      "3399f52025dd47a4ba088081021f0e70",
      "39dd4d1d562e4a0dacd6f2673227b137"
     ]
    },
    "execution": {
     "iopub.execute_input": "2024-04-13T15:31:51.914524Z",
     "iopub.status.busy": "2024-04-13T15:31:51.914167Z",
     "iopub.status.idle": "2024-04-13T16:46:30.789034Z",
     "shell.execute_reply": "2024-04-13T16:46:30.788427Z",
     "shell.execute_reply.started": "2024-04-13T15:31:51.914504Z"
    },
    "id": "0WNm3xiclOBF",
    "outputId": "e47bb9a2-4dc6-4ce2-d019-14d04b708c49",
    "tags": []
   },
   "outputs": [
    {
     "name": "stdout",
     "output_type": "stream",
     "text": [
      "\u001b[2m2024-04-13 15:31.51\u001b[0m [\u001b[32m\u001b[1minfo     \u001b[0m] \u001b[1mdataset info                  \u001b[0m \u001b[36mdataset_info\u001b[0m=\u001b[35mDatasetInfo(observation_signature=Signature(dtype=[dtype('float32')], shape=[(49,)]), action_signature=Signature(dtype=[dtype('int64')], shape=[()]), reward_signature=Signature(dtype=[dtype('float32')], shape=[[1]]), action_space=<ActionSpace.DISCRETE: 2>, action_size=5)\u001b[0m\n",
      "\u001b[2m2024-04-13 15:31.51\u001b[0m [\u001b[32m\u001b[1minfo     \u001b[0m] \u001b[1mDirectory is created at d3rlpy_logs/DiscreteDecisionTransformer_20240413153151\u001b[0m\n",
      "\u001b[2m2024-04-13 15:31.51\u001b[0m [\u001b[32m\u001b[1mdebug    \u001b[0m] \u001b[1mBuilding models...            \u001b[0m\n",
      "\u001b[2m2024-04-13 15:31.51\u001b[0m [\u001b[32m\u001b[1mdebug    \u001b[0m] \u001b[1mModels have been built.       \u001b[0m\n",
      "\u001b[2m2024-04-13 15:31.51\u001b[0m [\u001b[32m\u001b[1minfo     \u001b[0m] \u001b[1mParameters                    \u001b[0m \u001b[36mparams\u001b[0m=\u001b[35m{'observation_shape': [49], 'action_size': 5, 'config': {'type': 'discrete_decision_transformer', 'params': {'batch_size': 128, 'gamma': 0.99, 'observation_scaler': {'type': 'none', 'params': {}}, 'action_scaler': {'type': 'none', 'params': {}}, 'reward_scaler': {'type': 'none', 'params': {}}, 'context_size': 20, 'max_timestep': 1000, 'learning_rate': 0.0006, 'encoder_factory': {'type': 'default', 'params': {'activation': 'relu', 'use_batch_norm': False, 'dropout_rate': None}}, 'optim_factory': {'type': 'adam', 'params': {'betas': [0.9, 0.999], 'eps': 1e-08, 'weight_decay': 0, 'amsgrad': False}}, 'num_heads': 8, 'num_layers': 6, 'attn_dropout': 0.1, 'resid_dropout': 0.1, 'embed_dropout': 0.1, 'activation_type': 'gelu', 'embed_activation_type': 'tanh', 'position_encoding_type': <PositionEncodingType.GLOBAL: 'global'>, 'warmup_tokens': 10240, 'final_tokens': 30000000, 'clip_grad_norm': 1.0, 'compile': False}}}\u001b[0m\n"
     ]
    },
    {
     "name": "stderr",
     "output_type": "stream",
     "text": [
      "Epoch 1/20: 100%|██████████| 5000/5000 [03:39<00:00, 22.79it/s, loss=0.709, learning_rate=0.000568]\n"
     ]
    },
    {
     "name": "stdout",
     "output_type": "stream",
     "text": [
      "\u001b[2m2024-04-13 15:35.34\u001b[0m [\u001b[32m\u001b[1minfo     \u001b[0m] \u001b[1mDiscreteDecisionTransformer_20240413153151: epoch=1 step=5000\u001b[0m \u001b[36mepoch\u001b[0m=\u001b[35m1\u001b[0m \u001b[36mmetrics\u001b[0m=\u001b[35m{'time_sample_batch': 0.007373399305343628, 'time_algorithm_update': 0.03605094819068909, 'loss': 0.7092557162165641, 'learning_rate': 0.0005680388415829969, 'time_step': 0.04359297285079956, 'environment': -0.3499999999999999}\u001b[0m \u001b[36mstep\u001b[0m=\u001b[35m5000\u001b[0m\n",
      "\u001b[2m2024-04-13 15:35.35\u001b[0m [\u001b[32m\u001b[1minfo     \u001b[0m] \u001b[1mModel parameters are saved to d3rlpy_logs/DiscreteDecisionTransformer_20240413153151/model_5000.d3\u001b[0m\n"
     ]
    },
    {
     "name": "stderr",
     "output_type": "stream",
     "text": [
      "Epoch 2/20: 100%|██████████| 5000/5000 [03:38<00:00, 22.91it/s, loss=0.674, learning_rate=0.000402]\n"
     ]
    },
    {
     "name": "stdout",
     "output_type": "stream",
     "text": [
      "\u001b[2m2024-04-13 15:39.18\u001b[0m [\u001b[32m\u001b[1minfo     \u001b[0m] \u001b[1mDiscreteDecisionTransformer_20240413153151: epoch=2 step=10000\u001b[0m \u001b[36mepoch\u001b[0m=\u001b[35m2\u001b[0m \u001b[36mmetrics\u001b[0m=\u001b[35m{'time_sample_batch': 0.007297223615646362, 'time_algorithm_update': 0.035892877149581906, 'loss': 0.6737064440131187, 'learning_rate': 0.00040221216723885806, 'time_step': 0.043361050891876224, 'environment': -0.7999999999999998}\u001b[0m \u001b[36mstep\u001b[0m=\u001b[35m10000\u001b[0m\n",
      "\u001b[2m2024-04-13 15:39.18\u001b[0m [\u001b[32m\u001b[1minfo     \u001b[0m] \u001b[1mModel parameters are saved to d3rlpy_logs/DiscreteDecisionTransformer_20240413153151/model_10000.d3\u001b[0m\n"
     ]
    },
    {
     "name": "stderr",
     "output_type": "stream",
     "text": [
      "Epoch 3/20: 100%|██████████| 5000/5000 [03:37<00:00, 22.94it/s, loss=0.622, learning_rate=0.000173]\n"
     ]
    },
    {
     "name": "stdout",
     "output_type": "stream",
     "text": [
      "\u001b[2m2024-04-13 15:43.02\u001b[0m [\u001b[32m\u001b[1minfo     \u001b[0m] \u001b[1mDiscreteDecisionTransformer_20240413153151: epoch=3 step=15000\u001b[0m \u001b[36mepoch\u001b[0m=\u001b[35m3\u001b[0m \u001b[36mmetrics\u001b[0m=\u001b[35m{'time_sample_batch': 0.007256852388381958, 'time_algorithm_update': 0.03587194418907166, 'loss': 0.6218542356967927, 'learning_rate': 0.00017268523052651544, 'time_step': 0.04329980845451355, 'environment': -1.0999999999999999}\u001b[0m \u001b[36mstep\u001b[0m=\u001b[35m15000\u001b[0m\n",
      "\u001b[2m2024-04-13 15:43.03\u001b[0m [\u001b[32m\u001b[1minfo     \u001b[0m] \u001b[1mModel parameters are saved to d3rlpy_logs/DiscreteDecisionTransformer_20240413153151/model_15000.d3\u001b[0m\n"
     ]
    },
    {
     "name": "stderr",
     "output_type": "stream",
     "text": [
      "Epoch 4/20: 100%|██████████| 5000/5000 [03:38<00:00, 22.92it/s, loss=0.576, learning_rate=6.06e-5]\n"
     ]
    },
    {
     "name": "stdout",
     "output_type": "stream",
     "text": [
      "\u001b[2m2024-04-13 15:46.47\u001b[0m [\u001b[32m\u001b[1minfo     \u001b[0m] \u001b[1mDiscreteDecisionTransformer_20240413153151: epoch=4 step=20000\u001b[0m \u001b[36mepoch\u001b[0m=\u001b[35m4\u001b[0m \u001b[36mmetrics\u001b[0m=\u001b[35m{'time_sample_batch': 0.007274429512023926, 'time_algorithm_update': 0.03591199374198913, 'loss': 0.576331861191988, 'learning_rate': 6.058314092320431e-05, 'time_step': 0.043356725120544434, 'environment': -1.02}\u001b[0m \u001b[36mstep\u001b[0m=\u001b[35m20000\u001b[0m\n",
      "\u001b[2m2024-04-13 15:46.47\u001b[0m [\u001b[32m\u001b[1minfo     \u001b[0m] \u001b[1mModel parameters are saved to d3rlpy_logs/DiscreteDecisionTransformer_20240413153151/model_20000.d3\u001b[0m\n"
     ]
    },
    {
     "name": "stderr",
     "output_type": "stream",
     "text": [
      "Epoch 5/20: 100%|██████████| 5000/5000 [03:38<00:00, 22.87it/s, loss=0.548, learning_rate=6.83e-5]\n"
     ]
    },
    {
     "name": "stdout",
     "output_type": "stream",
     "text": [
      "\u001b[2m2024-04-13 15:50.31\u001b[0m [\u001b[32m\u001b[1minfo     \u001b[0m] \u001b[1mDiscreteDecisionTransformer_20240413153151: epoch=5 step=25000\u001b[0m \u001b[36mepoch\u001b[0m=\u001b[35m5\u001b[0m \u001b[36mmetrics\u001b[0m=\u001b[35m{'time_sample_batch': 0.007324379110336304, 'time_algorithm_update': 0.03596124758720398, 'loss': 0.5480073208153248, 'learning_rate': 6.8345051753882e-05, 'time_step': 0.04345263514518738, 'environment': -0.9999999999999998}\u001b[0m \u001b[36mstep\u001b[0m=\u001b[35m25000\u001b[0m\n",
      "\u001b[2m2024-04-13 15:50.32\u001b[0m [\u001b[32m\u001b[1minfo     \u001b[0m] \u001b[1mModel parameters are saved to d3rlpy_logs/DiscreteDecisionTransformer_20240413153151/model_25000.d3\u001b[0m\n"
     ]
    },
    {
     "name": "stderr",
     "output_type": "stream",
     "text": [
      "Epoch 6/20: 100%|██████████| 5000/5000 [03:40<00:00, 22.72it/s, loss=0.517, learning_rate=0.000224]\n"
     ]
    },
    {
     "name": "stdout",
     "output_type": "stream",
     "text": [
      "\u001b[2m2024-04-13 15:54.17\u001b[0m [\u001b[32m\u001b[1minfo     \u001b[0m] \u001b[1mDiscreteDecisionTransformer_20240413153151: epoch=6 step=30000\u001b[0m \u001b[36mepoch\u001b[0m=\u001b[35m6\u001b[0m \u001b[36mmetrics\u001b[0m=\u001b[35m{'time_sample_batch': 0.007386889219284058, 'time_algorithm_update': 0.03618271508216858, 'loss': 0.5165827031672001, 'learning_rate': 0.00022405571555521417, 'time_step': 0.04373455257415772, 'environment': -0.8999999999999998}\u001b[0m \u001b[36mstep\u001b[0m=\u001b[35m30000\u001b[0m\n",
      "\u001b[2m2024-04-13 15:54.17\u001b[0m [\u001b[32m\u001b[1minfo     \u001b[0m] \u001b[1mModel parameters are saved to d3rlpy_logs/DiscreteDecisionTransformer_20240413153151/model_30000.d3\u001b[0m\n"
     ]
    },
    {
     "name": "stderr",
     "output_type": "stream",
     "text": [
      "Epoch 7/20: 100%|██████████| 5000/5000 [03:39<00:00, 22.76it/s, loss=0.454, learning_rate=0.000451]\n"
     ]
    },
    {
     "name": "stdout",
     "output_type": "stream",
     "text": [
      "\u001b[2m2024-04-13 15:58.03\u001b[0m [\u001b[32m\u001b[1minfo     \u001b[0m] \u001b[1mDiscreteDecisionTransformer_20240413153151: epoch=7 step=35000\u001b[0m \u001b[36mepoch\u001b[0m=\u001b[35m7\u001b[0m \u001b[36mmetrics\u001b[0m=\u001b[35m{'time_sample_batch': 0.0073406594276428224, 'time_algorithm_update': 0.03614228739738464, 'loss': 0.4542841104865074, 'learning_rate': 0.0004515155939081974, 'time_step': 0.04365042233467102, 'environment': -1.14}\u001b[0m \u001b[36mstep\u001b[0m=\u001b[35m35000\u001b[0m\n",
      "\u001b[2m2024-04-13 15:58.03\u001b[0m [\u001b[32m\u001b[1minfo     \u001b[0m] \u001b[1mModel parameters are saved to d3rlpy_logs/DiscreteDecisionTransformer_20240413153151/model_35000.d3\u001b[0m\n"
     ]
    },
    {
     "name": "stderr",
     "output_type": "stream",
     "text": [
      "Epoch 8/20: 100%|██████████| 5000/5000 [03:38<00:00, 22.90it/s, loss=0.39, learning_rate=0.000585] \n"
     ]
    },
    {
     "name": "stdout",
     "output_type": "stream",
     "text": [
      "\u001b[2m2024-04-13 16:01.46\u001b[0m [\u001b[32m\u001b[1minfo     \u001b[0m] \u001b[1mDiscreteDecisionTransformer_20240413153151: epoch=8 step=40000\u001b[0m \u001b[36mepoch\u001b[0m=\u001b[35m8\u001b[0m \u001b[36mmetrics\u001b[0m=\u001b[35m{'time_sample_batch': 0.007329999399185181, 'time_algorithm_update': 0.03590375394821167, 'loss': 0.389933638215065, 'learning_rate': 0.0005851072459109027, 'time_step': 0.043398249626159666, 'environment': -0.7099999999999999}\u001b[0m \u001b[36mstep\u001b[0m=\u001b[35m40000\u001b[0m\n",
      "\u001b[2m2024-04-13 16:01.47\u001b[0m [\u001b[32m\u001b[1minfo     \u001b[0m] \u001b[1mModel parameters are saved to d3rlpy_logs/DiscreteDecisionTransformer_20240413153151/model_40000.d3\u001b[0m\n"
     ]
    },
    {
     "name": "stderr",
     "output_type": "stream",
     "text": [
      "Epoch 9/20: 100%|██████████| 5000/5000 [03:38<00:00, 22.91it/s, loss=0.34, learning_rate=0.000542] \n"
     ]
    },
    {
     "name": "stdout",
     "output_type": "stream",
     "text": [
      "\u001b[2m2024-04-13 16:05.30\u001b[0m [\u001b[32m\u001b[1minfo     \u001b[0m] \u001b[1mDiscreteDecisionTransformer_20240413153151: epoch=9 step=45000\u001b[0m \u001b[36mepoch\u001b[0m=\u001b[35m9\u001b[0m \u001b[36mmetrics\u001b[0m=\u001b[35m{'time_sample_batch': 0.007332313060760498, 'time_algorithm_update': 0.03587887167930603, 'loss': 0.3395114963769913, 'learning_rate': 0.000542006023953896, 'time_step': 0.04337455005645752, 'environment': -0.8299999999999998}\u001b[0m \u001b[36mstep\u001b[0m=\u001b[35m45000\u001b[0m\n",
      "\u001b[2m2024-04-13 16:05.31\u001b[0m [\u001b[32m\u001b[1minfo     \u001b[0m] \u001b[1mModel parameters are saved to d3rlpy_logs/DiscreteDecisionTransformer_20240413153151/model_45000.d3\u001b[0m\n"
     ]
    },
    {
     "name": "stderr",
     "output_type": "stream",
     "text": [
      "Epoch 10/20: 100%|██████████| 5000/5000 [03:38<00:00, 22.89it/s, loss=0.298, learning_rate=0.000349]\n"
     ]
    },
    {
     "name": "stdout",
     "output_type": "stream",
     "text": [
      "\u001b[2m2024-04-13 16:09.14\u001b[0m [\u001b[32m\u001b[1minfo     \u001b[0m] \u001b[1mDiscreteDecisionTransformer_20240413153151: epoch=10 step=50000\u001b[0m \u001b[36mepoch\u001b[0m=\u001b[35m10\u001b[0m \u001b[36mmetrics\u001b[0m=\u001b[35m{'time_sample_batch': 0.007309520006179809, 'time_algorithm_update': 0.03594467101097107, 'loss': 0.2984038496851921, 'learning_rate': 0.0003491838729952355, 'time_step': 0.04341415386199951, 'environment': -0.7299999999999998}\u001b[0m \u001b[36mstep\u001b[0m=\u001b[35m50000\u001b[0m\n",
      "\u001b[2m2024-04-13 16:09.14\u001b[0m [\u001b[32m\u001b[1minfo     \u001b[0m] \u001b[1mModel parameters are saved to d3rlpy_logs/DiscreteDecisionTransformer_20240413153151/model_50000.d3\u001b[0m\n"
     ]
    },
    {
     "name": "stderr",
     "output_type": "stream",
     "text": [
      "Epoch 11/20: 100%|██████████| 5000/5000 [03:38<00:00, 22.92it/s, loss=0.269, learning_rate=0.000127]\n"
     ]
    },
    {
     "name": "stdout",
     "output_type": "stream",
     "text": [
      "\u001b[2m2024-04-13 16:12.58\u001b[0m [\u001b[32m\u001b[1minfo     \u001b[0m] \u001b[1mDiscreteDecisionTransformer_20240413153151: epoch=11 step=55000\u001b[0m \u001b[36mepoch\u001b[0m=\u001b[35m11\u001b[0m \u001b[36mmetrics\u001b[0m=\u001b[35m{'time_sample_batch': 0.007351127052307129, 'time_algorithm_update': 0.03585959053039551, 'loss': 0.2692433037519455, 'learning_rate': 0.0001272960174707134, 'time_step': 0.04336924815177917, 'environment': -0.5099999999999999}\u001b[0m \u001b[36mstep\u001b[0m=\u001b[35m55000\u001b[0m\n",
      "\u001b[2m2024-04-13 16:12.58\u001b[0m [\u001b[32m\u001b[1minfo     \u001b[0m] \u001b[1mModel parameters are saved to d3rlpy_logs/DiscreteDecisionTransformer_20240413153151/model_55000.d3\u001b[0m\n"
     ]
    },
    {
     "name": "stderr",
     "output_type": "stream",
     "text": [
      "Epoch 12/20: 100%|██████████| 5000/5000 [03:38<00:00, 22.93it/s, loss=0.259, learning_rate=6e-5]\n"
     ]
    },
    {
     "name": "stdout",
     "output_type": "stream",
     "text": [
      "\u001b[2m2024-04-13 16:16.41\u001b[0m [\u001b[32m\u001b[1minfo     \u001b[0m] \u001b[1mDiscreteDecisionTransformer_20240413153151: epoch=12 step=60000\u001b[0m \u001b[36mepoch\u001b[0m=\u001b[35m12\u001b[0m \u001b[36mmetrics\u001b[0m=\u001b[35m{'time_sample_batch': 0.0073252102375030515, 'time_algorithm_update': 0.035852268123626706, 'loss': 0.2591750016272068, 'learning_rate': 6.000000000000334e-05, 'time_step': 0.043335738134384155, 'environment': -0.5499999999999999}\u001b[0m \u001b[36mstep\u001b[0m=\u001b[35m60000\u001b[0m\n",
      "\u001b[2m2024-04-13 16:16.42\u001b[0m [\u001b[32m\u001b[1minfo     \u001b[0m] \u001b[1mModel parameters are saved to d3rlpy_logs/DiscreteDecisionTransformer_20240413153151/model_60000.d3\u001b[0m\n"
     ]
    },
    {
     "name": "stderr",
     "output_type": "stream",
     "text": [
      "Epoch 13/20: 100%|██████████| 5000/5000 [03:37<00:00, 22.94it/s, loss=0.258, learning_rate=8.6e-5] \n"
     ]
    },
    {
     "name": "stdout",
     "output_type": "stream",
     "text": [
      "\u001b[2m2024-04-13 16:20.24\u001b[0m [\u001b[32m\u001b[1minfo     \u001b[0m] \u001b[1mDiscreteDecisionTransformer_20240413153151: epoch=13 step=65000\u001b[0m \u001b[36mepoch\u001b[0m=\u001b[35m13\u001b[0m \u001b[36mmetrics\u001b[0m=\u001b[35m{'time_sample_batch': 0.007322647380828857, 'time_algorithm_update': 0.03585564022064209, 'loss': 0.2581567503660917, 'learning_rate': 8.610096491204865e-05, 'time_step': 0.043333423566818234, 'environment': -0.3999999999999998}\u001b[0m \u001b[36mstep\u001b[0m=\u001b[35m65000\u001b[0m\n",
      "\u001b[2m2024-04-13 16:20.24\u001b[0m [\u001b[32m\u001b[1minfo     \u001b[0m] \u001b[1mModel parameters are saved to d3rlpy_logs/DiscreteDecisionTransformer_20240413153151/model_65000.d3\u001b[0m\n"
     ]
    },
    {
     "name": "stderr",
     "output_type": "stream",
     "text": [
      "Epoch 14/20: 100%|██████████| 5000/5000 [03:38<00:00, 22.92it/s, loss=0.271, learning_rate=0.000277]\n"
     ]
    },
    {
     "name": "stdout",
     "output_type": "stream",
     "text": [
      "\u001b[2m2024-04-13 16:24.07\u001b[0m [\u001b[32m\u001b[1minfo     \u001b[0m] \u001b[1mDiscreteDecisionTransformer_20240413153151: epoch=14 step=70000\u001b[0m \u001b[36mepoch\u001b[0m=\u001b[35m14\u001b[0m \u001b[36mmetrics\u001b[0m=\u001b[35m{'time_sample_batch': 0.00735313549041748, 'time_algorithm_update': 0.03585658974647522, 'loss': 0.27124518518149854, 'learning_rate': 0.0002774630457679244, 'time_step': 0.043367999744415284, 'environment': -0.7199999999999999}\u001b[0m \u001b[36mstep\u001b[0m=\u001b[35m70000\u001b[0m\n",
      "\u001b[2m2024-04-13 16:24.08\u001b[0m [\u001b[32m\u001b[1minfo     \u001b[0m] \u001b[1mModel parameters are saved to d3rlpy_logs/DiscreteDecisionTransformer_20240413153151/model_70000.d3\u001b[0m\n"
     ]
    },
    {
     "name": "stderr",
     "output_type": "stream",
     "text": [
      "Epoch 15/20: 100%|██████████| 5000/5000 [03:38<00:00, 22.92it/s, loss=0.285, learning_rate=0.000495]\n"
     ]
    },
    {
     "name": "stdout",
     "output_type": "stream",
     "text": [
      "\u001b[2m2024-04-13 16:27.51\u001b[0m [\u001b[32m\u001b[1minfo     \u001b[0m] \u001b[1mDiscreteDecisionTransformer_20240413153151: epoch=15 step=75000\u001b[0m \u001b[36mepoch\u001b[0m=\u001b[35m15\u001b[0m \u001b[36mmetrics\u001b[0m=\u001b[35m{'time_sample_batch': 0.007341845560073852, 'time_algorithm_update': 0.03586576547622681, 'loss': 0.28480436797738073, 'learning_rate': 0.0004951338256513288, 'time_step': 0.04336958036422729, 'environment': -0.7099999999999997}\u001b[0m \u001b[36mstep\u001b[0m=\u001b[35m75000\u001b[0m\n",
      "\u001b[2m2024-04-13 16:27.51\u001b[0m [\u001b[32m\u001b[1minfo     \u001b[0m] \u001b[1mModel parameters are saved to d3rlpy_logs/DiscreteDecisionTransformer_20240413153151/model_75000.d3\u001b[0m\n"
     ]
    },
    {
     "name": "stderr",
     "output_type": "stream",
     "text": [
      "Epoch 16/20: 100%|██████████| 5000/5000 [03:38<00:00, 22.89it/s, loss=0.284, learning_rate=0.000592]\n"
     ]
    },
    {
     "name": "stdout",
     "output_type": "stream",
     "text": [
      "\u001b[2m2024-04-13 16:31.34\u001b[0m [\u001b[32m\u001b[1minfo     \u001b[0m] \u001b[1mDiscreteDecisionTransformer_20240413153151: epoch=16 step=80000\u001b[0m \u001b[36mepoch\u001b[0m=\u001b[35m16\u001b[0m \u001b[36mmetrics\u001b[0m=\u001b[35m{'time_sample_batch': 0.0073350699424743655, 'time_algorithm_update': 0.03590976858139038, 'loss': 0.28432686120569706, 'learning_rate': 0.000591768237085244, 'time_step': 0.04340953602790833, 'environment': -0.4299999999999999}\u001b[0m \u001b[36mstep\u001b[0m=\u001b[35m80000\u001b[0m\n",
      "\u001b[2m2024-04-13 16:31.34\u001b[0m [\u001b[32m\u001b[1minfo     \u001b[0m] \u001b[1mModel parameters are saved to d3rlpy_logs/DiscreteDecisionTransformer_20240413153151/model_80000.d3\u001b[0m\n"
     ]
    },
    {
     "name": "stderr",
     "output_type": "stream",
     "text": [
      "Epoch 17/20: 100%|██████████| 5000/5000 [03:39<00:00, 22.80it/s, loss=0.271, learning_rate=0.000508]\n"
     ]
    },
    {
     "name": "stdout",
     "output_type": "stream",
     "text": [
      "\u001b[2m2024-04-13 16:35.18\u001b[0m [\u001b[32m\u001b[1minfo     \u001b[0m] \u001b[1mDiscreteDecisionTransformer_20240413153151: epoch=17 step=85000\u001b[0m \u001b[36mepoch\u001b[0m=\u001b[35m17\u001b[0m \u001b[36mmetrics\u001b[0m=\u001b[35m{'time_sample_batch': 0.007338254547119141, 'time_algorithm_update': 0.03608262977600098, 'loss': 0.2706620144277811, 'learning_rate': 0.0005080521014203305, 'time_step': 0.04358657422065735, 'environment': -0.7999999999999998}\u001b[0m \u001b[36mstep\u001b[0m=\u001b[35m85000\u001b[0m\n",
      "\u001b[2m2024-04-13 16:35.19\u001b[0m [\u001b[32m\u001b[1minfo     \u001b[0m] \u001b[1mModel parameters are saved to d3rlpy_logs/DiscreteDecisionTransformer_20240413153151/model_85000.d3\u001b[0m\n"
     ]
    },
    {
     "name": "stderr",
     "output_type": "stream",
     "text": [
      "Epoch 18/20: 100%|██████████| 5000/5000 [03:38<00:00, 22.87it/s, loss=0.252, learning_rate=0.000296]\n"
     ]
    },
    {
     "name": "stdout",
     "output_type": "stream",
     "text": [
      "\u001b[2m2024-04-13 16:39.03\u001b[0m [\u001b[32m\u001b[1minfo     \u001b[0m] \u001b[1mDiscreteDecisionTransformer_20240413153151: epoch=18 step=90000\u001b[0m \u001b[36mepoch\u001b[0m=\u001b[35m18\u001b[0m \u001b[36mmetrics\u001b[0m=\u001b[35m{'time_sample_batch': 0.007353118705749511, 'time_algorithm_update': 0.035955168390274045, 'loss': 0.2520908653974533, 'learning_rate': 0.00029557506132978653, 'time_step': 0.04346651391983032, 'environment': -0.7199999999999999}\u001b[0m \u001b[36mstep\u001b[0m=\u001b[35m90000\u001b[0m\n",
      "\u001b[2m2024-04-13 16:39.03\u001b[0m [\u001b[32m\u001b[1minfo     \u001b[0m] \u001b[1mModel parameters are saved to d3rlpy_logs/DiscreteDecisionTransformer_20240413153151/model_90000.d3\u001b[0m\n"
     ]
    },
    {
     "name": "stderr",
     "output_type": "stream",
     "text": [
      "Epoch 19/20: 100%|██████████| 5000/5000 [03:38<00:00, 22.88it/s, loss=0.238, learning_rate=9.46e-5] \n"
     ]
    },
    {
     "name": "stdout",
     "output_type": "stream",
     "text": [
      "\u001b[2m2024-04-13 16:42.47\u001b[0m [\u001b[32m\u001b[1minfo     \u001b[0m] \u001b[1mDiscreteDecisionTransformer_20240413153151: epoch=19 step=95000\u001b[0m \u001b[36mepoch\u001b[0m=\u001b[35m19\u001b[0m \u001b[36mmetrics\u001b[0m=\u001b[35m{'time_sample_batch': 0.007394834995269776, 'time_algorithm_update': 0.035881840991973876, 'loss': 0.2380394781023264, 'learning_rate': 9.451973161043575e-05, 'time_step': 0.04343971219062805, 'environment': -0.7999999999999998}\u001b[0m \u001b[36mstep\u001b[0m=\u001b[35m95000\u001b[0m\n",
      "\u001b[2m2024-04-13 16:42.47\u001b[0m [\u001b[32m\u001b[1minfo     \u001b[0m] \u001b[1mModel parameters are saved to d3rlpy_logs/DiscreteDecisionTransformer_20240413153151/model_95000.d3\u001b[0m\n"
     ]
    },
    {
     "name": "stderr",
     "output_type": "stream",
     "text": [
      "Epoch 20/20: 100%|██████████| 5000/5000 [03:38<00:00, 22.88it/s, loss=0.234, learning_rate=6e-5]\n"
     ]
    },
    {
     "name": "stdout",
     "output_type": "stream",
     "text": [
      "\u001b[2m2024-04-13 16:46.30\u001b[0m [\u001b[32m\u001b[1minfo     \u001b[0m] \u001b[1mDiscreteDecisionTransformer_20240413153151: epoch=20 step=100000\u001b[0m \u001b[36mepoch\u001b[0m=\u001b[35m20\u001b[0m \u001b[36mmetrics\u001b[0m=\u001b[35m{'time_sample_batch': 0.007357671976089477, 'time_algorithm_update': 0.03592076559066772, 'loss': 0.23446990419626235, 'learning_rate': 6.000000000000334e-05, 'time_step': 0.04344402160644531, 'environment': -0.5099999999999999}\u001b[0m \u001b[36mstep\u001b[0m=\u001b[35m100000\u001b[0m\n",
      "\u001b[2m2024-04-13 16:46.30\u001b[0m [\u001b[32m\u001b[1minfo     \u001b[0m] \u001b[1mModel parameters are saved to d3rlpy_logs/DiscreteDecisionTransformer_20240413153151/model_100000.d3\u001b[0m\n"
     ]
    }
   ],
   "source": [
    "dt = d3rlpy.algos.DiscreteDecisionTransformerConfig().create(device=\"cuda:0\")\n",
    "\n",
    "# offline training\n",
    "statistics_dt = dt.fit(\n",
    "   dqn_buffer,\n",
    "   n_steps=100000,\n",
    "   n_steps_per_epoch=5000,\n",
    "   eval_env=env,\n",
    "   eval_target_return=0,\n",
    "   # manually specify action-sampler\n",
    "   eval_action_sampler=d3rlpy.algos.SoftmaxTransformerActionSampler(),\n",
    ")"
   ]
  },
  {
   "cell_type": "markdown",
   "id": "104a65ae-829a-4b36-ae6b-a0cdce1d8b0f",
   "metadata": {},
   "source": [
    "Печально, но с трансформерами не собралась переменная statistics. Для отображения графика обучения пришлось отдельно выгрузить данные из логов."
   ]
  },
  {
   "cell_type": "code",
   "execution_count": 25,
   "id": "8127c3d2-93e6-4e09-9b07-51ab598e3a9d",
   "metadata": {
    "execution": {
     "iopub.execute_input": "2024-04-13T16:52:21.585710Z",
     "iopub.status.busy": "2024-04-13T16:52:21.585293Z",
     "iopub.status.idle": "2024-04-13T16:52:21.615073Z",
     "shell.execute_reply": "2024-04-13T16:52:21.614331Z",
     "shell.execute_reply.started": "2024-04-13T16:52:21.585690Z"
    },
    "tags": []
   },
   "outputs": [],
   "source": [
    "import pandas as pd\n",
    "dt_statistics = pd.read_csv('d3rlpy_logs/DiscreteDecisionTransformer_20240413153151/environment.csv', header=None)"
   ]
  },
  {
   "cell_type": "code",
   "execution_count": 26,
   "id": "394dbd2c-04c6-42b1-a260-7dc582548a92",
   "metadata": {
    "colab": {
     "base_uri": "https://localhost:8080/",
     "height": 453
    },
    "execution": {
     "iopub.execute_input": "2024-04-13T16:53:37.385312Z",
     "iopub.status.busy": "2024-04-13T16:53:37.384916Z",
     "iopub.status.idle": "2024-04-13T16:53:37.566493Z",
     "shell.execute_reply": "2024-04-13T16:53:37.565941Z",
     "shell.execute_reply.started": "2024-04-13T16:53:37.385290Z"
    },
    "id": "394dbd2c-04c6-42b1-a260-7dc582548a92",
    "outputId": "95c3e0c5-bfe3-49ca-b2d6-08e55c288277",
    "tags": []
   },
   "outputs": [
    {
     "data": {
      "image/png": "[encoded data removed]",
      "text/plain": [
       "<Figure size 432x288 with 1 Axes>"
      ]
     },
     "metadata": {
      "needs_background": "light"
     },
     "output_type": "display_data"
    }
   ],
   "source": [
    "plot_metrics(statistics_bc, \"BC-strategy\")\n",
    "plt.plot(dt_statistics[2], label=\"DT-strategy\")\n",
    "#plot_metrics(statistics_dt, \"DT-strategy\")\n",
    "plot_metrics(statistics_cql, \"CQL-strategy\")\n",
    "plt.xlabel(\"Epochs\")\n",
    "plt.ylabel(\"Returns\")\n",
    "plt.legend()\n",
    "plt.grid()"
   ]
  },
  {
   "cell_type": "markdown",
   "id": "eb3a2c80-da80-4565-a715-2ff7fc5a015e",
   "metadata": {},
   "source": [
    "# Выводы по offline обучению на эталонных данных\n",
    "\n",
    "BC и CQL отлично себя показали, получив самые высокие максимально возможное вознаграждение уже на 1-й эпохе. Для этих алгоритмов выбранный seed оказался очень простым. А вот трансформеры и учились дольше тоже кол-во эпох, и не доучились. Видно на графике прирост метрики, но очень медленный. Возможно нужно обучаться дольше, но в эксперименте я ставили одинаковое кол-во шагов для всех алгоритмов, чтобы можно было сравнивать. \n",
    "\n",
    "\n",
    "# Часть 2. Обучение offline на смешанных данных\n",
    "\n",
    "Для того, чтобы данные перестали быть эталонными, нужно добавить к ним данные из рандомно собранного буфера состояний. В d3rlpy есть для этого алгоритм DiscreteRandomPolicyConfig. С помощью него соберем буфер такой же, как и с DQN в 100 000."
   ]
  },
  {
   "cell_type": "code",
   "execution_count": 28,
   "id": "1FS3trOniPfq",
   "metadata": {
    "execution": {
     "iopub.execute_input": "2024-04-13T16:54:21.302680Z",
     "iopub.status.busy": "2024-04-13T16:54:21.302217Z",
     "iopub.status.idle": "2024-04-13T16:54:31.717840Z",
     "shell.execute_reply": "2024-04-13T16:54:31.717290Z",
     "shell.execute_reply.started": "2024-04-13T16:54:21.302660Z"
    },
    "id": "1FS3trOniPfq",
    "tags": []
   },
   "outputs": [
    {
     "name": "stdout",
     "output_type": "stream",
     "text": [
      "\u001b[2m2024-04-13 16:54.21\u001b[0m [\u001b[32m\u001b[1minfo     \u001b[0m] \u001b[1mSignatures have been automatically determined.\u001b[0m \u001b[36maction_signature\u001b[0m=\u001b[35mSignature(dtype=[dtype('int64')], shape=[()])\u001b[0m \u001b[36mobservation_signature\u001b[0m=\u001b[35mSignature(dtype=[dtype('float32')], shape=[(49,)])\u001b[0m \u001b[36mreward_signature\u001b[0m=\u001b[35mSignature(dtype=[dtype('float32')], shape=[[1]])\u001b[0m\n",
      "\u001b[2m2024-04-13 16:54.21\u001b[0m [\u001b[32m\u001b[1minfo     \u001b[0m] \u001b[1mAction-space has been automatically determined.\u001b[0m \u001b[36maction_space\u001b[0m=\u001b[35m<ActionSpace.DISCRETE: 2>\u001b[0m\n",
      "\u001b[2m2024-04-13 16:54.21\u001b[0m [\u001b[32m\u001b[1minfo     \u001b[0m] \u001b[1mAction size has been automatically determined.\u001b[0m \u001b[36maction_size\u001b[0m=\u001b[35m5\u001b[0m\n",
      "\u001b[2m2024-04-13 16:54.21\u001b[0m [\u001b[32m\u001b[1mdebug    \u001b[0m] \u001b[1mBuilding model...             \u001b[0m\n",
      "\u001b[2m2024-04-13 16:54.21\u001b[0m [\u001b[32m\u001b[1mdebug    \u001b[0m] \u001b[1mModel has been built.         \u001b[0m\n"
     ]
    },
    {
     "name": "stderr",
     "output_type": "stream",
     "text": [
      "100%|██████████| 100000/100000 [00:10<00:00, 9660.87it/s]\n"
     ]
    },
    {
     "data": {
      "text/plain": [
       "<d3rlpy.dataset.replay_buffer.ReplayBuffer at 0x7f7015240580>"
      ]
     },
     "execution_count": 28,
     "metadata": {},
     "output_type": "execute_result"
    }
   ],
   "source": [
    "# setup algorithm\n",
    "random_policy = d3rlpy.algos.DiscreteRandomPolicyConfig().create()\n",
    "\n",
    "# prepare experience replay buffer\n",
    "random_buffer = d3rlpy.dataset.create_fifo_replay_buffer(limit=100000, env=env)\n",
    "\n",
    "# start data collection\n",
    "random_policy.collect(env, random_buffer, n_steps=100000)"
   ]
  },
  {
   "cell_type": "markdown",
   "id": "d49fb4d0-77ff-48ad-96c1-67aa19c40aca",
   "metadata": {},
   "source": [
    "Проверю, что даст CQL на рандомных данных. Ожидаю, что ничему не научиться агент."
   ]
  },
  {
   "cell_type": "code",
   "execution_count": 30,
   "id": "dc2cb464-6636-4451-af40-28189b6e9359",
   "metadata": {
    "execution": {
     "iopub.execute_input": "2024-04-13T16:54:54.281518Z",
     "iopub.status.busy": "2024-04-13T16:54:54.281085Z",
     "iopub.status.idle": "2024-04-13T17:02:38.845833Z",
     "shell.execute_reply": "2024-04-13T17:02:38.845093Z",
     "shell.execute_reply.started": "2024-04-13T16:54:54.281496Z"
    },
    "id": "dc2cb464-6636-4451-af40-28189b6e9359",
    "tags": []
   },
   "outputs": [
    {
     "name": "stdout",
     "output_type": "stream",
     "text": [
      "\u001b[2m2024-04-13 16:54.54\u001b[0m [\u001b[32m\u001b[1minfo     \u001b[0m] \u001b[1mdataset info                  \u001b[0m \u001b[36mdataset_info\u001b[0m=\u001b[35mDatasetInfo(observation_signature=Signature(dtype=[dtype('float32')], shape=[(49,)]), action_signature=Signature(dtype=[dtype('int64')], shape=[()]), reward_signature=Signature(dtype=[dtype('float32')], shape=[[1]]), action_space=<ActionSpace.DISCRETE: 2>, action_size=5)\u001b[0m\n",
      "\u001b[2m2024-04-13 16:54.54\u001b[0m [\u001b[32m\u001b[1minfo     \u001b[0m] \u001b[1mDirectory is created at d3rlpy_logs/DiscreteCQL_20240413165454\u001b[0m\n",
      "\u001b[2m2024-04-13 16:54.54\u001b[0m [\u001b[32m\u001b[1mdebug    \u001b[0m] \u001b[1mBuilding models...            \u001b[0m\n",
      "\u001b[2m2024-04-13 16:54.54\u001b[0m [\u001b[32m\u001b[1mdebug    \u001b[0m] \u001b[1mModels have been built.       \u001b[0m\n",
      "\u001b[2m2024-04-13 16:54.54\u001b[0m [\u001b[32m\u001b[1minfo     \u001b[0m] \u001b[1mParameters                    \u001b[0m \u001b[36mparams\u001b[0m=\u001b[35m{'observation_shape': [49], 'action_size': 5, 'config': {'type': 'discrete_cql', 'params': {'batch_size': 32, 'gamma': 0.99, 'observation_scaler': {'type': 'none', 'params': {}}, 'action_scaler': {'type': 'none', 'params': {}}, 'reward_scaler': {'type': 'none', 'params': {}}, 'learning_rate': 6.25e-05, 'optim_factory': {'type': 'adam', 'params': {'betas': [0.9, 0.999], 'eps': 1e-08, 'weight_decay': 0, 'amsgrad': False}}, 'encoder_factory': {'type': 'default', 'params': {'activation': 'relu', 'use_batch_norm': False, 'dropout_rate': None}}, 'q_func_factory': {'type': 'mean', 'params': {'share_encoder': False}}, 'n_critics': 1, 'target_update_interval': 8000, 'alpha': 1.0}}}\u001b[0m\n"
     ]
    },
    {
     "name": "stderr",
     "output_type": "stream",
     "text": [
      "Epoch 1/20: 100%|██████████| 5000/5000 [00:23<00:00, 216.43it/s, loss=1.61, td_loss=0.00182, conservative_loss=1.61]\n"
     ]
    },
    {
     "name": "stdout",
     "output_type": "stream",
     "text": [
      "\u001b[2m2024-04-13 16:55.17\u001b[0m [\u001b[32m\u001b[1minfo     \u001b[0m] \u001b[1mDiscreteCQL_20240413165454: epoch=1 step=5000\u001b[0m \u001b[36mepoch\u001b[0m=\u001b[35m1\u001b[0m \u001b[36mmetrics\u001b[0m=\u001b[35m{'time_sample_batch': 0.001282930040359497, 'time_algorithm_update': 0.0031655232429504397, 'loss': 1.611336388015747, 'td_loss': 0.0018163457674148958, 'conservative_loss': 1.6095200425863265, 'time_step': 0.00458753662109375, 'environment': -12.79999999999997}\u001b[0m \u001b[36mstep\u001b[0m=\u001b[35m5000\u001b[0m\n",
      "\u001b[2m2024-04-13 16:55.17\u001b[0m [\u001b[32m\u001b[1minfo     \u001b[0m] \u001b[1mModel parameters are saved to d3rlpy_logs/DiscreteCQL_20240413165454/model_5000.d3\u001b[0m\n"
     ]
    },
    {
     "name": "stderr",
     "output_type": "stream",
     "text": [
      "Epoch 2/20: 100%|██████████| 5000/5000 [00:22<00:00, 217.91it/s, loss=1.61, td_loss=0.00145, conservative_loss=1.61]\n"
     ]
    },
    {
     "name": "stdout",
     "output_type": "stream",
     "text": [
      "\u001b[2m2024-04-13 16:55.41\u001b[0m [\u001b[32m\u001b[1minfo     \u001b[0m] \u001b[1mDiscreteCQL_20240413165454: epoch=2 step=10000\u001b[0m \u001b[36mepoch\u001b[0m=\u001b[35m2\u001b[0m \u001b[36mmetrics\u001b[0m=\u001b[35m{'time_sample_batch': 0.0012664531230926514, 'time_algorithm_update': 0.0031559468269348146, 'loss': 1.610761401128769, 'td_loss': 0.0014489647892682114, 'conservative_loss': 1.6093124370336533, 'time_step': 0.004556442451477051, 'environment': -12.79999999999997}\u001b[0m \u001b[36mstep\u001b[0m=\u001b[35m10000\u001b[0m\n",
      "\u001b[2m2024-04-13 16:55.41\u001b[0m [\u001b[32m\u001b[1minfo     \u001b[0m] \u001b[1mModel parameters are saved to d3rlpy_logs/DiscreteCQL_20240413165454/model_10000.d3\u001b[0m\n"
     ]
    },
    {
     "name": "stderr",
     "output_type": "stream",
     "text": [
      "Epoch 3/20: 100%|██████████| 5000/5000 [00:23<00:00, 216.98it/s, loss=1.61, td_loss=0.000819, conservative_loss=1.61]\n"
     ]
    },
    {
     "name": "stdout",
     "output_type": "stream",
     "text": [
      "\u001b[2m2024-04-13 16:56.05\u001b[0m [\u001b[32m\u001b[1minfo     \u001b[0m] \u001b[1mDiscreteCQL_20240413165454: epoch=3 step=15000\u001b[0m \u001b[36mepoch\u001b[0m=\u001b[35m3\u001b[0m \u001b[36mmetrics\u001b[0m=\u001b[35m{'time_sample_batch': 0.0012820873737335206, 'time_algorithm_update': 0.0031596417427062987, 'loss': 1.6100609699010848, 'td_loss': 0.0008184944824432023, 'conservative_loss': 1.6092424749851226, 'time_step': 0.00457607970237732, 'environment': -12.79999999999997}\u001b[0m \u001b[36mstep\u001b[0m=\u001b[35m15000\u001b[0m\n",
      "\u001b[2m2024-04-13 16:56.05\u001b[0m [\u001b[32m\u001b[1minfo     \u001b[0m] \u001b[1mModel parameters are saved to d3rlpy_logs/DiscreteCQL_20240413165454/model_15000.d3\u001b[0m\n"
     ]
    },
    {
     "name": "stderr",
     "output_type": "stream",
     "text": [
      "Epoch 4/20: 100%|██████████| 5000/5000 [00:22<00:00, 218.90it/s, loss=1.61, td_loss=0.000748, conservative_loss=1.61]\n"
     ]
    },
    {
     "name": "stdout",
     "output_type": "stream",
     "text": [
      "\u001b[2m2024-04-13 16:56.28\u001b[0m [\u001b[32m\u001b[1minfo     \u001b[0m] \u001b[1mDiscreteCQL_20240413165454: epoch=4 step=20000\u001b[0m \u001b[36mepoch\u001b[0m=\u001b[35m4\u001b[0m \u001b[36mmetrics\u001b[0m=\u001b[35m{'time_sample_batch': 0.001289214277267456, 'time_algorithm_update': 0.003107036590576172, 'loss': 1.6098531553030013, 'td_loss': 0.0007472819694463396, 'conservative_loss': 1.6091058733463288, 'time_step': 0.00453364839553833, 'environment': -12.79999999999997}\u001b[0m \u001b[36mstep\u001b[0m=\u001b[35m20000\u001b[0m\n",
      "\u001b[2m2024-04-13 16:56.28\u001b[0m [\u001b[32m\u001b[1minfo     \u001b[0m] \u001b[1mModel parameters are saved to d3rlpy_logs/DiscreteCQL_20240413165454/model_20000.d3\u001b[0m\n"
     ]
    },
    {
     "name": "stderr",
     "output_type": "stream",
     "text": [
      "Epoch 5/20: 100%|██████████| 5000/5000 [00:22<00:00, 220.46it/s, loss=1.61, td_loss=0.000656, conservative_loss=1.61]\n"
     ]
    },
    {
     "name": "stdout",
     "output_type": "stream",
     "text": [
      "\u001b[2m2024-04-13 16:56.51\u001b[0m [\u001b[32m\u001b[1minfo     \u001b[0m] \u001b[1mDiscreteCQL_20240413165454: epoch=5 step=25000\u001b[0m \u001b[36mepoch\u001b[0m=\u001b[35m5\u001b[0m \u001b[36mmetrics\u001b[0m=\u001b[35m{'time_sample_batch': 0.00127131667137146, 'time_algorithm_update': 0.0030993421554565428, 'loss': 1.6098734809398652, 'td_loss': 0.0006560308456420898, 'conservative_loss': 1.6092174502134322, 'time_step': 0.004503648948669434, 'environment': -12.79999999999997}\u001b[0m \u001b[36mstep\u001b[0m=\u001b[35m25000\u001b[0m\n",
      "\u001b[2m2024-04-13 16:56.51\u001b[0m [\u001b[32m\u001b[1minfo     \u001b[0m] \u001b[1mModel parameters are saved to d3rlpy_logs/DiscreteCQL_20240413165454/model_25000.d3\u001b[0m\n"
     ]
    },
    {
     "name": "stderr",
     "output_type": "stream",
     "text": [
      "Epoch 6/20: 100%|██████████| 5000/5000 [00:22<00:00, 224.31it/s, loss=1.61, td_loss=0.000597, conservative_loss=1.61]\n"
     ]
    },
    {
     "name": "stdout",
     "output_type": "stream",
     "text": [
      "\u001b[2m2024-04-13 16:57.14\u001b[0m [\u001b[32m\u001b[1minfo     \u001b[0m] \u001b[1mDiscreteCQL_20240413165454: epoch=6 step=30000\u001b[0m \u001b[36mepoch\u001b[0m=\u001b[35m6\u001b[0m \u001b[36mmetrics\u001b[0m=\u001b[35m{'time_sample_batch': 0.0012765401363372803, 'time_algorithm_update': 0.003011863374710083, 'loss': 1.6097573493003845, 'td_loss': 0.0005976342283145641, 'conservative_loss': 1.6091597157478332, 'time_step': 0.004424704694747925, 'environment': -12.79999999999997}\u001b[0m \u001b[36mstep\u001b[0m=\u001b[35m30000\u001b[0m\n",
      "\u001b[2m2024-04-13 16:57.14\u001b[0m [\u001b[32m\u001b[1minfo     \u001b[0m] \u001b[1mModel parameters are saved to d3rlpy_logs/DiscreteCQL_20240413165454/model_30000.d3\u001b[0m\n"
     ]
    },
    {
     "name": "stderr",
     "output_type": "stream",
     "text": [
      "Epoch 7/20: 100%|██████████| 5000/5000 [00:22<00:00, 222.34it/s, loss=1.61, td_loss=0.000703, conservative_loss=1.61]\n"
     ]
    },
    {
     "name": "stdout",
     "output_type": "stream",
     "text": [
      "\u001b[2m2024-04-13 16:57.37\u001b[0m [\u001b[32m\u001b[1minfo     \u001b[0m] \u001b[1mDiscreteCQL_20240413165454: epoch=7 step=35000\u001b[0m \u001b[36mepoch\u001b[0m=\u001b[35m7\u001b[0m \u001b[36mmetrics\u001b[0m=\u001b[35m{'time_sample_batch': 0.0012872071743011474, 'time_algorithm_update': 0.0030384177207946777, 'loss': 1.6098775492191315, 'td_loss': 0.0007030288398382254, 'conservative_loss': 1.6091745213508606, 'time_step': 0.004464091539382935, 'environment': -12.79999999999997}\u001b[0m \u001b[36mstep\u001b[0m=\u001b[35m35000\u001b[0m\n",
      "\u001b[2m2024-04-13 16:57.37\u001b[0m [\u001b[32m\u001b[1minfo     \u001b[0m] \u001b[1mModel parameters are saved to d3rlpy_logs/DiscreteCQL_20240413165454/model_35000.d3\u001b[0m\n"
     ]
    },
    {
     "name": "stderr",
     "output_type": "stream",
     "text": [
      "Epoch 8/20: 100%|██████████| 5000/5000 [00:23<00:00, 214.53it/s, loss=1.61, td_loss=0.000711, conservative_loss=1.61]\n"
     ]
    },
    {
     "name": "stdout",
     "output_type": "stream",
     "text": [
      "\u001b[2m2024-04-13 16:58.01\u001b[0m [\u001b[32m\u001b[1minfo     \u001b[0m] \u001b[1mDiscreteCQL_20240413165454: epoch=8 step=40000\u001b[0m \u001b[36mepoch\u001b[0m=\u001b[35m8\u001b[0m \u001b[36mmetrics\u001b[0m=\u001b[35m{'time_sample_batch': 0.0013260468482971192, 'time_algorithm_update': 0.0031760952472686768, 'loss': 1.6097450616836548, 'td_loss': 0.0007108128378240508, 'conservative_loss': 1.6090342485666276, 'time_step': 0.004631226873397827, 'environment': -12.79999999999997}\u001b[0m \u001b[36mstep\u001b[0m=\u001b[35m40000\u001b[0m\n",
      "\u001b[2m2024-04-13 16:58.01\u001b[0m [\u001b[32m\u001b[1minfo     \u001b[0m] \u001b[1mModel parameters are saved to d3rlpy_logs/DiscreteCQL_20240413165454/model_40000.d3\u001b[0m\n"
     ]
    },
    {
     "name": "stderr",
     "output_type": "stream",
     "text": [
      "Epoch 9/20: 100%|██████████| 5000/5000 [00:22<00:00, 224.84it/s, loss=1.61, td_loss=0.000895, conservative_loss=1.61]\n"
     ]
    },
    {
     "name": "stdout",
     "output_type": "stream",
     "text": [
      "\u001b[2m2024-04-13 16:58.24\u001b[0m [\u001b[32m\u001b[1minfo     \u001b[0m] \u001b[1mDiscreteCQL_20240413165454: epoch=9 step=45000\u001b[0m \u001b[36mepoch\u001b[0m=\u001b[35m9\u001b[0m \u001b[36mmetrics\u001b[0m=\u001b[35m{'time_sample_batch': 0.0012688810348510742, 'time_algorithm_update': 0.0030125686645507813, 'loss': 1.6098989916086197, 'td_loss': 0.000894798262490076, 'conservative_loss': 1.6090041940689086, 'time_step': 0.004415168333053589, 'environment': -12.79999999999997}\u001b[0m \u001b[36mstep\u001b[0m=\u001b[35m45000\u001b[0m\n",
      "\u001b[2m2024-04-13 16:58.24\u001b[0m [\u001b[32m\u001b[1minfo     \u001b[0m] \u001b[1mModel parameters are saved to d3rlpy_logs/DiscreteCQL_20240413165454/model_45000.d3\u001b[0m\n"
     ]
    },
    {
     "name": "stderr",
     "output_type": "stream",
     "text": [
      "Epoch 10/20: 100%|██████████| 5000/5000 [00:22<00:00, 224.07it/s, loss=1.61, td_loss=0.000848, conservative_loss=1.61]\n"
     ]
    },
    {
     "name": "stdout",
     "output_type": "stream",
     "text": [
      "\u001b[2m2024-04-13 16:58.47\u001b[0m [\u001b[32m\u001b[1minfo     \u001b[0m] \u001b[1mDiscreteCQL_20240413165454: epoch=10 step=50000\u001b[0m \u001b[36mepoch\u001b[0m=\u001b[35m10\u001b[0m \u001b[36mmetrics\u001b[0m=\u001b[35m{'time_sample_batch': 0.0012695940971374513, 'time_algorithm_update': 0.003026352262496948, 'loss': 1.6098952137708664, 'td_loss': 0.0008478075030769105, 'conservative_loss': 1.6090474058628081, 'time_step': 0.004430019426345825, 'environment': -12.79999999999997}\u001b[0m \u001b[36mstep\u001b[0m=\u001b[35m50000\u001b[0m\n",
      "\u001b[2m2024-04-13 16:58.47\u001b[0m [\u001b[32m\u001b[1minfo     \u001b[0m] \u001b[1mModel parameters are saved to d3rlpy_logs/DiscreteCQL_20240413165454/model_50000.d3\u001b[0m\n"
     ]
    },
    {
     "name": "stderr",
     "output_type": "stream",
     "text": [
      "Epoch 11/20: 100%|██████████| 5000/5000 [00:22<00:00, 224.07it/s, loss=1.61, td_loss=0.000775, conservative_loss=1.61]\n"
     ]
    },
    {
     "name": "stdout",
     "output_type": "stream",
     "text": [
      "\u001b[2m2024-04-13 16:59.10\u001b[0m [\u001b[32m\u001b[1minfo     \u001b[0m] \u001b[1mDiscreteCQL_20240413165454: epoch=11 step=55000\u001b[0m \u001b[36mepoch\u001b[0m=\u001b[35m11\u001b[0m \u001b[36mmetrics\u001b[0m=\u001b[35m{'time_sample_batch': 0.0012744340896606444, 'time_algorithm_update': 0.0030287942886352537, 'loss': 1.6099076441764832, 'td_loss': 0.0007755078489470179, 'conservative_loss': 1.609132136631012, 'time_step': 0.004431572151184082, 'environment': -12.79999999999997}\u001b[0m \u001b[36mstep\u001b[0m=\u001b[35m55000\u001b[0m\n",
      "\u001b[2m2024-04-13 16:59.10\u001b[0m [\u001b[32m\u001b[1minfo     \u001b[0m] \u001b[1mModel parameters are saved to d3rlpy_logs/DiscreteCQL_20240413165454/model_55000.d3\u001b[0m\n"
     ]
    },
    {
     "name": "stderr",
     "output_type": "stream",
     "text": [
      "Epoch 12/20: 100%|██████████| 5000/5000 [00:22<00:00, 224.20it/s, loss=1.61, td_loss=0.000902, conservative_loss=1.61]\n"
     ]
    },
    {
     "name": "stdout",
     "output_type": "stream",
     "text": [
      "\u001b[2m2024-04-13 16:59.33\u001b[0m [\u001b[32m\u001b[1minfo     \u001b[0m] \u001b[1mDiscreteCQL_20240413165454: epoch=12 step=60000\u001b[0m \u001b[36mepoch\u001b[0m=\u001b[35m12\u001b[0m \u001b[36mmetrics\u001b[0m=\u001b[35m{'time_sample_batch': 0.0012740591526031494, 'time_algorithm_update': 0.003021026134490967, 'loss': 1.609968177318573, 'td_loss': 0.0009026981977192917, 'conservative_loss': 1.609065478539467, 'time_step': 0.004426771545410157, 'environment': -12.79999999999997}\u001b[0m \u001b[36mstep\u001b[0m=\u001b[35m60000\u001b[0m\n",
      "\u001b[2m2024-04-13 16:59.33\u001b[0m [\u001b[32m\u001b[1minfo     \u001b[0m] \u001b[1mModel parameters are saved to d3rlpy_logs/DiscreteCQL_20240413165454/model_60000.d3\u001b[0m\n"
     ]
    },
    {
     "name": "stderr",
     "output_type": "stream",
     "text": [
      "Epoch 13/20: 100%|██████████| 5000/5000 [00:22<00:00, 224.07it/s, loss=1.61, td_loss=0.000908, conservative_loss=1.61]\n"
     ]
    },
    {
     "name": "stdout",
     "output_type": "stream",
     "text": [
      "\u001b[2m2024-04-13 16:59.55\u001b[0m [\u001b[32m\u001b[1minfo     \u001b[0m] \u001b[1mDiscreteCQL_20240413165454: epoch=13 step=65000\u001b[0m \u001b[36mepoch\u001b[0m=\u001b[35m13\u001b[0m \u001b[36mmetrics\u001b[0m=\u001b[35m{'time_sample_batch': 0.0012762587070465087, 'time_algorithm_update': 0.003022252798080444, 'loss': 1.6100345967769623, 'td_loss': 0.0009078805103723425, 'conservative_loss': 1.609126716852188, 'time_step': 0.004432486486434937, 'environment': -12.79999999999997}\u001b[0m \u001b[36mstep\u001b[0m=\u001b[35m65000\u001b[0m\n",
      "\u001b[2m2024-04-13 16:59.55\u001b[0m [\u001b[32m\u001b[1minfo     \u001b[0m] \u001b[1mModel parameters are saved to d3rlpy_logs/DiscreteCQL_20240413165454/model_65000.d3\u001b[0m\n"
     ]
    },
    {
     "name": "stderr",
     "output_type": "stream",
     "text": [
      "Epoch 14/20: 100%|██████████| 5000/5000 [00:22<00:00, 224.20it/s, loss=1.61, td_loss=0.00101, conservative_loss=1.61] \n"
     ]
    },
    {
     "name": "stdout",
     "output_type": "stream",
     "text": [
      "\u001b[2m2024-04-13 17:00.18\u001b[0m [\u001b[32m\u001b[1minfo     \u001b[0m] \u001b[1mDiscreteCQL_20240413165454: epoch=14 step=70000\u001b[0m \u001b[36mepoch\u001b[0m=\u001b[35m14\u001b[0m \u001b[36mmetrics\u001b[0m=\u001b[35m{'time_sample_batch': 0.001272404670715332, 'time_algorithm_update': 0.00302594051361084, 'loss': 1.610148097705841, 'td_loss': 0.001008680935757002, 'conservative_loss': 1.6091394166707993, 'time_step': 0.004430110692977905, 'environment': -12.79999999999997}\u001b[0m \u001b[36mstep\u001b[0m=\u001b[35m70000\u001b[0m\n",
      "\u001b[2m2024-04-13 17:00.18\u001b[0m [\u001b[32m\u001b[1minfo     \u001b[0m] \u001b[1mModel parameters are saved to d3rlpy_logs/DiscreteCQL_20240413165454/model_70000.d3\u001b[0m\n"
     ]
    },
    {
     "name": "stderr",
     "output_type": "stream",
     "text": [
      "Epoch 15/20: 100%|██████████| 5000/5000 [00:22<00:00, 221.44it/s, loss=1.61, td_loss=0.00111, conservative_loss=1.61] \n"
     ]
    },
    {
     "name": "stdout",
     "output_type": "stream",
     "text": [
      "\u001b[2m2024-04-13 17:00.41\u001b[0m [\u001b[32m\u001b[1minfo     \u001b[0m] \u001b[1mDiscreteCQL_20240413165454: epoch=15 step=75000\u001b[0m \u001b[36mepoch\u001b[0m=\u001b[35m15\u001b[0m \u001b[36mmetrics\u001b[0m=\u001b[35m{'time_sample_batch': 0.0012938177585601807, 'time_algorithm_update': 0.0030563201904296876, 'loss': 1.610258422112465, 'td_loss': 0.0011113116453692782, 'conservative_loss': 1.6091471110105515, 'time_step': 0.004484964561462403, 'environment': -12.79999999999997}\u001b[0m \u001b[36mstep\u001b[0m=\u001b[35m75000\u001b[0m\n",
      "\u001b[2m2024-04-13 17:00.41\u001b[0m [\u001b[32m\u001b[1minfo     \u001b[0m] \u001b[1mModel parameters are saved to d3rlpy_logs/DiscreteCQL_20240413165454/model_75000.d3\u001b[0m\n"
     ]
    },
    {
     "name": "stderr",
     "output_type": "stream",
     "text": [
      "Epoch 16/20: 100%|██████████| 5000/5000 [00:22<00:00, 223.22it/s, loss=1.61, td_loss=0.00114, conservative_loss=1.61]\n"
     ]
    },
    {
     "name": "stdout",
     "output_type": "stream",
     "text": [
      "\u001b[2m2024-04-13 17:01.04\u001b[0m [\u001b[32m\u001b[1minfo     \u001b[0m] \u001b[1mDiscreteCQL_20240413165454: epoch=16 step=80000\u001b[0m \u001b[36mepoch\u001b[0m=\u001b[35m16\u001b[0m \u001b[36mmetrics\u001b[0m=\u001b[35m{'time_sample_batch': 0.0012825918674468995, 'time_algorithm_update': 0.0030324233055114744, 'loss': 1.61033032310009, 'td_loss': 0.0011410660937763168, 'conservative_loss': 1.6091892565250396, 'time_step': 0.0044501520156860356, 'environment': -12.79999999999997}\u001b[0m \u001b[36mstep\u001b[0m=\u001b[35m80000\u001b[0m\n",
      "\u001b[2m2024-04-13 17:01.04\u001b[0m [\u001b[32m\u001b[1minfo     \u001b[0m] \u001b[1mModel parameters are saved to d3rlpy_logs/DiscreteCQL_20240413165454/model_80000.d3\u001b[0m\n"
     ]
    },
    {
     "name": "stderr",
     "output_type": "stream",
     "text": [
      "Epoch 17/20: 100%|██████████| 5000/5000 [00:22<00:00, 221.05it/s, loss=1.61, td_loss=0.00123, conservative_loss=1.61]\n"
     ]
    },
    {
     "name": "stdout",
     "output_type": "stream",
     "text": [
      "\u001b[2m2024-04-13 17:01.28\u001b[0m [\u001b[32m\u001b[1minfo     \u001b[0m] \u001b[1mDiscreteCQL_20240413165454: epoch=17 step=85000\u001b[0m \u001b[36mepoch\u001b[0m=\u001b[35m17\u001b[0m \u001b[36mmetrics\u001b[0m=\u001b[35m{'time_sample_batch': 0.0013181330680847169, 'time_algorithm_update': 0.0030347352504730223, 'loss': 1.6102489732027054, 'td_loss': 0.0012266293994733133, 'conservative_loss': 1.6090223439216613, 'time_step': 0.004492920160293579, 'environment': -12.79999999999997}\u001b[0m \u001b[36mstep\u001b[0m=\u001b[35m85000\u001b[0m\n",
      "\u001b[2m2024-04-13 17:01.28\u001b[0m [\u001b[32m\u001b[1minfo     \u001b[0m] \u001b[1mModel parameters are saved to d3rlpy_logs/DiscreteCQL_20240413165454/model_85000.d3\u001b[0m\n"
     ]
    },
    {
     "name": "stderr",
     "output_type": "stream",
     "text": [
      "Epoch 18/20: 100%|██████████| 5000/5000 [00:22<00:00, 220.62it/s, loss=1.61, td_loss=0.00132, conservative_loss=1.61]\n"
     ]
    },
    {
     "name": "stdout",
     "output_type": "stream",
     "text": [
      "\u001b[2m2024-04-13 17:01.51\u001b[0m [\u001b[32m\u001b[1minfo     \u001b[0m] \u001b[1mDiscreteCQL_20240413165454: epoch=18 step=90000\u001b[0m \u001b[36mepoch\u001b[0m=\u001b[35m18\u001b[0m \u001b[36mmetrics\u001b[0m=\u001b[35m{'time_sample_batch': 0.0012759193420410157, 'time_algorithm_update': 0.003092313766479492, 'loss': 1.6105743696928023, 'td_loss': 0.001320043244517001, 'conservative_loss': 1.6092543270111084, 'time_step': 0.004500865268707276, 'environment': -12.79999999999997}\u001b[0m \u001b[36mstep\u001b[0m=\u001b[35m90000\u001b[0m\n",
      "\u001b[2m2024-04-13 17:01.51\u001b[0m [\u001b[32m\u001b[1minfo     \u001b[0m] \u001b[1mModel parameters are saved to d3rlpy_logs/DiscreteCQL_20240413165454/model_90000.d3\u001b[0m\n"
     ]
    },
    {
     "name": "stderr",
     "output_type": "stream",
     "text": [
      "Epoch 19/20: 100%|██████████| 5000/5000 [00:23<00:00, 215.95it/s, loss=1.61, td_loss=0.00136, conservative_loss=1.61]\n"
     ]
    },
    {
     "name": "stdout",
     "output_type": "stream",
     "text": [
      "\u001b[2m2024-04-13 17:02.15\u001b[0m [\u001b[32m\u001b[1minfo     \u001b[0m] \u001b[1mDiscreteCQL_20240413165454: epoch=19 step=95000\u001b[0m \u001b[36mepoch\u001b[0m=\u001b[35m19\u001b[0m \u001b[36mmetrics\u001b[0m=\u001b[35m{'time_sample_batch': 0.0012822807312011719, 'time_algorithm_update': 0.003178291416168213, 'loss': 1.6106890213489533, 'td_loss': 0.0013617497797851683, 'conservative_loss': 1.609327271080017, 'time_step': 0.00459699330329895, 'environment': -12.79999999999997}\u001b[0m \u001b[36mstep\u001b[0m=\u001b[35m95000\u001b[0m\n",
      "\u001b[2m2024-04-13 17:02.15\u001b[0m [\u001b[32m\u001b[1minfo     \u001b[0m] \u001b[1mModel parameters are saved to d3rlpy_logs/DiscreteCQL_20240413165454/model_95000.d3\u001b[0m\n"
     ]
    },
    {
     "name": "stderr",
     "output_type": "stream",
     "text": [
      "Epoch 20/20: 100%|██████████| 5000/5000 [00:23<00:00, 215.99it/s, loss=1.61, td_loss=0.00147, conservative_loss=1.61]\n"
     ]
    },
    {
     "name": "stdout",
     "output_type": "stream",
     "text": [
      "\u001b[2m2024-04-13 17:02.38\u001b[0m [\u001b[32m\u001b[1minfo     \u001b[0m] \u001b[1mDiscreteCQL_20240413165454: epoch=20 step=100000\u001b[0m \u001b[36mepoch\u001b[0m=\u001b[35m20\u001b[0m \u001b[36mmetrics\u001b[0m=\u001b[35m{'time_sample_batch': 0.001275821304321289, 'time_algorithm_update': 0.0031845245838165283, 'loss': 1.6109577335596084, 'td_loss': 0.001468603087020165, 'conservative_loss': 1.609489130449295, 'time_step': 0.004597275543212891, 'environment': -12.79999999999997}\u001b[0m \u001b[36mstep\u001b[0m=\u001b[35m100000\u001b[0m\n",
      "\u001b[2m2024-04-13 17:02.38\u001b[0m [\u001b[32m\u001b[1minfo     \u001b[0m] \u001b[1mModel parameters are saved to d3rlpy_logs/DiscreteCQL_20240413165454/model_100000.d3\u001b[0m\n"
     ]
    }
   ],
   "source": [
    "# setup CQL algorithm\n",
    "cql = d3rlpy.algos.DiscreteCQLConfig().create(device='cuda:0')\n",
    "\n",
    "# start training\n",
    "statistics_random = cql.fit(\n",
    "    random_buffer,\n",
    "    n_steps=100000,\n",
    "    n_steps_per_epoch=5000,\n",
    "    evaluators={\n",
    "        'environment': d3rlpy.metrics.EnvironmentEvaluator(env),\n",
    "    },\n",
    ")"
   ]
  },
  {
   "cell_type": "code",
   "execution_count": 31,
   "id": "SYcubRFCiudm",
   "metadata": {
    "execution": {
     "iopub.execute_input": "2024-04-13T17:02:54.403514Z",
     "iopub.status.busy": "2024-04-13T17:02:54.403120Z",
     "iopub.status.idle": "2024-04-13T17:02:54.578727Z",
     "shell.execute_reply": "2024-04-13T17:02:54.578025Z",
     "shell.execute_reply.started": "2024-04-13T17:02:54.403493Z"
    },
    "id": "SYcubRFCiudm"
   },
   "outputs": [
    {
     "data": {
      "image/png": "[encoded data removed]",
      "text/plain": [
       "<Figure size 432x288 with 1 Axes>"
      ]
     },
     "metadata": {
      "needs_background": "light"
     },
     "output_type": "display_data"
    }
   ],
   "source": [
    "plot_metrics(statistics_bc, \"BC-strategy\")\n",
    "plt.plot(dt_statistics[2], label=\"DT-strategy\")\n",
    "plot_metrics(statistics_cql, \"CQL-strategy\")\n",
    "plot_metrics(statistics_random, \"CQL-random-strategy\")\n",
    "plt.xlabel(\"Epochs\")\n",
    "plt.ylabel(\"Returns\")\n",
    "plt.legend()\n",
    "plt.grid()"
   ]
  },
  {
   "cell_type": "markdown",
   "id": "e279cb1f-53b0-4b91-afcb-30e6d26fa43c",
   "metadata": {},
   "source": [
    "Вполне ожидаемо, агент вообще не учится, а только выбирает полные штрафы. Скорее всего он стоит на месте, не приближаясь к цели.\n",
    "\n",
    "# Cоздание mixed dataset\n",
    "\n",
    "Воспользуюсь предложенными на занятии функциями, чтобы замиксовать полученные DQN и случайный буферы.Пропорцию возьму 6:4, где 60% будет эталонных данных и 40% рандомных."
   ]
  },
  {
   "cell_type": "code",
   "execution_count": 33,
   "id": "u6mUBXEfjMam",
   "metadata": {
    "execution": {
     "iopub.execute_input": "2024-04-13T17:04:50.515074Z",
     "iopub.status.busy": "2024-04-13T17:04:50.514646Z",
     "iopub.status.idle": "2024-04-13T17:04:51.792741Z",
     "shell.execute_reply": "2024-04-13T17:04:51.791975Z",
     "shell.execute_reply.started": "2024-04-13T17:04:50.515054Z"
    },
    "id": "u6mUBXEfjMam",
    "tags": []
   },
   "outputs": [
    {
     "name": "stdout",
     "output_type": "stream",
     "text": [
      "\u001b[2m2024-04-13 17:04.51\u001b[0m [\u001b[32m\u001b[1minfo     \u001b[0m] \u001b[1mSignatures have been automatically determined.\u001b[0m \u001b[36maction_signature\u001b[0m=\u001b[35mSignature(dtype=[dtype('int64')], shape=[(1,)])\u001b[0m \u001b[36mobservation_signature\u001b[0m=\u001b[35mSignature(dtype=[dtype('float64')], shape=[(49,)])\u001b[0m \u001b[36mreward_signature\u001b[0m=\u001b[35mSignature(dtype=[dtype('float64')], shape=[(1,)])\u001b[0m\n",
      "\u001b[2m2024-04-13 17:04.51\u001b[0m [\u001b[32m\u001b[1minfo     \u001b[0m] \u001b[1mAction-space has been automatically determined.\u001b[0m \u001b[36maction_space\u001b[0m=\u001b[35m<ActionSpace.DISCRETE: 2>\u001b[0m\n",
      "\u001b[2m2024-04-13 17:04.51\u001b[0m [\u001b[32m\u001b[1minfo     \u001b[0m] \u001b[1mAction size has been automatically determined.\u001b[0m \u001b[36maction_size\u001b[0m=\u001b[35m5\u001b[0m\n"
     ]
    }
   ],
   "source": [
    "def dataset_cooker(buffer, size):\n",
    "  observations = []\n",
    "  actions = []\n",
    "  rewards = []\n",
    "  terminals = []\n",
    "\n",
    "  for episode in buffer.episodes[:size]:\n",
    "    observations+=episode.observations.tolist()\n",
    "    actions += episode.actions.tolist()\n",
    "    rewards += episode.rewards.tolist()\n",
    "\n",
    "    terminal = [0 for _ in range(len(episode.rewards))]\n",
    "    terminal[-1] = 1\n",
    "    terminals += terminal\n",
    "  return observations, actions, rewards, terminals\n",
    "\n",
    "def make_mixed_dataset(dataset_1, dataset_2, proportions = [1,1]):\n",
    "  size_1 = int(len(dataset_1.episodes) * proportions[0])\n",
    "  size_2 = int(len(dataset_2.episodes) * proportions[1])\n",
    "\n",
    "  observations, actions, rewards, terminals = dataset_cooker(dataset_1, size_1)\n",
    "\n",
    "  rnd_observations, rnd_actions, rnd_rewards, rnd_terminals = dataset_cooker(dataset_2, size_2)\n",
    "\n",
    "  mxt_obs = np.asarray(observations+rnd_observations)\n",
    "  mxt_actions = np.asarray(actions+rnd_actions)\n",
    "  mxt_rewards = np.asarray(rewards+rnd_rewards)\n",
    "  mxt_terminals = np.asarray(terminals+rnd_terminals).reshape(-1,1)\n",
    "\n",
    "  mixed_dataset = d3rlpy.dataset.MDPDataset(\n",
    "    observations=mxt_obs,\n",
    "    actions=mxt_actions,\n",
    "    rewards=mxt_rewards,\n",
    "    terminals=mxt_terminals,\n",
    "  )\n",
    "  return mixed_dataset\n",
    "\n",
    "mixed_dataset = make_mixed_dataset(dqn_buffer, random_buffer, (0.6, 0.4))"
   ]
  },
  {
   "cell_type": "markdown",
   "id": "1087a216-da29-48a4-8bbd-0e9a74ef1e04",
   "metadata": {},
   "source": [
    "Датасет получен, запускаем на нем обучение агентов. Я заново инициализирую все алгоритмы. Все параметры как и в предыдущем варианте, меняю только датасет.\n",
    "\n",
    "# BC на смешанных данных"
   ]
  },
  {
   "cell_type": "code",
   "execution_count": 34,
   "id": "3trneuLbkCaT",
   "metadata": {
    "execution": {
     "iopub.execute_input": "2024-04-13T17:05:03.606115Z",
     "iopub.status.busy": "2024-04-13T17:05:03.605708Z",
     "iopub.status.idle": "2024-04-13T17:12:35.481799Z",
     "shell.execute_reply": "2024-04-13T17:12:35.481026Z",
     "shell.execute_reply.started": "2024-04-13T17:05:03.606095Z"
    },
    "id": "3trneuLbkCaT"
   },
   "outputs": [
    {
     "name": "stdout",
     "output_type": "stream",
     "text": [
      "\u001b[2m2024-04-13 17:05.03\u001b[0m [\u001b[32m\u001b[1minfo     \u001b[0m] \u001b[1mdataset info                  \u001b[0m \u001b[36mdataset_info\u001b[0m=\u001b[35mDatasetInfo(observation_signature=Signature(dtype=[dtype('float64')], shape=[(49,)]), action_signature=Signature(dtype=[dtype('int64')], shape=[(1,)]), reward_signature=Signature(dtype=[dtype('float64')], shape=[(1,)]), action_space=<ActionSpace.DISCRETE: 2>, action_size=5)\u001b[0m\n",
      "\u001b[2m2024-04-13 17:05.03\u001b[0m [\u001b[32m\u001b[1minfo     \u001b[0m] \u001b[1mDirectory is created at d3rlpy_logs/DiscreteBC_20240413170503\u001b[0m\n",
      "\u001b[2m2024-04-13 17:05.03\u001b[0m [\u001b[32m\u001b[1mdebug    \u001b[0m] \u001b[1mBuilding models...            \u001b[0m\n",
      "\u001b[2m2024-04-13 17:05.03\u001b[0m [\u001b[32m\u001b[1mdebug    \u001b[0m] \u001b[1mModels have been built.       \u001b[0m\n",
      "\u001b[2m2024-04-13 17:05.03\u001b[0m [\u001b[32m\u001b[1minfo     \u001b[0m] \u001b[1mParameters                    \u001b[0m \u001b[36mparams\u001b[0m=\u001b[35m{'observation_shape': [49], 'action_size': 5, 'config': {'type': 'discrete_bc', 'params': {'batch_size': 100, 'gamma': 0.9, 'observation_scaler': {'type': 'none', 'params': {}}, 'action_scaler': {'type': 'none', 'params': {}}, 'reward_scaler': {'type': 'none', 'params': {}}, 'learning_rate': 0.0001, 'optim_factory': {'type': 'adam', 'params': {'betas': [0.9, 0.999], 'eps': 1e-08, 'weight_decay': 0, 'amsgrad': False}}, 'encoder_factory': {'type': 'default', 'params': {'activation': 'relu', 'use_batch_norm': False, 'dropout_rate': None}}, 'beta': 0.5}}}\u001b[0m\n"
     ]
    },
    {
     "name": "stderr",
     "output_type": "stream",
     "text": [
      "Epoch 1/20: 100%|██████████| 5000/5000 [00:22<00:00, 221.16it/s, loss=2.85]\n"
     ]
    },
    {
     "name": "stdout",
     "output_type": "stream",
     "text": [
      "\u001b[2m2024-04-13 17:05.26\u001b[0m [\u001b[32m\u001b[1minfo     \u001b[0m] \u001b[1mDiscreteBC_20240413170503: epoch=1 step=5000\u001b[0m \u001b[36mepoch\u001b[0m=\u001b[35m1\u001b[0m \u001b[36mmetrics\u001b[0m=\u001b[35m{'time_sample_batch': 0.002787867069244385, 'time_algorithm_update': 0.0016227513313293457, 'loss': 2.850229079389572, 'time_step': 0.004495411729812622, 'environment': 0.10000000000000009}\u001b[0m \u001b[36mstep\u001b[0m=\u001b[35m5000\u001b[0m\n",
      "\u001b[2m2024-04-13 17:05.26\u001b[0m [\u001b[32m\u001b[1minfo     \u001b[0m] \u001b[1mModel parameters are saved to d3rlpy_logs/DiscreteBC_20240413170503/model_5000.d3\u001b[0m\n"
     ]
    },
    {
     "name": "stderr",
     "output_type": "stream",
     "text": [
      "Epoch 2/20: 100%|██████████| 5000/5000 [00:22<00:00, 222.85it/s, loss=2.85]\n"
     ]
    },
    {
     "name": "stdout",
     "output_type": "stream",
     "text": [
      "\u001b[2m2024-04-13 17:05.48\u001b[0m [\u001b[32m\u001b[1minfo     \u001b[0m] \u001b[1mDiscreteBC_20240413170503: epoch=2 step=10000\u001b[0m \u001b[36mepoch\u001b[0m=\u001b[35m2\u001b[0m \u001b[36mmetrics\u001b[0m=\u001b[35m{'time_sample_batch': 0.002761070156097412, 'time_algorithm_update': 0.0016171651840209962, 'loss': 2.848989819955826, 'time_step': 0.004461053466796875, 'environment': 0.10000000000000009}\u001b[0m \u001b[36mstep\u001b[0m=\u001b[35m10000\u001b[0m\n",
      "\u001b[2m2024-04-13 17:05.48\u001b[0m [\u001b[32m\u001b[1minfo     \u001b[0m] \u001b[1mModel parameters are saved to d3rlpy_logs/DiscreteBC_20240413170503/model_10000.d3\u001b[0m\n"
     ]
    },
    {
     "name": "stderr",
     "output_type": "stream",
     "text": [
      "Epoch 3/20: 100%|██████████| 5000/5000 [00:22<00:00, 220.72it/s, loss=2.85]\n"
     ]
    },
    {
     "name": "stdout",
     "output_type": "stream",
     "text": [
      "\u001b[2m2024-04-13 17:06.11\u001b[0m [\u001b[32m\u001b[1minfo     \u001b[0m] \u001b[1mDiscreteBC_20240413170503: epoch=3 step=15000\u001b[0m \u001b[36mepoch\u001b[0m=\u001b[35m3\u001b[0m \u001b[36mmetrics\u001b[0m=\u001b[35m{'time_sample_batch': 0.002810080099105835, 'time_algorithm_update': 0.001609259557723999, 'loss': 2.848515619182587, 'time_step': 0.004503978824615479, 'environment': 0.10000000000000009}\u001b[0m \u001b[36mstep\u001b[0m=\u001b[35m15000\u001b[0m\n",
      "\u001b[2m2024-04-13 17:06.11\u001b[0m [\u001b[32m\u001b[1minfo     \u001b[0m] \u001b[1mModel parameters are saved to d3rlpy_logs/DiscreteBC_20240413170503/model_15000.d3\u001b[0m\n"
     ]
    },
    {
     "name": "stderr",
     "output_type": "stream",
     "text": [
      "Epoch 4/20: 100%|██████████| 5000/5000 [00:22<00:00, 225.67it/s, loss=2.85]\n"
     ]
    },
    {
     "name": "stdout",
     "output_type": "stream",
     "text": [
      "\u001b[2m2024-04-13 17:06.33\u001b[0m [\u001b[32m\u001b[1minfo     \u001b[0m] \u001b[1mDiscreteBC_20240413170503: epoch=4 step=20000\u001b[0m \u001b[36mepoch\u001b[0m=\u001b[35m4\u001b[0m \u001b[36mmetrics\u001b[0m=\u001b[35m{'time_sample_batch': 0.0027529052734375, 'time_algorithm_update': 0.0015674692630767823, 'loss': 2.848307624435425, 'time_step': 0.004404711866378784, 'environment': 0.10000000000000009}\u001b[0m \u001b[36mstep\u001b[0m=\u001b[35m20000\u001b[0m\n",
      "\u001b[2m2024-04-13 17:06.33\u001b[0m [\u001b[32m\u001b[1minfo     \u001b[0m] \u001b[1mModel parameters are saved to d3rlpy_logs/DiscreteBC_20240413170503/model_20000.d3\u001b[0m\n"
     ]
    },
    {
     "name": "stderr",
     "output_type": "stream",
     "text": [
      "Epoch 5/20: 100%|██████████| 5000/5000 [00:22<00:00, 225.75it/s, loss=2.85]\n"
     ]
    },
    {
     "name": "stdout",
     "output_type": "stream",
     "text": [
      "\u001b[2m2024-04-13 17:06.56\u001b[0m [\u001b[32m\u001b[1minfo     \u001b[0m] \u001b[1mDiscreteBC_20240413170503: epoch=5 step=25000\u001b[0m \u001b[36mepoch\u001b[0m=\u001b[35m5\u001b[0m \u001b[36mmetrics\u001b[0m=\u001b[35m{'time_sample_batch': 0.0027496774196624756, 'time_algorithm_update': 0.001569417381286621, 'loss': 2.8483373676776886, 'time_step': 0.004402998828887939, 'environment': 0.10000000000000009}\u001b[0m \u001b[36mstep\u001b[0m=\u001b[35m25000\u001b[0m\n",
      "\u001b[2m2024-04-13 17:06.56\u001b[0m [\u001b[32m\u001b[1minfo     \u001b[0m] \u001b[1mModel parameters are saved to d3rlpy_logs/DiscreteBC_20240413170503/model_25000.d3\u001b[0m\n"
     ]
    },
    {
     "name": "stderr",
     "output_type": "stream",
     "text": [
      "Epoch 6/20: 100%|██████████| 5000/5000 [00:22<00:00, 225.00it/s, loss=2.85]\n"
     ]
    },
    {
     "name": "stdout",
     "output_type": "stream",
     "text": [
      "\u001b[2m2024-04-13 17:07.18\u001b[0m [\u001b[32m\u001b[1minfo     \u001b[0m] \u001b[1mDiscreteBC_20240413170503: epoch=6 step=30000\u001b[0m \u001b[36mepoch\u001b[0m=\u001b[35m6\u001b[0m \u001b[36mmetrics\u001b[0m=\u001b[35m{'time_sample_batch': 0.002756290102005005, 'time_algorithm_update': 0.0015756348133087157, 'loss': 2.8489962872982026, 'time_step': 0.00441752610206604, 'environment': 0.10000000000000009}\u001b[0m \u001b[36mstep\u001b[0m=\u001b[35m30000\u001b[0m\n",
      "\u001b[2m2024-04-13 17:07.18\u001b[0m [\u001b[32m\u001b[1minfo     \u001b[0m] \u001b[1mModel parameters are saved to d3rlpy_logs/DiscreteBC_20240413170503/model_30000.d3\u001b[0m\n"
     ]
    },
    {
     "name": "stderr",
     "output_type": "stream",
     "text": [
      "Epoch 7/20: 100%|██████████| 5000/5000 [00:22<00:00, 225.15it/s, loss=2.85]\n"
     ]
    },
    {
     "name": "stdout",
     "output_type": "stream",
     "text": [
      "\u001b[2m2024-04-13 17:07.40\u001b[0m [\u001b[32m\u001b[1minfo     \u001b[0m] \u001b[1mDiscreteBC_20240413170503: epoch=7 step=35000\u001b[0m \u001b[36mepoch\u001b[0m=\u001b[35m7\u001b[0m \u001b[36mmetrics\u001b[0m=\u001b[35m{'time_sample_batch': 0.0027563556671142578, 'time_algorithm_update': 0.0015731868267059325, 'loss': 2.8485408601284026, 'time_step': 0.004414591789245605, 'environment': 0.10000000000000009}\u001b[0m \u001b[36mstep\u001b[0m=\u001b[35m35000\u001b[0m\n",
      "\u001b[2m2024-04-13 17:07.40\u001b[0m [\u001b[32m\u001b[1minfo     \u001b[0m] \u001b[1mModel parameters are saved to d3rlpy_logs/DiscreteBC_20240413170503/model_35000.d3\u001b[0m\n"
     ]
    },
    {
     "name": "stderr",
     "output_type": "stream",
     "text": [
      "Epoch 8/20: 100%|██████████| 5000/5000 [00:22<00:00, 223.30it/s, loss=2.85]\n"
     ]
    },
    {
     "name": "stdout",
     "output_type": "stream",
     "text": [
      "\u001b[2m2024-04-13 17:08.03\u001b[0m [\u001b[32m\u001b[1minfo     \u001b[0m] \u001b[1mDiscreteBC_20240413170503: epoch=8 step=40000\u001b[0m \u001b[36mepoch\u001b[0m=\u001b[35m8\u001b[0m \u001b[36mmetrics\u001b[0m=\u001b[35m{'time_sample_batch': 0.002774560546875, 'time_algorithm_update': 0.0015921828269958496, 'loss': 2.8481331932067873, 'time_step': 0.004451744890213012, 'environment': 0.10000000000000009}\u001b[0m \u001b[36mstep\u001b[0m=\u001b[35m40000\u001b[0m\n",
      "\u001b[2m2024-04-13 17:08.03\u001b[0m [\u001b[32m\u001b[1minfo     \u001b[0m] \u001b[1mModel parameters are saved to d3rlpy_logs/DiscreteBC_20240413170503/model_40000.d3\u001b[0m\n"
     ]
    },
    {
     "name": "stderr",
     "output_type": "stream",
     "text": [
      "Epoch 9/20: 100%|██████████| 5000/5000 [00:22<00:00, 221.54it/s, loss=2.85]\n"
     ]
    },
    {
     "name": "stdout",
     "output_type": "stream",
     "text": [
      "\u001b[2m2024-04-13 17:08.25\u001b[0m [\u001b[32m\u001b[1minfo     \u001b[0m] \u001b[1mDiscreteBC_20240413170503: epoch=9 step=45000\u001b[0m \u001b[36mepoch\u001b[0m=\u001b[35m9\u001b[0m \u001b[36mmetrics\u001b[0m=\u001b[35m{'time_sample_batch': 0.0027871456623077395, 'time_algorithm_update': 0.0016156334400177002, 'loss': 2.8481186565876007, 'time_step': 0.004488012933731079, 'environment': 0.10000000000000009}\u001b[0m \u001b[36mstep\u001b[0m=\u001b[35m45000\u001b[0m\n",
      "\u001b[2m2024-04-13 17:08.26\u001b[0m [\u001b[32m\u001b[1minfo     \u001b[0m] \u001b[1mModel parameters are saved to d3rlpy_logs/DiscreteBC_20240413170503/model_45000.d3\u001b[0m\n"
     ]
    },
    {
     "name": "stderr",
     "output_type": "stream",
     "text": [
      "Epoch 10/20: 100%|██████████| 5000/5000 [00:22<00:00, 223.44it/s, loss=2.85]\n"
     ]
    },
    {
     "name": "stdout",
     "output_type": "stream",
     "text": [
      "\u001b[2m2024-04-13 17:08.48\u001b[0m [\u001b[32m\u001b[1minfo     \u001b[0m] \u001b[1mDiscreteBC_20240413170503: epoch=10 step=50000\u001b[0m \u001b[36mepoch\u001b[0m=\u001b[35m10\u001b[0m \u001b[36mmetrics\u001b[0m=\u001b[35m{'time_sample_batch': 0.002768796157836914, 'time_algorithm_update': 0.0015939855575561523, 'loss': 2.8484073784351347, 'time_step': 0.004448746299743653, 'environment': 0.10000000000000009}\u001b[0m \u001b[36mstep\u001b[0m=\u001b[35m50000\u001b[0m\n",
      "\u001b[2m2024-04-13 17:08.48\u001b[0m [\u001b[32m\u001b[1minfo     \u001b[0m] \u001b[1mModel parameters are saved to d3rlpy_logs/DiscreteBC_20240413170503/model_50000.d3\u001b[0m\n"
     ]
    },
    {
     "name": "stderr",
     "output_type": "stream",
     "text": [
      "Epoch 11/20: 100%|██████████| 5000/5000 [00:22<00:00, 221.72it/s, loss=2.85]\n"
     ]
    },
    {
     "name": "stdout",
     "output_type": "stream",
     "text": [
      "\u001b[2m2024-04-13 17:09.11\u001b[0m [\u001b[32m\u001b[1minfo     \u001b[0m] \u001b[1mDiscreteBC_20240413170503: epoch=11 step=55000\u001b[0m \u001b[36mepoch\u001b[0m=\u001b[35m11\u001b[0m \u001b[36mmetrics\u001b[0m=\u001b[35m{'time_sample_batch': 0.0027247058868408204, 'time_algorithm_update': 0.0016769152164459228, 'loss': 2.8483545568466186, 'time_step': 0.004484386062622071, 'environment': 0.10000000000000009}\u001b[0m \u001b[36mstep\u001b[0m=\u001b[35m55000\u001b[0m\n",
      "\u001b[2m2024-04-13 17:09.11\u001b[0m [\u001b[32m\u001b[1minfo     \u001b[0m] \u001b[1mModel parameters are saved to d3rlpy_logs/DiscreteBC_20240413170503/model_55000.d3\u001b[0m\n"
     ]
    },
    {
     "name": "stderr",
     "output_type": "stream",
     "text": [
      "Epoch 12/20: 100%|██████████| 5000/5000 [00:22<00:00, 221.12it/s, loss=2.85]\n"
     ]
    },
    {
     "name": "stdout",
     "output_type": "stream",
     "text": [
      "\u001b[2m2024-04-13 17:09.33\u001b[0m [\u001b[32m\u001b[1minfo     \u001b[0m] \u001b[1mDiscreteBC_20240413170503: epoch=12 step=60000\u001b[0m \u001b[36mepoch\u001b[0m=\u001b[35m12\u001b[0m \u001b[36mmetrics\u001b[0m=\u001b[35m{'time_sample_batch': 0.0027412184715270996, 'time_algorithm_update': 0.001672075366973877, 'loss': 2.8486907987594603, 'time_step': 0.004497154760360718, 'environment': 0.10000000000000009}\u001b[0m \u001b[36mstep\u001b[0m=\u001b[35m60000\u001b[0m\n",
      "\u001b[2m2024-04-13 17:09.33\u001b[0m [\u001b[32m\u001b[1minfo     \u001b[0m] \u001b[1mModel parameters are saved to d3rlpy_logs/DiscreteBC_20240413170503/model_60000.d3\u001b[0m\n"
     ]
    },
    {
     "name": "stderr",
     "output_type": "stream",
     "text": [
      "Epoch 13/20: 100%|██████████| 5000/5000 [00:22<00:00, 221.38it/s, loss=2.85]\n"
     ]
    },
    {
     "name": "stdout",
     "output_type": "stream",
     "text": [
      "\u001b[2m2024-04-13 17:09.56\u001b[0m [\u001b[32m\u001b[1minfo     \u001b[0m] \u001b[1mDiscreteBC_20240413170503: epoch=13 step=65000\u001b[0m \u001b[36mepoch\u001b[0m=\u001b[35m13\u001b[0m \u001b[36mmetrics\u001b[0m=\u001b[35m{'time_sample_batch': 0.002804599905014038, 'time_algorithm_update': 0.0016005216121673584, 'loss': 2.8476984389781954, 'time_step': 0.004490251874923706, 'environment': 0.10000000000000009}\u001b[0m \u001b[36mstep\u001b[0m=\u001b[35m65000\u001b[0m\n",
      "\u001b[2m2024-04-13 17:09.56\u001b[0m [\u001b[32m\u001b[1minfo     \u001b[0m] \u001b[1mModel parameters are saved to d3rlpy_logs/DiscreteBC_20240413170503/model_65000.d3\u001b[0m\n"
     ]
    },
    {
     "name": "stderr",
     "output_type": "stream",
     "text": [
      "Epoch 14/20: 100%|██████████| 5000/5000 [00:22<00:00, 222.21it/s, loss=2.85]\n"
     ]
    },
    {
     "name": "stdout",
     "output_type": "stream",
     "text": [
      "\u001b[2m2024-04-13 17:10.19\u001b[0m [\u001b[32m\u001b[1minfo     \u001b[0m] \u001b[1mDiscreteBC_20240413170503: epoch=14 step=70000\u001b[0m \u001b[36mepoch\u001b[0m=\u001b[35m14\u001b[0m \u001b[36mmetrics\u001b[0m=\u001b[35m{'time_sample_batch': 0.0027835895538330076, 'time_algorithm_update': 0.0015993468284606935, 'loss': 2.8478823103427886, 'time_step': 0.0044730969905853275, 'environment': 0.10000000000000009}\u001b[0m \u001b[36mstep\u001b[0m=\u001b[35m70000\u001b[0m\n",
      "\u001b[2m2024-04-13 17:10.19\u001b[0m [\u001b[32m\u001b[1minfo     \u001b[0m] \u001b[1mModel parameters are saved to d3rlpy_logs/DiscreteBC_20240413170503/model_70000.d3\u001b[0m\n"
     ]
    },
    {
     "name": "stderr",
     "output_type": "stream",
     "text": [
      "Epoch 15/20: 100%|██████████| 5000/5000 [00:23<00:00, 217.25it/s, loss=2.85]\n"
     ]
    },
    {
     "name": "stdout",
     "output_type": "stream",
     "text": [
      "\u001b[2m2024-04-13 17:10.42\u001b[0m [\u001b[32m\u001b[1minfo     \u001b[0m] \u001b[1mDiscreteBC_20240413170503: epoch=15 step=75000\u001b[0m \u001b[36mepoch\u001b[0m=\u001b[35m15\u001b[0m \u001b[36mmetrics\u001b[0m=\u001b[35m{'time_sample_batch': 0.002857474136352539, 'time_algorithm_update': 0.0016278298377990722, 'loss': 2.8479629631996155, 'time_step': 0.004575359487533569, 'environment': 0.10000000000000009}\u001b[0m \u001b[36mstep\u001b[0m=\u001b[35m75000\u001b[0m\n",
      "\u001b[2m2024-04-13 17:10.42\u001b[0m [\u001b[32m\u001b[1minfo     \u001b[0m] \u001b[1mModel parameters are saved to d3rlpy_logs/DiscreteBC_20240413170503/model_75000.d3\u001b[0m\n"
     ]
    },
    {
     "name": "stderr",
     "output_type": "stream",
     "text": [
      "Epoch 16/20: 100%|██████████| 5000/5000 [00:23<00:00, 217.30it/s, loss=2.85]\n"
     ]
    },
    {
     "name": "stdout",
     "output_type": "stream",
     "text": [
      "\u001b[2m2024-04-13 17:11.05\u001b[0m [\u001b[32m\u001b[1minfo     \u001b[0m] \u001b[1mDiscreteBC_20240413170503: epoch=16 step=80000\u001b[0m \u001b[36mepoch\u001b[0m=\u001b[35m16\u001b[0m \u001b[36mmetrics\u001b[0m=\u001b[35m{'time_sample_batch': 0.002851757049560547, 'time_algorithm_update': 0.0016310146808624268, 'loss': 2.848487199020386, 'time_step': 0.004574030113220215, 'environment': 0.10000000000000009}\u001b[0m \u001b[36mstep\u001b[0m=\u001b[35m80000\u001b[0m\n",
      "\u001b[2m2024-04-13 17:11.05\u001b[0m [\u001b[32m\u001b[1minfo     \u001b[0m] \u001b[1mModel parameters are saved to d3rlpy_logs/DiscreteBC_20240413170503/model_80000.d3\u001b[0m\n"
     ]
    },
    {
     "name": "stderr",
     "output_type": "stream",
     "text": [
      "Epoch 17/20: 100%|██████████| 5000/5000 [00:22<00:00, 223.05it/s, loss=2.85]\n"
     ]
    },
    {
     "name": "stdout",
     "output_type": "stream",
     "text": [
      "\u001b[2m2024-04-13 17:11.27\u001b[0m [\u001b[32m\u001b[1minfo     \u001b[0m] \u001b[1mDiscreteBC_20240413170503: epoch=17 step=85000\u001b[0m \u001b[36mepoch\u001b[0m=\u001b[35m17\u001b[0m \u001b[36mmetrics\u001b[0m=\u001b[35m{'time_sample_batch': 0.0027663068294525145, 'time_algorithm_update': 0.001602604293823242, 'loss': 2.848337887430191, 'time_step': 0.004456007432937622, 'environment': 0.10000000000000009}\u001b[0m \u001b[36mstep\u001b[0m=\u001b[35m85000\u001b[0m\n",
      "\u001b[2m2024-04-13 17:11.27\u001b[0m [\u001b[32m\u001b[1minfo     \u001b[0m] \u001b[1mModel parameters are saved to d3rlpy_logs/DiscreteBC_20240413170503/model_85000.d3\u001b[0m\n"
     ]
    },
    {
     "name": "stderr",
     "output_type": "stream",
     "text": [
      "Epoch 18/20: 100%|██████████| 5000/5000 [00:22<00:00, 223.36it/s, loss=2.85]\n"
     ]
    },
    {
     "name": "stdout",
     "output_type": "stream",
     "text": [
      "\u001b[2m2024-04-13 17:11.50\u001b[0m [\u001b[32m\u001b[1minfo     \u001b[0m] \u001b[1mDiscreteBC_20240413170503: epoch=18 step=90000\u001b[0m \u001b[36mepoch\u001b[0m=\u001b[35m18\u001b[0m \u001b[36mmetrics\u001b[0m=\u001b[35m{'time_sample_batch': 0.002763813877105713, 'time_algorithm_update': 0.0015998419761657715, 'loss': 2.8481949031829834, 'time_step': 0.004449819374084472, 'environment': 0.10000000000000009}\u001b[0m \u001b[36mstep\u001b[0m=\u001b[35m90000\u001b[0m\n",
      "\u001b[2m2024-04-13 17:11.50\u001b[0m [\u001b[32m\u001b[1minfo     \u001b[0m] \u001b[1mModel parameters are saved to d3rlpy_logs/DiscreteBC_20240413170503/model_90000.d3\u001b[0m\n"
     ]
    },
    {
     "name": "stderr",
     "output_type": "stream",
     "text": [
      "Epoch 19/20: 100%|██████████| 5000/5000 [00:22<00:00, 223.46it/s, loss=2.85]\n"
     ]
    },
    {
     "name": "stdout",
     "output_type": "stream",
     "text": [
      "\u001b[2m2024-04-13 17:12.12\u001b[0m [\u001b[32m\u001b[1minfo     \u001b[0m] \u001b[1mDiscreteBC_20240413170503: epoch=19 step=95000\u001b[0m \u001b[36mepoch\u001b[0m=\u001b[35m19\u001b[0m \u001b[36mmetrics\u001b[0m=\u001b[35m{'time_sample_batch': 0.0027640575408935547, 'time_algorithm_update': 0.0015998125553131103, 'loss': 2.8485290780067443, 'time_step': 0.004448326539993286, 'environment': 0.10000000000000009}\u001b[0m \u001b[36mstep\u001b[0m=\u001b[35m95000\u001b[0m\n",
      "\u001b[2m2024-04-13 17:12.12\u001b[0m [\u001b[32m\u001b[1minfo     \u001b[0m] \u001b[1mModel parameters are saved to d3rlpy_logs/DiscreteBC_20240413170503/model_95000.d3\u001b[0m\n"
     ]
    },
    {
     "name": "stderr",
     "output_type": "stream",
     "text": [
      "Epoch 20/20: 100%|██████████| 5000/5000 [00:22<00:00, 223.32it/s, loss=2.85]\n"
     ]
    },
    {
     "name": "stdout",
     "output_type": "stream",
     "text": [
      "\u001b[2m2024-04-13 17:12.35\u001b[0m [\u001b[32m\u001b[1minfo     \u001b[0m] \u001b[1mDiscreteBC_20240413170503: epoch=20 step=100000\u001b[0m \u001b[36mepoch\u001b[0m=\u001b[35m20\u001b[0m \u001b[36mmetrics\u001b[0m=\u001b[35m{'time_sample_batch': 0.00276606707572937, 'time_algorithm_update': 0.0015997697353363038, 'loss': 2.8478954959869385, 'time_step': 0.004450776958465576, 'environment': 0.10000000000000009}\u001b[0m \u001b[36mstep\u001b[0m=\u001b[35m100000\u001b[0m\n",
      "\u001b[2m2024-04-13 17:12.35\u001b[0m [\u001b[32m\u001b[1minfo     \u001b[0m] \u001b[1mModel parameters are saved to d3rlpy_logs/DiscreteBC_20240413170503/model_100000.d3\u001b[0m\n"
     ]
    }
   ],
   "source": [
    "bc = d3rlpy.algos.DiscreteBCConfig(learning_rate=0.0001, gamma=0.9).create(device='cuda:0')\n",
    "\n",
    "# start training\n",
    "statistics_bc_mixed = bc.fit(\n",
    "    mixed_dataset,\n",
    "    n_steps=100000,\n",
    "    n_steps_per_epoch=5000,\n",
    "    evaluators={\n",
    "        'environment': d3rlpy.metrics.EnvironmentEvaluator(env),\n",
    "    },\n",
    ")"
   ]
  },
  {
   "cell_type": "markdown",
   "id": "822e983b-2fcd-4de9-af7c-f65a290f27f1",
   "metadata": {},
   "source": [
    "# CQL на смешанных данных"
   ]
  },
  {
   "cell_type": "code",
   "execution_count": 35,
   "id": "0a192ab6-1482-4d27-98e6-33d7f265df33",
   "metadata": {
    "execution": {
     "iopub.execute_input": "2024-04-13T17:12:56.329736Z",
     "iopub.status.busy": "2024-04-13T17:12:56.329291Z",
     "iopub.status.idle": "2024-04-13T17:19:55.042541Z",
     "shell.execute_reply": "2024-04-13T17:19:55.041736Z",
     "shell.execute_reply.started": "2024-04-13T17:12:56.329715Z"
    }
   },
   "outputs": [
    {
     "name": "stdout",
     "output_type": "stream",
     "text": [
      "\u001b[2m2024-04-13 17:12.56\u001b[0m [\u001b[32m\u001b[1minfo     \u001b[0m] \u001b[1mdataset info                  \u001b[0m \u001b[36mdataset_info\u001b[0m=\u001b[35mDatasetInfo(observation_signature=Signature(dtype=[dtype('float64')], shape=[(49,)]), action_signature=Signature(dtype=[dtype('int64')], shape=[(1,)]), reward_signature=Signature(dtype=[dtype('float64')], shape=[(1,)]), action_space=<ActionSpace.DISCRETE: 2>, action_size=5)\u001b[0m\n",
      "\u001b[2m2024-04-13 17:12.56\u001b[0m [\u001b[32m\u001b[1minfo     \u001b[0m] \u001b[1mDirectory is created at d3rlpy_logs/DiscreteCQL_20240413171256\u001b[0m\n",
      "\u001b[2m2024-04-13 17:12.56\u001b[0m [\u001b[32m\u001b[1mdebug    \u001b[0m] \u001b[1mBuilding models...            \u001b[0m\n",
      "\u001b[2m2024-04-13 17:12.56\u001b[0m [\u001b[32m\u001b[1mdebug    \u001b[0m] \u001b[1mModels have been built.       \u001b[0m\n",
      "\u001b[2m2024-04-13 17:12.56\u001b[0m [\u001b[32m\u001b[1minfo     \u001b[0m] \u001b[1mParameters                    \u001b[0m \u001b[36mparams\u001b[0m=\u001b[35m{'observation_shape': [49], 'action_size': 5, 'config': {'type': 'discrete_cql', 'params': {'batch_size': 32, 'gamma': 0.99, 'observation_scaler': {'type': 'none', 'params': {}}, 'action_scaler': {'type': 'none', 'params': {}}, 'reward_scaler': {'type': 'none', 'params': {}}, 'learning_rate': 6.25e-05, 'optim_factory': {'type': 'adam', 'params': {'betas': [0.9, 0.999], 'eps': 1e-08, 'weight_decay': 0, 'amsgrad': False}}, 'encoder_factory': {'type': 'default', 'params': {'activation': 'relu', 'use_batch_norm': False, 'dropout_rate': None}}, 'q_func_factory': {'type': 'mean', 'params': {'share_encoder': False}}, 'n_critics': 1, 'target_update_interval': 8000, 'alpha': 1.0}}}\u001b[0m\n"
     ]
    },
    {
     "name": "stderr",
     "output_type": "stream",
     "text": [
      "Epoch 1/20: 100%|██████████| 5000/5000 [00:20<00:00, 242.05it/s, loss=1.53, td_loss=0.0405, conservative_loss=1.49]\n"
     ]
    },
    {
     "name": "stdout",
     "output_type": "stream",
     "text": [
      "\u001b[2m2024-04-13 17:13.17\u001b[0m [\u001b[32m\u001b[1minfo     \u001b[0m] \u001b[1mDiscreteCQL_20240413171256: epoch=1 step=5000\u001b[0m \u001b[36mepoch\u001b[0m=\u001b[35m1\u001b[0m \u001b[36mmetrics\u001b[0m=\u001b[35m{'time_sample_batch': 0.0009712770462036133, 'time_algorithm_update': 0.0029947724342346193, 'loss': 1.531257022213936, 'td_loss': 0.04045053100227378, 'conservative_loss': 1.490806491422653, 'time_step': 0.004099686431884766, 'environment': 0.10000000000000009}\u001b[0m \u001b[36mstep\u001b[0m=\u001b[35m5000\u001b[0m\n",
      "\u001b[2m2024-04-13 17:13.17\u001b[0m [\u001b[32m\u001b[1minfo     \u001b[0m] \u001b[1mModel parameters are saved to d3rlpy_logs/DiscreteCQL_20240413171256/model_5000.d3\u001b[0m\n"
     ]
    },
    {
     "name": "stderr",
     "output_type": "stream",
     "text": [
      "Epoch 2/20: 100%|██████████| 5000/5000 [00:20<00:00, 243.92it/s, loss=1.52, td_loss=0.0444, conservative_loss=1.48]\n"
     ]
    },
    {
     "name": "stdout",
     "output_type": "stream",
     "text": [
      "\u001b[2m2024-04-13 17:13.37\u001b[0m [\u001b[32m\u001b[1minfo     \u001b[0m] \u001b[1mDiscreteCQL_20240413171256: epoch=2 step=10000\u001b[0m \u001b[36mepoch\u001b[0m=\u001b[35m2\u001b[0m \u001b[36mmetrics\u001b[0m=\u001b[35m{'time_sample_batch': 0.0009639089107513428, 'time_algorithm_update': 0.0029782519340515136, 'loss': 1.520940544128418, 'td_loss': 0.04442876111902296, 'conservative_loss': 1.4765117830276488, 'time_step': 0.004069055032730103, 'environment': 0.10000000000000009}\u001b[0m \u001b[36mstep\u001b[0m=\u001b[35m10000\u001b[0m\n",
      "\u001b[2m2024-04-13 17:13.37\u001b[0m [\u001b[32m\u001b[1minfo     \u001b[0m] \u001b[1mModel parameters are saved to d3rlpy_logs/DiscreteCQL_20240413171256/model_10000.d3\u001b[0m\n"
     ]
    },
    {
     "name": "stderr",
     "output_type": "stream",
     "text": [
      "Epoch 3/20: 100%|██████████| 5000/5000 [00:20<00:00, 242.77it/s, loss=1.51, td_loss=0.04, conservative_loss=1.47]  \n"
     ]
    },
    {
     "name": "stdout",
     "output_type": "stream",
     "text": [
      "\u001b[2m2024-04-13 17:13.58\u001b[0m [\u001b[32m\u001b[1minfo     \u001b[0m] \u001b[1mDiscreteCQL_20240413171256: epoch=3 step=15000\u001b[0m \u001b[36mepoch\u001b[0m=\u001b[35m3\u001b[0m \u001b[36mmetrics\u001b[0m=\u001b[35m{'time_sample_batch': 0.0009686900615692138, 'time_algorithm_update': 0.0029858521461486815, 'loss': 1.5142977035045624, 'td_loss': 0.03998472733311355, 'conservative_loss': 1.474312975549698, 'time_step': 0.004087112331390381, 'environment': 0.10000000000000009}\u001b[0m \u001b[36mstep\u001b[0m=\u001b[35m15000\u001b[0m\n",
      "\u001b[2m2024-04-13 17:13.58\u001b[0m [\u001b[32m\u001b[1minfo     \u001b[0m] \u001b[1mModel parameters are saved to d3rlpy_logs/DiscreteCQL_20240413171256/model_15000.d3\u001b[0m\n"
     ]
    },
    {
     "name": "stderr",
     "output_type": "stream",
     "text": [
      "Epoch 4/20: 100%|██████████| 5000/5000 [00:20<00:00, 243.07it/s, loss=1.51, td_loss=0.0407, conservative_loss=1.47]\n"
     ]
    },
    {
     "name": "stdout",
     "output_type": "stream",
     "text": [
      "\u001b[2m2024-04-13 17:14.19\u001b[0m [\u001b[32m\u001b[1minfo     \u001b[0m] \u001b[1mDiscreteCQL_20240413171256: epoch=4 step=20000\u001b[0m \u001b[36mepoch\u001b[0m=\u001b[35m4\u001b[0m \u001b[36mmetrics\u001b[0m=\u001b[35m{'time_sample_batch': 0.0009694646835327149, 'time_algorithm_update': 0.002980721664428711, 'loss': 1.5129323682785034, 'td_loss': 0.040653022149577736, 'conservative_loss': 1.4722793456554413, 'time_step': 0.0040825987815856935, 'environment': 0.10000000000000009}\u001b[0m \u001b[36mstep\u001b[0m=\u001b[35m20000\u001b[0m\n",
      "\u001b[2m2024-04-13 17:14.19\u001b[0m [\u001b[32m\u001b[1minfo     \u001b[0m] \u001b[1mModel parameters are saved to d3rlpy_logs/DiscreteCQL_20240413171256/model_20000.d3\u001b[0m\n"
     ]
    },
    {
     "name": "stderr",
     "output_type": "stream",
     "text": [
      "Epoch 5/20: 100%|██████████| 5000/5000 [00:20<00:00, 243.87it/s, loss=1.51, td_loss=0.0395, conservative_loss=1.47]\n"
     ]
    },
    {
     "name": "stdout",
     "output_type": "stream",
     "text": [
      "\u001b[2m2024-04-13 17:14.39\u001b[0m [\u001b[32m\u001b[1minfo     \u001b[0m] \u001b[1mDiscreteCQL_20240413171256: epoch=5 step=25000\u001b[0m \u001b[36mepoch\u001b[0m=\u001b[35m5\u001b[0m \u001b[36mmetrics\u001b[0m=\u001b[35m{'time_sample_batch': 0.0009663794994354248, 'time_algorithm_update': 0.0029732683658599854, 'loss': 1.5117296393632889, 'td_loss': 0.0394701109547168, 'conservative_loss': 1.4722595281362534, 'time_step': 0.0040700254440307615, 'environment': 0.10000000000000009}\u001b[0m \u001b[36mstep\u001b[0m=\u001b[35m25000\u001b[0m\n",
      "\u001b[2m2024-04-13 17:14.39\u001b[0m [\u001b[32m\u001b[1minfo     \u001b[0m] \u001b[1mModel parameters are saved to d3rlpy_logs/DiscreteCQL_20240413171256/model_25000.d3\u001b[0m\n"
     ]
    },
    {
     "name": "stderr",
     "output_type": "stream",
     "text": [
      "Epoch 6/20: 100%|██████████| 5000/5000 [00:20<00:00, 243.20it/s, loss=1.51, td_loss=0.0391, conservative_loss=1.47]\n"
     ]
    },
    {
     "name": "stdout",
     "output_type": "stream",
     "text": [
      "\u001b[2m2024-04-13 17:15.00\u001b[0m [\u001b[32m\u001b[1minfo     \u001b[0m] \u001b[1mDiscreteCQL_20240413171256: epoch=6 step=30000\u001b[0m \u001b[36mepoch\u001b[0m=\u001b[35m6\u001b[0m \u001b[36mmetrics\u001b[0m=\u001b[35m{'time_sample_batch': 0.0009666520595550537, 'time_algorithm_update': 0.0029826093673706055, 'loss': 1.509838224864006, 'td_loss': 0.03909129047952593, 'conservative_loss': 1.4707469352483749, 'time_step': 0.004080645418167115, 'environment': 0.10000000000000009}\u001b[0m \u001b[36mstep\u001b[0m=\u001b[35m30000\u001b[0m\n",
      "\u001b[2m2024-04-13 17:15.00\u001b[0m [\u001b[32m\u001b[1minfo     \u001b[0m] \u001b[1mModel parameters are saved to d3rlpy_logs/DiscreteCQL_20240413171256/model_30000.d3\u001b[0m\n"
     ]
    },
    {
     "name": "stderr",
     "output_type": "stream",
     "text": [
      "Epoch 7/20: 100%|██████████| 5000/5000 [00:21<00:00, 237.76it/s, loss=1.51, td_loss=0.0409, conservative_loss=1.47]\n"
     ]
    },
    {
     "name": "stdout",
     "output_type": "stream",
     "text": [
      "\u001b[2m2024-04-13 17:15.21\u001b[0m [\u001b[32m\u001b[1minfo     \u001b[0m] \u001b[1mDiscreteCQL_20240413171256: epoch=7 step=35000\u001b[0m \u001b[36mepoch\u001b[0m=\u001b[35m7\u001b[0m \u001b[36mmetrics\u001b[0m=\u001b[35m{'time_sample_batch': 0.0009800507545471191, 'time_algorithm_update': 0.00305852952003479, 'loss': 1.5131954557418823, 'td_loss': 0.04092663439661264, 'conservative_loss': 1.4722688216209412, 'time_step': 0.004173424577713013, 'environment': 0.10000000000000009}\u001b[0m \u001b[36mstep\u001b[0m=\u001b[35m35000\u001b[0m\n",
      "\u001b[2m2024-04-13 17:15.21\u001b[0m [\u001b[32m\u001b[1minfo     \u001b[0m] \u001b[1mModel parameters are saved to d3rlpy_logs/DiscreteCQL_20240413171256/model_35000.d3\u001b[0m\n"
     ]
    },
    {
     "name": "stderr",
     "output_type": "stream",
     "text": [
      "Epoch 8/20: 100%|██████████| 5000/5000 [00:21<00:00, 232.32it/s, loss=1.51, td_loss=0.0414, conservative_loss=1.47]\n"
     ]
    },
    {
     "name": "stdout",
     "output_type": "stream",
     "text": [
      "\u001b[2m2024-04-13 17:15.43\u001b[0m [\u001b[32m\u001b[1minfo     \u001b[0m] \u001b[1mDiscreteCQL_20240413171256: epoch=8 step=40000\u001b[0m \u001b[36mepoch\u001b[0m=\u001b[35m8\u001b[0m \u001b[36mmetrics\u001b[0m=\u001b[35m{'time_sample_batch': 0.00098561749458313, 'time_algorithm_update': 0.0031494510173797606, 'loss': 1.513290172791481, 'td_loss': 0.041438425106741485, 'conservative_loss': 1.471851748251915, 'time_step': 0.004271210765838623, 'environment': 0.10000000000000009}\u001b[0m \u001b[36mstep\u001b[0m=\u001b[35m40000\u001b[0m\n",
      "\u001b[2m2024-04-13 17:15.43\u001b[0m [\u001b[32m\u001b[1minfo     \u001b[0m] \u001b[1mModel parameters are saved to d3rlpy_logs/DiscreteCQL_20240413171256/model_40000.d3\u001b[0m\n"
     ]
    },
    {
     "name": "stderr",
     "output_type": "stream",
     "text": [
      "Epoch 9/20: 100%|██████████| 5000/5000 [00:21<00:00, 232.76it/s, loss=1.52, td_loss=0.0443, conservative_loss=1.48]\n"
     ]
    },
    {
     "name": "stdout",
     "output_type": "stream",
     "text": [
      "\u001b[2m2024-04-13 17:16.04\u001b[0m [\u001b[32m\u001b[1minfo     \u001b[0m] \u001b[1mDiscreteCQL_20240413171256: epoch=9 step=45000\u001b[0m \u001b[36mepoch\u001b[0m=\u001b[35m9\u001b[0m \u001b[36mmetrics\u001b[0m=\u001b[35m{'time_sample_batch': 0.0009839345455169679, 'time_algorithm_update': 0.003143380117416382, 'loss': 1.5215503067016602, 'td_loss': 0.044240982486307624, 'conservative_loss': 1.4773093249559401, 'time_step': 0.004263213872909546, 'environment': 0.10000000000000009}\u001b[0m \u001b[36mstep\u001b[0m=\u001b[35m45000\u001b[0m\n",
      "\u001b[2m2024-04-13 17:16.04\u001b[0m [\u001b[32m\u001b[1minfo     \u001b[0m] \u001b[1mModel parameters are saved to d3rlpy_logs/DiscreteCQL_20240413171256/model_45000.d3\u001b[0m\n"
     ]
    },
    {
     "name": "stderr",
     "output_type": "stream",
     "text": [
      "Epoch 10/20: 100%|██████████| 5000/5000 [00:21<00:00, 231.97it/s, loss=1.52, td_loss=0.0453, conservative_loss=1.48]\n"
     ]
    },
    {
     "name": "stdout",
     "output_type": "stream",
     "text": [
      "\u001b[2m2024-04-13 17:16.26\u001b[0m [\u001b[32m\u001b[1minfo     \u001b[0m] \u001b[1mDiscreteCQL_20240413171256: epoch=10 step=50000\u001b[0m \u001b[36mepoch\u001b[0m=\u001b[35m10\u001b[0m \u001b[36mmetrics\u001b[0m=\u001b[35m{'time_sample_batch': 0.0009899716377258301, 'time_algorithm_update': 0.003151001787185669, 'loss': 1.5223357257843018, 'td_loss': 0.04527049422040582, 'conservative_loss': 1.4770652316570283, 'time_step': 0.004277113628387451, 'environment': 0.10000000000000009}\u001b[0m \u001b[36mstep\u001b[0m=\u001b[35m50000\u001b[0m\n",
      "\u001b[2m2024-04-13 17:16.26\u001b[0m [\u001b[32m\u001b[1minfo     \u001b[0m] \u001b[1mModel parameters are saved to d3rlpy_logs/DiscreteCQL_20240413171256/model_50000.d3\u001b[0m\n"
     ]
    },
    {
     "name": "stderr",
     "output_type": "stream",
     "text": [
      "Epoch 11/20: 100%|██████████| 5000/5000 [00:21<00:00, 233.97it/s, loss=1.52, td_loss=0.0468, conservative_loss=1.48]\n"
     ]
    },
    {
     "name": "stdout",
     "output_type": "stream",
     "text": [
      "\u001b[2m2024-04-13 17:16.47\u001b[0m [\u001b[32m\u001b[1minfo     \u001b[0m] \u001b[1mDiscreteCQL_20240413171256: epoch=11 step=55000\u001b[0m \u001b[36mepoch\u001b[0m=\u001b[35m11\u001b[0m \u001b[36mmetrics\u001b[0m=\u001b[35m{'time_sample_batch': 0.0009805289268493653, 'time_algorithm_update': 0.003124603176116943, 'loss': 1.5222606471061706, 'td_loss': 0.046830162427201866, 'conservative_loss': 1.4754304845571518, 'time_step': 0.004240386104583741, 'environment': 0.10000000000000009}\u001b[0m \u001b[36mstep\u001b[0m=\u001b[35m55000\u001b[0m\n",
      "\u001b[2m2024-04-13 17:16.47\u001b[0m [\u001b[32m\u001b[1minfo     \u001b[0m] \u001b[1mModel parameters are saved to d3rlpy_logs/DiscreteCQL_20240413171256/model_55000.d3\u001b[0m\n"
     ]
    },
    {
     "name": "stderr",
     "output_type": "stream",
     "text": [
      "Epoch 12/20: 100%|██████████| 5000/5000 [00:20<00:00, 243.43it/s, loss=1.53, td_loss=0.0494, conservative_loss=1.48]\n"
     ]
    },
    {
     "name": "stdout",
     "output_type": "stream",
     "text": [
      "\u001b[2m2024-04-13 17:17.08\u001b[0m [\u001b[32m\u001b[1minfo     \u001b[0m] \u001b[1mDiscreteCQL_20240413171256: epoch=12 step=60000\u001b[0m \u001b[36mepoch\u001b[0m=\u001b[35m12\u001b[0m \u001b[36mmetrics\u001b[0m=\u001b[35m{'time_sample_batch': 0.0009606705665588379, 'time_algorithm_update': 0.0029840718746185304, 'loss': 1.5289561302900314, 'td_loss': 0.049417598740011455, 'conservative_loss': 1.4795385311365128, 'time_step': 0.004075976133346558, 'environment': 0.10000000000000009}\u001b[0m \u001b[36mstep\u001b[0m=\u001b[35m60000\u001b[0m\n",
      "\u001b[2m2024-04-13 17:17.08\u001b[0m [\u001b[32m\u001b[1minfo     \u001b[0m] \u001b[1mModel parameters are saved to d3rlpy_logs/DiscreteCQL_20240413171256/model_60000.d3\u001b[0m\n"
     ]
    },
    {
     "name": "stderr",
     "output_type": "stream",
     "text": [
      "Epoch 13/20: 100%|██████████| 5000/5000 [00:20<00:00, 244.23it/s, loss=1.53, td_loss=0.0506, conservative_loss=1.48]\n"
     ]
    },
    {
     "name": "stdout",
     "output_type": "stream",
     "text": [
      "\u001b[2m2024-04-13 17:17.28\u001b[0m [\u001b[32m\u001b[1minfo     \u001b[0m] \u001b[1mDiscreteCQL_20240413171256: epoch=13 step=65000\u001b[0m \u001b[36mepoch\u001b[0m=\u001b[35m13\u001b[0m \u001b[36mmetrics\u001b[0m=\u001b[35m{'time_sample_batch': 0.0009585498332977295, 'time_algorithm_update': 0.002986742830276489, 'loss': 1.5299733949899674, 'td_loss': 0.05054330556318164, 'conservative_loss': 1.4794300897598267, 'time_step': 0.004067367362976074, 'environment': 0.10000000000000009}\u001b[0m \u001b[36mstep\u001b[0m=\u001b[35m65000\u001b[0m\n",
      "\u001b[2m2024-04-13 17:17.28\u001b[0m [\u001b[32m\u001b[1minfo     \u001b[0m] \u001b[1mModel parameters are saved to d3rlpy_logs/DiscreteCQL_20240413171256/model_65000.d3\u001b[0m\n"
     ]
    },
    {
     "name": "stderr",
     "output_type": "stream",
     "text": [
      "Epoch 14/20: 100%|██████████| 5000/5000 [00:20<00:00, 239.14it/s, loss=1.54, td_loss=0.0529, conservative_loss=1.48]\n"
     ]
    },
    {
     "name": "stdout",
     "output_type": "stream",
     "text": [
      "\u001b[2m2024-04-13 17:17.49\u001b[0m [\u001b[32m\u001b[1minfo     \u001b[0m] \u001b[1mDiscreteCQL_20240413171256: epoch=14 step=70000\u001b[0m \u001b[36mepoch\u001b[0m=\u001b[35m14\u001b[0m \u001b[36mmetrics\u001b[0m=\u001b[35m{'time_sample_batch': 0.0009917377948760987, 'time_algorithm_update': 0.0030246557712554933, 'loss': 1.5355710573911667, 'td_loss': 0.05285729450881481, 'conservative_loss': 1.4827137628555298, 'time_step': 0.004151329231262207, 'environment': 0.10000000000000009}\u001b[0m \u001b[36mstep\u001b[0m=\u001b[35m70000\u001b[0m\n",
      "\u001b[2m2024-04-13 17:17.49\u001b[0m [\u001b[32m\u001b[1minfo     \u001b[0m] \u001b[1mModel parameters are saved to d3rlpy_logs/DiscreteCQL_20240413171256/model_70000.d3\u001b[0m\n"
     ]
    },
    {
     "name": "stderr",
     "output_type": "stream",
     "text": [
      "Epoch 15/20: 100%|██████████| 5000/5000 [00:21<00:00, 235.97it/s, loss=1.54, td_loss=0.0549, conservative_loss=1.48]\n"
     ]
    },
    {
     "name": "stdout",
     "output_type": "stream",
     "text": [
      "\u001b[2m2024-04-13 17:18.11\u001b[0m [\u001b[32m\u001b[1minfo     \u001b[0m] \u001b[1mDiscreteCQL_20240413171256: epoch=15 step=75000\u001b[0m \u001b[36mepoch\u001b[0m=\u001b[35m15\u001b[0m \u001b[36mmetrics\u001b[0m=\u001b[35m{'time_sample_batch': 0.0009727768898010254, 'time_algorithm_update': 0.0030894055366516115, 'loss': 1.53887071287632, 'td_loss': 0.05489844842478633, 'conservative_loss': 1.4839722636222838, 'time_step': 0.004204746532440185, 'environment': 0.10000000000000009}\u001b[0m \u001b[36mstep\u001b[0m=\u001b[35m75000\u001b[0m\n",
      "\u001b[2m2024-04-13 17:18.11\u001b[0m [\u001b[32m\u001b[1minfo     \u001b[0m] \u001b[1mModel parameters are saved to d3rlpy_logs/DiscreteCQL_20240413171256/model_75000.d3\u001b[0m\n"
     ]
    },
    {
     "name": "stderr",
     "output_type": "stream",
     "text": [
      "Epoch 16/20: 100%|██████████| 5000/5000 [00:20<00:00, 239.07it/s, loss=1.54, td_loss=0.0564, conservative_loss=1.49]\n"
     ]
    },
    {
     "name": "stdout",
     "output_type": "stream",
     "text": [
      "\u001b[2m2024-04-13 17:18.32\u001b[0m [\u001b[32m\u001b[1minfo     \u001b[0m] \u001b[1mDiscreteCQL_20240413171256: epoch=16 step=80000\u001b[0m \u001b[36mepoch\u001b[0m=\u001b[35m16\u001b[0m \u001b[36mmetrics\u001b[0m=\u001b[35m{'time_sample_batch': 0.0009770940780639648, 'time_algorithm_update': 0.0030325053215026856, 'loss': 1.541472202706337, 'td_loss': 0.05641527144424617, 'conservative_loss': 1.4850569309949875, 'time_step': 0.004148747396469117, 'environment': 0.10000000000000009}\u001b[0m \u001b[36mstep\u001b[0m=\u001b[35m80000\u001b[0m\n",
      "\u001b[2m2024-04-13 17:18.32\u001b[0m [\u001b[32m\u001b[1minfo     \u001b[0m] \u001b[1mModel parameters are saved to d3rlpy_logs/DiscreteCQL_20240413171256/model_80000.d3\u001b[0m\n"
     ]
    },
    {
     "name": "stderr",
     "output_type": "stream",
     "text": [
      "Epoch 17/20: 100%|██████████| 5000/5000 [00:20<00:00, 242.51it/s, loss=1.55, td_loss=0.0592, conservative_loss=1.49]\n"
     ]
    },
    {
     "name": "stdout",
     "output_type": "stream",
     "text": [
      "\u001b[2m2024-04-13 17:18.53\u001b[0m [\u001b[32m\u001b[1minfo     \u001b[0m] \u001b[1mDiscreteCQL_20240413171256: epoch=17 step=85000\u001b[0m \u001b[36mepoch\u001b[0m=\u001b[35m17\u001b[0m \u001b[36mmetrics\u001b[0m=\u001b[35m{'time_sample_batch': 0.0009676309585571289, 'time_algorithm_update': 0.002991536283493042, 'loss': 1.547865938806534, 'td_loss': 0.059149441136419775, 'conservative_loss': 1.4887164982557297, 'time_step': 0.004092388486862182, 'environment': 0.10000000000000009}\u001b[0m \u001b[36mstep\u001b[0m=\u001b[35m85000\u001b[0m\n",
      "\u001b[2m2024-04-13 17:18.53\u001b[0m [\u001b[32m\u001b[1minfo     \u001b[0m] \u001b[1mModel parameters are saved to d3rlpy_logs/DiscreteCQL_20240413171256/model_85000.d3\u001b[0m\n"
     ]
    },
    {
     "name": "stderr",
     "output_type": "stream",
     "text": [
      "Epoch 18/20: 100%|██████████| 5000/5000 [00:20<00:00, 243.73it/s, loss=1.55, td_loss=0.0615, conservative_loss=1.49]\n"
     ]
    },
    {
     "name": "stdout",
     "output_type": "stream",
     "text": [
      "\u001b[2m2024-04-13 17:19.13\u001b[0m [\u001b[32m\u001b[1minfo     \u001b[0m] \u001b[1mDiscreteCQL_20240413171256: epoch=18 step=90000\u001b[0m \u001b[36mepoch\u001b[0m=\u001b[35m18\u001b[0m \u001b[36mmetrics\u001b[0m=\u001b[35m{'time_sample_batch': 0.0009598182678222656, 'time_algorithm_update': 0.002980598020553589, 'loss': 1.5483189237594603, 'td_loss': 0.06145000171922147, 'conservative_loss': 1.4868689217329025, 'time_step': 0.004071393060684204, 'environment': 0.10000000000000009}\u001b[0m \u001b[36mstep\u001b[0m=\u001b[35m90000\u001b[0m\n",
      "\u001b[2m2024-04-13 17:19.13\u001b[0m [\u001b[32m\u001b[1minfo     \u001b[0m] \u001b[1mModel parameters are saved to d3rlpy_logs/DiscreteCQL_20240413171256/model_90000.d3\u001b[0m\n"
     ]
    },
    {
     "name": "stderr",
     "output_type": "stream",
     "text": [
      "Epoch 19/20: 100%|██████████| 5000/5000 [00:20<00:00, 243.34it/s, loss=1.55, td_loss=0.0624, conservative_loss=1.49]\n"
     ]
    },
    {
     "name": "stdout",
     "output_type": "stream",
     "text": [
      "\u001b[2m2024-04-13 17:19.34\u001b[0m [\u001b[32m\u001b[1minfo     \u001b[0m] \u001b[1mDiscreteCQL_20240413171256: epoch=19 step=95000\u001b[0m \u001b[36mepoch\u001b[0m=\u001b[35m19\u001b[0m \u001b[36mmetrics\u001b[0m=\u001b[35m{'time_sample_batch': 0.0009609932899475097, 'time_algorithm_update': 0.002985897445678711, 'loss': 1.5534190591573716, 'td_loss': 0.062399016108736396, 'conservative_loss': 1.4910200431108476, 'time_step': 0.004077557325363159, 'environment': 0.10000000000000009}\u001b[0m \u001b[36mstep\u001b[0m=\u001b[35m95000\u001b[0m\n",
      "\u001b[2m2024-04-13 17:19.34\u001b[0m [\u001b[32m\u001b[1minfo     \u001b[0m] \u001b[1mModel parameters are saved to d3rlpy_logs/DiscreteCQL_20240413171256/model_95000.d3\u001b[0m\n"
     ]
    },
    {
     "name": "stderr",
     "output_type": "stream",
     "text": [
      "Epoch 20/20: 100%|██████████| 5000/5000 [00:20<00:00, 242.69it/s, loss=1.56, td_loss=0.066, conservative_loss=1.49] \n"
     ]
    },
    {
     "name": "stdout",
     "output_type": "stream",
     "text": [
      "\u001b[2m2024-04-13 17:19.54\u001b[0m [\u001b[32m\u001b[1minfo     \u001b[0m] \u001b[1mDiscreteCQL_20240413171256: epoch=20 step=100000\u001b[0m \u001b[36mepoch\u001b[0m=\u001b[35m20\u001b[0m \u001b[36mmetrics\u001b[0m=\u001b[35m{'time_sample_batch': 0.0009638972282409668, 'time_algorithm_update': 0.002992976522445679, 'loss': 1.5570721309423448, 'td_loss': 0.06602580439150334, 'conservative_loss': 1.4910463263750076, 'time_step': 0.004088831615447998, 'environment': 0.10000000000000009}\u001b[0m \u001b[36mstep\u001b[0m=\u001b[35m100000\u001b[0m\n",
      "\u001b[2m2024-04-13 17:19.54\u001b[0m [\u001b[32m\u001b[1minfo     \u001b[0m] \u001b[1mModel parameters are saved to d3rlpy_logs/DiscreteCQL_20240413171256/model_100000.d3\u001b[0m\n"
     ]
    }
   ],
   "source": [
    "# setup CQL algorithm\n",
    "cql = d3rlpy.algos.DiscreteCQLConfig().create(device='cuda:0')\n",
    "\n",
    "# start training\n",
    "statistics_cql_mixed = cql.fit(\n",
    "    mixed_dataset,\n",
    "    n_steps=100000,\n",
    "    n_steps_per_epoch=5000,\n",
    "    evaluators={\n",
    "        'environment': d3rlpy.metrics.EnvironmentEvaluator(env),\n",
    "    },\n",
    ")"
   ]
  },
  {
   "cell_type": "markdown",
   "id": "b82bb157-9da9-4df5-8017-a57b7277feb3",
   "metadata": {},
   "source": [
    "# DT на смешанных данных"
   ]
  },
  {
   "cell_type": "code",
   "execution_count": 36,
   "id": "3ee2651a-f3b7-4a97-a171-cdc5eabb79eb",
   "metadata": {
    "execution": {
     "iopub.execute_input": "2024-04-13T17:20:09.450991Z",
     "iopub.status.busy": "2024-04-13T17:20:09.450645Z",
     "iopub.status.idle": "2024-04-13T18:33:01.580824Z",
     "shell.execute_reply": "2024-04-13T18:33:01.579991Z",
     "shell.execute_reply.started": "2024-04-13T17:20:09.450971Z"
    }
   },
   "outputs": [
    {
     "name": "stdout",
     "output_type": "stream",
     "text": [
      "\u001b[2m2024-04-13 17:20.09\u001b[0m [\u001b[32m\u001b[1minfo     \u001b[0m] \u001b[1mdataset info                  \u001b[0m \u001b[36mdataset_info\u001b[0m=\u001b[35mDatasetInfo(observation_signature=Signature(dtype=[dtype('float64')], shape=[(49,)]), action_signature=Signature(dtype=[dtype('int64')], shape=[(1,)]), reward_signature=Signature(dtype=[dtype('float64')], shape=[(1,)]), action_space=<ActionSpace.DISCRETE: 2>, action_size=5)\u001b[0m\n",
      "\u001b[2m2024-04-13 17:20.09\u001b[0m [\u001b[32m\u001b[1minfo     \u001b[0m] \u001b[1mDirectory is created at d3rlpy_logs/DiscreteDecisionTransformer_20240413172009\u001b[0m\n",
      "\u001b[2m2024-04-13 17:20.09\u001b[0m [\u001b[32m\u001b[1mdebug    \u001b[0m] \u001b[1mBuilding models...            \u001b[0m\n",
      "\u001b[2m2024-04-13 17:20.09\u001b[0m [\u001b[32m\u001b[1mdebug    \u001b[0m] \u001b[1mModels have been built.       \u001b[0m\n",
      "\u001b[2m2024-04-13 17:20.09\u001b[0m [\u001b[32m\u001b[1minfo     \u001b[0m] \u001b[1mParameters                    \u001b[0m \u001b[36mparams\u001b[0m=\u001b[35m{'observation_shape': [49], 'action_size': 5, 'config': {'type': 'discrete_decision_transformer', 'params': {'batch_size': 128, 'gamma': 0.99, 'observation_scaler': {'type': 'none', 'params': {}}, 'action_scaler': {'type': 'none', 'params': {}}, 'reward_scaler': {'type': 'none', 'params': {}}, 'context_size': 20, 'max_timestep': 1000, 'learning_rate': 0.0006, 'encoder_factory': {'type': 'default', 'params': {'activation': 'relu', 'use_batch_norm': False, 'dropout_rate': None}}, 'optim_factory': {'type': 'adam', 'params': {'betas': [0.9, 0.999], 'eps': 1e-08, 'weight_decay': 0, 'amsgrad': False}}, 'num_heads': 8, 'num_layers': 6, 'attn_dropout': 0.1, 'resid_dropout': 0.1, 'embed_dropout': 0.1, 'activation_type': 'gelu', 'embed_activation_type': 'tanh', 'position_encoding_type': <PositionEncodingType.GLOBAL: 'global'>, 'warmup_tokens': 10240, 'final_tokens': 30000000, 'clip_grad_norm': 1.0, 'compile': False}}}\u001b[0m\n"
     ]
    },
    {
     "name": "stderr",
     "output_type": "stream",
     "text": [
      "Epoch 1/20: 100%|██████████| 5000/5000 [03:32<00:00, 23.55it/s, loss=1.04, learning_rate=0.000553]\n"
     ]
    },
    {
     "name": "stdout",
     "output_type": "stream",
     "text": [
      "\u001b[2m2024-04-13 17:23.43\u001b[0m [\u001b[32m\u001b[1minfo     \u001b[0m] \u001b[1mDiscreteDecisionTransformer_20240413172009: epoch=1 step=5000\u001b[0m \u001b[36mepoch\u001b[0m=\u001b[35m1\u001b[0m \u001b[36mmetrics\u001b[0m=\u001b[35m{'time_sample_batch': 0.0059661354064941404, 'time_algorithm_update': 0.036083348894119266, 'loss': 1.0414518904209138, 'learning_rate': 0.0005528570493799698, 'time_step': 0.042204535007476805, 'environment': -0.1299999999999999}\u001b[0m \u001b[36mstep\u001b[0m=\u001b[35m5000\u001b[0m\n",
      "\u001b[2m2024-04-13 17:23.44\u001b[0m [\u001b[32m\u001b[1minfo     \u001b[0m] \u001b[1mModel parameters are saved to d3rlpy_logs/DiscreteDecisionTransformer_20240413172009/model_5000.d3\u001b[0m\n"
     ]
    },
    {
     "name": "stderr",
     "output_type": "stream",
     "text": [
      "Epoch 2/20: 100%|██████████| 5000/5000 [03:33<00:00, 23.43it/s, loss=1.01, learning_rate=0.000323]\n"
     ]
    },
    {
     "name": "stdout",
     "output_type": "stream",
     "text": [
      "\u001b[2m2024-04-13 17:27.22\u001b[0m [\u001b[32m\u001b[1minfo     \u001b[0m] \u001b[1mDiscreteDecisionTransformer_20240413172009: epoch=2 step=10000\u001b[0m \u001b[36mepoch\u001b[0m=\u001b[35m2\u001b[0m \u001b[36mmetrics\u001b[0m=\u001b[35m{'time_sample_batch': 0.005909039545059204, 'time_algorithm_update': 0.03635057015419006, 'loss': 1.0067791234254837, 'learning_rate': 0.0003231948406269756, 'time_step': 0.04242621726989746, 'environment': -0.5299999999999999}\u001b[0m \u001b[36mstep\u001b[0m=\u001b[35m10000\u001b[0m\n",
      "\u001b[2m2024-04-13 17:27.22\u001b[0m [\u001b[32m\u001b[1minfo     \u001b[0m] \u001b[1mModel parameters are saved to d3rlpy_logs/DiscreteDecisionTransformer_20240413172009/model_10000.d3\u001b[0m\n"
     ]
    },
    {
     "name": "stderr",
     "output_type": "stream",
     "text": [
      "Epoch 3/20: 100%|██████████| 5000/5000 [03:34<00:00, 23.35it/s, loss=0.948, learning_rate=8.84e-5] \n"
     ]
    },
    {
     "name": "stdout",
     "output_type": "stream",
     "text": [
      "\u001b[2m2024-04-13 17:31.02\u001b[0m [\u001b[32m\u001b[1minfo     \u001b[0m] \u001b[1mDiscreteDecisionTransformer_20240413172009: epoch=3 step=15000\u001b[0m \u001b[36mepoch\u001b[0m=\u001b[35m3\u001b[0m \u001b[36mmetrics\u001b[0m=\u001b[35m{'time_sample_batch': 0.005945569896697998, 'time_algorithm_update': 0.036428567790985106, 'loss': 0.9479875985145569, 'learning_rate': 8.836382954137516e-05, 'time_step': 0.042543669509887694, 'environment': -0.7099999999999997}\u001b[0m \u001b[36mstep\u001b[0m=\u001b[35m15000\u001b[0m\n",
      "\u001b[2m2024-04-13 17:31.02\u001b[0m [\u001b[32m\u001b[1minfo     \u001b[0m] \u001b[1mModel parameters are saved to d3rlpy_logs/DiscreteDecisionTransformer_20240413172009/model_15000.d3\u001b[0m\n"
     ]
    },
    {
     "name": "stderr",
     "output_type": "stream",
     "text": [
      "Epoch 4/20: 100%|██████████| 5000/5000 [03:34<00:00, 23.35it/s, loss=0.911, learning_rate=6.35e-5]\n"
     ]
    },
    {
     "name": "stdout",
     "output_type": "stream",
     "text": [
      "\u001b[2m2024-04-13 17:34.42\u001b[0m [\u001b[32m\u001b[1minfo     \u001b[0m] \u001b[1mDiscreteDecisionTransformer_20240413172009: epoch=4 step=20000\u001b[0m \u001b[36mepoch\u001b[0m=\u001b[35m4\u001b[0m \u001b[36mmetrics\u001b[0m=\u001b[35m{'time_sample_batch': 0.005929696702957153, 'time_algorithm_update': 0.03643626618385315, 'loss': 0.9106450942516326, 'learning_rate': 6.359018580324863e-05, 'time_step': 0.04253561329841614, 'environment': -0.9999999999999998}\u001b[0m \u001b[36mstep\u001b[0m=\u001b[35m20000\u001b[0m\n",
      "\u001b[2m2024-04-13 17:34.42\u001b[0m [\u001b[32m\u001b[1minfo     \u001b[0m] \u001b[1mModel parameters are saved to d3rlpy_logs/DiscreteDecisionTransformer_20240413172009/model_20000.d3\u001b[0m\n"
     ]
    },
    {
     "name": "stderr",
     "output_type": "stream",
     "text": [
      "Epoch 5/20: 100%|██████████| 5000/5000 [03:34<00:00, 23.34it/s, loss=0.875, learning_rate=0.000232]\n"
     ]
    },
    {
     "name": "stdout",
     "output_type": "stream",
     "text": [
      "\u001b[2m2024-04-13 17:38.22\u001b[0m [\u001b[32m\u001b[1minfo     \u001b[0m] \u001b[1mDiscreteDecisionTransformer_20240413172009: epoch=5 step=25000\u001b[0m \u001b[36mepoch\u001b[0m=\u001b[35m5\u001b[0m \u001b[36mmetrics\u001b[0m=\u001b[35m{'time_sample_batch': 0.00595489010810852, 'time_algorithm_update': 0.03644158067703247, 'loss': 0.8751342185139656, 'learning_rate': 0.0002319404220977309, 'time_step': 0.04256297845840454, 'environment': -0.8099999999999998}\u001b[0m \u001b[36mstep\u001b[0m=\u001b[35m25000\u001b[0m\n",
      "\u001b[2m2024-04-13 17:38.22\u001b[0m [\u001b[32m\u001b[1minfo     \u001b[0m] \u001b[1mModel parameters are saved to d3rlpy_logs/DiscreteDecisionTransformer_20240413172009/model_25000.d3\u001b[0m\n"
     ]
    },
    {
     "name": "stderr",
     "output_type": "stream",
     "text": [
      "Epoch 6/20: 100%|██████████| 5000/5000 [03:33<00:00, 23.37it/s, loss=0.768, learning_rate=0.000497]\n"
     ]
    },
    {
     "name": "stdout",
     "output_type": "stream",
     "text": [
      "\u001b[2m2024-04-13 17:42.01\u001b[0m [\u001b[32m\u001b[1minfo     \u001b[0m] \u001b[1mDiscreteDecisionTransformer_20240413172009: epoch=6 step=30000\u001b[0m \u001b[36mepoch\u001b[0m=\u001b[35m6\u001b[0m \u001b[36mmetrics\u001b[0m=\u001b[35m{'time_sample_batch': 0.005921438598632813, 'time_algorithm_update': 0.036404494905471804, 'loss': 0.767811245393753, 'learning_rate': 0.0004974324653356836, 'time_step': 0.04249953589439392, 'environment': -0.49999999999999983}\u001b[0m \u001b[36mstep\u001b[0m=\u001b[35m30000\u001b[0m\n",
      "\u001b[2m2024-04-13 17:42.01\u001b[0m [\u001b[32m\u001b[1minfo     \u001b[0m] \u001b[1mModel parameters are saved to d3rlpy_logs/DiscreteDecisionTransformer_20240413172009/model_30000.d3\u001b[0m\n"
     ]
    },
    {
     "name": "stderr",
     "output_type": "stream",
     "text": [
      "Epoch 7/20: 100%|██████████| 5000/5000 [03:33<00:00, 23.42it/s, loss=0.587, learning_rate=0.000583]\n"
     ]
    },
    {
     "name": "stdout",
     "output_type": "stream",
     "text": [
      "\u001b[2m2024-04-13 17:45.40\u001b[0m [\u001b[32m\u001b[1minfo     \u001b[0m] \u001b[1mDiscreteDecisionTransformer_20240413172009: epoch=7 step=35000\u001b[0m \u001b[36mepoch\u001b[0m=\u001b[35m7\u001b[0m \u001b[36mmetrics\u001b[0m=\u001b[35m{'time_sample_batch': 0.005922336864471436, 'time_algorithm_update': 0.03632470240592957, 'loss': 0.5865100110948086, 'learning_rate': 0.0005831668762181025, 'time_step': 0.04241949381828308, 'environment': -0.7999999999999998}\u001b[0m \u001b[36mstep\u001b[0m=\u001b[35m35000\u001b[0m\n",
      "\u001b[2m2024-04-13 17:45.41\u001b[0m [\u001b[32m\u001b[1minfo     \u001b[0m] \u001b[1mModel parameters are saved to d3rlpy_logs/DiscreteDecisionTransformer_20240413172009/model_35000.d3\u001b[0m\n"
     ]
    },
    {
     "name": "stderr",
     "output_type": "stream",
     "text": [
      "Epoch 8/20: 100%|██████████| 5000/5000 [03:32<00:00, 23.52it/s, loss=0.45, learning_rate=0.000412] \n"
     ]
    },
    {
     "name": "stdout",
     "output_type": "stream",
     "text": [
      "\u001b[2m2024-04-13 17:49.19\u001b[0m [\u001b[32m\u001b[1minfo     \u001b[0m] \u001b[1mDiscreteDecisionTransformer_20240413172009: epoch=8 step=40000\u001b[0m \u001b[36mepoch\u001b[0m=\u001b[35m8\u001b[0m \u001b[36mmetrics\u001b[0m=\u001b[35m{'time_sample_batch': 0.005947780895233155, 'time_algorithm_update': 0.03612267360687256, 'loss': 0.4500051902770996, 'learning_rate': 0.0004113915276359216, 'time_step': 0.04223285841941833, 'environment': -0.6099999999999999}\u001b[0m \u001b[36mstep\u001b[0m=\u001b[35m40000\u001b[0m\n",
      "\u001b[2m2024-04-13 17:49.19\u001b[0m [\u001b[32m\u001b[1minfo     \u001b[0m] \u001b[1mModel parameters are saved to d3rlpy_logs/DiscreteDecisionTransformer_20240413172009/model_40000.d3\u001b[0m\n"
     ]
    },
    {
     "name": "stderr",
     "output_type": "stream",
     "text": [
      "Epoch 9/20: 100%|██████████| 5000/5000 [03:34<00:00, 23.34it/s, loss=0.369, learning_rate=0.000141]\n"
     ]
    },
    {
     "name": "stdout",
     "output_type": "stream",
     "text": [
      "\u001b[2m2024-04-13 17:52.58\u001b[0m [\u001b[32m\u001b[1minfo     \u001b[0m] \u001b[1mDiscreteDecisionTransformer_20240413172009: epoch=9 step=45000\u001b[0m \u001b[36mepoch\u001b[0m=\u001b[35m9\u001b[0m \u001b[36mmetrics\u001b[0m=\u001b[35m{'time_sample_batch': 0.005949221658706665, 'time_algorithm_update': 0.03643209662437439, 'loss': 0.36904156031012536, 'learning_rate': 0.00014064198391270345, 'time_step': 0.042556082868576046, 'environment': -0.3999999999999998}\u001b[0m \u001b[36mstep\u001b[0m=\u001b[35m45000\u001b[0m\n",
      "\u001b[2m2024-04-13 17:52.58\u001b[0m [\u001b[32m\u001b[1minfo     \u001b[0m] \u001b[1mModel parameters are saved to d3rlpy_logs/DiscreteDecisionTransformer_20240413172009/model_45000.d3\u001b[0m\n"
     ]
    },
    {
     "name": "stderr",
     "output_type": "stream",
     "text": [
      "Epoch 10/20: 100%|██████████| 5000/5000 [03:34<00:00, 23.36it/s, loss=0.344, learning_rate=6e-5]\n"
     ]
    },
    {
     "name": "stdout",
     "output_type": "stream",
     "text": [
      "\u001b[2m2024-04-13 17:56.38\u001b[0m [\u001b[32m\u001b[1minfo     \u001b[0m] \u001b[1mDiscreteDecisionTransformer_20240413172009: epoch=10 step=50000\u001b[0m \u001b[36mepoch\u001b[0m=\u001b[35m10\u001b[0m \u001b[36mmetrics\u001b[0m=\u001b[35m{'time_sample_batch': 0.005932169914245606, 'time_algorithm_update': 0.036420255708694456, 'loss': 0.3443609745979309, 'learning_rate': 6.000000000000334e-05, 'time_step': 0.042526554727554323, 'environment': -0.49999999999999983}\u001b[0m \u001b[36mstep\u001b[0m=\u001b[35m50000\u001b[0m\n",
      "\u001b[2m2024-04-13 17:56.38\u001b[0m [\u001b[32m\u001b[1minfo     \u001b[0m] \u001b[1mModel parameters are saved to d3rlpy_logs/DiscreteDecisionTransformer_20240413172009/model_50000.d3\u001b[0m\n"
     ]
    },
    {
     "name": "stderr",
     "output_type": "stream",
     "text": [
      "Epoch 11/20: 100%|██████████| 5000/5000 [03:33<00:00, 23.44it/s, loss=0.348, learning_rate=0.000149]\n"
     ]
    },
    {
     "name": "stdout",
     "output_type": "stream",
     "text": [
      "\u001b[2m2024-04-13 18:00.17\u001b[0m [\u001b[32m\u001b[1minfo     \u001b[0m] \u001b[1mDiscreteDecisionTransformer_20240413172009: epoch=11 step=55000\u001b[0m \u001b[36mepoch\u001b[0m=\u001b[35m11\u001b[0m \u001b[36mmetrics\u001b[0m=\u001b[35m{'time_sample_batch': 0.005886694049835205, 'time_algorithm_update': 0.03636315355300904, 'loss': 0.3481281639397144, 'learning_rate': 0.0001492550530181448, 'time_step': 0.04241433029174805, 'environment': -0.09999999999999987}\u001b[0m \u001b[36mstep\u001b[0m=\u001b[35m55000\u001b[0m\n",
      "\u001b[2m2024-04-13 18:00.17\u001b[0m [\u001b[32m\u001b[1minfo     \u001b[0m] \u001b[1mModel parameters are saved to d3rlpy_logs/DiscreteDecisionTransformer_20240413172009/model_55000.d3\u001b[0m\n"
     ]
    },
    {
     "name": "stderr",
     "output_type": "stream",
     "text": [
      "Epoch 12/20: 100%|██████████| 5000/5000 [03:33<00:00, 23.39it/s, loss=0.378, learning_rate=0.000422]\n"
     ]
    },
    {
     "name": "stdout",
     "output_type": "stream",
     "text": [
      "\u001b[2m2024-04-13 18:03.56\u001b[0m [\u001b[32m\u001b[1minfo     \u001b[0m] \u001b[1mDiscreteDecisionTransformer_20240413172009: epoch=12 step=60000\u001b[0m \u001b[36mepoch\u001b[0m=\u001b[35m12\u001b[0m \u001b[36mmetrics\u001b[0m=\u001b[35m{'time_sample_batch': 0.005915879392623901, 'time_algorithm_update': 0.036384922218322756, 'loss': 0.37815103229284286, 'learning_rate': 0.00042179877167165786, 'time_step': 0.04247079348564148, 'environment': -0.3099999999999999}\u001b[0m \u001b[36mstep\u001b[0m=\u001b[35m60000\u001b[0m\n",
      "\u001b[2m2024-04-13 18:03.56\u001b[0m [\u001b[32m\u001b[1minfo     \u001b[0m] \u001b[1mModel parameters are saved to d3rlpy_logs/DiscreteDecisionTransformer_20240413172009/model_60000.d3\u001b[0m\n"
     ]
    },
    {
     "name": "stderr",
     "output_type": "stream",
     "text": [
      "Epoch 13/20: 100%|██████████| 5000/5000 [03:32<00:00, 23.48it/s, loss=0.38, learning_rate=0.000585] \n"
     ]
    },
    {
     "name": "stdout",
     "output_type": "stream",
     "text": [
      "\u001b[2m2024-04-13 18:07.34\u001b[0m [\u001b[32m\u001b[1minfo     \u001b[0m] \u001b[1mDiscreteDecisionTransformer_20240413172009: epoch=13 step=65000\u001b[0m \u001b[36mepoch\u001b[0m=\u001b[35m13\u001b[0m \u001b[36mmetrics\u001b[0m=\u001b[35m{'time_sample_batch': 0.005948053884506225, 'time_algorithm_update': 0.03619926500320435, 'loss': 0.37992301629185676, 'learning_rate': 0.0005850081098423992, 'time_step': 0.042314148569107056, 'environment': -0.2999999999999998}\u001b[0m \u001b[36mstep\u001b[0m=\u001b[35m65000\u001b[0m\n",
      "\u001b[2m2024-04-13 18:07.34\u001b[0m [\u001b[32m\u001b[1minfo     \u001b[0m] \u001b[1mModel parameters are saved to d3rlpy_logs/DiscreteDecisionTransformer_20240413172009/model_65000.d3\u001b[0m\n"
     ]
    },
    {
     "name": "stderr",
     "output_type": "stream",
     "text": [
      "Epoch 14/20: 100%|██████████| 5000/5000 [03:32<00:00, 23.55it/s, loss=0.345, learning_rate=0.000489]\n"
     ]
    },
    {
     "name": "stdout",
     "output_type": "stream",
     "text": [
      "\u001b[2m2024-04-13 18:11.12\u001b[0m [\u001b[32m\u001b[1minfo     \u001b[0m] \u001b[1mDiscreteDecisionTransformer_20240413172009: epoch=14 step=70000\u001b[0m \u001b[36mepoch\u001b[0m=\u001b[35m14\u001b[0m \u001b[36mmetrics\u001b[0m=\u001b[35m{'time_sample_batch': 0.005945117712020874, 'time_algorithm_update': 0.03609744329452515, 'loss': 0.3453949618041515, 'learning_rate': 0.000488744343143719, 'time_step': 0.04220534987449646, 'environment': -0.5099999999999999}\u001b[0m \u001b[36mstep\u001b[0m=\u001b[35m70000\u001b[0m\n",
      "\u001b[2m2024-04-13 18:11.12\u001b[0m [\u001b[32m\u001b[1minfo     \u001b[0m] \u001b[1mModel parameters are saved to d3rlpy_logs/DiscreteDecisionTransformer_20240413172009/model_70000.d3\u001b[0m\n"
     ]
    },
    {
     "name": "stderr",
     "output_type": "stream",
     "text": [
      "Epoch 15/20: 100%|██████████| 5000/5000 [03:32<00:00, 23.54it/s, loss=0.302, learning_rate=0.000221]\n"
     ]
    },
    {
     "name": "stdout",
     "output_type": "stream",
     "text": [
      "\u001b[2m2024-04-13 18:14.51\u001b[0m [\u001b[32m\u001b[1minfo     \u001b[0m] \u001b[1mDiscreteDecisionTransformer_20240413172009: epoch=15 step=75000\u001b[0m \u001b[36mepoch\u001b[0m=\u001b[35m15\u001b[0m \u001b[36mmetrics\u001b[0m=\u001b[35m{'time_sample_batch': 0.005952383136749268, 'time_algorithm_update': 0.036096596717834474, 'loss': 0.3019331944286823, 'learning_rate': 0.00022081227402454963, 'time_step': 0.04221403985023499, 'environment': -1.0199999999999998}\u001b[0m \u001b[36mstep\u001b[0m=\u001b[35m75000\u001b[0m\n",
      "\u001b[2m2024-04-13 18:14.51\u001b[0m [\u001b[32m\u001b[1minfo     \u001b[0m] \u001b[1mModel parameters are saved to d3rlpy_logs/DiscreteDecisionTransformer_20240413172009/model_75000.d3\u001b[0m\n"
     ]
    },
    {
     "name": "stderr",
     "output_type": "stream",
     "text": [
      "Epoch 16/20: 100%|██████████| 5000/5000 [03:32<00:00, 23.52it/s, loss=0.28, learning_rate=6.22e-5] \n"
     ]
    },
    {
     "name": "stdout",
     "output_type": "stream",
     "text": [
      "\u001b[2m2024-04-13 18:18.29\u001b[0m [\u001b[32m\u001b[1minfo     \u001b[0m] \u001b[1mDiscreteDecisionTransformer_20240413172009: epoch=16 step=80000\u001b[0m \u001b[36mepoch\u001b[0m=\u001b[35m16\u001b[0m \u001b[36mmetrics\u001b[0m=\u001b[35m{'time_sample_batch': 0.005960017251968383, 'time_algorithm_update': 0.03611500635147095, 'loss': 0.2799165679514408, 'learning_rate': 6.220885074443178e-05, 'time_step': 0.04224050431251526, 'environment': -0.6999999999999998}\u001b[0m \u001b[36mstep\u001b[0m=\u001b[35m80000\u001b[0m\n",
      "\u001b[2m2024-04-13 18:18.29\u001b[0m [\u001b[32m\u001b[1minfo     \u001b[0m] \u001b[1mModel parameters are saved to d3rlpy_logs/DiscreteDecisionTransformer_20240413172009/model_80000.d3\u001b[0m\n"
     ]
    },
    {
     "name": "stderr",
     "output_type": "stream",
     "text": [
      "Epoch 17/20: 100%|██████████| 5000/5000 [03:32<00:00, 23.53it/s, loss=0.278, learning_rate=9.31e-5]\n"
     ]
    },
    {
     "name": "stdout",
     "output_type": "stream",
     "text": [
      "\u001b[2m2024-04-13 18:22.08\u001b[0m [\u001b[32m\u001b[1minfo     \u001b[0m] \u001b[1mDiscreteDecisionTransformer_20240413172009: epoch=17 step=85000\u001b[0m \u001b[36mepoch\u001b[0m=\u001b[35m17\u001b[0m \u001b[36mmetrics\u001b[0m=\u001b[35m{'time_sample_batch': 0.005943919610977173, 'time_algorithm_update': 0.03611663680076599, 'loss': 0.2782524489969015, 'learning_rate': 9.324550721698694e-05, 'time_step': 0.04222354240417481, 'environment': -0.6999999999999998}\u001b[0m \u001b[36mstep\u001b[0m=\u001b[35m85000\u001b[0m\n",
      "\u001b[2m2024-04-13 18:22.08\u001b[0m [\u001b[32m\u001b[1minfo     \u001b[0m] \u001b[1mModel parameters are saved to d3rlpy_logs/DiscreteDecisionTransformer_20240413172009/model_85000.d3\u001b[0m\n"
     ]
    },
    {
     "name": "stderr",
     "output_type": "stream",
     "text": [
      "Epoch 18/20: 100%|██████████| 5000/5000 [03:32<00:00, 23.55it/s, loss=0.301, learning_rate=0.000334]\n"
     ]
    },
    {
     "name": "stdout",
     "output_type": "stream",
     "text": [
      "\u001b[2m2024-04-13 18:25.45\u001b[0m [\u001b[32m\u001b[1minfo     \u001b[0m] \u001b[1mDiscreteDecisionTransformer_20240413172009: epoch=18 step=90000\u001b[0m \u001b[36mepoch\u001b[0m=\u001b[35m18\u001b[0m \u001b[36mmetrics\u001b[0m=\u001b[35m{'time_sample_batch': 0.0059337890148162846, 'time_algorithm_update': 0.03608859372138977, 'loss': 0.301137425750494, 'learning_rate': 0.000334232336174221, 'time_step': 0.04218592381477356, 'environment': -0.5099999999999999}\u001b[0m \u001b[36mstep\u001b[0m=\u001b[35m90000\u001b[0m\n",
      "\u001b[2m2024-04-13 18:25.46\u001b[0m [\u001b[32m\u001b[1minfo     \u001b[0m] \u001b[1mModel parameters are saved to d3rlpy_logs/DiscreteDecisionTransformer_20240413172009/model_90000.d3\u001b[0m\n"
     ]
    },
    {
     "name": "stderr",
     "output_type": "stream",
     "text": [
      "Epoch 19/20: 100%|██████████| 5000/5000 [03:32<00:00, 23.53it/s, loss=0.321, learning_rate=0.000558]\n"
     ]
    },
    {
     "name": "stdout",
     "output_type": "stream",
     "text": [
      "\u001b[2m2024-04-13 18:29.23\u001b[0m [\u001b[32m\u001b[1minfo     \u001b[0m] \u001b[1mDiscreteDecisionTransformer_20240413172009: epoch=19 step=95000\u001b[0m \u001b[36mepoch\u001b[0m=\u001b[35m19\u001b[0m \u001b[36mmetrics\u001b[0m=\u001b[35m{'time_sample_batch': 0.005961539173126221, 'time_algorithm_update': 0.03610799603462219, 'loss': 0.320652869194746, 'learning_rate': 0.0005581837240631453, 'time_step': 0.04223030362129211, 'environment': -0.4299999999999999}\u001b[0m \u001b[36mstep\u001b[0m=\u001b[35m95000\u001b[0m\n",
      "\u001b[2m2024-04-13 18:29.23\u001b[0m [\u001b[32m\u001b[1minfo     \u001b[0m] \u001b[1mModel parameters are saved to d3rlpy_logs/DiscreteDecisionTransformer_20240413172009/model_95000.d3\u001b[0m\n"
     ]
    },
    {
     "name": "stderr",
     "output_type": "stream",
     "text": [
      "Epoch 20/20: 100%|██████████| 5000/5000 [03:32<00:00, 23.57it/s, loss=0.311, learning_rate=0.000548]\n"
     ]
    },
    {
     "name": "stdout",
     "output_type": "stream",
     "text": [
      "\u001b[2m2024-04-13 18:33.01\u001b[0m [\u001b[32m\u001b[1minfo     \u001b[0m] \u001b[1mDiscreteDecisionTransformer_20240413172009: epoch=20 step=100000\u001b[0m \u001b[36mepoch\u001b[0m=\u001b[35m20\u001b[0m \u001b[36mmetrics\u001b[0m=\u001b[35m{'time_sample_batch': 0.005917252731323242, 'time_algorithm_update': 0.0360927668094635, 'loss': 0.3107491696059704, 'learning_rate': 0.0005474010769369701, 'time_step': 0.04216856803894043, 'environment': -0.2999999999999998}\u001b[0m \u001b[36mstep\u001b[0m=\u001b[35m100000\u001b[0m\n",
      "\u001b[2m2024-04-13 18:33.01\u001b[0m [\u001b[32m\u001b[1minfo     \u001b[0m] \u001b[1mModel parameters are saved to d3rlpy_logs/DiscreteDecisionTransformer_20240413172009/model_100000.d3\u001b[0m\n"
     ]
    }
   ],
   "source": [
    "dt = d3rlpy.algos.DiscreteDecisionTransformerConfig().create(device=\"cuda:0\")\n",
    "\n",
    "# offline training\n",
    "statistics_dt_mixed = dt.fit(\n",
    "   mixed_dataset,\n",
    "   n_steps=100000,\n",
    "   n_steps_per_epoch=5000,\n",
    "   eval_env=env,\n",
    "   eval_target_return=0,\n",
    "   # manually specify action-sampler\n",
    "   eval_action_sampler=d3rlpy.algos.SoftmaxTransformerActionSampler(),\n",
    ")"
   ]
  },
  {
   "cell_type": "code",
   "execution_count": 37,
   "id": "97b49e6d-9eb8-429b-ab59-9093cd5ed465",
   "metadata": {
    "execution": {
     "iopub.execute_input": "2024-04-13T18:33:11.764396Z",
     "iopub.status.busy": "2024-04-13T18:33:11.763947Z",
     "iopub.status.idle": "2024-04-13T18:33:11.778338Z",
     "shell.execute_reply": "2024-04-13T18:33:11.777702Z",
     "shell.execute_reply.started": "2024-04-13T18:33:11.764376Z"
    }
   },
   "outputs": [],
   "source": [
    "dt_statistics_mixed = pd.read_csv('d3rlpy_logs/DiscreteDecisionTransformer_20240413172009/environment.csv', header=None)"
   ]
  },
  {
   "cell_type": "code",
   "execution_count": 38,
   "id": "ad3d5291-2925-4615-ad2f-15b98c46558c",
   "metadata": {
    "execution": {
     "iopub.execute_input": "2024-04-13T18:33:15.563451Z",
     "iopub.status.busy": "2024-04-13T18:33:15.563003Z",
     "iopub.status.idle": "2024-04-13T18:33:15.770162Z",
     "shell.execute_reply": "2024-04-13T18:33:15.769490Z",
     "shell.execute_reply.started": "2024-04-13T18:33:15.563429Z"
    }
   },
   "outputs": [
    {
     "data": {
      "image/png": "[encoded data removed]",
      "text/plain": [
       "<Figure size 432x288 with 1 Axes>"
      ]
     },
     "metadata": {
      "needs_background": "light"
     },
     "output_type": "display_data"
    }
   ],
   "source": [
    "plot_metrics(statistics_bc, \"BC-strategy\")\n",
    "plt.plot(dt_statistics[2], label=\"DT-strategy\")\n",
    "plot_metrics(statistics_cql, \"CQL-strategy\")\n",
    "plot_metrics(statistics_bc_mixed, \"BC-mixed-strategy\")\n",
    "plt.plot(dt_statistics_mixed[2], label=\"DT-mixed-strategy\")\n",
    "plot_metrics(statistics_cql_mixed, \"CQL-mixed-strategy\")\n",
    "plt.xlabel(\"Epochs\")\n",
    "plt.ylabel(\"Returns\")\n",
    "plt.legend()\n",
    "plt.grid()"
   ]
  },
  {
   "cell_type": "markdown",
   "id": "6e8daccd-4d30-45c2-b7c8-e2d7157bed02",
   "metadata": {},
   "source": [
    "# Выводы по offline обучению на смешнанных данных\n",
    "\n",
    "\n",
    "Добавление 40% рандомных данных в датасет для offline обучения не повлияло на алгоритмы, хотя трансформерная модель стала обучаться даже лучше. Наверное, пропорция не очень существенная рандомных данных. "
   ]
  }
 ],
 "metadata": {
  "accelerator": "GPU",
  "colab": {
   "gpuType": "T4",
   "provenance": []
  },
  "kernelspec": {
   "display_name": "DataSphere Kernel",
   "language": "python",
   "name": "python3"
  },
  "language_info": {
   "codemirror_mode": {
    "name": "ipython",
    "version": 3
   },
   "file_extension": ".py",
   "mimetype": "text/x-python",
   "name": "python",
   "nbconvert_exporter": "python",
   "pygments_lexer": "ipython3",
   "version": "3.10.12"
  },
  "widgets": {
   "application/vnd.jupyter.widget-state+json": {
    "00295f1354a341d09bb46c32d5f16e3d": {
     "model_module": "@jupyter-widgets/controls",
     "model_module_version": "1.5.0",
     "model_name": "HTMLModel",
     "state": {
      "_dom_classes": [],
      "_model_module": "@jupyter-widgets/controls",
      "_model_module_version": "1.5.0",
      "_model_name": "HTMLModel",
      "_view_count": null,
      "_view_module": "@jupyter-widgets/controls",
      "_view_module_version": "1.5.0",
      "_view_name": "HTMLView",
      "description": "",
      "description_tooltip": null,
      "layout": "IPY_MODEL_755501a46f5d4a1a919210a90b33471f",
      "placeholder": "​",
      "style": "IPY_MODEL_86128cff672b488abd87eebb51a54429",
      "value": " 13298/50000 [01:51&lt;04:52, 125.38it/s, loss=2.81]"
     }
    },
    "018f4fb319444e74b03a1cb0162f44cc": {
     "model_module": "@jupyter-widgets/controls",
     "model_module_version": "1.5.0",
     "model_name": "DescriptionStyleModel",
     "state": {
      "_model_module": "@jupyter-widgets/controls",
      "_model_module_version": "1.5.0",
      "_model_name": "DescriptionStyleModel",
      "_view_count": null,
      "_view_module": "@jupyter-widgets/base",
      "_view_module_version": "1.2.0",
      "_view_name": "StyleView",
      "description_width": ""
     }
    },
    "020095d9eb2e462b813058f97b08fe90": {
     "model_module": "@jupyter-widgets/controls",
     "model_module_version": "1.5.0",
     "model_name": "HBoxModel",
     "state": {
      "_dom_classes": [],
      "_model_module": "@jupyter-widgets/controls",
      "_model_module_version": "1.5.0",
      "_model_name": "HBoxModel",
      "_view_count": null,
      "_view_module": "@jupyter-widgets/controls",
      "_view_module_version": "1.5.0",
      "_view_name": "HBoxView",
      "box_style": "",
      "children": [
       "IPY_MODEL_1e33ab2877994178affc3370ba679e75",
       "IPY_MODEL_594429e2440944e2b059c15541ad6482",
       "IPY_MODEL_b2cdc5e24f134ab29f235c38c2c13600"
      ],
      "layout": "IPY_MODEL_c4a92f0a343345c498a6b3b80a6c2cb3"
     }
    },
    "02a123de5c004cbe826601b49479e4e7": {
     "model_module": "@jupyter-widgets/controls",
     "model_module_version": "1.5.0",
     "model_name": "DescriptionStyleModel",
     "state": {
      "_model_module": "@jupyter-widgets/controls",
      "_model_module_version": "1.5.0",
      "_model_name": "DescriptionStyleModel",
      "_view_count": null,
      "_view_module": "@jupyter-widgets/base",
      "_view_module_version": "1.2.0",
      "_view_name": "StyleView",
      "description_width": ""
     }
    },
    "0495ba3df5384418b1217d43274ea395": {
     "model_module": "@jupyter-widgets/controls",
     "model_module_version": "1.5.0",
     "model_name": "DescriptionStyleModel",
     "state": {
      "_model_module": "@jupyter-widgets/controls",
      "_model_module_version": "1.5.0",
      "_model_name": "DescriptionStyleModel",
      "_view_count": null,
      "_view_module": "@jupyter-widgets/base",
      "_view_module_version": "1.2.0",
      "_view_name": "StyleView",
      "description_width": ""
     }
    },
    "05c0bfd5377440d1b60a30e6ebdb1d47": {
     "model_module": "@jupyter-widgets/controls",
     "model_module_version": "1.5.0",
     "model_name": "HBoxModel",
     "state": {
      "_dom_classes": [],
      "_model_module": "@jupyter-widgets/controls",
      "_model_module_version": "1.5.0",
      "_model_name": "HBoxModel",
      "_view_count": null,
      "_view_module": "@jupyter-widgets/controls",
      "_view_module_version": "1.5.0",
      "_view_name": "HBoxView",
      "box_style": "",
      "children": [
       "IPY_MODEL_3bb468c359774ec1b5d77821499ee642",
       "IPY_MODEL_d327cf2c016c4350a7bf1725a15b15a1",
       "IPY_MODEL_f62307918f7c48c7a19b7234b4776408"
      ],
      "layout": "IPY_MODEL_4cf4ab0ee147467686f013b1996b8a18"
     }
    },
    "06cd1b65c0a14d1bad1f0711a402a4e5": {
     "model_module": "@jupyter-widgets/controls",
     "model_module_version": "1.5.0",
     "model_name": "DescriptionStyleModel",
     "state": {
      "_model_module": "@jupyter-widgets/controls",
      "_model_module_version": "1.5.0",
      "_model_name": "DescriptionStyleModel",
      "_view_count": null,
      "_view_module": "@jupyter-widgets/base",
      "_view_module_version": "1.2.0",
      "_view_name": "StyleView",
      "description_width": ""
     }
    },
    "08b54c1f7fd54127a0d4a5b68df66556": {
     "model_module": "@jupyter-widgets/base",
     "model_module_version": "1.2.0",
     "model_name": "LayoutModel",
     "state": {
      "_model_module": "@jupyter-widgets/base",
      "_model_module_version": "1.2.0",
      "_model_name": "LayoutModel",
      "_view_count": null,
      "_view_module": "@jupyter-widgets/base",
      "_view_module_version": "1.2.0",
      "_view_name": "LayoutView",
      "align_content": null,
      "align_items": null,
      "align_self": null,
      "border": null,
      "bottom": null,
      "display": null,
      "flex": null,
      "flex_flow": null,
      "grid_area": null,
      "grid_auto_columns": null,
      "grid_auto_flow": null,
      "grid_auto_rows": null,
      "grid_column": null,
      "grid_gap": null,
      "grid_row": null,
      "grid_template_areas": null,
      "grid_template_columns": null,
      "grid_template_rows": null,
      "height": null,
      "justify_content": null,
      "justify_items": null,
      "left": null,
      "margin": null,
      "max_height": null,
      "max_width": null,
      "min_height": null,
      "min_width": null,
      "object_fit": null,
      "object_position": null,
      "order": null,
      "overflow": null,
      "overflow_x": null,
      "overflow_y": null,
      "padding": null,
      "right": null,
      "top": null,
      "visibility": null,
      "width": null
     }
    },
    "0933eb4bb9834adbbdcf82a4d8777e4c": {
     "model_module": "@jupyter-widgets/controls",
     "model_module_version": "1.5.0",
     "model_name": "ProgressStyleModel",
     "state": {
      "_model_module": "@jupyter-widgets/controls",
      "_model_module_version": "1.5.0",
      "_model_name": "ProgressStyleModel",
      "_view_count": null,
      "_view_module": "@jupyter-widgets/base",
      "_view_module_version": "1.2.0",
      "_view_name": "StyleView",
      "bar_color": null,
      "description_width": ""
     }
    },
    "0972b4d51d7b49d8a9ed8f8155be342b": {
     "model_module": "@jupyter-widgets/controls",
     "model_module_version": "1.5.0",
     "model_name": "ProgressStyleModel",
     "state": {
      "_model_module": "@jupyter-widgets/controls",
      "_model_module_version": "1.5.0",
      "_model_name": "ProgressStyleModel",
      "_view_count": null,
      "_view_module": "@jupyter-widgets/base",
      "_view_module_version": "1.2.0",
      "_view_name": "StyleView",
      "bar_color": null,
      "description_width": ""
     }
    },
    "09e3b23f8bac44de82cebf55fc60e54e": {
     "model_module": "@jupyter-widgets/controls",
     "model_module_version": "1.5.0",
     "model_name": "DescriptionStyleModel",
     "state": {
      "_model_module": "@jupyter-widgets/controls",
      "_model_module_version": "1.5.0",
      "_model_name": "DescriptionStyleModel",
      "_view_count": null,
      "_view_module": "@jupyter-widgets/base",
      "_view_module_version": "1.2.0",
      "_view_name": "StyleView",
      "description_width": ""
     }
    },
    "0a695458d3df4d42b836b92a548d0952": {
     "model_module": "@jupyter-widgets/controls",
     "model_module_version": "1.5.0",
     "model_name": "DescriptionStyleModel",
     "state": {
      "_model_module": "@jupyter-widgets/controls",
      "_model_module_version": "1.5.0",
      "_model_name": "DescriptionStyleModel",
      "_view_count": null,
      "_view_module": "@jupyter-widgets/base",
      "_view_module_version": "1.2.0",
      "_view_name": "StyleView",
      "description_width": ""
     }
    },
    "0ff0de3d293d4a418e7ca6a6d1d492be": {
     "model_module": "@jupyter-widgets/controls",
     "model_module_version": "1.5.0",
     "model_name": "DescriptionStyleModel",
     "state": {
      "_model_module": "@jupyter-widgets/controls",
      "_model_module_version": "1.5.0",
      "_model_name": "DescriptionStyleModel",
      "_view_count": null,
      "_view_module": "@jupyter-widgets/base",
      "_view_module_version": "1.2.0",
      "_view_name": "StyleView",
      "description_width": ""
     }
    },
    "1260f76e07d041ae8aec661e4a2e0d3a": {
     "model_module": "@jupyter-widgets/controls",
     "model_module_version": "1.5.0",
     "model_name": "FloatProgressModel",
     "state": {
      "_dom_classes": [],
      "_model_module": "@jupyter-widgets/controls",
      "_model_module_version": "1.5.0",
      "_model_name": "FloatProgressModel",
      "_view_count": null,
      "_view_module": "@jupyter-widgets/controls",
      "_view_module_version": "1.5.0",
      "_view_name": "ProgressView",
      "bar_style": "success",
      "description": "",
      "description_tooltip": null,
      "layout": "IPY_MODEL_c8a50e820353457c86811140943226e0",
      "max": 1000,
      "min": 0,
      "orientation": "horizontal",
      "style": "IPY_MODEL_ca065a45f8d84913a334f96a6896ed00",
      "value": 1000
     }
    },
    "1313ed8390f74ad592870217e52892d4": {
     "model_module": "@jupyter-widgets/base",
     "model_module_version": "1.2.0",
     "model_name": "LayoutModel",
     "state": {
      "_model_module": "@jupyter-widgets/base",
      "_model_module_version": "1.2.0",
      "_model_name": "LayoutModel",
      "_view_count": null,
      "_view_module": "@jupyter-widgets/base",
      "_view_module_version": "1.2.0",
      "_view_name": "LayoutView",
      "align_content": null,
      "align_items": null,
      "align_self": null,
      "border": null,
      "bottom": null,
      "display": null,
      "flex": null,
      "flex_flow": null,
      "grid_area": null,
      "grid_auto_columns": null,
      "grid_auto_flow": null,
      "grid_auto_rows": null,
      "grid_column": null,
      "grid_gap": null,
      "grid_row": null,
      "grid_template_areas": null,
      "grid_template_columns": null,
      "grid_template_rows": null,
      "height": null,
      "justify_content": null,
      "justify_items": null,
      "left": null,
      "margin": null,
      "max_height": null,
      "max_width": null,
      "min_height": null,
      "min_width": null,
      "object_fit": null,
      "object_position": null,
      "order": null,
      "overflow": null,
      "overflow_x": null,
      "overflow_y": null,
      "padding": null,
      "right": null,
      "top": null,
      "visibility": null,
      "width": null
     }
    },
    "173a224593404531b17f3a96520793b4": {
     "model_module": "@jupyter-widgets/controls",
     "model_module_version": "1.5.0",
     "model_name": "DescriptionStyleModel",
     "state": {
      "_model_module": "@jupyter-widgets/controls",
      "_model_module_version": "1.5.0",
      "_model_name": "DescriptionStyleModel",
      "_view_count": null,
      "_view_module": "@jupyter-widgets/base",
      "_view_module_version": "1.2.0",
      "_view_name": "StyleView",
      "description_width": ""
     }
    },
    "1af92cd1580344e29814fe96c61e40c6": {
     "model_module": "@jupyter-widgets/base",
     "model_module_version": "1.2.0",
     "model_name": "LayoutModel",
     "state": {
      "_model_module": "@jupyter-widgets/base",
      "_model_module_version": "1.2.0",
      "_model_name": "LayoutModel",
      "_view_count": null,
      "_view_module": "@jupyter-widgets/base",
      "_view_module_version": "1.2.0",
      "_view_name": "LayoutView",
      "align_content": null,
      "align_items": null,
      "align_self": null,
      "border": null,
      "bottom": null,
      "display": null,
      "flex": null,
      "flex_flow": null,
      "grid_area": null,
      "grid_auto_columns": null,
      "grid_auto_flow": null,
      "grid_auto_rows": null,
      "grid_column": null,
      "grid_gap": null,
      "grid_row": null,
      "grid_template_areas": null,
      "grid_template_columns": null,
      "grid_template_rows": null,
      "height": null,
      "justify_content": null,
      "justify_items": null,
      "left": null,
      "margin": null,
      "max_height": null,
      "max_width": null,
      "min_height": null,
      "min_width": null,
      "object_fit": null,
      "object_position": null,
      "order": null,
      "overflow": null,
      "overflow_x": null,
      "overflow_y": null,
      "padding": null,
      "right": null,
      "top": null,
      "visibility": null,
      "width": null
     }
    },
    "1d9ab3908a864796b8fe0af7996e7540": {
     "model_module": "@jupyter-widgets/controls",
     "model_module_version": "1.5.0",
     "model_name": "DescriptionStyleModel",
     "state": {
      "_model_module": "@jupyter-widgets/controls",
      "_model_module_version": "1.5.0",
      "_model_name": "DescriptionStyleModel",
      "_view_count": null,
      "_view_module": "@jupyter-widgets/base",
      "_view_module_version": "1.2.0",
      "_view_name": "StyleView",
      "description_width": ""
     }
    },
    "1e33ab2877994178affc3370ba679e75": {
     "model_module": "@jupyter-widgets/controls",
     "model_module_version": "1.5.0",
     "model_name": "HTMLModel",
     "state": {
      "_dom_classes": [],
      "_model_module": "@jupyter-widgets/controls",
      "_model_module_version": "1.5.0",
      "_model_name": "HTMLModel",
      "_view_count": null,
      "_view_module": "@jupyter-widgets/controls",
      "_view_module_version": "1.5.0",
      "_view_name": "HTMLView",
      "description": "",
      "description_tooltip": null,
      "layout": "IPY_MODEL_f73b7b8c5ae1424b8cdcc4e7650204ee",
      "placeholder": "​",
      "style": "IPY_MODEL_a5a85de1fb09438caecbd426aa2c912a",
      "value": "Epoch 3/10: 100%"
     }
    },
    "24bc55b6761848e4b6865b66aa47530f": {
     "model_module": "@jupyter-widgets/base",
     "model_module_version": "1.2.0",
     "model_name": "LayoutModel",
     "state": {
      "_model_module": "@jupyter-widgets/base",
      "_model_module_version": "1.2.0",
      "_model_name": "LayoutModel",
      "_view_count": null,
      "_view_module": "@jupyter-widgets/base",
      "_view_module_version": "1.2.0",
      "_view_name": "LayoutView",
      "align_content": null,
      "align_items": null,
      "align_self": null,
      "border": null,
      "bottom": null,
      "display": null,
      "flex": null,
      "flex_flow": null,
      "grid_area": null,
      "grid_auto_columns": null,
      "grid_auto_flow": null,
      "grid_auto_rows": null,
      "grid_column": null,
      "grid_gap": null,
      "grid_row": null,
      "grid_template_areas": null,
      "grid_template_columns": null,
      "grid_template_rows": null,
      "height": null,
      "justify_content": null,
      "justify_items": null,
      "left": null,
      "margin": null,
      "max_height": null,
      "max_width": null,
      "min_height": null,
      "min_width": null,
      "object_fit": null,
      "object_position": null,
      "order": null,
      "overflow": null,
      "overflow_x": null,
      "overflow_y": null,
      "padding": null,
      "right": null,
      "top": null,
      "visibility": null,
      "width": null
     }
    },
    "27fcb65752c9478ca4888189bd028a09": {
     "model_module": "@jupyter-widgets/controls",
     "model_module_version": "1.5.0",
     "model_name": "HTMLModel",
     "state": {
      "_dom_classes": [],
      "_model_module": "@jupyter-widgets/controls",
      "_model_module_version": "1.5.0",
      "_model_name": "HTMLModel",
      "_view_count": null,
      "_view_module": "@jupyter-widgets/controls",
      "_view_module_version": "1.5.0",
      "_view_name": "HTMLView",
      "description": "",
      "description_tooltip": null,
      "layout": "IPY_MODEL_9a2b42f2f2fa40aabf7b781f4d572349",
      "placeholder": "​",
      "style": "IPY_MODEL_b37a9b6f8c064509afcd832ab9f3d321",
      "value": "Epoch 2/10: 100%"
     }
    },
    "28ef035f83e243859f66acd593366cfe": {
     "model_module": "@jupyter-widgets/controls",
     "model_module_version": "1.5.0",
     "model_name": "ProgressStyleModel",
     "state": {
      "_model_module": "@jupyter-widgets/controls",
      "_model_module_version": "1.5.0",
      "_model_name": "ProgressStyleModel",
      "_view_count": null,
      "_view_module": "@jupyter-widgets/base",
      "_view_module_version": "1.2.0",
      "_view_name": "StyleView",
      "bar_color": null,
      "description_width": ""
     }
    },
    "29afa5d89d114ab4bcfd7206524b9a57": {
     "model_module": "@jupyter-widgets/base",
     "model_module_version": "1.2.0",
     "model_name": "LayoutModel",
     "state": {
      "_model_module": "@jupyter-widgets/base",
      "_model_module_version": "1.2.0",
      "_model_name": "LayoutModel",
      "_view_count": null,
      "_view_module": "@jupyter-widgets/base",
      "_view_module_version": "1.2.0",
      "_view_name": "LayoutView",
      "align_content": null,
      "align_items": null,
      "align_self": null,
      "border": null,
      "bottom": null,
      "display": null,
      "flex": null,
      "flex_flow": null,
      "grid_area": null,
      "grid_auto_columns": null,
      "grid_auto_flow": null,
      "grid_auto_rows": null,
      "grid_column": null,
      "grid_gap": null,
      "grid_row": null,
      "grid_template_areas": null,
      "grid_template_columns": null,
      "grid_template_rows": null,
      "height": null,
      "justify_content": null,
      "justify_items": null,
      "left": null,
      "margin": null,
      "max_height": null,
      "max_width": null,
      "min_height": null,
      "min_width": null,
      "object_fit": null,
      "object_position": null,
      "order": null,
      "overflow": null,
      "overflow_x": null,
      "overflow_y": null,
      "padding": null,
      "right": null,
      "top": null,
      "visibility": null,
      "width": null
     }
    },
    "2b61ca60250c4bfe93960e8ad09ad451": {
     "model_module": "@jupyter-widgets/controls",
     "model_module_version": "1.5.0",
     "model_name": "ProgressStyleModel",
     "state": {
      "_model_module": "@jupyter-widgets/controls",
      "_model_module_version": "1.5.0",
      "_model_name": "ProgressStyleModel",
      "_view_count": null,
      "_view_module": "@jupyter-widgets/base",
      "_view_module_version": "1.2.0",
      "_view_name": "StyleView",
      "bar_color": null,
      "description_width": ""
     }
    },
    "2bace17209b94a5e9c9bdbecea5a57f8": {
     "model_module": "@jupyter-widgets/controls",
     "model_module_version": "1.5.0",
     "model_name": "DescriptionStyleModel",
     "state": {
      "_model_module": "@jupyter-widgets/controls",
      "_model_module_version": "1.5.0",
      "_model_name": "DescriptionStyleModel",
      "_view_count": null,
      "_view_module": "@jupyter-widgets/base",
      "_view_module_version": "1.2.0",
      "_view_name": "StyleView",
      "description_width": ""
     }
    },
    "2c4439ad5d284ecf9736d20d9c998a1d": {
     "model_module": "@jupyter-widgets/base",
     "model_module_version": "1.2.0",
     "model_name": "LayoutModel",
     "state": {
      "_model_module": "@jupyter-widgets/base",
      "_model_module_version": "1.2.0",
      "_model_name": "LayoutModel",
      "_view_count": null,
      "_view_module": "@jupyter-widgets/base",
      "_view_module_version": "1.2.0",
      "_view_name": "LayoutView",
      "align_content": null,
      "align_items": null,
      "align_self": null,
      "border": null,
      "bottom": null,
      "display": null,
      "flex": null,
      "flex_flow": null,
      "grid_area": null,
      "grid_auto_columns": null,
      "grid_auto_flow": null,
      "grid_auto_rows": null,
      "grid_column": null,
      "grid_gap": null,
      "grid_row": null,
      "grid_template_areas": null,
      "grid_template_columns": null,
      "grid_template_rows": null,
      "height": null,
      "justify_content": null,
      "justify_items": null,
      "left": null,
      "margin": null,
      "max_height": null,
      "max_width": null,
      "min_height": null,
      "min_width": null,
      "object_fit": null,
      "object_position": null,
      "order": null,
      "overflow": null,
      "overflow_x": null,
      "overflow_y": null,
      "padding": null,
      "right": null,
      "top": null,
      "visibility": null,
      "width": null
     }
    },
    "2f94ce0496af4e1a9cd39753f8203c75": {
     "model_module": "@jupyter-widgets/base",
     "model_module_version": "1.2.0",
     "model_name": "LayoutModel",
     "state": {
      "_model_module": "@jupyter-widgets/base",
      "_model_module_version": "1.2.0",
      "_model_name": "LayoutModel",
      "_view_count": null,
      "_view_module": "@jupyter-widgets/base",
      "_view_module_version": "1.2.0",
      "_view_name": "LayoutView",
      "align_content": null,
      "align_items": null,
      "align_self": null,
      "border": null,
      "bottom": null,
      "display": null,
      "flex": null,
      "flex_flow": null,
      "grid_area": null,
      "grid_auto_columns": null,
      "grid_auto_flow": null,
      "grid_auto_rows": null,
      "grid_column": null,
      "grid_gap": null,
      "grid_row": null,
      "grid_template_areas": null,
      "grid_template_columns": null,
      "grid_template_rows": null,
      "height": null,
      "justify_content": null,
      "justify_items": null,
      "left": null,
      "margin": null,
      "max_height": null,
      "max_width": null,
      "min_height": null,
      "min_width": null,
      "object_fit": null,
      "object_position": null,
      "order": null,
      "overflow": null,
      "overflow_x": null,
      "overflow_y": null,
      "padding": null,
      "right": null,
      "top": null,
      "visibility": null,
      "width": null
     }
    },
    "31ae093b662b4d7db868856e37878db7": {
     "model_module": "@jupyter-widgets/controls",
     "model_module_version": "1.5.0",
     "model_name": "HTMLModel",
     "state": {
      "_dom_classes": [],
      "_model_module": "@jupyter-widgets/controls",
      "_model_module_version": "1.5.0",
      "_model_name": "HTMLModel",
      "_view_count": null,
      "_view_module": "@jupyter-widgets/controls",
      "_view_module_version": "1.5.0",
      "_view_name": "HTMLView",
      "description": "",
      "description_tooltip": null,
      "layout": "IPY_MODEL_5f07dd33be784534a67e75c6902e10d2",
      "placeholder": "​",
      "style": "IPY_MODEL_c00270f61c5b4416a06cdebcb115c134",
      "value": "Epoch 1/10: 100%"
     }
    },
    "3399f52025dd47a4ba088081021f0e70": {
     "model_module": "@jupyter-widgets/base",
     "model_module_version": "1.2.0",
     "model_name": "LayoutModel",
     "state": {
      "_model_module": "@jupyter-widgets/base",
      "_model_module_version": "1.2.0",
      "_model_name": "LayoutModel",
      "_view_count": null,
      "_view_module": "@jupyter-widgets/base",
      "_view_module_version": "1.2.0",
      "_view_name": "LayoutView",
      "align_content": null,
      "align_items": null,
      "align_self": null,
      "border": null,
      "bottom": null,
      "display": null,
      "flex": null,
      "flex_flow": null,
      "grid_area": null,
      "grid_auto_columns": null,
      "grid_auto_flow": null,
      "grid_auto_rows": null,
      "grid_column": null,
      "grid_gap": null,
      "grid_row": null,
      "grid_template_areas": null,
      "grid_template_columns": null,
      "grid_template_rows": null,
      "height": null,
      "justify_content": null,
      "justify_items": null,
      "left": null,
      "margin": null,
      "max_height": null,
      "max_width": null,
      "min_height": null,
      "min_width": null,
      "object_fit": null,
      "object_position": null,
      "order": null,
      "overflow": null,
      "overflow_x": null,
      "overflow_y": null,
      "padding": null,
      "right": null,
      "top": null,
      "visibility": null,
      "width": null
     }
    },
    "351974e68dbf43408780062b0a7e2e94": {
     "model_module": "@jupyter-widgets/controls",
     "model_module_version": "1.5.0",
     "model_name": "HBoxModel",
     "state": {
      "_dom_classes": [],
      "_model_module": "@jupyter-widgets/controls",
      "_model_module_version": "1.5.0",
      "_model_name": "HBoxModel",
      "_view_count": null,
      "_view_module": "@jupyter-widgets/controls",
      "_view_module_version": "1.5.0",
      "_view_name": "HBoxView",
      "box_style": "",
      "children": [
       "IPY_MODEL_27fcb65752c9478ca4888189bd028a09",
       "IPY_MODEL_9d184cc68ed24738977f484b87426539",
       "IPY_MODEL_ecdeaaf1317c4556a9c4d54240e796ae"
      ],
      "layout": "IPY_MODEL_f18c9e95b13848139580ba4ac10a7382"
     }
    },
    "3786e1cd94ec44d1be5d397548d988da": {
     "model_module": "@jupyter-widgets/controls",
     "model_module_version": "1.5.0",
     "model_name": "HTMLModel",
     "state": {
      "_dom_classes": [],
      "_model_module": "@jupyter-widgets/controls",
      "_model_module_version": "1.5.0",
      "_model_name": "HTMLModel",
      "_view_count": null,
      "_view_module": "@jupyter-widgets/controls",
      "_view_module_version": "1.5.0",
      "_view_name": "HTMLView",
      "description": "",
      "description_tooltip": null,
      "layout": "IPY_MODEL_767b594b30234b7c8d155bb05d3134c5",
      "placeholder": "​",
      "style": "IPY_MODEL_8d87536733bf46979b8c57e87fd3ad4c",
      "value": "Epoch 4/10: 100%"
     }
    },
    "386690e8a40e4e0793c290ce50b76af4": {
     "model_module": "@jupyter-widgets/base",
     "model_module_version": "1.2.0",
     "model_name": "LayoutModel",
     "state": {
      "_model_module": "@jupyter-widgets/base",
      "_model_module_version": "1.2.0",
      "_model_name": "LayoutModel",
      "_view_count": null,
      "_view_module": "@jupyter-widgets/base",
      "_view_module_version": "1.2.0",
      "_view_name": "LayoutView",
      "align_content": null,
      "align_items": null,
      "align_self": null,
      "border": null,
      "bottom": null,
      "display": null,
      "flex": null,
      "flex_flow": null,
      "grid_area": null,
      "grid_auto_columns": null,
      "grid_auto_flow": null,
      "grid_auto_rows": null,
      "grid_column": null,
      "grid_gap": null,
      "grid_row": null,
      "grid_template_areas": null,
      "grid_template_columns": null,
      "grid_template_rows": null,
      "height": null,
      "justify_content": null,
      "justify_items": null,
      "left": null,
      "margin": null,
      "max_height": null,
      "max_width": null,
      "min_height": null,
      "min_width": null,
      "object_fit": null,
      "object_position": null,
      "order": null,
      "overflow": null,
      "overflow_x": null,
      "overflow_y": null,
      "padding": null,
      "right": null,
      "top": null,
      "visibility": null,
      "width": null
     }
    },
    "39dd4d1d562e4a0dacd6f2673227b137": {
     "model_module": "@jupyter-widgets/controls",
     "model_module_version": "1.5.0",
     "model_name": "DescriptionStyleModel",
     "state": {
      "_model_module": "@jupyter-widgets/controls",
      "_model_module_version": "1.5.0",
      "_model_name": "DescriptionStyleModel",
      "_view_count": null,
      "_view_module": "@jupyter-widgets/base",
      "_view_module_version": "1.2.0",
      "_view_name": "StyleView",
      "description_width": ""
     }
    },
    "3bb468c359774ec1b5d77821499ee642": {
     "model_module": "@jupyter-widgets/controls",
     "model_module_version": "1.5.0",
     "model_name": "HTMLModel",
     "state": {
      "_dom_classes": [],
      "_model_module": "@jupyter-widgets/controls",
      "_model_module_version": "1.5.0",
      "_model_name": "HTMLModel",
      "_view_count": null,
      "_view_module": "@jupyter-widgets/controls",
      "_view_module_version": "1.5.0",
      "_view_name": "HTMLView",
      "description": "",
      "description_tooltip": null,
      "layout": "IPY_MODEL_6f0911fcf2d24029a7848606cf4535c6",
      "placeholder": "​",
      "style": "IPY_MODEL_6614bd8648d34a55982a1913ca5f9ebd",
      "value": "Epoch 6/10: 100%"
     }
    },
    "3e74debb89e34d2a9dd8273436e1093e": {
     "model_module": "@jupyter-widgets/base",
     "model_module_version": "1.2.0",
     "model_name": "LayoutModel",
     "state": {
      "_model_module": "@jupyter-widgets/base",
      "_model_module_version": "1.2.0",
      "_model_name": "LayoutModel",
      "_view_count": null,
      "_view_module": "@jupyter-widgets/base",
      "_view_module_version": "1.2.0",
      "_view_name": "LayoutView",
      "align_content": null,
      "align_items": null,
      "align_self": null,
      "border": null,
      "bottom": null,
      "display": null,
      "flex": null,
      "flex_flow": null,
      "grid_area": null,
      "grid_auto_columns": null,
      "grid_auto_flow": null,
      "grid_auto_rows": null,
      "grid_column": null,
      "grid_gap": null,
      "grid_row": null,
      "grid_template_areas": null,
      "grid_template_columns": null,
      "grid_template_rows": null,
      "height": null,
      "justify_content": null,
      "justify_items": null,
      "left": null,
      "margin": null,
      "max_height": null,
      "max_width": null,
      "min_height": null,
      "min_width": null,
      "object_fit": null,
      "object_position": null,
      "order": null,
      "overflow": null,
      "overflow_x": null,
      "overflow_y": null,
      "padding": null,
      "right": null,
      "top": null,
      "visibility": null,
      "width": null
     }
    },
    "43305fb9bae7416f9d265066f7493409": {
     "model_module": "@jupyter-widgets/base",
     "model_module_version": "1.2.0",
     "model_name": "LayoutModel",
     "state": {
      "_model_module": "@jupyter-widgets/base",
      "_model_module_version": "1.2.0",
      "_model_name": "LayoutModel",
      "_view_count": null,
      "_view_module": "@jupyter-widgets/base",
      "_view_module_version": "1.2.0",
      "_view_name": "LayoutView",
      "align_content": null,
      "align_items": null,
      "align_self": null,
      "border": null,
      "bottom": null,
      "display": null,
      "flex": null,
      "flex_flow": null,
      "grid_area": null,
      "grid_auto_columns": null,
      "grid_auto_flow": null,
      "grid_auto_rows": null,
      "grid_column": null,
      "grid_gap": null,
      "grid_row": null,
      "grid_template_areas": null,
      "grid_template_columns": null,
      "grid_template_rows": null,
      "height": null,
      "justify_content": null,
      "justify_items": null,
      "left": null,
      "margin": null,
      "max_height": null,
      "max_width": null,
      "min_height": null,
      "min_width": null,
      "object_fit": null,
      "object_position": null,
      "order": null,
      "overflow": null,
      "overflow_x": null,
      "overflow_y": null,
      "padding": null,
      "right": null,
      "top": null,
      "visibility": null,
      "width": null
     }
    },
    "4374071ec4964a90918c62de17b3b27e": {
     "model_module": "@jupyter-widgets/base",
     "model_module_version": "1.2.0",
     "model_name": "LayoutModel",
     "state": {
      "_model_module": "@jupyter-widgets/base",
      "_model_module_version": "1.2.0",
      "_model_name": "LayoutModel",
      "_view_count": null,
      "_view_module": "@jupyter-widgets/base",
      "_view_module_version": "1.2.0",
      "_view_name": "LayoutView",
      "align_content": null,
      "align_items": null,
      "align_self": null,
      "border": null,
      "bottom": null,
      "display": null,
      "flex": null,
      "flex_flow": null,
      "grid_area": null,
      "grid_auto_columns": null,
      "grid_auto_flow": null,
      "grid_auto_rows": null,
      "grid_column": null,
      "grid_gap": null,
      "grid_row": null,
      "grid_template_areas": null,
      "grid_template_columns": null,
      "grid_template_rows": null,
      "height": null,
      "justify_content": null,
      "justify_items": null,
      "left": null,
      "margin": null,
      "max_height": null,
      "max_width": null,
      "min_height": null,
      "min_width": null,
      "object_fit": null,
      "object_position": null,
      "order": null,
      "overflow": null,
      "overflow_x": null,
      "overflow_y": null,
      "padding": null,
      "right": null,
      "top": null,
      "visibility": null,
      "width": null
     }
    },
    "4441f0fcec9746c5aad028905c1ab20f": {
     "model_module": "@jupyter-widgets/base",
     "model_module_version": "1.2.0",
     "model_name": "LayoutModel",
     "state": {
      "_model_module": "@jupyter-widgets/base",
      "_model_module_version": "1.2.0",
      "_model_name": "LayoutModel",
      "_view_count": null,
      "_view_module": "@jupyter-widgets/base",
      "_view_module_version": "1.2.0",
      "_view_name": "LayoutView",
      "align_content": null,
      "align_items": null,
      "align_self": null,
      "border": null,
      "bottom": null,
      "display": null,
      "flex": null,
      "flex_flow": null,
      "grid_area": null,
      "grid_auto_columns": null,
      "grid_auto_flow": null,
      "grid_auto_rows": null,
      "grid_column": null,
      "grid_gap": null,
      "grid_row": null,
      "grid_template_areas": null,
      "grid_template_columns": null,
      "grid_template_rows": null,
      "height": null,
      "justify_content": null,
      "justify_items": null,
      "left": null,
      "margin": null,
      "max_height": null,
      "max_width": null,
      "min_height": null,
      "min_width": null,
      "object_fit": null,
      "object_position": null,
      "order": null,
      "overflow": null,
      "overflow_x": null,
      "overflow_y": null,
      "padding": null,
      "right": null,
      "top": null,
      "visibility": null,
      "width": null
     }
    },
    "45e1064ab4e846139c7c462fb0bf49f9": {
     "model_module": "@jupyter-widgets/controls",
     "model_module_version": "1.5.0",
     "model_name": "HBoxModel",
     "state": {
      "_dom_classes": [],
      "_model_module": "@jupyter-widgets/controls",
      "_model_module_version": "1.5.0",
      "_model_name": "HBoxModel",
      "_view_count": null,
      "_view_module": "@jupyter-widgets/controls",
      "_view_module_version": "1.5.0",
      "_view_name": "HBoxView",
      "box_style": "",
      "children": [
       "IPY_MODEL_4946686efd304aa481c687e63d207107",
       "IPY_MODEL_852393ef98ea4c52a523f39ebaa1c52c",
       "IPY_MODEL_573de85a256949a0a12f390ef9f4fe2f"
      ],
      "layout": "IPY_MODEL_ed84f954187b4e668f0c3addb6496ccd"
     }
    },
    "4946686efd304aa481c687e63d207107": {
     "model_module": "@jupyter-widgets/controls",
     "model_module_version": "1.5.0",
     "model_name": "HTMLModel",
     "state": {
      "_dom_classes": [],
      "_model_module": "@jupyter-widgets/controls",
      "_model_module_version": "1.5.0",
      "_model_name": "HTMLModel",
      "_view_count": null,
      "_view_module": "@jupyter-widgets/controls",
      "_view_module_version": "1.5.0",
      "_view_name": "HTMLView",
      "description": "",
      "description_tooltip": null,
      "layout": "IPY_MODEL_9a727fa6601b4b01b2ba83bec1f79ff5",
      "placeholder": "​",
      "style": "IPY_MODEL_9b58dd08efc44551ab8c9d4bc7320d36",
      "value": "Epoch 1/10: 100%"
     }
    },
    "4cf4ab0ee147467686f013b1996b8a18": {
     "model_module": "@jupyter-widgets/base",
     "model_module_version": "1.2.0",
     "model_name": "LayoutModel",
     "state": {
      "_model_module": "@jupyter-widgets/base",
      "_model_module_version": "1.2.0",
      "_model_name": "LayoutModel",
      "_view_count": null,
      "_view_module": "@jupyter-widgets/base",
      "_view_module_version": "1.2.0",
      "_view_name": "LayoutView",
      "align_content": null,
      "align_items": null,
      "align_self": null,
      "border": null,
      "bottom": null,
      "display": null,
      "flex": null,
      "flex_flow": null,
      "grid_area": null,
      "grid_auto_columns": null,
      "grid_auto_flow": null,
      "grid_auto_rows": null,
      "grid_column": null,
      "grid_gap": null,
      "grid_row": null,
      "grid_template_areas": null,
      "grid_template_columns": null,
      "grid_template_rows": null,
      "height": null,
      "justify_content": null,
      "justify_items": null,
      "left": null,
      "margin": null,
      "max_height": null,
      "max_width": null,
      "min_height": null,
      "min_width": null,
      "object_fit": null,
      "object_position": null,
      "order": null,
      "overflow": null,
      "overflow_x": null,
      "overflow_y": null,
      "padding": null,
      "right": null,
      "top": null,
      "visibility": null,
      "width": null
     }
    },
    "4f204b08d4cd46329ec9d6b4fda58f2c": {
     "model_module": "@jupyter-widgets/base",
     "model_module_version": "1.2.0",
     "model_name": "LayoutModel",
     "state": {
      "_model_module": "@jupyter-widgets/base",
      "_model_module_version": "1.2.0",
      "_model_name": "LayoutModel",
      "_view_count": null,
      "_view_module": "@jupyter-widgets/base",
      "_view_module_version": "1.2.0",
      "_view_name": "LayoutView",
      "align_content": null,
      "align_items": null,
      "align_self": null,
      "border": null,
      "bottom": null,
      "display": null,
      "flex": null,
      "flex_flow": null,
      "grid_area": null,
      "grid_auto_columns": null,
      "grid_auto_flow": null,
      "grid_auto_rows": null,
      "grid_column": null,
      "grid_gap": null,
      "grid_row": null,
      "grid_template_areas": null,
      "grid_template_columns": null,
      "grid_template_rows": null,
      "height": null,
      "justify_content": null,
      "justify_items": null,
      "left": null,
      "margin": null,
      "max_height": null,
      "max_width": null,
      "min_height": null,
      "min_width": null,
      "object_fit": null,
      "object_position": null,
      "order": null,
      "overflow": null,
      "overflow_x": null,
      "overflow_y": null,
      "padding": null,
      "right": null,
      "top": null,
      "visibility": null,
      "width": null
     }
    },
    "509160a12937449f8a4965f25963a4d1": {
     "model_module": "@jupyter-widgets/base",
     "model_module_version": "1.2.0",
     "model_name": "LayoutModel",
     "state": {
      "_model_module": "@jupyter-widgets/base",
      "_model_module_version": "1.2.0",
      "_model_name": "LayoutModel",
      "_view_count": null,
      "_view_module": "@jupyter-widgets/base",
      "_view_module_version": "1.2.0",
      "_view_name": "LayoutView",
      "align_content": null,
      "align_items": null,
      "align_self": null,
      "border": null,
      "bottom": null,
      "display": null,
      "flex": null,
      "flex_flow": null,
      "grid_area": null,
      "grid_auto_columns": null,
      "grid_auto_flow": null,
      "grid_auto_rows": null,
      "grid_column": null,
      "grid_gap": null,
      "grid_row": null,
      "grid_template_areas": null,
      "grid_template_columns": null,
      "grid_template_rows": null,
      "height": null,
      "justify_content": null,
      "justify_items": null,
      "left": null,
      "margin": null,
      "max_height": null,
      "max_width": null,
      "min_height": null,
      "min_width": null,
      "object_fit": null,
      "object_position": null,
      "order": null,
      "overflow": null,
      "overflow_x": null,
      "overflow_y": null,
      "padding": null,
      "right": null,
      "top": null,
      "visibility": null,
      "width": null
     }
    },
    "5393552bcbb34ae08c83460e7953d3ea": {
     "model_module": "@jupyter-widgets/base",
     "model_module_version": "1.2.0",
     "model_name": "LayoutModel",
     "state": {
      "_model_module": "@jupyter-widgets/base",
      "_model_module_version": "1.2.0",
      "_model_name": "LayoutModel",
      "_view_count": null,
      "_view_module": "@jupyter-widgets/base",
      "_view_module_version": "1.2.0",
      "_view_name": "LayoutView",
      "align_content": null,
      "align_items": null,
      "align_self": null,
      "border": null,
      "bottom": null,
      "display": null,
      "flex": null,
      "flex_flow": null,
      "grid_area": null,
      "grid_auto_columns": null,
      "grid_auto_flow": null,
      "grid_auto_rows": null,
      "grid_column": null,
      "grid_gap": null,
      "grid_row": null,
      "grid_template_areas": null,
      "grid_template_columns": null,
      "grid_template_rows": null,
      "height": null,
      "justify_content": null,
      "justify_items": null,
      "left": null,
      "margin": null,
      "max_height": null,
      "max_width": null,
      "min_height": null,
      "min_width": null,
      "object_fit": null,
      "object_position": null,
      "order": null,
      "overflow": null,
      "overflow_x": null,
      "overflow_y": null,
      "padding": null,
      "right": null,
      "top": null,
      "visibility": null,
      "width": null
     }
    },
    "53ae18c6cc404c37a02a0d4e63085d76": {
     "model_module": "@jupyter-widgets/base",
     "model_module_version": "1.2.0",
     "model_name": "LayoutModel",
     "state": {
      "_model_module": "@jupyter-widgets/base",
      "_model_module_version": "1.2.0",
      "_model_name": "LayoutModel",
      "_view_count": null,
      "_view_module": "@jupyter-widgets/base",
      "_view_module_version": "1.2.0",
      "_view_name": "LayoutView",
      "align_content": null,
      "align_items": null,
      "align_self": null,
      "border": null,
      "bottom": null,
      "display": null,
      "flex": null,
      "flex_flow": null,
      "grid_area": null,
      "grid_auto_columns": null,
      "grid_auto_flow": null,
      "grid_auto_rows": null,
      "grid_column": null,
      "grid_gap": null,
      "grid_row": null,
      "grid_template_areas": null,
      "grid_template_columns": null,
      "grid_template_rows": null,
      "height": null,
      "justify_content": null,
      "justify_items": null,
      "left": null,
      "margin": null,
      "max_height": null,
      "max_width": null,
      "min_height": null,
      "min_width": null,
      "object_fit": null,
      "object_position": null,
      "order": null,
      "overflow": null,
      "overflow_x": null,
      "overflow_y": null,
      "padding": null,
      "right": null,
      "top": null,
      "visibility": null,
      "width": null
     }
    },
    "55ac99bdd3364a6b86d3db9c9d56feec": {
     "model_module": "@jupyter-widgets/base",
     "model_module_version": "1.2.0",
     "model_name": "LayoutModel",
     "state": {
      "_model_module": "@jupyter-widgets/base",
      "_model_module_version": "1.2.0",
      "_model_name": "LayoutModel",
      "_view_count": null,
      "_view_module": "@jupyter-widgets/base",
      "_view_module_version": "1.2.0",
      "_view_name": "LayoutView",
      "align_content": null,
      "align_items": null,
      "align_self": null,
      "border": null,
      "bottom": null,
      "display": null,
      "flex": null,
      "flex_flow": null,
      "grid_area": null,
      "grid_auto_columns": null,
      "grid_auto_flow": null,
      "grid_auto_rows": null,
      "grid_column": null,
      "grid_gap": null,
      "grid_row": null,
      "grid_template_areas": null,
      "grid_template_columns": null,
      "grid_template_rows": null,
      "height": null,
      "justify_content": null,
      "justify_items": null,
      "left": null,
      "margin": null,
      "max_height": null,
      "max_width": null,
      "min_height": null,
      "min_width": null,
      "object_fit": null,
      "object_position": null,
      "order": null,
      "overflow": null,
      "overflow_x": null,
      "overflow_y": null,
      "padding": null,
      "right": null,
      "top": null,
      "visibility": null,
      "width": null
     }
    },
    "55d396d499974b9db2f69738dac850b0": {
     "model_module": "@jupyter-widgets/controls",
     "model_module_version": "1.5.0",
     "model_name": "HTMLModel",
     "state": {
      "_dom_classes": [],
      "_model_module": "@jupyter-widgets/controls",
      "_model_module_version": "1.5.0",
      "_model_name": "HTMLModel",
      "_view_count": null,
      "_view_module": "@jupyter-widgets/controls",
      "_view_module_version": "1.5.0",
      "_view_name": "HTMLView",
      "description": "",
      "description_tooltip": null,
      "layout": "IPY_MODEL_a5897c55b16742d8b8792ab41dc636e1",
      "placeholder": "​",
      "style": "IPY_MODEL_09e3b23f8bac44de82cebf55fc60e54e",
      "value": "Epoch 5/10: 100%"
     }
    },
    "573de85a256949a0a12f390ef9f4fe2f": {
     "model_module": "@jupyter-widgets/controls",
     "model_module_version": "1.5.0",
     "model_name": "HTMLModel",
     "state": {
      "_dom_classes": [],
      "_model_module": "@jupyter-widgets/controls",
      "_model_module_version": "1.5.0",
      "_model_name": "HTMLModel",
      "_view_count": null,
      "_view_module": "@jupyter-widgets/controls",
      "_view_module_version": "1.5.0",
      "_view_name": "HTMLView",
      "description": "",
      "description_tooltip": null,
      "layout": "IPY_MODEL_9783a01bad8f4f8abc36e834ff953289",
      "placeholder": "​",
      "style": "IPY_MODEL_5c2d853f7d264b1c8a7dcd14feb769f1",
      "value": " 50000/50000 [07:05&lt;00:00, 114.43it/s, loss=2.81]"
     }
    },
    "58ae38d4f41147389b55997bfe0c8ad3": {
     "model_module": "@jupyter-widgets/controls",
     "model_module_version": "1.5.0",
     "model_name": "DescriptionStyleModel",
     "state": {
      "_model_module": "@jupyter-widgets/controls",
      "_model_module_version": "1.5.0",
      "_model_name": "DescriptionStyleModel",
      "_view_count": null,
      "_view_module": "@jupyter-widgets/base",
      "_view_module_version": "1.2.0",
      "_view_name": "StyleView",
      "description_width": ""
     }
    },
    "590cbecd406e4774bd8f8d58241c484d": {
     "model_module": "@jupyter-widgets/base",
     "model_module_version": "1.2.0",
     "model_name": "LayoutModel",
     "state": {
      "_model_module": "@jupyter-widgets/base",
      "_model_module_version": "1.2.0",
      "_model_name": "LayoutModel",
      "_view_count": null,
      "_view_module": "@jupyter-widgets/base",
      "_view_module_version": "1.2.0",
      "_view_name": "LayoutView",
      "align_content": null,
      "align_items": null,
      "align_self": null,
      "border": null,
      "bottom": null,
      "display": null,
      "flex": null,
      "flex_flow": null,
      "grid_area": null,
      "grid_auto_columns": null,
      "grid_auto_flow": null,
      "grid_auto_rows": null,
      "grid_column": null,
      "grid_gap": null,
      "grid_row": null,
      "grid_template_areas": null,
      "grid_template_columns": null,
      "grid_template_rows": null,
      "height": null,
      "justify_content": null,
      "justify_items": null,
      "left": null,
      "margin": null,
      "max_height": null,
      "max_width": null,
      "min_height": null,
      "min_width": null,
      "object_fit": null,
      "object_position": null,
      "order": null,
      "overflow": null,
      "overflow_x": null,
      "overflow_y": null,
      "padding": null,
      "right": null,
      "top": null,
      "visibility": null,
      "width": null
     }
    },
    "594429e2440944e2b059c15541ad6482": {
     "model_module": "@jupyter-widgets/controls",
     "model_module_version": "1.5.0",
     "model_name": "FloatProgressModel",
     "state": {
      "_dom_classes": [],
      "_model_module": "@jupyter-widgets/controls",
      "_model_module_version": "1.5.0",
      "_model_name": "FloatProgressModel",
      "_view_count": null,
      "_view_module": "@jupyter-widgets/controls",
      "_view_module_version": "1.5.0",
      "_view_name": "ProgressView",
      "bar_style": "success",
      "description": "",
      "description_tooltip": null,
      "layout": "IPY_MODEL_386690e8a40e4e0793c290ce50b76af4",
      "max": 1000,
      "min": 0,
      "orientation": "horizontal",
      "style": "IPY_MODEL_5d3560a594874f2ca667b4e8b526b1cb",
      "value": 1000
     }
    },
    "59e1416f56ad4324908dd1575e2144ce": {
     "model_module": "@jupyter-widgets/controls",
     "model_module_version": "1.5.0",
     "model_name": "ProgressStyleModel",
     "state": {
      "_model_module": "@jupyter-widgets/controls",
      "_model_module_version": "1.5.0",
      "_model_name": "ProgressStyleModel",
      "_view_count": null,
      "_view_module": "@jupyter-widgets/base",
      "_view_module_version": "1.2.0",
      "_view_name": "StyleView",
      "bar_color": null,
      "description_width": ""
     }
    },
    "5a22cf360b3d4cb79165f06f36bc93ce": {
     "model_module": "@jupyter-widgets/controls",
     "model_module_version": "1.5.0",
     "model_name": "DescriptionStyleModel",
     "state": {
      "_model_module": "@jupyter-widgets/controls",
      "_model_module_version": "1.5.0",
      "_model_name": "DescriptionStyleModel",
      "_view_count": null,
      "_view_module": "@jupyter-widgets/base",
      "_view_module_version": "1.2.0",
      "_view_name": "StyleView",
      "description_width": ""
     }
    },
    "5bcabf81525d4799975b5c9384910f13": {
     "model_module": "@jupyter-widgets/base",
     "model_module_version": "1.2.0",
     "model_name": "LayoutModel",
     "state": {
      "_model_module": "@jupyter-widgets/base",
      "_model_module_version": "1.2.0",
      "_model_name": "LayoutModel",
      "_view_count": null,
      "_view_module": "@jupyter-widgets/base",
      "_view_module_version": "1.2.0",
      "_view_name": "LayoutView",
      "align_content": null,
      "align_items": null,
      "align_self": null,
      "border": null,
      "bottom": null,
      "display": null,
      "flex": null,
      "flex_flow": null,
      "grid_area": null,
      "grid_auto_columns": null,
      "grid_auto_flow": null,
      "grid_auto_rows": null,
      "grid_column": null,
      "grid_gap": null,
      "grid_row": null,
      "grid_template_areas": null,
      "grid_template_columns": null,
      "grid_template_rows": null,
      "height": null,
      "justify_content": null,
      "justify_items": null,
      "left": null,
      "margin": null,
      "max_height": null,
      "max_width": null,
      "min_height": null,
      "min_width": null,
      "object_fit": null,
      "object_position": null,
      "order": null,
      "overflow": null,
      "overflow_x": null,
      "overflow_y": null,
      "padding": null,
      "right": null,
      "top": null,
      "visibility": null,
      "width": null
     }
    },
    "5c2d853f7d264b1c8a7dcd14feb769f1": {
     "model_module": "@jupyter-widgets/controls",
     "model_module_version": "1.5.0",
     "model_name": "DescriptionStyleModel",
     "state": {
      "_model_module": "@jupyter-widgets/controls",
      "_model_module_version": "1.5.0",
      "_model_name": "DescriptionStyleModel",
      "_view_count": null,
      "_view_module": "@jupyter-widgets/base",
      "_view_module_version": "1.2.0",
      "_view_name": "StyleView",
      "description_width": ""
     }
    },
    "5cc62ac2681e4b7193b8697457c57b2e": {
     "model_module": "@jupyter-widgets/controls",
     "model_module_version": "1.5.0",
     "model_name": "HTMLModel",
     "state": {
      "_dom_classes": [],
      "_model_module": "@jupyter-widgets/controls",
      "_model_module_version": "1.5.0",
      "_model_name": "HTMLModel",
      "_view_count": null,
      "_view_module": "@jupyter-widgets/controls",
      "_view_module_version": "1.5.0",
      "_view_name": "HTMLView",
      "description": "",
      "description_tooltip": null,
      "layout": "IPY_MODEL_74000350720249a6a9a6ec3720795ef7",
      "placeholder": "​",
      "style": "IPY_MODEL_eaf8642f7b4445d785dbb5c80cdbad81",
      "value": " 1000/1000 [00:07&lt;00:00, 153.30it/s, loss=1.46, td_loss=0.0728, conservative_loss=1.39]"
     }
    },
    "5d3560a594874f2ca667b4e8b526b1cb": {
     "model_module": "@jupyter-widgets/controls",
     "model_module_version": "1.5.0",
     "model_name": "ProgressStyleModel",
     "state": {
      "_model_module": "@jupyter-widgets/controls",
      "_model_module_version": "1.5.0",
      "_model_name": "ProgressStyleModel",
      "_view_count": null,
      "_view_module": "@jupyter-widgets/base",
      "_view_module_version": "1.2.0",
      "_view_name": "StyleView",
      "bar_color": null,
      "description_width": ""
     }
    },
    "5df49b59366041e6bcf117042c9e53c7": {
     "model_module": "@jupyter-widgets/controls",
     "model_module_version": "1.5.0",
     "model_name": "FloatProgressModel",
     "state": {
      "_dom_classes": [],
      "_model_module": "@jupyter-widgets/controls",
      "_model_module_version": "1.5.0",
      "_model_name": "FloatProgressModel",
      "_view_count": null,
      "_view_module": "@jupyter-widgets/controls",
      "_view_module_version": "1.5.0",
      "_view_name": "ProgressView",
      "bar_style": "success",
      "description": "",
      "description_tooltip": null,
      "layout": "IPY_MODEL_6aef58fb455447eca63312b91b34fbb7",
      "max": 1000,
      "min": 0,
      "orientation": "horizontal",
      "style": "IPY_MODEL_7baf241d061b432594c82ef92acc7952",
      "value": 1000
     }
    },
    "5dfe57f8bce84eb5967444b159c58671": {
     "model_module": "@jupyter-widgets/controls",
     "model_module_version": "1.5.0",
     "model_name": "FloatProgressModel",
     "state": {
      "_dom_classes": [],
      "_model_module": "@jupyter-widgets/controls",
      "_model_module_version": "1.5.0",
      "_model_name": "FloatProgressModel",
      "_view_count": null,
      "_view_module": "@jupyter-widgets/controls",
      "_view_module_version": "1.5.0",
      "_view_name": "ProgressView",
      "bar_style": "danger",
      "description": "",
      "description_tooltip": null,
      "layout": "IPY_MODEL_70f4a6d02f054e1296d693c422adbafd",
      "max": 50000,
      "min": 0,
      "orientation": "horizontal",
      "style": "IPY_MODEL_2b61ca60250c4bfe93960e8ad09ad451",
      "value": 13298
     }
    },
    "5ec678362445444c874554d5c4e0ae16": {
     "model_module": "@jupyter-widgets/controls",
     "model_module_version": "1.5.0",
     "model_name": "DescriptionStyleModel",
     "state": {
      "_model_module": "@jupyter-widgets/controls",
      "_model_module_version": "1.5.0",
      "_model_name": "DescriptionStyleModel",
      "_view_count": null,
      "_view_module": "@jupyter-widgets/base",
      "_view_module_version": "1.2.0",
      "_view_name": "StyleView",
      "description_width": ""
     }
    },
    "5f07dd33be784534a67e75c6902e10d2": {
     "model_module": "@jupyter-widgets/base",
     "model_module_version": "1.2.0",
     "model_name": "LayoutModel",
     "state": {
      "_model_module": "@jupyter-widgets/base",
      "_model_module_version": "1.2.0",
      "_model_name": "LayoutModel",
      "_view_count": null,
      "_view_module": "@jupyter-widgets/base",
      "_view_module_version": "1.2.0",
      "_view_name": "LayoutView",
      "align_content": null,
      "align_items": null,
      "align_self": null,
      "border": null,
      "bottom": null,
      "display": null,
      "flex": null,
      "flex_flow": null,
      "grid_area": null,
      "grid_auto_columns": null,
      "grid_auto_flow": null,
      "grid_auto_rows": null,
      "grid_column": null,
      "grid_gap": null,
      "grid_row": null,
      "grid_template_areas": null,
      "grid_template_columns": null,
      "grid_template_rows": null,
      "height": null,
      "justify_content": null,
      "justify_items": null,
      "left": null,
      "margin": null,
      "max_height": null,
      "max_width": null,
      "min_height": null,
      "min_width": null,
      "object_fit": null,
      "object_position": null,
      "order": null,
      "overflow": null,
      "overflow_x": null,
      "overflow_y": null,
      "padding": null,
      "right": null,
      "top": null,
      "visibility": null,
      "width": null
     }
    },
    "6098ccbfd9424546bd8ae0f47e4b4cfb": {
     "model_module": "@jupyter-widgets/controls",
     "model_module_version": "1.5.0",
     "model_name": "HTMLModel",
     "state": {
      "_dom_classes": [],
      "_model_module": "@jupyter-widgets/controls",
      "_model_module_version": "1.5.0",
      "_model_name": "HTMLModel",
      "_view_count": null,
      "_view_module": "@jupyter-widgets/controls",
      "_view_module_version": "1.5.0",
      "_view_name": "HTMLView",
      "description": "",
      "description_tooltip": null,
      "layout": "IPY_MODEL_a866e1567ae84984b6572fbe78123fbb",
      "placeholder": "​",
      "style": "IPY_MODEL_58ae38d4f41147389b55997bfe0c8ad3",
      "value": "100%"
     }
    },
    "6614bd8648d34a55982a1913ca5f9ebd": {
     "model_module": "@jupyter-widgets/controls",
     "model_module_version": "1.5.0",
     "model_name": "DescriptionStyleModel",
     "state": {
      "_model_module": "@jupyter-widgets/controls",
      "_model_module_version": "1.5.0",
      "_model_name": "DescriptionStyleModel",
      "_view_count": null,
      "_view_module": "@jupyter-widgets/base",
      "_view_module_version": "1.2.0",
      "_view_name": "StyleView",
      "description_width": ""
     }
    },
    "66370dc8c57a401da4dbee92c9bbf0e8": {
     "model_module": "@jupyter-widgets/controls",
     "model_module_version": "1.5.0",
     "model_name": "HTMLModel",
     "state": {
      "_dom_classes": [],
      "_model_module": "@jupyter-widgets/controls",
      "_model_module_version": "1.5.0",
      "_model_name": "HTMLModel",
      "_view_count": null,
      "_view_module": "@jupyter-widgets/controls",
      "_view_module_version": "1.5.0",
      "_view_name": "HTMLView",
      "description": "",
      "description_tooltip": null,
      "layout": "IPY_MODEL_590cbecd406e4774bd8f8d58241c484d",
      "placeholder": "​",
      "style": "IPY_MODEL_7fab88193f554f3292b75608fff66b38",
      "value": "Epoch 3/10:  27%"
     }
    },
    "6925f571497047078c3b73ddcac51bd8": {
     "model_module": "@jupyter-widgets/controls",
     "model_module_version": "1.5.0",
     "model_name": "HTMLModel",
     "state": {
      "_dom_classes": [],
      "_model_module": "@jupyter-widgets/controls",
      "_model_module_version": "1.5.0",
      "_model_name": "HTMLModel",
      "_view_count": null,
      "_view_module": "@jupyter-widgets/controls",
      "_view_module_version": "1.5.0",
      "_view_name": "HTMLView",
      "description": "",
      "description_tooltip": null,
      "layout": "IPY_MODEL_8fbbe092e3c7415989b7d5929aa18f07",
      "placeholder": "​",
      "style": "IPY_MODEL_2bace17209b94a5e9c9bdbecea5a57f8",
      "value": " 1000/1000 [00:07&lt;00:00, 149.38it/s, loss=1.46, td_loss=0.0747, conservative_loss=1.38]"
     }
    },
    "6a067fdff87644deb35d43119c9c51a4": {
     "model_module": "@jupyter-widgets/controls",
     "model_module_version": "1.5.0",
     "model_name": "ProgressStyleModel",
     "state": {
      "_model_module": "@jupyter-widgets/controls",
      "_model_module_version": "1.5.0",
      "_model_name": "ProgressStyleModel",
      "_view_count": null,
      "_view_module": "@jupyter-widgets/base",
      "_view_module_version": "1.2.0",
      "_view_name": "StyleView",
      "bar_color": null,
      "description_width": ""
     }
    },
    "6aef58fb455447eca63312b91b34fbb7": {
     "model_module": "@jupyter-widgets/base",
     "model_module_version": "1.2.0",
     "model_name": "LayoutModel",
     "state": {
      "_model_module": "@jupyter-widgets/base",
      "_model_module_version": "1.2.0",
      "_model_name": "LayoutModel",
      "_view_count": null,
      "_view_module": "@jupyter-widgets/base",
      "_view_module_version": "1.2.0",
      "_view_name": "LayoutView",
      "align_content": null,
      "align_items": null,
      "align_self": null,
      "border": null,
      "bottom": null,
      "display": null,
      "flex": null,
      "flex_flow": null,
      "grid_area": null,
      "grid_auto_columns": null,
      "grid_auto_flow": null,
      "grid_auto_rows": null,
      "grid_column": null,
      "grid_gap": null,
      "grid_row": null,
      "grid_template_areas": null,
      "grid_template_columns": null,
      "grid_template_rows": null,
      "height": null,
      "justify_content": null,
      "justify_items": null,
      "left": null,
      "margin": null,
      "max_height": null,
      "max_width": null,
      "min_height": null,
      "min_width": null,
      "object_fit": null,
      "object_position": null,
      "order": null,
      "overflow": null,
      "overflow_x": null,
      "overflow_y": null,
      "padding": null,
      "right": null,
      "top": null,
      "visibility": null,
      "width": null
     }
    },
    "6ed437ac5a37434b9c1ea7ab2210cf76": {
     "model_module": "@jupyter-widgets/controls",
     "model_module_version": "1.5.0",
     "model_name": "HTMLModel",
     "state": {
      "_dom_classes": [],
      "_model_module": "@jupyter-widgets/controls",
      "_model_module_version": "1.5.0",
      "_model_name": "HTMLModel",
      "_view_count": null,
      "_view_module": "@jupyter-widgets/controls",
      "_view_module_version": "1.5.0",
      "_view_name": "HTMLView",
      "description": "",
      "description_tooltip": null,
      "layout": "IPY_MODEL_d196cead059c41de8090bdad483f7a35",
      "placeholder": "​",
      "style": "IPY_MODEL_0495ba3df5384418b1217d43274ea395",
      "value": "Epoch 10/10: 100%"
     }
    },
    "6f0911fcf2d24029a7848606cf4535c6": {
     "model_module": "@jupyter-widgets/base",
     "model_module_version": "1.2.0",
     "model_name": "LayoutModel",
     "state": {
      "_model_module": "@jupyter-widgets/base",
      "_model_module_version": "1.2.0",
      "_model_name": "LayoutModel",
      "_view_count": null,
      "_view_module": "@jupyter-widgets/base",
      "_view_module_version": "1.2.0",
      "_view_name": "LayoutView",
      "align_content": null,
      "align_items": null,
      "align_self": null,
      "border": null,
      "bottom": null,
      "display": null,
      "flex": null,
      "flex_flow": null,
      "grid_area": null,
      "grid_auto_columns": null,
      "grid_auto_flow": null,
      "grid_auto_rows": null,
      "grid_column": null,
      "grid_gap": null,
      "grid_row": null,
      "grid_template_areas": null,
      "grid_template_columns": null,
      "grid_template_rows": null,
      "height": null,
      "justify_content": null,
      "justify_items": null,
      "left": null,
      "margin": null,
      "max_height": null,
      "max_width": null,
      "min_height": null,
      "min_width": null,
      "object_fit": null,
      "object_position": null,
      "order": null,
      "overflow": null,
      "overflow_x": null,
      "overflow_y": null,
      "padding": null,
      "right": null,
      "top": null,
      "visibility": null,
      "width": null
     }
    },
    "70f4a6d02f054e1296d693c422adbafd": {
     "model_module": "@jupyter-widgets/base",
     "model_module_version": "1.2.0",
     "model_name": "LayoutModel",
     "state": {
      "_model_module": "@jupyter-widgets/base",
      "_model_module_version": "1.2.0",
      "_model_name": "LayoutModel",
      "_view_count": null,
      "_view_module": "@jupyter-widgets/base",
      "_view_module_version": "1.2.0",
      "_view_name": "LayoutView",
      "align_content": null,
      "align_items": null,
      "align_self": null,
      "border": null,
      "bottom": null,
      "display": null,
      "flex": null,
      "flex_flow": null,
      "grid_area": null,
      "grid_auto_columns": null,
      "grid_auto_flow": null,
      "grid_auto_rows": null,
      "grid_column": null,
      "grid_gap": null,
      "grid_row": null,
      "grid_template_areas": null,
      "grid_template_columns": null,
      "grid_template_rows": null,
      "height": null,
      "justify_content": null,
      "justify_items": null,
      "left": null,
      "margin": null,
      "max_height": null,
      "max_width": null,
      "min_height": null,
      "min_width": null,
      "object_fit": null,
      "object_position": null,
      "order": null,
      "overflow": null,
      "overflow_x": null,
      "overflow_y": null,
      "padding": null,
      "right": null,
      "top": null,
      "visibility": null,
      "width": null
     }
    },
    "7223360ac9d44f24b5e3db88e1d9a226": {
     "model_module": "@jupyter-widgets/controls",
     "model_module_version": "1.5.0",
     "model_name": "FloatProgressModel",
     "state": {
      "_dom_classes": [],
      "_model_module": "@jupyter-widgets/controls",
      "_model_module_version": "1.5.0",
      "_model_name": "FloatProgressModel",
      "_view_count": null,
      "_view_module": "@jupyter-widgets/controls",
      "_view_module_version": "1.5.0",
      "_view_name": "ProgressView",
      "bar_style": "success",
      "description": "",
      "description_tooltip": null,
      "layout": "IPY_MODEL_cb5f0c82052c48cfac884c779e50f2ce",
      "max": 1000,
      "min": 0,
      "orientation": "horizontal",
      "style": "IPY_MODEL_da3001b424fb45c78dae5bddb598ad58",
      "value": 1000
     }
    },
    "74000350720249a6a9a6ec3720795ef7": {
     "model_module": "@jupyter-widgets/base",
     "model_module_version": "1.2.0",
     "model_name": "LayoutModel",
     "state": {
      "_model_module": "@jupyter-widgets/base",
      "_model_module_version": "1.2.0",
      "_model_name": "LayoutModel",
      "_view_count": null,
      "_view_module": "@jupyter-widgets/base",
      "_view_module_version": "1.2.0",
      "_view_name": "LayoutView",
      "align_content": null,
      "align_items": null,
      "align_self": null,
      "border": null,
      "bottom": null,
      "display": null,
      "flex": null,
      "flex_flow": null,
      "grid_area": null,
      "grid_auto_columns": null,
      "grid_auto_flow": null,
      "grid_auto_rows": null,
      "grid_column": null,
      "grid_gap": null,
      "grid_row": null,
      "grid_template_areas": null,
      "grid_template_columns": null,
      "grid_template_rows": null,
      "height": null,
      "justify_content": null,
      "justify_items": null,
      "left": null,
      "margin": null,
      "max_height": null,
      "max_width": null,
      "min_height": null,
      "min_width": null,
      "object_fit": null,
      "object_position": null,
      "order": null,
      "overflow": null,
      "overflow_x": null,
      "overflow_y": null,
      "padding": null,
      "right": null,
      "top": null,
      "visibility": null,
      "width": null
     }
    },
    "74a9c382f91041678e86e4ca4247343e": {
     "model_module": "@jupyter-widgets/base",
     "model_module_version": "1.2.0",
     "model_name": "LayoutModel",
     "state": {
      "_model_module": "@jupyter-widgets/base",
      "_model_module_version": "1.2.0",
      "_model_name": "LayoutModel",
      "_view_count": null,
      "_view_module": "@jupyter-widgets/base",
      "_view_module_version": "1.2.0",
      "_view_name": "LayoutView",
      "align_content": null,
      "align_items": null,
      "align_self": null,
      "border": null,
      "bottom": null,
      "display": null,
      "flex": null,
      "flex_flow": null,
      "grid_area": null,
      "grid_auto_columns": null,
      "grid_auto_flow": null,
      "grid_auto_rows": null,
      "grid_column": null,
      "grid_gap": null,
      "grid_row": null,
      "grid_template_areas": null,
      "grid_template_columns": null,
      "grid_template_rows": null,
      "height": null,
      "justify_content": null,
      "justify_items": null,
      "left": null,
      "margin": null,
      "max_height": null,
      "max_width": null,
      "min_height": null,
      "min_width": null,
      "object_fit": null,
      "object_position": null,
      "order": null,
      "overflow": null,
      "overflow_x": null,
      "overflow_y": null,
      "padding": null,
      "right": null,
      "top": null,
      "visibility": null,
      "width": null
     }
    },
    "755501a46f5d4a1a919210a90b33471f": {
     "model_module": "@jupyter-widgets/base",
     "model_module_version": "1.2.0",
     "model_name": "LayoutModel",
     "state": {
      "_model_module": "@jupyter-widgets/base",
      "_model_module_version": "1.2.0",
      "_model_name": "LayoutModel",
      "_view_count": null,
      "_view_module": "@jupyter-widgets/base",
      "_view_module_version": "1.2.0",
      "_view_name": "LayoutView",
      "align_content": null,
      "align_items": null,
      "align_self": null,
      "border": null,
      "bottom": null,
      "display": null,
      "flex": null,
      "flex_flow": null,
      "grid_area": null,
      "grid_auto_columns": null,
      "grid_auto_flow": null,
      "grid_auto_rows": null,
      "grid_column": null,
      "grid_gap": null,
      "grid_row": null,
      "grid_template_areas": null,
      "grid_template_columns": null,
      "grid_template_rows": null,
      "height": null,
      "justify_content": null,
      "justify_items": null,
      "left": null,
      "margin": null,
      "max_height": null,
      "max_width": null,
      "min_height": null,
      "min_width": null,
      "object_fit": null,
      "object_position": null,
      "order": null,
      "overflow": null,
      "overflow_x": null,
      "overflow_y": null,
      "padding": null,
      "right": null,
      "top": null,
      "visibility": null,
      "width": null
     }
    },
    "767b594b30234b7c8d155bb05d3134c5": {
     "model_module": "@jupyter-widgets/base",
     "model_module_version": "1.2.0",
     "model_name": "LayoutModel",
     "state": {
      "_model_module": "@jupyter-widgets/base",
      "_model_module_version": "1.2.0",
      "_model_name": "LayoutModel",
      "_view_count": null,
      "_view_module": "@jupyter-widgets/base",
      "_view_module_version": "1.2.0",
      "_view_name": "LayoutView",
      "align_content": null,
      "align_items": null,
      "align_self": null,
      "border": null,
      "bottom": null,
      "display": null,
      "flex": null,
      "flex_flow": null,
      "grid_area": null,
      "grid_auto_columns": null,
      "grid_auto_flow": null,
      "grid_auto_rows": null,
      "grid_column": null,
      "grid_gap": null,
      "grid_row": null,
      "grid_template_areas": null,
      "grid_template_columns": null,
      "grid_template_rows": null,
      "height": null,
      "justify_content": null,
      "justify_items": null,
      "left": null,
      "margin": null,
      "max_height": null,
      "max_width": null,
      "min_height": null,
      "min_width": null,
      "object_fit": null,
      "object_position": null,
      "order": null,
      "overflow": null,
      "overflow_x": null,
      "overflow_y": null,
      "padding": null,
      "right": null,
      "top": null,
      "visibility": null,
      "width": null
     }
    },
    "76b1d6c1bc4f487faca5664e50806e81": {
     "model_module": "@jupyter-widgets/controls",
     "model_module_version": "1.5.0",
     "model_name": "HBoxModel",
     "state": {
      "_dom_classes": [],
      "_model_module": "@jupyter-widgets/controls",
      "_model_module_version": "1.5.0",
      "_model_name": "HBoxModel",
      "_view_count": null,
      "_view_module": "@jupyter-widgets/controls",
      "_view_module_version": "1.5.0",
      "_view_name": "HBoxView",
      "box_style": "",
      "children": [
       "IPY_MODEL_6098ccbfd9424546bd8ae0f47e4b4cfb",
       "IPY_MODEL_bf0265b9ebab4f3ca4ef1920b500e2f2",
       "IPY_MODEL_e946bb14a4524333989e7024717f2182"
      ],
      "layout": "IPY_MODEL_29afa5d89d114ab4bcfd7206524b9a57"
     }
    },
    "79898afa50b04eb1a42128f3240a19bf": {
     "model_module": "@jupyter-widgets/base",
     "model_module_version": "1.2.0",
     "model_name": "LayoutModel",
     "state": {
      "_model_module": "@jupyter-widgets/base",
      "_model_module_version": "1.2.0",
      "_model_name": "LayoutModel",
      "_view_count": null,
      "_view_module": "@jupyter-widgets/base",
      "_view_module_version": "1.2.0",
      "_view_name": "LayoutView",
      "align_content": null,
      "align_items": null,
      "align_self": null,
      "border": null,
      "bottom": null,
      "display": null,
      "flex": null,
      "flex_flow": null,
      "grid_area": null,
      "grid_auto_columns": null,
      "grid_auto_flow": null,
      "grid_auto_rows": null,
      "grid_column": null,
      "grid_gap": null,
      "grid_row": null,
      "grid_template_areas": null,
      "grid_template_columns": null,
      "grid_template_rows": null,
      "height": null,
      "justify_content": null,
      "justify_items": null,
      "left": null,
      "margin": null,
      "max_height": null,
      "max_width": null,
      "min_height": null,
      "min_width": null,
      "object_fit": null,
      "object_position": null,
      "order": null,
      "overflow": null,
      "overflow_x": null,
      "overflow_y": null,
      "padding": null,
      "right": null,
      "top": null,
      "visibility": null,
      "width": null
     }
    },
    "79f0b227b63c498d84d4eb1a42d52d40": {
     "model_module": "@jupyter-widgets/controls",
     "model_module_version": "1.5.0",
     "model_name": "HBoxModel",
     "state": {
      "_dom_classes": [],
      "_model_module": "@jupyter-widgets/controls",
      "_model_module_version": "1.5.0",
      "_model_name": "HBoxModel",
      "_view_count": null,
      "_view_module": "@jupyter-widgets/controls",
      "_view_module_version": "1.5.0",
      "_view_name": "HBoxView",
      "box_style": "",
      "children": [
       "IPY_MODEL_31ae093b662b4d7db868856e37878db7",
       "IPY_MODEL_5df49b59366041e6bcf117042c9e53c7",
       "IPY_MODEL_7a804ef560db4ccf84142393802c601d"
      ],
      "layout": "IPY_MODEL_96bd0164514b47109f73b76530e3260e"
     }
    },
    "7a036b0e588c4ad3bd793e33ddea7043": {
     "model_module": "@jupyter-widgets/controls",
     "model_module_version": "1.5.0",
     "model_name": "HBoxModel",
     "state": {
      "_dom_classes": [],
      "_model_module": "@jupyter-widgets/controls",
      "_model_module_version": "1.5.0",
      "_model_name": "HBoxModel",
      "_view_count": null,
      "_view_module": "@jupyter-widgets/controls",
      "_view_module_version": "1.5.0",
      "_view_name": "HBoxView",
      "box_style": "",
      "children": [
       "IPY_MODEL_96697084a64d4af8b1e31c567bf54ac3",
       "IPY_MODEL_bec1cb31333d4c05acc532c9f7bd9faf",
       "IPY_MODEL_5cc62ac2681e4b7193b8697457c57b2e"
      ],
      "layout": "IPY_MODEL_9569de476a73423797de5739a6f48ad7"
     }
    },
    "7a804ef560db4ccf84142393802c601d": {
     "model_module": "@jupyter-widgets/controls",
     "model_module_version": "1.5.0",
     "model_name": "HTMLModel",
     "state": {
      "_dom_classes": [],
      "_model_module": "@jupyter-widgets/controls",
      "_model_module_version": "1.5.0",
      "_model_name": "HTMLModel",
      "_view_count": null,
      "_view_module": "@jupyter-widgets/controls",
      "_view_module_version": "1.5.0",
      "_view_name": "HTMLView",
      "description": "",
      "description_tooltip": null,
      "layout": "IPY_MODEL_aac1f8ab6a84476e81342740185ef9a0",
      "placeholder": "​",
      "style": "IPY_MODEL_5a22cf360b3d4cb79165f06f36bc93ce",
      "value": " 1000/1000 [00:06&lt;00:00, 151.92it/s, loss=1.5, td_loss=0.0523, conservative_loss=1.45]"
     }
    },
    "7baf241d061b432594c82ef92acc7952": {
     "model_module": "@jupyter-widgets/controls",
     "model_module_version": "1.5.0",
     "model_name": "ProgressStyleModel",
     "state": {
      "_model_module": "@jupyter-widgets/controls",
      "_model_module_version": "1.5.0",
      "_model_name": "ProgressStyleModel",
      "_view_count": null,
      "_view_module": "@jupyter-widgets/base",
      "_view_module_version": "1.2.0",
      "_view_name": "StyleView",
      "bar_color": null,
      "description_width": ""
     }
    },
    "7c62b9b8b7f64c518efcaf39c00ecae1": {
     "model_module": "@jupyter-widgets/controls",
     "model_module_version": "1.5.0",
     "model_name": "HBoxModel",
     "state": {
      "_dom_classes": [],
      "_model_module": "@jupyter-widgets/controls",
      "_model_module_version": "1.5.0",
      "_model_name": "HBoxModel",
      "_view_count": null,
      "_view_module": "@jupyter-widgets/controls",
      "_view_module_version": "1.5.0",
      "_view_name": "HBoxView",
      "box_style": "",
      "children": [
       "IPY_MODEL_dd374d5ee8a646cb9564b1c391584d0e",
       "IPY_MODEL_1260f76e07d041ae8aec661e4a2e0d3a",
       "IPY_MODEL_e551ad82f79743bf8305db7556318a29"
      ],
      "layout": "IPY_MODEL_74a9c382f91041678e86e4ca4247343e"
     }
    },
    "7cc6d9faeab749bf9d2fca7f6c40d792": {
     "model_module": "@jupyter-widgets/base",
     "model_module_version": "1.2.0",
     "model_name": "LayoutModel",
     "state": {
      "_model_module": "@jupyter-widgets/base",
      "_model_module_version": "1.2.0",
      "_model_name": "LayoutModel",
      "_view_count": null,
      "_view_module": "@jupyter-widgets/base",
      "_view_module_version": "1.2.0",
      "_view_name": "LayoutView",
      "align_content": null,
      "align_items": null,
      "align_self": null,
      "border": null,
      "bottom": null,
      "display": null,
      "flex": null,
      "flex_flow": null,
      "grid_area": null,
      "grid_auto_columns": null,
      "grid_auto_flow": null,
      "grid_auto_rows": null,
      "grid_column": null,
      "grid_gap": null,
      "grid_row": null,
      "grid_template_areas": null,
      "grid_template_columns": null,
      "grid_template_rows": null,
      "height": null,
      "justify_content": null,
      "justify_items": null,
      "left": null,
      "margin": null,
      "max_height": null,
      "max_width": null,
      "min_height": null,
      "min_width": null,
      "object_fit": null,
      "object_position": null,
      "order": null,
      "overflow": null,
      "overflow_x": null,
      "overflow_y": null,
      "padding": null,
      "right": null,
      "top": null,
      "visibility": null,
      "width": null
     }
    },
    "7d15ce137bf844e4a66f7864171ddb36": {
     "model_module": "@jupyter-widgets/controls",
     "model_module_version": "1.5.0",
     "model_name": "ProgressStyleModel",
     "state": {
      "_model_module": "@jupyter-widgets/controls",
      "_model_module_version": "1.5.0",
      "_model_name": "ProgressStyleModel",
      "_view_count": null,
      "_view_module": "@jupyter-widgets/base",
      "_view_module_version": "1.2.0",
      "_view_name": "StyleView",
      "bar_color": null,
      "description_width": ""
     }
    },
    "7e58bccc967c456ebee739450725dee1": {
     "model_module": "@jupyter-widgets/controls",
     "model_module_version": "1.5.0",
     "model_name": "HBoxModel",
     "state": {
      "_dom_classes": [],
      "_model_module": "@jupyter-widgets/controls",
      "_model_module_version": "1.5.0",
      "_model_name": "HBoxModel",
      "_view_count": null,
      "_view_module": "@jupyter-widgets/controls",
      "_view_module_version": "1.5.0",
      "_view_name": "HBoxView",
      "box_style": "",
      "children": [
       "IPY_MODEL_6ed437ac5a37434b9c1ea7ab2210cf76",
       "IPY_MODEL_7223360ac9d44f24b5e3db88e1d9a226",
       "IPY_MODEL_d843c7412a34419d993107a6191c5e74"
      ],
      "layout": "IPY_MODEL_5bcabf81525d4799975b5c9384910f13"
     }
    },
    "7fab88193f554f3292b75608fff66b38": {
     "model_module": "@jupyter-widgets/controls",
     "model_module_version": "1.5.0",
     "model_name": "DescriptionStyleModel",
     "state": {
      "_model_module": "@jupyter-widgets/controls",
      "_model_module_version": "1.5.0",
      "_model_name": "DescriptionStyleModel",
      "_view_count": null,
      "_view_module": "@jupyter-widgets/base",
      "_view_module_version": "1.2.0",
      "_view_name": "StyleView",
      "description_width": ""
     }
    },
    "82c723652f1340a489c40217d40a69c0": {
     "model_module": "@jupyter-widgets/controls",
     "model_module_version": "1.5.0",
     "model_name": "ProgressStyleModel",
     "state": {
      "_model_module": "@jupyter-widgets/controls",
      "_model_module_version": "1.5.0",
      "_model_name": "ProgressStyleModel",
      "_view_count": null,
      "_view_module": "@jupyter-widgets/base",
      "_view_module_version": "1.2.0",
      "_view_name": "StyleView",
      "bar_color": null,
      "description_width": ""
     }
    },
    "852393ef98ea4c52a523f39ebaa1c52c": {
     "model_module": "@jupyter-widgets/controls",
     "model_module_version": "1.5.0",
     "model_name": "FloatProgressModel",
     "state": {
      "_dom_classes": [],
      "_model_module": "@jupyter-widgets/controls",
      "_model_module_version": "1.5.0",
      "_model_name": "FloatProgressModel",
      "_view_count": null,
      "_view_module": "@jupyter-widgets/controls",
      "_view_module_version": "1.5.0",
      "_view_name": "ProgressView",
      "bar_style": "success",
      "description": "",
      "description_tooltip": null,
      "layout": "IPY_MODEL_fd506ca6c9f34488904e78cc157c4803",
      "max": 50000,
      "min": 0,
      "orientation": "horizontal",
      "style": "IPY_MODEL_0933eb4bb9834adbbdcf82a4d8777e4c",
      "value": 50000
     }
    },
    "86128cff672b488abd87eebb51a54429": {
     "model_module": "@jupyter-widgets/controls",
     "model_module_version": "1.5.0",
     "model_name": "DescriptionStyleModel",
     "state": {
      "_model_module": "@jupyter-widgets/controls",
      "_model_module_version": "1.5.0",
      "_model_name": "DescriptionStyleModel",
      "_view_count": null,
      "_view_module": "@jupyter-widgets/base",
      "_view_module_version": "1.2.0",
      "_view_name": "StyleView",
      "description_width": ""
     }
    },
    "864e4017b0db4352923b85ed0af93bf4": {
     "model_module": "@jupyter-widgets/base",
     "model_module_version": "1.2.0",
     "model_name": "LayoutModel",
     "state": {
      "_model_module": "@jupyter-widgets/base",
      "_model_module_version": "1.2.0",
      "_model_name": "LayoutModel",
      "_view_count": null,
      "_view_module": "@jupyter-widgets/base",
      "_view_module_version": "1.2.0",
      "_view_name": "LayoutView",
      "align_content": null,
      "align_items": null,
      "align_self": null,
      "border": null,
      "bottom": null,
      "display": null,
      "flex": null,
      "flex_flow": null,
      "grid_area": null,
      "grid_auto_columns": null,
      "grid_auto_flow": null,
      "grid_auto_rows": null,
      "grid_column": null,
      "grid_gap": null,
      "grid_row": null,
      "grid_template_areas": null,
      "grid_template_columns": null,
      "grid_template_rows": null,
      "height": null,
      "justify_content": null,
      "justify_items": null,
      "left": null,
      "margin": null,
      "max_height": null,
      "max_width": null,
      "min_height": null,
      "min_width": null,
      "object_fit": null,
      "object_position": null,
      "order": null,
      "overflow": null,
      "overflow_x": null,
      "overflow_y": null,
      "padding": null,
      "right": null,
      "top": null,
      "visibility": null,
      "width": null
     }
    },
    "87573a328dd044f3beb336e543ba360a": {
     "model_module": "@jupyter-widgets/controls",
     "model_module_version": "1.5.0",
     "model_name": "ProgressStyleModel",
     "state": {
      "_model_module": "@jupyter-widgets/controls",
      "_model_module_version": "1.5.0",
      "_model_name": "ProgressStyleModel",
      "_view_count": null,
      "_view_module": "@jupyter-widgets/base",
      "_view_module_version": "1.2.0",
      "_view_name": "StyleView",
      "bar_color": null,
      "description_width": ""
     }
    },
    "8953371760f84cafae764eb815f5ba35": {
     "model_module": "@jupyter-widgets/controls",
     "model_module_version": "1.5.0",
     "model_name": "HTMLModel",
     "state": {
      "_dom_classes": [],
      "_model_module": "@jupyter-widgets/controls",
      "_model_module_version": "1.5.0",
      "_model_name": "HTMLModel",
      "_view_count": null,
      "_view_module": "@jupyter-widgets/controls",
      "_view_module_version": "1.5.0",
      "_view_name": "HTMLView",
      "description": "",
      "description_tooltip": null,
      "layout": "IPY_MODEL_f8848d3f01dd4350b41ba539ddce6c9d",
      "placeholder": "​",
      "style": "IPY_MODEL_0ff0de3d293d4a418e7ca6a6d1d492be",
      "value": "Epoch 9/10: 100%"
     }
    },
    "89bc50f44dbb4fe58887888a94f54af3": {
     "model_module": "@jupyter-widgets/base",
     "model_module_version": "1.2.0",
     "model_name": "LayoutModel",
     "state": {
      "_model_module": "@jupyter-widgets/base",
      "_model_module_version": "1.2.0",
      "_model_name": "LayoutModel",
      "_view_count": null,
      "_view_module": "@jupyter-widgets/base",
      "_view_module_version": "1.2.0",
      "_view_name": "LayoutView",
      "align_content": null,
      "align_items": null,
      "align_self": null,
      "border": null,
      "bottom": null,
      "display": null,
      "flex": null,
      "flex_flow": null,
      "grid_area": null,
      "grid_auto_columns": null,
      "grid_auto_flow": null,
      "grid_auto_rows": null,
      "grid_column": null,
      "grid_gap": null,
      "grid_row": null,
      "grid_template_areas": null,
      "grid_template_columns": null,
      "grid_template_rows": null,
      "height": null,
      "justify_content": null,
      "justify_items": null,
      "left": null,
      "margin": null,
      "max_height": null,
      "max_width": null,
      "min_height": null,
      "min_width": null,
      "object_fit": null,
      "object_position": null,
      "order": null,
      "overflow": null,
      "overflow_x": null,
      "overflow_y": null,
      "padding": null,
      "right": null,
      "top": null,
      "visibility": null,
      "width": null
     }
    },
    "8ab1d21716fe4338b2da0a35173bf9dd": {
     "model_module": "@jupyter-widgets/controls",
     "model_module_version": "1.5.0",
     "model_name": "DescriptionStyleModel",
     "state": {
      "_model_module": "@jupyter-widgets/controls",
      "_model_module_version": "1.5.0",
      "_model_name": "DescriptionStyleModel",
      "_view_count": null,
      "_view_module": "@jupyter-widgets/base",
      "_view_module_version": "1.2.0",
      "_view_name": "StyleView",
      "description_width": ""
     }
    },
    "8d87536733bf46979b8c57e87fd3ad4c": {
     "model_module": "@jupyter-widgets/controls",
     "model_module_version": "1.5.0",
     "model_name": "DescriptionStyleModel",
     "state": {
      "_model_module": "@jupyter-widgets/controls",
      "_model_module_version": "1.5.0",
      "_model_name": "DescriptionStyleModel",
      "_view_count": null,
      "_view_module": "@jupyter-widgets/base",
      "_view_module_version": "1.2.0",
      "_view_name": "StyleView",
      "description_width": ""
     }
    },
    "8f83ca0a7fd6410bab186f9eb8de76b7": {
     "model_module": "@jupyter-widgets/controls",
     "model_module_version": "1.5.0",
     "model_name": "ProgressStyleModel",
     "state": {
      "_model_module": "@jupyter-widgets/controls",
      "_model_module_version": "1.5.0",
      "_model_name": "ProgressStyleModel",
      "_view_count": null,
      "_view_module": "@jupyter-widgets/base",
      "_view_module_version": "1.2.0",
      "_view_name": "StyleView",
      "bar_color": null,
      "description_width": ""
     }
    },
    "8fbbe092e3c7415989b7d5929aa18f07": {
     "model_module": "@jupyter-widgets/base",
     "model_module_version": "1.2.0",
     "model_name": "LayoutModel",
     "state": {
      "_model_module": "@jupyter-widgets/base",
      "_model_module_version": "1.2.0",
      "_model_name": "LayoutModel",
      "_view_count": null,
      "_view_module": "@jupyter-widgets/base",
      "_view_module_version": "1.2.0",
      "_view_name": "LayoutView",
      "align_content": null,
      "align_items": null,
      "align_self": null,
      "border": null,
      "bottom": null,
      "display": null,
      "flex": null,
      "flex_flow": null,
      "grid_area": null,
      "grid_auto_columns": null,
      "grid_auto_flow": null,
      "grid_auto_rows": null,
      "grid_column": null,
      "grid_gap": null,
      "grid_row": null,
      "grid_template_areas": null,
      "grid_template_columns": null,
      "grid_template_rows": null,
      "height": null,
      "justify_content": null,
      "justify_items": null,
      "left": null,
      "margin": null,
      "max_height": null,
      "max_width": null,
      "min_height": null,
      "min_width": null,
      "object_fit": null,
      "object_position": null,
      "order": null,
      "overflow": null,
      "overflow_x": null,
      "overflow_y": null,
      "padding": null,
      "right": null,
      "top": null,
      "visibility": null,
      "width": null
     }
    },
    "8fdafb320c454599a35493644abf056d": {
     "model_module": "@jupyter-widgets/controls",
     "model_module_version": "1.5.0",
     "model_name": "HBoxModel",
     "state": {
      "_dom_classes": [],
      "_model_module": "@jupyter-widgets/controls",
      "_model_module_version": "1.5.0",
      "_model_name": "HBoxModel",
      "_view_count": null,
      "_view_module": "@jupyter-widgets/controls",
      "_view_module_version": "1.5.0",
      "_view_name": "HBoxView",
      "box_style": "",
      "children": [
       "IPY_MODEL_8953371760f84cafae764eb815f5ba35",
       "IPY_MODEL_edbbed934d9246e4914b514483df271f",
       "IPY_MODEL_d9b93870a4b146269508ff22ce3b5942"
      ],
      "layout": "IPY_MODEL_89bc50f44dbb4fe58887888a94f54af3"
     }
    },
    "902116b81bb3497985baa3549974ebc1": {
     "model_module": "@jupyter-widgets/controls",
     "model_module_version": "1.5.0",
     "model_name": "HTMLModel",
     "state": {
      "_dom_classes": [],
      "_model_module": "@jupyter-widgets/controls",
      "_model_module_version": "1.5.0",
      "_model_name": "HTMLModel",
      "_view_count": null,
      "_view_module": "@jupyter-widgets/controls",
      "_view_module_version": "1.5.0",
      "_view_name": "HTMLView",
      "description": "",
      "description_tooltip": null,
      "layout": "IPY_MODEL_96155afff0804fcca91b40c1bf058ed9",
      "placeholder": "​",
      "style": "IPY_MODEL_1d9ab3908a864796b8fe0af7996e7540",
      "value": "Epoch 8/10: 100%"
     }
    },
    "93c8edb1c5bc4a35b60aa62d08860257": {
     "model_module": "@jupyter-widgets/base",
     "model_module_version": "1.2.0",
     "model_name": "LayoutModel",
     "state": {
      "_model_module": "@jupyter-widgets/base",
      "_model_module_version": "1.2.0",
      "_model_name": "LayoutModel",
      "_view_count": null,
      "_view_module": "@jupyter-widgets/base",
      "_view_module_version": "1.2.0",
      "_view_name": "LayoutView",
      "align_content": null,
      "align_items": null,
      "align_self": null,
      "border": null,
      "bottom": null,
      "display": null,
      "flex": null,
      "flex_flow": null,
      "grid_area": null,
      "grid_auto_columns": null,
      "grid_auto_flow": null,
      "grid_auto_rows": null,
      "grid_column": null,
      "grid_gap": null,
      "grid_row": null,
      "grid_template_areas": null,
      "grid_template_columns": null,
      "grid_template_rows": null,
      "height": null,
      "justify_content": null,
      "justify_items": null,
      "left": null,
      "margin": null,
      "max_height": null,
      "max_width": null,
      "min_height": null,
      "min_width": null,
      "object_fit": null,
      "object_position": null,
      "order": null,
      "overflow": null,
      "overflow_x": null,
      "overflow_y": null,
      "padding": null,
      "right": null,
      "top": null,
      "visibility": null,
      "width": null
     }
    },
    "94f166bde7f04f8bb76a81bec57092d1": {
     "model_module": "@jupyter-widgets/controls",
     "model_module_version": "1.5.0",
     "model_name": "FloatProgressModel",
     "state": {
      "_dom_classes": [],
      "_model_module": "@jupyter-widgets/controls",
      "_model_module_version": "1.5.0",
      "_model_name": "FloatProgressModel",
      "_view_count": null,
      "_view_module": "@jupyter-widgets/controls",
      "_view_module_version": "1.5.0",
      "_view_name": "ProgressView",
      "bar_style": "success",
      "description": "",
      "description_tooltip": null,
      "layout": "IPY_MODEL_3e74debb89e34d2a9dd8273436e1093e",
      "max": 5,
      "min": 0,
      "orientation": "horizontal",
      "style": "IPY_MODEL_8f83ca0a7fd6410bab186f9eb8de76b7",
      "value": 5
     }
    },
    "9569de476a73423797de5739a6f48ad7": {
     "model_module": "@jupyter-widgets/base",
     "model_module_version": "1.2.0",
     "model_name": "LayoutModel",
     "state": {
      "_model_module": "@jupyter-widgets/base",
      "_model_module_version": "1.2.0",
      "_model_name": "LayoutModel",
      "_view_count": null,
      "_view_module": "@jupyter-widgets/base",
      "_view_module_version": "1.2.0",
      "_view_name": "LayoutView",
      "align_content": null,
      "align_items": null,
      "align_self": null,
      "border": null,
      "bottom": null,
      "display": null,
      "flex": null,
      "flex_flow": null,
      "grid_area": null,
      "grid_auto_columns": null,
      "grid_auto_flow": null,
      "grid_auto_rows": null,
      "grid_column": null,
      "grid_gap": null,
      "grid_row": null,
      "grid_template_areas": null,
      "grid_template_columns": null,
      "grid_template_rows": null,
      "height": null,
      "justify_content": null,
      "justify_items": null,
      "left": null,
      "margin": null,
      "max_height": null,
      "max_width": null,
      "min_height": null,
      "min_width": null,
      "object_fit": null,
      "object_position": null,
      "order": null,
      "overflow": null,
      "overflow_x": null,
      "overflow_y": null,
      "padding": null,
      "right": null,
      "top": null,
      "visibility": null,
      "width": null
     }
    },
    "96155afff0804fcca91b40c1bf058ed9": {
     "model_module": "@jupyter-widgets/base",
     "model_module_version": "1.2.0",
     "model_name": "LayoutModel",
     "state": {
      "_model_module": "@jupyter-widgets/base",
      "_model_module_version": "1.2.0",
      "_model_name": "LayoutModel",
      "_view_count": null,
      "_view_module": "@jupyter-widgets/base",
      "_view_module_version": "1.2.0",
      "_view_name": "LayoutView",
      "align_content": null,
      "align_items": null,
      "align_self": null,
      "border": null,
      "bottom": null,
      "display": null,
      "flex": null,
      "flex_flow": null,
      "grid_area": null,
      "grid_auto_columns": null,
      "grid_auto_flow": null,
      "grid_auto_rows": null,
      "grid_column": null,
      "grid_gap": null,
      "grid_row": null,
      "grid_template_areas": null,
      "grid_template_columns": null,
      "grid_template_rows": null,
      "height": null,
      "justify_content": null,
      "justify_items": null,
      "left": null,
      "margin": null,
      "max_height": null,
      "max_width": null,
      "min_height": null,
      "min_width": null,
      "object_fit": null,
      "object_position": null,
      "order": null,
      "overflow": null,
      "overflow_x": null,
      "overflow_y": null,
      "padding": null,
      "right": null,
      "top": null,
      "visibility": null,
      "width": null
     }
    },
    "96697084a64d4af8b1e31c567bf54ac3": {
     "model_module": "@jupyter-widgets/controls",
     "model_module_version": "1.5.0",
     "model_name": "HTMLModel",
     "state": {
      "_dom_classes": [],
      "_model_module": "@jupyter-widgets/controls",
      "_model_module_version": "1.5.0",
      "_model_name": "HTMLModel",
      "_view_count": null,
      "_view_module": "@jupyter-widgets/controls",
      "_view_module_version": "1.5.0",
      "_view_name": "HTMLView",
      "description": "",
      "description_tooltip": null,
      "layout": "IPY_MODEL_c58eb5bbee944c3e8ea7009b73a3e316",
      "placeholder": "​",
      "style": "IPY_MODEL_0a695458d3df4d42b836b92a548d0952",
      "value": "Epoch 7/10: 100%"
     }
    },
    "96bd0164514b47109f73b76530e3260e": {
     "model_module": "@jupyter-widgets/base",
     "model_module_version": "1.2.0",
     "model_name": "LayoutModel",
     "state": {
      "_model_module": "@jupyter-widgets/base",
      "_model_module_version": "1.2.0",
      "_model_name": "LayoutModel",
      "_view_count": null,
      "_view_module": "@jupyter-widgets/base",
      "_view_module_version": "1.2.0",
      "_view_name": "LayoutView",
      "align_content": null,
      "align_items": null,
      "align_self": null,
      "border": null,
      "bottom": null,
      "display": null,
      "flex": null,
      "flex_flow": null,
      "grid_area": null,
      "grid_auto_columns": null,
      "grid_auto_flow": null,
      "grid_auto_rows": null,
      "grid_column": null,
      "grid_gap": null,
      "grid_row": null,
      "grid_template_areas": null,
      "grid_template_columns": null,
      "grid_template_rows": null,
      "height": null,
      "justify_content": null,
      "justify_items": null,
      "left": null,
      "margin": null,
      "max_height": null,
      "max_width": null,
      "min_height": null,
      "min_width": null,
      "object_fit": null,
      "object_position": null,
      "order": null,
      "overflow": null,
      "overflow_x": null,
      "overflow_y": null,
      "padding": null,
      "right": null,
      "top": null,
      "visibility": null,
      "width": null
     }
    },
    "9727353fe2d74c24992093a75b29b368": {
     "model_module": "@jupyter-widgets/base",
     "model_module_version": "1.2.0",
     "model_name": "LayoutModel",
     "state": {
      "_model_module": "@jupyter-widgets/base",
      "_model_module_version": "1.2.0",
      "_model_name": "LayoutModel",
      "_view_count": null,
      "_view_module": "@jupyter-widgets/base",
      "_view_module_version": "1.2.0",
      "_view_name": "LayoutView",
      "align_content": null,
      "align_items": null,
      "align_self": null,
      "border": null,
      "bottom": null,
      "display": null,
      "flex": null,
      "flex_flow": null,
      "grid_area": null,
      "grid_auto_columns": null,
      "grid_auto_flow": null,
      "grid_auto_rows": null,
      "grid_column": null,
      "grid_gap": null,
      "grid_row": null,
      "grid_template_areas": null,
      "grid_template_columns": null,
      "grid_template_rows": null,
      "height": null,
      "justify_content": null,
      "justify_items": null,
      "left": null,
      "margin": null,
      "max_height": null,
      "max_width": null,
      "min_height": null,
      "min_width": null,
      "object_fit": null,
      "object_position": null,
      "order": null,
      "overflow": null,
      "overflow_x": null,
      "overflow_y": null,
      "padding": null,
      "right": null,
      "top": null,
      "visibility": null,
      "width": null
     }
    },
    "9783a01bad8f4f8abc36e834ff953289": {
     "model_module": "@jupyter-widgets/base",
     "model_module_version": "1.2.0",
     "model_name": "LayoutModel",
     "state": {
      "_model_module": "@jupyter-widgets/base",
      "_model_module_version": "1.2.0",
      "_model_name": "LayoutModel",
      "_view_count": null,
      "_view_module": "@jupyter-widgets/base",
      "_view_module_version": "1.2.0",
      "_view_name": "LayoutView",
      "align_content": null,
      "align_items": null,
      "align_self": null,
      "border": null,
      "bottom": null,
      "display": null,
      "flex": null,
      "flex_flow": null,
      "grid_area": null,
      "grid_auto_columns": null,
      "grid_auto_flow": null,
      "grid_auto_rows": null,
      "grid_column": null,
      "grid_gap": null,
      "grid_row": null,
      "grid_template_areas": null,
      "grid_template_columns": null,
      "grid_template_rows": null,
      "height": null,
      "justify_content": null,
      "justify_items": null,
      "left": null,
      "margin": null,
      "max_height": null,
      "max_width": null,
      "min_height": null,
      "min_width": null,
      "object_fit": null,
      "object_position": null,
      "order": null,
      "overflow": null,
      "overflow_x": null,
      "overflow_y": null,
      "padding": null,
      "right": null,
      "top": null,
      "visibility": null,
      "width": null
     }
    },
    "9a2b42f2f2fa40aabf7b781f4d572349": {
     "model_module": "@jupyter-widgets/base",
     "model_module_version": "1.2.0",
     "model_name": "LayoutModel",
     "state": {
      "_model_module": "@jupyter-widgets/base",
      "_model_module_version": "1.2.0",
      "_model_name": "LayoutModel",
      "_view_count": null,
      "_view_module": "@jupyter-widgets/base",
      "_view_module_version": "1.2.0",
      "_view_name": "LayoutView",
      "align_content": null,
      "align_items": null,
      "align_self": null,
      "border": null,
      "bottom": null,
      "display": null,
      "flex": null,
      "flex_flow": null,
      "grid_area": null,
      "grid_auto_columns": null,
      "grid_auto_flow": null,
      "grid_auto_rows": null,
      "grid_column": null,
      "grid_gap": null,
      "grid_row": null,
      "grid_template_areas": null,
      "grid_template_columns": null,
      "grid_template_rows": null,
      "height": null,
      "justify_content": null,
      "justify_items": null,
      "left": null,
      "margin": null,
      "max_height": null,
      "max_width": null,
      "min_height": null,
      "min_width": null,
      "object_fit": null,
      "object_position": null,
      "order": null,
      "overflow": null,
      "overflow_x": null,
      "overflow_y": null,
      "padding": null,
      "right": null,
      "top": null,
      "visibility": null,
      "width": null
     }
    },
    "9a727fa6601b4b01b2ba83bec1f79ff5": {
     "model_module": "@jupyter-widgets/base",
     "model_module_version": "1.2.0",
     "model_name": "LayoutModel",
     "state": {
      "_model_module": "@jupyter-widgets/base",
      "_model_module_version": "1.2.0",
      "_model_name": "LayoutModel",
      "_view_count": null,
      "_view_module": "@jupyter-widgets/base",
      "_view_module_version": "1.2.0",
      "_view_name": "LayoutView",
      "align_content": null,
      "align_items": null,
      "align_self": null,
      "border": null,
      "bottom": null,
      "display": null,
      "flex": null,
      "flex_flow": null,
      "grid_area": null,
      "grid_auto_columns": null,
      "grid_auto_flow": null,
      "grid_auto_rows": null,
      "grid_column": null,
      "grid_gap": null,
      "grid_row": null,
      "grid_template_areas": null,
      "grid_template_columns": null,
      "grid_template_rows": null,
      "height": null,
      "justify_content": null,
      "justify_items": null,
      "left": null,
      "margin": null,
      "max_height": null,
      "max_width": null,
      "min_height": null,
      "min_width": null,
      "object_fit": null,
      "object_position": null,
      "order": null,
      "overflow": null,
      "overflow_x": null,
      "overflow_y": null,
      "padding": null,
      "right": null,
      "top": null,
      "visibility": null,
      "width": null
     }
    },
    "9b58dd08efc44551ab8c9d4bc7320d36": {
     "model_module": "@jupyter-widgets/controls",
     "model_module_version": "1.5.0",
     "model_name": "DescriptionStyleModel",
     "state": {
      "_model_module": "@jupyter-widgets/controls",
      "_model_module_version": "1.5.0",
      "_model_name": "DescriptionStyleModel",
      "_view_count": null,
      "_view_module": "@jupyter-widgets/base",
      "_view_module_version": "1.2.0",
      "_view_name": "StyleView",
      "description_width": ""
     }
    },
    "9d184cc68ed24738977f484b87426539": {
     "model_module": "@jupyter-widgets/controls",
     "model_module_version": "1.5.0",
     "model_name": "FloatProgressModel",
     "state": {
      "_dom_classes": [],
      "_model_module": "@jupyter-widgets/controls",
      "_model_module_version": "1.5.0",
      "_model_name": "FloatProgressModel",
      "_view_count": null,
      "_view_module": "@jupyter-widgets/controls",
      "_view_module_version": "1.5.0",
      "_view_name": "ProgressView",
      "bar_style": "success",
      "description": "",
      "description_tooltip": null,
      "layout": "IPY_MODEL_fc7646753fa74e6e8a22b0ab972d986c",
      "max": 50000,
      "min": 0,
      "orientation": "horizontal",
      "style": "IPY_MODEL_87573a328dd044f3beb336e543ba360a",
      "value": 50000
     }
    },
    "9d95a816d1a24ebca0f2f9cb4db7c98b": {
     "model_module": "@jupyter-widgets/controls",
     "model_module_version": "1.5.0",
     "model_name": "HBoxModel",
     "state": {
      "_dom_classes": [],
      "_model_module": "@jupyter-widgets/controls",
      "_model_module_version": "1.5.0",
      "_model_name": "HBoxModel",
      "_view_count": null,
      "_view_module": "@jupyter-widgets/controls",
      "_view_module_version": "1.5.0",
      "_view_name": "HBoxView",
      "box_style": "",
      "children": [
       "IPY_MODEL_66370dc8c57a401da4dbee92c9bbf0e8",
       "IPY_MODEL_5dfe57f8bce84eb5967444b159c58671",
       "IPY_MODEL_00295f1354a341d09bb46c32d5f16e3d"
      ],
      "layout": "IPY_MODEL_08b54c1f7fd54127a0d4a5b68df66556"
     }
    },
    "a19f5ac074ff4775afbd7c89379d9e85": {
     "model_module": "@jupyter-widgets/controls",
     "model_module_version": "1.5.0",
     "model_name": "DescriptionStyleModel",
     "state": {
      "_model_module": "@jupyter-widgets/controls",
      "_model_module_version": "1.5.0",
      "_model_name": "DescriptionStyleModel",
      "_view_count": null,
      "_view_module": "@jupyter-widgets/base",
      "_view_module_version": "1.2.0",
      "_view_name": "StyleView",
      "description_width": ""
     }
    },
    "a5897c55b16742d8b8792ab41dc636e1": {
     "model_module": "@jupyter-widgets/base",
     "model_module_version": "1.2.0",
     "model_name": "LayoutModel",
     "state": {
      "_model_module": "@jupyter-widgets/base",
      "_model_module_version": "1.2.0",
      "_model_name": "LayoutModel",
      "_view_count": null,
      "_view_module": "@jupyter-widgets/base",
      "_view_module_version": "1.2.0",
      "_view_name": "LayoutView",
      "align_content": null,
      "align_items": null,
      "align_self": null,
      "border": null,
      "bottom": null,
      "display": null,
      "flex": null,
      "flex_flow": null,
      "grid_area": null,
      "grid_auto_columns": null,
      "grid_auto_flow": null,
      "grid_auto_rows": null,
      "grid_column": null,
      "grid_gap": null,
      "grid_row": null,
      "grid_template_areas": null,
      "grid_template_columns": null,
      "grid_template_rows": null,
      "height": null,
      "justify_content": null,
      "justify_items": null,
      "left": null,
      "margin": null,
      "max_height": null,
      "max_width": null,
      "min_height": null,
      "min_width": null,
      "object_fit": null,
      "object_position": null,
      "order": null,
      "overflow": null,
      "overflow_x": null,
      "overflow_y": null,
      "padding": null,
      "right": null,
      "top": null,
      "visibility": null,
      "width": null
     }
    },
    "a5a85de1fb09438caecbd426aa2c912a": {
     "model_module": "@jupyter-widgets/controls",
     "model_module_version": "1.5.0",
     "model_name": "DescriptionStyleModel",
     "state": {
      "_model_module": "@jupyter-widgets/controls",
      "_model_module_version": "1.5.0",
      "_model_name": "DescriptionStyleModel",
      "_view_count": null,
      "_view_module": "@jupyter-widgets/base",
      "_view_module_version": "1.2.0",
      "_view_name": "StyleView",
      "description_width": ""
     }
    },
    "a5b48e81db774d99ae15b6b47bb94ca4": {
     "model_module": "@jupyter-widgets/base",
     "model_module_version": "1.2.0",
     "model_name": "LayoutModel",
     "state": {
      "_model_module": "@jupyter-widgets/base",
      "_model_module_version": "1.2.0",
      "_model_name": "LayoutModel",
      "_view_count": null,
      "_view_module": "@jupyter-widgets/base",
      "_view_module_version": "1.2.0",
      "_view_name": "LayoutView",
      "align_content": null,
      "align_items": null,
      "align_self": null,
      "border": null,
      "bottom": null,
      "display": null,
      "flex": null,
      "flex_flow": null,
      "grid_area": null,
      "grid_auto_columns": null,
      "grid_auto_flow": null,
      "grid_auto_rows": null,
      "grid_column": null,
      "grid_gap": null,
      "grid_row": null,
      "grid_template_areas": null,
      "grid_template_columns": null,
      "grid_template_rows": null,
      "height": null,
      "justify_content": null,
      "justify_items": null,
      "left": null,
      "margin": null,
      "max_height": null,
      "max_width": null,
      "min_height": null,
      "min_width": null,
      "object_fit": null,
      "object_position": null,
      "order": null,
      "overflow": null,
      "overflow_x": null,
      "overflow_y": null,
      "padding": null,
      "right": null,
      "top": null,
      "visibility": null,
      "width": null
     }
    },
    "a84858235d6e493a855e2de4c41228c0": {
     "model_module": "@jupyter-widgets/controls",
     "model_module_version": "1.5.0",
     "model_name": "HTMLModel",
     "state": {
      "_dom_classes": [],
      "_model_module": "@jupyter-widgets/controls",
      "_model_module_version": "1.5.0",
      "_model_name": "HTMLModel",
      "_view_count": null,
      "_view_module": "@jupyter-widgets/controls",
      "_view_module_version": "1.5.0",
      "_view_name": "HTMLView",
      "description": "",
      "description_tooltip": null,
      "layout": "IPY_MODEL_3399f52025dd47a4ba088081021f0e70",
      "placeholder": "​",
      "style": "IPY_MODEL_39dd4d1d562e4a0dacd6f2673227b137",
      "value": " 5/5 [00:00&lt;00:00,  9.16it/s, loss=1.67, learning_rate=0.000105]"
     }
    },
    "a866e1567ae84984b6572fbe78123fbb": {
     "model_module": "@jupyter-widgets/base",
     "model_module_version": "1.2.0",
     "model_name": "LayoutModel",
     "state": {
      "_model_module": "@jupyter-widgets/base",
      "_model_module_version": "1.2.0",
      "_model_name": "LayoutModel",
      "_view_count": null,
      "_view_module": "@jupyter-widgets/base",
      "_view_module_version": "1.2.0",
      "_view_name": "LayoutView",
      "align_content": null,
      "align_items": null,
      "align_self": null,
      "border": null,
      "bottom": null,
      "display": null,
      "flex": null,
      "flex_flow": null,
      "grid_area": null,
      "grid_auto_columns": null,
      "grid_auto_flow": null,
      "grid_auto_rows": null,
      "grid_column": null,
      "grid_gap": null,
      "grid_row": null,
      "grid_template_areas": null,
      "grid_template_columns": null,
      "grid_template_rows": null,
      "height": null,
      "justify_content": null,
      "justify_items": null,
      "left": null,
      "margin": null,
      "max_height": null,
      "max_width": null,
      "min_height": null,
      "min_width": null,
      "object_fit": null,
      "object_position": null,
      "order": null,
      "overflow": null,
      "overflow_x": null,
      "overflow_y": null,
      "padding": null,
      "right": null,
      "top": null,
      "visibility": null,
      "width": null
     }
    },
    "aac1f8ab6a84476e81342740185ef9a0": {
     "model_module": "@jupyter-widgets/base",
     "model_module_version": "1.2.0",
     "model_name": "LayoutModel",
     "state": {
      "_model_module": "@jupyter-widgets/base",
      "_model_module_version": "1.2.0",
      "_model_name": "LayoutModel",
      "_view_count": null,
      "_view_module": "@jupyter-widgets/base",
      "_view_module_version": "1.2.0",
      "_view_name": "LayoutView",
      "align_content": null,
      "align_items": null,
      "align_self": null,
      "border": null,
      "bottom": null,
      "display": null,
      "flex": null,
      "flex_flow": null,
      "grid_area": null,
      "grid_auto_columns": null,
      "grid_auto_flow": null,
      "grid_auto_rows": null,
      "grid_column": null,
      "grid_gap": null,
      "grid_row": null,
      "grid_template_areas": null,
      "grid_template_columns": null,
      "grid_template_rows": null,
      "height": null,
      "justify_content": null,
      "justify_items": null,
      "left": null,
      "margin": null,
      "max_height": null,
      "max_width": null,
      "min_height": null,
      "min_width": null,
      "object_fit": null,
      "object_position": null,
      "order": null,
      "overflow": null,
      "overflow_x": null,
      "overflow_y": null,
      "padding": null,
      "right": null,
      "top": null,
      "visibility": null,
      "width": null
     }
    },
    "ac7aaffa22854efe8818321e12795745": {
     "model_module": "@jupyter-widgets/controls",
     "model_module_version": "1.5.0",
     "model_name": "HBoxModel",
     "state": {
      "_dom_classes": [],
      "_model_module": "@jupyter-widgets/controls",
      "_model_module_version": "1.5.0",
      "_model_name": "HBoxModel",
      "_view_count": null,
      "_view_module": "@jupyter-widgets/controls",
      "_view_module_version": "1.5.0",
      "_view_name": "HBoxView",
      "box_style": "",
      "children": [
       "IPY_MODEL_3786e1cd94ec44d1be5d397548d988da",
       "IPY_MODEL_c43520a65d6143649a138c67d3b464c3",
       "IPY_MODEL_f336dbee48c944c1bc2351565f52d381"
      ],
      "layout": "IPY_MODEL_24bc55b6761848e4b6865b66aa47530f"
     }
    },
    "b0a8567760c74b6a97ea0cfcb07e204d": {
     "model_module": "@jupyter-widgets/controls",
     "model_module_version": "1.5.0",
     "model_name": "DescriptionStyleModel",
     "state": {
      "_model_module": "@jupyter-widgets/controls",
      "_model_module_version": "1.5.0",
      "_model_name": "DescriptionStyleModel",
      "_view_count": null,
      "_view_module": "@jupyter-widgets/base",
      "_view_module_version": "1.2.0",
      "_view_name": "StyleView",
      "description_width": ""
     }
    },
    "b2cdc5e24f134ab29f235c38c2c13600": {
     "model_module": "@jupyter-widgets/controls",
     "model_module_version": "1.5.0",
     "model_name": "HTMLModel",
     "state": {
      "_dom_classes": [],
      "_model_module": "@jupyter-widgets/controls",
      "_model_module_version": "1.5.0",
      "_model_name": "HTMLModel",
      "_view_count": null,
      "_view_module": "@jupyter-widgets/controls",
      "_view_module_version": "1.5.0",
      "_view_name": "HTMLView",
      "description": "",
      "description_tooltip": null,
      "layout": "IPY_MODEL_4441f0fcec9746c5aad028905c1ab20f",
      "placeholder": "​",
      "style": "IPY_MODEL_5ec678362445444c874554d5c4e0ae16",
      "value": " 1000/1000 [00:07&lt;00:00, 102.92it/s, loss=1.46, td_loss=0.0715, conservative_loss=1.39]"
     }
    },
    "b37a9b6f8c064509afcd832ab9f3d321": {
     "model_module": "@jupyter-widgets/controls",
     "model_module_version": "1.5.0",
     "model_name": "DescriptionStyleModel",
     "state": {
      "_model_module": "@jupyter-widgets/controls",
      "_model_module_version": "1.5.0",
      "_model_name": "DescriptionStyleModel",
      "_view_count": null,
      "_view_module": "@jupyter-widgets/base",
      "_view_module_version": "1.2.0",
      "_view_name": "StyleView",
      "description_width": ""
     }
    },
    "b75a94e91ce94a7ea202a8feafe933bf": {
     "model_module": "@jupyter-widgets/controls",
     "model_module_version": "1.5.0",
     "model_name": "HTMLModel",
     "state": {
      "_dom_classes": [],
      "_model_module": "@jupyter-widgets/controls",
      "_model_module_version": "1.5.0",
      "_model_name": "HTMLModel",
      "_view_count": null,
      "_view_module": "@jupyter-widgets/controls",
      "_view_module_version": "1.5.0",
      "_view_name": "HTMLView",
      "description": "",
      "description_tooltip": null,
      "layout": "IPY_MODEL_2c4439ad5d284ecf9736d20d9c998a1d",
      "placeholder": "​",
      "style": "IPY_MODEL_02a123de5c004cbe826601b49479e4e7",
      "value": " 1000/1000 [00:07&lt;00:00, 113.79it/s, loss=1.46, td_loss=0.0735, conservative_loss=1.39]"
     }
    },
    "bb1a88f8d4a240158e9c031fcce5268e": {
     "model_module": "@jupyter-widgets/controls",
     "model_module_version": "1.5.0",
     "model_name": "DescriptionStyleModel",
     "state": {
      "_model_module": "@jupyter-widgets/controls",
      "_model_module_version": "1.5.0",
      "_model_name": "DescriptionStyleModel",
      "_view_count": null,
      "_view_module": "@jupyter-widgets/base",
      "_view_module_version": "1.2.0",
      "_view_name": "StyleView",
      "description_width": ""
     }
    },
    "bec1cb31333d4c05acc532c9f7bd9faf": {
     "model_module": "@jupyter-widgets/controls",
     "model_module_version": "1.5.0",
     "model_name": "FloatProgressModel",
     "state": {
      "_dom_classes": [],
      "_model_module": "@jupyter-widgets/controls",
      "_model_module_version": "1.5.0",
      "_model_name": "FloatProgressModel",
      "_view_count": null,
      "_view_module": "@jupyter-widgets/controls",
      "_view_module_version": "1.5.0",
      "_view_name": "ProgressView",
      "bar_style": "success",
      "description": "",
      "description_tooltip": null,
      "layout": "IPY_MODEL_93c8edb1c5bc4a35b60aa62d08860257",
      "max": 1000,
      "min": 0,
      "orientation": "horizontal",
      "style": "IPY_MODEL_59e1416f56ad4324908dd1575e2144ce",
      "value": 1000
     }
    },
    "bf0265b9ebab4f3ca4ef1920b500e2f2": {
     "model_module": "@jupyter-widgets/controls",
     "model_module_version": "1.5.0",
     "model_name": "FloatProgressModel",
     "state": {
      "_dom_classes": [],
      "_model_module": "@jupyter-widgets/controls",
      "_model_module_version": "1.5.0",
      "_model_name": "FloatProgressModel",
      "_view_count": null,
      "_view_module": "@jupyter-widgets/controls",
      "_view_module_version": "1.5.0",
      "_view_name": "ProgressView",
      "bar_style": "success",
      "description": "",
      "description_tooltip": null,
      "layout": "IPY_MODEL_4f204b08d4cd46329ec9d6b4fda58f2c",
      "max": 150000,
      "min": 0,
      "orientation": "horizontal",
      "style": "IPY_MODEL_28ef035f83e243859f66acd593366cfe",
      "value": 150000
     }
    },
    "c00270f61c5b4416a06cdebcb115c134": {
     "model_module": "@jupyter-widgets/controls",
     "model_module_version": "1.5.0",
     "model_name": "DescriptionStyleModel",
     "state": {
      "_model_module": "@jupyter-widgets/controls",
      "_model_module_version": "1.5.0",
      "_model_name": "DescriptionStyleModel",
      "_view_count": null,
      "_view_module": "@jupyter-widgets/base",
      "_view_module_version": "1.2.0",
      "_view_name": "StyleView",
      "description_width": ""
     }
    },
    "c43520a65d6143649a138c67d3b464c3": {
     "model_module": "@jupyter-widgets/controls",
     "model_module_version": "1.5.0",
     "model_name": "FloatProgressModel",
     "state": {
      "_dom_classes": [],
      "_model_module": "@jupyter-widgets/controls",
      "_model_module_version": "1.5.0",
      "_model_name": "FloatProgressModel",
      "_view_count": null,
      "_view_module": "@jupyter-widgets/controls",
      "_view_module_version": "1.5.0",
      "_view_name": "ProgressView",
      "bar_style": "success",
      "description": "",
      "description_tooltip": null,
      "layout": "IPY_MODEL_4374071ec4964a90918c62de17b3b27e",
      "max": 1000,
      "min": 0,
      "orientation": "horizontal",
      "style": "IPY_MODEL_82c723652f1340a489c40217d40a69c0",
      "value": 1000
     }
    },
    "c4a92f0a343345c498a6b3b80a6c2cb3": {
     "model_module": "@jupyter-widgets/base",
     "model_module_version": "1.2.0",
     "model_name": "LayoutModel",
     "state": {
      "_model_module": "@jupyter-widgets/base",
      "_model_module_version": "1.2.0",
      "_model_name": "LayoutModel",
      "_view_count": null,
      "_view_module": "@jupyter-widgets/base",
      "_view_module_version": "1.2.0",
      "_view_name": "LayoutView",
      "align_content": null,
      "align_items": null,
      "align_self": null,
      "border": null,
      "bottom": null,
      "display": null,
      "flex": null,
      "flex_flow": null,
      "grid_area": null,
      "grid_auto_columns": null,
      "grid_auto_flow": null,
      "grid_auto_rows": null,
      "grid_column": null,
      "grid_gap": null,
      "grid_row": null,
      "grid_template_areas": null,
      "grid_template_columns": null,
      "grid_template_rows": null,
      "height": null,
      "justify_content": null,
      "justify_items": null,
      "left": null,
      "margin": null,
      "max_height": null,
      "max_width": null,
      "min_height": null,
      "min_width": null,
      "object_fit": null,
      "object_position": null,
      "order": null,
      "overflow": null,
      "overflow_x": null,
      "overflow_y": null,
      "padding": null,
      "right": null,
      "top": null,
      "visibility": null,
      "width": null
     }
    },
    "c58eb5bbee944c3e8ea7009b73a3e316": {
     "model_module": "@jupyter-widgets/base",
     "model_module_version": "1.2.0",
     "model_name": "LayoutModel",
     "state": {
      "_model_module": "@jupyter-widgets/base",
      "_model_module_version": "1.2.0",
      "_model_name": "LayoutModel",
      "_view_count": null,
      "_view_module": "@jupyter-widgets/base",
      "_view_module_version": "1.2.0",
      "_view_name": "LayoutView",
      "align_content": null,
      "align_items": null,
      "align_self": null,
      "border": null,
      "bottom": null,
      "display": null,
      "flex": null,
      "flex_flow": null,
      "grid_area": null,
      "grid_auto_columns": null,
      "grid_auto_flow": null,
      "grid_auto_rows": null,
      "grid_column": null,
      "grid_gap": null,
      "grid_row": null,
      "grid_template_areas": null,
      "grid_template_columns": null,
      "grid_template_rows": null,
      "height": null,
      "justify_content": null,
      "justify_items": null,
      "left": null,
      "margin": null,
      "max_height": null,
      "max_width": null,
      "min_height": null,
      "min_width": null,
      "object_fit": null,
      "object_position": null,
      "order": null,
      "overflow": null,
      "overflow_x": null,
      "overflow_y": null,
      "padding": null,
      "right": null,
      "top": null,
      "visibility": null,
      "width": null
     }
    },
    "c8a50e820353457c86811140943226e0": {
     "model_module": "@jupyter-widgets/base",
     "model_module_version": "1.2.0",
     "model_name": "LayoutModel",
     "state": {
      "_model_module": "@jupyter-widgets/base",
      "_model_module_version": "1.2.0",
      "_model_name": "LayoutModel",
      "_view_count": null,
      "_view_module": "@jupyter-widgets/base",
      "_view_module_version": "1.2.0",
      "_view_name": "LayoutView",
      "align_content": null,
      "align_items": null,
      "align_self": null,
      "border": null,
      "bottom": null,
      "display": null,
      "flex": null,
      "flex_flow": null,
      "grid_area": null,
      "grid_auto_columns": null,
      "grid_auto_flow": null,
      "grid_auto_rows": null,
      "grid_column": null,
      "grid_gap": null,
      "grid_row": null,
      "grid_template_areas": null,
      "grid_template_columns": null,
      "grid_template_rows": null,
      "height": null,
      "justify_content": null,
      "justify_items": null,
      "left": null,
      "margin": null,
      "max_height": null,
      "max_width": null,
      "min_height": null,
      "min_width": null,
      "object_fit": null,
      "object_position": null,
      "order": null,
      "overflow": null,
      "overflow_x": null,
      "overflow_y": null,
      "padding": null,
      "right": null,
      "top": null,
      "visibility": null,
      "width": null
     }
    },
    "ca065a45f8d84913a334f96a6896ed00": {
     "model_module": "@jupyter-widgets/controls",
     "model_module_version": "1.5.0",
     "model_name": "ProgressStyleModel",
     "state": {
      "_model_module": "@jupyter-widgets/controls",
      "_model_module_version": "1.5.0",
      "_model_name": "ProgressStyleModel",
      "_view_count": null,
      "_view_module": "@jupyter-widgets/base",
      "_view_module_version": "1.2.0",
      "_view_name": "StyleView",
      "bar_color": null,
      "description_width": ""
     }
    },
    "cb5f0c82052c48cfac884c779e50f2ce": {
     "model_module": "@jupyter-widgets/base",
     "model_module_version": "1.2.0",
     "model_name": "LayoutModel",
     "state": {
      "_model_module": "@jupyter-widgets/base",
      "_model_module_version": "1.2.0",
      "_model_name": "LayoutModel",
      "_view_count": null,
      "_view_module": "@jupyter-widgets/base",
      "_view_module_version": "1.2.0",
      "_view_name": "LayoutView",
      "align_content": null,
      "align_items": null,
      "align_self": null,
      "border": null,
      "bottom": null,
      "display": null,
      "flex": null,
      "flex_flow": null,
      "grid_area": null,
      "grid_auto_columns": null,
      "grid_auto_flow": null,
      "grid_auto_rows": null,
      "grid_column": null,
      "grid_gap": null,
      "grid_row": null,
      "grid_template_areas": null,
      "grid_template_columns": null,
      "grid_template_rows": null,
      "height": null,
      "justify_content": null,
      "justify_items": null,
      "left": null,
      "margin": null,
      "max_height": null,
      "max_width": null,
      "min_height": null,
      "min_width": null,
      "object_fit": null,
      "object_position": null,
      "order": null,
      "overflow": null,
      "overflow_x": null,
      "overflow_y": null,
      "padding": null,
      "right": null,
      "top": null,
      "visibility": null,
      "width": null
     }
    },
    "cee06d1869f44a3180f9f7fb5911ef96": {
     "model_module": "@jupyter-widgets/controls",
     "model_module_version": "1.5.0",
     "model_name": "HBoxModel",
     "state": {
      "_dom_classes": [],
      "_model_module": "@jupyter-widgets/controls",
      "_model_module_version": "1.5.0",
      "_model_name": "HBoxModel",
      "_view_count": null,
      "_view_module": "@jupyter-widgets/controls",
      "_view_module_version": "1.5.0",
      "_view_name": "HBoxView",
      "box_style": "",
      "children": [
       "IPY_MODEL_ea418f5f955241149bfe5221701b389d",
       "IPY_MODEL_94f166bde7f04f8bb76a81bec57092d1",
       "IPY_MODEL_a84858235d6e493a855e2de4c41228c0"
      ],
      "layout": "IPY_MODEL_43305fb9bae7416f9d265066f7493409"
     }
    },
    "cf23379d6c184b2583b778653b334b9a": {
     "model_module": "@jupyter-widgets/controls",
     "model_module_version": "1.5.0",
     "model_name": "ProgressStyleModel",
     "state": {
      "_model_module": "@jupyter-widgets/controls",
      "_model_module_version": "1.5.0",
      "_model_name": "ProgressStyleModel",
      "_view_count": null,
      "_view_module": "@jupyter-widgets/base",
      "_view_module_version": "1.2.0",
      "_view_name": "StyleView",
      "bar_color": null,
      "description_width": ""
     }
    },
    "d196cead059c41de8090bdad483f7a35": {
     "model_module": "@jupyter-widgets/base",
     "model_module_version": "1.2.0",
     "model_name": "LayoutModel",
     "state": {
      "_model_module": "@jupyter-widgets/base",
      "_model_module_version": "1.2.0",
      "_model_name": "LayoutModel",
      "_view_count": null,
      "_view_module": "@jupyter-widgets/base",
      "_view_module_version": "1.2.0",
      "_view_name": "LayoutView",
      "align_content": null,
      "align_items": null,
      "align_self": null,
      "border": null,
      "bottom": null,
      "display": null,
      "flex": null,
      "flex_flow": null,
      "grid_area": null,
      "grid_auto_columns": null,
      "grid_auto_flow": null,
      "grid_auto_rows": null,
      "grid_column": null,
      "grid_gap": null,
      "grid_row": null,
      "grid_template_areas": null,
      "grid_template_columns": null,
      "grid_template_rows": null,
      "height": null,
      "justify_content": null,
      "justify_items": null,
      "left": null,
      "margin": null,
      "max_height": null,
      "max_width": null,
      "min_height": null,
      "min_width": null,
      "object_fit": null,
      "object_position": null,
      "order": null,
      "overflow": null,
      "overflow_x": null,
      "overflow_y": null,
      "padding": null,
      "right": null,
      "top": null,
      "visibility": null,
      "width": null
     }
    },
    "d327cf2c016c4350a7bf1725a15b15a1": {
     "model_module": "@jupyter-widgets/controls",
     "model_module_version": "1.5.0",
     "model_name": "FloatProgressModel",
     "state": {
      "_dom_classes": [],
      "_model_module": "@jupyter-widgets/controls",
      "_model_module_version": "1.5.0",
      "_model_name": "FloatProgressModel",
      "_view_count": null,
      "_view_module": "@jupyter-widgets/controls",
      "_view_module_version": "1.5.0",
      "_view_name": "ProgressView",
      "bar_style": "success",
      "description": "",
      "description_tooltip": null,
      "layout": "IPY_MODEL_9727353fe2d74c24992093a75b29b368",
      "max": 1000,
      "min": 0,
      "orientation": "horizontal",
      "style": "IPY_MODEL_7d15ce137bf844e4a66f7864171ddb36",
      "value": 1000
     }
    },
    "d843c7412a34419d993107a6191c5e74": {
     "model_module": "@jupyter-widgets/controls",
     "model_module_version": "1.5.0",
     "model_name": "HTMLModel",
     "state": {
      "_dom_classes": [],
      "_model_module": "@jupyter-widgets/controls",
      "_model_module_version": "1.5.0",
      "_model_name": "HTMLModel",
      "_view_count": null,
      "_view_module": "@jupyter-widgets/controls",
      "_view_module_version": "1.5.0",
      "_view_name": "HTMLView",
      "description": "",
      "description_tooltip": null,
      "layout": "IPY_MODEL_deab2bd61d304b0099f029e024ae2513",
      "placeholder": "​",
      "style": "IPY_MODEL_06cd1b65c0a14d1bad1f0711a402a4e5",
      "value": " 1000/1000 [00:07&lt;00:00, 148.77it/s, loss=1.46, td_loss=0.073, conservative_loss=1.38]"
     }
    },
    "d9b93870a4b146269508ff22ce3b5942": {
     "model_module": "@jupyter-widgets/controls",
     "model_module_version": "1.5.0",
     "model_name": "HTMLModel",
     "state": {
      "_dom_classes": [],
      "_model_module": "@jupyter-widgets/controls",
      "_model_module_version": "1.5.0",
      "_model_name": "HTMLModel",
      "_view_count": null,
      "_view_module": "@jupyter-widgets/controls",
      "_view_module_version": "1.5.0",
      "_view_name": "HTMLView",
      "description": "",
      "description_tooltip": null,
      "layout": "IPY_MODEL_7cc6d9faeab749bf9d2fca7f6c40d792",
      "placeholder": "​",
      "style": "IPY_MODEL_018f4fb319444e74b03a1cb0162f44cc",
      "value": " 1000/1000 [00:06&lt;00:00, 147.41it/s, loss=1.46, td_loss=0.0754, conservative_loss=1.39]"
     }
    },
    "da3001b424fb45c78dae5bddb598ad58": {
     "model_module": "@jupyter-widgets/controls",
     "model_module_version": "1.5.0",
     "model_name": "ProgressStyleModel",
     "state": {
      "_model_module": "@jupyter-widgets/controls",
      "_model_module_version": "1.5.0",
      "_model_name": "ProgressStyleModel",
      "_view_count": null,
      "_view_module": "@jupyter-widgets/base",
      "_view_module_version": "1.2.0",
      "_view_name": "StyleView",
      "bar_color": null,
      "description_width": ""
     }
    },
    "dd32a96363804c13ab0038335a311338": {
     "model_module": "@jupyter-widgets/base",
     "model_module_version": "1.2.0",
     "model_name": "LayoutModel",
     "state": {
      "_model_module": "@jupyter-widgets/base",
      "_model_module_version": "1.2.0",
      "_model_name": "LayoutModel",
      "_view_count": null,
      "_view_module": "@jupyter-widgets/base",
      "_view_module_version": "1.2.0",
      "_view_name": "LayoutView",
      "align_content": null,
      "align_items": null,
      "align_self": null,
      "border": null,
      "bottom": null,
      "display": null,
      "flex": null,
      "flex_flow": null,
      "grid_area": null,
      "grid_auto_columns": null,
      "grid_auto_flow": null,
      "grid_auto_rows": null,
      "grid_column": null,
      "grid_gap": null,
      "grid_row": null,
      "grid_template_areas": null,
      "grid_template_columns": null,
      "grid_template_rows": null,
      "height": null,
      "justify_content": null,
      "justify_items": null,
      "left": null,
      "margin": null,
      "max_height": null,
      "max_width": null,
      "min_height": null,
      "min_width": null,
      "object_fit": null,
      "object_position": null,
      "order": null,
      "overflow": null,
      "overflow_x": null,
      "overflow_y": null,
      "padding": null,
      "right": null,
      "top": null,
      "visibility": null,
      "width": null
     }
    },
    "dd374d5ee8a646cb9564b1c391584d0e": {
     "model_module": "@jupyter-widgets/controls",
     "model_module_version": "1.5.0",
     "model_name": "HTMLModel",
     "state": {
      "_dom_classes": [],
      "_model_module": "@jupyter-widgets/controls",
      "_model_module_version": "1.5.0",
      "_model_name": "HTMLModel",
      "_view_count": null,
      "_view_module": "@jupyter-widgets/controls",
      "_view_module_version": "1.5.0",
      "_view_name": "HTMLView",
      "description": "",
      "description_tooltip": null,
      "layout": "IPY_MODEL_5393552bcbb34ae08c83460e7953d3ea",
      "placeholder": "​",
      "style": "IPY_MODEL_173a224593404531b17f3a96520793b4",
      "value": "Epoch 2/10: 100%"
     }
    },
    "deab2bd61d304b0099f029e024ae2513": {
     "model_module": "@jupyter-widgets/base",
     "model_module_version": "1.2.0",
     "model_name": "LayoutModel",
     "state": {
      "_model_module": "@jupyter-widgets/base",
      "_model_module_version": "1.2.0",
      "_model_name": "LayoutModel",
      "_view_count": null,
      "_view_module": "@jupyter-widgets/base",
      "_view_module_version": "1.2.0",
      "_view_name": "LayoutView",
      "align_content": null,
      "align_items": null,
      "align_self": null,
      "border": null,
      "bottom": null,
      "display": null,
      "flex": null,
      "flex_flow": null,
      "grid_area": null,
      "grid_auto_columns": null,
      "grid_auto_flow": null,
      "grid_auto_rows": null,
      "grid_column": null,
      "grid_gap": null,
      "grid_row": null,
      "grid_template_areas": null,
      "grid_template_columns": null,
      "grid_template_rows": null,
      "height": null,
      "justify_content": null,
      "justify_items": null,
      "left": null,
      "margin": null,
      "max_height": null,
      "max_width": null,
      "min_height": null,
      "min_width": null,
      "object_fit": null,
      "object_position": null,
      "order": null,
      "overflow": null,
      "overflow_x": null,
      "overflow_y": null,
      "padding": null,
      "right": null,
      "top": null,
      "visibility": null,
      "width": null
     }
    },
    "e551ad82f79743bf8305db7556318a29": {
     "model_module": "@jupyter-widgets/controls",
     "model_module_version": "1.5.0",
     "model_name": "HTMLModel",
     "state": {
      "_dom_classes": [],
      "_model_module": "@jupyter-widgets/controls",
      "_model_module_version": "1.5.0",
      "_model_name": "HTMLModel",
      "_view_count": null,
      "_view_module": "@jupyter-widgets/controls",
      "_view_module_version": "1.5.0",
      "_view_name": "HTMLView",
      "description": "",
      "description_tooltip": null,
      "layout": "IPY_MODEL_79898afa50b04eb1a42128f3240a19bf",
      "placeholder": "​",
      "style": "IPY_MODEL_f231071e03ae48da877fe4d1189fa9ff",
      "value": " 1000/1000 [00:07&lt;00:00, 151.49it/s, loss=1.47, td_loss=0.0682, conservative_loss=1.4]"
     }
    },
    "e5799c9159df44f9baa6fb943dbfc638": {
     "model_module": "@jupyter-widgets/controls",
     "model_module_version": "1.5.0",
     "model_name": "HBoxModel",
     "state": {
      "_dom_classes": [],
      "_model_module": "@jupyter-widgets/controls",
      "_model_module_version": "1.5.0",
      "_model_name": "HBoxModel",
      "_view_count": null,
      "_view_module": "@jupyter-widgets/controls",
      "_view_module_version": "1.5.0",
      "_view_name": "HBoxView",
      "box_style": "",
      "children": [
       "IPY_MODEL_902116b81bb3497985baa3549974ebc1",
       "IPY_MODEL_e9b1f833e360415babe76e2ffa05efd3",
       "IPY_MODEL_b75a94e91ce94a7ea202a8feafe933bf"
      ],
      "layout": "IPY_MODEL_864e4017b0db4352923b85ed0af93bf4"
     }
    },
    "e8efaf1d8b284db28cc490aaaa0ebbd7": {
     "model_module": "@jupyter-widgets/base",
     "model_module_version": "1.2.0",
     "model_name": "LayoutModel",
     "state": {
      "_model_module": "@jupyter-widgets/base",
      "_model_module_version": "1.2.0",
      "_model_name": "LayoutModel",
      "_view_count": null,
      "_view_module": "@jupyter-widgets/base",
      "_view_module_version": "1.2.0",
      "_view_name": "LayoutView",
      "align_content": null,
      "align_items": null,
      "align_self": null,
      "border": null,
      "bottom": null,
      "display": null,
      "flex": null,
      "flex_flow": null,
      "grid_area": null,
      "grid_auto_columns": null,
      "grid_auto_flow": null,
      "grid_auto_rows": null,
      "grid_column": null,
      "grid_gap": null,
      "grid_row": null,
      "grid_template_areas": null,
      "grid_template_columns": null,
      "grid_template_rows": null,
      "height": null,
      "justify_content": null,
      "justify_items": null,
      "left": null,
      "margin": null,
      "max_height": null,
      "max_width": null,
      "min_height": null,
      "min_width": null,
      "object_fit": null,
      "object_position": null,
      "order": null,
      "overflow": null,
      "overflow_x": null,
      "overflow_y": null,
      "padding": null,
      "right": null,
      "top": null,
      "visibility": null,
      "width": null
     }
    },
    "e946bb14a4524333989e7024717f2182": {
     "model_module": "@jupyter-widgets/controls",
     "model_module_version": "1.5.0",
     "model_name": "HTMLModel",
     "state": {
      "_dom_classes": [],
      "_model_module": "@jupyter-widgets/controls",
      "_model_module_version": "1.5.0",
      "_model_name": "HTMLModel",
      "_view_count": null,
      "_view_module": "@jupyter-widgets/controls",
      "_view_module_version": "1.5.0",
      "_view_name": "HTMLView",
      "description": "",
      "description_tooltip": null,
      "layout": "IPY_MODEL_53ae18c6cc404c37a02a0d4e63085d76",
      "placeholder": "​",
      "style": "IPY_MODEL_b0a8567760c74b6a97ea0cfcb07e204d",
      "value": " 150000/150000 [16:38&lt;00:00, 142.48it/s]"
     }
    },
    "e9b1f833e360415babe76e2ffa05efd3": {
     "model_module": "@jupyter-widgets/controls",
     "model_module_version": "1.5.0",
     "model_name": "FloatProgressModel",
     "state": {
      "_dom_classes": [],
      "_model_module": "@jupyter-widgets/controls",
      "_model_module_version": "1.5.0",
      "_model_name": "FloatProgressModel",
      "_view_count": null,
      "_view_module": "@jupyter-widgets/controls",
      "_view_module_version": "1.5.0",
      "_view_name": "ProgressView",
      "bar_style": "success",
      "description": "",
      "description_tooltip": null,
      "layout": "IPY_MODEL_55ac99bdd3364a6b86d3db9c9d56feec",
      "max": 1000,
      "min": 0,
      "orientation": "horizontal",
      "style": "IPY_MODEL_cf23379d6c184b2583b778653b334b9a",
      "value": 1000
     }
    },
    "ea418f5f955241149bfe5221701b389d": {
     "model_module": "@jupyter-widgets/controls",
     "model_module_version": "1.5.0",
     "model_name": "HTMLModel",
     "state": {
      "_dom_classes": [],
      "_model_module": "@jupyter-widgets/controls",
      "_model_module_version": "1.5.0",
      "_model_name": "HTMLModel",
      "_view_count": null,
      "_view_module": "@jupyter-widgets/controls",
      "_view_module_version": "1.5.0",
      "_view_name": "HTMLView",
      "description": "",
      "description_tooltip": null,
      "layout": "IPY_MODEL_e8efaf1d8b284db28cc490aaaa0ebbd7",
      "placeholder": "​",
      "style": "IPY_MODEL_a19f5ac074ff4775afbd7c89379d9e85",
      "value": "Epoch 1/2000: 100%"
     }
    },
    "eaf8642f7b4445d785dbb5c80cdbad81": {
     "model_module": "@jupyter-widgets/controls",
     "model_module_version": "1.5.0",
     "model_name": "DescriptionStyleModel",
     "state": {
      "_model_module": "@jupyter-widgets/controls",
      "_model_module_version": "1.5.0",
      "_model_name": "DescriptionStyleModel",
      "_view_count": null,
      "_view_module": "@jupyter-widgets/base",
      "_view_module_version": "1.2.0",
      "_view_name": "StyleView",
      "description_width": ""
     }
    },
    "ecdeaaf1317c4556a9c4d54240e796ae": {
     "model_module": "@jupyter-widgets/controls",
     "model_module_version": "1.5.0",
     "model_name": "HTMLModel",
     "state": {
      "_dom_classes": [],
      "_model_module": "@jupyter-widgets/controls",
      "_model_module_version": "1.5.0",
      "_model_name": "HTMLModel",
      "_view_count": null,
      "_view_module": "@jupyter-widgets/controls",
      "_view_module_version": "1.5.0",
      "_view_name": "HTMLView",
      "description": "",
      "description_tooltip": null,
      "layout": "IPY_MODEL_a5b48e81db774d99ae15b6b47bb94ca4",
      "placeholder": "​",
      "style": "IPY_MODEL_bb1a88f8d4a240158e9c031fcce5268e",
      "value": " 50000/50000 [07:12&lt;00:00, 114.62it/s, loss=2.81]"
     }
    },
    "ed84f954187b4e668f0c3addb6496ccd": {
     "model_module": "@jupyter-widgets/base",
     "model_module_version": "1.2.0",
     "model_name": "LayoutModel",
     "state": {
      "_model_module": "@jupyter-widgets/base",
      "_model_module_version": "1.2.0",
      "_model_name": "LayoutModel",
      "_view_count": null,
      "_view_module": "@jupyter-widgets/base",
      "_view_module_version": "1.2.0",
      "_view_name": "LayoutView",
      "align_content": null,
      "align_items": null,
      "align_self": null,
      "border": null,
      "bottom": null,
      "display": null,
      "flex": null,
      "flex_flow": null,
      "grid_area": null,
      "grid_auto_columns": null,
      "grid_auto_flow": null,
      "grid_auto_rows": null,
      "grid_column": null,
      "grid_gap": null,
      "grid_row": null,
      "grid_template_areas": null,
      "grid_template_columns": null,
      "grid_template_rows": null,
      "height": null,
      "justify_content": null,
      "justify_items": null,
      "left": null,
      "margin": null,
      "max_height": null,
      "max_width": null,
      "min_height": null,
      "min_width": null,
      "object_fit": null,
      "object_position": null,
      "order": null,
      "overflow": null,
      "overflow_x": null,
      "overflow_y": null,
      "padding": null,
      "right": null,
      "top": null,
      "visibility": null,
      "width": null
     }
    },
    "edbbed934d9246e4914b514483df271f": {
     "model_module": "@jupyter-widgets/controls",
     "model_module_version": "1.5.0",
     "model_name": "FloatProgressModel",
     "state": {
      "_dom_classes": [],
      "_model_module": "@jupyter-widgets/controls",
      "_model_module_version": "1.5.0",
      "_model_name": "FloatProgressModel",
      "_view_count": null,
      "_view_module": "@jupyter-widgets/controls",
      "_view_module_version": "1.5.0",
      "_view_name": "ProgressView",
      "bar_style": "success",
      "description": "",
      "description_tooltip": null,
      "layout": "IPY_MODEL_2f94ce0496af4e1a9cd39753f8203c75",
      "max": 1000,
      "min": 0,
      "orientation": "horizontal",
      "style": "IPY_MODEL_0972b4d51d7b49d8a9ed8f8155be342b",
      "value": 1000
     }
    },
    "efd6fcb2c10549ffa712c4645cb363d8": {
     "model_module": "@jupyter-widgets/controls",
     "model_module_version": "1.5.0",
     "model_name": "FloatProgressModel",
     "state": {
      "_dom_classes": [],
      "_model_module": "@jupyter-widgets/controls",
      "_model_module_version": "1.5.0",
      "_model_name": "FloatProgressModel",
      "_view_count": null,
      "_view_module": "@jupyter-widgets/controls",
      "_view_module_version": "1.5.0",
      "_view_name": "ProgressView",
      "bar_style": "success",
      "description": "",
      "description_tooltip": null,
      "layout": "IPY_MODEL_1313ed8390f74ad592870217e52892d4",
      "max": 1000,
      "min": 0,
      "orientation": "horizontal",
      "style": "IPY_MODEL_6a067fdff87644deb35d43119c9c51a4",
      "value": 1000
     }
    },
    "f18c9e95b13848139580ba4ac10a7382": {
     "model_module": "@jupyter-widgets/base",
     "model_module_version": "1.2.0",
     "model_name": "LayoutModel",
     "state": {
      "_model_module": "@jupyter-widgets/base",
      "_model_module_version": "1.2.0",
      "_model_name": "LayoutModel",
      "_view_count": null,
      "_view_module": "@jupyter-widgets/base",
      "_view_module_version": "1.2.0",
      "_view_name": "LayoutView",
      "align_content": null,
      "align_items": null,
      "align_self": null,
      "border": null,
      "bottom": null,
      "display": null,
      "flex": null,
      "flex_flow": null,
      "grid_area": null,
      "grid_auto_columns": null,
      "grid_auto_flow": null,
      "grid_auto_rows": null,
      "grid_column": null,
      "grid_gap": null,
      "grid_row": null,
      "grid_template_areas": null,
      "grid_template_columns": null,
      "grid_template_rows": null,
      "height": null,
      "justify_content": null,
      "justify_items": null,
      "left": null,
      "margin": null,
      "max_height": null,
      "max_width": null,
      "min_height": null,
      "min_width": null,
      "object_fit": null,
      "object_position": null,
      "order": null,
      "overflow": null,
      "overflow_x": null,
      "overflow_y": null,
      "padding": null,
      "right": null,
      "top": null,
      "visibility": null,
      "width": null
     }
    },
    "f231071e03ae48da877fe4d1189fa9ff": {
     "model_module": "@jupyter-widgets/controls",
     "model_module_version": "1.5.0",
     "model_name": "DescriptionStyleModel",
     "state": {
      "_model_module": "@jupyter-widgets/controls",
      "_model_module_version": "1.5.0",
      "_model_name": "DescriptionStyleModel",
      "_view_count": null,
      "_view_module": "@jupyter-widgets/base",
      "_view_module_version": "1.2.0",
      "_view_name": "StyleView",
      "description_width": ""
     }
    },
    "f336dbee48c944c1bc2351565f52d381": {
     "model_module": "@jupyter-widgets/controls",
     "model_module_version": "1.5.0",
     "model_name": "HTMLModel",
     "state": {
      "_dom_classes": [],
      "_model_module": "@jupyter-widgets/controls",
      "_model_module_version": "1.5.0",
      "_model_name": "HTMLModel",
      "_view_count": null,
      "_view_module": "@jupyter-widgets/controls",
      "_view_module_version": "1.5.0",
      "_view_name": "HTMLView",
      "description": "",
      "description_tooltip": null,
      "layout": "IPY_MODEL_509160a12937449f8a4965f25963a4d1",
      "placeholder": "​",
      "style": "IPY_MODEL_8ab1d21716fe4338b2da0a35173bf9dd",
      "value": " 1000/1000 [00:06&lt;00:00, 154.91it/s, loss=1.46, td_loss=0.0726, conservative_loss=1.39]"
     }
    },
    "f62307918f7c48c7a19b7234b4776408": {
     "model_module": "@jupyter-widgets/controls",
     "model_module_version": "1.5.0",
     "model_name": "HTMLModel",
     "state": {
      "_dom_classes": [],
      "_model_module": "@jupyter-widgets/controls",
      "_model_module_version": "1.5.0",
      "_model_name": "HTMLModel",
      "_view_count": null,
      "_view_module": "@jupyter-widgets/controls",
      "_view_module_version": "1.5.0",
      "_view_name": "HTMLView",
      "description": "",
      "description_tooltip": null,
      "layout": "IPY_MODEL_1af92cd1580344e29814fe96c61e40c6",
      "placeholder": "​",
      "style": "IPY_MODEL_fefa236c4a534f3fa34ee49a571e4129",
      "value": " 1000/1000 [00:06&lt;00:00, 151.49it/s, loss=1.46, td_loss=0.0728, conservative_loss=1.39]"
     }
    },
    "f73b7b8c5ae1424b8cdcc4e7650204ee": {
     "model_module": "@jupyter-widgets/base",
     "model_module_version": "1.2.0",
     "model_name": "LayoutModel",
     "state": {
      "_model_module": "@jupyter-widgets/base",
      "_model_module_version": "1.2.0",
      "_model_name": "LayoutModel",
      "_view_count": null,
      "_view_module": "@jupyter-widgets/base",
      "_view_module_version": "1.2.0",
      "_view_name": "LayoutView",
      "align_content": null,
      "align_items": null,
      "align_self": null,
      "border": null,
      "bottom": null,
      "display": null,
      "flex": null,
      "flex_flow": null,
      "grid_area": null,
      "grid_auto_columns": null,
      "grid_auto_flow": null,
      "grid_auto_rows": null,
      "grid_column": null,
      "grid_gap": null,
      "grid_row": null,
      "grid_template_areas": null,
      "grid_template_columns": null,
      "grid_template_rows": null,
      "height": null,
      "justify_content": null,
      "justify_items": null,
      "left": null,
      "margin": null,
      "max_height": null,
      "max_width": null,
      "min_height": null,
      "min_width": null,
      "object_fit": null,
      "object_position": null,
      "order": null,
      "overflow": null,
      "overflow_x": null,
      "overflow_y": null,
      "padding": null,
      "right": null,
      "top": null,
      "visibility": null,
      "width": null
     }
    },
    "f8848d3f01dd4350b41ba539ddce6c9d": {
     "model_module": "@jupyter-widgets/base",
     "model_module_version": "1.2.0",
     "model_name": "LayoutModel",
     "state": {
      "_model_module": "@jupyter-widgets/base",
      "_model_module_version": "1.2.0",
      "_model_name": "LayoutModel",
      "_view_count": null,
      "_view_module": "@jupyter-widgets/base",
      "_view_module_version": "1.2.0",
      "_view_name": "LayoutView",
      "align_content": null,
      "align_items": null,
      "align_self": null,
      "border": null,
      "bottom": null,
      "display": null,
      "flex": null,
      "flex_flow": null,
      "grid_area": null,
      "grid_auto_columns": null,
      "grid_auto_flow": null,
      "grid_auto_rows": null,
      "grid_column": null,
      "grid_gap": null,
      "grid_row": null,
      "grid_template_areas": null,
      "grid_template_columns": null,
      "grid_template_rows": null,
      "height": null,
      "justify_content": null,
      "justify_items": null,
      "left": null,
      "margin": null,
      "max_height": null,
      "max_width": null,
      "min_height": null,
      "min_width": null,
      "object_fit": null,
      "object_position": null,
      "order": null,
      "overflow": null,
      "overflow_x": null,
      "overflow_y": null,
      "padding": null,
      "right": null,
      "top": null,
      "visibility": null,
      "width": null
     }
    },
    "fc7646753fa74e6e8a22b0ab972d986c": {
     "model_module": "@jupyter-widgets/base",
     "model_module_version": "1.2.0",
     "model_name": "LayoutModel",
     "state": {
      "_model_module": "@jupyter-widgets/base",
      "_model_module_version": "1.2.0",
      "_model_name": "LayoutModel",
      "_view_count": null,
      "_view_module": "@jupyter-widgets/base",
      "_view_module_version": "1.2.0",
      "_view_name": "LayoutView",
      "align_content": null,
      "align_items": null,
      "align_self": null,
      "border": null,
      "bottom": null,
      "display": null,
      "flex": null,
      "flex_flow": null,
      "grid_area": null,
      "grid_auto_columns": null,
      "grid_auto_flow": null,
      "grid_auto_rows": null,
      "grid_column": null,
      "grid_gap": null,
      "grid_row": null,
      "grid_template_areas": null,
      "grid_template_columns": null,
      "grid_template_rows": null,
      "height": null,
      "justify_content": null,
      "justify_items": null,
      "left": null,
      "margin": null,
      "max_height": null,
      "max_width": null,
      "min_height": null,
      "min_width": null,
      "object_fit": null,
      "object_position": null,
      "order": null,
      "overflow": null,
      "overflow_x": null,
      "overflow_y": null,
      "padding": null,
      "right": null,
      "top": null,
      "visibility": null,
      "width": null
     }
    },
    "fcd003f260254284a7bb20b23697dab5": {
     "model_module": "@jupyter-widgets/controls",
     "model_module_version": "1.5.0",
     "model_name": "HBoxModel",
     "state": {
      "_dom_classes": [],
      "_model_module": "@jupyter-widgets/controls",
      "_model_module_version": "1.5.0",
      "_model_name": "HBoxModel",
      "_view_count": null,
      "_view_module": "@jupyter-widgets/controls",
      "_view_module_version": "1.5.0",
      "_view_name": "HBoxView",
      "box_style": "",
      "children": [
       "IPY_MODEL_55d396d499974b9db2f69738dac850b0",
       "IPY_MODEL_efd6fcb2c10549ffa712c4645cb363d8",
       "IPY_MODEL_6925f571497047078c3b73ddcac51bd8"
      ],
      "layout": "IPY_MODEL_dd32a96363804c13ab0038335a311338"
     }
    },
    "fd506ca6c9f34488904e78cc157c4803": {
     "model_module": "@jupyter-widgets/base",
     "model_module_version": "1.2.0",
     "model_name": "LayoutModel",
     "state": {
      "_model_module": "@jupyter-widgets/base",
      "_model_module_version": "1.2.0",
      "_model_name": "LayoutModel",
      "_view_count": null,
      "_view_module": "@jupyter-widgets/base",
      "_view_module_version": "1.2.0",
      "_view_name": "LayoutView",
      "align_content": null,
      "align_items": null,
      "align_self": null,
      "border": null,
      "bottom": null,
      "display": null,
      "flex": null,
      "flex_flow": null,
      "grid_area": null,
      "grid_auto_columns": null,
      "grid_auto_flow": null,
      "grid_auto_rows": null,
      "grid_column": null,
      "grid_gap": null,
      "grid_row": null,
      "grid_template_areas": null,
      "grid_template_columns": null,
      "grid_template_rows": null,
      "height": null,
      "justify_content": null,
      "justify_items": null,
      "left": null,
      "margin": null,
      "max_height": null,
      "max_width": null,
      "min_height": null,
      "min_width": null,
      "object_fit": null,
      "object_position": null,
      "order": null,
      "overflow": null,
      "overflow_x": null,
      "overflow_y": null,
      "padding": null,
      "right": null,
      "top": null,
      "visibility": null,
      "width": null
     }
    },
    "fefa236c4a534f3fa34ee49a571e4129": {
     "model_module": "@jupyter-widgets/controls",
     "model_module_version": "1.5.0",
     "model_name": "DescriptionStyleModel",
     "state": {
      "_model_module": "@jupyter-widgets/controls",
      "_model_module_version": "1.5.0",
      "_model_name": "DescriptionStyleModel",
      "_view_count": null,
      "_view_module": "@jupyter-widgets/base",
      "_view_module_version": "1.2.0",
      "_view_name": "StyleView",
      "description_width": ""
     }
    }
   }
  }
 },
 "nbformat": 4,
 "nbformat_minor": 5
}
