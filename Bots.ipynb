{
 "cells": [
  {
   "cell_type": "markdown",
   "id": "ea46ce0c",
   "metadata": {},
   "source": [
    "# Создание агентов для игры \"Камень, ножницы, бумага\"\n",
    "Требуется создасть агентов для игры с разными стратегиями и провести с ними турнир на выявление лучшей стратегии.\n",
    "Правила турнира:\n",
    "* все играют один раз против всех одну партию\n",
    "* партия включает 10 игр по 10 ходов\n",
    "* итоги каждой игры суммируются по кол-ву баллов. Если по итогам игры один из игроков набирает большее кол-во баллов, то он выигрывает игру (won=1) и наоборот\n",
    "* победителем партии считается игрок, набравший большее кол-во побед по итогам 10 игр партии\n",
    "* победителем игры считается игрок, победивший в большем кол-ве партий\n"
   ]
  },
  {
   "cell_type": "code",
   "execution_count": 1,
   "id": "5b4d9cf9",
   "metadata": {},
   "outputs": [],
   "source": [
    "!pip install -q -U kaggle_environments"
   ]
  },
  {
   "cell_type": "code",
   "execution_count": 2,
   "id": "70370978",
   "metadata": {},
   "outputs": [],
   "source": [
    "import numpy as np\n",
    "import pandas as pd\n",
    "import random\n",
    "\n",
    "import matplotlib.pyplot as plt\n",
    "import seaborn as sns\n",
    "\n",
    "from kaggle_environments import make, evaluate"
   ]
  },
  {
   "cell_type": "markdown",
   "id": "b98095ea",
   "metadata": {},
   "source": [
    "Создадим агентов в виде функций. Краткое описание стратегии агентов в комментариях к каждому из них. "
   ]
  },
  {
   "cell_type": "code",
   "execution_count": 3,
   "id": "d3673710",
   "metadata": {},
   "outputs": [
    {
     "name": "stdout",
     "output_type": "stream",
     "text": [
      "Overwriting rock_agent.py\n"
     ]
    }
   ],
   "source": [
    "%%writefile rock_agent.py\n",
    "#выкидывает только камень\n",
    "def rock_agent(observation, configuration):\n",
    "    return 0     "
   ]
  },
  {
   "cell_type": "code",
   "execution_count": 4,
   "id": "1f21a572",
   "metadata": {},
   "outputs": [
    {
     "name": "stdout",
     "output_type": "stream",
     "text": [
      "Overwriting paper_agent.py\n"
     ]
    }
   ],
   "source": [
    "%%writefile paper_agent.py\n",
    "#выкидывает только бумагу\n",
    "def paper_agent(observation, configuration):\n",
    "    return 1 "
   ]
  },
  {
   "cell_type": "code",
   "execution_count": 5,
   "id": "093178fc",
   "metadata": {},
   "outputs": [
    {
     "name": "stdout",
     "output_type": "stream",
     "text": [
      "Overwriting scissors_agent.py\n"
     ]
    }
   ],
   "source": [
    "%%writefile scissors_agent.py\n",
    "#выкидывает только ножнцы\n",
    "def scissors_agent(observation, configuration):\n",
    "    return 2"
   ]
  },
  {
   "cell_type": "code",
   "execution_count": 6,
   "id": "9a442a7a",
   "metadata": {},
   "outputs": [
    {
     "name": "stdout",
     "output_type": "stream",
     "text": [
      "Overwriting random_agent.py\n"
     ]
    }
   ],
   "source": [
    "%%writefile random_agent.py\n",
    "#случайный выбор \n",
    "def random_agent(observation, configuration):\n",
    "    import random\n",
    "    return random.randint(0,2)"
   ]
  },
  {
   "cell_type": "code",
   "execution_count": 7,
   "id": "30eee45a",
   "metadata": {},
   "outputs": [
    {
     "name": "stdout",
     "output_type": "stream",
     "text": [
      "Overwriting random_agent2.py\n"
     ]
    }
   ],
   "source": [
    "%%writefile random_agent2.py\n",
    "# случайный выбор - другой подход к генерации через список и шафлл списка\n",
    "def random_agent2(observation, configuration):\n",
    "    import random\n",
    "    a = [i for i in range(0,8)]\n",
    "    random.shuffle(a)\n",
    "    x=int(a.pop())\n",
    "    return x%3"
   ]
  },
  {
   "cell_type": "code",
   "execution_count": 8,
   "id": "71a52437",
   "metadata": {},
   "outputs": [
    {
     "name": "stdout",
     "output_type": "stream",
     "text": [
      "Overwriting copycat_agent.py\n"
     ]
    }
   ],
   "source": [
    "%%writefile copycat_agent.py\n",
    "# повторяет предыдущий ход оппонента \n",
    "def copycat_agent(observation, configuration):\n",
    "    if observation.step>0:\n",
    "        return observation.lastOpponentAction\n",
    "    else:\n",
    "        import random\n",
    "        return random.randint(0,2)"
   ]
  },
  {
   "cell_type": "code",
   "execution_count": 9,
   "id": "20d8bd84",
   "metadata": {},
   "outputs": [
    {
     "name": "stdout",
     "output_type": "stream",
     "text": [
      "Overwriting opposite_agent.py\n"
     ]
    }
   ],
   "source": [
    "%%writefile opposite_agent.py\n",
    "# выкидывает противоположное значение предыдущему ходу оппонента\n",
    "def opposite_agent(observation, configuration):\n",
    "    if observation.step>0:\n",
    "        if observation.lastOpponentAction == 0:\n",
    "            return 1\n",
    "        elif observation.lastOpponentAction == 1:\n",
    "            return 2\n",
    "        else:\n",
    "            return 0\n",
    "        \n",
    "    else:\n",
    "        import random\n",
    "        return random.randint(0,2)"
   ]
  },
  {
   "cell_type": "code",
   "execution_count": 10,
   "id": "8a5b78ec",
   "metadata": {},
   "outputs": [
    {
     "name": "stdout",
     "output_type": "stream",
     "text": [
      "Overwriting fixed_pattern_agent.py\n"
     ]
    }
   ],
   "source": [
    "%%writefile fixed_pattern_agent.py\n",
    "# ходит по фиксированному шаблону: камень на кратные 3-м хода, ножницы на кратные 2, на остальные - бумага\n",
    "def fixed_pattern_agent(observation, configuration):\n",
    "    if observation.step == 0:\n",
    "        return 0\n",
    "    elif observation.step%3 == 0:\n",
    "        return 0\n",
    "    elif observation.step%2 == 0:\n",
    "        return 2\n",
    "    else:\n",
    "        return 1"
   ]
  },
  {
   "cell_type": "code",
   "execution_count": 11,
   "id": "432b020a",
   "metadata": {},
   "outputs": [
    {
     "name": "stdout",
     "output_type": "stream",
     "text": [
      "Overwriting rock_paper_agent.py\n"
     ]
    }
   ],
   "source": [
    "%%writefile rock_paper_agent.py\n",
    "#чередует камень и бумагу\n",
    "def rock_paper_agent(observation, configuration):\n",
    "    if observation.step == 0:\n",
    "        return 1\n",
    "    elif observation.step%2 == 0:\n",
    "        return 1\n",
    "    else:\n",
    "        return 0"
   ]
  },
  {
   "cell_type": "code",
   "execution_count": 12,
   "id": "75bcc45c",
   "metadata": {},
   "outputs": [
    {
     "name": "stdout",
     "output_type": "stream",
     "text": [
      "Overwriting rock_scissors_agent.py\n"
     ]
    }
   ],
   "source": [
    "%%writefile rock_scissors_agent.py\n",
    "#чередует камень и ножницы\n",
    "def rock_scissors_agent(observation, configuration):\n",
    "    if observation.step == 0:\n",
    "        return 2\n",
    "    elif observation.step%2 == 0:\n",
    "        return 2\n",
    "    else:\n",
    "        return 0"
   ]
  },
  {
   "cell_type": "code",
   "execution_count": 13,
   "id": "934c91b8",
   "metadata": {},
   "outputs": [
    {
     "name": "stdout",
     "output_type": "stream",
     "text": [
      "Overwriting paper_scissors_agent.py\n"
     ]
    }
   ],
   "source": [
    "%%writefile paper_scissors_agent.py\n",
    "#чередует ножницы и бумагу\n",
    "def paper_scissors_agent(observation, configuration):\n",
    "    if observation.step == 0:\n",
    "        return 2\n",
    "    elif observation.step%2 == 0:\n",
    "        return 2\n",
    "    else:\n",
    "        return 1"
   ]
  },
  {
   "cell_type": "code",
   "execution_count": 14,
   "id": "892de087",
   "metadata": {},
   "outputs": [
    {
     "name": "stdout",
     "output_type": "stream",
     "text": [
      "Overwriting copycat_fixed_pattern_agent.py\n"
     ]
    }
   ],
   "source": [
    "%%writefile copycat_fixed_pattern_agent.py\n",
    "#корирует послднее действие оппонента со сдвигом по фиксированному шаблону: кратные 2 ходы сдвиг на 1, кратные 3 - сдвиг на 2\n",
    "def copycat_fixed_pattern_agent(observation, configuration):\n",
    "    if observation.step == 0:\n",
    "        import random\n",
    "        return random.randint(0,2)\n",
    "    elif observation.step%3 == 0:\n",
    "        return (observation.lastOpponentAction + 2) % 3\n",
    "    elif observation.step%2 == 0:\n",
    "        return (observation.lastOpponentAction + 1) % 3\n",
    "    else:\n",
    "        return observation.lastOpponentAction"
   ]
  },
  {
   "cell_type": "code",
   "execution_count": 15,
   "id": "ec6f990a",
   "metadata": {},
   "outputs": [
    {
     "name": "stdout",
     "output_type": "stream",
     "text": [
      "Overwriting copycat_shift2.py\n"
     ]
    }
   ],
   "source": [
    "%%writefile copycat_shift2.py\n",
    "#копирует последнее действие оппонета со сдвигом на 2\n",
    "def copycat_shift2(observation, configuration):\n",
    "    if observation.step>0:\n",
    "        return (observation.lastOpponentAction + 2) % 3\n",
    "        \n",
    "    else:\n",
    "        import random\n",
    "        return random.randint(0,2)"
   ]
  },
  {
   "cell_type": "code",
   "execution_count": 16,
   "id": "3fb3ff40",
   "metadata": {},
   "outputs": [
    {
     "name": "stdout",
     "output_type": "stream",
     "text": [
      "Overwriting copycat_shift1.py\n"
     ]
    }
   ],
   "source": [
    "%%writefile copycat_shift1.py\n",
    "#копирует последнее действие оппонета со сдвигом на 1\n",
    "def copycat_shift1(observation, configuration):\n",
    "    if observation.step>0:\n",
    "        return (observation.lastOpponentAction + 1) % 3\n",
    "        \n",
    "    else:\n",
    "        import random\n",
    "        return random.randint(0,2)"
   ]
  },
  {
   "cell_type": "code",
   "execution_count": 17,
   "id": "cdae08b8",
   "metadata": {},
   "outputs": [],
   "source": [
    "#создадим список агентов для участия в турнире\n",
    "list_names = [\n",
    "    \"rock_agent\", \n",
    "    \"paper_agent\",\n",
    "    \"random_agent\",\n",
    "    \"copycat_agent\",\n",
    "    \"copycat_shift1\",\n",
    "    \"copycat_shift2\",\n",
    "    \"copycat_fixed_pattern_agent\",\n",
    "    \"paper_scissors_agent\",\n",
    "    \"rock_scissors_agent\",\n",
    "    \"rock_paper_agent\",\n",
    "    \"fixed_pattern_agent\",\n",
    "    \"opposite_agent\",\n",
    "    \"random_agent2\",\n",
    "    \"scissors_agent\",   \n",
    "\n",
    "]\n",
    "list_agents = [agent_name + \".py\" for agent_name in list_names]"
   ]
  },
  {
   "cell_type": "code",
   "execution_count": 18,
   "id": "bcdea3fc",
   "metadata": {},
   "outputs": [
    {
     "name": "stdout",
     "output_type": "stream",
     "text": [
      "Simulation of battles. Wait...\n",
      "Log: rock_agent vs paper_agent\n",
      "Log: rock_agent vs random_agent\n",
      "Log: rock_agent vs copycat_agent\n",
      "Log: rock_agent vs copycat_shift1\n",
      "Log: rock_agent vs copycat_shift2\n",
      "Log: rock_agent vs copycat_fixed_pattern_agent\n",
      "Log: rock_agent vs paper_scissors_agent\n",
      "Log: rock_agent vs rock_scissors_agent\n",
      "Log: rock_agent vs rock_paper_agent\n",
      "Log: rock_agent vs fixed_pattern_agent\n",
      "Log: rock_agent vs opposite_agent\n",
      "Log: rock_agent vs random_agent2\n",
      "Log: rock_agent vs scissors_agent\n",
      "Log: paper_agent vs random_agent\n",
      "Log: paper_agent vs copycat_agent\n",
      "Log: paper_agent vs copycat_shift1\n",
      "Log: paper_agent vs copycat_shift2\n",
      "Log: paper_agent vs copycat_fixed_pattern_agent\n",
      "Log: paper_agent vs paper_scissors_agent\n",
      "Log: paper_agent vs rock_scissors_agent\n",
      "Log: paper_agent vs rock_paper_agent\n",
      "Log: paper_agent vs fixed_pattern_agent\n",
      "Log: paper_agent vs opposite_agent\n",
      "Log: paper_agent vs random_agent2\n",
      "Log: paper_agent vs scissors_agent\n",
      "Log: random_agent vs copycat_agent\n",
      "Log: random_agent vs copycat_shift1\n",
      "Log: random_agent vs copycat_shift2\n",
      "Log: random_agent vs copycat_fixed_pattern_agent\n",
      "Log: random_agent vs paper_scissors_agent\n",
      "Log: random_agent vs rock_scissors_agent\n",
      "Log: random_agent vs rock_paper_agent\n",
      "Log: random_agent vs fixed_pattern_agent\n",
      "Log: random_agent vs opposite_agent\n",
      "Log: random_agent vs random_agent2\n",
      "Log: random_agent vs scissors_agent\n",
      "Log: copycat_agent vs copycat_shift1\n",
      "Log: copycat_agent vs copycat_shift2\n",
      "Log: copycat_agent vs copycat_fixed_pattern_agent\n",
      "Log: copycat_agent vs paper_scissors_agent\n",
      "Log: copycat_agent vs rock_scissors_agent\n",
      "Log: copycat_agent vs rock_paper_agent\n",
      "Log: copycat_agent vs fixed_pattern_agent\n",
      "Log: copycat_agent vs opposite_agent\n",
      "Log: copycat_agent vs random_agent2\n",
      "Log: copycat_agent vs scissors_agent\n",
      "Log: copycat_shift1 vs copycat_shift2\n",
      "Log: copycat_shift1 vs copycat_fixed_pattern_agent\n",
      "Log: copycat_shift1 vs paper_scissors_agent\n",
      "Log: copycat_shift1 vs rock_scissors_agent\n",
      "Log: copycat_shift1 vs rock_paper_agent\n",
      "Log: copycat_shift1 vs fixed_pattern_agent\n",
      "Log: copycat_shift1 vs opposite_agent\n",
      "Log: copycat_shift1 vs random_agent2\n",
      "Log: copycat_shift1 vs scissors_agent\n",
      "Log: copycat_shift2 vs copycat_fixed_pattern_agent\n",
      "Log: copycat_shift2 vs paper_scissors_agent\n",
      "Log: copycat_shift2 vs rock_scissors_agent\n",
      "Log: copycat_shift2 vs rock_paper_agent\n",
      "Log: copycat_shift2 vs fixed_pattern_agent\n",
      "Log: copycat_shift2 vs opposite_agent\n",
      "Log: copycat_shift2 vs random_agent2\n",
      "Log: copycat_shift2 vs scissors_agent\n",
      "Log: copycat_fixed_pattern_agent vs paper_scissors_agent\n",
      "Log: copycat_fixed_pattern_agent vs rock_scissors_agent\n",
      "Log: copycat_fixed_pattern_agent vs rock_paper_agent\n",
      "Log: copycat_fixed_pattern_agent vs fixed_pattern_agent\n",
      "Log: copycat_fixed_pattern_agent vs opposite_agent\n",
      "Log: copycat_fixed_pattern_agent vs random_agent2\n",
      "Log: copycat_fixed_pattern_agent vs scissors_agent\n",
      "Log: paper_scissors_agent vs rock_scissors_agent\n",
      "Log: paper_scissors_agent vs rock_paper_agent\n",
      "Log: paper_scissors_agent vs fixed_pattern_agent\n",
      "Log: paper_scissors_agent vs opposite_agent\n",
      "Log: paper_scissors_agent vs random_agent2\n",
      "Log: paper_scissors_agent vs scissors_agent\n",
      "Log: rock_scissors_agent vs rock_paper_agent\n",
      "Log: rock_scissors_agent vs fixed_pattern_agent\n",
      "Log: rock_scissors_agent vs opposite_agent\n",
      "Log: rock_scissors_agent vs random_agent2\n",
      "Log: rock_scissors_agent vs scissors_agent\n",
      "Log: rock_paper_agent vs fixed_pattern_agent\n",
      "Log: rock_paper_agent vs opposite_agent\n",
      "Log: rock_paper_agent vs random_agent2\n",
      "Log: rock_paper_agent vs scissors_agent\n",
      "Log: fixed_pattern_agent vs opposite_agent\n",
      "Log: fixed_pattern_agent vs random_agent2\n",
      "Log: fixed_pattern_agent vs scissors_agent\n",
      "Log: opposite_agent vs random_agent2\n",
      "Log: opposite_agent vs scissors_agent\n",
      "Log: random_agent2 vs scissors_agent\n"
     ]
    }
   ],
   "source": [
    "# турнир по принципу играют все против всех по 10 партий в 10 шагов. За выигрыш в партии - 1 очко\n",
    "env = make(\"rps\", configuration = {'episodeSteps':10})\n",
    "print(\"Simulation of battles. Wait...\")\n",
    "total_score={}\n",
    "battle_results={}\n",
    "for ind_agent_1 in range(0,len(list_names)):\n",
    "    for ind_agent_2 in range(ind_agent_1+1, len(list_names)):\n",
    "        print(f\"Log: {list_names[ind_agent_1]} vs {list_names[ind_agent_2]}\")\n",
    "        \n",
    "      \n",
    "        current_score = evaluate(\n",
    "            \"rps\", \n",
    "            [list_agents[ind_agent_1] , list_agents[ind_agent_2]], \n",
    "            num_episodes=10\n",
    "        )\n",
    "        agents=str(list_names[ind_agent_1] +' '+'vs'+' '+ list_names[ind_agent_2])\n",
    "        won = 0\n",
    "        lost = 0\n",
    "        tie = 0\n",
    "        for i in current_score:\n",
    "            score = i[0]\n",
    "            if score > 0:\n",
    "                won += 1 \n",
    "            elif score < 0:\n",
    "                lost += 1\n",
    "            else: \n",
    "                tie += 1 \n",
    "        battle_results[agents]={}\n",
    "        battle_results[agents]['won'] = won\n",
    "        battle_results[agents]['lost'] = lost\n",
    "        battle_results[agents]['tie'] = tie\n",
    "   \n",
    "        \n",
    "        if won > lost:\n",
    "            if list_agents[ind_agent_1] in total_score:\n",
    "                total_score[list_agents[ind_agent_1]]+=1\n",
    "            if list_agents[ind_agent_1] not in total_score:\n",
    "                total_score[list_agents[ind_agent_1]]=total_score.get(list_agents[ind_agent_1],0)+1\n",
    "        if won < lost:\n",
    "            if list_agents[ind_agent_2] in total_score:\n",
    "                total_score[list_agents[ind_agent_2]]+=1\n",
    "            if list_agents[ind_agent_2] not in total_score:\n",
    "                total_score[list_agents[ind_agent_2]]=total_score.get(list_agents[ind_agent_2],0)+1       "
   ]
  },
  {
   "cell_type": "code",
   "execution_count": 19,
   "id": "1f2ebe2e",
   "metadata": {},
   "outputs": [
    {
     "name": "stdout",
     "output_type": "stream",
     "text": [
      "Подсчет итогов [('random_agent2.py', 8), ('paper_scissors_agent.py', 7), ('copycat_shift1.py', 6), ('rock_scissors_agent.py', 6), ('copycat_shift2.py', 6), ('paper_agent.py', 5), ('opposite_agent.py', 5), ('fixed_pattern_agent.py', 5), ('random_agent.py', 4), ('rock_agent.py', 3), ('rock_paper_agent.py', 3), ('scissors_agent.py', 3), ('copycat_fixed_pattern_agent.py', 3), ('copycat_agent.py', 1)]\n"
     ]
    }
   ],
   "source": [
    "sorted_total_score = sorted(total_score.items(), key=lambda item: item[1], reverse=True)\n",
    "\n",
    "print('Подсчет итогов', sorted_total_score)"
   ]
  },
  {
   "cell_type": "markdown",
   "id": "bad23169",
   "metadata": {},
   "source": [
    "Агент(ы), набравшие большее кол-во баллов, являются лучшими по итогам турнира"
   ]
  },
  {
   "cell_type": "code",
   "execution_count": 20,
   "id": "d63d3913",
   "metadata": {},
   "outputs": [
    {
     "name": "stdout",
     "output_type": "stream",
     "text": [
      "Результаты турнира {'rock_agent vs paper_agent': {'won': 0, 'lost': 10, 'tie': 0}, 'rock_agent vs random_agent': {'won': 3, 'lost': 3, 'tie': 4}, 'rock_agent vs copycat_agent': {'won': 0, 'lost': 0, 'tie': 10}, 'rock_agent vs copycat_shift1': {'won': 0, 'lost': 10, 'tie': 0}, 'rock_agent vs copycat_shift2': {'won': 10, 'lost': 0, 'tie': 0}, 'rock_agent vs copycat_fixed_pattern_agent': {'won': 0, 'lost': 0, 'tie': 10}, 'rock_agent vs paper_scissors_agent': {'won': 0, 'lost': 0, 'tie': 10}, 'rock_agent vs rock_scissors_agent': {'won': 10, 'lost': 0, 'tie': 0}, 'rock_agent vs rock_paper_agent': {'won': 0, 'lost': 10, 'tie': 0}, 'rock_agent vs fixed_pattern_agent': {'won': 0, 'lost': 0, 'tie': 10}, 'rock_agent vs opposite_agent': {'won': 0, 'lost': 10, 'tie': 0}, 'rock_agent vs random_agent2': {'won': 0, 'lost': 10, 'tie': 0}, 'rock_agent vs scissors_agent': {'won': 10, 'lost': 0, 'tie': 0}, 'paper_agent vs random_agent': {'won': 3, 'lost': 2, 'tie': 5}, 'paper_agent vs copycat_agent': {'won': 0, 'lost': 0, 'tie': 10}, 'paper_agent vs copycat_shift1': {'won': 0, 'lost': 10, 'tie': 0}, 'paper_agent vs copycat_shift2': {'won': 10, 'lost': 0, 'tie': 0}, 'paper_agent vs copycat_fixed_pattern_agent': {'won': 0, 'lost': 0, 'tie': 10}, 'paper_agent vs paper_scissors_agent': {'won': 0, 'lost': 10, 'tie': 0}, 'paper_agent vs rock_scissors_agent': {'won': 0, 'lost': 0, 'tie': 10}, 'paper_agent vs rock_paper_agent': {'won': 10, 'lost': 0, 'tie': 0}, 'paper_agent vs fixed_pattern_agent': {'won': 0, 'lost': 0, 'tie': 10}, 'paper_agent vs opposite_agent': {'won': 0, 'lost': 10, 'tie': 0}, 'paper_agent vs random_agent2': {'won': 10, 'lost': 0, 'tie': 0}, 'paper_agent vs scissors_agent': {'won': 0, 'lost': 10, 'tie': 0}, 'random_agent vs copycat_agent': {'won': 2, 'lost': 1, 'tie': 7}, 'random_agent vs copycat_shift1': {'won': 0, 'lost': 3, 'tie': 7}, 'random_agent vs copycat_shift2': {'won': 4, 'lost': 2, 'tie': 4}, 'random_agent vs copycat_fixed_pattern_agent': {'won': 0, 'lost': 1, 'tie': 9}, 'random_agent vs paper_scissors_agent': {'won': 1, 'lost': 2, 'tie': 7}, 'random_agent vs rock_scissors_agent': {'won': 1, 'lost': 4, 'tie': 5}, 'random_agent vs rock_paper_agent': {'won': 4, 'lost': 0, 'tie': 6}, 'random_agent vs fixed_pattern_agent': {'won': 1, 'lost': 3, 'tie': 6}, 'random_agent vs opposite_agent': {'won': 1, 'lost': 2, 'tie': 7}, 'random_agent vs random_agent2': {'won': 0, 'lost': 1, 'tie': 9}, 'random_agent vs scissors_agent': {'won': 4, 'lost': 2, 'tie': 4}, 'copycat_agent vs copycat_shift1': {'won': 4, 'lost': 6, 'tie': 0}, 'copycat_agent vs copycat_shift2': {'won': 6, 'lost': 4, 'tie': 0}, 'copycat_agent vs copycat_fixed_pattern_agent': {'won': 0, 'lost': 0, 'tie': 10}, 'copycat_agent vs paper_scissors_agent': {'won': 0, 'lost': 0, 'tie': 10}, 'copycat_agent vs rock_scissors_agent': {'won': 0, 'lost': 0, 'tie': 10}, 'copycat_agent vs rock_paper_agent': {'won': 0, 'lost': 0, 'tie': 10}, 'copycat_agent vs fixed_pattern_agent': {'won': 0, 'lost': 0, 'tie': 10}, 'copycat_agent vs opposite_agent': {'won': 5, 'lost': 5, 'tie': 0}, 'copycat_agent vs random_agent2': {'won': 2, 'lost': 2, 'tie': 6}, 'copycat_agent vs scissors_agent': {'won': 0, 'lost': 0, 'tie': 10}, 'copycat_shift1 vs copycat_shift2': {'won': 3, 'lost': 7, 'tie': 0}, 'copycat_shift1 vs copycat_fixed_pattern_agent': {'won': 0, 'lost': 0, 'tie': 10}, 'copycat_shift1 vs paper_scissors_agent': {'won': 0, 'lost': 10, 'tie': 0}, 'copycat_shift1 vs rock_scissors_agent': {'won': 0, 'lost': 10, 'tie': 0}, 'copycat_shift1 vs rock_paper_agent': {'won': 0, 'lost': 10, 'tie': 0}, 'copycat_shift1 vs fixed_pattern_agent': {'won': 0, 'lost': 10, 'tie': 0}, 'copycat_shift1 vs opposite_agent': {'won': 0, 'lost': 0, 'tie': 10}, 'copycat_shift1 vs random_agent2': {'won': 6, 'lost': 0, 'tie': 4}, 'copycat_shift1 vs scissors_agent': {'won': 10, 'lost': 0, 'tie': 0}, 'copycat_shift2 vs copycat_fixed_pattern_agent': {'won': 0, 'lost': 0, 'tie': 10}, 'copycat_shift2 vs paper_scissors_agent': {'won': 10, 'lost': 0, 'tie': 0}, 'copycat_shift2 vs rock_scissors_agent': {'won': 10, 'lost': 0, 'tie': 0}, 'copycat_shift2 vs rock_paper_agent': {'won': 10, 'lost': 0, 'tie': 0}, 'copycat_shift2 vs fixed_pattern_agent': {'won': 10, 'lost': 0, 'tie': 0}, 'copycat_shift2 vs opposite_agent': {'won': 7, 'lost': 3, 'tie': 0}, 'copycat_shift2 vs random_agent2': {'won': 2, 'lost': 6, 'tie': 2}, 'copycat_shift2 vs scissors_agent': {'won': 0, 'lost': 10, 'tie': 0}, 'copycat_fixed_pattern_agent vs paper_scissors_agent': {'won': 10, 'lost': 0, 'tie': 0}, 'copycat_fixed_pattern_agent vs rock_scissors_agent': {'won': 0, 'lost': 10, 'tie': 0}, 'copycat_fixed_pattern_agent vs rock_paper_agent': {'won': 10, 'lost': 0, 'tie': 0}, 'copycat_fixed_pattern_agent vs fixed_pattern_agent': {'won': 0, 'lost': 0, 'tie': 10}, 'copycat_fixed_pattern_agent vs opposite_agent': {'won': 0, 'lost': 0, 'tie': 10}, 'copycat_fixed_pattern_agent vs random_agent2': {'won': 1, 'lost': 2, 'tie': 7}, 'copycat_fixed_pattern_agent vs scissors_agent': {'won': 0, 'lost': 0, 'tie': 10}, 'paper_scissors_agent vs rock_scissors_agent': {'won': 10, 'lost': 0, 'tie': 0}, 'paper_scissors_agent vs rock_paper_agent': {'won': 10, 'lost': 0, 'tie': 0}, 'paper_scissors_agent vs fixed_pattern_agent': {'won': 0, 'lost': 0, 'tie': 10}, 'paper_scissors_agent vs opposite_agent': {'won': 10, 'lost': 0, 'tie': 0}, 'paper_scissors_agent vs random_agent2': {'won': 8, 'lost': 0, 'tie': 2}, 'paper_scissors_agent vs scissors_agent': {'won': 0, 'lost': 10, 'tie': 0}, 'rock_scissors_agent vs rock_paper_agent': {'won': 10, 'lost': 0, 'tie': 0}, 'rock_scissors_agent vs fixed_pattern_agent': {'won': 0, 'lost': 10, 'tie': 0}, 'rock_scissors_agent vs opposite_agent': {'won': 10, 'lost': 0, 'tie': 0}, 'rock_scissors_agent vs random_agent2': {'won': 0, 'lost': 10, 'tie': 0}, 'rock_scissors_agent vs scissors_agent': {'won': 10, 'lost': 0, 'tie': 0}, 'rock_paper_agent vs fixed_pattern_agent': {'won': 0, 'lost': 10, 'tie': 0}, 'rock_paper_agent vs opposite_agent': {'won': 10, 'lost': 0, 'tie': 0}, 'rock_paper_agent vs random_agent2': {'won': 1, 'lost': 3, 'tie': 6}, 'rock_paper_agent vs scissors_agent': {'won': 0, 'lost': 0, 'tie': 10}, 'fixed_pattern_agent vs opposite_agent': {'won': 10, 'lost': 0, 'tie': 0}, 'fixed_pattern_agent vs random_agent2': {'won': 1, 'lost': 2, 'tie': 7}, 'fixed_pattern_agent vs scissors_agent': {'won': 0, 'lost': 0, 'tie': 10}, 'opposite_agent vs random_agent2': {'won': 3, 'lost': 0, 'tie': 7}, 'opposite_agent vs scissors_agent': {'won': 10, 'lost': 0, 'tie': 0}, 'random_agent2 vs scissors_agent': {'won': 2, 'lost': 1, 'tie': 7}}\n"
     ]
    }
   ],
   "source": [
    "#справочно - вывод результатов партий\n",
    "print('Результаты турнира',battle_results)"
   ]
  }
 ],
 "metadata": {
  "kernelspec": {
   "display_name": "Python 3",
   "language": "python",
   "name": "python3"
  },
  "language_info": {
   "codemirror_mode": {
    "name": "ipython",
    "version": 3
   },
   "file_extension": ".py",
   "mimetype": "text/x-python",
   "name": "python",
   "nbconvert_exporter": "python",
   "pygments_lexer": "ipython3",
   "version": "3.8.8"
  }
 },
 "nbformat": 4,
 "nbformat_minor": 5
}
