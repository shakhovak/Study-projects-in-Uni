{
 "cells": [
  {
   "cell_type": "markdown",
   "id": "0ab25494",
   "metadata": {},
   "source": [
    "# Домашнее задание NLP 5\n",
    "И пусть твой бот заговорит!\n",
    "\n",
    "**Цель:**\n",
    "В этом ДЗ вы создадите телеграм-бота.\n",
    "\n",
    "<hr>\n",
    "\n",
    "Описание/Пошаговая инструкция выполнения домашнего задания:\n",
    "1. Возьмите ОДНО задачи с бенчмарка Russian SuperGLUE (https://russiansuperglue.com/tasks/). Зафайнтьюньте для него модель c сайта huggingface (например, модель RuBERT)\n",
    "\n",
    "2. Сделайте самбит на Leaderboard https://russiansuperglue.com/leaderboard/2 для оценки качества (в ноутбуке прикрепите скрин сабмита с результатами)\n",
    "3. Создайте телеграм-бота, в котором будет поднята эта модель. Бот должен вначале писать вводное сообщение с описанием задачи, обрабатывать запрос пользоваля и выводить ответ для заданного пользователем примера. Замечание: пользователь должен писать боту запрос с примером из соотвествующего задания RussianSuperGLUE. под которого зафайнтьюнена модель. Возможны разные варианты реализации: пользователь пишет пример со всеми полями в одном сообщении или в нескольких. Конкретная реализация за вами. Замечание: для проверки можете отправить код с телеграм-ботом и приложить скрины с примерами его работы (в случае если нет возможности поддерживать его в поднятом состоянии)\n",
    "\n",
    "<hr>\n",
    "\n",
    "**Критерии оценки:**\n",
    "<li> Обучена языковая модель за задачах бенчмарка - 4 балла\n",
    "<li> Успешный сабмит на leaderboard - 2 балла\n",
    "<li> Обученная модель встроена в телеграм-бота - 4 балла"
   ]
  },
  {
   "cell_type": "markdown",
   "id": "e48d1cca",
   "metadata": {},
   "source": [
    "# 1. Дообучаем ruBert на задачу TERRa из SuperGlue\n",
    "\n",
    "Датасет есть на huggingface, выгрузим его и немного посмотрим"
   ]
  },
  {
   "cell_type": "code",
   "execution_count": 1,
   "id": "94a4013e",
   "metadata": {},
   "outputs": [
    {
     "name": "stderr",
     "output_type": "stream",
     "text": [
      "Found cached dataset russian_super_glue (C:/Users/Kate/.cache/huggingface/datasets/RussianNLP___russian_super_glue/terra/0.0.1/d4a95758759a48b32e7a94a8ac7c67046c9111ef4724d7b6a34993cf57eb6048)\n"
     ]
    },
    {
     "data": {
      "application/vnd.jupyter.widget-view+json": {
       "model_id": "d77cec7c1c4f4d2ba3d04cc0254698ec",
       "version_major": 2,
       "version_minor": 0
      },
      "text/plain": [
       "  0%|          | 0/3 [00:00<?, ?it/s]"
      ]
     },
     "metadata": {},
     "output_type": "display_data"
    }
   ],
   "source": [
    "import pandas as pd\n",
    "import numpy as np\n",
    "import warnings\n",
    "warnings.filterwarnings(\"ignore\")\n",
    "\n",
    "import torch\n",
    "from transformers import BertTokenizer\n",
    "import evaluate\n",
    "from transformers import EvalPrediction\n",
    "\n",
    "from datasets import load_dataset\n",
    "\n",
    "dataset = load_dataset(\"RussianNLP/russian_super_glue\", 'terra')"
   ]
  },
  {
   "cell_type": "code",
   "execution_count": 2,
   "id": "3712d11b",
   "metadata": {},
   "outputs": [
    {
     "data": {
      "text/plain": [
       "DatasetDict({\n",
       "    train: Dataset({\n",
       "        features: ['premise', 'hypothesis', 'idx', 'label'],\n",
       "        num_rows: 2616\n",
       "    })\n",
       "    validation: Dataset({\n",
       "        features: ['premise', 'hypothesis', 'idx', 'label'],\n",
       "        num_rows: 307\n",
       "    })\n",
       "    test: Dataset({\n",
       "        features: ['premise', 'hypothesis', 'idx', 'label'],\n",
       "        num_rows: 3198\n",
       "    })\n",
       "})"
      ]
     },
     "execution_count": 2,
     "metadata": {},
     "output_type": "execute_result"
    }
   ],
   "source": [
    "dataset"
   ]
  },
  {
   "cell_type": "code",
   "execution_count": 3,
   "id": "6f74a50e",
   "metadata": {},
   "outputs": [
    {
     "data": {
      "text/plain": [
       "{'premise': 'Музей, расположенный в Королевских воротах, меняет экспозицию. На смену выставке, рассказывающей об истории ворот и их реставрации, придет «Аптека трех королей». Как рассказали в музее, посетители попадут в традиционный интерьер аптеки.',\n",
       " 'hypothesis': 'Музей закроется навсегда.',\n",
       " 'idx': 10,\n",
       " 'label': 1}"
      ]
     },
     "execution_count": 3,
     "metadata": {},
     "output_type": "execute_result"
    }
   ],
   "source": [
    "dataset['train'][10]"
   ]
  },
  {
   "cell_type": "markdown",
   "id": "6c66ddf3",
   "metadata": {},
   "source": [
    "Токенизируем данные: будем использовать только основной текст = 'premise' и вывод из него = 'hypothesis'. Не буду использовать padding на этой стадии, выберу DataCollatorWithPadding для выравнивания длины текстов.\n",
    "\n",
    "Из текста удалим лищние столбцы и переименуем столбец с меткой, так как требует использование Trainer"
   ]
  },
  {
   "cell_type": "code",
   "execution_count": 4,
   "id": "f9defd1b",
   "metadata": {},
   "outputs": [
    {
     "name": "stderr",
     "output_type": "stream",
     "text": [
      "Loading cached processed dataset at C:\\Users\\Kate\\.cache\\huggingface\\datasets\\RussianNLP___russian_super_glue\\terra\\0.0.1\\d4a95758759a48b32e7a94a8ac7c67046c9111ef4724d7b6a34993cf57eb6048\\cache-73426d8334eb9a7e.arrow\n",
      "Loading cached processed dataset at C:\\Users\\Kate\\.cache\\huggingface\\datasets\\RussianNLP___russian_super_glue\\terra\\0.0.1\\d4a95758759a48b32e7a94a8ac7c67046c9111ef4724d7b6a34993cf57eb6048\\cache-18d08606d892271a.arrow\n",
      "Loading cached processed dataset at C:\\Users\\Kate\\.cache\\huggingface\\datasets\\RussianNLP___russian_super_glue\\terra\\0.0.1\\d4a95758759a48b32e7a94a8ac7c67046c9111ef4724d7b6a34993cf57eb6048\\cache-90ee791c2c7ef912.arrow\n"
     ]
    },
    {
     "data": {
      "text/plain": [
       "['labels', 'input_ids', 'token_type_ids', 'attention_mask']"
      ]
     },
     "execution_count": 4,
     "metadata": {},
     "output_type": "execute_result"
    }
   ],
   "source": [
    "from transformers import DataCollatorWithPadding\n",
    "\n",
    "def preprocess_data(examples):\n",
    "     \n",
    "    encoding = tokenizer(examples['premise'], examples['hypothesis'])\n",
    "    return encoding\n",
    "\n",
    "tokenizer = BertTokenizer.from_pretrained(\"ai-forever/ruBert-base\")\n",
    "\n",
    "encoded_dataset = dataset.map(preprocess_data, batched = True)\n",
    "data_collator = DataCollatorWithPadding(tokenizer=tokenizer, padding = True)\n",
    "\n",
    "encoded_dataset = encoded_dataset.remove_columns(['premise', 'hypothesis', 'idx'])\n",
    "encoded_dataset = encoded_dataset.rename_column(\"label\", \"labels\")\n",
    "encoded_dataset.set_format(\"torch\")\n",
    "encoded_dataset[\"train\"].column_names"
   ]
  },
  {
   "cell_type": "markdown",
   "id": "b2142434",
   "metadata": {},
   "source": [
    "Добавим метрbre accuracy, так как TERRa ее также использует"
   ]
  },
  {
   "cell_type": "code",
   "execution_count": 5,
   "id": "efe3df5a",
   "metadata": {},
   "outputs": [],
   "source": [
    "ACCURACY = evaluate.load(\"accuracy\")\n",
    "\n",
    "def compute_metrics(p: EvalPrediction):\n",
    "    preds = p.predictions\n",
    "    preds = np.argmax(preds, axis=1)\n",
    "\n",
    "    acc_result = ACCURACY.compute(predictions=preds, references=p.label_ids)\n",
    "    result = {\"accuracy\": acc_result[\"accuracy\"]}\n",
    "\n",
    "    return result"
   ]
  },
  {
   "cell_type": "markdown",
   "id": "c7b40282",
   "metadata": {},
   "source": [
    "Запустим обучение и сохраним лучшую модель по accuracy. Эту модель используем для генерации предсказаний в тестовом датасете."
   ]
  },
  {
   "cell_type": "code",
   "execution_count": 6,
   "id": "2e06bd5a",
   "metadata": {},
   "outputs": [
    {
     "name": "stderr",
     "output_type": "stream",
     "text": [
      "Some weights of the model checkpoint at ai-forever/ruBert-base were not used when initializing BertForSequenceClassification: ['cls.predictions.decoder.weight', 'cls.predictions.transform.dense.bias', 'cls.seq_relationship.weight', 'cls.predictions.decoder.bias', 'cls.predictions.transform.dense.weight', 'cls.seq_relationship.bias', 'cls.predictions.bias', 'cls.predictions.transform.LayerNorm.weight', 'cls.predictions.transform.LayerNorm.bias']\n",
      "- This IS expected if you are initializing BertForSequenceClassification from the checkpoint of a model trained on another task or with another architecture (e.g. initializing a BertForSequenceClassification model from a BertForPreTraining model).\n",
      "- This IS NOT expected if you are initializing BertForSequenceClassification from the checkpoint of a model that you expect to be exactly identical (initializing a BertForSequenceClassification model from a BertForSequenceClassification model).\n",
      "Some weights of BertForSequenceClassification were not initialized from the model checkpoint at ai-forever/ruBert-base and are newly initialized: ['classifier.weight', 'classifier.bias']\n",
      "You should probably TRAIN this model on a down-stream task to be able to use it for predictions and inference.\n"
     ]
    },
    {
     "data": {
      "text/html": [
       "\n",
       "    <div>\n",
       "      \n",
       "      <progress value='492' max='492' style='width:300px; height:20px; vertical-align: middle;'></progress>\n",
       "      [492/492 01:39, Epoch 3/3]\n",
       "    </div>\n",
       "    <table border=\"1\" class=\"dataframe\">\n",
       "  <thead>\n",
       " <tr style=\"text-align: left;\">\n",
       "      <th>Epoch</th>\n",
       "      <th>Training Loss</th>\n",
       "      <th>Validation Loss</th>\n",
       "      <th>Accuracy</th>\n",
       "    </tr>\n",
       "  </thead>\n",
       "  <tbody>\n",
       "    <tr>\n",
       "      <td>1</td>\n",
       "      <td>No log</td>\n",
       "      <td>0.611769</td>\n",
       "      <td>0.684039</td>\n",
       "    </tr>\n",
       "    <tr>\n",
       "      <td>2</td>\n",
       "      <td>No log</td>\n",
       "      <td>0.555910</td>\n",
       "      <td>0.726384</td>\n",
       "    </tr>\n",
       "    <tr>\n",
       "      <td>3</td>\n",
       "      <td>No log</td>\n",
       "      <td>0.646644</td>\n",
       "      <td>0.729642</td>\n",
       "    </tr>\n",
       "  </tbody>\n",
       "</table><p>"
      ],
      "text/plain": [
       "<IPython.core.display.HTML object>"
      ]
     },
     "metadata": {},
     "output_type": "display_data"
    },
    {
     "data": {
      "text/html": [],
      "text/plain": [
       "<IPython.core.display.HTML object>"
      ]
     },
     "metadata": {},
     "output_type": "display_data"
    }
   ],
   "source": [
    "from transformers import BertForSequenceClassification, Trainer, TrainingArguments\n",
    "\n",
    "model = BertForSequenceClassification.from_pretrained('ai-forever/ruBert-base', num_labels = 2)\n",
    "\n",
    "training_args = TrainingArguments(\n",
    "\n",
    "    evaluation_strategy = 'epoch',  \n",
    "    learning_rate = 2e-05,\n",
    "    num_train_epochs=3,              \n",
    "    per_device_train_batch_size=16,  \n",
    "    per_device_eval_batch_size=16,              \n",
    "    weight_decay=0.1,               \n",
    "    optim=\"adamw_torch\",\n",
    "    push_to_hub = False,  \n",
    "    output_dir = \"TERRa_model\",\n",
    "    load_best_model_at_end=True,\n",
    "    metric_for_best_model=\"accuracy\",\n",
    "    save_strategy=\"epoch\",\n",
    "    \n",
    "    \n",
    "\n",
    ")\n",
    "\n",
    "trainer = Trainer(\n",
    "    model=model,                         \n",
    "    args=training_args,                  \n",
    "    train_dataset=encoded_dataset['train'],         \n",
    "    eval_dataset=encoded_dataset['validation'],\n",
    "    data_collator = data_collator,\n",
    "    tokenizer = tokenizer,\n",
    "    compute_metrics=compute_metrics\n",
    ")\n",
    "\n",
    "\n",
    "trainer.train()\n",
    "\n",
    "test_dataset = encoded_dataset['test'].remove_columns(['labels'])\n",
    "predictions = trainer.predict(test_dataset=test_dataset)"
   ]
  },
  {
   "cell_type": "code",
   "execution_count": 7,
   "id": "9449600a",
   "metadata": {},
   "outputs": [],
   "source": [
    "preds = []\n",
    "for item in predictions.predictions:\n",
    "    preds.append(np.argmax(item))"
   ]
  },
  {
   "cell_type": "code",
   "execution_count": 8,
   "id": "6329556d",
   "metadata": {},
   "outputs": [
    {
     "data": {
      "text/plain": [
       "[{'idx': 0, 'label': 'entailment'},\n",
       " {'idx': 1, 'label': 'not_entailment'},\n",
       " {'idx': 2, 'label': 'entailment'},\n",
       " {'idx': 3, 'label': 'not_entailment'},\n",
       " {'idx': 4, 'label': 'not_entailment'},\n",
       " {'idx': 5, 'label': 'entailment'},\n",
       " {'idx': 6, 'label': 'entailment'},\n",
       " {'idx': 7, 'label': 'entailment'},\n",
       " {'idx': 8, 'label': 'entailment'},\n",
       " {'idx': 9, 'label': 'entailment'}]"
      ]
     },
     "execution_count": 8,
     "metadata": {},
     "output_type": "execute_result"
    }
   ],
   "source": [
    "fin = []\n",
    "for ind, prediction in enumerate(preds):\n",
    "    res = {}\n",
    "    res['idx'] = ind\n",
    "    if prediction == 0:\n",
    "        res['label'] = \"entailment\"\n",
    "    else:\n",
    "        res['label'] = \"not_entailment\"\n",
    "    fin.append(res)\n",
    "fin[0:10]  "
   ]
  },
  {
   "cell_type": "code",
   "execution_count": 9,
   "id": "3b62145b",
   "metadata": {},
   "outputs": [],
   "source": [
    "import json\n",
    "with open('TERRa.jsonl', 'w') as jsonl_output:\n",
    "    for entry in fin:\n",
    "        json.dump(entry, jsonl_output)\n",
    "        jsonl_output.write('\\n')"
   ]
  }
 ],
 "metadata": {
  "kernelspec": {
   "display_name": "Python 3 (ipykernel)",
   "language": "python",
   "name": "python3"
  },
  "language_info": {
   "codemirror_mode": {
    "name": "ipython",
    "version": 3
   },
   "file_extension": ".py",
   "mimetype": "text/x-python",
   "name": "python",
   "nbconvert_exporter": "python",
   "pygments_lexer": "ipython3",
   "version": "3.9.13"
  }
 },
 "nbformat": 4,
 "nbformat_minor": 5
}
