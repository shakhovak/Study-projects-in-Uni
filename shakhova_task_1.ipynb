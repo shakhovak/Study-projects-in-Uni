{
  "cells": [
    {
      "cell_type": "markdown",
      "metadata": {
        "id": "view-in-github",
        "colab_type": "text"
      },
      "source": [
        "<a href=\"https://colab.research.google.com/github/shakhovak/Study-projects-in-Uni/blob/main/shakhova_task_1.ipynb\" target=\"_parent\"><img src=\"https://colab.research.google.com/assets/colab-badge.svg\" alt=\"Open In Colab\"/></a>"
      ]
    },
    {
      "cell_type": "markdown",
      "id": "a79261fc",
      "metadata": {
        "id": "a79261fc"
      },
      "source": [
        "# ДЗ 1 Нахождение похожих товаров в интернет-магазинах по их описанию.\n",
        "\n",
        "**ПРИМЕРНЫЙ ПЛАН ВЫПОЛНЕНИЯ ПРОЕКТА:**\n",
        "\n",
        "- Представьте массив текстов в виде векторов (как с помощью TF-IDF, так и с помощью Word2Vec).\n",
        "- Выберите расстояние, с помощью которого вы будете оценивать близость векторов, представляющих тексты (рекомендуется использовать косинусное расстояние, но вы можете попробовать и другие подходы).Для полученных векторов попарно найдите косинусное расстояние (попробуйте сделать это без цикла, с помощью матричных операций).\n",
        "- Задайте какой-то порог значимости (с которым вы сравните значения расстояния между векторами), на основе которого вы будете судить о том, похожи два текста или нет.\n"
      ]
    },
    {
      "cell_type": "markdown",
      "source": [
        "## 1. EDA\n",
        "Посмотрим на исходные описания товаров:"
      ],
      "metadata": {
        "id": "7jZRUEnbFSwX"
      },
      "id": "7jZRUEnbFSwX"
    },
    {
      "cell_type": "code",
      "execution_count": 1,
      "id": "20e93317",
      "metadata": {
        "id": "20e93317"
      },
      "outputs": [],
      "source": [
        "import pandas as pd\n",
        "import numpy as np\n",
        "import seaborn as sns\n",
        "import matplotlib.pyplot as plt"
      ]
    },
    {
      "cell_type": "code",
      "source": [
        "from google.colab import drive\n",
        "drive.mount('/content/drive')"
      ],
      "metadata": {
        "colab": {
          "base_uri": "https://localhost:8080/"
        },
        "id": "F1upEs75Ffn3",
        "outputId": "6d557444-fa27-4310-84c3-4dc61702b68d"
      },
      "id": "F1upEs75Ffn3",
      "execution_count": 2,
      "outputs": [
        {
          "output_type": "stream",
          "name": "stdout",
          "text": [
            "Mounted at /content/drive\n"
          ]
        }
      ]
    },
    {
      "cell_type": "code",
      "execution_count": 3,
      "id": "837eb044",
      "metadata": {
        "colab": {
          "base_uri": "https://localhost:8080/",
          "height": 455
        },
        "id": "837eb044",
        "outputId": "2be0b3f6-2ca4-4c67-e90c-d3032ddc23c4"
      },
      "outputs": [
        {
          "output_type": "execute_result",
          "data": {
            "text/plain": [
              "                                           description\n",
              "id                                                    \n",
              "1    Active classic boxers - There's a reason why o...\n",
              "2    Active sport boxer briefs - Skinning up Glory ...\n",
              "3    Active sport briefs - These superbreathable no...\n",
              "4    Alpine guide pants - Skin in, climb ice, switc...\n",
              "5    Alpine wind jkt - On high ridges, steep ice an...\n",
              "..                                                 ...\n",
              "496  Cap 2 bottoms - Cut loose from the maddening c...\n",
              "497  Cap 2 crew - This crew takes the edge off fick...\n",
              "498  All-time shell - No need to use that morning T...\n",
              "499  All-wear cargo shorts - All-Wear Cargo Shorts ...\n",
              "500  All-wear shorts - Time to simplify? Our All-We...\n",
              "\n",
              "[500 rows x 1 columns]"
            ],
            "text/html": [
              "\n",
              "  <div id=\"df-1c9e42fa-58f6-41aa-b1b7-519864341cf2\" class=\"colab-df-container\">\n",
              "    <div>\n",
              "<style scoped>\n",
              "    .dataframe tbody tr th:only-of-type {\n",
              "        vertical-align: middle;\n",
              "    }\n",
              "\n",
              "    .dataframe tbody tr th {\n",
              "        vertical-align: top;\n",
              "    }\n",
              "\n",
              "    .dataframe thead th {\n",
              "        text-align: right;\n",
              "    }\n",
              "</style>\n",
              "<table border=\"1\" class=\"dataframe\">\n",
              "  <thead>\n",
              "    <tr style=\"text-align: right;\">\n",
              "      <th></th>\n",
              "      <th>description</th>\n",
              "    </tr>\n",
              "    <tr>\n",
              "      <th>id</th>\n",
              "      <th></th>\n",
              "    </tr>\n",
              "  </thead>\n",
              "  <tbody>\n",
              "    <tr>\n",
              "      <th>1</th>\n",
              "      <td>Active classic boxers - There's a reason why o...</td>\n",
              "    </tr>\n",
              "    <tr>\n",
              "      <th>2</th>\n",
              "      <td>Active sport boxer briefs - Skinning up Glory ...</td>\n",
              "    </tr>\n",
              "    <tr>\n",
              "      <th>3</th>\n",
              "      <td>Active sport briefs - These superbreathable no...</td>\n",
              "    </tr>\n",
              "    <tr>\n",
              "      <th>4</th>\n",
              "      <td>Alpine guide pants - Skin in, climb ice, switc...</td>\n",
              "    </tr>\n",
              "    <tr>\n",
              "      <th>5</th>\n",
              "      <td>Alpine wind jkt - On high ridges, steep ice an...</td>\n",
              "    </tr>\n",
              "    <tr>\n",
              "      <th>...</th>\n",
              "      <td>...</td>\n",
              "    </tr>\n",
              "    <tr>\n",
              "      <th>496</th>\n",
              "      <td>Cap 2 bottoms - Cut loose from the maddening c...</td>\n",
              "    </tr>\n",
              "    <tr>\n",
              "      <th>497</th>\n",
              "      <td>Cap 2 crew - This crew takes the edge off fick...</td>\n",
              "    </tr>\n",
              "    <tr>\n",
              "      <th>498</th>\n",
              "      <td>All-time shell - No need to use that morning T...</td>\n",
              "    </tr>\n",
              "    <tr>\n",
              "      <th>499</th>\n",
              "      <td>All-wear cargo shorts - All-Wear Cargo Shorts ...</td>\n",
              "    </tr>\n",
              "    <tr>\n",
              "      <th>500</th>\n",
              "      <td>All-wear shorts - Time to simplify? Our All-We...</td>\n",
              "    </tr>\n",
              "  </tbody>\n",
              "</table>\n",
              "<p>500 rows × 1 columns</p>\n",
              "</div>\n",
              "    <div class=\"colab-df-buttons\">\n",
              "\n",
              "  <div class=\"colab-df-container\">\n",
              "    <button class=\"colab-df-convert\" onclick=\"convertToInteractive('df-1c9e42fa-58f6-41aa-b1b7-519864341cf2')\"\n",
              "            title=\"Convert this dataframe to an interactive table.\"\n",
              "            style=\"display:none;\">\n",
              "\n",
              "  <svg xmlns=\"http://www.w3.org/2000/svg\" height=\"24px\" viewBox=\"0 -960 960 960\">\n",
              "    <path d=\"M120-120v-720h720v720H120Zm60-500h600v-160H180v160Zm220 220h160v-160H400v160Zm0 220h160v-160H400v160ZM180-400h160v-160H180v160Zm440 0h160v-160H620v160ZM180-180h160v-160H180v160Zm440 0h160v-160H620v160Z\"/>\n",
              "  </svg>\n",
              "    </button>\n",
              "\n",
              "  <style>\n",
              "    .colab-df-container {\n",
              "      display:flex;\n",
              "      gap: 12px;\n",
              "    }\n",
              "\n",
              "    .colab-df-convert {\n",
              "      background-color: #E8F0FE;\n",
              "      border: none;\n",
              "      border-radius: 50%;\n",
              "      cursor: pointer;\n",
              "      display: none;\n",
              "      fill: #1967D2;\n",
              "      height: 32px;\n",
              "      padding: 0 0 0 0;\n",
              "      width: 32px;\n",
              "    }\n",
              "\n",
              "    .colab-df-convert:hover {\n",
              "      background-color: #E2EBFA;\n",
              "      box-shadow: 0px 1px 2px rgba(60, 64, 67, 0.3), 0px 1px 3px 1px rgba(60, 64, 67, 0.15);\n",
              "      fill: #174EA6;\n",
              "    }\n",
              "\n",
              "    .colab-df-buttons div {\n",
              "      margin-bottom: 4px;\n",
              "    }\n",
              "\n",
              "    [theme=dark] .colab-df-convert {\n",
              "      background-color: #3B4455;\n",
              "      fill: #D2E3FC;\n",
              "    }\n",
              "\n",
              "    [theme=dark] .colab-df-convert:hover {\n",
              "      background-color: #434B5C;\n",
              "      box-shadow: 0px 1px 3px 1px rgba(0, 0, 0, 0.15);\n",
              "      filter: drop-shadow(0px 1px 2px rgba(0, 0, 0, 0.3));\n",
              "      fill: #FFFFFF;\n",
              "    }\n",
              "  </style>\n",
              "\n",
              "    <script>\n",
              "      const buttonEl =\n",
              "        document.querySelector('#df-1c9e42fa-58f6-41aa-b1b7-519864341cf2 button.colab-df-convert');\n",
              "      buttonEl.style.display =\n",
              "        google.colab.kernel.accessAllowed ? 'block' : 'none';\n",
              "\n",
              "      async function convertToInteractive(key) {\n",
              "        const element = document.querySelector('#df-1c9e42fa-58f6-41aa-b1b7-519864341cf2');\n",
              "        const dataTable =\n",
              "          await google.colab.kernel.invokeFunction('convertToInteractive',\n",
              "                                                    [key], {});\n",
              "        if (!dataTable) return;\n",
              "\n",
              "        const docLinkHtml = 'Like what you see? Visit the ' +\n",
              "          '<a target=\"_blank\" href=https://colab.research.google.com/notebooks/data_table.ipynb>data table notebook</a>'\n",
              "          + ' to learn more about interactive tables.';\n",
              "        element.innerHTML = '';\n",
              "        dataTable['output_type'] = 'display_data';\n",
              "        await google.colab.output.renderOutput(dataTable, element);\n",
              "        const docLink = document.createElement('div');\n",
              "        docLink.innerHTML = docLinkHtml;\n",
              "        element.appendChild(docLink);\n",
              "      }\n",
              "    </script>\n",
              "  </div>\n",
              "\n",
              "\n",
              "<div id=\"df-a902c751-32c8-43af-84f1-0293f2e32aee\">\n",
              "  <button class=\"colab-df-quickchart\" onclick=\"quickchart('df-a902c751-32c8-43af-84f1-0293f2e32aee')\"\n",
              "            title=\"Suggest charts.\"\n",
              "            style=\"display:none;\">\n",
              "\n",
              "<svg xmlns=\"http://www.w3.org/2000/svg\" height=\"24px\"viewBox=\"0 0 24 24\"\n",
              "     width=\"24px\">\n",
              "    <g>\n",
              "        <path d=\"M19 3H5c-1.1 0-2 .9-2 2v14c0 1.1.9 2 2 2h14c1.1 0 2-.9 2-2V5c0-1.1-.9-2-2-2zM9 17H7v-7h2v7zm4 0h-2V7h2v10zm4 0h-2v-4h2v4z\"/>\n",
              "    </g>\n",
              "</svg>\n",
              "  </button>\n",
              "\n",
              "<style>\n",
              "  .colab-df-quickchart {\n",
              "      --bg-color: #E8F0FE;\n",
              "      --fill-color: #1967D2;\n",
              "      --hover-bg-color: #E2EBFA;\n",
              "      --hover-fill-color: #174EA6;\n",
              "      --disabled-fill-color: #AAA;\n",
              "      --disabled-bg-color: #DDD;\n",
              "  }\n",
              "\n",
              "  [theme=dark] .colab-df-quickchart {\n",
              "      --bg-color: #3B4455;\n",
              "      --fill-color: #D2E3FC;\n",
              "      --hover-bg-color: #434B5C;\n",
              "      --hover-fill-color: #FFFFFF;\n",
              "      --disabled-bg-color: #3B4455;\n",
              "      --disabled-fill-color: #666;\n",
              "  }\n",
              "\n",
              "  .colab-df-quickchart {\n",
              "    background-color: var(--bg-color);\n",
              "    border: none;\n",
              "    border-radius: 50%;\n",
              "    cursor: pointer;\n",
              "    display: none;\n",
              "    fill: var(--fill-color);\n",
              "    height: 32px;\n",
              "    padding: 0;\n",
              "    width: 32px;\n",
              "  }\n",
              "\n",
              "  .colab-df-quickchart:hover {\n",
              "    background-color: var(--hover-bg-color);\n",
              "    box-shadow: 0 1px 2px rgba(60, 64, 67, 0.3), 0 1px 3px 1px rgba(60, 64, 67, 0.15);\n",
              "    fill: var(--button-hover-fill-color);\n",
              "  }\n",
              "\n",
              "  .colab-df-quickchart-complete:disabled,\n",
              "  .colab-df-quickchart-complete:disabled:hover {\n",
              "    background-color: var(--disabled-bg-color);\n",
              "    fill: var(--disabled-fill-color);\n",
              "    box-shadow: none;\n",
              "  }\n",
              "\n",
              "  .colab-df-spinner {\n",
              "    border: 2px solid var(--fill-color);\n",
              "    border-color: transparent;\n",
              "    border-bottom-color: var(--fill-color);\n",
              "    animation:\n",
              "      spin 1s steps(1) infinite;\n",
              "  }\n",
              "\n",
              "  @keyframes spin {\n",
              "    0% {\n",
              "      border-color: transparent;\n",
              "      border-bottom-color: var(--fill-color);\n",
              "      border-left-color: var(--fill-color);\n",
              "    }\n",
              "    20% {\n",
              "      border-color: transparent;\n",
              "      border-left-color: var(--fill-color);\n",
              "      border-top-color: var(--fill-color);\n",
              "    }\n",
              "    30% {\n",
              "      border-color: transparent;\n",
              "      border-left-color: var(--fill-color);\n",
              "      border-top-color: var(--fill-color);\n",
              "      border-right-color: var(--fill-color);\n",
              "    }\n",
              "    40% {\n",
              "      border-color: transparent;\n",
              "      border-right-color: var(--fill-color);\n",
              "      border-top-color: var(--fill-color);\n",
              "    }\n",
              "    60% {\n",
              "      border-color: transparent;\n",
              "      border-right-color: var(--fill-color);\n",
              "    }\n",
              "    80% {\n",
              "      border-color: transparent;\n",
              "      border-right-color: var(--fill-color);\n",
              "      border-bottom-color: var(--fill-color);\n",
              "    }\n",
              "    90% {\n",
              "      border-color: transparent;\n",
              "      border-bottom-color: var(--fill-color);\n",
              "    }\n",
              "  }\n",
              "</style>\n",
              "\n",
              "  <script>\n",
              "    async function quickchart(key) {\n",
              "      const quickchartButtonEl =\n",
              "        document.querySelector('#' + key + ' button');\n",
              "      quickchartButtonEl.disabled = true;  // To prevent multiple clicks.\n",
              "      quickchartButtonEl.classList.add('colab-df-spinner');\n",
              "      try {\n",
              "        const charts = await google.colab.kernel.invokeFunction(\n",
              "            'suggestCharts', [key], {});\n",
              "      } catch (error) {\n",
              "        console.error('Error during call to suggestCharts:', error);\n",
              "      }\n",
              "      quickchartButtonEl.classList.remove('colab-df-spinner');\n",
              "      quickchartButtonEl.classList.add('colab-df-quickchart-complete');\n",
              "    }\n",
              "    (() => {\n",
              "      let quickchartButtonEl =\n",
              "        document.querySelector('#df-a902c751-32c8-43af-84f1-0293f2e32aee button');\n",
              "      quickchartButtonEl.style.display =\n",
              "        google.colab.kernel.accessAllowed ? 'block' : 'none';\n",
              "    })();\n",
              "  </script>\n",
              "</div>\n",
              "    </div>\n",
              "  </div>\n"
            ]
          },
          "metadata": {},
          "execution_count": 3
        }
      ],
      "source": [
        "df = pd.read_csv('/content/drive/MyDrive/Data/sample-data.csv', index_col = 'id')\n",
        "df"
      ]
    },
    {
      "cell_type": "code",
      "execution_count": 4,
      "id": "5463a188",
      "metadata": {
        "colab": {
          "base_uri": "https://localhost:8080/"
        },
        "id": "5463a188",
        "outputId": "fba05fdf-06ef-4b84-e98b-33f7ba22d265"
      },
      "outputs": [
        {
          "output_type": "execute_result",
          "data": {
            "text/plain": [
              "['Pataloha shirt - Early Hawaiian shirts were pitched as \"postcards you can wear.\" We\\'ve been making ours  inspired by native designs true to the aloha spirit  for 20 years. Exquisitely tailored in environmentally friendly 3.3-oz 100% organic cotton coconut cloth, their textured cloth, cools in humid climates. Coconut buttons and chest pocket. Recyclable through the Common Threads Recycling Program.<br><br><b>Details:</b><ul> <li>100% organic cotton coconut-weave fabric</li> <li>Chest pocket</li> <li>Coconut buttons</li></ul><br><br><b>Fabric: </b>3.3-oz 100% organic cotton coconut cloth. Recyclable through the Common Threads Recycling Program<br><br><b>Weight: </b>(222 g 7.7 oz)<br><br>Made in Thailand.']"
            ]
          },
          "metadata": {},
          "execution_count": 4
        }
      ],
      "source": [
        "list(df.iloc[100:101]['description'])"
      ]
    },
    {
      "cell_type": "markdown",
      "id": "c07bf7ee",
      "metadata": {
        "id": "c07bf7ee"
      },
      "source": [
        "Очевидно, что в тексте много лишних знаков. Обработаем тексты с помощью функции ниже:\n",
        "\n",
        "- удалим весь текст в треугольных скобках\n",
        "- удалим все знаки кроме букв и слов\n",
        "- токенизируем текст\n",
        "- приведем все слова в нормальную форму\n",
        "- удалим стоп-слова"
      ]
    },
    {
      "cell_type": "code",
      "execution_count": 5,
      "id": "f78e7fee",
      "metadata": {
        "colab": {
          "base_uri": "https://localhost:8080/"
        },
        "id": "f78e7fee",
        "outputId": "ef8622ed-e0a8-4bd8-b37c-2d719ae96f52"
      },
      "outputs": [
        {
          "output_type": "stream",
          "name": "stderr",
          "text": [
            "[nltk_data] Downloading package punkt to /root/nltk_data...\n",
            "[nltk_data]   Unzipping tokenizers/punkt.zip.\n",
            "[nltk_data] Downloading package averaged_perceptron_tagger to\n",
            "[nltk_data]     /root/nltk_data...\n",
            "[nltk_data]   Unzipping taggers/averaged_perceptron_tagger.zip.\n",
            "[nltk_data] Downloading package wordnet to /root/nltk_data...\n",
            "[nltk_data] Downloading package stopwords to /root/nltk_data...\n",
            "[nltk_data]   Unzipping corpora/stopwords.zip.\n"
          ]
        }
      ],
      "source": [
        "from nltk.stem import WordNetLemmatizer\n",
        "import string\n",
        "import nltk\n",
        "import re\n",
        "import warnings\n",
        "import nltk\n",
        "nltk.download('punkt')\n",
        "nltk.download('averaged_perceptron_tagger')\n",
        "nltk.download('wordnet')\n",
        "from nltk.tokenize import word_tokenize\n",
        "warnings.filterwarnings(\"ignore\")\n",
        "nltk.download('stopwords')\n",
        "stop_words = nltk.corpus.stopwords.words('english')\n",
        "from nltk.corpus import wordnet\n",
        "\n",
        "lemmatizer = WordNetLemmatizer()\n",
        "\n",
        "def nltk_pos_tagger(nltk_tag):\n",
        "    if nltk_tag.startswith('J'):\n",
        "        return wordnet.ADJ\n",
        "    elif nltk_tag.startswith('V'):\n",
        "        return wordnet.VERB\n",
        "    elif nltk_tag.startswith('N'):\n",
        "        return wordnet.NOUN\n",
        "    elif nltk_tag.startswith('R'):\n",
        "        return wordnet.ADV\n",
        "    else:\n",
        "        return wordnet.NOUN"
      ]
    },
    {
      "cell_type": "code",
      "execution_count": 6,
      "id": "9a7bda0e",
      "metadata": {
        "id": "9a7bda0e"
      },
      "outputs": [],
      "source": [
        "def tokenize(series):\n",
        "\n",
        "    texts = []\n",
        "\n",
        "    for ind, text in series.items():\n",
        "\n",
        "        text_lower = text.lower()\n",
        "        text_lower = re.sub(re.compile('\\<(.*?)\\>'), '', text_lower).strip()\n",
        "        text_lower = re.sub(re.compile('[^\\w\\s]'), ' ', text_lower).strip()\n",
        "        tokens = word_tokenize(text_lower)\n",
        "        tokens = [lemmatizer.lemmatize(nltk.pos_tag([word])[0][0],\\\n",
        "                                       pos = nltk_pos_tagger(nltk.pos_tag([word])[0][1])) for word in tokens]\n",
        "        tokens = [word for word in tokens if(word not in stop_words)]\n",
        "        texts.append(tokens)\n",
        "\n",
        "    return texts"
      ]
    },
    {
      "cell_type": "code",
      "execution_count": 7,
      "id": "a077c573",
      "metadata": {
        "id": "a077c573"
      },
      "outputs": [],
      "source": [
        "token_texts = tokenize(df['description'])"
      ]
    },
    {
      "cell_type": "markdown",
      "id": "bf9439b0",
      "metadata": {
        "id": "bf9439b0"
      },
      "source": [
        "Посмотрим на длину текстов, чтобы определиться с длиной векторов для Word2Vec. В принципе длина в 250 будет достаточной."
      ]
    },
    {
      "cell_type": "code",
      "execution_count": 8,
      "id": "6b11227e",
      "metadata": {
        "id": "6b11227e",
        "outputId": "a38940d1-8e4d-43b7-8ac6-c157480ded39",
        "colab": {
          "base_uri": "https://localhost:8080/",
          "height": 452
        }
      },
      "outputs": [
        {
          "output_type": "display_data",
          "data": {
            "text/plain": [
              "<Figure size 640x480 with 1 Axes>"
            ],
            "image/png": "[encoded data removed]"
          },
          "metadata": {}
        }
      ],
      "source": [
        "plt.title('Распределение текстов по длине')\n",
        "plt.hist(list(map(len, token_texts)), bins=30)\n",
        "plt.show()"
      ]
    },
    {
      "cell_type": "markdown",
      "source": [
        "## Функция для формирования топ-3 рекомендаций"
      ],
      "metadata": {
        "id": "hdoXBmEzHdV9"
      },
      "id": "hdoXBmEzHdV9"
    },
    {
      "cell_type": "markdown",
      "id": "54561fe0",
      "metadata": {
        "id": "54561fe0"
      },
      "source": [
        "Подготовим функцию, которая будет принимать в качестве аргументов:\n",
        "\n",
        "- начальный массив данных\n",
        "- векторизированную форму текстов\n",
        "- порог похожести - минимальный уровень коэффициента косинусной близости для попадание в финальный датафрейм\n",
        "\n",
        "В результате функция выведет датафрейм, который бдуте содержать средний уровень похожести для товара и топ-3 рекомендации с саммыми высокими индексами похожести. Дополнительно выводится график с распределением индексов по всем товарам.\n",
        "\n",
        "Будем применять эту функцию для разных векторных представлений текстов и посмотрим какие подобрались похожие товары для артикулов c номером 200 (майка без рукавов, часто встречается) и номером 300 (женская короткая комбинация, довольно редкая). Так сможем оценить качество вектров при подборе."
      ]
    },
    {
      "cell_type": "code",
      "execution_count": 9,
      "id": "21007218",
      "metadata": {
        "id": "21007218"
      },
      "outputs": [],
      "source": [
        "from sklearn.metrics.pairwise import cosine_similarity\n",
        "\n",
        "def sim_review(df, vectorized_texts, threshold):\n",
        "\n",
        "    \"\"\"In:\n",
        "        df - initial dataframe,\n",
        "        vectorized_texts - vectorized representation of the texts from dataframe,\n",
        "        threshold - min level on cosine_similarity coefficient to be included in the review\n",
        "      Out:\n",
        "        Dataframe with title of the item and its description from the original dataframe,\n",
        "        it's average similarity score based on the threshhold,\n",
        "        top 3 most similar items\n",
        "        Histplot with average scores similarity for all items in dataframe\n",
        "    \"\"\"\n",
        "\n",
        "    res = pd.DataFrame()\n",
        "\n",
        "    for item in range(len(df)):\n",
        "\n",
        "        title = df.iloc[item]['description'].split('- ')[0]\n",
        "        desc = df.iloc[item]['description']\n",
        "        similarity = cosine_similarity(vectorized_texts[item], vectorized_texts).flatten()\n",
        "        ind = np.argwhere(similarity > threshold)\n",
        "\n",
        "        if ind.shape[0] <= 1:\n",
        "            new_row = {'Title': title, 'Desc': desc, 'Avg_simil_score':0,\n",
        "                'Top_1_rec': 'Not found', 'Top_2_rec': 'Not found', 'Top_3_rec': 'Not found'}\n",
        "            res = res.append(new_row, ignore_index = True)\n",
        "        else:\n",
        "            scores = similarity[similarity > threshold]\n",
        "            match = sorted(zip(scores, ind.tolist()), reverse=True)\n",
        "            try:\n",
        "                top_1 = round(match[1][0], 2).astype(str) + ' ' + df.iloc[match[1][1]]['description'].item()\n",
        "            except:\n",
        "                top_1 = 'None'\n",
        "            try:\n",
        "                top_2 = round(match[2][0], 2).astype(str) + ' ' + df.iloc[match[2][1]]['description'].item()\n",
        "            except:\n",
        "                top_2 = 'None'\n",
        "            try:\n",
        "                top_3 = round(match[3][0], 2).astype(str) + ' ' + df.iloc[match[3][1]]['description'].item()\n",
        "            except:\n",
        "                top_3 = 'None'\n",
        "            avg_score = round((sum(i for i,j in match)-1)/(len(match)-1), 2)\n",
        "            new_row = {'Title': title, 'Desc': desc, 'Avg_simil_score':avg_score,\n",
        "                    'Top_1_rec': top_1, 'Top_2_rec': top_2, 'Top_3_rec': top_3}\n",
        "\n",
        "            res = res.append(new_row, ignore_index = True)\n",
        "    columns = ['Title', 'Desc', 'Avg_simil_score', 'Top_1_rec', 'Top_2_rec', 'Top_3_rec']\n",
        "\n",
        "    res = res[columns]\n",
        "\n",
        "    sns.histplot(res['Avg_simil_score'], bins = 30)\n",
        "    plt.title(f\"Avg_sim_score distribution, {round(len(res[res['Avg_simil_score'] == 0])/len(res)*100)}% with 0 score\")\n",
        "    plt.show()\n",
        "\n",
        "    return res"
      ]
    },
    {
      "cell_type": "markdown",
      "id": "a3c5a418",
      "metadata": {
        "id": "a3c5a418"
      },
      "source": [
        "## 2. Использование TfIdf векторов\n",
        "\n",
        "При создании tfidf векторов попробуем разные парметры и оценим их влияние на результаты подбора похожих. Будем менять следующие параментры:\n",
        "\n",
        "- min_df - параметр, ответсвенный за долю редких слов -> не используются слова с df ниже указанного порога. Попробуем величины 0.1 и 0.01\n",
        "- max_df - параметр, ответсвенный за долю частотных слов -> не используюся слова выше указнного порога. Попробуем величины 0.75, 0.5 и default = 1\n",
        "- ngram_range - границы для n-gram. Возъмем следующие параметры: (2, 3) - только биграммы и триграммы, (1, 3) - юни, би и триграммы"
      ]
    },
    {
      "cell_type": "code",
      "execution_count": 10,
      "id": "bec08354",
      "metadata": {
        "id": "bec08354"
      },
      "outputs": [],
      "source": [
        "from sklearn.feature_extraction.text import TfidfVectorizer\n",
        "\n",
        "vectorizer1 = TfidfVectorizer(max_features = 250, norm = None,\n",
        "                             tokenizer = lambda x:x,\n",
        "                             min_df=0.1,\n",
        "                             max_df = 0.75,\n",
        "                             ngram_range=(2, 3),\n",
        "                             lowercase=False)\n",
        "\n",
        "vectorizer2 = TfidfVectorizer(max_features = 250, norm = None,\n",
        "                             tokenizer = lambda x:x,\n",
        "                             min_df=0.01,\n",
        "                             max_df = 0.5,\n",
        "                             ngram_range=(1, 3),\n",
        "                             lowercase=False)\n",
        "vectorizer3 = TfidfVectorizer(max_features = 250, norm = None,\n",
        "                             tokenizer = lambda x:x,\n",
        "                             min_df=0.01,\n",
        "                             ngram_range=(1, 3),\n",
        "                             lowercase=False)\n"
      ]
    },
    {
      "cell_type": "markdown",
      "source": [
        "### TfIdf min_df=0.1, max_df=0.75, ngram_range = (2,3)"
      ],
      "metadata": {
        "id": "JdOv-ptWH6zk"
      },
      "id": "JdOv-ptWH6zk"
    },
    {
      "cell_type": "code",
      "execution_count": 11,
      "id": "e6091666",
      "metadata": {
        "scrolled": true,
        "colab": {
          "base_uri": "https://localhost:8080/",
          "height": 1000
        },
        "id": "e6091666",
        "outputId": "6545209c-d0a3-420f-a698-c461b0eaf58b"
      },
      "outputs": [
        {
          "output_type": "display_data",
          "data": {
            "text/plain": [
              "<Figure size 640x480 with 1 Axes>"
            ],
            "image/png": "[encoded data removed]"
          },
          "metadata": {}
        },
        {
          "output_type": "execute_result",
          "data": {
            "text/plain": [
              "<pandas.io.formats.style.Styler at 0x7ea7e3338a30>"
            ],
            "text/html": [
              "<style type=\"text/css\">\n",
              "</style>\n",
              "<table id=\"T_7e57e\" class=\"dataframe\">\n",
              "  <thead>\n",
              "    <tr>\n",
              "      <th class=\"blank level0\" >&nbsp;</th>\n",
              "      <th id=\"T_7e57e_level0_col0\" class=\"col_heading level0 col0\" >Title</th>\n",
              "      <th id=\"T_7e57e_level0_col1\" class=\"col_heading level0 col1\" >Desc</th>\n",
              "      <th id=\"T_7e57e_level0_col2\" class=\"col_heading level0 col2\" >Avg_simil_score</th>\n",
              "      <th id=\"T_7e57e_level0_col3\" class=\"col_heading level0 col3\" >Top_1_rec</th>\n",
              "      <th id=\"T_7e57e_level0_col4\" class=\"col_heading level0 col4\" >Top_2_rec</th>\n",
              "      <th id=\"T_7e57e_level0_col5\" class=\"col_heading level0 col5\" >Top_3_rec</th>\n",
              "    </tr>\n",
              "  </thead>\n",
              "  <tbody>\n",
              "    <tr>\n",
              "      <th id=\"T_7e57e_level0_row0\" class=\"row_heading level0 row0\" >200</th>\n",
              "      <td id=\"T_7e57e_row0_col0\" class=\"data row0 col0\" >Merino 1 tank </td>\n",
              "      <td id=\"T_7e57e_row0_col1\" class=\"data row0 col1\" >Merino 1 tank - Finespun and cool enough to lower the temperature of open trail runs, heated crags and the Laiki street market, this silky-soft yet highly durable jersey-knit tank is made with 63% merino wool spun around an all-recycled polyester (37%) core. Super-comfortable on its own in warm temperatures or beneath layers in cooler ones, it offers great technical performance: naturally resisting odor, moving moisture away from the skin and improving dry times, regulating body temperature, and maintaining a consistent stretch. The neck - with a smooth, self-fabric binding -invites ventilation but still covers a bra. We slow-wash our merino for next-to-skin softness. Machine-wash cold; lay flat to dry. Recyclable through the Common Threads Recycling Program.<br><br><b>Details:</b><ul> <li>\"Slow-washed merino wool resists odor naturally, insulates even when wet, is durable, stretches and provides superior performance and softness\"</li> <li>16.5 micron-gauge yarn and jersey-knit construction for luxurious hand</li> <li>\"All-recycled polyester core wicks moisture, while wool next to skin controls odor\"</li> <li>Softly scooped neckline ventilates while still covering bra</li> <li>Self-fabric neck and armhole binding for comfort</li> <li>Straight hem</li> <li>\"Machine-wash cold, lay flat to dry\"</li></ul><br><br><b>Fabric: </b>3.2-oz (108-g) 63% 16.5 micron chlorine-free merino wool/37% all-recycled polyester. Recyclable through the Common Threads Recycling Program<br><br><b>Weight: </b>(60 g 2.1 oz)<br><br>Made in USA.</td>\n",
              "      <td id=\"T_7e57e_row0_col2\" class=\"data row0 col2\" >0.800000</td>\n",
              "      <td id=\"T_7e57e_row0_col3\" class=\"data row0 col3\" >0.9 Merino 1 t-shirt - So soft it's worth lingering in, our lightest merino layer is made with 63% merino wool spun around an all-recycled polyester (37%) core. Super-comfortable on its own in warm temperatures or beneath layers in cooler ones, this silky yet highly durable jersey-knit offers great technical performance: naturally resisting odor, moving moisture away from the skin and improving dry times, regulating body temperature, and maintaining a consistent stretch. The neck - with a smooth self-fabric binding - invites ventilation but still covers a bra. We slow-wash our merino for next-to-skin softness. Machine-wash cold; lay flat to dry. Recyclable through the Common Threads Recycling Program.<br><br><b>Details:</b><ul> <li>\"Slow-washed merino wool resists odor naturally, insulates even when wet, is durable, stretches and provides superior performance and softness\"</li> <li>16.5 micron-gauge yarn and jersey-knit construction for luxurious hand</li> <li>\"All-recycled polyester core wicks moisture, while wool next to skin controls odor\"</li> <li>Softly scooped neckline ventilates while still covering bra</li> <li>Self-fabric neck binding for comfort</li> <li>Straight hem</li> <li>\"Machine-wash cold, lay flat to dry\"</li></ul><br><br><b>Fabric: </b>3.2-oz (108-g) 63% 16.5 micron chlorine-free merino wool/37% all-recycled polyester. Recyclable through the Common Threads Recycling Program<br><br><b>Weight: </b>73 g (2.6 oz)<br><br>Made in USA.</td>\n",
              "      <td id=\"T_7e57e_row0_col4\" class=\"data row0 col4\" >0.9 Merino 1 graphic t-shirt - Feels as good as a laugh. Our lightest merino layer, this silky-soft yet highly durable jersey-knit is made with 63% merino wool spun around a an all-recycled polyester (37%) core. Super-comfortable on its own in warm temperatures or beneath layers in cooler ones, it offers great technical performance: naturally resisting odor, moving moisture away from the skin and improving dry times, regulating body temperature, and maintaining a consistent stretch. The neck - with a smooth, self-fabric binding - invites ventilation but still covers a bra. We slow-wash our merino for next-to-skin softness. Machine-wash cold; lay flat to dry. Recyclable through the Common Threads Recycling Program.<br><br><b>Details:</b><ul> <li>\"Slow-washed merino wool resists odor naturally, insulates even when wet, is durable, stretches and provides superior performance and softness; 16.5 micron-gauge yarn and jersey-knit construction for luxurious hand\"</li> <li>\"All-recycled polyester core wicks moisture, while wool next to skin controls odor\"</li> <li>Softly scooped neckline ventilates while still covering bra</li> <li>Self-fabric neck binding for comfort</li> <li>Soft graphic print doesn't impede performance</li> <li>Straight hem</li> <li>\"Machine-wash cold, lay flat to dry\"</li></ul><br><br><b>Fabric: </b>3.2-oz (108-g) 63% 16.5 micron chlorine-free merino wool/37% all-recycled polyester. Recyclable through the Common Threads Recycling Program<br><br><b>Weight: </b>73 g (2.6 oz)<br><br>Made in USA.</td>\n",
              "      <td id=\"T_7e57e_row0_col5\" class=\"data row0 col5\" >0.9 Merino 1 crew - Our lightest merino layer, this silky-soft yet highly durable jersey-knit is made with 63% merino wool spun around an all-recycled polyester (37%) core. Super-comfortable on its own in warm temperatures or beneath layers in cooler ones, it offers great technical performance: naturally resisting odor, moving moisture away from the skin and improving dry times, regulating body temperature, and maintaining a consistent stretch. The neck - with a smooth self-fabric binding - invites ventilation but still covers a bra. We slow-wash our merino for next-to-skin softness. Machine-wash cold; lay flat to dry. Recyclable through the Common Threads Recycling Program.<br><br><b>Details:</b><ul> <li>\"Slow-washed merino wool resists odor naturally, insulates even when wet, is durable, stretches and provides superior performance and softness\"</li> <li>16.5 micron-gauge yarn and jersey-knit construction for luxurious hand</li> <li>\"All-recycled polyester core wicks moisture, while wool next to skin controls odor\"</li> <li>Softly scooped neckline ventilates while still covering bra</li> <li>Self-fabric neck binding for comfort</li> <li>Straight hem</li> <li>\"Machine-wash cold, lay flat to dry\"</li></ul><br><br><b>Fabric: </b>3.2-oz (108-g) 63% 16.5 micron chlorine-free merino wool/37% all-recycled polyester. Recyclable through the Common Threads Recycling Program<br><br><b>Weight: </b>(95 g 3.3 oz)<br><br>Made in USA.</td>\n",
              "    </tr>\n",
              "  </tbody>\n",
              "</table>\n"
            ]
          },
          "metadata": {},
          "execution_count": 11
        }
      ],
      "source": [
        "rec = sim_review(df, vectorizer1.fit_transform(token_texts), threshold = 0.6)\n",
        "rec[200:201].style"
      ]
    },
    {
      "cell_type": "code",
      "execution_count": 12,
      "id": "95f01065",
      "metadata": {
        "scrolled": true,
        "colab": {
          "base_uri": "https://localhost:8080/",
          "height": 509
        },
        "id": "95f01065",
        "outputId": "1e689741-ef23-41a6-9364-16751199403a"
      },
      "outputs": [
        {
          "output_type": "execute_result",
          "data": {
            "text/plain": [
              "<pandas.io.formats.style.Styler at 0x7ea7e5661ba0>"
            ],
            "text/html": [
              "<style type=\"text/css\">\n",
              "</style>\n",
              "<table id=\"T_4cadd\" class=\"dataframe\">\n",
              "  <thead>\n",
              "    <tr>\n",
              "      <th class=\"blank level0\" >&nbsp;</th>\n",
              "      <th id=\"T_4cadd_level0_col0\" class=\"col_heading level0 col0\" >Title</th>\n",
              "      <th id=\"T_4cadd_level0_col1\" class=\"col_heading level0 col1\" >Desc</th>\n",
              "      <th id=\"T_4cadd_level0_col2\" class=\"col_heading level0 col2\" >Avg_simil_score</th>\n",
              "      <th id=\"T_4cadd_level0_col3\" class=\"col_heading level0 col3\" >Top_1_rec</th>\n",
              "      <th id=\"T_4cadd_level0_col4\" class=\"col_heading level0 col4\" >Top_2_rec</th>\n",
              "      <th id=\"T_4cadd_level0_col5\" class=\"col_heading level0 col5\" >Top_3_rec</th>\n",
              "    </tr>\n",
              "  </thead>\n",
              "  <tbody>\n",
              "    <tr>\n",
              "      <th id=\"T_4cadd_level0_row0\" class=\"row_heading level0 row0\" >300</th>\n",
              "      <td id=\"T_4cadd_row0_col0\" class=\"data row0 col0\" >Active classic cami </td>\n",
              "      <td id=\"T_4cadd_row0_col1\" class=\"data row0 col1\" >Active classic cami - Worn under a dry top or as a base layer when topping 14,000 feet; the form-fitting Active Classic Cami will toe the line on any expedition. The 360-degree built-in shelf bra and adjustable shoulder straps won't slip or dig into your skin. The tank's supersoft nylon/spandex fabric blend (94%/6%) and seamless tube construction prevent chafing. Longer torso coverage pairs well with low-rise styles.<br><br><b>Details:</b><ul> <li>Supersoft nylon/spandex blend for next-to-skin comfort</li> <li>Seamless construction</li> <li>\"360-degree shelf bra with adjustable, nonslip shoulder straps\"</li> <li>\"Appropriate length for pairing with low-rise style pants, shorts or skirts\"</li></ul><br><br><b>Fabric: </b>4.6-oz 94% nylon/6% spandex with moisture-wicking performance<br><br><b>Weight: </b>(72 g 2.5 oz)<br><br>Made in Israel.</td>\n",
              "      <td id=\"T_4cadd_row0_col2\" class=\"data row0 col2\" >0.610000</td>\n",
              "      <td id=\"T_4cadd_row0_col3\" class=\"data row0 col3\" >0.61 Print adour btm - Adours have a slightly scooped, low-rise front (lined) and medium coverage in back. Our improved fabric blend is made of 82% nylon/18% spandex.<br><br><b>Details:</b><ul> <li>Medium coverage</li> <li>Lined front</li> <li>Slightly scooping front</li> <li>Low rise</li> <li>Improved fabric</li></ul><br><br><b>Fabric: </b>5.6-oz 82% nylon/18% spandex<br><br><b>Weight: </b>(43 g 1.5 oz)<br><br>Made in USA.</td>\n",
              "      <td id=\"T_4cadd_row0_col4\" class=\"data row0 col4\" >0.61 Print sunamee btm - Stay-put Sunamees fit straight across the hips, with full coverage in back. Lined front. Made from a formfitting blend of 82% nylon/18% spandex.<br><br><b>Details:</b><ul> <li>Full coverage</li> <li>Lined front</li> <li>Fits straight across hips</li> <li>Regular rise</li> <li>Improved fabric</li></ul><br><br><b>Fabric: </b>5.6-oz 82% nylon/18% spandex<br><br><b>Weight: </b>(43 g 1.5 oz)<br><br>Made in USA.</td>\n",
              "      <td id=\"T_4cadd_row0_col5\" class=\"data row0 col5\" >0.61 Solid sunamee btm - Stay-put Sunamees fit straight across the hips, with full coverage in back. Lined front. Made from a formfitting blend of 82% nylon/18% spandex.<br><br><b>Details:</b><ul> <li>Full coverage</li> <li>Lined front</li> <li>Fits straight across hips</li> <li>Regular rise</li> <li>Improved fabric</li></ul><br><br><b>Fabric: </b>5.6-oz 82% nylon/18% spandex<br><br><b>Weight: </b>(43 g 1.5 oz)<br><br>Made in USA.</td>\n",
              "    </tr>\n",
              "  </tbody>\n",
              "</table>\n"
            ]
          },
          "metadata": {},
          "execution_count": 12
        }
      ],
      "source": [
        "rec[300:301].style"
      ]
    },
    {
      "cell_type": "markdown",
      "source": [
        "### TfIdf min_df=0.01, max_df=0.5, ngram_range = (1,3)"
      ],
      "metadata": {
        "id": "OFcwsqH8ILDI"
      },
      "id": "OFcwsqH8ILDI"
    },
    {
      "cell_type": "code",
      "execution_count": 13,
      "id": "584dcbb8",
      "metadata": {
        "scrolled": true,
        "colab": {
          "base_uri": "https://localhost:8080/",
          "height": 1000
        },
        "id": "584dcbb8",
        "outputId": "cb59ebe3-a1b2-4b0d-8821-d992f28afbfe"
      },
      "outputs": [
        {
          "output_type": "display_data",
          "data": {
            "text/plain": [
              "<Figure size 640x480 with 1 Axes>"
            ],
            "image/png": "[encoded data removed]"
          },
          "metadata": {}
        },
        {
          "output_type": "execute_result",
          "data": {
            "text/plain": [
              "<pandas.io.formats.style.Styler at 0x7ea7e56602b0>"
            ],
            "text/html": [
              "<style type=\"text/css\">\n",
              "</style>\n",
              "<table id=\"T_6b175\" class=\"dataframe\">\n",
              "  <thead>\n",
              "    <tr>\n",
              "      <th class=\"blank level0\" >&nbsp;</th>\n",
              "      <th id=\"T_6b175_level0_col0\" class=\"col_heading level0 col0\" >Title</th>\n",
              "      <th id=\"T_6b175_level0_col1\" class=\"col_heading level0 col1\" >Desc</th>\n",
              "      <th id=\"T_6b175_level0_col2\" class=\"col_heading level0 col2\" >Avg_simil_score</th>\n",
              "      <th id=\"T_6b175_level0_col3\" class=\"col_heading level0 col3\" >Top_1_rec</th>\n",
              "      <th id=\"T_6b175_level0_col4\" class=\"col_heading level0 col4\" >Top_2_rec</th>\n",
              "      <th id=\"T_6b175_level0_col5\" class=\"col_heading level0 col5\" >Top_3_rec</th>\n",
              "    </tr>\n",
              "  </thead>\n",
              "  <tbody>\n",
              "    <tr>\n",
              "      <th id=\"T_6b175_level0_row0\" class=\"row_heading level0 row0\" >200</th>\n",
              "      <td id=\"T_6b175_row0_col0\" class=\"data row0 col0\" >Merino 1 tank </td>\n",
              "      <td id=\"T_6b175_row0_col1\" class=\"data row0 col1\" >Merino 1 tank - Finespun and cool enough to lower the temperature of open trail runs, heated crags and the Laiki street market, this silky-soft yet highly durable jersey-knit tank is made with 63% merino wool spun around an all-recycled polyester (37%) core. Super-comfortable on its own in warm temperatures or beneath layers in cooler ones, it offers great technical performance: naturally resisting odor, moving moisture away from the skin and improving dry times, regulating body temperature, and maintaining a consistent stretch. The neck - with a smooth, self-fabric binding -invites ventilation but still covers a bra. We slow-wash our merino for next-to-skin softness. Machine-wash cold; lay flat to dry. Recyclable through the Common Threads Recycling Program.<br><br><b>Details:</b><ul> <li>\"Slow-washed merino wool resists odor naturally, insulates even when wet, is durable, stretches and provides superior performance and softness\"</li> <li>16.5 micron-gauge yarn and jersey-knit construction for luxurious hand</li> <li>\"All-recycled polyester core wicks moisture, while wool next to skin controls odor\"</li> <li>Softly scooped neckline ventilates while still covering bra</li> <li>Self-fabric neck and armhole binding for comfort</li> <li>Straight hem</li> <li>\"Machine-wash cold, lay flat to dry\"</li></ul><br><br><b>Fabric: </b>3.2-oz (108-g) 63% 16.5 micron chlorine-free merino wool/37% all-recycled polyester. Recyclable through the Common Threads Recycling Program<br><br><b>Weight: </b>(60 g 2.1 oz)<br><br>Made in USA.</td>\n",
              "      <td id=\"T_6b175_row0_col2\" class=\"data row0 col2\" >0.830000</td>\n",
              "      <td id=\"T_6b175_row0_col3\" class=\"data row0 col3\" >0.98 Merino 1 t-shirt - So soft it's worth lingering in, our lightest merino layer is made with 63% merino wool spun around an all-recycled polyester (37%) core. Super-comfortable on its own in warm temperatures or beneath layers in cooler ones, this silky yet highly durable jersey-knit offers great technical performance: naturally resisting odor, moving moisture away from the skin and improving dry times, regulating body temperature, and maintaining a consistent stretch. The neck - with a smooth self-fabric binding - invites ventilation but still covers a bra. We slow-wash our merino for next-to-skin softness. Machine-wash cold; lay flat to dry. Recyclable through the Common Threads Recycling Program.<br><br><b>Details:</b><ul> <li>\"Slow-washed merino wool resists odor naturally, insulates even when wet, is durable, stretches and provides superior performance and softness\"</li> <li>16.5 micron-gauge yarn and jersey-knit construction for luxurious hand</li> <li>\"All-recycled polyester core wicks moisture, while wool next to skin controls odor\"</li> <li>Softly scooped neckline ventilates while still covering bra</li> <li>Self-fabric neck binding for comfort</li> <li>Straight hem</li> <li>\"Machine-wash cold, lay flat to dry\"</li></ul><br><br><b>Fabric: </b>3.2-oz (108-g) 63% 16.5 micron chlorine-free merino wool/37% all-recycled polyester. Recyclable through the Common Threads Recycling Program<br><br><b>Weight: </b>73 g (2.6 oz)<br><br>Made in USA.</td>\n",
              "      <td id=\"T_6b175_row0_col4\" class=\"data row0 col4\" >0.98 Merino 1 crew - Our lightest merino layer, this silky-soft yet highly durable jersey-knit is made with 63% merino wool spun around an all-recycled polyester (37%) core. Super-comfortable on its own in warm temperatures or beneath layers in cooler ones, it offers great technical performance: naturally resisting odor, moving moisture away from the skin and improving dry times, regulating body temperature, and maintaining a consistent stretch. The neck - with a smooth self-fabric binding - invites ventilation but still covers a bra. We slow-wash our merino for next-to-skin softness. Machine-wash cold; lay flat to dry. Recyclable through the Common Threads Recycling Program.<br><br><b>Details:</b><ul> <li>\"Slow-washed merino wool resists odor naturally, insulates even when wet, is durable, stretches and provides superior performance and softness\"</li> <li>16.5 micron-gauge yarn and jersey-knit construction for luxurious hand</li> <li>\"All-recycled polyester core wicks moisture, while wool next to skin controls odor\"</li> <li>Softly scooped neckline ventilates while still covering bra</li> <li>Self-fabric neck binding for comfort</li> <li>Straight hem</li> <li>\"Machine-wash cold, lay flat to dry\"</li></ul><br><br><b>Fabric: </b>3.2-oz (108-g) 63% 16.5 micron chlorine-free merino wool/37% all-recycled polyester. Recyclable through the Common Threads Recycling Program<br><br><b>Weight: </b>(95 g 3.3 oz)<br><br>Made in USA.</td>\n",
              "      <td id=\"T_6b175_row0_col5\" class=\"data row0 col5\" >0.98 Merino 1 graphic t-shirt - Feels as good as a laugh. Our lightest merino layer, this silky-soft yet highly durable jersey-knit is made with 63% merino wool spun around a an all-recycled polyester (37%) core. Super-comfortable on its own in warm temperatures or beneath layers in cooler ones, it offers great technical performance: naturally resisting odor, moving moisture away from the skin and improving dry times, regulating body temperature, and maintaining a consistent stretch. The neck - with a smooth, self-fabric binding - invites ventilation but still covers a bra. We slow-wash our merino for next-to-skin softness. Machine-wash cold; lay flat to dry. Recyclable through the Common Threads Recycling Program.<br><br><b>Details:</b><ul> <li>\"Slow-washed merino wool resists odor naturally, insulates even when wet, is durable, stretches and provides superior performance and softness; 16.5 micron-gauge yarn and jersey-knit construction for luxurious hand\"</li> <li>\"All-recycled polyester core wicks moisture, while wool next to skin controls odor\"</li> <li>Softly scooped neckline ventilates while still covering bra</li> <li>Self-fabric neck binding for comfort</li> <li>Soft graphic print doesn't impede performance</li> <li>Straight hem</li> <li>\"Machine-wash cold, lay flat to dry\"</li></ul><br><br><b>Fabric: </b>3.2-oz (108-g) 63% 16.5 micron chlorine-free merino wool/37% all-recycled polyester. Recyclable through the Common Threads Recycling Program<br><br><b>Weight: </b>73 g (2.6 oz)<br><br>Made in USA.</td>\n",
              "    </tr>\n",
              "  </tbody>\n",
              "</table>\n"
            ]
          },
          "metadata": {},
          "execution_count": 13
        }
      ],
      "source": [
        "rec = sim_review(df, vectorizer2.fit_transform(token_texts), threshold = 0.6)\n",
        "rec[200:201].style"
      ]
    },
    {
      "cell_type": "code",
      "execution_count": 14,
      "id": "6abfa4c7",
      "metadata": {
        "scrolled": true,
        "colab": {
          "base_uri": "https://localhost:8080/",
          "height": 474
        },
        "id": "6abfa4c7",
        "outputId": "c2be3f46-fb08-4ae8-ca5c-56579ff5e344"
      },
      "outputs": [
        {
          "output_type": "execute_result",
          "data": {
            "text/plain": [
              "<pandas.io.formats.style.Styler at 0x7ea7e55ffd30>"
            ],
            "text/html": [
              "<style type=\"text/css\">\n",
              "</style>\n",
              "<table id=\"T_61468\" class=\"dataframe\">\n",
              "  <thead>\n",
              "    <tr>\n",
              "      <th class=\"blank level0\" >&nbsp;</th>\n",
              "      <th id=\"T_61468_level0_col0\" class=\"col_heading level0 col0\" >Title</th>\n",
              "      <th id=\"T_61468_level0_col1\" class=\"col_heading level0 col1\" >Desc</th>\n",
              "      <th id=\"T_61468_level0_col2\" class=\"col_heading level0 col2\" >Avg_simil_score</th>\n",
              "      <th id=\"T_61468_level0_col3\" class=\"col_heading level0 col3\" >Top_1_rec</th>\n",
              "      <th id=\"T_61468_level0_col4\" class=\"col_heading level0 col4\" >Top_2_rec</th>\n",
              "      <th id=\"T_61468_level0_col5\" class=\"col_heading level0 col5\" >Top_3_rec</th>\n",
              "    </tr>\n",
              "  </thead>\n",
              "  <tbody>\n",
              "    <tr>\n",
              "      <th id=\"T_61468_level0_row0\" class=\"row_heading level0 row0\" >300</th>\n",
              "      <td id=\"T_61468_row0_col0\" class=\"data row0 col0\" >Active classic cami </td>\n",
              "      <td id=\"T_61468_row0_col1\" class=\"data row0 col1\" >Active classic cami - Worn under a dry top or as a base layer when topping 14,000 feet; the form-fitting Active Classic Cami will toe the line on any expedition. The 360-degree built-in shelf bra and adjustable shoulder straps won't slip or dig into your skin. The tank's supersoft nylon/spandex fabric blend (94%/6%) and seamless tube construction prevent chafing. Longer torso coverage pairs well with low-rise styles.<br><br><b>Details:</b><ul> <li>Supersoft nylon/spandex blend for next-to-skin comfort</li> <li>Seamless construction</li> <li>\"360-degree shelf bra with adjustable, nonslip shoulder straps\"</li> <li>\"Appropriate length for pairing with low-rise style pants, shorts or skirts\"</li></ul><br><br><b>Fabric: </b>4.6-oz 94% nylon/6% spandex with moisture-wicking performance<br><br><b>Weight: </b>(72 g 2.5 oz)<br><br>Made in Israel.</td>\n",
              "      <td id=\"T_61468_row0_col2\" class=\"data row0 col2\" >0.610000</td>\n",
              "      <td id=\"T_61468_row0_col3\" class=\"data row0 col3\" >0.61 Sport top - The loose, performance fit of the Women's Sport Top won't hike up or become annoyingly shifty during long-distance trail mileage. The extra-long, seamless racerback tank has a looser silhouette that increases airflow and eliminates hem migration. A comfortable built-in sports bra manages high impact activities; nylon/spandex (94%/6%) fabric blend provides moisture-wicking performance.<br><br><b>Details:</b><ul> <li>Supersoft nylon/spandex blend for next-to-skin comfort</li> <li>Seamless construction</li> <li>360-degree built-in sports bra</li> <li>\"Perfect length for pairing with running shorts, yoga pants or everyday styles\"</li></ul><br><br><b>Fabric: </b>Tank: 9.5-oz 94% nylon/6% spandex. Built-in sports bra: 9.5-oz 94% nylon/6% spandex. Both with moisture-wicking performance<br><br><b>Weight: </b>144 g (5.1 oz)<br><br>Made in Israel.</td>\n",
              "      <td id=\"T_61468_row0_col4\" class=\"data row0 col4\" >None</td>\n",
              "      <td id=\"T_61468_row0_col5\" class=\"data row0 col5\" >None</td>\n",
              "    </tr>\n",
              "  </tbody>\n",
              "</table>\n"
            ]
          },
          "metadata": {},
          "execution_count": 14
        }
      ],
      "source": [
        "rec[300:301].style"
      ]
    },
    {
      "cell_type": "markdown",
      "source": [
        "### TfIdf min_df=0.01, max_df=1, ngram_range = (1,3)"
      ],
      "metadata": {
        "id": "WHyC-R9IIR9c"
      },
      "id": "WHyC-R9IIR9c"
    },
    {
      "cell_type": "code",
      "execution_count": 15,
      "id": "b41c5bf5",
      "metadata": {
        "scrolled": true,
        "colab": {
          "base_uri": "https://localhost:8080/",
          "height": 1000
        },
        "id": "b41c5bf5",
        "outputId": "852ba14b-3c35-48ca-f7fd-baacb095c164"
      },
      "outputs": [
        {
          "output_type": "display_data",
          "data": {
            "text/plain": [
              "<Figure size 640x480 with 1 Axes>"
            ],
            "image/png": "[encoded data removed]"
          },
          "metadata": {}
        },
        {
          "output_type": "execute_result",
          "data": {
            "text/plain": [
              "<pandas.io.formats.style.Styler at 0x7ea7e2a45750>"
            ],
            "text/html": [
              "<style type=\"text/css\">\n",
              "</style>\n",
              "<table id=\"T_4a4a4\" class=\"dataframe\">\n",
              "  <thead>\n",
              "    <tr>\n",
              "      <th class=\"blank level0\" >&nbsp;</th>\n",
              "      <th id=\"T_4a4a4_level0_col0\" class=\"col_heading level0 col0\" >Title</th>\n",
              "      <th id=\"T_4a4a4_level0_col1\" class=\"col_heading level0 col1\" >Desc</th>\n",
              "      <th id=\"T_4a4a4_level0_col2\" class=\"col_heading level0 col2\" >Avg_simil_score</th>\n",
              "      <th id=\"T_4a4a4_level0_col3\" class=\"col_heading level0 col3\" >Top_1_rec</th>\n",
              "      <th id=\"T_4a4a4_level0_col4\" class=\"col_heading level0 col4\" >Top_2_rec</th>\n",
              "      <th id=\"T_4a4a4_level0_col5\" class=\"col_heading level0 col5\" >Top_3_rec</th>\n",
              "    </tr>\n",
              "  </thead>\n",
              "  <tbody>\n",
              "    <tr>\n",
              "      <th id=\"T_4a4a4_level0_row0\" class=\"row_heading level0 row0\" >200</th>\n",
              "      <td id=\"T_4a4a4_row0_col0\" class=\"data row0 col0\" >Merino 1 tank </td>\n",
              "      <td id=\"T_4a4a4_row0_col1\" class=\"data row0 col1\" >Merino 1 tank - Finespun and cool enough to lower the temperature of open trail runs, heated crags and the Laiki street market, this silky-soft yet highly durable jersey-knit tank is made with 63% merino wool spun around an all-recycled polyester (37%) core. Super-comfortable on its own in warm temperatures or beneath layers in cooler ones, it offers great technical performance: naturally resisting odor, moving moisture away from the skin and improving dry times, regulating body temperature, and maintaining a consistent stretch. The neck - with a smooth, self-fabric binding -invites ventilation but still covers a bra. We slow-wash our merino for next-to-skin softness. Machine-wash cold; lay flat to dry. Recyclable through the Common Threads Recycling Program.<br><br><b>Details:</b><ul> <li>\"Slow-washed merino wool resists odor naturally, insulates even when wet, is durable, stretches and provides superior performance and softness\"</li> <li>16.5 micron-gauge yarn and jersey-knit construction for luxurious hand</li> <li>\"All-recycled polyester core wicks moisture, while wool next to skin controls odor\"</li> <li>Softly scooped neckline ventilates while still covering bra</li> <li>Self-fabric neck and armhole binding for comfort</li> <li>Straight hem</li> <li>\"Machine-wash cold, lay flat to dry\"</li></ul><br><br><b>Fabric: </b>3.2-oz (108-g) 63% 16.5 micron chlorine-free merino wool/37% all-recycled polyester. Recyclable through the Common Threads Recycling Program<br><br><b>Weight: </b>(60 g 2.1 oz)<br><br>Made in USA.</td>\n",
              "      <td id=\"T_4a4a4_row0_col2\" class=\"data row0 col2\" >0.900000</td>\n",
              "      <td id=\"T_4a4a4_row0_col3\" class=\"data row0 col3\" >0.98 Merino 1 t-shirt - So soft it's worth lingering in, our lightest merino layer is made with 63% merino wool spun around an all-recycled polyester (37%) core. Super-comfortable on its own in warm temperatures or beneath layers in cooler ones, this silky yet highly durable jersey-knit offers great technical performance: naturally resisting odor, moving moisture away from the skin and improving dry times, regulating body temperature, and maintaining a consistent stretch. The neck - with a smooth self-fabric binding - invites ventilation but still covers a bra. We slow-wash our merino for next-to-skin softness. Machine-wash cold; lay flat to dry. Recyclable through the Common Threads Recycling Program.<br><br><b>Details:</b><ul> <li>\"Slow-washed merino wool resists odor naturally, insulates even when wet, is durable, stretches and provides superior performance and softness\"</li> <li>16.5 micron-gauge yarn and jersey-knit construction for luxurious hand</li> <li>\"All-recycled polyester core wicks moisture, while wool next to skin controls odor\"</li> <li>Softly scooped neckline ventilates while still covering bra</li> <li>Self-fabric neck binding for comfort</li> <li>Straight hem</li> <li>\"Machine-wash cold, lay flat to dry\"</li></ul><br><br><b>Fabric: </b>3.2-oz (108-g) 63% 16.5 micron chlorine-free merino wool/37% all-recycled polyester. Recyclable through the Common Threads Recycling Program<br><br><b>Weight: </b>73 g (2.6 oz)<br><br>Made in USA.</td>\n",
              "      <td id=\"T_4a4a4_row0_col4\" class=\"data row0 col4\" >0.98 Merino 1 crew - Our lightest merino layer, this silky-soft yet highly durable jersey-knit is made with 63% merino wool spun around an all-recycled polyester (37%) core. Super-comfortable on its own in warm temperatures or beneath layers in cooler ones, it offers great technical performance: naturally resisting odor, moving moisture away from the skin and improving dry times, regulating body temperature, and maintaining a consistent stretch. The neck - with a smooth self-fabric binding - invites ventilation but still covers a bra. We slow-wash our merino for next-to-skin softness. Machine-wash cold; lay flat to dry. Recyclable through the Common Threads Recycling Program.<br><br><b>Details:</b><ul> <li>\"Slow-washed merino wool resists odor naturally, insulates even when wet, is durable, stretches and provides superior performance and softness\"</li> <li>16.5 micron-gauge yarn and jersey-knit construction for luxurious hand</li> <li>\"All-recycled polyester core wicks moisture, while wool next to skin controls odor\"</li> <li>Softly scooped neckline ventilates while still covering bra</li> <li>Self-fabric neck binding for comfort</li> <li>Straight hem</li> <li>\"Machine-wash cold, lay flat to dry\"</li></ul><br><br><b>Fabric: </b>3.2-oz (108-g) 63% 16.5 micron chlorine-free merino wool/37% all-recycled polyester. Recyclable through the Common Threads Recycling Program<br><br><b>Weight: </b>(95 g 3.3 oz)<br><br>Made in USA.</td>\n",
              "      <td id=\"T_4a4a4_row0_col5\" class=\"data row0 col5\" >0.98 Merino 1 graphic t-shirt - Feels as good as a laugh. Our lightest merino layer, this silky-soft yet highly durable jersey-knit is made with 63% merino wool spun around a an all-recycled polyester (37%) core. Super-comfortable on its own in warm temperatures or beneath layers in cooler ones, it offers great technical performance: naturally resisting odor, moving moisture away from the skin and improving dry times, regulating body temperature, and maintaining a consistent stretch. The neck - with a smooth, self-fabric binding - invites ventilation but still covers a bra. We slow-wash our merino for next-to-skin softness. Machine-wash cold; lay flat to dry. Recyclable through the Common Threads Recycling Program.<br><br><b>Details:</b><ul> <li>\"Slow-washed merino wool resists odor naturally, insulates even when wet, is durable, stretches and provides superior performance and softness; 16.5 micron-gauge yarn and jersey-knit construction for luxurious hand\"</li> <li>\"All-recycled polyester core wicks moisture, while wool next to skin controls odor\"</li> <li>Softly scooped neckline ventilates while still covering bra</li> <li>Self-fabric neck binding for comfort</li> <li>Soft graphic print doesn't impede performance</li> <li>Straight hem</li> <li>\"Machine-wash cold, lay flat to dry\"</li></ul><br><br><b>Fabric: </b>3.2-oz (108-g) 63% 16.5 micron chlorine-free merino wool/37% all-recycled polyester. Recyclable through the Common Threads Recycling Program<br><br><b>Weight: </b>73 g (2.6 oz)<br><br>Made in USA.</td>\n",
              "    </tr>\n",
              "  </tbody>\n",
              "</table>\n"
            ]
          },
          "metadata": {},
          "execution_count": 15
        }
      ],
      "source": [
        "rec = sim_review(df, vectorizer3.fit_transform(token_texts), threshold = 0.6)\n",
        "rec[200:201].style"
      ]
    },
    {
      "cell_type": "code",
      "execution_count": 16,
      "id": "a12b0308",
      "metadata": {
        "scrolled": true,
        "colab": {
          "base_uri": "https://localhost:8080/",
          "height": 474
        },
        "id": "a12b0308",
        "outputId": "c7837924-b356-41c8-f595-4dfe41c22abc"
      },
      "outputs": [
        {
          "output_type": "execute_result",
          "data": {
            "text/plain": [
              "<pandas.io.formats.style.Styler at 0x7ea7e2e1a0e0>"
            ],
            "text/html": [
              "<style type=\"text/css\">\n",
              "</style>\n",
              "<table id=\"T_7fd0c\" class=\"dataframe\">\n",
              "  <thead>\n",
              "    <tr>\n",
              "      <th class=\"blank level0\" >&nbsp;</th>\n",
              "      <th id=\"T_7fd0c_level0_col0\" class=\"col_heading level0 col0\" >Title</th>\n",
              "      <th id=\"T_7fd0c_level0_col1\" class=\"col_heading level0 col1\" >Desc</th>\n",
              "      <th id=\"T_7fd0c_level0_col2\" class=\"col_heading level0 col2\" >Avg_simil_score</th>\n",
              "      <th id=\"T_7fd0c_level0_col3\" class=\"col_heading level0 col3\" >Top_1_rec</th>\n",
              "      <th id=\"T_7fd0c_level0_col4\" class=\"col_heading level0 col4\" >Top_2_rec</th>\n",
              "      <th id=\"T_7fd0c_level0_col5\" class=\"col_heading level0 col5\" >Top_3_rec</th>\n",
              "    </tr>\n",
              "  </thead>\n",
              "  <tbody>\n",
              "    <tr>\n",
              "      <th id=\"T_7fd0c_level0_row0\" class=\"row_heading level0 row0\" >300</th>\n",
              "      <td id=\"T_7fd0c_row0_col0\" class=\"data row0 col0\" >Active classic cami </td>\n",
              "      <td id=\"T_7fd0c_row0_col1\" class=\"data row0 col1\" >Active classic cami - Worn under a dry top or as a base layer when topping 14,000 feet; the form-fitting Active Classic Cami will toe the line on any expedition. The 360-degree built-in shelf bra and adjustable shoulder straps won't slip or dig into your skin. The tank's supersoft nylon/spandex fabric blend (94%/6%) and seamless tube construction prevent chafing. Longer torso coverage pairs well with low-rise styles.<br><br><b>Details:</b><ul> <li>Supersoft nylon/spandex blend for next-to-skin comfort</li> <li>Seamless construction</li> <li>\"360-degree shelf bra with adjustable, nonslip shoulder straps\"</li> <li>\"Appropriate length for pairing with low-rise style pants, shorts or skirts\"</li></ul><br><br><b>Fabric: </b>4.6-oz 94% nylon/6% spandex with moisture-wicking performance<br><br><b>Weight: </b>(72 g 2.5 oz)<br><br>Made in Israel.</td>\n",
              "      <td id=\"T_7fd0c_row0_col2\" class=\"data row0 col2\" >0.660000</td>\n",
              "      <td id=\"T_7fd0c_row0_col3\" class=\"data row0 col3\" >0.66 Sport top - The loose, performance fit of the Women's Sport Top won't hike up or become annoyingly shifty during long-distance trail mileage. The extra-long, seamless racerback tank has a looser silhouette that increases airflow and eliminates hem migration. A comfortable built-in sports bra manages high impact activities; nylon/spandex (94%/6%) fabric blend provides moisture-wicking performance.<br><br><b>Details:</b><ul> <li>Supersoft nylon/spandex blend for next-to-skin comfort</li> <li>Seamless construction</li> <li>360-degree built-in sports bra</li> <li>\"Perfect length for pairing with running shorts, yoga pants or everyday styles\"</li></ul><br><br><b>Fabric: </b>Tank: 9.5-oz 94% nylon/6% spandex. Built-in sports bra: 9.5-oz 94% nylon/6% spandex. Both with moisture-wicking performance<br><br><b>Weight: </b>144 g (5.1 oz)<br><br>Made in Israel.</td>\n",
              "      <td id=\"T_7fd0c_row0_col4\" class=\"data row0 col4\" >None</td>\n",
              "      <td id=\"T_7fd0c_row0_col5\" class=\"data row0 col5\" >None</td>\n",
              "    </tr>\n",
              "  </tbody>\n",
              "</table>\n"
            ]
          },
          "metadata": {},
          "execution_count": 16
        }
      ],
      "source": [
        "rec[300:301].style"
      ]
    },
    {
      "cell_type": "markdown",
      "id": "9403fc28",
      "metadata": {
        "id": "9403fc28"
      },
      "source": [
        "### Выводы по результатам сравнения текстов с tfidf\n",
        "\n",
        "Для векторов с ограничением на unigram и высоким min_df не нашлись похожие для редкой позиции - вместо маек были предложены шорты :(\n",
        "Вектора без этого ограничения и с низким порогом для редких слов сработали лучше - был найден похожий топ (правда только 1).\n",
        "При этом для менее уникального артикула модели с использованием всех векторов дали похожие результаты.\n",
        "\n"
      ]
    },
    {
      "cell_type": "markdown",
      "source": [
        "## 3. Использование word2vec векторов\n",
        "\n",
        "Для формирования векторов текстов с использованием word2vec будем использовать среднее взвешенное каждого слова на веса из tfidf. Для вывода весов воспользумся инициированным на предыдущем шаге векторайзером. Посмотрим, также повиляет ли выбор обычного среднего арифметического на результат.\n",
        "\n",
        "Посмотрим, как сработают вектора из 2-х вариантов:\n",
        "\n",
        "- обучим Word2Vec на корпусах имеющихся текстов и с помоощью этой модели веторизуем описания\n",
        "- воспользуемся готовой библиотекой https://huggingface.co/fse/word2vec-google-news-300"
      ],
      "metadata": {
        "id": "zQXf4JJLGbGV"
      },
      "id": "zQXf4JJLGbGV"
    },
    {
      "cell_type": "markdown",
      "source": [
        "### Обучение word2vec на имеющемся корпусе текстов - взвешенный на tfidf"
      ],
      "metadata": {
        "id": "LXAHFUmaz5DI"
      },
      "id": "LXAHFUmaz5DI"
    },
    {
      "cell_type": "code",
      "execution_count": 17,
      "id": "2642b824",
      "metadata": {
        "id": "2642b824"
      },
      "outputs": [],
      "source": [
        "w_weights = dict(zip(vectorizer3.get_feature_names_out(), vectorizer3.idf_))\n",
        "\n",
        "# ф-ция со средним взвешенным по tfidf\n",
        "\n",
        "def text_vector(text, model):\n",
        "    res = np.zeros(250)\n",
        "    count = 0\n",
        "    total_weights = 0\n",
        "    for word in text:\n",
        "        try:\n",
        "            res += model.wv[word] *  w_weights[word]\n",
        "            count += 1\n",
        "            total_weights += w_weights[word]\n",
        "        except:\n",
        "            pass\n",
        "    if count > 0:\n",
        "        return res/total_weights\n",
        "    else:\n",
        "        return res"
      ]
    },
    {
      "cell_type": "code",
      "execution_count": 18,
      "id": "03a570ba",
      "metadata": {
        "id": "03a570ba"
      },
      "outputs": [],
      "source": [
        "from gensim.models import Word2Vec\n",
        "w2v_model = Word2Vec(token_texts, window=5, min_count=1, vector_size=250, negative=5)"
      ]
    },
    {
      "cell_type": "code",
      "execution_count": 19,
      "id": "54859571",
      "metadata": {
        "colab": {
          "base_uri": "https://localhost:8080/"
        },
        "id": "54859571",
        "outputId": "3ffb143f-d97b-4907-9d97-1a00598b865a"
      },
      "outputs": [
        {
          "output_type": "execute_result",
          "data": {
            "text/plain": [
              "[('work', 0.9995627999305725),\n",
              " ('around', 0.9994348287582397),\n",
              " ('photo', 0.9994277358055115),\n",
              " ('year', 0.9993476271629333),\n",
              " ('world', 0.9991898536682129),\n",
              " ('barely', 0.9991891384124756),\n",
              " ('fishing', 0.999168336391449),\n",
              " ('live', 0.9991295337677002),\n",
              " ('sweater', 0.9989940524101257),\n",
              " ('little', 0.9989932179450989)]"
            ]
          },
          "metadata": {},
          "execution_count": 19
        }
      ],
      "source": [
        "w2v_model.wv.most_similar('tank')"
      ]
    },
    {
      "cell_type": "code",
      "execution_count": 20,
      "id": "4c542601",
      "metadata": {
        "colab": {
          "base_uri": "https://localhost:8080/"
        },
        "id": "4c542601",
        "outputId": "8f1d160f-920c-48bd-f946-9def0e6b1de7"
      },
      "outputs": [
        {
          "output_type": "execute_result",
          "data": {
            "text/plain": [
              "[('trail', 0.9967429637908936),\n",
              " ('zone', 0.996718168258667),\n",
              " ('enough', 0.9966863989830017),\n",
              " ('pant', 0.9966512322425842),\n",
              " ('mountain', 0.996638298034668),\n",
              " ('day', 0.9966188073158264),\n",
              " ('wader', 0.9965829849243164),\n",
              " ('midsole', 0.9965746402740479),\n",
              " ('climb', 0.9965537190437317),\n",
              " ('sport', 0.9965531826019287)]"
            ]
          },
          "metadata": {},
          "execution_count": 20
        }
      ],
      "source": [
        "w2v_model.wv.most_similar('cami')"
      ]
    },
    {
      "cell_type": "code",
      "execution_count": 21,
      "id": "554d488e",
      "metadata": {
        "colab": {
          "base_uri": "https://localhost:8080/",
          "height": 49,
          "referenced_widgets": [
            "58c0fcf45d0c422298b7f6b60e2154ff",
            "309c5bd97b9f4087a347a5f005f355e3",
            "fa5e3a80c27e49218dcbb87a7997c08a",
            "0c1cb84f162e437e9220e218dbd39036",
            "642cd92197c248a48d104f3f0145c596",
            "1dbe81ce9c4f4717b7157c245d832edf",
            "750b0dd8230c409a8bff55be881657a4",
            "b0b6ce4f91454e06beff1223ba469dde",
            "0cca658b9c7d40ce8ac3f9242f745bff",
            "a8ab6f72fb7f40d895820d4127939352",
            "f436c821db9f40ac9787176bff1f2827"
          ]
        },
        "id": "554d488e",
        "outputId": "e1361b86-bafc-4bd8-98fc-a2e3b9f89bc0"
      },
      "outputs": [
        {
          "output_type": "display_data",
          "data": {
            "text/plain": [
              "  0%|          | 0/500 [00:00<?, ?it/s]"
            ],
            "application/vnd.jupyter.widget-view+json": {
              "version_major": 2,
              "version_minor": 0,
              "model_id": "58c0fcf45d0c422298b7f6b60e2154ff"
            }
          },
          "metadata": {}
        }
      ],
      "source": [
        "from tqdm import tqdm_notebook\n",
        "from scipy import sparse\n",
        "texts_w_mean_vect = [text_vector(text, w2v_model) for text in tqdm_notebook(token_texts)]\n",
        "np_texts_mean_vect = np.vstack(texts_w_mean_vect)\n",
        "w2v_vec= sparse.csr_matrix(np_texts_mean_vect)"
      ]
    },
    {
      "cell_type": "code",
      "execution_count": 22,
      "id": "bb9bc4ae",
      "metadata": {
        "scrolled": true,
        "colab": {
          "base_uri": "https://localhost:8080/",
          "height": 1000
        },
        "id": "bb9bc4ae",
        "outputId": "056e9294-6c43-413d-b371-c09190ca0ec5"
      },
      "outputs": [
        {
          "output_type": "display_data",
          "data": {
            "text/plain": [
              "<Figure size 640x480 with 1 Axes>"
            ],
            "image/png": "[encoded data removed]"
          },
          "metadata": {}
        },
        {
          "output_type": "execute_result",
          "data": {
            "text/plain": [
              "<pandas.io.formats.style.Styler at 0x7ea7e02a3b80>"
            ],
            "text/html": [
              "<style type=\"text/css\">\n",
              "</style>\n",
              "<table id=\"T_29624\" class=\"dataframe\">\n",
              "  <thead>\n",
              "    <tr>\n",
              "      <th class=\"blank level0\" >&nbsp;</th>\n",
              "      <th id=\"T_29624_level0_col0\" class=\"col_heading level0 col0\" >Title</th>\n",
              "      <th id=\"T_29624_level0_col1\" class=\"col_heading level0 col1\" >Desc</th>\n",
              "      <th id=\"T_29624_level0_col2\" class=\"col_heading level0 col2\" >Avg_simil_score</th>\n",
              "      <th id=\"T_29624_level0_col3\" class=\"col_heading level0 col3\" >Top_1_rec</th>\n",
              "      <th id=\"T_29624_level0_col4\" class=\"col_heading level0 col4\" >Top_2_rec</th>\n",
              "      <th id=\"T_29624_level0_col5\" class=\"col_heading level0 col5\" >Top_3_rec</th>\n",
              "    </tr>\n",
              "  </thead>\n",
              "  <tbody>\n",
              "    <tr>\n",
              "      <th id=\"T_29624_level0_row0\" class=\"row_heading level0 row0\" >200</th>\n",
              "      <td id=\"T_29624_row0_col0\" class=\"data row0 col0\" >Merino 1 tank </td>\n",
              "      <td id=\"T_29624_row0_col1\" class=\"data row0 col1\" >Merino 1 tank - Finespun and cool enough to lower the temperature of open trail runs, heated crags and the Laiki street market, this silky-soft yet highly durable jersey-knit tank is made with 63% merino wool spun around an all-recycled polyester (37%) core. Super-comfortable on its own in warm temperatures or beneath layers in cooler ones, it offers great technical performance: naturally resisting odor, moving moisture away from the skin and improving dry times, regulating body temperature, and maintaining a consistent stretch. The neck - with a smooth, self-fabric binding -invites ventilation but still covers a bra. We slow-wash our merino for next-to-skin softness. Machine-wash cold; lay flat to dry. Recyclable through the Common Threads Recycling Program.<br><br><b>Details:</b><ul> <li>\"Slow-washed merino wool resists odor naturally, insulates even when wet, is durable, stretches and provides superior performance and softness\"</li> <li>16.5 micron-gauge yarn and jersey-knit construction for luxurious hand</li> <li>\"All-recycled polyester core wicks moisture, while wool next to skin controls odor\"</li> <li>Softly scooped neckline ventilates while still covering bra</li> <li>Self-fabric neck and armhole binding for comfort</li> <li>Straight hem</li> <li>\"Machine-wash cold, lay flat to dry\"</li></ul><br><br><b>Fabric: </b>3.2-oz (108-g) 63% 16.5 micron chlorine-free merino wool/37% all-recycled polyester. Recyclable through the Common Threads Recycling Program<br><br><b>Weight: </b>(60 g 2.1 oz)<br><br>Made in USA.</td>\n",
              "      <td id=\"T_29624_row0_col2\" class=\"data row0 col2\" >0.970000</td>\n",
              "      <td id=\"T_29624_row0_col3\" class=\"data row0 col3\" >1.0 Merino 1 t-shirt - So soft it's worth lingering in, our lightest merino layer is made with 63% merino wool spun around an all-recycled polyester (37%) core. Super-comfortable on its own in warm temperatures or beneath layers in cooler ones, this silky yet highly durable jersey-knit offers great technical performance: naturally resisting odor, moving moisture away from the skin and improving dry times, regulating body temperature, and maintaining a consistent stretch. The neck - with a smooth self-fabric binding - invites ventilation but still covers a bra. We slow-wash our merino for next-to-skin softness. Machine-wash cold; lay flat to dry. Recyclable through the Common Threads Recycling Program.<br><br><b>Details:</b><ul> <li>\"Slow-washed merino wool resists odor naturally, insulates even when wet, is durable, stretches and provides superior performance and softness\"</li> <li>16.5 micron-gauge yarn and jersey-knit construction for luxurious hand</li> <li>\"All-recycled polyester core wicks moisture, while wool next to skin controls odor\"</li> <li>Softly scooped neckline ventilates while still covering bra</li> <li>Self-fabric neck binding for comfort</li> <li>Straight hem</li> <li>\"Machine-wash cold, lay flat to dry\"</li></ul><br><br><b>Fabric: </b>3.2-oz (108-g) 63% 16.5 micron chlorine-free merino wool/37% all-recycled polyester. Recyclable through the Common Threads Recycling Program<br><br><b>Weight: </b>73 g (2.6 oz)<br><br>Made in USA.</td>\n",
              "      <td id=\"T_29624_row0_col4\" class=\"data row0 col4\" >1.0 Merino 1 crew - Our lightest merino layer, this silky-soft yet highly durable jersey-knit is made with 63% merino wool spun around an all-recycled polyester (37%) core. Super-comfortable on its own in warm temperatures or beneath layers in cooler ones, it offers great technical performance: naturally resisting odor, moving moisture away from the skin and improving dry times, regulating body temperature, and maintaining a consistent stretch. The neck - with a smooth self-fabric binding - invites ventilation but still covers a bra. We slow-wash our merino for next-to-skin softness. Machine-wash cold; lay flat to dry. Recyclable through the Common Threads Recycling Program.<br><br><b>Details:</b><ul> <li>\"Slow-washed merino wool resists odor naturally, insulates even when wet, is durable, stretches and provides superior performance and softness\"</li> <li>16.5 micron-gauge yarn and jersey-knit construction for luxurious hand</li> <li>\"All-recycled polyester core wicks moisture, while wool next to skin controls odor\"</li> <li>Softly scooped neckline ventilates while still covering bra</li> <li>Self-fabric neck binding for comfort</li> <li>Straight hem</li> <li>\"Machine-wash cold, lay flat to dry\"</li></ul><br><br><b>Fabric: </b>3.2-oz (108-g) 63% 16.5 micron chlorine-free merino wool/37% all-recycled polyester. Recyclable through the Common Threads Recycling Program<br><br><b>Weight: </b>(95 g 3.3 oz)<br><br>Made in USA.</td>\n",
              "      <td id=\"T_29624_row0_col5\" class=\"data row0 col5\" >1.0 Merino 1 graphic t-shirt - Feels as good as a laugh. Our lightest merino layer, this silky-soft yet highly durable jersey-knit is made with 63% merino wool spun around a an all-recycled polyester (37%) core. Super-comfortable on its own in warm temperatures or beneath layers in cooler ones, it offers great technical performance: naturally resisting odor, moving moisture away from the skin and improving dry times, regulating body temperature, and maintaining a consistent stretch. The neck - with a smooth, self-fabric binding - invites ventilation but still covers a bra. We slow-wash our merino for next-to-skin softness. Machine-wash cold; lay flat to dry. Recyclable through the Common Threads Recycling Program.<br><br><b>Details:</b><ul> <li>\"Slow-washed merino wool resists odor naturally, insulates even when wet, is durable, stretches and provides superior performance and softness; 16.5 micron-gauge yarn and jersey-knit construction for luxurious hand\"</li> <li>\"All-recycled polyester core wicks moisture, while wool next to skin controls odor\"</li> <li>Softly scooped neckline ventilates while still covering bra</li> <li>Self-fabric neck binding for comfort</li> <li>Soft graphic print doesn't impede performance</li> <li>Straight hem</li> <li>\"Machine-wash cold, lay flat to dry\"</li></ul><br><br><b>Fabric: </b>3.2-oz (108-g) 63% 16.5 micron chlorine-free merino wool/37% all-recycled polyester. Recyclable through the Common Threads Recycling Program<br><br><b>Weight: </b>73 g (2.6 oz)<br><br>Made in USA.</td>\n",
              "    </tr>\n",
              "  </tbody>\n",
              "</table>\n"
            ]
          },
          "metadata": {},
          "execution_count": 22
        }
      ],
      "source": [
        "rec = sim_review(df, w2v_vec, threshold = 0.6)\n",
        "rec[200:201].style"
      ]
    },
    {
      "cell_type": "code",
      "execution_count": 23,
      "id": "59221850",
      "metadata": {
        "scrolled": true,
        "colab": {
          "base_uri": "https://localhost:8080/",
          "height": 682
        },
        "id": "59221850",
        "outputId": "88ff45da-c782-4acf-a227-9ecbb8266da7"
      },
      "outputs": [
        {
          "output_type": "execute_result",
          "data": {
            "text/plain": [
              "<pandas.io.formats.style.Styler at 0x7ea7e55fdcf0>"
            ],
            "text/html": [
              "<style type=\"text/css\">\n",
              "</style>\n",
              "<table id=\"T_158e0\" class=\"dataframe\">\n",
              "  <thead>\n",
              "    <tr>\n",
              "      <th class=\"blank level0\" >&nbsp;</th>\n",
              "      <th id=\"T_158e0_level0_col0\" class=\"col_heading level0 col0\" >Title</th>\n",
              "      <th id=\"T_158e0_level0_col1\" class=\"col_heading level0 col1\" >Desc</th>\n",
              "      <th id=\"T_158e0_level0_col2\" class=\"col_heading level0 col2\" >Avg_simil_score</th>\n",
              "      <th id=\"T_158e0_level0_col3\" class=\"col_heading level0 col3\" >Top_1_rec</th>\n",
              "      <th id=\"T_158e0_level0_col4\" class=\"col_heading level0 col4\" >Top_2_rec</th>\n",
              "      <th id=\"T_158e0_level0_col5\" class=\"col_heading level0 col5\" >Top_3_rec</th>\n",
              "    </tr>\n",
              "  </thead>\n",
              "  <tbody>\n",
              "    <tr>\n",
              "      <th id=\"T_158e0_level0_row0\" class=\"row_heading level0 row0\" >300</th>\n",
              "      <td id=\"T_158e0_row0_col0\" class=\"data row0 col0\" >Active classic cami </td>\n",
              "      <td id=\"T_158e0_row0_col1\" class=\"data row0 col1\" >Active classic cami - Worn under a dry top or as a base layer when topping 14,000 feet; the form-fitting Active Classic Cami will toe the line on any expedition. The 360-degree built-in shelf bra and adjustable shoulder straps won't slip or dig into your skin. The tank's supersoft nylon/spandex fabric blend (94%/6%) and seamless tube construction prevent chafing. Longer torso coverage pairs well with low-rise styles.<br><br><b>Details:</b><ul> <li>Supersoft nylon/spandex blend for next-to-skin comfort</li> <li>Seamless construction</li> <li>\"360-degree shelf bra with adjustable, nonslip shoulder straps\"</li> <li>\"Appropriate length for pairing with low-rise style pants, shorts or skirts\"</li></ul><br><br><b>Fabric: </b>4.6-oz 94% nylon/6% spandex with moisture-wicking performance<br><br><b>Weight: </b>(72 g 2.5 oz)<br><br>Made in Israel.</td>\n",
              "      <td id=\"T_158e0_row0_col2\" class=\"data row0 col2\" >0.970000</td>\n",
              "      <td id=\"T_158e0_row0_col3\" class=\"data row0 col3\" >1.0 Active boy shorts - We've worn these versatile, feminine boy shorts as on-the-fly bathing suit bottoms, to Bikram yoga class, as sleepwear - their functionality is limitless. Low-rise Active Boy Shorts are tube-constructed to eliminate chafing side seams, and their soft, technical fabric breathes and wicks moisture to keep you comfortable and dry. We've shortened the flat waistband in front for a fit that won't roll or bind; stretchy shaped openings at legs are newly redesigned with less fabric to minimize bunching. Solids and prints: 4.6-oz 93% nylon/7% spandex.<br><br><b>Details:</b><ul> <li>\"Ultrasoft, lightweight fabric with stretch and moisture management\"</li> <li>Seamless construction</li> <li>\"Waistband and shaped leg openings lie flat, won't roll or bind for well deserved comfort and mobility\"</li></ul><br><br><b>Fabric: </b>\"4.6-oz 93% nylon/7% spandex, with moisture-wicking performance\"<br><br><b>Weight: </b>(31 g 1.1 oz)<br><br>Made in Israel.</td>\n",
              "      <td id=\"T_158e0_row0_col4\" class=\"data row0 col4\" >1.0 Corinne dress - After a day of Rivermouth's glassy offshore, slide on the Corinne Dress for shrimp tacos at the harbor. Featuring a deep V-neck with wide straps, the dress has an effortless drape, and is made from stretchy, quick-dry fabric (86% nylon/14% spandex) for an active disposition. A supportive double bodice with flattering shirred detail uplifts; front panel inset helps with contouring. Hem falls above the knee.<br><br><b>Details:</b><ul> <li>\"Stretchy, soft, synthetic jersey knit\"</li> <li>Wide straps and flattering V-front detail</li> <li>Supportive double bodice with shirring for shaping</li> <li>Front panel inset for contouring</li> <li>Hem falls above the knee</li></ul><br><br><b>Fabric: </b>7-oz 86% nylon/14% spandex smooth-faced jersey knit with moisture-wicking performance<br><br><b>Weight: </b>(311 g 10.8 oz)<br><br>Made in Colombia.</td>\n",
              "      <td id=\"T_158e0_row0_col5\" class=\"data row0 col5\" >1.0 Active mesh bra - Despite its inability to act as a belay slave, our Active Mesh Bra makes a perfect climbing partner. The body-conforming fabric provides fluid support and wicks moisture, while the seamless construction eliminates chafing. Comfortable nonslip straps won't dig into skin; they contour to a flattering V in back for unobstructed movement. The full-coverage design can go solo, or partner with layers. Made from 95% nylon mesh/5% spandex.<br><br><b>Details:</b><ul> <li>\"Stretchy, body-conforming nylon/spandex blend is ultradurable, supportive and wicks moisture to keep skin dry\"</li> <li>Seamless construction</li> <li>\"Comfortable, nonslip straps meet V-style in back\"</li></ul><br><br><b>Fabric: </b>8.1-oz 95% nylon mesh/5% spandex with moisture-wicking performance<br><br><b>Weight: </b>(72 g 2.5 oz)<br><br>Made in Israel.</td>\n",
              "    </tr>\n",
              "  </tbody>\n",
              "</table>\n"
            ]
          },
          "metadata": {},
          "execution_count": 23
        }
      ],
      "source": [
        "rec[300:301].style"
      ]
    },
    {
      "cell_type": "markdown",
      "source": [
        "### Использование готовой модели - взвешенный на tfidf"
      ],
      "metadata": {
        "id": "2fYI_7o00Lxa"
      },
      "id": "2fYI_7o00Lxa"
    },
    {
      "cell_type": "code",
      "execution_count": 24,
      "id": "e7ba48e5",
      "metadata": {
        "colab": {
          "base_uri": "https://localhost:8080/"
        },
        "id": "e7ba48e5",
        "outputId": "312beac9-4a46-4641-d742-6201c14f0312"
      },
      "outputs": [
        {
          "output_type": "stream",
          "name": "stdout",
          "text": [
            "[==================================================] 100.0% 1662.8/1662.8MB downloaded\n"
          ]
        }
      ],
      "source": [
        "import gensim\n",
        "import gensim.downloader\n",
        "\n",
        "w2v_ready = gensim.downloader.load('word2vec-google-news-300')"
      ]
    },
    {
      "cell_type": "markdown",
      "source": [
        "Немного поменяем функцию, так как готовые модели не используют wv:"
      ],
      "metadata": {
        "id": "aWIYjS3L04FJ"
      },
      "id": "aWIYjS3L04FJ"
    },
    {
      "cell_type": "code",
      "execution_count": 25,
      "id": "a71b720d",
      "metadata": {
        "id": "a71b720d"
      },
      "outputs": [],
      "source": [
        "def text_vector(text, model):\n",
        "    res = np.zeros(300)\n",
        "    count = 0\n",
        "    total_weights = 0\n",
        "    for word in text:\n",
        "        try:\n",
        "            res += model[word] *  w_weights[word]\n",
        "            count += 1\n",
        "            total_weights += w_weights[word]\n",
        "        except:\n",
        "            pass\n",
        "    if count > 0:\n",
        "        return res/total_weights\n",
        "    else:\n",
        "        return res"
      ]
    },
    {
      "cell_type": "code",
      "execution_count": 26,
      "id": "526f8283",
      "metadata": {
        "colab": {
          "referenced_widgets": [
            "7b54a4ff1b9244a986d396ee565a3327",
            "71f8137b2bba49978b09131e92d1cba6",
            "cd0154697fd74f109b8c8ad0ff4a3f48",
            "8b6b32164bc643fdb7d0103555522299",
            "aea0d46805084d5585fbe751efb17fc8",
            "005d9c568e7041eb98f5d05717a60abe",
            "aef9fa9e83664897beba5c7cf5670581",
            "c4de0077b2294629ac212b6afa7e9541",
            "698a0bafba0e46a7b7ca43298051cb6e",
            "cd73d288632a4b9a8079125d990c5a1a",
            "0a7ad83303dc4bc7ab5e4003b61a07b2"
          ],
          "base_uri": "https://localhost:8080/",
          "height": 49
        },
        "id": "526f8283",
        "outputId": "b312c43a-5c25-49d9-91eb-595eff75b696"
      },
      "outputs": [
        {
          "output_type": "display_data",
          "data": {
            "text/plain": [
              "  0%|          | 0/500 [00:00<?, ?it/s]"
            ],
            "application/vnd.jupyter.widget-view+json": {
              "version_major": 2,
              "version_minor": 0,
              "model_id": "7b54a4ff1b9244a986d396ee565a3327"
            }
          },
          "metadata": {}
        }
      ],
      "source": [
        "from tqdm import tqdm_notebook\n",
        "texts_w_mean_vect = [text_vector(text, w2v_ready) for text in tqdm_notebook(token_texts)]\n",
        "np_texts_mean_vect = np.vstack(texts_w_mean_vect)\n",
        "w2v_vec2 = sparse.csr_matrix(np_texts_mean_vect)"
      ]
    },
    {
      "cell_type": "code",
      "execution_count": 27,
      "id": "8126019c",
      "metadata": {
        "scrolled": true,
        "id": "8126019c",
        "outputId": "c6ef0478-c790-4b52-9ec1-bc27cad5db9d",
        "colab": {
          "base_uri": "https://localhost:8080/",
          "height": 1000
        }
      },
      "outputs": [
        {
          "output_type": "display_data",
          "data": {
            "text/plain": [
              "<Figure size 640x480 with 1 Axes>"
            ],
            "image/png": "[encoded data removed]"
          },
          "metadata": {}
        },
        {
          "output_type": "execute_result",
          "data": {
            "text/plain": [
              "<pandas.io.formats.style.Styler at 0x7ea7de183d60>"
            ],
            "text/html": [
              "<style type=\"text/css\">\n",
              "</style>\n",
              "<table id=\"T_6014a\" class=\"dataframe\">\n",
              "  <thead>\n",
              "    <tr>\n",
              "      <th class=\"blank level0\" >&nbsp;</th>\n",
              "      <th id=\"T_6014a_level0_col0\" class=\"col_heading level0 col0\" >Title</th>\n",
              "      <th id=\"T_6014a_level0_col1\" class=\"col_heading level0 col1\" >Desc</th>\n",
              "      <th id=\"T_6014a_level0_col2\" class=\"col_heading level0 col2\" >Avg_simil_score</th>\n",
              "      <th id=\"T_6014a_level0_col3\" class=\"col_heading level0 col3\" >Top_1_rec</th>\n",
              "      <th id=\"T_6014a_level0_col4\" class=\"col_heading level0 col4\" >Top_2_rec</th>\n",
              "      <th id=\"T_6014a_level0_col5\" class=\"col_heading level0 col5\" >Top_3_rec</th>\n",
              "    </tr>\n",
              "  </thead>\n",
              "  <tbody>\n",
              "    <tr>\n",
              "      <th id=\"T_6014a_level0_row0\" class=\"row_heading level0 row0\" >200</th>\n",
              "      <td id=\"T_6014a_row0_col0\" class=\"data row0 col0\" >Merino 1 tank </td>\n",
              "      <td id=\"T_6014a_row0_col1\" class=\"data row0 col1\" >Merino 1 tank - Finespun and cool enough to lower the temperature of open trail runs, heated crags and the Laiki street market, this silky-soft yet highly durable jersey-knit tank is made with 63% merino wool spun around an all-recycled polyester (37%) core. Super-comfortable on its own in warm temperatures or beneath layers in cooler ones, it offers great technical performance: naturally resisting odor, moving moisture away from the skin and improving dry times, regulating body temperature, and maintaining a consistent stretch. The neck - with a smooth, self-fabric binding -invites ventilation but still covers a bra. We slow-wash our merino for next-to-skin softness. Machine-wash cold; lay flat to dry. Recyclable through the Common Threads Recycling Program.<br><br><b>Details:</b><ul> <li>\"Slow-washed merino wool resists odor naturally, insulates even when wet, is durable, stretches and provides superior performance and softness\"</li> <li>16.5 micron-gauge yarn and jersey-knit construction for luxurious hand</li> <li>\"All-recycled polyester core wicks moisture, while wool next to skin controls odor\"</li> <li>Softly scooped neckline ventilates while still covering bra</li> <li>Self-fabric neck and armhole binding for comfort</li> <li>Straight hem</li> <li>\"Machine-wash cold, lay flat to dry\"</li></ul><br><br><b>Fabric: </b>3.2-oz (108-g) 63% 16.5 micron chlorine-free merino wool/37% all-recycled polyester. Recyclable through the Common Threads Recycling Program<br><br><b>Weight: </b>(60 g 2.1 oz)<br><br>Made in USA.</td>\n",
              "      <td id=\"T_6014a_row0_col2\" class=\"data row0 col2\" >0.780000</td>\n",
              "      <td id=\"T_6014a_row0_col3\" class=\"data row0 col3\" >1.0 Merino 1 crew - Our lightest merino layer, this silky-soft yet highly durable jersey-knit is made with 63% merino wool spun around an all-recycled polyester (37%) core. Super-comfortable on its own in warm temperatures or beneath layers in cooler ones, it offers great technical performance: naturally resisting odor, moving moisture away from the skin and improving dry times, regulating body temperature, and maintaining a consistent stretch. The neck - with a smooth self-fabric binding - invites ventilation but still covers a bra. We slow-wash our merino for next-to-skin softness. Machine-wash cold; lay flat to dry. Recyclable through the Common Threads Recycling Program.<br><br><b>Details:</b><ul> <li>\"Slow-washed merino wool resists odor naturally, insulates even when wet, is durable, stretches and provides superior performance and softness\"</li> <li>16.5 micron-gauge yarn and jersey-knit construction for luxurious hand</li> <li>\"All-recycled polyester core wicks moisture, while wool next to skin controls odor\"</li> <li>Softly scooped neckline ventilates while still covering bra</li> <li>Self-fabric neck binding for comfort</li> <li>Straight hem</li> <li>\"Machine-wash cold, lay flat to dry\"</li></ul><br><br><b>Fabric: </b>3.2-oz (108-g) 63% 16.5 micron chlorine-free merino wool/37% all-recycled polyester. Recyclable through the Common Threads Recycling Program<br><br><b>Weight: </b>(95 g 3.3 oz)<br><br>Made in USA.</td>\n",
              "      <td id=\"T_6014a_row0_col4\" class=\"data row0 col4\" >1.0 Merino 1 t-shirt - So soft it's worth lingering in, our lightest merino layer is made with 63% merino wool spun around an all-recycled polyester (37%) core. Super-comfortable on its own in warm temperatures or beneath layers in cooler ones, this silky yet highly durable jersey-knit offers great technical performance: naturally resisting odor, moving moisture away from the skin and improving dry times, regulating body temperature, and maintaining a consistent stretch. The neck - with a smooth self-fabric binding - invites ventilation but still covers a bra. We slow-wash our merino for next-to-skin softness. Machine-wash cold; lay flat to dry. Recyclable through the Common Threads Recycling Program.<br><br><b>Details:</b><ul> <li>\"Slow-washed merino wool resists odor naturally, insulates even when wet, is durable, stretches and provides superior performance and softness\"</li> <li>16.5 micron-gauge yarn and jersey-knit construction for luxurious hand</li> <li>\"All-recycled polyester core wicks moisture, while wool next to skin controls odor\"</li> <li>Softly scooped neckline ventilates while still covering bra</li> <li>Self-fabric neck binding for comfort</li> <li>Straight hem</li> <li>\"Machine-wash cold, lay flat to dry\"</li></ul><br><br><b>Fabric: </b>3.2-oz (108-g) 63% 16.5 micron chlorine-free merino wool/37% all-recycled polyester. Recyclable through the Common Threads Recycling Program<br><br><b>Weight: </b>73 g (2.6 oz)<br><br>Made in USA.</td>\n",
              "      <td id=\"T_6014a_row0_col5\" class=\"data row0 col5\" >1.0 Merino 1 graphic t-shirt - Feels as good as a laugh. Our lightest merino layer, this silky-soft yet highly durable jersey-knit is made with 63% merino wool spun around a an all-recycled polyester (37%) core. Super-comfortable on its own in warm temperatures or beneath layers in cooler ones, it offers great technical performance: naturally resisting odor, moving moisture away from the skin and improving dry times, regulating body temperature, and maintaining a consistent stretch. The neck - with a smooth, self-fabric binding - invites ventilation but still covers a bra. We slow-wash our merino for next-to-skin softness. Machine-wash cold; lay flat to dry. Recyclable through the Common Threads Recycling Program.<br><br><b>Details:</b><ul> <li>\"Slow-washed merino wool resists odor naturally, insulates even when wet, is durable, stretches and provides superior performance and softness; 16.5 micron-gauge yarn and jersey-knit construction for luxurious hand\"</li> <li>\"All-recycled polyester core wicks moisture, while wool next to skin controls odor\"</li> <li>Softly scooped neckline ventilates while still covering bra</li> <li>Self-fabric neck binding for comfort</li> <li>Soft graphic print doesn't impede performance</li> <li>Straight hem</li> <li>\"Machine-wash cold, lay flat to dry\"</li></ul><br><br><b>Fabric: </b>3.2-oz (108-g) 63% 16.5 micron chlorine-free merino wool/37% all-recycled polyester. Recyclable through the Common Threads Recycling Program<br><br><b>Weight: </b>73 g (2.6 oz)<br><br>Made in USA.</td>\n",
              "    </tr>\n",
              "  </tbody>\n",
              "</table>\n"
            ]
          },
          "metadata": {},
          "execution_count": 27
        }
      ],
      "source": [
        "rec = sim_review(df, w2v_vec2, threshold = 0.6)\n",
        "rec[200:201].style"
      ]
    },
    {
      "cell_type": "code",
      "execution_count": 28,
      "id": "254131e6",
      "metadata": {
        "scrolled": true,
        "id": "254131e6",
        "outputId": "9e627ad0-84d5-4dbe-d707-3a9e5cb35992",
        "colab": {
          "base_uri": "https://localhost:8080/",
          "height": 717
        }
      },
      "outputs": [
        {
          "output_type": "execute_result",
          "data": {
            "text/plain": [
              "<pandas.io.formats.style.Styler at 0x7ea6ec221360>"
            ],
            "text/html": [
              "<style type=\"text/css\">\n",
              "</style>\n",
              "<table id=\"T_76b01\" class=\"dataframe\">\n",
              "  <thead>\n",
              "    <tr>\n",
              "      <th class=\"blank level0\" >&nbsp;</th>\n",
              "      <th id=\"T_76b01_level0_col0\" class=\"col_heading level0 col0\" >Title</th>\n",
              "      <th id=\"T_76b01_level0_col1\" class=\"col_heading level0 col1\" >Desc</th>\n",
              "      <th id=\"T_76b01_level0_col2\" class=\"col_heading level0 col2\" >Avg_simil_score</th>\n",
              "      <th id=\"T_76b01_level0_col3\" class=\"col_heading level0 col3\" >Top_1_rec</th>\n",
              "      <th id=\"T_76b01_level0_col4\" class=\"col_heading level0 col4\" >Top_2_rec</th>\n",
              "      <th id=\"T_76b01_level0_col5\" class=\"col_heading level0 col5\" >Top_3_rec</th>\n",
              "    </tr>\n",
              "  </thead>\n",
              "  <tbody>\n",
              "    <tr>\n",
              "      <th id=\"T_76b01_level0_row0\" class=\"row_heading level0 row0\" >300</th>\n",
              "      <td id=\"T_76b01_row0_col0\" class=\"data row0 col0\" >Active classic cami </td>\n",
              "      <td id=\"T_76b01_row0_col1\" class=\"data row0 col1\" >Active classic cami - Worn under a dry top or as a base layer when topping 14,000 feet; the form-fitting Active Classic Cami will toe the line on any expedition. The 360-degree built-in shelf bra and adjustable shoulder straps won't slip or dig into your skin. The tank's supersoft nylon/spandex fabric blend (94%/6%) and seamless tube construction prevent chafing. Longer torso coverage pairs well with low-rise styles.<br><br><b>Details:</b><ul> <li>Supersoft nylon/spandex blend for next-to-skin comfort</li> <li>Seamless construction</li> <li>\"360-degree shelf bra with adjustable, nonslip shoulder straps\"</li> <li>\"Appropriate length for pairing with low-rise style pants, shorts or skirts\"</li></ul><br><br><b>Fabric: </b>4.6-oz 94% nylon/6% spandex with moisture-wicking performance<br><br><b>Weight: </b>(72 g 2.5 oz)<br><br>Made in Israel.</td>\n",
              "      <td id=\"T_76b01_row0_col2\" class=\"data row0 col2\" >0.820000</td>\n",
              "      <td id=\"T_76b01_row0_col3\" class=\"data row0 col3\" >0.94 Sport top - The loose, performance fit of the Women's Sport Top won't hike up or become annoyingly shifty during long-distance trail mileage. The extra-long, seamless racerback tank has a looser silhouette that increases airflow and eliminates hem migration. A comfortable built-in sports bra manages high impact activities; nylon/spandex (94%/6%) fabric blend provides moisture-wicking performance.<br><br><b>Details:</b><ul> <li>Supersoft nylon/spandex blend for next-to-skin comfort</li> <li>Seamless construction</li> <li>360-degree built-in sports bra</li> <li>\"Perfect length for pairing with running shorts, yoga pants or everyday styles\"</li></ul><br><br><b>Fabric: </b>Tank: 9.5-oz 94% nylon/6% spandex. Built-in sports bra: 9.5-oz 94% nylon/6% spandex. Both with moisture-wicking performance<br><br><b>Weight: </b>144 g (5.1 oz)<br><br>Made in Israel.</td>\n",
              "      <td id=\"T_76b01_row0_col4\" class=\"data row0 col4\" >0.91 Morning glory tights - This everyday essential features a clean-cut design in a stretch knit with excellent shape retention. The soft, substantial nylon blend (86% nylon/14% spandex) flows lightly over skin and dries quickly after a humid hike or passing squall. We've added topstitch detailing and a more contoured fit this season. The wide, low-rise waist provides chafe-free comfort. Inseam (size M) is 32\".<br><br><b>Details:</b><ul> <li>\"Substantial, ultra-stretchy and soft synthetic knit with excellent shape retention; wicks moisture and dries fast\"</li> <li>\"Flattering, wide, flat waistband\"</li> <li>\"Curved back-yoke detailing and asymmetric side seams, contoured fit through thigh, slight flare at hem\"</li> <li>Flat-seam construction is soft against skin</li> <li>Low rise</li> <li>\"Inseam (size M) is 32\"\"\"</li></ul><br><br><b>Fabric: </b>7-oz 86% nylon/14% spandex smooth-faced jersey knit with moisture-wicking performance<br><br><b>Weight: </b>(271 g 9.4 oz)<br><br>Made in Colombia.</td>\n",
              "      <td id=\"T_76b01_row0_col5\" class=\"data row0 col5\" >0.91 Active mesh bra - Despite its inability to act as a belay slave, our Active Mesh Bra makes a perfect climbing partner. The body-conforming fabric provides fluid support and wicks moisture, while the seamless construction eliminates chafing. Comfortable nonslip straps won't dig into skin; they contour to a flattering V in back for unobstructed movement. The full-coverage design can go solo, or partner with layers. Made from 95% nylon mesh/5% spandex.<br><br><b>Details:</b><ul> <li>\"Stretchy, body-conforming nylon/spandex blend is ultradurable, supportive and wicks moisture to keep skin dry\"</li> <li>Seamless construction</li> <li>\"Comfortable, nonslip straps meet V-style in back\"</li></ul><br><br><b>Fabric: </b>8.1-oz 95% nylon mesh/5% spandex with moisture-wicking performance<br><br><b>Weight: </b>(72 g 2.5 oz)<br><br>Made in Israel.</td>\n",
              "    </tr>\n",
              "  </tbody>\n",
              "</table>\n"
            ]
          },
          "metadata": {},
          "execution_count": 28
        }
      ],
      "source": [
        "rec[300:301].style"
      ]
    },
    {
      "cell_type": "markdown",
      "source": [
        "### Обучение word2vec на имеющемся корпусе текстов - средний арифметический\n",
        "\n",
        "Обновим немного функцию для использования среднего арифметического"
      ],
      "metadata": {
        "id": "BCbL2z0P0Tsh"
      },
      "id": "BCbL2z0P0Tsh"
    },
    {
      "cell_type": "code",
      "execution_count": 29,
      "id": "86306fe1",
      "metadata": {
        "id": "86306fe1"
      },
      "outputs": [],
      "source": [
        "import numpy as np\n",
        "# ф-ция для обычного среднего\n",
        "def vectorize(words):\n",
        "    words_vecs = [w2v_model.wv[word] for word in words if word in w2v_model.wv]\n",
        "    if len(words_vecs) == 0:\n",
        "        return np.zeros(250)\n",
        "    words_vecs = np.array(words_vecs)\n",
        "    return words_vecs.mean(axis=0)"
      ]
    },
    {
      "cell_type": "code",
      "execution_count": 30,
      "id": "843c205c",
      "metadata": {
        "id": "843c205c"
      },
      "outputs": [],
      "source": [
        "w2vec2 = np.array([vectorize(sentence) for sentence in token_texts])\n",
        "w2v_vec2= sparse.csr_matrix(w2vec2)"
      ]
    },
    {
      "cell_type": "code",
      "execution_count": 31,
      "id": "b7defcda",
      "metadata": {
        "scrolled": true,
        "id": "b7defcda",
        "outputId": "3b106df6-f90c-4aa2-e4ad-c8a7afce8195",
        "colab": {
          "base_uri": "https://localhost:8080/",
          "height": 1000
        }
      },
      "outputs": [
        {
          "output_type": "display_data",
          "data": {
            "text/plain": [
              "<Figure size 640x480 with 1 Axes>"
            ],
            "image/png": "[encoded data removed]"
          },
          "metadata": {}
        },
        {
          "output_type": "execute_result",
          "data": {
            "text/plain": [
              "<pandas.io.formats.style.Styler at 0x7ea6ec116d70>"
            ],
            "text/html": [
              "<style type=\"text/css\">\n",
              "</style>\n",
              "<table id=\"T_a986d\" class=\"dataframe\">\n",
              "  <thead>\n",
              "    <tr>\n",
              "      <th class=\"blank level0\" >&nbsp;</th>\n",
              "      <th id=\"T_a986d_level0_col0\" class=\"col_heading level0 col0\" >Title</th>\n",
              "      <th id=\"T_a986d_level0_col1\" class=\"col_heading level0 col1\" >Desc</th>\n",
              "      <th id=\"T_a986d_level0_col2\" class=\"col_heading level0 col2\" >Avg_simil_score</th>\n",
              "      <th id=\"T_a986d_level0_col3\" class=\"col_heading level0 col3\" >Top_1_rec</th>\n",
              "      <th id=\"T_a986d_level0_col4\" class=\"col_heading level0 col4\" >Top_2_rec</th>\n",
              "      <th id=\"T_a986d_level0_col5\" class=\"col_heading level0 col5\" >Top_3_rec</th>\n",
              "    </tr>\n",
              "  </thead>\n",
              "  <tbody>\n",
              "    <tr>\n",
              "      <th id=\"T_a986d_level0_row0\" class=\"row_heading level0 row0\" >200</th>\n",
              "      <td id=\"T_a986d_row0_col0\" class=\"data row0 col0\" >Merino 1 tank </td>\n",
              "      <td id=\"T_a986d_row0_col1\" class=\"data row0 col1\" >Merino 1 tank - Finespun and cool enough to lower the temperature of open trail runs, heated crags and the Laiki street market, this silky-soft yet highly durable jersey-knit tank is made with 63% merino wool spun around an all-recycled polyester (37%) core. Super-comfortable on its own in warm temperatures or beneath layers in cooler ones, it offers great technical performance: naturally resisting odor, moving moisture away from the skin and improving dry times, regulating body temperature, and maintaining a consistent stretch. The neck - with a smooth, self-fabric binding -invites ventilation but still covers a bra. We slow-wash our merino for next-to-skin softness. Machine-wash cold; lay flat to dry. Recyclable through the Common Threads Recycling Program.<br><br><b>Details:</b><ul> <li>\"Slow-washed merino wool resists odor naturally, insulates even when wet, is durable, stretches and provides superior performance and softness\"</li> <li>16.5 micron-gauge yarn and jersey-knit construction for luxurious hand</li> <li>\"All-recycled polyester core wicks moisture, while wool next to skin controls odor\"</li> <li>Softly scooped neckline ventilates while still covering bra</li> <li>Self-fabric neck and armhole binding for comfort</li> <li>Straight hem</li> <li>\"Machine-wash cold, lay flat to dry\"</li></ul><br><br><b>Fabric: </b>3.2-oz (108-g) 63% 16.5 micron chlorine-free merino wool/37% all-recycled polyester. Recyclable through the Common Threads Recycling Program<br><br><b>Weight: </b>(60 g 2.1 oz)<br><br>Made in USA.</td>\n",
              "      <td id=\"T_a986d_row0_col2\" class=\"data row0 col2\" >0.980000</td>\n",
              "      <td id=\"T_a986d_row0_col3\" class=\"data row0 col3\" >1.0 Merino 1 graphic t-shirt - Feels as good as a laugh. Our lightest merino layer, this silky-soft yet highly durable jersey-knit is made with 63% merino wool spun around a an all-recycled polyester (37%) core. Super-comfortable on its own in warm temperatures or beneath layers in cooler ones, it offers great technical performance: naturally resisting odor, moving moisture away from the skin and improving dry times, regulating body temperature, and maintaining a consistent stretch. The neck - with a smooth, self-fabric binding - invites ventilation but still covers a bra. We slow-wash our merino for next-to-skin softness. Machine-wash cold; lay flat to dry. Recyclable through the Common Threads Recycling Program.<br><br><b>Details:</b><ul> <li>\"Slow-washed merino wool resists odor naturally, insulates even when wet, is durable, stretches and provides superior performance and softness; 16.5 micron-gauge yarn and jersey-knit construction for luxurious hand\"</li> <li>\"All-recycled polyester core wicks moisture, while wool next to skin controls odor\"</li> <li>Softly scooped neckline ventilates while still covering bra</li> <li>Self-fabric neck binding for comfort</li> <li>Soft graphic print doesn't impede performance</li> <li>Straight hem</li> <li>\"Machine-wash cold, lay flat to dry\"</li></ul><br><br><b>Fabric: </b>3.2-oz (108-g) 63% 16.5 micron chlorine-free merino wool/37% all-recycled polyester. Recyclable through the Common Threads Recycling Program<br><br><b>Weight: </b>73 g (2.6 oz)<br><br>Made in USA.</td>\n",
              "      <td id=\"T_a986d_row0_col4\" class=\"data row0 col4\" >1.0 Merino 2 bottoms - A stop-and-go pace, like that of alpine climbing or backcountry riding, can leave you with the shivers. These lightweight bottoms will help you stay dry and warm. Our most versatile merino layer for an active lifestyle in warm to cool weather, Merino 2 is made with 73% merino wool spun around an all-recycled polyester (27%) core for a luxurious hand, an improved dry time and enduring strength. Inherently soft and comfortable, merino naturally resists odor, moves moisture away from the skin, regulates body temperature, and stretches. Details include a brushed-elastic waistband, offset inseams and a functional fly. We slow-wash our merino for next-to-skin softness. Machine-wash cold; lay flat to dry. Recyclable through the Common Threads Recycling Program.<br><br><b>Details:</b><ul> <li>\"Slow-washed merino wool resists odor naturally, insulates even when wet, is durable and stretches, provides superior performance and softness\"</li> <li>18.5 micron-gauge yarn and jersey-knit construction for luxurious hand</li> <li>\"All-recycled polyester core wicks moisture, while wool next to skin controls odor\"</li> <li>Brushed elastic waistband and offset inseam prevent irritation</li> <li>Functional fly</li> <li>\"Machine-wash cold, lay flat to dry\"</li></ul><br><br><b>Fabric: </b>4.85-oz (165-g) 73% chlorine-free merino wool/27% all-recycled polyester. Recyclable through the Common Threads Recycling Program<br><br><b>Weight: </b>(170 g 5.9 oz)<br><br>Made in USA.</td>\n",
              "      <td id=\"T_a986d_row0_col5\" class=\"data row0 col5\" >1.0 Merino 1 t-shirt - So soft it's worth lingering in, our lightest merino layer is made with 63% merino wool spun around an all-recycled polyester (37%) core. Super-comfortable on its own in warm temperatures or beneath layers in cooler ones, this silky yet highly durable jersey-knit offers great technical performance: naturally resisting odor, moving moisture away from the skin and improving dry times, regulating body temperature, and maintaining a consistent stretch. The neck - with a smooth self-fabric binding - invites ventilation but still covers a bra. We slow-wash our merino for next-to-skin softness. Machine-wash cold; lay flat to dry. Recyclable through the Common Threads Recycling Program.<br><br><b>Details:</b><ul> <li>\"Slow-washed merino wool resists odor naturally, insulates even when wet, is durable, stretches and provides superior performance and softness\"</li> <li>16.5 micron-gauge yarn and jersey-knit construction for luxurious hand</li> <li>\"All-recycled polyester core wicks moisture, while wool next to skin controls odor\"</li> <li>Softly scooped neckline ventilates while still covering bra</li> <li>Self-fabric neck binding for comfort</li> <li>Straight hem</li> <li>\"Machine-wash cold, lay flat to dry\"</li></ul><br><br><b>Fabric: </b>3.2-oz (108-g) 63% 16.5 micron chlorine-free merino wool/37% all-recycled polyester. Recyclable through the Common Threads Recycling Program<br><br><b>Weight: </b>73 g (2.6 oz)<br><br>Made in USA.</td>\n",
              "    </tr>\n",
              "  </tbody>\n",
              "</table>\n"
            ]
          },
          "metadata": {},
          "execution_count": 31
        }
      ],
      "source": [
        "rec = sim_review(df, w2v_vec2, threshold = 0.6)\n",
        "rec[200:201].style"
      ]
    },
    {
      "cell_type": "code",
      "execution_count": 32,
      "id": "c681be04",
      "metadata": {
        "scrolled": true,
        "id": "c681be04",
        "outputId": "fd67829d-e887-47ff-8e49-95520fa0fe77",
        "colab": {
          "base_uri": "https://localhost:8080/",
          "height": 665
        }
      },
      "outputs": [
        {
          "output_type": "execute_result",
          "data": {
            "text/plain": [
              "<pandas.io.formats.style.Styler at 0x7ea6ec0eaaa0>"
            ],
            "text/html": [
              "<style type=\"text/css\">\n",
              "</style>\n",
              "<table id=\"T_c12f3\" class=\"dataframe\">\n",
              "  <thead>\n",
              "    <tr>\n",
              "      <th class=\"blank level0\" >&nbsp;</th>\n",
              "      <th id=\"T_c12f3_level0_col0\" class=\"col_heading level0 col0\" >Title</th>\n",
              "      <th id=\"T_c12f3_level0_col1\" class=\"col_heading level0 col1\" >Desc</th>\n",
              "      <th id=\"T_c12f3_level0_col2\" class=\"col_heading level0 col2\" >Avg_simil_score</th>\n",
              "      <th id=\"T_c12f3_level0_col3\" class=\"col_heading level0 col3\" >Top_1_rec</th>\n",
              "      <th id=\"T_c12f3_level0_col4\" class=\"col_heading level0 col4\" >Top_2_rec</th>\n",
              "      <th id=\"T_c12f3_level0_col5\" class=\"col_heading level0 col5\" >Top_3_rec</th>\n",
              "    </tr>\n",
              "  </thead>\n",
              "  <tbody>\n",
              "    <tr>\n",
              "      <th id=\"T_c12f3_level0_row0\" class=\"row_heading level0 row0\" >300</th>\n",
              "      <td id=\"T_c12f3_row0_col0\" class=\"data row0 col0\" >Active classic cami </td>\n",
              "      <td id=\"T_c12f3_row0_col1\" class=\"data row0 col1\" >Active classic cami - Worn under a dry top or as a base layer when topping 14,000 feet; the form-fitting Active Classic Cami will toe the line on any expedition. The 360-degree built-in shelf bra and adjustable shoulder straps won't slip or dig into your skin. The tank's supersoft nylon/spandex fabric blend (94%/6%) and seamless tube construction prevent chafing. Longer torso coverage pairs well with low-rise styles.<br><br><b>Details:</b><ul> <li>Supersoft nylon/spandex blend for next-to-skin comfort</li> <li>Seamless construction</li> <li>\"360-degree shelf bra with adjustable, nonslip shoulder straps\"</li> <li>\"Appropriate length for pairing with low-rise style pants, shorts or skirts\"</li></ul><br><br><b>Fabric: </b>4.6-oz 94% nylon/6% spandex with moisture-wicking performance<br><br><b>Weight: </b>(72 g 2.5 oz)<br><br>Made in Israel.</td>\n",
              "      <td id=\"T_c12f3_row0_col2\" class=\"data row0 col2\" >0.980000</td>\n",
              "      <td id=\"T_c12f3_row0_col3\" class=\"data row0 col3\" >1.0 Active boy shorts - We've worn these versatile, feminine boy shorts as on-the-fly bathing suit bottoms, to Bikram yoga class, as sleepwear - their functionality is limitless. Low-rise Active Boy Shorts are tube-constructed to eliminate chafing side seams, and their soft, technical fabric breathes and wicks moisture to keep you comfortable and dry. We've shortened the flat waistband in front for a fit that won't roll or bind; stretchy shaped openings at legs are newly redesigned with less fabric to minimize bunching. Solids and prints: 4.6-oz 93% nylon/7% spandex.<br><br><b>Details:</b><ul> <li>\"Ultrasoft, lightweight fabric with stretch and moisture management\"</li> <li>Seamless construction</li> <li>\"Waistband and shaped leg openings lie flat, won't roll or bind for well deserved comfort and mobility\"</li></ul><br><br><b>Fabric: </b>\"4.6-oz 93% nylon/7% spandex, with moisture-wicking performance\"<br><br><b>Weight: </b>(31 g 1.1 oz)<br><br>Made in Israel.</td>\n",
              "      <td id=\"T_c12f3_row0_col4\" class=\"data row0 col4\" >1.0 Girl's t-back one piece - A girl's trusted companion for Sunfish races, seashell collecting and learning to swan dive, this one-piece bathing suit features an easy-care blend of stretchy 6-oz 82% nylon/18% spandex to match the ebb and flow of her beach activities. It withstands exposure to sun, salt water and chlorine, and dries quickly. Racerback straps allow complete shoulder mobility; they stay put when arms start flying. Contrast binding on the straps and leg openings feels smooth against bare skin.<br><br><b>Details:</b><ul> <li>Racerback straps for comfort and extra mobility</li> <li>Contrast binding on leg openings and straps</li></ul><br><br><b>Fabric: </b>6-oz 82% nylon/18% spandex<br><br><b>Weight: </b>(83 g 2.9 oz)<br><br>Made in USA.</td>\n",
              "      <td id=\"T_c12f3_row0_col5\" class=\"data row0 col5\" >1.0 Corinne dress - After a day of Rivermouth's glassy offshore, slide on the Corinne Dress for shrimp tacos at the harbor. Featuring a deep V-neck with wide straps, the dress has an effortless drape, and is made from stretchy, quick-dry fabric (86% nylon/14% spandex) for an active disposition. A supportive double bodice with flattering shirred detail uplifts; front panel inset helps with contouring. Hem falls above the knee.<br><br><b>Details:</b><ul> <li>\"Stretchy, soft, synthetic jersey knit\"</li> <li>Wide straps and flattering V-front detail</li> <li>Supportive double bodice with shirring for shaping</li> <li>Front panel inset for contouring</li> <li>Hem falls above the knee</li></ul><br><br><b>Fabric: </b>7-oz 86% nylon/14% spandex smooth-faced jersey knit with moisture-wicking performance<br><br><b>Weight: </b>(311 g 10.8 oz)<br><br>Made in Colombia.</td>\n",
              "    </tr>\n",
              "  </tbody>\n",
              "</table>\n"
            ]
          },
          "metadata": {},
          "execution_count": 32
        }
      ],
      "source": [
        "rec[300:301].style"
      ]
    },
    {
      "cell_type": "markdown",
      "id": "fd78b670",
      "metadata": {
        "id": "fd78b670"
      },
      "source": [
        "### Выводы по результатам сравнения текстов с word2vec:\n",
        "\n",
        "Вектора из готовой модели сработали лучше для редкого артикула, из 3-х топовых рекомендаций две касаются верхней части одежды, ошибся только на 2-м - посоветовал штаны.\n",
        "\n",
        "Сравнение на основе векторов, обученных на имеющемся корпусе текстов, дали немного странные результаты и по общим уровням похожести. Выбор варианта арифметического среднего vs среднего, взвешенного по tfidf, для формирования вектора предложения тоже не дал особой разницы. Для редкого артикула майки похожими оказались шорты для мальчика, цельный купальник для девочки и платье :(\n"
      ]
    },
    {
      "cell_type": "markdown",
      "source": [
        "## 4. Использование LaBSE векторов\n",
        "Конечно я не могла обойти стороной вектора на основе трансформенных моделей и сравнить результат с предыдущими и с точки зрения затраченных усилий, и конечных рекомендаций.\n",
        "\n",
        "В качестве экперимента не буду совсем чистить текст, а возьму начальный со всеми странными знаками."
      ],
      "metadata": {
        "id": "z6a2GHsmHNhd"
      },
      "id": "z6a2GHsmHNhd"
    },
    {
      "cell_type": "code",
      "source": [
        "!pip install sentence-transformers"
      ],
      "metadata": {
        "colab": {
          "base_uri": "https://localhost:8080/"
        },
        "id": "k6ZMH-Ji2h3R",
        "outputId": "be56bd4e-d381-44a6-abc6-7829176864e6"
      },
      "id": "k6ZMH-Ji2h3R",
      "execution_count": 33,
      "outputs": [
        {
          "output_type": "stream",
          "name": "stdout",
          "text": [
            "Collecting sentence-transformers\n",
            "  Downloading sentence-transformers-2.2.2.tar.gz (85 kB)\n",
            "\u001b[?25l     \u001b[90m━━━━━━━━━━━━━━━━━━━━━━━━━━━━━━━━━━━━━━━━\u001b[0m \u001b[32m0.0/86.0 kB\u001b[0m \u001b[31m?\u001b[0m eta \u001b[36m-:--:--\u001b[0m\r\u001b[2K     \u001b[91m━━━━━━━━━━━━━━━━━━━━━━━━━━━━\u001b[0m\u001b[91m╸\u001b[0m\u001b[90m━━━━━━━━━━━\u001b[0m \u001b[32m61.4/86.0 kB\u001b[0m \u001b[31m1.9 MB/s\u001b[0m eta \u001b[36m0:00:01\u001b[0m\r\u001b[2K     \u001b[90m━━━━━━━━━━━━━━━━━━━━━━━━━━━━━━━━━━━━━━━━\u001b[0m \u001b[32m86.0/86.0 kB\u001b[0m \u001b[31m1.5 MB/s\u001b[0m eta \u001b[36m0:00:00\u001b[0m\n",
            "\u001b[?25h  Preparing metadata (setup.py) ... \u001b[?25l\u001b[?25hdone\n",
            "Collecting transformers<5.0.0,>=4.6.0 (from sentence-transformers)\n",
            "  Downloading transformers-4.33.1-py3-none-any.whl (7.6 MB)\n",
            "\u001b[2K     \u001b[90m━━━━━━━━━━━━━━━━━━━━━━━━━━━━━━━━━━━━━━━━\u001b[0m \u001b[32m7.6/7.6 MB\u001b[0m \u001b[31m83.0 MB/s\u001b[0m eta \u001b[36m0:00:00\u001b[0m\n",
            "\u001b[?25hRequirement already satisfied: tqdm in /usr/local/lib/python3.10/dist-packages (from sentence-transformers) (4.66.1)\n",
            "Requirement already satisfied: torch>=1.6.0 in /usr/local/lib/python3.10/dist-packages (from sentence-transformers) (2.0.1+cu118)\n",
            "Requirement already satisfied: torchvision in /usr/local/lib/python3.10/dist-packages (from sentence-transformers) (0.15.2+cu118)\n",
            "Requirement already satisfied: numpy in /usr/local/lib/python3.10/dist-packages (from sentence-transformers) (1.23.5)\n",
            "Requirement already satisfied: scikit-learn in /usr/local/lib/python3.10/dist-packages (from sentence-transformers) (1.2.2)\n",
            "Requirement already satisfied: scipy in /usr/local/lib/python3.10/dist-packages (from sentence-transformers) (1.11.2)\n",
            "Requirement already satisfied: nltk in /usr/local/lib/python3.10/dist-packages (from sentence-transformers) (3.8.1)\n",
            "Collecting sentencepiece (from sentence-transformers)\n",
            "  Downloading sentencepiece-0.1.99-cp310-cp310-manylinux_2_17_x86_64.manylinux2014_x86_64.whl (1.3 MB)\n",
            "\u001b[2K     \u001b[90m━━━━━━━━━━━━━━━━━━━━━━━━━━━━━━━━━━━━━━━━\u001b[0m \u001b[32m1.3/1.3 MB\u001b[0m \u001b[31m72.6 MB/s\u001b[0m eta \u001b[36m0:00:00\u001b[0m\n",
            "\u001b[?25hCollecting huggingface-hub>=0.4.0 (from sentence-transformers)\n",
            "  Downloading huggingface_hub-0.17.1-py3-none-any.whl (294 kB)\n",
            "\u001b[2K     \u001b[90m━━━━━━━━━━━━━━━━━━━━━━━━━━━━━━━━━━━━━━\u001b[0m \u001b[32m294.8/294.8 kB\u001b[0m \u001b[31m28.6 MB/s\u001b[0m eta \u001b[36m0:00:00\u001b[0m\n",
            "\u001b[?25hRequirement already satisfied: filelock in /usr/local/lib/python3.10/dist-packages (from huggingface-hub>=0.4.0->sentence-transformers) (3.12.2)\n",
            "Requirement already satisfied: fsspec in /usr/local/lib/python3.10/dist-packages (from huggingface-hub>=0.4.0->sentence-transformers) (2023.6.0)\n",
            "Requirement already satisfied: requests in /usr/local/lib/python3.10/dist-packages (from huggingface-hub>=0.4.0->sentence-transformers) (2.31.0)\n",
            "Requirement already satisfied: pyyaml>=5.1 in /usr/local/lib/python3.10/dist-packages (from huggingface-hub>=0.4.0->sentence-transformers) (6.0.1)\n",
            "Requirement already satisfied: typing-extensions>=3.7.4.3 in /usr/local/lib/python3.10/dist-packages (from huggingface-hub>=0.4.0->sentence-transformers) (4.5.0)\n",
            "Requirement already satisfied: packaging>=20.9 in /usr/local/lib/python3.10/dist-packages (from huggingface-hub>=0.4.0->sentence-transformers) (23.1)\n",
            "Requirement already satisfied: sympy in /usr/local/lib/python3.10/dist-packages (from torch>=1.6.0->sentence-transformers) (1.12)\n",
            "Requirement already satisfied: networkx in /usr/local/lib/python3.10/dist-packages (from torch>=1.6.0->sentence-transformers) (3.1)\n",
            "Requirement already satisfied: jinja2 in /usr/local/lib/python3.10/dist-packages (from torch>=1.6.0->sentence-transformers) (3.1.2)\n",
            "Requirement already satisfied: triton==2.0.0 in /usr/local/lib/python3.10/dist-packages (from torch>=1.6.0->sentence-transformers) (2.0.0)\n",
            "Requirement already satisfied: cmake in /usr/local/lib/python3.10/dist-packages (from triton==2.0.0->torch>=1.6.0->sentence-transformers) (3.27.4.1)\n",
            "Requirement already satisfied: lit in /usr/local/lib/python3.10/dist-packages (from triton==2.0.0->torch>=1.6.0->sentence-transformers) (16.0.6)\n",
            "Requirement already satisfied: regex!=2019.12.17 in /usr/local/lib/python3.10/dist-packages (from transformers<5.0.0,>=4.6.0->sentence-transformers) (2023.6.3)\n",
            "Collecting tokenizers!=0.11.3,<0.14,>=0.11.1 (from transformers<5.0.0,>=4.6.0->sentence-transformers)\n",
            "  Downloading tokenizers-0.13.3-cp310-cp310-manylinux_2_17_x86_64.manylinux2014_x86_64.whl (7.8 MB)\n",
            "\u001b[2K     \u001b[90m━━━━━━━━━━━━━━━━━━━━━━━━━━━━━━━━━━━━━━━━\u001b[0m \u001b[32m7.8/7.8 MB\u001b[0m \u001b[31m102.7 MB/s\u001b[0m eta \u001b[36m0:00:00\u001b[0m\n",
            "\u001b[?25hCollecting safetensors>=0.3.1 (from transformers<5.0.0,>=4.6.0->sentence-transformers)\n",
            "  Downloading safetensors-0.3.3-cp310-cp310-manylinux_2_17_x86_64.manylinux2014_x86_64.whl (1.3 MB)\n",
            "\u001b[2K     \u001b[90m━━━━━━━━━━━━━━━━━━━━━━━━━━━━━━━━━━━━━━━━\u001b[0m \u001b[32m1.3/1.3 MB\u001b[0m \u001b[31m74.0 MB/s\u001b[0m eta \u001b[36m0:00:00\u001b[0m\n",
            "\u001b[?25hRequirement already satisfied: click in /usr/local/lib/python3.10/dist-packages (from nltk->sentence-transformers) (8.1.7)\n",
            "Requirement already satisfied: joblib in /usr/local/lib/python3.10/dist-packages (from nltk->sentence-transformers) (1.3.2)\n",
            "Requirement already satisfied: threadpoolctl>=2.0.0 in /usr/local/lib/python3.10/dist-packages (from scikit-learn->sentence-transformers) (3.2.0)\n",
            "Requirement already satisfied: pillow!=8.3.*,>=5.3.0 in /usr/local/lib/python3.10/dist-packages (from torchvision->sentence-transformers) (9.4.0)\n",
            "Requirement already satisfied: MarkupSafe>=2.0 in /usr/local/lib/python3.10/dist-packages (from jinja2->torch>=1.6.0->sentence-transformers) (2.1.3)\n",
            "Requirement already satisfied: charset-normalizer<4,>=2 in /usr/local/lib/python3.10/dist-packages (from requests->huggingface-hub>=0.4.0->sentence-transformers) (3.2.0)\n",
            "Requirement already satisfied: idna<4,>=2.5 in /usr/local/lib/python3.10/dist-packages (from requests->huggingface-hub>=0.4.0->sentence-transformers) (3.4)\n",
            "Requirement already satisfied: urllib3<3,>=1.21.1 in /usr/local/lib/python3.10/dist-packages (from requests->huggingface-hub>=0.4.0->sentence-transformers) (2.0.4)\n",
            "Requirement already satisfied: certifi>=2017.4.17 in /usr/local/lib/python3.10/dist-packages (from requests->huggingface-hub>=0.4.0->sentence-transformers) (2023.7.22)\n",
            "Requirement already satisfied: mpmath>=0.19 in /usr/local/lib/python3.10/dist-packages (from sympy->torch>=1.6.0->sentence-transformers) (1.3.0)\n",
            "Building wheels for collected packages: sentence-transformers\n",
            "  Building wheel for sentence-transformers (setup.py) ... \u001b[?25l\u001b[?25hdone\n",
            "  Created wheel for sentence-transformers: filename=sentence_transformers-2.2.2-py3-none-any.whl size=125923 sha256=ec8501c7bafb9ab373a3ceea93ce3b75df82f317eb50ccaef4e2f951bf395af3\n",
            "  Stored in directory: /root/.cache/pip/wheels/62/f2/10/1e606fd5f02395388f74e7462910fe851042f97238cbbd902f\n",
            "Successfully built sentence-transformers\n",
            "Installing collected packages: tokenizers, sentencepiece, safetensors, huggingface-hub, transformers, sentence-transformers\n",
            "Successfully installed huggingface-hub-0.17.1 safetensors-0.3.3 sentence-transformers-2.2.2 sentencepiece-0.1.99 tokenizers-0.13.3 transformers-4.33.1\n"
          ]
        }
      ]
    },
    {
      "cell_type": "code",
      "execution_count": 35,
      "id": "7da1f720",
      "metadata": {
        "id": "7da1f720",
        "outputId": "03b15057-cba9-4c28-c7e5-0e52375b160b",
        "colab": {
          "base_uri": "https://localhost:8080/"
        }
      },
      "outputs": [
        {
          "output_type": "execute_result",
          "data": {
            "text/plain": [
              "(500, 768)"
            ]
          },
          "metadata": {},
          "execution_count": 35
        }
      ],
      "source": [
        "from sentence_transformers import SentenceTransformer\n",
        "sentences = df['description'].tolist()\n",
        "\n",
        "model = SentenceTransformer('sentence-transformers/LaBSE')\n",
        "embeddings = model.encode(sentences, normalize_embeddings=True)\n",
        "embeddings.shape"
      ]
    },
    {
      "cell_type": "code",
      "execution_count": 36,
      "id": "2d0a990f",
      "metadata": {
        "id": "2d0a990f"
      },
      "outputs": [],
      "source": [
        "emb= sparse.csr_matrix(embeddings)"
      ]
    },
    {
      "cell_type": "code",
      "execution_count": 37,
      "id": "48af86c3",
      "metadata": {
        "scrolled": true,
        "id": "48af86c3",
        "outputId": "3314e9be-c7d1-4d2a-a8e2-15b2c39c315b",
        "colab": {
          "base_uri": "https://localhost:8080/",
          "height": 1000
        }
      },
      "outputs": [
        {
          "output_type": "display_data",
          "data": {
            "text/plain": [
              "<Figure size 640x480 with 1 Axes>"
            ],
            "image/png": "[encoded data removed]"
          },
          "metadata": {}
        },
        {
          "output_type": "execute_result",
          "data": {
            "text/plain": [
              "<pandas.io.formats.style.Styler at 0x7ea5e15c10c0>"
            ],
            "text/html": [
              "<style type=\"text/css\">\n",
              "</style>\n",
              "<table id=\"T_73d81\" class=\"dataframe\">\n",
              "  <thead>\n",
              "    <tr>\n",
              "      <th class=\"blank level0\" >&nbsp;</th>\n",
              "      <th id=\"T_73d81_level0_col0\" class=\"col_heading level0 col0\" >Title</th>\n",
              "      <th id=\"T_73d81_level0_col1\" class=\"col_heading level0 col1\" >Desc</th>\n",
              "      <th id=\"T_73d81_level0_col2\" class=\"col_heading level0 col2\" >Avg_simil_score</th>\n",
              "      <th id=\"T_73d81_level0_col3\" class=\"col_heading level0 col3\" >Top_1_rec</th>\n",
              "      <th id=\"T_73d81_level0_col4\" class=\"col_heading level0 col4\" >Top_2_rec</th>\n",
              "      <th id=\"T_73d81_level0_col5\" class=\"col_heading level0 col5\" >Top_3_rec</th>\n",
              "    </tr>\n",
              "  </thead>\n",
              "  <tbody>\n",
              "    <tr>\n",
              "      <th id=\"T_73d81_level0_row0\" class=\"row_heading level0 row0\" >200</th>\n",
              "      <td id=\"T_73d81_row0_col0\" class=\"data row0 col0\" >Merino 1 tank </td>\n",
              "      <td id=\"T_73d81_row0_col1\" class=\"data row0 col1\" >Merino 1 tank - Finespun and cool enough to lower the temperature of open trail runs, heated crags and the Laiki street market, this silky-soft yet highly durable jersey-knit tank is made with 63% merino wool spun around an all-recycled polyester (37%) core. Super-comfortable on its own in warm temperatures or beneath layers in cooler ones, it offers great technical performance: naturally resisting odor, moving moisture away from the skin and improving dry times, regulating body temperature, and maintaining a consistent stretch. The neck - with a smooth, self-fabric binding -invites ventilation but still covers a bra. We slow-wash our merino for next-to-skin softness. Machine-wash cold; lay flat to dry. Recyclable through the Common Threads Recycling Program.<br><br><b>Details:</b><ul> <li>\"Slow-washed merino wool resists odor naturally, insulates even when wet, is durable, stretches and provides superior performance and softness\"</li> <li>16.5 micron-gauge yarn and jersey-knit construction for luxurious hand</li> <li>\"All-recycled polyester core wicks moisture, while wool next to skin controls odor\"</li> <li>Softly scooped neckline ventilates while still covering bra</li> <li>Self-fabric neck and armhole binding for comfort</li> <li>Straight hem</li> <li>\"Machine-wash cold, lay flat to dry\"</li></ul><br><br><b>Fabric: </b>3.2-oz (108-g) 63% 16.5 micron chlorine-free merino wool/37% all-recycled polyester. Recyclable through the Common Threads Recycling Program<br><br><b>Weight: </b>(60 g 2.1 oz)<br><br>Made in USA.</td>\n",
              "      <td id=\"T_73d81_row0_col2\" class=\"data row0 col2\" >0.710000</td>\n",
              "      <td id=\"T_73d81_row0_col3\" class=\"data row0 col3\" >0.97 Merino 1 t-shirt - So soft it's worth lingering in, our lightest merino layer is made with 63% merino wool spun around an all-recycled polyester (37%) core. Super-comfortable on its own in warm temperatures or beneath layers in cooler ones, this silky yet highly durable jersey-knit offers great technical performance: naturally resisting odor, moving moisture away from the skin and improving dry times, regulating body temperature, and maintaining a consistent stretch. The neck - with a smooth self-fabric binding - invites ventilation but still covers a bra. We slow-wash our merino for next-to-skin softness. Machine-wash cold; lay flat to dry. Recyclable through the Common Threads Recycling Program.<br><br><b>Details:</b><ul> <li>\"Slow-washed merino wool resists odor naturally, insulates even when wet, is durable, stretches and provides superior performance and softness\"</li> <li>16.5 micron-gauge yarn and jersey-knit construction for luxurious hand</li> <li>\"All-recycled polyester core wicks moisture, while wool next to skin controls odor\"</li> <li>Softly scooped neckline ventilates while still covering bra</li> <li>Self-fabric neck binding for comfort</li> <li>Straight hem</li> <li>\"Machine-wash cold, lay flat to dry\"</li></ul><br><br><b>Fabric: </b>3.2-oz (108-g) 63% 16.5 micron chlorine-free merino wool/37% all-recycled polyester. Recyclable through the Common Threads Recycling Program<br><br><b>Weight: </b>73 g (2.6 oz)<br><br>Made in USA.</td>\n",
              "      <td id=\"T_73d81_row0_col4\" class=\"data row0 col4\" >0.97 Merino 1 crew - Our lightest merino layer, this silky-soft yet highly durable jersey-knit is made with 63% merino wool spun around an all-recycled polyester (37%) core. Super-comfortable on its own in warm temperatures or beneath layers in cooler ones, it offers great technical performance: naturally resisting odor, moving moisture away from the skin and improving dry times, regulating body temperature, and maintaining a consistent stretch. The neck - with a smooth self-fabric binding - invites ventilation but still covers a bra. We slow-wash our merino for next-to-skin softness. Machine-wash cold; lay flat to dry. Recyclable through the Common Threads Recycling Program.<br><br><b>Details:</b><ul> <li>\"Slow-washed merino wool resists odor naturally, insulates even when wet, is durable, stretches and provides superior performance and softness\"</li> <li>16.5 micron-gauge yarn and jersey-knit construction for luxurious hand</li> <li>\"All-recycled polyester core wicks moisture, while wool next to skin controls odor\"</li> <li>Softly scooped neckline ventilates while still covering bra</li> <li>Self-fabric neck binding for comfort</li> <li>Straight hem</li> <li>\"Machine-wash cold, lay flat to dry\"</li></ul><br><br><b>Fabric: </b>3.2-oz (108-g) 63% 16.5 micron chlorine-free merino wool/37% all-recycled polyester. Recyclable through the Common Threads Recycling Program<br><br><b>Weight: </b>(95 g 3.3 oz)<br><br>Made in USA.</td>\n",
              "      <td id=\"T_73d81_row0_col5\" class=\"data row0 col5\" >0.97 Merino 1 graphic t-shirt - Feels as good as a laugh. Our lightest merino layer, this silky-soft yet highly durable jersey-knit is made with 63% merino wool spun around a an all-recycled polyester (37%) core. Super-comfortable on its own in warm temperatures or beneath layers in cooler ones, it offers great technical performance: naturally resisting odor, moving moisture away from the skin and improving dry times, regulating body temperature, and maintaining a consistent stretch. The neck - with a smooth, self-fabric binding - invites ventilation but still covers a bra. We slow-wash our merino for next-to-skin softness. Machine-wash cold; lay flat to dry. Recyclable through the Common Threads Recycling Program.<br><br><b>Details:</b><ul> <li>\"Slow-washed merino wool resists odor naturally, insulates even when wet, is durable, stretches and provides superior performance and softness; 16.5 micron-gauge yarn and jersey-knit construction for luxurious hand\"</li> <li>\"All-recycled polyester core wicks moisture, while wool next to skin controls odor\"</li> <li>Softly scooped neckline ventilates while still covering bra</li> <li>Self-fabric neck binding for comfort</li> <li>Soft graphic print doesn't impede performance</li> <li>Straight hem</li> <li>\"Machine-wash cold, lay flat to dry\"</li></ul><br><br><b>Fabric: </b>3.2-oz (108-g) 63% 16.5 micron chlorine-free merino wool/37% all-recycled polyester. Recyclable through the Common Threads Recycling Program<br><br><b>Weight: </b>73 g (2.6 oz)<br><br>Made in USA.</td>\n",
              "    </tr>\n",
              "  </tbody>\n",
              "</table>\n"
            ]
          },
          "metadata": {},
          "execution_count": 37
        }
      ],
      "source": [
        "rec = sim_review(df, emb, threshold = 0.6)\n",
        "rec[200:201].style"
      ]
    },
    {
      "cell_type": "code",
      "execution_count": 38,
      "id": "aef106f4",
      "metadata": {
        "id": "aef106f4",
        "outputId": "dabad78e-c43d-4ccd-ff8a-37004352c315",
        "colab": {
          "base_uri": "https://localhost:8080/",
          "height": 665
        }
      },
      "outputs": [
        {
          "output_type": "execute_result",
          "data": {
            "text/plain": [
              "<pandas.io.formats.style.Styler at 0x7ea7e01fab60>"
            ],
            "text/html": [
              "<style type=\"text/css\">\n",
              "</style>\n",
              "<table id=\"T_5c754\" class=\"dataframe\">\n",
              "  <thead>\n",
              "    <tr>\n",
              "      <th class=\"blank level0\" >&nbsp;</th>\n",
              "      <th id=\"T_5c754_level0_col0\" class=\"col_heading level0 col0\" >Title</th>\n",
              "      <th id=\"T_5c754_level0_col1\" class=\"col_heading level0 col1\" >Desc</th>\n",
              "      <th id=\"T_5c754_level0_col2\" class=\"col_heading level0 col2\" >Avg_simil_score</th>\n",
              "      <th id=\"T_5c754_level0_col3\" class=\"col_heading level0 col3\" >Top_1_rec</th>\n",
              "      <th id=\"T_5c754_level0_col4\" class=\"col_heading level0 col4\" >Top_2_rec</th>\n",
              "      <th id=\"T_5c754_level0_col5\" class=\"col_heading level0 col5\" >Top_3_rec</th>\n",
              "    </tr>\n",
              "  </thead>\n",
              "  <tbody>\n",
              "    <tr>\n",
              "      <th id=\"T_5c754_level0_row0\" class=\"row_heading level0 row0\" >300</th>\n",
              "      <td id=\"T_5c754_row0_col0\" class=\"data row0 col0\" >Active classic cami </td>\n",
              "      <td id=\"T_5c754_row0_col1\" class=\"data row0 col1\" >Active classic cami - Worn under a dry top or as a base layer when topping 14,000 feet; the form-fitting Active Classic Cami will toe the line on any expedition. The 360-degree built-in shelf bra and adjustable shoulder straps won't slip or dig into your skin. The tank's supersoft nylon/spandex fabric blend (94%/6%) and seamless tube construction prevent chafing. Longer torso coverage pairs well with low-rise styles.<br><br><b>Details:</b><ul> <li>Supersoft nylon/spandex blend for next-to-skin comfort</li> <li>Seamless construction</li> <li>\"360-degree shelf bra with adjustable, nonslip shoulder straps\"</li> <li>\"Appropriate length for pairing with low-rise style pants, shorts or skirts\"</li></ul><br><br><b>Fabric: </b>4.6-oz 94% nylon/6% spandex with moisture-wicking performance<br><br><b>Weight: </b>(72 g 2.5 oz)<br><br>Made in Israel.</td>\n",
              "      <td id=\"T_5c754_row0_col2\" class=\"data row0 col2\" >0.730000</td>\n",
              "      <td id=\"T_5c754_row0_col3\" class=\"data row0 col3\" >0.9 Sport top - The loose, performance fit of the Women's Sport Top won't hike up or become annoyingly shifty during long-distance trail mileage. The extra-long, seamless racerback tank has a looser silhouette that increases airflow and eliminates hem migration. A comfortable built-in sports bra manages high impact activities; nylon/spandex (94%/6%) fabric blend provides moisture-wicking performance.<br><br><b>Details:</b><ul> <li>Supersoft nylon/spandex blend for next-to-skin comfort</li> <li>Seamless construction</li> <li>360-degree built-in sports bra</li> <li>\"Perfect length for pairing with running shorts, yoga pants or everyday styles\"</li></ul><br><br><b>Fabric: </b>Tank: 9.5-oz 94% nylon/6% spandex. Built-in sports bra: 9.5-oz 94% nylon/6% spandex. Both with moisture-wicking performance<br><br><b>Weight: </b>144 g (5.1 oz)<br><br>Made in Israel.</td>\n",
              "      <td id=\"T_5c754_row0_col4\" class=\"data row0 col4\" >0.88 Active briefs - Whether you're beating the heat in Bali or skinning up your favorite cirque, these ultrasoft, lightweight briefs provide exceptional stretch and moisture-management for keeping you comfortable and dry. They also glide easily beneath layers. A seamless waistband lies flat and won't roll or bind; newly redesigned single-sided leg binding stays put and is low-profile. With a breathable mini-rib crotch. Solids and prints: 4.6-oz 96% nylon/4% spandex. Stripes: 5.6-oz 93% polyester (58% recycled)/7% spandex.<br><br><b>Details:</b><ul> <li>\"Ultrasoft, lightweight fabric with stretch and moisture management\"</li> <li>\"Seamless waistband lies flat, won't roll or bind, breathable mini-rib crotch, soft, single-sided binding at leg openings wont chafe or creep\"</li></ul><br><br><b>Fabric: </b>Solids and prints: 4.6-oz 96% nylon/4% spandex. Stripes: 5.6-oz 94% polyester (58% recycled)/7% spandex. All with moisture-wicking performance<br><br><b>Weight: </b>(28 g 1 oz)<br><br>Made in Israel.</td>\n",
              "      <td id=\"T_5c754_row0_col5\" class=\"data row0 col5\" >0.86 Active mesh bra - Despite its inability to act as a belay slave, our Active Mesh Bra makes a perfect climbing partner. The body-conforming fabric provides fluid support and wicks moisture, while the seamless construction eliminates chafing. Comfortable nonslip straps won't dig into skin; they contour to a flattering V in back for unobstructed movement. The full-coverage design can go solo, or partner with layers. Made from 95% nylon mesh/5% spandex.<br><br><b>Details:</b><ul> <li>\"Stretchy, body-conforming nylon/spandex blend is ultradurable, supportive and wicks moisture to keep skin dry\"</li> <li>Seamless construction</li> <li>\"Comfortable, nonslip straps meet V-style in back\"</li></ul><br><br><b>Fabric: </b>8.1-oz 95% nylon mesh/5% spandex with moisture-wicking performance<br><br><b>Weight: </b>(72 g 2.5 oz)<br><br>Made in Israel.</td>\n",
              "    </tr>\n",
              "  </tbody>\n",
              "</table>\n"
            ]
          },
          "metadata": {},
          "execution_count": 38
        }
      ],
      "source": [
        "rec[300:301].style"
      ]
    },
    {
      "cell_type": "markdown",
      "source": [
        "# Финальные выводы\n",
        "\n",
        "Вектора на основе Labse сработали быстрее всего на основе исходных текстов без обработки. Результаты сравнимы с готовой библиотекой word2vec и лучше, чем вариант tfidf при Min_df = 0.01 + ngram_range = (1,3)."
      ],
      "metadata": {
        "id": "FiiRObAW0a5Z"
      },
      "id": "FiiRObAW0a5Z"
    }
  ],
  "metadata": {
    "kernelspec": {
      "display_name": "Python 3",
      "name": "python3"
    },
    "language_info": {
      "codemirror_mode": {
        "name": "ipython",
        "version": 3
      },
      "file_extension": ".py",
      "mimetype": "text/x-python",
      "name": "python",
      "nbconvert_exporter": "python",
      "pygments_lexer": "ipython3",
      "version": "3.9.13"
    },
    "colab": {
      "provenance": [],
      "toc_visible": true,
      "gpuType": "T4",
      "include_colab_link": true
    },
    "widgets": {
      "application/vnd.jupyter.widget-state+json": {
        "58c0fcf45d0c422298b7f6b60e2154ff": {
          "model_module": "@jupyter-widgets/controls",
          "model_name": "HBoxModel",
          "model_module_version": "1.5.0",
          "state": {
            "_dom_classes": [],
            "_model_module": "@jupyter-widgets/controls",
            "_model_module_version": "1.5.0",
            "_model_name": "HBoxModel",
            "_view_count": null,
            "_view_module": "@jupyter-widgets/controls",
            "_view_module_version": "1.5.0",
            "_view_name": "HBoxView",
            "box_style": "",
            "children": [
              "IPY_MODEL_309c5bd97b9f4087a347a5f005f355e3",
              "IPY_MODEL_fa5e3a80c27e49218dcbb87a7997c08a",
              "IPY_MODEL_0c1cb84f162e437e9220e218dbd39036"
            ],
            "layout": "IPY_MODEL_642cd92197c248a48d104f3f0145c596"
          }
        },
        "309c5bd97b9f4087a347a5f005f355e3": {
          "model_module": "@jupyter-widgets/controls",
          "model_name": "HTMLModel",
          "model_module_version": "1.5.0",
          "state": {
            "_dom_classes": [],
            "_model_module": "@jupyter-widgets/controls",
            "_model_module_version": "1.5.0",
            "_model_name": "HTMLModel",
            "_view_count": null,
            "_view_module": "@jupyter-widgets/controls",
            "_view_module_version": "1.5.0",
            "_view_name": "HTMLView",
            "description": "",
            "description_tooltip": null,
            "layout": "IPY_MODEL_1dbe81ce9c4f4717b7157c245d832edf",
            "placeholder": "​",
            "style": "IPY_MODEL_750b0dd8230c409a8bff55be881657a4",
            "value": "100%"
          }
        },
        "fa5e3a80c27e49218dcbb87a7997c08a": {
          "model_module": "@jupyter-widgets/controls",
          "model_name": "FloatProgressModel",
          "model_module_version": "1.5.0",
          "state": {
            "_dom_classes": [],
            "_model_module": "@jupyter-widgets/controls",
            "_model_module_version": "1.5.0",
            "_model_name": "FloatProgressModel",
            "_view_count": null,
            "_view_module": "@jupyter-widgets/controls",
            "_view_module_version": "1.5.0",
            "_view_name": "ProgressView",
            "bar_style": "success",
            "description": "",
            "description_tooltip": null,
            "layout": "IPY_MODEL_b0b6ce4f91454e06beff1223ba469dde",
            "max": 500,
            "min": 0,
            "orientation": "horizontal",
            "style": "IPY_MODEL_0cca658b9c7d40ce8ac3f9242f745bff",
            "value": 500
          }
        },
        "0c1cb84f162e437e9220e218dbd39036": {
          "model_module": "@jupyter-widgets/controls",
          "model_name": "HTMLModel",
          "model_module_version": "1.5.0",
          "state": {
            "_dom_classes": [],
            "_model_module": "@jupyter-widgets/controls",
            "_model_module_version": "1.5.0",
            "_model_name": "HTMLModel",
            "_view_count": null,
            "_view_module": "@jupyter-widgets/controls",
            "_view_module_version": "1.5.0",
            "_view_name": "HTMLView",
            "description": "",
            "description_tooltip": null,
            "layout": "IPY_MODEL_a8ab6f72fb7f40d895820d4127939352",
            "placeholder": "​",
            "style": "IPY_MODEL_f436c821db9f40ac9787176bff1f2827",
            "value": " 500/500 [00:00&lt;00:00, 818.47it/s]"
          }
        },
        "642cd92197c248a48d104f3f0145c596": {
          "model_module": "@jupyter-widgets/base",
          "model_name": "LayoutModel",
          "model_module_version": "1.2.0",
          "state": {
            "_model_module": "@jupyter-widgets/base",
            "_model_module_version": "1.2.0",
            "_model_name": "LayoutModel",
            "_view_count": null,
            "_view_module": "@jupyter-widgets/base",
            "_view_module_version": "1.2.0",
            "_view_name": "LayoutView",
            "align_content": null,
            "align_items": null,
            "align_self": null,
            "border": null,
            "bottom": null,
            "display": null,
            "flex": null,
            "flex_flow": null,
            "grid_area": null,
            "grid_auto_columns": null,
            "grid_auto_flow": null,
            "grid_auto_rows": null,
            "grid_column": null,
            "grid_gap": null,
            "grid_row": null,
            "grid_template_areas": null,
            "grid_template_columns": null,
            "grid_template_rows": null,
            "height": null,
            "justify_content": null,
            "justify_items": null,
            "left": null,
            "margin": null,
            "max_height": null,
            "max_width": null,
            "min_height": null,
            "min_width": null,
            "object_fit": null,
            "object_position": null,
            "order": null,
            "overflow": null,
            "overflow_x": null,
            "overflow_y": null,
            "padding": null,
            "right": null,
            "top": null,
            "visibility": null,
            "width": null
          }
        },
        "1dbe81ce9c4f4717b7157c245d832edf": {
          "model_module": "@jupyter-widgets/base",
          "model_name": "LayoutModel",
          "model_module_version": "1.2.0",
          "state": {
            "_model_module": "@jupyter-widgets/base",
            "_model_module_version": "1.2.0",
            "_model_name": "LayoutModel",
            "_view_count": null,
            "_view_module": "@jupyter-widgets/base",
            "_view_module_version": "1.2.0",
            "_view_name": "LayoutView",
            "align_content": null,
            "align_items": null,
            "align_self": null,
            "border": null,
            "bottom": null,
            "display": null,
            "flex": null,
            "flex_flow": null,
            "grid_area": null,
            "grid_auto_columns": null,
            "grid_auto_flow": null,
            "grid_auto_rows": null,
            "grid_column": null,
            "grid_gap": null,
            "grid_row": null,
            "grid_template_areas": null,
            "grid_template_columns": null,
            "grid_template_rows": null,
            "height": null,
            "justify_content": null,
            "justify_items": null,
            "left": null,
            "margin": null,
            "max_height": null,
            "max_width": null,
            "min_height": null,
            "min_width": null,
            "object_fit": null,
            "object_position": null,
            "order": null,
            "overflow": null,
            "overflow_x": null,
            "overflow_y": null,
            "padding": null,
            "right": null,
            "top": null,
            "visibility": null,
            "width": null
          }
        },
        "750b0dd8230c409a8bff55be881657a4": {
          "model_module": "@jupyter-widgets/controls",
          "model_name": "DescriptionStyleModel",
          "model_module_version": "1.5.0",
          "state": {
            "_model_module": "@jupyter-widgets/controls",
            "_model_module_version": "1.5.0",
            "_model_name": "DescriptionStyleModel",
            "_view_count": null,
            "_view_module": "@jupyter-widgets/base",
            "_view_module_version": "1.2.0",
            "_view_name": "StyleView",
            "description_width": ""
          }
        },
        "b0b6ce4f91454e06beff1223ba469dde": {
          "model_module": "@jupyter-widgets/base",
          "model_name": "LayoutModel",
          "model_module_version": "1.2.0",
          "state": {
            "_model_module": "@jupyter-widgets/base",
            "_model_module_version": "1.2.0",
            "_model_name": "LayoutModel",
            "_view_count": null,
            "_view_module": "@jupyter-widgets/base",
            "_view_module_version": "1.2.0",
            "_view_name": "LayoutView",
            "align_content": null,
            "align_items": null,
            "align_self": null,
            "border": null,
            "bottom": null,
            "display": null,
            "flex": null,
            "flex_flow": null,
            "grid_area": null,
            "grid_auto_columns": null,
            "grid_auto_flow": null,
            "grid_auto_rows": null,
            "grid_column": null,
            "grid_gap": null,
            "grid_row": null,
            "grid_template_areas": null,
            "grid_template_columns": null,
            "grid_template_rows": null,
            "height": null,
            "justify_content": null,
            "justify_items": null,
            "left": null,
            "margin": null,
            "max_height": null,
            "max_width": null,
            "min_height": null,
            "min_width": null,
            "object_fit": null,
            "object_position": null,
            "order": null,
            "overflow": null,
            "overflow_x": null,
            "overflow_y": null,
            "padding": null,
            "right": null,
            "top": null,
            "visibility": null,
            "width": null
          }
        },
        "0cca658b9c7d40ce8ac3f9242f745bff": {
          "model_module": "@jupyter-widgets/controls",
          "model_name": "ProgressStyleModel",
          "model_module_version": "1.5.0",
          "state": {
            "_model_module": "@jupyter-widgets/controls",
            "_model_module_version": "1.5.0",
            "_model_name": "ProgressStyleModel",
            "_view_count": null,
            "_view_module": "@jupyter-widgets/base",
            "_view_module_version": "1.2.0",
            "_view_name": "StyleView",
            "bar_color": null,
            "description_width": ""
          }
        },
        "a8ab6f72fb7f40d895820d4127939352": {
          "model_module": "@jupyter-widgets/base",
          "model_name": "LayoutModel",
          "model_module_version": "1.2.0",
          "state": {
            "_model_module": "@jupyter-widgets/base",
            "_model_module_version": "1.2.0",
            "_model_name": "LayoutModel",
            "_view_count": null,
            "_view_module": "@jupyter-widgets/base",
            "_view_module_version": "1.2.0",
            "_view_name": "LayoutView",
            "align_content": null,
            "align_items": null,
            "align_self": null,
            "border": null,
            "bottom": null,
            "display": null,
            "flex": null,
            "flex_flow": null,
            "grid_area": null,
            "grid_auto_columns": null,
            "grid_auto_flow": null,
            "grid_auto_rows": null,
            "grid_column": null,
            "grid_gap": null,
            "grid_row": null,
            "grid_template_areas": null,
            "grid_template_columns": null,
            "grid_template_rows": null,
            "height": null,
            "justify_content": null,
            "justify_items": null,
            "left": null,
            "margin": null,
            "max_height": null,
            "max_width": null,
            "min_height": null,
            "min_width": null,
            "object_fit": null,
            "object_position": null,
            "order": null,
            "overflow": null,
            "overflow_x": null,
            "overflow_y": null,
            "padding": null,
            "right": null,
            "top": null,
            "visibility": null,
            "width": null
          }
        },
        "f436c821db9f40ac9787176bff1f2827": {
          "model_module": "@jupyter-widgets/controls",
          "model_name": "DescriptionStyleModel",
          "model_module_version": "1.5.0",
          "state": {
            "_model_module": "@jupyter-widgets/controls",
            "_model_module_version": "1.5.0",
            "_model_name": "DescriptionStyleModel",
            "_view_count": null,
            "_view_module": "@jupyter-widgets/base",
            "_view_module_version": "1.2.0",
            "_view_name": "StyleView",
            "description_width": ""
          }
        },
        "7b54a4ff1b9244a986d396ee565a3327": {
          "model_module": "@jupyter-widgets/controls",
          "model_name": "HBoxModel",
          "model_module_version": "1.5.0",
          "state": {
            "_dom_classes": [],
            "_model_module": "@jupyter-widgets/controls",
            "_model_module_version": "1.5.0",
            "_model_name": "HBoxModel",
            "_view_count": null,
            "_view_module": "@jupyter-widgets/controls",
            "_view_module_version": "1.5.0",
            "_view_name": "HBoxView",
            "box_style": "",
            "children": [
              "IPY_MODEL_71f8137b2bba49978b09131e92d1cba6",
              "IPY_MODEL_cd0154697fd74f109b8c8ad0ff4a3f48",
              "IPY_MODEL_8b6b32164bc643fdb7d0103555522299"
            ],
            "layout": "IPY_MODEL_aea0d46805084d5585fbe751efb17fc8"
          }
        },
        "71f8137b2bba49978b09131e92d1cba6": {
          "model_module": "@jupyter-widgets/controls",
          "model_name": "HTMLModel",
          "model_module_version": "1.5.0",
          "state": {
            "_dom_classes": [],
            "_model_module": "@jupyter-widgets/controls",
            "_model_module_version": "1.5.0",
            "_model_name": "HTMLModel",
            "_view_count": null,
            "_view_module": "@jupyter-widgets/controls",
            "_view_module_version": "1.5.0",
            "_view_name": "HTMLView",
            "description": "",
            "description_tooltip": null,
            "layout": "IPY_MODEL_005d9c568e7041eb98f5d05717a60abe",
            "placeholder": "​",
            "style": "IPY_MODEL_aef9fa9e83664897beba5c7cf5670581",
            "value": "100%"
          }
        },
        "cd0154697fd74f109b8c8ad0ff4a3f48": {
          "model_module": "@jupyter-widgets/controls",
          "model_name": "FloatProgressModel",
          "model_module_version": "1.5.0",
          "state": {
            "_dom_classes": [],
            "_model_module": "@jupyter-widgets/controls",
            "_model_module_version": "1.5.0",
            "_model_name": "FloatProgressModel",
            "_view_count": null,
            "_view_module": "@jupyter-widgets/controls",
            "_view_module_version": "1.5.0",
            "_view_name": "ProgressView",
            "bar_style": "success",
            "description": "",
            "description_tooltip": null,
            "layout": "IPY_MODEL_c4de0077b2294629ac212b6afa7e9541",
            "max": 500,
            "min": 0,
            "orientation": "horizontal",
            "style": "IPY_MODEL_698a0bafba0e46a7b7ca43298051cb6e",
            "value": 500
          }
        },
        "8b6b32164bc643fdb7d0103555522299": {
          "model_module": "@jupyter-widgets/controls",
          "model_name": "HTMLModel",
          "model_module_version": "1.5.0",
          "state": {
            "_dom_classes": [],
            "_model_module": "@jupyter-widgets/controls",
            "_model_module_version": "1.5.0",
            "_model_name": "HTMLModel",
            "_view_count": null,
            "_view_module": "@jupyter-widgets/controls",
            "_view_module_version": "1.5.0",
            "_view_name": "HTMLView",
            "description": "",
            "description_tooltip": null,
            "layout": "IPY_MODEL_cd73d288632a4b9a8079125d990c5a1a",
            "placeholder": "​",
            "style": "IPY_MODEL_0a7ad83303dc4bc7ab5e4003b61a07b2",
            "value": " 500/500 [00:00&lt;00:00, 867.28it/s]"
          }
        },
        "aea0d46805084d5585fbe751efb17fc8": {
          "model_module": "@jupyter-widgets/base",
          "model_name": "LayoutModel",
          "model_module_version": "1.2.0",
          "state": {
            "_model_module": "@jupyter-widgets/base",
            "_model_module_version": "1.2.0",
            "_model_name": "LayoutModel",
            "_view_count": null,
            "_view_module": "@jupyter-widgets/base",
            "_view_module_version": "1.2.0",
            "_view_name": "LayoutView",
            "align_content": null,
            "align_items": null,
            "align_self": null,
            "border": null,
            "bottom": null,
            "display": null,
            "flex": null,
            "flex_flow": null,
            "grid_area": null,
            "grid_auto_columns": null,
            "grid_auto_flow": null,
            "grid_auto_rows": null,
            "grid_column": null,
            "grid_gap": null,
            "grid_row": null,
            "grid_template_areas": null,
            "grid_template_columns": null,
            "grid_template_rows": null,
            "height": null,
            "justify_content": null,
            "justify_items": null,
            "left": null,
            "margin": null,
            "max_height": null,
            "max_width": null,
            "min_height": null,
            "min_width": null,
            "object_fit": null,
            "object_position": null,
            "order": null,
            "overflow": null,
            "overflow_x": null,
            "overflow_y": null,
            "padding": null,
            "right": null,
            "top": null,
            "visibility": null,
            "width": null
          }
        },
        "005d9c568e7041eb98f5d05717a60abe": {
          "model_module": "@jupyter-widgets/base",
          "model_name": "LayoutModel",
          "model_module_version": "1.2.0",
          "state": {
            "_model_module": "@jupyter-widgets/base",
            "_model_module_version": "1.2.0",
            "_model_name": "LayoutModel",
            "_view_count": null,
            "_view_module": "@jupyter-widgets/base",
            "_view_module_version": "1.2.0",
            "_view_name": "LayoutView",
            "align_content": null,
            "align_items": null,
            "align_self": null,
            "border": null,
            "bottom": null,
            "display": null,
            "flex": null,
            "flex_flow": null,
            "grid_area": null,
            "grid_auto_columns": null,
            "grid_auto_flow": null,
            "grid_auto_rows": null,
            "grid_column": null,
            "grid_gap": null,
            "grid_row": null,
            "grid_template_areas": null,
            "grid_template_columns": null,
            "grid_template_rows": null,
            "height": null,
            "justify_content": null,
            "justify_items": null,
            "left": null,
            "margin": null,
            "max_height": null,
            "max_width": null,
            "min_height": null,
            "min_width": null,
            "object_fit": null,
            "object_position": null,
            "order": null,
            "overflow": null,
            "overflow_x": null,
            "overflow_y": null,
            "padding": null,
            "right": null,
            "top": null,
            "visibility": null,
            "width": null
          }
        },
        "aef9fa9e83664897beba5c7cf5670581": {
          "model_module": "@jupyter-widgets/controls",
          "model_name": "DescriptionStyleModel",
          "model_module_version": "1.5.0",
          "state": {
            "_model_module": "@jupyter-widgets/controls",
            "_model_module_version": "1.5.0",
            "_model_name": "DescriptionStyleModel",
            "_view_count": null,
            "_view_module": "@jupyter-widgets/base",
            "_view_module_version": "1.2.0",
            "_view_name": "StyleView",
            "description_width": ""
          }
        },
        "c4de0077b2294629ac212b6afa7e9541": {
          "model_module": "@jupyter-widgets/base",
          "model_name": "LayoutModel",
          "model_module_version": "1.2.0",
          "state": {
            "_model_module": "@jupyter-widgets/base",
            "_model_module_version": "1.2.0",
            "_model_name": "LayoutModel",
            "_view_count": null,
            "_view_module": "@jupyter-widgets/base",
            "_view_module_version": "1.2.0",
            "_view_name": "LayoutView",
            "align_content": null,
            "align_items": null,
            "align_self": null,
            "border": null,
            "bottom": null,
            "display": null,
            "flex": null,
            "flex_flow": null,
            "grid_area": null,
            "grid_auto_columns": null,
            "grid_auto_flow": null,
            "grid_auto_rows": null,
            "grid_column": null,
            "grid_gap": null,
            "grid_row": null,
            "grid_template_areas": null,
            "grid_template_columns": null,
            "grid_template_rows": null,
            "height": null,
            "justify_content": null,
            "justify_items": null,
            "left": null,
            "margin": null,
            "max_height": null,
            "max_width": null,
            "min_height": null,
            "min_width": null,
            "object_fit": null,
            "object_position": null,
            "order": null,
            "overflow": null,
            "overflow_x": null,
            "overflow_y": null,
            "padding": null,
            "right": null,
            "top": null,
            "visibility": null,
            "width": null
          }
        },
        "698a0bafba0e46a7b7ca43298051cb6e": {
          "model_module": "@jupyter-widgets/controls",
          "model_name": "ProgressStyleModel",
          "model_module_version": "1.5.0",
          "state": {
            "_model_module": "@jupyter-widgets/controls",
            "_model_module_version": "1.5.0",
            "_model_name": "ProgressStyleModel",
            "_view_count": null,
            "_view_module": "@jupyter-widgets/base",
            "_view_module_version": "1.2.0",
            "_view_name": "StyleView",
            "bar_color": null,
            "description_width": ""
          }
        },
        "cd73d288632a4b9a8079125d990c5a1a": {
          "model_module": "@jupyter-widgets/base",
          "model_name": "LayoutModel",
          "model_module_version": "1.2.0",
          "state": {
            "_model_module": "@jupyter-widgets/base",
            "_model_module_version": "1.2.0",
            "_model_name": "LayoutModel",
            "_view_count": null,
            "_view_module": "@jupyter-widgets/base",
            "_view_module_version": "1.2.0",
            "_view_name": "LayoutView",
            "align_content": null,
            "align_items": null,
            "align_self": null,
            "border": null,
            "bottom": null,
            "display": null,
            "flex": null,
            "flex_flow": null,
            "grid_area": null,
            "grid_auto_columns": null,
            "grid_auto_flow": null,
            "grid_auto_rows": null,
            "grid_column": null,
            "grid_gap": null,
            "grid_row": null,
            "grid_template_areas": null,
            "grid_template_columns": null,
            "grid_template_rows": null,
            "height": null,
            "justify_content": null,
            "justify_items": null,
            "left": null,
            "margin": null,
            "max_height": null,
            "max_width": null,
            "min_height": null,
            "min_width": null,
            "object_fit": null,
            "object_position": null,
            "order": null,
            "overflow": null,
            "overflow_x": null,
            "overflow_y": null,
            "padding": null,
            "right": null,
            "top": null,
            "visibility": null,
            "width": null
          }
        },
        "0a7ad83303dc4bc7ab5e4003b61a07b2": {
          "model_module": "@jupyter-widgets/controls",
          "model_name": "DescriptionStyleModel",
          "model_module_version": "1.5.0",
          "state": {
            "_model_module": "@jupyter-widgets/controls",
            "_model_module_version": "1.5.0",
            "_model_name": "DescriptionStyleModel",
            "_view_count": null,
            "_view_module": "@jupyter-widgets/base",
            "_view_module_version": "1.2.0",
            "_view_name": "StyleView",
            "description_width": ""
          }
        }
      }
    },
    "accelerator": "GPU"
  },
  "nbformat": 4,
  "nbformat_minor": 5
}