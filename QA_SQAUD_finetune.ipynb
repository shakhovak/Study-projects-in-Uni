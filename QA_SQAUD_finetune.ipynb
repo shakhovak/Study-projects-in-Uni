{
 "cells": [
  {
   "cell_type": "markdown",
   "id": "f549f152",
   "metadata": {},
   "source": [
    "# Задание Question answering. Практическое задание (PJ)\n",
    "Для закрепления материала модуля предлагаем вам решить задачу QA для датасета SberQuad, используя любые доступные вам средства. \n",
    "\n",
    "Для достижения наилучшего результата уделите внимание подбору гиперапарметров как в плане архитектуры, так и в плане обучения модели.\n",
    "\n",
    "<hr>\n",
    "\n",
    "**Критерии оценивания проекта:**\n",
    "\n",
    "- общее качество кода и следование PEP-8;\n",
    "- использование рекуррентных сетей;\n",
    "- использованы варианты архитектур, близкие к state of the art для данной задачи;\n",
    "- произведен подбор гиперпараметров;\n",
    "- использованы техники изменения learning rate (lr scheduler);\n",
    "- использована адекватная задаче функция потерь;\n",
    "- использованы техники регуляризации;\n",
    "- корректно проведена валидация модели;\n",
    "- использованы техники ensemble;\n",
    "- использованы дополнительные данные;\n",
    "- итоговое значение метрики качества > 0.75 (f1).\n",
    "\n",
    "<hr>"
   ]
  },
  {
   "cell_type": "markdown",
   "id": "dc6a0bf0",
   "metadata": {},
   "source": [
    "# План решения\n",
    "\n",
    "Задача fine-tune трансофрмерных моделей на датасете SQUAD считается классической в NLP, поэтому решать ее буду на основе tutorial c hugging face https://huggingface.co/learn/nlp-course/chapter7/7?fw=pt\n",
    "\n",
    "Обучение проходит достаточно долго, поэтому подбирать гиперпарметры я не буду, поработаю со теми  значениями, которые чаще всего рекомендуют.\n",
    "\n",
    "В качестве моделей буду использовать:\n",
    "- DeepPavlov/rubert-base-cased\n",
    "\n",
    "\n",
    "\n",
    "## Импорт и обработка данных\n",
    "Импортируем датасет и посмотрим на длину контекстов в обучающем датасете."
   ]
  },
  {
   "cell_type": "code",
   "execution_count": 1,
   "id": "43270bab",
   "metadata": {},
   "outputs": [],
   "source": [
    "import pandas as pd\n",
    "import numpy as np"
   ]
  },
  {
   "cell_type": "code",
   "execution_count": 2,
   "id": "9038e394",
   "metadata": {},
   "outputs": [
    {
     "name": "stderr",
     "output_type": "stream",
     "text": [
      "Found cached dataset sberquad (C:/Users/Kate/.cache/huggingface/datasets/sberquad/sberquad/1.0.0/3e53185d0662a022bd749ec2b67b20499070efcbc1475428b0dad76c2cf8b06b)\n"
     ]
    },
    {
     "data": {
      "application/vnd.jupyter.widget-view+json": {
       "model_id": "2bdd97b41a4d4dae8ea05185643c4123",
       "version_major": 2,
       "version_minor": 0
      },
      "text/plain": [
       "  0%|          | 0/3 [00:00<?, ?it/s]"
      ]
     },
     "metadata": {},
     "output_type": "display_data"
    }
   ],
   "source": [
    "from datasets import load_dataset\n",
    "raw_datasets = load_dataset(\"sberquad\")"
   ]
  },
  {
   "cell_type": "code",
   "execution_count": 3,
   "id": "9e6a6eaf",
   "metadata": {},
   "outputs": [
    {
     "data": {
      "text/plain": [
       "DatasetDict({\n",
       "    train: Dataset({\n",
       "        features: ['id', 'title', 'context', 'question', 'answers'],\n",
       "        num_rows: 45328\n",
       "    })\n",
       "    validation: Dataset({\n",
       "        features: ['id', 'title', 'context', 'question', 'answers'],\n",
       "        num_rows: 5036\n",
       "    })\n",
       "    test: Dataset({\n",
       "        features: ['id', 'title', 'context', 'question', 'answers'],\n",
       "        num_rows: 23936\n",
       "    })\n",
       "})"
      ]
     },
     "execution_count": 3,
     "metadata": {},
     "output_type": "execute_result"
    }
   ],
   "source": [
    "raw_datasets"
   ]
  },
  {
   "cell_type": "code",
   "execution_count": 4,
   "id": "e949b719",
   "metadata": {},
   "outputs": [
    {
     "name": "stdout",
     "output_type": "stream",
     "text": [
      "Context:  В протерозойских отложениях органические остатки встречаются намного чаще, чем в архейских. Они представлены известковыми выделениями сине-зелёных водорослей, ходами червей, остатками кишечнополостных. Кроме известковых водорослей, к числу древнейших растительных остатков относятся скопления графито-углистого вещества, образовавшегося в результате разложения Corycium enigmaticum. В кремнистых сланцах железорудной формации Канады найдены нитевидные водоросли, грибные нити и формы, близкие современным кокколитофоридам. В железистых кварцитах Северной Америки и Сибири обнаружены железистые продукты жизнедеятельности бактерий.\n",
      "Question:  чем представлены органические остатки?\n",
      "Answer:  {'text': ['известковыми выделениями сине-зелёных водорослей'], 'answer_start': [109]}\n"
     ]
    }
   ],
   "source": [
    "print(\"Context: \", raw_datasets[\"train\"][0][\"context\"])\n",
    "print(\"Question: \", raw_datasets[\"train\"][0][\"question\"])\n",
    "print(\"Answer: \", raw_datasets[\"train\"][0][\"answers\"])"
   ]
  },
  {
   "cell_type": "code",
   "execution_count": 5,
   "id": "61dc5b74",
   "metadata": {},
   "outputs": [],
   "source": [
    "from transformers import AutoTokenizer\n",
    "tokenizer = AutoTokenizer.from_pretrained(\"DeepPavlov/rubert-base-cased\")"
   ]
  },
  {
   "cell_type": "code",
   "execution_count": 6,
   "id": "513f0607",
   "metadata": {},
   "outputs": [
    {
     "data": {
      "image/png": "[encoded data removed]",
      "text/plain": [
       "<Figure size 640x480 with 1 Axes>"
      ]
     },
     "metadata": {},
     "output_type": "display_data"
    }
   ],
   "source": [
    "import matplotlib.pyplot as plt\n",
    "plt.hist(list(map(len, raw_datasets['train']['context'])), bins = 100);"
   ]
  },
  {
   "cell_type": "markdown",
   "id": "21a28d26",
   "metadata": {},
   "source": [
    "Как оказалось, контексты довольно длинные и не войдут в стандартную длину токенов модели, поэтому воспользуемся предложенной авторами tutorial функцией, для разбивки текстов для длины 384 с окном 128. При этом в каждом части контекста будет определяться начальный и конечный токен ответа на вопрос (если он в нем есть).\n",
    "\n",
    "Для валидационной выборки воспользуемся похожей функцией, но без расчета позиций начального и конечного токена ответа на вопрос."
   ]
  },
  {
   "cell_type": "code",
   "execution_count": 7,
   "id": "266746b6",
   "metadata": {},
   "outputs": [],
   "source": [
    "max_length = 384\n",
    "stride = 128\n",
    "\n",
    "\n",
    "def preprocess_training_examples(examples):\n",
    "    questions = [q.strip() for q in examples[\"question\"]]\n",
    "    inputs = tokenizer(\n",
    "        questions,\n",
    "        examples[\"context\"],\n",
    "        max_length=max_length,\n",
    "        truncation=\"only_second\",\n",
    "        stride=stride,\n",
    "        return_overflowing_tokens=True,\n",
    "        return_offsets_mapping=True,\n",
    "        padding=\"max_length\",\n",
    "    )\n",
    "\n",
    "    offset_mapping = inputs.pop(\"offset_mapping\")\n",
    "    sample_map = inputs.pop(\"overflow_to_sample_mapping\")\n",
    "    answers = examples[\"answers\"]\n",
    "    start_positions = []\n",
    "    end_positions = []\n",
    "\n",
    "    for i, offset in enumerate(offset_mapping):\n",
    "        sample_idx = sample_map[i]\n",
    "        answer = answers[sample_idx]\n",
    "        start_char = answer[\"answer_start\"][0]\n",
    "        end_char = answer[\"answer_start\"][0] + len(answer[\"text\"][0])\n",
    "        sequence_ids = inputs.sequence_ids(i)\n",
    "\n",
    "        # Find the start and end of the context\n",
    "        idx = 0\n",
    "        while sequence_ids[idx] != 1:\n",
    "            idx += 1\n",
    "        context_start = idx\n",
    "        while sequence_ids[idx] == 1:\n",
    "            idx += 1\n",
    "        context_end = idx - 1\n",
    "\n",
    "        # If the answer is not fully inside the context, label is (0, 0)\n",
    "        if offset[context_start][0] > start_char or offset[context_end][1] < end_char:\n",
    "            start_positions.append(0)\n",
    "            end_positions.append(0)\n",
    "        else:\n",
    "            # Otherwise it's the start and end token positions\n",
    "            idx = context_start\n",
    "            while idx <= context_end and offset[idx][0] <= start_char:\n",
    "                idx += 1\n",
    "            start_positions.append(idx - 1)\n",
    "\n",
    "            idx = context_end\n",
    "            while idx >= context_start and offset[idx][1] >= end_char:\n",
    "                idx -= 1\n",
    "            end_positions.append(idx + 1)\n",
    "\n",
    "    inputs[\"start_positions\"] = start_positions\n",
    "    inputs[\"end_positions\"] = end_positions\n",
    "    return inputs"
   ]
  },
  {
   "cell_type": "code",
   "execution_count": 8,
   "id": "59acb474",
   "metadata": {},
   "outputs": [],
   "source": [
    "def preprocess_validation_examples(examples):\n",
    "    questions = [q.strip() for q in examples[\"question\"]]\n",
    "    inputs = tokenizer(\n",
    "        questions,\n",
    "        examples[\"context\"],\n",
    "        max_length=max_length,\n",
    "        truncation=\"only_second\",\n",
    "        stride=stride,\n",
    "        return_overflowing_tokens=True,\n",
    "        return_offsets_mapping=True,\n",
    "        padding=\"max_length\",\n",
    "    )\n",
    "\n",
    "    sample_map = inputs.pop(\"overflow_to_sample_mapping\")\n",
    "    example_ids = []\n",
    "\n",
    "    for i in range(len(inputs[\"input_ids\"])):\n",
    "        sample_idx = sample_map[i]\n",
    "        example_ids.append(examples[\"id\"][sample_idx])\n",
    "\n",
    "        sequence_ids = inputs.sequence_ids(i)\n",
    "        offset = inputs[\"offset_mapping\"][i]\n",
    "        inputs[\"offset_mapping\"][i] = [\n",
    "            o if sequence_ids[k] == 1 else None for k, o in enumerate(offset)\n",
    "        ]\n",
    "\n",
    "    inputs[\"example_id\"] = example_ids\n",
    "    return inputs"
   ]
  },
  {
   "cell_type": "code",
   "execution_count": 9,
   "id": "2c86e0e6",
   "metadata": {},
   "outputs": [],
   "source": [
    "#sample_train = raw_datasets['train'].select(range(1000))\n",
    "#sample_eval = raw_datasets['validation'].select(range(10))"
   ]
  },
  {
   "cell_type": "code",
   "execution_count": 10,
   "id": "c5c46ac2",
   "metadata": {},
   "outputs": [
    {
     "name": "stderr",
     "output_type": "stream",
     "text": [
      "Loading cached processed dataset at C:\\Users\\Kate\\.cache\\huggingface\\datasets\\sberquad\\sberquad\\1.0.0\\3e53185d0662a022bd749ec2b67b20499070efcbc1475428b0dad76c2cf8b06b\\cache-c7a9015d4f13853d.arrow\n",
      "Loading cached processed dataset at C:\\Users\\Kate\\.cache\\huggingface\\datasets\\sberquad\\sberquad\\1.0.0\\3e53185d0662a022bd749ec2b67b20499070efcbc1475428b0dad76c2cf8b06b\\cache-167c43688f4b023e.arrow\n",
      "Loading cached processed dataset at C:\\Users\\Kate\\.cache\\huggingface\\datasets\\sberquad\\sberquad\\1.0.0\\3e53185d0662a022bd749ec2b67b20499070efcbc1475428b0dad76c2cf8b06b\\cache-8c5cb914534751a1.arrow\n"
     ]
    }
   ],
   "source": [
    "train = raw_datasets['train'].map(\n",
    "    preprocess_training_examples,\n",
    "    batched=True,\n",
    "    remove_columns=raw_datasets['train'].column_names,\n",
    ")\n",
    "\n",
    "val = raw_datasets['validation'].map(\n",
    "    preprocess_validation_examples,\n",
    "    batched=True,\n",
    "    remove_columns=raw_datasets['validation'].column_names,\n",
    ")\n",
    "\n",
    "test = raw_datasets['test'].map(\n",
    "    preprocess_validation_examples,\n",
    "    batched=True,\n",
    "    remove_columns=raw_datasets['test'].column_names,\n",
    ")"
   ]
  },
  {
   "cell_type": "markdown",
   "id": "040dfce8",
   "metadata": {},
   "source": [
    "## Метрика качества\n",
    "\n",
    "Для squad_QA моделей существует специальная метрика squad https://huggingface.co/spaces/evaluate-metric/squad\n",
    "\n",
    "**For info:**\n",
    "The metric takes two files or two lists of question-answers dictionaries as inputs : one with the predictions of the model and the other with the references to be compared to.\n",
    "\n",
    "This metric outputs a dictionary with two values: the average exact match score and the average F1 score.\n",
    "\n",
    "- **Exact match** - % of answers that are matched\n",
    "- **F1** - standard average F1 for all classes\n",
    "\n",
    "Дополнительно посмотрим с помощью pipeline, как обученная модель работает с текстами."
   ]
  },
  {
   "cell_type": "code",
   "execution_count": 11,
   "id": "6854e80c",
   "metadata": {},
   "outputs": [],
   "source": [
    "import evaluate\n",
    "metric = evaluate.load(\"squad\")"
   ]
  },
  {
   "cell_type": "code",
   "execution_count": 12,
   "id": "f5d8e4ad",
   "metadata": {},
   "outputs": [],
   "source": [
    "from tqdm.auto import tqdm\n",
    "\n",
    "\n",
    "def compute_metrics(start_logits, end_logits, features, examples):\n",
    "    \n",
    "    example_to_features = collections.defaultdict(list)\n",
    "    for idx, feature in enumerate(features):\n",
    "        example_to_features[feature[\"example_id\"]].append(idx)\n",
    "\n",
    "    predicted_answers = []\n",
    "    for example in tqdm(examples):\n",
    "        example_id = example[\"id\"]\n",
    "        context = example[\"context\"]\n",
    "        answers = []\n",
    "\n",
    "        # Loop through all features associated with that example\n",
    "        for feature_index in example_to_features[example_id]:\n",
    "            start_logit = start_logits[feature_index]\n",
    "            end_logit = end_logits[feature_index]\n",
    "            offsets = features[feature_index][\"offset_mapping\"]\n",
    "\n",
    "            start_indexes = np.argsort(start_logit)[-1 : -n_best - 1 : -1].tolist()\n",
    "            end_indexes = np.argsort(end_logit)[-1 : -n_best - 1 : -1].tolist()\n",
    "            for start_index in start_indexes:\n",
    "                for end_index in end_indexes:\n",
    "                    # Skip answers that are not fully in the context\n",
    "                    if offsets[start_index] is None or offsets[end_index] is None:\n",
    "                        continue\n",
    "                    # Skip answers with a length that is either < 0 or > max_answer_length\n",
    "                    if (\n",
    "                        end_index < start_index\n",
    "                        or end_index - start_index + 1 > max_answer_length\n",
    "                    ):\n",
    "                        continue\n",
    "\n",
    "                    answer = {\n",
    "                        \"text\": context[offsets[start_index][0] : offsets[end_index][1]],\n",
    "                        \"logit_score\": start_logit[start_index] + end_logit[end_index],\n",
    "                    }\n",
    "                    answers.append(answer)\n",
    "\n",
    "        # Select the answer with the best score\n",
    "        if len(answers) > 0:\n",
    "            best_answer = max(answers, key=lambda x: x[\"logit_score\"])\n",
    "            predicted_answers.append(\n",
    "                {\"id\": str(example_id), \"prediction_text\": best_answer[\"text\"]}\n",
    "            )\n",
    "        else:\n",
    "            predicted_answers.append({\"id\": str(example_id), \"prediction_text\": \"\"})\n",
    "\n",
    "    theoretical_answers = [{\"id\": str(ex[\"id\"]), \"answers\": {'text':ex[\"answers\"]['text'],\n",
    "                                                        'answer_start':ex[\"answers\"]['answer_start']}, } for ex in examples]\n",
    "\n",
    "    return metric.compute(predictions=predicted_answers, references=theoretical_answers)"
   ]
  },
  {
   "cell_type": "markdown",
   "id": "99ea6776",
   "metadata": {},
   "source": [
    "## Обучение\n",
    "\n",
    "Для обучения буду использовать DefaultDataCollator и Trainer API. В качестве параметров возьму рекомендуемые learning rate + weight decay. Также добавлю параметр fp16, который должен помочь считать быстрее, но может привести к нестабильности расчетов. Так как это учебный пример, то, думаю, можно им воспользоваться."
   ]
  },
  {
   "cell_type": "code",
   "execution_count": 13,
   "id": "a4611cd7",
   "metadata": {},
   "outputs": [],
   "source": [
    "from transformers import DefaultDataCollator\n",
    "data_collator = DefaultDataCollator()"
   ]
  },
  {
   "cell_type": "code",
   "execution_count": 14,
   "id": "8c92d812",
   "metadata": {},
   "outputs": [
    {
     "name": "stderr",
     "output_type": "stream",
     "text": [
      "Some weights of the model checkpoint at DeepPavlov/rubert-base-cased were not used when initializing BertForQuestionAnswering: ['cls.predictions.decoder.bias', 'cls.predictions.transform.dense.bias', 'cls.predictions.transform.LayerNorm.weight', 'cls.predictions.decoder.weight', 'cls.predictions.transform.dense.weight', 'cls.predictions.bias', 'cls.seq_relationship.weight', 'cls.predictions.transform.LayerNorm.bias', 'cls.seq_relationship.bias']\n",
      "- This IS expected if you are initializing BertForQuestionAnswering from the checkpoint of a model trained on another task or with another architecture (e.g. initializing a BertForSequenceClassification model from a BertForPreTraining model).\n",
      "- This IS NOT expected if you are initializing BertForQuestionAnswering from the checkpoint of a model that you expect to be exactly identical (initializing a BertForSequenceClassification model from a BertForSequenceClassification model).\n",
      "Some weights of BertForQuestionAnswering were not initialized from the model checkpoint at DeepPavlov/rubert-base-cased and are newly initialized: ['qa_outputs.weight', 'qa_outputs.bias']\n",
      "You should probably TRAIN this model on a down-stream task to be able to use it for predictions and inference.\n"
     ]
    }
   ],
   "source": [
    "from transformers import AutoModelForQuestionAnswering, TrainingArguments, Trainer\n",
    "model = AutoModelForQuestionAnswering.from_pretrained('DeepPavlov/rubert-base-cased')"
   ]
  },
  {
   "cell_type": "code",
   "execution_count": 15,
   "id": "cb1fe4f5",
   "metadata": {},
   "outputs": [
    {
     "name": "stderr",
     "output_type": "stream",
     "text": [
      "C:\\Users\\Kate\\anaconda3\\lib\\site-packages\\transformers\\optimization.py:407: FutureWarning: This implementation of AdamW is deprecated and will be removed in a future version. Use the PyTorch implementation torch.optim.AdamW instead, or set `no_deprecation_warning=True` to disable this warning\n",
      "  warnings.warn(\n"
     ]
    },
    {
     "data": {
      "text/html": [
       "\n",
       "    <div>\n",
       "      \n",
       "      <progress value='5694' max='5694' style='width:300px; height:20px; vertical-align: middle;'></progress>\n",
       "      [5694/5694 1:13:23, Epoch 2/2]\n",
       "    </div>\n",
       "    <table border=\"1\" class=\"dataframe\">\n",
       "  <thead>\n",
       " <tr style=\"text-align: left;\">\n",
       "      <th>Epoch</th>\n",
       "      <th>Training Loss</th>\n",
       "      <th>Validation Loss</th>\n",
       "    </tr>\n",
       "  </thead>\n",
       "  <tbody>\n",
       "    <tr>\n",
       "      <td>1</td>\n",
       "      <td>1.609200</td>\n",
       "      <td>No log</td>\n",
       "    </tr>\n",
       "    <tr>\n",
       "      <td>2</td>\n",
       "      <td>1.273100</td>\n",
       "      <td>No log</td>\n",
       "    </tr>\n",
       "  </tbody>\n",
       "</table><p>"
      ],
      "text/plain": [
       "<IPython.core.display.HTML object>"
      ]
     },
     "metadata": {},
     "output_type": "display_data"
    },
    {
     "data": {
      "text/plain": [
       "TrainOutput(global_step=5694, training_loss=1.552716881256586, metrics={'train_runtime': 4405.8051, 'train_samples_per_second': 20.675, 'train_steps_per_second': 1.292, 'total_flos': 1.7850749233176576e+16, 'train_loss': 1.552716881256586, 'epoch': 2.0})"
      ]
     },
     "execution_count": 15,
     "metadata": {},
     "output_type": "execute_result"
    }
   ],
   "source": [
    "training_args = TrainingArguments(\n",
    "    output_dir=\"qa_model\",\n",
    "    learning_rate=2e-5,\n",
    "    per_device_train_batch_size=16,\n",
    "    per_device_eval_batch_size=16,\n",
    "    num_train_epochs=2,\n",
    "    weight_decay=0.001,\n",
    "    evaluation_strategy=\"epoch\",\n",
    "    push_to_hub=False,\n",
    "    save_strategy=\"no\", \n",
    "    fp16=True\n",
    "   \n",
    ")\n",
    "\n",
    "trainer = Trainer(\n",
    "    model=model,\n",
    "    args=training_args,\n",
    "    train_dataset=train,\n",
    "    eval_dataset=val,\n",
    "    tokenizer=tokenizer,\n",
    "    data_collator=data_collator,\n",
    "    \n",
    ")\n",
    "\n",
    "trainer.train()"
   ]
  },
  {
   "cell_type": "markdown",
   "id": "02c2563c",
   "metadata": {},
   "source": [
    "## Оценка качества\n",
    "\n",
    "Для оценки качества авторы предлагают использовать n_best start logits and end logits и ограничить длину ответа параметром max_answer_length."
   ]
  },
  {
   "cell_type": "code",
   "execution_count": 16,
   "id": "b8c1308a",
   "metadata": {},
   "outputs": [],
   "source": [
    "n_best=20\n",
    "max_answer_length = 30"
   ]
  },
  {
   "cell_type": "code",
   "execution_count": 17,
   "id": "f5e6e8c1",
   "metadata": {},
   "outputs": [
    {
     "data": {
      "text/html": [],
      "text/plain": [
       "<IPython.core.display.HTML object>"
      ]
     },
     "metadata": {},
     "output_type": "display_data"
    },
    {
     "data": {
      "application/vnd.jupyter.widget-view+json": {
       "model_id": "00c1b77134ea4c579aab21c19e04b946",
       "version_major": 2,
       "version_minor": 0
      },
      "text/plain": [
       "  0%|          | 0/5036 [00:00<?, ?it/s]"
      ]
     },
     "metadata": {},
     "output_type": "display_data"
    },
    {
     "data": {
      "text/plain": [
       "{'exact_match': 61.9142176330421, 'f1': 81.95959386550899}"
      ]
     },
     "execution_count": 17,
     "metadata": {},
     "output_type": "execute_result"
    }
   ],
   "source": [
    "import collections\n",
    "predictions, _, _ = trainer.predict(val)\n",
    "start_logits, end_logits = predictions\n",
    "\n",
    "compute_metrics(start_logits, end_logits, val, raw_datasets['validation'])"
   ]
  },
  {
   "cell_type": "code",
   "execution_count": 18,
   "id": "92162b61",
   "metadata": {},
   "outputs": [],
   "source": [
    "from transformers import pipeline\n",
    "\n",
    "question_answerer = pipeline(\"question-answering\", model=model, tokenizer = tokenizer, device = 0)"
   ]
  },
  {
   "cell_type": "code",
   "execution_count": 19,
   "id": "7fd65ade",
   "metadata": {},
   "outputs": [
    {
     "data": {
      "text/plain": [
       "device(type='cuda')"
      ]
     },
     "execution_count": 19,
     "metadata": {},
     "output_type": "execute_result"
    }
   ],
   "source": [
    "import torch\n",
    "device = torch.device ('cuda' if torch.cuda.is_available() else 'cpu')\n",
    "device                  "
   ]
  },
  {
   "cell_type": "code",
   "execution_count": 21,
   "id": "503bb455",
   "metadata": {},
   "outputs": [
    {
     "name": "stdout",
     "output_type": "stream",
     "text": [
      "{'id': 60544, 'title': 'SberChallenge', 'context': 'Первые упоминания о строении человеческого тела встречаются в Древнем Египте. В XXVII веке до н. э. египетский врач Имхотеп описал некоторые органы и их функции, в частности головной мозг, деятельность сердца, распространение крови по сосудам. В древнекитайской книге Нейцзин (XI—VII вв. до н. э.) упоминаются сердце, печень, лёгкие и другие органы тела человека. В индийской книге Аюрведа ( Знание жизни , IX-III вв. до н. э.) содержится большой объём анатомических данных о мышцах, нервах, типах телосложения и темперамента, головном и спинном мозге.', 'question': 'Где встречаются первые упоминания о строении человеческого тела?', 'answers': {'text': ['в Древнем Египте'], 'answer_start': [60]}}\n"
     ]
    },
    {
     "data": {
      "text/plain": [
       "{'score': 0.3006110191345215,\n",
       " 'start': 60,\n",
       " 'end': 76,\n",
       " 'answer': 'в Древнем Египте'}"
      ]
     },
     "execution_count": 21,
     "metadata": {},
     "output_type": "execute_result"
    }
   ],
   "source": [
    "print(raw_datasets['validation'][0])\n",
    "context = raw_datasets['validation'][0]['context']\n",
    "question = raw_datasets['validation'][0]['question']\n",
    "question_answerer(question=question, context=context)"
   ]
  },
  {
   "cell_type": "code",
   "execution_count": 24,
   "id": "ee9b4c07",
   "metadata": {},
   "outputs": [
    {
     "name": "stdout",
     "output_type": "stream",
     "text": [
      "{'id': 55742, 'title': 'SberChallenge', 'context': 'Судебная власть организована в форме пирамиды, основой которой в гражданской юстиции является мировой суд (фр. Justice de paix, нид. Vrederechter) и в уголовной юстиции — полицейские суды (фр. Tribunal de Police, нид. Politierechtbank), имеющийся в каждом судебном кантоне (фр. Canton judiciaire, нид. Gerechtelijk kanton), а верхушкой — Кассационный суд (фр. Cour de cassation, нид. Hof van Cassatie). Бельгия поделена на судебные кантоны и судебные округа. Каждый судебный округ (фр. Arrondissement judiciaire, нид. Gerechtelijk arrondissement) имеет суд первой инстанции (фр. Tribunal de première instance, нид. rechtbank van eerste aanleg), состоящий из палаты по гражданским вопросам (фр. chambres civiles, нид. kamer voor burgerlijke zaken), палаты по уголовным вопросам (фр. chambres correctionnelles, нид. kamer voor strafzaken) и палаты по молодёжным вопросам (фр. chambres de la jeunesse, нид. kamer voor jeugdzaken), трудовые суды (фр. Tribunal du Travail, нид. Arbeidsrechtbank) и торговые суды (фр. Tribunal de Commerce, нид. Rechtbank van koophandel). Также существует пять апелляционных судов (фр. Cour d’appel, нид. Hof van beroep), состоящие из палаты по гражданским, торговым и экономическим вопросам (нид. kamer voor burgerlijke zaken, handels- en economische zaken), палаты по уголовным вопросам (нид. kamer voor strafzaken), палаты молодёжным вопросам (нид. kamer voor jeugdzaken), и трудовые палаты (фр. Cour du Travail, нид. Arbeidshof) — в Брюсселе, Льеже, Монсе, Генте и Антверпене, и в каждой провинции — суд присяжных (фр. Cour d’Assises, нид. Hof van assisen).', 'question': 'Как организована судебная власть ?', 'answers': {'text': ['в форме пирамиды'], 'answer_start': [29]}}\n"
     ]
    },
    {
     "data": {
      "text/plain": [
       "{'score': 0.4312654435634613,\n",
       " 'start': 29,\n",
       " 'end': 45,\n",
       " 'answer': 'в форме пирамиды'}"
      ]
     },
     "execution_count": 24,
     "metadata": {},
     "output_type": "execute_result"
    }
   ],
   "source": [
    "print(raw_datasets['validation'][10])\n",
    "context = raw_datasets['validation'][10]['context']\n",
    "question = raw_datasets['validation'][10]['question']\n",
    "question_answerer(question=question, context=context)"
   ]
  },
  {
   "cell_type": "markdown",
   "id": "6423cd05",
   "metadata": {},
   "source": [
    "В принципе хорошо получилось: F1 получилось выше 81 и тексты тоже неплохо выглядят. \n",
    "\n",
    "\n",
    "## Тестирование модели в соревновании CodeLab\n",
    "\n",
    "Так как в тестовом датасете не проставлены правильные ответы, то протестируем модель на соревновании в CodeLab на этом же датасете https://codalab.lisn.upsaclay.fr/competitions/7335#learn_the_details. Для этого загрузим тестовый датасет с сайта и с помощью функции ниже заполним ответы."
   ]
  },
  {
   "cell_type": "code",
   "execution_count": 22,
   "id": "c4a09576",
   "metadata": {},
   "outputs": [],
   "source": [
    "def answer_quest(context, question):\n",
    "    answer = question_answerer(question=question, context=context)['answer']\n",
    "    start = question_answerer(question=question, context=context)['start']\n",
    "    return {'text':answer, 'answer_start':start}"
   ]
  },
  {
   "cell_type": "code",
   "execution_count": 39,
   "id": "72d34142",
   "metadata": {},
   "outputs": [],
   "source": [
    "import json\n",
    "with open('sbersquad_test_data_to_solve.json', 'r', encoding='utf-8') as f:\n",
    "    loaded = json.load(f)\n",
    "\n",
    "new = loaded"
   ]
  },
  {
   "cell_type": "code",
   "execution_count": 51,
   "id": "cc8fa942",
   "metadata": {},
   "outputs": [
    {
     "name": "stderr",
     "output_type": "stream",
     "text": [
      "C:\\Users\\Kate\\AppData\\Local\\Temp\\ipykernel_7628\\414300146.py:2: TqdmDeprecationWarning: This function will be removed in tqdm==5.0.0\n",
      "Please use `tqdm.notebook.tqdm` instead of `tqdm.tqdm_notebook`\n",
      "  for i in tqdm_notebook(new['paragraphs']):\n"
     ]
    },
    {
     "data": {
      "application/vnd.jupyter.widget-view+json": {
       "model_id": "88432a3f225f450a872430be3bc4ade6",
       "version_major": 2,
       "version_minor": 0
      },
      "text/plain": [
       "  0%|          | 0/4421 [00:00<?, ?it/s]"
      ]
     },
     "metadata": {},
     "output_type": "display_data"
    }
   ],
   "source": [
    "from tqdm import tqdm_notebook\n",
    "for i in tqdm_notebook(new['paragraphs']):\n",
    "     for j in i['qas']:\n",
    "            context =  i['context']\n",
    "            question = j['question']\n",
    "            j['answers'] = [answer_quest(context, question)]"
   ]
  },
  {
   "cell_type": "code",
   "execution_count": 52,
   "id": "802cee6b",
   "metadata": {},
   "outputs": [],
   "source": [
    " with open('sub.json',\"w\", encoding='utf8') as f:\n",
    "        json.dump(new, f, ensure_ascii=False)"
   ]
  },
  {
   "attachments": {
    "image.png": {
     "image/png": "[encoded data removed]"
    }
   },
   "cell_type": "markdown",
   "id": "dfe22e86",
   "metadata": {},
   "source": [
    "# Финальный вывод:\n",
    "\n",
    "Модель RuBERT неплохо справляется с задачами понимания текста в виде ответа на вопрос по содержанию текста без особых усилий по подбору гиперпараметров.\n",
    "\n",
    "Неплохие результаты модель показала на валидационной выборке F1 = 81% и в соревновании F1 = 84% и занять 3-е место в Leaderboard.\n",
    "\n",
    "![image.png](attachment:image.png)\n",
    "\n",
    "Ссылка на результаты соревнования: https://codalab.lisn.upsaclay.fr/competitions/7335#results"
   ]
  }
 ],
 "metadata": {
  "kernelspec": {
   "display_name": "Python 3 (ipykernel)",
   "language": "python",
   "name": "python3"
  },
  "language_info": {
   "codemirror_mode": {
    "name": "ipython",
    "version": 3
   },
   "file_extension": ".py",
   "mimetype": "text/x-python",
   "name": "python",
   "nbconvert_exporter": "python",
   "pygments_lexer": "ipython3",
   "version": "3.9.13"
  }
 },
 "nbformat": 4,
 "nbformat_minor": 5
}
